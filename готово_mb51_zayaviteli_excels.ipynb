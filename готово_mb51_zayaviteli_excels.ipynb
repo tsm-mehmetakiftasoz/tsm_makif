{
  "cells": [
    {
      "cell_type": "markdown",
      "metadata": {
        "id": "view-in-github",
        "colab_type": "text"
      },
      "source": [
        "<a href=\"https://colab.research.google.com/github/tsm-mehmetakiftasoz/tsm_makif/blob/main/%D0%B3%D0%BE%D1%82%D0%BE%D0%B2%D0%BE_mb51_zayaviteli_excels.ipynb\" target=\"_parent\"><img src=\"https://colab.research.google.com/assets/colab-badge.svg\" alt=\"Open In Colab\"/></a>"
      ]
    },
    {
      "cell_type": "code",
      "source": [
        "!pip install pandas\n",
        "!pip install xlsxwriter"
      ],
      "metadata": {
        "colab": {
          "base_uri": "https://localhost:8080/"
        },
        "id": "hJ7cIiKpshlr",
        "outputId": "45777ed9-3019-48fc-b52b-fe70bab597b5"
      },
      "execution_count": 1,
      "outputs": [
        {
          "output_type": "stream",
          "name": "stdout",
          "text": [
            "Requirement already satisfied: pandas in /usr/local/lib/python3.11/dist-packages (2.2.2)\n",
            "Requirement already satisfied: numpy>=1.23.2 in /usr/local/lib/python3.11/dist-packages (from pandas) (2.0.2)\n",
            "Requirement already satisfied: python-dateutil>=2.8.2 in /usr/local/lib/python3.11/dist-packages (from pandas) (2.9.0.post0)\n",
            "Requirement already satisfied: pytz>=2020.1 in /usr/local/lib/python3.11/dist-packages (from pandas) (2025.2)\n",
            "Requirement already satisfied: tzdata>=2022.7 in /usr/local/lib/python3.11/dist-packages (from pandas) (2025.2)\n",
            "Requirement already satisfied: six>=1.5 in /usr/local/lib/python3.11/dist-packages (from python-dateutil>=2.8.2->pandas) (1.17.0)\n",
            "Requirement already satisfied: xlsxwriter in /usr/local/lib/python3.11/dist-packages (3.2.5)\n"
          ]
        }
      ]
    },
    {
      "cell_type": "code",
      "source": [
        "import pandas as pd\n",
        "import numpy as np\n",
        "from google.colab import files\n",
        "\n",
        "import os\n",
        "import zipfile"
      ],
      "metadata": {
        "id": "8olyDS57tL42"
      },
      "execution_count": 2,
      "outputs": []
    },
    {
      "cell_type": "code",
      "source": [
        "df_mb51 = pd.read_csv('/content/MB51_base_CSV.csv', sep=None, engine='python')"
      ],
      "metadata": {
        "id": "xy3TAtT7tNBu"
      },
      "execution_count": 3,
      "outputs": []
    },
    {
      "cell_type": "code",
      "source": [
        "df_mb51['Общая стоимость остатков'] = df_mb51['Общая стоимость остатков'].astype(str).str.replace(',', '.', regex=False).astype(float).astype(int)"
      ],
      "metadata": {
        "id": "cxaZ77DqtO1v"
      },
      "execution_count": 4,
      "outputs": []
    },
    {
      "cell_type": "code",
      "source": [
        "#df_mb51.columns"
      ],
      "metadata": {
        "id": "ttyJcui6tSSX"
      },
      "execution_count": 5,
      "outputs": []
    },
    {
      "cell_type": "code",
      "source": [
        "result = df_mb51.groupby('Заявитель').agg({\n",
        "    'Дирекция': 'first',  # İlk değeri al\n",
        "    '﻿Завод': 'count',     # Satır sayısını al (metin olsa da sayar)\n",
        "    'Общая стоимость остатков': 'sum'  # Toplam maliyet\n",
        "}).reset_index()"
      ],
      "metadata": {
        "id": "pbGh86EBtUq_"
      },
      "execution_count": 6,
      "outputs": []
    },
    {
      "cell_type": "code",
      "source": [
        "#filtered_result = result[result['Заявитель'] == 'Pevtsov A.']"
      ],
      "metadata": {
        "id": "57wV0As8tWUx"
      },
      "execution_count": 7,
      "outputs": []
    },
    {
      "cell_type": "code",
      "source": [
        "#df_mb51.dtypes"
      ],
      "metadata": {
        "id": "OeJvKxystfI4"
      },
      "execution_count": 8,
      "outputs": []
    },
    {
      "cell_type": "code",
      "source": [
        "#burada tek kişi için yapılması istenirse yazılacak\n",
        "df_mb51_Pevtsova = df_mb51[df_mb51['Заявитель'] == 'Pevtsov A.'].copy()\n",
        "\n",
        "columns_order = [\n",
        "    '﻿Завод',\n",
        "    'Склад',\n",
        "    'Обозначение склада',\n",
        "    'Партия',\n",
        "    'Номер материала',\n",
        "    'RU Tanım',\n",
        "    'TR Tanım',\n",
        "    'На КонтрКачества',\n",
        "    'СвобИспользЗапас',\n",
        "    'Базовая ЕИ',\n",
        "    'Ст-ть/своб. испол.',\n",
        "    'Валюта',\n",
        "    'Имя 1',\n",
        "    'Вид материала',\n",
        "    'Группа материалов',\n",
        "    'Единица измерения веса',\n",
        "    'Ст-ть/контр.кач-ва',\n",
        "    'Общая стоимость остатков',\n",
        "    'Краткий текст материала',\n",
        "    'Проект/не проект',\n",
        "    'Заказ на поставку',\n",
        "    'Поставщик',\n",
        "    'Наименование поставщика',\n",
        "    'Заявитель',\n",
        "    'Инвентарный номер',\n",
        "    'Группа закупок',\n",
        "    'Наименование группы закупок',\n",
        "    'Наш знак',\n",
        "    '№ Позиции ZMB52',\n",
        "    'Дата ввода ZMB51',\n",
        "    'Продолжительность',\n",
        "    'Дирекция',\n",
        "    'Справочник'\n",
        "]\n",
        "\n",
        "df_mb51_Pevtsova = df_mb51_Pevtsova[columns_order]\n"
      ],
      "metadata": {
        "id": "OUn3KQw0tuEA"
      },
      "execution_count": 9,
      "outputs": []
    },
    {
      "cell_type": "code",
      "source": [
        "#df_mb51_Pevtsov.to_excel(\"df_mb51_Pevtsov.xlsx\", index=False, engine=\"xlsxwriter\")\n",
        "#files.download(\"df_mb51_Pevtsov.xlsx\")"
      ],
      "metadata": {
        "id": "pSLdpTeXt2Qe"
      },
      "execution_count": 10,
      "outputs": []
    },
    {
      "cell_type": "code",
      "source": [
        "#her bir zayaviteli için tek tek kaydetme\n",
        "# 1. Gerekli sütun sırasını tanımla\n",
        "columns_order = [\n",
        "    '﻿Завод', 'Склад', 'Обозначение склада', 'Партия', 'Номер материала',\n",
        "    'RU Tanım', 'TR Tanım', 'На КонтрКачества', 'СвобИспользЗапас', 'Базовая ЕИ',\n",
        "    'Ст-ть/своб. испол.', 'Валюта', 'Имя 1', 'Вид материала', 'Группа материалов',\n",
        "    'Единица измерения веса', 'Ст-ть/контр.кач-ва', 'Общая стоимость остатков',\n",
        "    'Краткий текст материала', 'Проект/не проект', 'Заказ на поставку', 'Поставщик',\n",
        "    'Наименование поставщика', 'Заявитель', 'Инвентарный номер', 'Группа закупок',\n",
        "    'Наименование группы закупок', 'Наш знак', '№ Позиции ZMB52', 'Дата ввода ZMB51',\n",
        "    'Продолжительность', 'Дирекция', 'Справочник'\n",
        "]\n",
        "\n",
        "# 2. Benzersiz Заявитель değerlerini al\n",
        "zayaviteli_list = df_mb51['Заявитель'].dropna().unique()\n",
        "\n",
        "# 3. Çıktıları kaydetmek için klasör oluştur (varsa geç)\n",
        "os.makedirs(\"zayaviteli_excels\", exist_ok=True)\n",
        "\n",
        "# 4. Her Заявитель için döngü\n",
        "for z_name in zayaviteli_list:\n",
        "    # Dosya adı için geçersiz karakterleri temizle\n",
        "    safe_name = \"\".join(c if c.isalnum() or c in \"._-\" else \"_\" for c in z_name)\n",
        "\n",
        "    # Filtreleme ve sütun sıralama\n",
        "    df_filtered = df_mb51[df_mb51['Заявитель'] == z_name].copy()\n",
        "\n",
        "    # Sütun kontrolü: eksik olanları atla (varsa uyarı verir)\n",
        "    missing_cols = [col for col in columns_order if col not in df_filtered.columns]\n",
        "    if missing_cols:\n",
        "        print(f\"{z_name} için eksik sütun(lar): {missing_cols}\")\n",
        "        continue\n",
        "\n",
        "    df_filtered = df_filtered[columns_order]\n",
        "\n",
        "    # Excel olarak kaydet\n",
        "    output_path = f\"zayaviteli_excels/df_mb51_{safe_name}.xlsx\"\n",
        "    df_filtered.to_excel(output_path, index=False)\n",
        "\n",
        "print(\"✅ Tüm dosyalar 'zayaviteli_excels/' klasörüne kaydedildi.\")"
      ],
      "metadata": {
        "colab": {
          "base_uri": "https://localhost:8080/"
        },
        "id": "4iF61jS-t6Ce",
        "outputId": "2f302afb-d476-4ae2-83a2-b97f67fe310a"
      },
      "execution_count": 11,
      "outputs": [
        {
          "output_type": "stream",
          "name": "stdout",
          "text": [
            "✅ Tüm dosyalar 'zayaviteli_excels/' klasörüne kaydedildi.\n"
          ]
        }
      ]
    },
    {
      "cell_type": "code",
      "source": [
        "zip_filename = \"zayaviteli_excels.zip\"\n",
        "\n",
        "with zipfile.ZipFile(zip_filename, 'w', zipfile.ZIP_DEFLATED) as zipf:\n",
        "    for root, dirs, files in os.walk(\"zayaviteli_excels\"):\n",
        "        for file in files:\n",
        "            if file.endswith(\".xlsx\"):\n",
        "                file_path = os.path.join(root, file)\n",
        "                zipf.write(file_path)"
      ],
      "metadata": {
        "id": "J9FqAODjuIQ7"
      },
      "execution_count": 12,
      "outputs": []
    },
    {
      "cell_type": "code",
      "source": [
        "from google.colab import files\n",
        "files.download(zip_filename)"
      ],
      "metadata": {
        "colab": {
          "base_uri": "https://localhost:8080/",
          "height": 17
        },
        "id": "Q6RYhmpJuMuT",
        "outputId": "3fbfb2cf-8a26-429c-c7c8-4a2202239774"
      },
      "execution_count": 13,
      "outputs": [
        {
          "output_type": "display_data",
          "data": {
            "text/plain": [
              "<IPython.core.display.Javascript object>"
            ],
            "application/javascript": [
              "\n",
              "    async function download(id, filename, size) {\n",
              "      if (!google.colab.kernel.accessAllowed) {\n",
              "        return;\n",
              "      }\n",
              "      const div = document.createElement('div');\n",
              "      const label = document.createElement('label');\n",
              "      label.textContent = `Downloading \"${filename}\": `;\n",
              "      div.appendChild(label);\n",
              "      const progress = document.createElement('progress');\n",
              "      progress.max = size;\n",
              "      div.appendChild(progress);\n",
              "      document.body.appendChild(div);\n",
              "\n",
              "      const buffers = [];\n",
              "      let downloaded = 0;\n",
              "\n",
              "      const channel = await google.colab.kernel.comms.open(id);\n",
              "      // Send a message to notify the kernel that we're ready.\n",
              "      channel.send({})\n",
              "\n",
              "      for await (const message of channel.messages) {\n",
              "        // Send a message to notify the kernel that we're ready.\n",
              "        channel.send({})\n",
              "        if (message.buffers) {\n",
              "          for (const buffer of message.buffers) {\n",
              "            buffers.push(buffer);\n",
              "            downloaded += buffer.byteLength;\n",
              "            progress.value = downloaded;\n",
              "          }\n",
              "        }\n",
              "      }\n",
              "      const blob = new Blob(buffers, {type: 'application/binary'});\n",
              "      const a = document.createElement('a');\n",
              "      a.href = window.URL.createObjectURL(blob);\n",
              "      a.download = filename;\n",
              "      div.appendChild(a);\n",
              "      a.click();\n",
              "      div.remove();\n",
              "    }\n",
              "  "
            ]
          },
          "metadata": {}
        },
        {
          "output_type": "display_data",
          "data": {
            "text/plain": [
              "<IPython.core.display.Javascript object>"
            ],
            "application/javascript": [
              "download(\"download_598adc7d-0be8-4678-9dfa-d49120e50c9e\", \"zayaviteli_excels.zip\", 3873279)"
            ]
          },
          "metadata": {}
        }
      ]
    },
    {
      "cell_type": "code",
      "source": [],
      "metadata": {
        "id": "gUpoW3zBvEFE"
      },
      "execution_count": 13,
      "outputs": []
    }
  ],
  "metadata": {
    "colab": {
      "name": "Welcome To Colab",
      "provenance": [],
      "include_colab_link": true
    },
    "kernelspec": {
      "display_name": "Python 3",
      "name": "python3"
    }
  },
  "nbformat": 4,
  "nbformat_minor": 0
}