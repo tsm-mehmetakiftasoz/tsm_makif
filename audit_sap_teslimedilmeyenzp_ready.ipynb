{
  "cells": [
    {
      "cell_type": "markdown",
      "metadata": {
        "id": "view-in-github",
        "colab_type": "text"
      },
      "source": [
        "<a href=\"https://colab.research.google.com/github/tsm-mehmetakiftasoz/tsm_makif/blob/main/audit_sap_teslimedilmeyenzp_ready.ipynb\" target=\"_parent\"><img src=\"https://colab.research.google.com/assets/colab-badge.svg\" alt=\"Open In Colab\"/></a>"
      ]
    },
    {
      "cell_type": "markdown",
      "source": [
        "ME2N Raporları yıllara göre (ME2N_2022,ME2N_2023,ME2N_2024,ME2N_2025) şeklinde alınmalı .Variant MAKIF rapor olmalı\n",
        "ME5A Raporları yıllara göre (ME5A_2022,ME5A_2023,ME5A_2024,ME5A_2025). Variant MAKIF rapor olmalı\n",
        "MM60 material_list bilgileri makif_report variantında alınmalı\n",
        "ZMM059 raporları yıllara göre alınmalı ancak 2024 de çok fazla veri olduğu için 2024 4 parçaya bölünmeli isimler ve tarihler şöyle olmalı\n",
        "\"ZMM059_2022\" 01.01.2022-31.12.2022\n",
        "\"ZMM059_2023\" 01.01.2023-31.12.2023\n",
        "\"ZMM059_2025\" 01.01.2025-31.12.2025\n",
        "\"ZMM059_2024-1\" 01.01.2024-23.04.2024\n",
        "\"ZMM059_2024-2\" 24.04.2024-15.07.2024\n",
        "\"ZMM059_2024-3\" 16.07.2024-29.11.2024\n",
        "\"ZMM059_2024-4\" 01.12.2024-31.12.2024"
      ],
      "metadata": {
        "id": "Xgh-iCOtlWAW"
      }
    },
    {
      "cell_type": "code",
      "source": [
        "!pip install pandas\n",
        "!pip install xlsxwriter"
      ],
      "metadata": {
        "colab": {
          "base_uri": "https://localhost:8080/"
        },
        "id": "beq5UMfF9Ve9",
        "outputId": "8981a2aa-7a46-4683-a0b7-a07fb8620cbd"
      },
      "execution_count": 209,
      "outputs": [
        {
          "output_type": "stream",
          "name": "stdout",
          "text": [
            "Requirement already satisfied: pandas in /usr/local/lib/python3.11/dist-packages (2.2.2)\n",
            "Requirement already satisfied: numpy>=1.23.2 in /usr/local/lib/python3.11/dist-packages (from pandas) (2.0.2)\n",
            "Requirement already satisfied: python-dateutil>=2.8.2 in /usr/local/lib/python3.11/dist-packages (from pandas) (2.9.0.post0)\n",
            "Requirement already satisfied: pytz>=2020.1 in /usr/local/lib/python3.11/dist-packages (from pandas) (2025.2)\n",
            "Requirement already satisfied: tzdata>=2022.7 in /usr/local/lib/python3.11/dist-packages (from pandas) (2025.2)\n",
            "Requirement already satisfied: six>=1.5 in /usr/local/lib/python3.11/dist-packages (from python-dateutil>=2.8.2->pandas) (1.17.0)\n",
            "Requirement already satisfied: xlsxwriter in /usr/local/lib/python3.11/dist-packages (3.2.3)\n"
          ]
        }
      ]
    },
    {
      "cell_type": "code",
      "source": [
        "import pandas as pd\n",
        "import numpy as np\n",
        "from google.colab import files"
      ],
      "metadata": {
        "id": "8v4T7G2Z9bvr"
      },
      "execution_count": 210,
      "outputs": []
    },
    {
      "cell_type": "code",
      "source": [
        "def temizle_ve_cevir(x):\n",
        "    try:\n",
        "        return str(int(float(x)))\n",
        "    except:\n",
        "        return str(x)\n"
      ],
      "metadata": {
        "id": "9O2SlTgQGRuz"
      },
      "execution_count": 211,
      "outputs": []
    },
    {
      "cell_type": "code",
      "source": [
        "def str_to_float(s):\n",
        "    if pd.isna(s):\n",
        "        return None\n",
        "    return float(s.replace(\".\", \"\").replace(\",\", \".\"))\n"
      ],
      "metadata": {
        "id": "81Dbu91aQ6qM"
      },
      "execution_count": 320,
      "outputs": []
    },
    {
      "cell_type": "code",
      "source": [
        "#ZMM059 Dosyalarını yüklemek\n",
        "df_zmm059_2022 = pd.read_csv('/content/ZMM059_2022.csv', sep=None, engine='python')\n",
        "df_zmm059_2023 = pd.read_csv('/content/ZMM059_2023.csv', sep=None, engine='python')\n",
        "df_zmm059_2024_1 = pd.read_csv('/content/ZMM059_2024-1.csv', sep=None, engine='python')\n",
        "df_zmm059_2024_2 = pd.read_csv('/content/ZMM059_2024-2.csv', sep=None, engine='python')\n",
        "df_zmm059_2024_3 = pd.read_csv('/content/ZMM059_2024-3.csv', sep=None, engine='python')\n",
        "df_zmm059_2024_4 = pd.read_csv('/content/ZMM059_2024-4.csv', sep=None, engine='python')\n",
        "df_zmm059_2025 = pd.read_csv('/content/ZMM059_2025.csv', sep=None, engine='python')\n",
        "\n",
        "\n",
        "# sep=None will automatically detect the delimiter\n",
        "# engine='python' is slower but more robust for complex cases"
      ],
      "metadata": {
        "id": "2yaQ1vxA9mkV"
      },
      "execution_count": 212,
      "outputs": []
    },
    {
      "cell_type": "code",
      "source": [
        "#ilk sutuna yıl yazdırma zmm059\n",
        "df_zmm059_2022[\"YIL\"] = \"2022\"\n",
        "cols = [\"YIL\"] + [col for col in df_zmm059_2022.columns if col != \"YIL\"]\n",
        "df_zmm059_2022 = df_zmm059_2022[cols]\n",
        "#\n",
        "df_zmm059_2023[\"YIL\"] = \"2023\"\n",
        "cols = [\"YIL\"] + [col for col in df_zmm059_2023.columns if col != \"YIL\"]\n",
        "df_zmm059_2023 = df_zmm059_2023[cols]\n",
        "#\n",
        "df_zmm059_2025[\"YIL\"] = \"2025\"\n",
        "cols = [\"YIL\"] + [col for col in df_zmm059_2025.columns if col != \"YIL\"]\n",
        "df_zmm059_2025 = df_zmm059_2025[cols]\n",
        "#\n",
        "df_zmm059_2024_1[\"YIL\"] = \"2024\"\n",
        "cols = [\"YIL\"] + [col for col in df_zmm059_2024_1.columns if col != \"YIL\"]\n",
        "df_zmm059_2024_1 = df_zmm059_2024_1[cols]\n",
        "#\n",
        "df_zmm059_2024_2[\"YIL\"] = \"2024\"\n",
        "cols = [\"YIL\"] + [col for col in df_zmm059_2024_2.columns if col != \"YIL\"]\n",
        "df_zmm059_2024_2 = df_zmm059_2024_2[cols]\n",
        "#\n",
        "df_zmm059_2024_3[\"YIL\"] = \"2024\"\n",
        "cols = [\"YIL\"] + [col for col in df_zmm059_2024_3.columns if col != \"YIL\"]\n",
        "df_zmm059_2024_3 = df_zmm059_2024_3[cols]\n",
        "#\n",
        "df_zmm059_2024_4[\"YIL\"] = \"2024\"\n",
        "cols = [\"YIL\"] + [col for col in df_zmm059_2024_4.columns if col != \"YIL\"]\n",
        "df_zmm059_2024_4 = df_zmm059_2024_4[cols]"
      ],
      "metadata": {
        "id": "Tz2mCC7D-zag"
      },
      "execution_count": 213,
      "outputs": []
    },
    {
      "cell_type": "code",
      "source": [
        " #ZMM059 DataFrame'leri bir listeye topla\n",
        "dfs = [df_zmm059_2022, df_zmm059_2023, df_zmm059_2024_1, df_zmm059_2024_2, df_zmm059_2024_3, df_zmm059_2024_4, df_zmm059_2025]\n",
        "\n",
        "# Hepsini birleştir\n",
        "df_zmm059_2022_2025 = pd.concat(dfs, ignore_index=True)\n",
        "#df_zmm059_2022_2025_ = pd.concat(dfs, ignore_index=True)\n",
        "# Kontrol için ilk satırlara bak\n",
        "#print(df_zmm059_2022_2025.tail(5))"
      ],
      "metadata": {
        "id": "GguzSjLk-21A"
      },
      "execution_count": 214,
      "outputs": []
    },
    {
      "cell_type": "code",
      "source": [
        "df_zmm059_2022_2025.rename(columns={'﻿Документ закупки': 'Документ_закупки'}, inplace=True)\n",
        "df_zmm059_2022_2025.columns.values[2] = \"Зп_Поз\""
      ],
      "metadata": {
        "id": "yP4A68V6IVvs"
      },
      "execution_count": 215,
      "outputs": []
    },
    {
      "cell_type": "code",
      "source": [
        "df_zmm059_2022_2025[\"ZP-ZPPOZ_zmm059\"] = (\n",
        "    df_zmm059_2022_2025[\"Документ_закупки\"].astype(str) + \"_\" + df_zmm059_2022_2025[\"Зп_Поз\"].astype(str)\n",
        ")"
      ],
      "metadata": {
        "id": "uHX6IyfIA_8j"
      },
      "execution_count": 216,
      "outputs": []
    },
    {
      "cell_type": "code",
      "source": [
        "#ME2N Raporlarını Yüklemek\n",
        "df_me2n_2022 = pd.read_csv('/content/ME2N_2022.csv', sep=None, engine='python')\n",
        "df_me2n_2023 = pd.read_csv('/content/ME2N_2023.csv', sep=None, engine='python')\n",
        "df_me2n_2024 = pd.read_csv('/content/ME2N_2024.csv', sep=None, engine='python')\n",
        "df_me2n_2025 = pd.read_csv('/content/ME2N_2025.csv', sep=None, engine='python')\n"
      ],
      "metadata": {
        "id": "o7Q3JK66-0WI"
      },
      "execution_count": 217,
      "outputs": []
    },
    {
      "cell_type": "code",
      "source": [
        "#ilk sutuna yıl yazdırma me2n\n",
        "df_me2n_2022[\"Год\"] = \"2022\"\n",
        "cols = [\"Год\"] + [col for col in df_me2n_2022.columns if col != \"Год\"]\n",
        "df_me2n_2022 = df_me2n_2022[cols]\n",
        "#\n",
        "df_me2n_2023[\"Год\"] = \"2023\"\n",
        "cols = [\"Год\"] + [col for col in df_me2n_2023.columns if col != \"Год\"]\n",
        "df_me2n_2023 = df_me2n_2023[cols]\n",
        "#\n",
        "df_me2n_2024[\"Год\"] = \"2024\"\n",
        "cols = [\"Год\"] + [col for col in df_me2n_2024.columns if col != \"Год\"]\n",
        "#\n",
        "df_me2n_2025[\"Год\"] = \"2025\"\n",
        "cols = [\"Год\"] + [col for col in df_me2n_2025.columns if col != \"Год\"]\n",
        "#"
      ],
      "metadata": {
        "id": "nVIh6W1eFZh8"
      },
      "execution_count": 218,
      "outputs": []
    },
    {
      "cell_type": "code",
      "source": [
        "#ME2N DataFrame'leri bir listeye topla\n",
        "dfs2 = [df_me2n_2022, df_me2n_2023, df_me2n_2024, df_me2n_2025]\n",
        "\n",
        "# Hepsini birleştir\n",
        "df_me2n_2022_2025 = pd.concat(dfs2, ignore_index=True)\n",
        "#df_me2n_2022_2025_ = pd.concat(dfs2, ignore_index=True)\n",
        "# Kontrol için ilk satırlara bak\n",
        "#print(df_me2n_2022_2025.tail(5))"
      ],
      "metadata": {
        "id": "kQNH_k1NFdm9"
      },
      "execution_count": 219,
      "outputs": []
    },
    {
      "cell_type": "code",
      "source": [
        "df_me2n_2022_2025.rename(columns={'﻿Документ закупки': 'Документ_закупки'}, inplace=True)\n",
        "df_me2n_2022_2025.columns.values[2] = \"Зп_Поз\""
      ],
      "metadata": {
        "id": "4M8wtWB9F5Uj"
      },
      "execution_count": 220,
      "outputs": []
    },
    {
      "cell_type": "code",
      "source": [
        "df_me2n_2022_2025[\"ZP-ZPPOZ_me2n\"] = (\n",
        "    df_me2n_2022_2025[\"Документ_закупки\"].astype(str) + \"_\" + df_me2n_2022_2025[\"Зп_Поз\"].astype(str)\n",
        ")"
      ],
      "metadata": {
        "id": "oaj7wngbGBbT"
      },
      "execution_count": 221,
      "outputs": []
    },
    {
      "cell_type": "code",
      "source": [
        "#me5a raporunu yüklemek\n",
        "df_me5a_2022 = pd.read_csv('/content/ME5A_2022.csv', sep=None, engine='python')\n",
        "df_me5a_2023 = pd.read_csv('/content/ME5A_2023.csv', sep=None, engine='python')\n",
        "df_me5a_2024 = pd.read_csv('/content/ME5A_2024.csv', sep=None, engine='python')\n",
        "df_me5a_2025 = pd.read_csv('/content/ME5A_2025.csv', sep=None, engine='python')\n",
        "\n",
        "\n",
        "# sep=None will automatically detect the delimiter\n",
        "# engine='python' is slower but more robust for complex cases"
      ],
      "metadata": {
        "id": "_Qo5YnJQ-2cg"
      },
      "execution_count": 222,
      "outputs": []
    },
    {
      "cell_type": "code",
      "source": [
        "#ME2N DataFrame'leri bir listeye topla\n",
        "dfs3 = [df_me5a_2022, df_me5a_2023, df_me5a_2024, df_me5a_2025]\n",
        "\n",
        "# Hepsini birleştir\n",
        "df_me5a_2022_2025 = pd.concat(dfs3, ignore_index=True)\n",
        "#df_me2n_2022_2025_ = pd.concat(dfs2, ignore_index=True)\n",
        "# Kontrol için ilk satırlara bak\n",
        "#print(df_me2n_2022_2025.tail(5))"
      ],
      "metadata": {
        "id": "fdocEJ-EFkVK"
      },
      "execution_count": 223,
      "outputs": []
    },
    {
      "cell_type": "code",
      "source": [
        "#tedarikçi isim dosyasını yüklemek\n",
        "df_tedarikci_listesi = pd.read_csv('/content/tedarikci_isim.csv', sep=None, engine='python')"
      ],
      "metadata": {
        "id": "lwVA7WKkHK75"
      },
      "execution_count": 224,
      "outputs": []
    },
    {
      "cell_type": "code",
      "source": [
        "#material listesini yüklemek\n",
        "df_material_list = pd.read_csv('/content/material_list.csv', sep=None, engine='python')"
      ],
      "metadata": {
        "id": "2D5IDc20Hzq2"
      },
      "execution_count": 225,
      "outputs": []
    },
    {
      "cell_type": "code",
      "source": [
        "#odeme listesini yüklemek\n",
        "df_odeme_tablosu = pd.read_csv('/content/odeme_tablosu.csv', sep=';', engine='python')"
      ],
      "metadata": {
        "id": "wgt14Hwknjmb"
      },
      "execution_count": 226,
      "outputs": []
    },
    {
      "cell_type": "code",
      "source": [
        "df_calisilan = df_zmm059_2022_2025.copy()"
      ],
      "metadata": {
        "id": "E8ABFbTdE_p0"
      },
      "execution_count": 227,
      "outputs": []
    },
    {
      "cell_type": "code",
      "source": [
        "#df_calisilan.columns"
      ],
      "metadata": {
        "id": "ijckSf_kuObf"
      },
      "execution_count": 228,
      "outputs": []
    },
    {
      "cell_type": "code",
      "source": [
        "sutun_listesi_str_calisilan = [\"Документ_закупки\",\"Зп_Поз\",\"Материал\",\"Заявка\",\"Позиция заявки\",\n",
        "                 \"Создал\"\n",
        "                 ]"
      ],
      "metadata": {
        "id": "9b5JhWDhW2eA"
      },
      "execution_count": 229,
      "outputs": []
    },
    {
      "cell_type": "code",
      "source": [
        "for s in sutun_listesi_str_calisilan:\n",
        "    # Apply the robust cleaning and conversion function\n",
        "    df_calisilan[s] = df_calisilan[s].apply(temizle_ve_cevir)"
      ],
      "metadata": {
        "id": "yJSb2XcUWzdk"
      },
      "execution_count": 230,
      "outputs": []
    },
    {
      "cell_type": "code",
      "source": [
        "sutun_listesi_str_me2n = [\"Документ_закупки\",\"Зп_Поз\",\"Материал\",\"Заявка\",\"Материал\"\n",
        "                 ]"
      ],
      "metadata": {
        "id": "-tQZG5blahB-"
      },
      "execution_count": 231,
      "outputs": []
    },
    {
      "cell_type": "code",
      "source": [
        "for s in sutun_listesi_str_me2n:\n",
        "    # Apply the robust cleaning and conversion function\n",
        "    df_me2n_2022_2025[s] = df_me2n_2022_2025[s].apply(temizle_ve_cevir)"
      ],
      "metadata": {
        "id": "skZsFusLaaPb"
      },
      "execution_count": 232,
      "outputs": []
    },
    {
      "cell_type": "code",
      "source": [
        "#df_calisilan.tail(2)"
      ],
      "metadata": {
        "id": "tFoJfgGzWfdF"
      },
      "execution_count": 233,
      "outputs": []
    },
    {
      "cell_type": "code",
      "source": [
        "df_calisilan[\"ZP-ZPPOZ_zmm059\"] = (\n",
        "    df_calisilan[\"Документ_закупки\"].astype(str) + \"_\" + df_calisilan[\"Зп_Поз\"].astype(str)\n",
        ")"
      ],
      "metadata": {
        "id": "6UgwfL28HzAo"
      },
      "execution_count": 234,
      "outputs": []
    },
    {
      "cell_type": "code",
      "source": [
        "df_calisilan[\"B3-B3POZ\"] = (\n",
        "    df_calisilan[\"Заявка\"].astype(str) + \"_\" + df_calisilan[\"Позиция заявки\"].astype(str)\n",
        ")"
      ],
      "metadata": {
        "id": "hV345n2cIDy_"
      },
      "execution_count": 235,
      "outputs": []
    },
    {
      "cell_type": "code",
      "source": [
        "df_me5a_2022_2025[\"B3-B3POZ\"] = (\n",
        "    df_me5a_2022_2025[\"﻿Заявка\"].astype(str) + \"_\" + df_me5a_2022_2025[\"Позиция заявки\"].astype(str)\n",
        ")"
      ],
      "metadata": {
        "id": "dURPQxh2JtvJ"
      },
      "execution_count": 236,
      "outputs": []
    },
    {
      "cell_type": "code",
      "source": [
        "df_calisilan[\"ZP-ZPPOZ_zmm059\"] = (\n",
        "    df_calisilan[\"Документ_закупки\"].astype(str) + \"_\" + df_calisilan[\"Зп_Поз\"].astype(str)\n",
        ")"
      ],
      "metadata": {
        "id": "ByBwSmm4Jw8x"
      },
      "execution_count": 237,
      "outputs": []
    },
    {
      "cell_type": "code",
      "source": [
        "#df_calisilan.tail(2)"
      ],
      "metadata": {
        "id": "fTIP97WWKDHj"
      },
      "execution_count": 238,
      "outputs": []
    },
    {
      "cell_type": "code",
      "source": [
        "df_calisilan.rename(columns={'YIL': 'ГОД'}, inplace=True)\n",
        "df_tedarikci_listesi.rename(columns={'kod': 'Поставщик'}, inplace=True)"
      ],
      "metadata": {
        "id": "sYRrM-hmKHf7"
      },
      "execution_count": 239,
      "outputs": []
    },
    {
      "cell_type": "code",
      "source": [
        "adetler = df_calisilan[\"B3-B3POZ\"].value_counts()"
      ],
      "metadata": {
        "id": "9NbCuXGTKVYm"
      },
      "execution_count": 240,
      "outputs": []
    },
    {
      "cell_type": "code",
      "source": [
        "mukerrer_kodlar = adetler[adetler > 1].index"
      ],
      "metadata": {
        "id": "h3hyTL6uKX1v"
      },
      "execution_count": 241,
      "outputs": []
    },
    {
      "cell_type": "code",
      "source": [
        "silinmesi_gerekenler = df_calisilan[\n",
        "    (df_calisilan[\"B3-B3POZ\"].isin(mukerrer_kodlar)) &\n",
        "    (df_calisilan[\"Документ_закупки\"].isna())\n",
        "\n",
        "]"
      ],
      "metadata": {
        "id": "7sbgKSmcKZD4"
      },
      "execution_count": 242,
      "outputs": []
    },
    {
      "cell_type": "code",
      "source": [
        "df_calisilan = df_calisilan.drop(silinmesi_gerekenler.index)"
      ],
      "metadata": {
        "id": "Zxtswj6XKaPQ"
      },
      "execution_count": 243,
      "outputs": []
    },
    {
      "cell_type": "code",
      "source": [
        "#print(f\"Kalan satır sayısı df_calısılan : {len(df_calisilan)}\")\n",
        "#print(f\"Kalan satır sayısı df_zmm059_2022_2025: {len(df_zmm059_2022_2025)}\") #burada df i değşitirmek gerek"
      ],
      "metadata": {
        "id": "2BQ7B5EQKctY"
      },
      "execution_count": 244,
      "outputs": []
    },
    {
      "cell_type": "code",
      "source": [
        "# Silmek istediğin sütunların index (pozisyon) numaraları\n",
        "#sil_indexler = [8,9,10,11,12,13,17,27,28,29,33,43,44,55,73,74,79,80,81,82,\n",
        "#                83,84,85,86,87,88,89,90,91,93,94,95,96,97,98,99,100,101,102\n",
        "#                ]  # 0'dan başlar, örneğin 2., 4. ve 6. sütun\n",
        "\n",
        "# Yeni DataFrame'i bu sütunlar hariç oluştur\n",
        "#df_calisilan = df_calisilan.drop(df_calisilan.columns[sil_indexler], axis=1)"
      ],
      "metadata": {
        "id": "PFY-PPSXKkS6"
      },
      "execution_count": 245,
      "outputs": []
    },
    {
      "cell_type": "code",
      "source": [
        "df_calisilan[\"ГОД\"] = df_calisilan[\"ГОД\"].astype(str)  # string'e çevirmek istersen\n",
        "\n",
        "# Replace NaN values with a placeholder integer (e.g., 0) before converting to int\n",
        "#df_calisilan[\"Документ_закупки\"] = df_calisilan[\"Документ_закупки\"].fillna(0).astype(int).astype(str)\n",
        "\n"
      ],
      "metadata": {
        "id": "b_wB3JauKr1b"
      },
      "execution_count": 246,
      "outputs": []
    },
    {
      "cell_type": "code",
      "source": [
        "df_calisilan[\"Поставщик\"] = df_calisilan[\"Поставщик\"].apply(temizle_ve_cevir)"
      ],
      "metadata": {
        "id": "BexDMl0YKsRy"
      },
      "execution_count": 247,
      "outputs": []
    },
    {
      "cell_type": "code",
      "source": [
        "# Tedarikçi sözlüğünü yine string anahtarlara göre oluştur\n",
        "tedarikci_dict = dict(zip(df_tedarikci_listesi.iloc[:, 0].astype(str), df_tedarikci_listesi.iloc[:, 1]))\n",
        "\n",
        "# Eşleştirme\n",
        "df_calisilan[\"имя_поставщика\"] = df_calisilan[\"Поставщик\"].map(tedarikci_dict)"
      ],
      "metadata": {
        "id": "U4yYXbzGKvH6"
      },
      "execution_count": 248,
      "outputs": []
    },
    {
      "cell_type": "code",
      "source": [
        "df_me5a_2022_2025[\"Материал\"] = df_me5a_2022_2025[\"Материал\"].apply(temizle_ve_cevir)"
      ],
      "metadata": {
        "id": "IxgonLH6Kw16"
      },
      "execution_count": 249,
      "outputs": []
    },
    {
      "cell_type": "code",
      "source": [
        "df_calisilan[\"Материал_B3\"] = df_calisilan[\"Материал\"].apply(temizle_ve_cevir)"
      ],
      "metadata": {
        "id": "3B87KIUHKyBi"
      },
      "execution_count": 250,
      "outputs": []
    },
    {
      "cell_type": "code",
      "source": [
        " # Sözlük oluştur (anahtar: B3-B3POZ, değer: Материал)\n",
        "b3_to_material_dict = dict(zip(df_me5a_2022_2025[\"B3-B3POZ\"].astype(str), df_me5a_2022_2025[\"Материал\"]))\n"
      ],
      "metadata": {
        "id": "f-t5iOi5K065"
      },
      "execution_count": 251,
      "outputs": []
    },
    {
      "cell_type": "code",
      "source": [
        "# B3-B3POZ'e göre eşleşen Материал'ları getir (yeni bir sütun olarak)\n",
        "df_calisilan[\"Материал_yeni\"] = df_calisilan[\"B3-B3POZ\"].astype(str).map(b3_to_material_dict)"
      ],
      "metadata": {
        "id": "ZBKr9r8BK5OU"
      },
      "execution_count": 252,
      "outputs": []
    },
    {
      "cell_type": "code",
      "source": [
        "# Sadece boş olan Материал hücrelerini, eşleşen değerle doldur\n",
        "df_calisilan[\"Материал_B3\"] = df_calisilan[\"Материал_B3\"].fillna(df_calisilan[\"Материал_yeni\"])\n",
        "# Geçici sütunu silelim\n",
        "df_calisilan.drop(columns=[\"Материал_yeni\"], inplace=True)"
      ],
      "metadata": {
        "id": "gt64jscbK857"
      },
      "execution_count": 253,
      "outputs": []
    },
    {
      "cell_type": "code",
      "source": [
        "# Sözlükleri oluştur\n",
        "ru_dict = dict(zip(df_material_list.iloc[:, 0].astype(str), df_material_list.iloc[:, 1]))\n",
        "tr_dict = dict(zip(df_material_list.iloc[:, 0].astype(str), df_material_list.iloc[:, 2]))\n",
        "\n",
        "# Eşleştir\n",
        "df_calisilan[\"RU Наименование\"] = df_calisilan[\"Материал_B3\"].astype(str).map(ru_dict)\n",
        "df_calisilan[\"TR Наименование\"] = df_calisilan[\"Материал_B3\"].astype(str).map(tr_dict)\n"
      ],
      "metadata": {
        "id": "5gnv5bEpK-jr"
      },
      "execution_count": 254,
      "outputs": []
    },
    {
      "cell_type": "code",
      "source": [
        "df_calisilan[\"Документ_закупки\"] = df_calisilan[\"Документ_закупки\"].replace(\"\", pd.NA)\n",
        "df_calisilan[\"Зп_Поз\"] = df_calisilan[\"Зп_Поз\"].replace(\"\", pd.NA)\n",
        "df_calisilan[\"Зп_Поз\"] = df_calisilan[\"Зп_Поз\"].replace(\" \", pd.NA)\n",
        "df_calisilan[\"Зп_Поз\"] = df_calisilan[\"Зп_Поз\"].replace(0, pd.NA)"
      ],
      "metadata": {
        "id": "eUcvQl9cLAXD"
      },
      "execution_count": 255,
      "outputs": []
    },
    {
      "cell_type": "code",
      "source": [
        "df_me2n_2022_2025['veri_kaynagi1'] = 'ME2N'"
      ],
      "metadata": {
        "id": "ebJMByoWuaIp"
      },
      "execution_count": 256,
      "outputs": []
    },
    {
      "cell_type": "code",
      "source": [
        "#df_me2n_2022_2025.columns"
      ],
      "metadata": {
        "id": "WEppMN-xwLy0"
      },
      "execution_count": 257,
      "outputs": []
    },
    {
      "cell_type": "code",
      "source": [
        "df_me2n_2022_2025 = df_me2n_2022_2025.rename(columns={\n",
        "    'Материал': 'Материал_ЗП',\n",
        "    #'eski_sutun_adi2': 'yeni_sutun_adi2'\n",
        "})\n"
      ],
      "metadata": {
        "id": "eg6BRqeuwDJB"
      },
      "execution_count": 258,
      "outputs": []
    },
    {
      "cell_type": "code",
      "source": [
        "df_yazdir = df_me2n_2022_2025[[\"ZP-ZPPOZ_me2n\"]].copy()"
      ],
      "metadata": {
        "id": "orvcG2tyLc1k"
      },
      "execution_count": 259,
      "outputs": []
    },
    {
      "cell_type": "code",
      "source": [
        "me2n_sutunlar = [\n",
        "    \"veri_kaynagi1\",\"Год\",\"Дата документа\",\"Документ_закупки\",\"Зп_Поз\",\"Индикатор удаления\",\n",
        "    \"Наш знак\",\"Ваш код\",\n",
        "    \"Заявка\",\"Материал_ЗП\",\"Наименование RU\",\"Наименование TR\",\n",
        "    \"Объем заказа\",\"еще поставить (количество)\",\"Складская ЕИ\",\"Еще для поставки (стоимость)\",\"Валюта\",\n",
        "    \"Инвентарный номер\",\"Имя поставщика\"\n",
        "]\n"
      ],
      "metadata": {
        "id": "ER4-9zstLDCj"
      },
      "execution_count": 260,
      "outputs": []
    },
    {
      "cell_type": "code",
      "source": [
        "# 1. ME2N'den doğrudan aktarma\n",
        "def aktar_me2n(df_me2n, df_yazdir, secilen_sutunlar):\n",
        "    for sutun in secilen_sutunlar:\n",
        "        if sutun in df_me2n.columns:\n",
        "            df_yazdir[sutun] = df_me2n[sutun]\n",
        "        else:\n",
        "            print(f\"Uyarı: '{sutun}' df_me2n_2022_2025 içinde bulunamadı.\")\n",
        "    return df_yazdir"
      ],
      "metadata": {
        "id": "vT1Lfe5BLNte"
      },
      "execution_count": 261,
      "outputs": []
    },
    {
      "cell_type": "code",
      "source": [
        "df_yazdir = aktar_me2n(df_me2n_2022_2025, df_yazdir, me2n_sutunlar)"
      ],
      "metadata": {
        "id": "6gISsdaVLO0F"
      },
      "execution_count": 262,
      "outputs": []
    },
    {
      "cell_type": "code",
      "source": [
        "df_calisilan.columns"
      ],
      "metadata": {
        "id": "EPjJ6KfEw6R9",
        "outputId": "859c3fc7-963e-4b01-89b4-62826c91f5a3",
        "colab": {
          "base_uri": "https://localhost:8080/"
        }
      },
      "execution_count": 263,
      "outputs": [
        {
          "output_type": "execute_result",
          "data": {
            "text/plain": [
              "Index(['ГОД', 'Документ_закупки', 'Зп_Поз', 'Индикатор удаления', 'неполн.',\n",
              "       'Материал', 'Заявка', 'Позиция заявки', 'Материалы тур.',\n",
              "       'Материалы анг.', 'Инвентарный номер в SAS', 'Количество ЗП',\n",
              "       'Минимальная цена ЗП', 'Минимальная цена ЗП.1', 'Минимальная цена ЗП.2',\n",
              "       'Единица ЗП', 'Цена нетто ЗП', 'Итого цена нетто', 'Валюта ЗП',\n",
              "       'Вид докум. закупки', 'Дата создания', 'Дата поставки',\n",
              "       'Дата доставки, одобренная Поставщиком', 'Группа закупок',\n",
              "       'Название ГрЗакупок', 'БЕ', 'Название фирмы', 'Закуп. организация',\n",
              "       'Название ЗакупОрг', 'Завод', 'Имя 1', 'Поставщик', 'Группа материалов',\n",
              "       'Название группы', 'Краткий текст', 'Создал', 'Вид докум. закупки.1',\n",
              "       'Обозначение ВидДокум', 'Дата создания.1', 'Создал.1',\n",
              "       'Группа закупок.1', 'Название ГрЗакупок.1', 'ЕИ заказа на постав.',\n",
              "       'Единица цены', 'Цена заказа нетто', 'Стоимость брутто', 'Валюта',\n",
              "       'Недопоставленное количество', 'Количество поставки', 'Сумма брутто',\n",
              "       'Валюта.1', 'Количество по счету', 'Дата проводки',\n",
              "       'Количество по счету.1', 'Валюта.2', 'Остаток количества по счету',\n",
              "       'Остаток суммы по счету', 'Автор Внутреннего заказа',\n",
              "       'Количество по счету.2', 'Значок \"поставка завершена\"',\n",
              "       'Дата контракта', 'Дата вступления в силу контракта',\n",
              "       'Дата окончания действия договора', 'Склад', '№ комиссии',\n",
              "       'ZP-ZPPOZ_zmm059', 'B3-B3POZ', 'имя_поставщика', 'Материал_B3',\n",
              "       'RU Наименование', 'TR Наименование'],\n",
              "      dtype='object')"
            ]
          },
          "metadata": {},
          "execution_count": 263
        }
      ]
    },
    {
      "cell_type": "code",
      "source": [],
      "metadata": {
        "id": "S95q6jDtxezU"
      },
      "execution_count": 263,
      "outputs": []
    },
    {
      "cell_type": "code",
      "source": [
        "df_calisilan = df_calisilan.rename(columns={\n",
        "    'Материал': 'Материал_ВЗ',\n",
        "    'Значок \"поставка завершена\"': 'Значок -поставка завершена-'\n",
        "})"
      ],
      "metadata": {
        "id": "hUHKlxbaLRW2"
      },
      "execution_count": 264,
      "outputs": []
    },
    {
      "cell_type": "code",
      "source": [
        "df_calisilan['veri_kaynagi2'] = 'ZMM059'"
      ],
      "metadata": {
        "id": "T1LAlCL4t1Lh"
      },
      "execution_count": 265,
      "outputs": []
    },
    {
      "cell_type": "code",
      "source": [
        "calisilan_sutunlar = [\n",
        "    \"veri_kaynagi2\",\"B3-B3POZ\",\"Позиция заявки\",\"неполн.\",\"Создал\",\n",
        "    \"Группа закупок\",\"Название ГрЗакупок\" ,\"БЕ\",\"Название фирмы\",\"Группа материалов\",\"Название группы\",\n",
        "    \"Автор Внутреннего заказа\",\"Закуп. организация\", \"Завод\",\n",
        "    \"Значок -поставка завершена-\" ,\"Склад\"\n",
        "]\n"
      ],
      "metadata": {
        "id": "GC2FRNR-LpDB"
      },
      "execution_count": 266,
      "outputs": []
    },
    {
      "cell_type": "code",
      "source": [
        "#df_calisilan.tail(2)"
      ],
      "metadata": {
        "id": "L_oy9d2WMFQs"
      },
      "execution_count": 267,
      "outputs": []
    },
    {
      "cell_type": "code",
      "source": [
        "def aktar_calisilan(df_calisilan, df_yazdir, secilen_sutunlar):\n",
        "    ortak_anahtar_calisilan = \"ZP-ZPPOZ_zmm059\"\n",
        "    ortak_anahtar_yazdir = \"ZP-ZPPOZ_me2n\"\n",
        "\n",
        "    for sutun in secilen_sutunlar:\n",
        "        if sutun in df_calisilan.columns:\n",
        "            # Mapping için dictionary oluştur\n",
        "            dict_sutun = df_calisilan.set_index(ortak_anahtar_calisilan)[sutun].to_dict()\n",
        "            # df_yazdir’a map ile aktar\n",
        "            df_yazdir[sutun] = df_yazdir[ortak_anahtar_yazdir].map(dict_sutun)\n",
        "        else:\n",
        "            print(f\"Uyarı: '{sutun}' df_calisilan içinde bulunamadı.\")\n",
        "\n",
        "    return df_yazdir\n"
      ],
      "metadata": {
        "id": "Ickdrhz5Lq3I"
      },
      "execution_count": 268,
      "outputs": []
    },
    {
      "cell_type": "code",
      "source": [
        "#df_yazdir.head(2)"
      ],
      "metadata": {
        "id": "41gfQHbiM-8E"
      },
      "execution_count": 269,
      "outputs": []
    },
    {
      "cell_type": "code",
      "source": [
        "df_yazdir = aktar_calisilan(df_calisilan, df_yazdir, calisilan_sutunlar)"
      ],
      "metadata": {
        "id": "kV8xN6hjLr6R"
      },
      "execution_count": 270,
      "outputs": []
    },
    {
      "cell_type": "code",
      "source": [
        "#df_yazdir.tail(2)\n",
        "df_yazdir.columns"
      ],
      "metadata": {
        "colab": {
          "base_uri": "https://localhost:8080/"
        },
        "id": "1SbGP-XdbuXs",
        "outputId": "288645d1-2956-42ac-e2c5-c533c87f569b"
      },
      "execution_count": 271,
      "outputs": [
        {
          "output_type": "execute_result",
          "data": {
            "text/plain": [
              "Index(['ZP-ZPPOZ_me2n', 'veri_kaynagi1', 'Год', 'Дата документа',\n",
              "       'Документ_закупки', 'Зп_Поз', 'Индикатор удаления', 'Наш знак',\n",
              "       'Ваш код', 'Заявка', 'Материал_ЗП', 'Наименование RU',\n",
              "       'Наименование TR', 'Объем заказа', 'еще поставить (количество)',\n",
              "       'Складская ЕИ', 'Еще для поставки (стоимость)', 'Валюта',\n",
              "       'Инвентарный номер', 'Имя поставщика', 'veri_kaynagi2', 'B3-B3POZ',\n",
              "       'Позиция заявки', 'неполн.', 'Создал', 'Группа закупок',\n",
              "       'Название ГрЗакупок', 'БЕ', 'Название фирмы', 'Группа материалов',\n",
              "       'Название группы', 'Автор Внутреннего заказа', 'Закуп. организация',\n",
              "       'Завод', 'Значок -поставка завершена-', 'Склад'],\n",
              "      dtype='object')"
            ]
          },
          "metadata": {},
          "execution_count": 271
        }
      ]
    },
    {
      "cell_type": "code",
      "source": [
        "#df_me2n_2022_2025.tail(2)"
      ],
      "metadata": {
        "id": "DQ-XCBj4v-7C"
      },
      "execution_count": 272,
      "outputs": []
    },
    {
      "cell_type": "markdown",
      "source": [
        "audite yönelik"
      ],
      "metadata": {
        "id": "IyXP_gNcoTRc"
      }
    },
    {
      "cell_type": "code",
      "source": [
        "df_audit = df_yazdir.copy()\n"
      ],
      "metadata": {
        "id": "lPbj4XMh0jHZ"
      },
      "execution_count": 306,
      "outputs": []
    },
    {
      "cell_type": "code",
      "source": [
        "sutun_listesi_str_audit = [\"Закуп. организация\",\"БЕ\"]\n",
        ""
      ],
      "metadata": {
        "id": "s_owo0Ip1JpJ"
      },
      "execution_count": 307,
      "outputs": []
    },
    {
      "cell_type": "code",
      "source": [
        "for s in sutun_listesi_str_audit:\n",
        "    # Apply the robust cleaning and conversion function\n",
        "    df_audit[s] = df_audit[s].apply(temizle_ve_cevir)"
      ],
      "metadata": {
        "id": "R8RfrHSu1KoI"
      },
      "execution_count": 308,
      "outputs": []
    },
    {
      "cell_type": "code",
      "source": [
        "# Önce sayısal sütunları ',' yerine '.' ile düzeltip float yapalım\n",
        "#for col in [\"Объем заказа\", \"еще поставить (количество)\", \"Еще для поставки (стоимость)\"]:\n",
        "#    df_audit[col] = df_audit[col].astype(str).str.replace(',', '.').str.replace(' ', '')\n",
        "#    df_audit[col] = df_audit[col].str.replace('\\xa0', '')  # Boşluk karakterlerini temizle\n",
        "#    df_audit[col] = pd.to_numeric(df_audit[col], errors='coerce')"
      ],
      "metadata": {
        "id": "5XQjDs9BDocZ"
      },
      "execution_count": 284,
      "outputs": []
    },
    {
      "cell_type": "code",
      "source": [
        "columns_to_convert = [\n",
        "    \"Объем заказа\",\n",
        "    \"еще поставить (количество)\",\n",
        "    \"Еще для поставки (стоимость)\"\n",
        "]\n"
      ],
      "metadata": {
        "id": "kraSAVBtQbRi"
      },
      "execution_count": 313,
      "outputs": []
    },
    {
      "cell_type": "code",
      "source": [
        "for col in columns_to_convert:\n",
        "    df_audit[col] = df_audit[col].apply(str_to_float)\n"
      ],
      "metadata": {
        "id": "7d45btFuQdSd"
      },
      "execution_count": 315,
      "outputs": []
    },
    {
      "cell_type": "code",
      "source": [
        "#df_audit.info()"
      ],
      "metadata": {
        "id": "NKVG_F5nCv1t",
        "outputId": "2b0641eb-057d-4654-d055-ad277e304123",
        "colab": {
          "base_uri": "https://localhost:8080/"
        }
      },
      "execution_count": 316,
      "outputs": [
        {
          "output_type": "stream",
          "name": "stdout",
          "text": [
            "<class 'pandas.core.frame.DataFrame'>\n",
            "RangeIndex: 294346 entries, 0 to 294345\n",
            "Data columns (total 36 columns):\n",
            " #   Column                        Non-Null Count   Dtype  \n",
            "---  ------                        --------------   -----  \n",
            " 0   ZP-ZPPOZ_me2n                 294346 non-null  object \n",
            " 1   veri_kaynagi1                 294346 non-null  object \n",
            " 2   Год                           294346 non-null  object \n",
            " 3   Дата документа                294346 non-null  object \n",
            " 4   Документ_закупки              294346 non-null  object \n",
            " 5   Зп_Поз                        294346 non-null  object \n",
            " 6   Индикатор удаления            21828 non-null   object \n",
            " 7   Наш знак                      283792 non-null  object \n",
            " 8   Ваш код                       291591 non-null  object \n",
            " 9   Заявка                        294346 non-null  object \n",
            " 10  Материал_ЗП                   294346 non-null  object \n",
            " 11  Наименование RU               293325 non-null  object \n",
            " 12  Наименование TR               293287 non-null  object \n",
            " 13  Объем заказа                  294346 non-null  float64\n",
            " 14  еще поставить (количество)    294346 non-null  float64\n",
            " 15  Складская ЕИ                  293326 non-null  object \n",
            " 16  Еще для поставки (стоимость)  294346 non-null  float64\n",
            " 17  Валюта                        292421 non-null  object \n",
            " 18  Инвентарный номер             238897 non-null  object \n",
            " 19  Имя поставщика                292421 non-null  object \n",
            " 20  veri_kaynagi2                 293854 non-null  object \n",
            " 21  B3-B3POZ                      293854 non-null  object \n",
            " 22  Позиция заявки                293854 non-null  object \n",
            " 23  неполн.                       4016 non-null    object \n",
            " 24  Создал                        293854 non-null  object \n",
            " 25  Группа закупок                293854 non-null  object \n",
            " 26  Название ГрЗакупок            293835 non-null  object \n",
            " 27  БЕ                            294346 non-null  object \n",
            " 28  Название фирмы                293854 non-null  object \n",
            " 29  Группа материалов             293854 non-null  object \n",
            " 30  Название группы               293852 non-null  object \n",
            " 31  Автор Внутреннего заказа      10891 non-null   object \n",
            " 32  Закуп. организация            294346 non-null  object \n",
            " 33  Завод                         293854 non-null  object \n",
            " 34  Значок -поставка завершена-   228385 non-null  object \n",
            " 35  Склад                         12681 non-null   object \n",
            "dtypes: float64(3), object(33)\n",
            "memory usage: 80.8+ MB\n"
          ]
        }
      ]
    },
    {
      "cell_type": "code",
      "source": [
        "df_audit_aradf = df_audit[\n",
        "    (df_audit[\"Еще для поставки (стоимость)\"] > 0) &\n",
        "    (df_audit[\"Индикатор удаления\"].isna())\n",
        "].copy()\n"
      ],
      "metadata": {
        "id": "_E0Di-N6Hqii"
      },
      "execution_count": 317,
      "outputs": []
    },
    {
      "cell_type": "code",
      "source": [
        "# Gruplama işlemi\n",
        "df_audit_teslimedilmeyen = (\n",
        "    df_audit_aradf\n",
        "    .groupby(\"Документ_закупки\", as_index=False)\n",
        "    .agg({\n",
        "        \"Закуп. организация\": \"first\",\n",
        "        \"Год\": \"first\",\n",
        "        \"Создал\": \"first\",\n",
        "        \"Наш знак\": \"first\",\n",
        "        \"Ваш код\": \"first\",\n",
        "        \"Объем заказа\": \"sum\",\n",
        "        \"еще поставить (количество)\": \"sum\",\n",
        "        \"Еще для поставки (стоимость)\": \"sum\",\n",
        "        \"Валюта\": \"first\"\n",
        "    })\n",
        ")\n"
      ],
      "metadata": {
        "id": "wF4Zxp6YCqyX"
      },
      "execution_count": 326,
      "outputs": []
    },
    {
      "cell_type": "code",
      "source": [
        "df_audit_teslimedilmeyen[\"Закуп. организация\"] = (\n",
        "    df_audit_teslimedilmeyen[\"Закуп. организация\"]\n",
        "    .replace({\n",
        "        \"2991\": \"Construction of TSM\",\n",
        "        \"2992\": \"Mechanical of TSM\",\n",
        "        \"2993\": \"Electrical of TSM\",\n",
        "        \"2994\": \"Mechanization of TSM\",\n",
        "        \"2990\": \"TSM Energy\"\n",
        "    })\n",
        ")"
      ],
      "metadata": {
        "id": "JZeRe1MQRoyl"
      },
      "execution_count": 327,
      "outputs": []
    },
    {
      "cell_type": "code",
      "source": [
        "df_audit_teslimedilmeyen.rename(columns={'Объем заказ': 'сумма Объем заказа'}, inplace=True)\n",
        "df_audit_teslimedilmeyen.rename(columns={'еще поставить (количество)': 'сумма еще поставить (количество)'}, inplace=True)\n",
        "df_audit_teslimedilmeyen.rename(columns={'Еще для поставки (стоимость)': 'сумма Еще для поставки (стоимость)'}, inplace=True)\n",
        "# Sonuç\n",
        "df_audit_teslimedilmeyen.head(15)"
      ],
      "metadata": {
        "id": "FhGTd0d9I0GW",
        "outputId": "c3c3d566-c78b-428c-b11b-079f550dfd67",
        "colab": {
          "base_uri": "https://localhost:8080/",
          "height": 520
        }
      },
      "execution_count": 328,
      "outputs": [
        {
          "output_type": "execute_result",
          "data": {
            "text/plain": [
              "   Документ_закупки   Закуп. организация   Год        Создал     Наш знак  \\\n",
              "0        3100000011  Construction of TSM  2022      DPANTEEV  PO AK-C-187   \n",
              "1        3100000012  Construction of TSM  2022      DPANTEEV  PO АК-C-187   \n",
              "2        3100000013  Construction of TSM  2022      DPANTEEV  PO АК-C-112   \n",
              "3        3100000026  Construction of TSM  2022    ZHUSEYNOVA     AK-C-274   \n",
              "4        3100000034  Construction of TSM  2022  FANNAKULIEVA    AK-NP-766   \n",
              "5        3100000039  Construction of TSM  2022      GTORAMAN    AK-NP-718   \n",
              "6        3100000048  Construction of TSM  2022  FANNAKULIEVA    AK-NP-784   \n",
              "7        3100000064  Construction of TSM  2022      DPANTEEV    AK-6681.1   \n",
              "8        3100000065  Construction of TSM  2022       ZDURMAZ    AK-NP-761   \n",
              "9        3100000068  Construction of TSM  2022       EYILDIZ     AK-C-310   \n",
              "10       3100000080  Construction of TSM  2022       EYILDIZ    AK-C-81.4   \n",
              "11       3100000081  Construction of TSM  2022       ZDURMAZ    AK-NP-834   \n",
              "12       3100000090  Construction of TSM  2022       ZDURMAZ    AK-NP-764   \n",
              "13       3100000119  Construction of TSM  2022       ZDURMAZ    AK-NP-770   \n",
              "14       3100000134  Construction of TSM  2022       EYILDIZ      AK-6863   \n",
              "\n",
              "         Ваш код  Объем заказа  сумма еще поставить (количество)  \\\n",
              "0    PO AK-C-187       25872.0                           25872.0   \n",
              "1    PO АК-C-187       25872.0                            3872.0   \n",
              "2    PO АК-C-112       18940.0                           15068.0   \n",
              "3    PO_AK-C-274        3150.0                            3150.0   \n",
              "4      AK-NP-766         100.0                             100.0   \n",
              "5      AK-NP-718         300.0                             300.0   \n",
              "6      AK-NP-784         204.0                             204.0   \n",
              "7   07-22-818 02          32.0                              32.0   \n",
              "8      AK-NP-761        1116.0                            1116.0   \n",
              "9       AK-C-310        5750.0                              28.0   \n",
              "10     AK-C-81.4         500.0                             500.0   \n",
              "11     AK-NP-834        2100.0                            2100.0   \n",
              "12     AK-NP-764          20.0                              20.0   \n",
              "13     AK-NP-770          30.0                              30.0   \n",
              "14       AK-6863       10008.0                           10008.0   \n",
              "\n",
              "    сумма Еще для поставки (стоимость) Валюта  \n",
              "0                             27165.60    USD  \n",
              "1                              4065.60    USD  \n",
              "2                             15821.40    USD  \n",
              "3                              1039.50    EUR  \n",
              "4                               100.20    USD  \n",
              "5                              6525.00    TRY  \n",
              "6                               218.28    USD  \n",
              "7                           1403160.00    USD  \n",
              "8                             44640.00    TRY  \n",
              "9                                86.04    USD  \n",
              "10                              750.00    USD  \n",
              "11                            87675.00    TRY  \n",
              "12                              695.00    USD  \n",
              "13                              650.00    USD  \n",
              "14                            24219.36    USD  "
            ],
            "text/html": [
              "\n",
              "  <div id=\"df-e23c6184-f334-4752-8aad-2108f2e48fe4\" class=\"colab-df-container\">\n",
              "    <div>\n",
              "<style scoped>\n",
              "    .dataframe tbody tr th:only-of-type {\n",
              "        vertical-align: middle;\n",
              "    }\n",
              "\n",
              "    .dataframe tbody tr th {\n",
              "        vertical-align: top;\n",
              "    }\n",
              "\n",
              "    .dataframe thead th {\n",
              "        text-align: right;\n",
              "    }\n",
              "</style>\n",
              "<table border=\"1\" class=\"dataframe\">\n",
              "  <thead>\n",
              "    <tr style=\"text-align: right;\">\n",
              "      <th></th>\n",
              "      <th>Документ_закупки</th>\n",
              "      <th>Закуп. организация</th>\n",
              "      <th>Год</th>\n",
              "      <th>Создал</th>\n",
              "      <th>Наш знак</th>\n",
              "      <th>Ваш код</th>\n",
              "      <th>Объем заказа</th>\n",
              "      <th>сумма еще поставить (количество)</th>\n",
              "      <th>сумма Еще для поставки (стоимость)</th>\n",
              "      <th>Валюта</th>\n",
              "    </tr>\n",
              "  </thead>\n",
              "  <tbody>\n",
              "    <tr>\n",
              "      <th>0</th>\n",
              "      <td>3100000011</td>\n",
              "      <td>Construction of TSM</td>\n",
              "      <td>2022</td>\n",
              "      <td>DPANTEEV</td>\n",
              "      <td>PO AK-C-187</td>\n",
              "      <td>PO AK-C-187</td>\n",
              "      <td>25872.0</td>\n",
              "      <td>25872.0</td>\n",
              "      <td>27165.60</td>\n",
              "      <td>USD</td>\n",
              "    </tr>\n",
              "    <tr>\n",
              "      <th>1</th>\n",
              "      <td>3100000012</td>\n",
              "      <td>Construction of TSM</td>\n",
              "      <td>2022</td>\n",
              "      <td>DPANTEEV</td>\n",
              "      <td>PO АК-C-187</td>\n",
              "      <td>PO АК-C-187</td>\n",
              "      <td>25872.0</td>\n",
              "      <td>3872.0</td>\n",
              "      <td>4065.60</td>\n",
              "      <td>USD</td>\n",
              "    </tr>\n",
              "    <tr>\n",
              "      <th>2</th>\n",
              "      <td>3100000013</td>\n",
              "      <td>Construction of TSM</td>\n",
              "      <td>2022</td>\n",
              "      <td>DPANTEEV</td>\n",
              "      <td>PO АК-C-112</td>\n",
              "      <td>PO АК-C-112</td>\n",
              "      <td>18940.0</td>\n",
              "      <td>15068.0</td>\n",
              "      <td>15821.40</td>\n",
              "      <td>USD</td>\n",
              "    </tr>\n",
              "    <tr>\n",
              "      <th>3</th>\n",
              "      <td>3100000026</td>\n",
              "      <td>Construction of TSM</td>\n",
              "      <td>2022</td>\n",
              "      <td>ZHUSEYNOVA</td>\n",
              "      <td>AK-C-274</td>\n",
              "      <td>PO_AK-C-274</td>\n",
              "      <td>3150.0</td>\n",
              "      <td>3150.0</td>\n",
              "      <td>1039.50</td>\n",
              "      <td>EUR</td>\n",
              "    </tr>\n",
              "    <tr>\n",
              "      <th>4</th>\n",
              "      <td>3100000034</td>\n",
              "      <td>Construction of TSM</td>\n",
              "      <td>2022</td>\n",
              "      <td>FANNAKULIEVA</td>\n",
              "      <td>AK-NP-766</td>\n",
              "      <td>AK-NP-766</td>\n",
              "      <td>100.0</td>\n",
              "      <td>100.0</td>\n",
              "      <td>100.20</td>\n",
              "      <td>USD</td>\n",
              "    </tr>\n",
              "    <tr>\n",
              "      <th>5</th>\n",
              "      <td>3100000039</td>\n",
              "      <td>Construction of TSM</td>\n",
              "      <td>2022</td>\n",
              "      <td>GTORAMAN</td>\n",
              "      <td>AK-NP-718</td>\n",
              "      <td>AK-NP-718</td>\n",
              "      <td>300.0</td>\n",
              "      <td>300.0</td>\n",
              "      <td>6525.00</td>\n",
              "      <td>TRY</td>\n",
              "    </tr>\n",
              "    <tr>\n",
              "      <th>6</th>\n",
              "      <td>3100000048</td>\n",
              "      <td>Construction of TSM</td>\n",
              "      <td>2022</td>\n",
              "      <td>FANNAKULIEVA</td>\n",
              "      <td>AK-NP-784</td>\n",
              "      <td>AK-NP-784</td>\n",
              "      <td>204.0</td>\n",
              "      <td>204.0</td>\n",
              "      <td>218.28</td>\n",
              "      <td>USD</td>\n",
              "    </tr>\n",
              "    <tr>\n",
              "      <th>7</th>\n",
              "      <td>3100000064</td>\n",
              "      <td>Construction of TSM</td>\n",
              "      <td>2022</td>\n",
              "      <td>DPANTEEV</td>\n",
              "      <td>AK-6681.1</td>\n",
              "      <td>07-22-818 02</td>\n",
              "      <td>32.0</td>\n",
              "      <td>32.0</td>\n",
              "      <td>1403160.00</td>\n",
              "      <td>USD</td>\n",
              "    </tr>\n",
              "    <tr>\n",
              "      <th>8</th>\n",
              "      <td>3100000065</td>\n",
              "      <td>Construction of TSM</td>\n",
              "      <td>2022</td>\n",
              "      <td>ZDURMAZ</td>\n",
              "      <td>AK-NP-761</td>\n",
              "      <td>AK-NP-761</td>\n",
              "      <td>1116.0</td>\n",
              "      <td>1116.0</td>\n",
              "      <td>44640.00</td>\n",
              "      <td>TRY</td>\n",
              "    </tr>\n",
              "    <tr>\n",
              "      <th>9</th>\n",
              "      <td>3100000068</td>\n",
              "      <td>Construction of TSM</td>\n",
              "      <td>2022</td>\n",
              "      <td>EYILDIZ</td>\n",
              "      <td>AK-C-310</td>\n",
              "      <td>AK-C-310</td>\n",
              "      <td>5750.0</td>\n",
              "      <td>28.0</td>\n",
              "      <td>86.04</td>\n",
              "      <td>USD</td>\n",
              "    </tr>\n",
              "    <tr>\n",
              "      <th>10</th>\n",
              "      <td>3100000080</td>\n",
              "      <td>Construction of TSM</td>\n",
              "      <td>2022</td>\n",
              "      <td>EYILDIZ</td>\n",
              "      <td>AK-C-81.4</td>\n",
              "      <td>AK-C-81.4</td>\n",
              "      <td>500.0</td>\n",
              "      <td>500.0</td>\n",
              "      <td>750.00</td>\n",
              "      <td>USD</td>\n",
              "    </tr>\n",
              "    <tr>\n",
              "      <th>11</th>\n",
              "      <td>3100000081</td>\n",
              "      <td>Construction of TSM</td>\n",
              "      <td>2022</td>\n",
              "      <td>ZDURMAZ</td>\n",
              "      <td>AK-NP-834</td>\n",
              "      <td>AK-NP-834</td>\n",
              "      <td>2100.0</td>\n",
              "      <td>2100.0</td>\n",
              "      <td>87675.00</td>\n",
              "      <td>TRY</td>\n",
              "    </tr>\n",
              "    <tr>\n",
              "      <th>12</th>\n",
              "      <td>3100000090</td>\n",
              "      <td>Construction of TSM</td>\n",
              "      <td>2022</td>\n",
              "      <td>ZDURMAZ</td>\n",
              "      <td>AK-NP-764</td>\n",
              "      <td>AK-NP-764</td>\n",
              "      <td>20.0</td>\n",
              "      <td>20.0</td>\n",
              "      <td>695.00</td>\n",
              "      <td>USD</td>\n",
              "    </tr>\n",
              "    <tr>\n",
              "      <th>13</th>\n",
              "      <td>3100000119</td>\n",
              "      <td>Construction of TSM</td>\n",
              "      <td>2022</td>\n",
              "      <td>ZDURMAZ</td>\n",
              "      <td>AK-NP-770</td>\n",
              "      <td>AK-NP-770</td>\n",
              "      <td>30.0</td>\n",
              "      <td>30.0</td>\n",
              "      <td>650.00</td>\n",
              "      <td>USD</td>\n",
              "    </tr>\n",
              "    <tr>\n",
              "      <th>14</th>\n",
              "      <td>3100000134</td>\n",
              "      <td>Construction of TSM</td>\n",
              "      <td>2022</td>\n",
              "      <td>EYILDIZ</td>\n",
              "      <td>AK-6863</td>\n",
              "      <td>AK-6863</td>\n",
              "      <td>10008.0</td>\n",
              "      <td>10008.0</td>\n",
              "      <td>24219.36</td>\n",
              "      <td>USD</td>\n",
              "    </tr>\n",
              "  </tbody>\n",
              "</table>\n",
              "</div>\n",
              "    <div class=\"colab-df-buttons\">\n",
              "\n",
              "  <div class=\"colab-df-container\">\n",
              "    <button class=\"colab-df-convert\" onclick=\"convertToInteractive('df-e23c6184-f334-4752-8aad-2108f2e48fe4')\"\n",
              "            title=\"Convert this dataframe to an interactive table.\"\n",
              "            style=\"display:none;\">\n",
              "\n",
              "  <svg xmlns=\"http://www.w3.org/2000/svg\" height=\"24px\" viewBox=\"0 -960 960 960\">\n",
              "    <path d=\"M120-120v-720h720v720H120Zm60-500h600v-160H180v160Zm220 220h160v-160H400v160Zm0 220h160v-160H400v160ZM180-400h160v-160H180v160Zm440 0h160v-160H620v160ZM180-180h160v-160H180v160Zm440 0h160v-160H620v160Z\"/>\n",
              "  </svg>\n",
              "    </button>\n",
              "\n",
              "  <style>\n",
              "    .colab-df-container {\n",
              "      display:flex;\n",
              "      gap: 12px;\n",
              "    }\n",
              "\n",
              "    .colab-df-convert {\n",
              "      background-color: #E8F0FE;\n",
              "      border: none;\n",
              "      border-radius: 50%;\n",
              "      cursor: pointer;\n",
              "      display: none;\n",
              "      fill: #1967D2;\n",
              "      height: 32px;\n",
              "      padding: 0 0 0 0;\n",
              "      width: 32px;\n",
              "    }\n",
              "\n",
              "    .colab-df-convert:hover {\n",
              "      background-color: #E2EBFA;\n",
              "      box-shadow: 0px 1px 2px rgba(60, 64, 67, 0.3), 0px 1px 3px 1px rgba(60, 64, 67, 0.15);\n",
              "      fill: #174EA6;\n",
              "    }\n",
              "\n",
              "    .colab-df-buttons div {\n",
              "      margin-bottom: 4px;\n",
              "    }\n",
              "\n",
              "    [theme=dark] .colab-df-convert {\n",
              "      background-color: #3B4455;\n",
              "      fill: #D2E3FC;\n",
              "    }\n",
              "\n",
              "    [theme=dark] .colab-df-convert:hover {\n",
              "      background-color: #434B5C;\n",
              "      box-shadow: 0px 1px 3px 1px rgba(0, 0, 0, 0.15);\n",
              "      filter: drop-shadow(0px 1px 2px rgba(0, 0, 0, 0.3));\n",
              "      fill: #FFFFFF;\n",
              "    }\n",
              "  </style>\n",
              "\n",
              "    <script>\n",
              "      const buttonEl =\n",
              "        document.querySelector('#df-e23c6184-f334-4752-8aad-2108f2e48fe4 button.colab-df-convert');\n",
              "      buttonEl.style.display =\n",
              "        google.colab.kernel.accessAllowed ? 'block' : 'none';\n",
              "\n",
              "      async function convertToInteractive(key) {\n",
              "        const element = document.querySelector('#df-e23c6184-f334-4752-8aad-2108f2e48fe4');\n",
              "        const dataTable =\n",
              "          await google.colab.kernel.invokeFunction('convertToInteractive',\n",
              "                                                    [key], {});\n",
              "        if (!dataTable) return;\n",
              "\n",
              "        const docLinkHtml = 'Like what you see? Visit the ' +\n",
              "          '<a target=\"_blank\" href=https://colab.research.google.com/notebooks/data_table.ipynb>data table notebook</a>'\n",
              "          + ' to learn more about interactive tables.';\n",
              "        element.innerHTML = '';\n",
              "        dataTable['output_type'] = 'display_data';\n",
              "        await google.colab.output.renderOutput(dataTable, element);\n",
              "        const docLink = document.createElement('div');\n",
              "        docLink.innerHTML = docLinkHtml;\n",
              "        element.appendChild(docLink);\n",
              "      }\n",
              "    </script>\n",
              "  </div>\n",
              "\n",
              "\n",
              "    <div id=\"df-909c5d4b-69e9-4481-884d-4354a205b61c\">\n",
              "      <button class=\"colab-df-quickchart\" onclick=\"quickchart('df-909c5d4b-69e9-4481-884d-4354a205b61c')\"\n",
              "                title=\"Suggest charts\"\n",
              "                style=\"display:none;\">\n",
              "\n",
              "<svg xmlns=\"http://www.w3.org/2000/svg\" height=\"24px\"viewBox=\"0 0 24 24\"\n",
              "     width=\"24px\">\n",
              "    <g>\n",
              "        <path d=\"M19 3H5c-1.1 0-2 .9-2 2v14c0 1.1.9 2 2 2h14c1.1 0 2-.9 2-2V5c0-1.1-.9-2-2-2zM9 17H7v-7h2v7zm4 0h-2V7h2v10zm4 0h-2v-4h2v4z\"/>\n",
              "    </g>\n",
              "</svg>\n",
              "      </button>\n",
              "\n",
              "<style>\n",
              "  .colab-df-quickchart {\n",
              "      --bg-color: #E8F0FE;\n",
              "      --fill-color: #1967D2;\n",
              "      --hover-bg-color: #E2EBFA;\n",
              "      --hover-fill-color: #174EA6;\n",
              "      --disabled-fill-color: #AAA;\n",
              "      --disabled-bg-color: #DDD;\n",
              "  }\n",
              "\n",
              "  [theme=dark] .colab-df-quickchart {\n",
              "      --bg-color: #3B4455;\n",
              "      --fill-color: #D2E3FC;\n",
              "      --hover-bg-color: #434B5C;\n",
              "      --hover-fill-color: #FFFFFF;\n",
              "      --disabled-bg-color: #3B4455;\n",
              "      --disabled-fill-color: #666;\n",
              "  }\n",
              "\n",
              "  .colab-df-quickchart {\n",
              "    background-color: var(--bg-color);\n",
              "    border: none;\n",
              "    border-radius: 50%;\n",
              "    cursor: pointer;\n",
              "    display: none;\n",
              "    fill: var(--fill-color);\n",
              "    height: 32px;\n",
              "    padding: 0;\n",
              "    width: 32px;\n",
              "  }\n",
              "\n",
              "  .colab-df-quickchart:hover {\n",
              "    background-color: var(--hover-bg-color);\n",
              "    box-shadow: 0 1px 2px rgba(60, 64, 67, 0.3), 0 1px 3px 1px rgba(60, 64, 67, 0.15);\n",
              "    fill: var(--button-hover-fill-color);\n",
              "  }\n",
              "\n",
              "  .colab-df-quickchart-complete:disabled,\n",
              "  .colab-df-quickchart-complete:disabled:hover {\n",
              "    background-color: var(--disabled-bg-color);\n",
              "    fill: var(--disabled-fill-color);\n",
              "    box-shadow: none;\n",
              "  }\n",
              "\n",
              "  .colab-df-spinner {\n",
              "    border: 2px solid var(--fill-color);\n",
              "    border-color: transparent;\n",
              "    border-bottom-color: var(--fill-color);\n",
              "    animation:\n",
              "      spin 1s steps(1) infinite;\n",
              "  }\n",
              "\n",
              "  @keyframes spin {\n",
              "    0% {\n",
              "      border-color: transparent;\n",
              "      border-bottom-color: var(--fill-color);\n",
              "      border-left-color: var(--fill-color);\n",
              "    }\n",
              "    20% {\n",
              "      border-color: transparent;\n",
              "      border-left-color: var(--fill-color);\n",
              "      border-top-color: var(--fill-color);\n",
              "    }\n",
              "    30% {\n",
              "      border-color: transparent;\n",
              "      border-left-color: var(--fill-color);\n",
              "      border-top-color: var(--fill-color);\n",
              "      border-right-color: var(--fill-color);\n",
              "    }\n",
              "    40% {\n",
              "      border-color: transparent;\n",
              "      border-right-color: var(--fill-color);\n",
              "      border-top-color: var(--fill-color);\n",
              "    }\n",
              "    60% {\n",
              "      border-color: transparent;\n",
              "      border-right-color: var(--fill-color);\n",
              "    }\n",
              "    80% {\n",
              "      border-color: transparent;\n",
              "      border-right-color: var(--fill-color);\n",
              "      border-bottom-color: var(--fill-color);\n",
              "    }\n",
              "    90% {\n",
              "      border-color: transparent;\n",
              "      border-bottom-color: var(--fill-color);\n",
              "    }\n",
              "  }\n",
              "</style>\n",
              "\n",
              "      <script>\n",
              "        async function quickchart(key) {\n",
              "          const quickchartButtonEl =\n",
              "            document.querySelector('#' + key + ' button');\n",
              "          quickchartButtonEl.disabled = true;  // To prevent multiple clicks.\n",
              "          quickchartButtonEl.classList.add('colab-df-spinner');\n",
              "          try {\n",
              "            const charts = await google.colab.kernel.invokeFunction(\n",
              "                'suggestCharts', [key], {});\n",
              "          } catch (error) {\n",
              "            console.error('Error during call to suggestCharts:', error);\n",
              "          }\n",
              "          quickchartButtonEl.classList.remove('colab-df-spinner');\n",
              "          quickchartButtonEl.classList.add('colab-df-quickchart-complete');\n",
              "        }\n",
              "        (() => {\n",
              "          let quickchartButtonEl =\n",
              "            document.querySelector('#df-909c5d4b-69e9-4481-884d-4354a205b61c button');\n",
              "          quickchartButtonEl.style.display =\n",
              "            google.colab.kernel.accessAllowed ? 'block' : 'none';\n",
              "        })();\n",
              "      </script>\n",
              "    </div>\n",
              "\n",
              "    </div>\n",
              "  </div>\n"
            ],
            "application/vnd.google.colaboratory.intrinsic+json": {
              "type": "dataframe",
              "variable_name": "df_audit_teslimedilmeyen",
              "summary": "{\n  \"name\": \"df_audit_teslimedilmeyen\",\n  \"rows\": 3343,\n  \"fields\": [\n    {\n      \"column\": \"\\u0414\\u043e\\u043a\\u0443\\u043c\\u0435\\u043d\\u0442_\\u0437\\u0430\\u043a\\u0443\\u043f\\u043a\\u0438\",\n      \"properties\": {\n        \"dtype\": \"string\",\n        \"num_unique_values\": 3343,\n        \"samples\": [\n          \"3100003648\",\n          \"3100006931\",\n          \"3100005679\"\n        ],\n        \"semantic_type\": \"\",\n        \"description\": \"\"\n      }\n    },\n    {\n      \"column\": \"\\u0417\\u0430\\u043a\\u0443\\u043f. \\u043e\\u0440\\u0433\\u0430\\u043d\\u0438\\u0437\\u0430\\u0446\\u0438\\u044f\",\n      \"properties\": {\n        \"dtype\": \"category\",\n        \"num_unique_values\": 6,\n        \"samples\": [\n          \"Construction of TSM\",\n          \"Mechanical of TSM\",\n          \"nan\"\n        ],\n        \"semantic_type\": \"\",\n        \"description\": \"\"\n      }\n    },\n    {\n      \"column\": \"\\u0413\\u043e\\u0434\",\n      \"properties\": {\n        \"dtype\": \"object\",\n        \"num_unique_values\": 4,\n        \"samples\": [\n          \"2023\",\n          \"2025\",\n          \"2022\"\n        ],\n        \"semantic_type\": \"\",\n        \"description\": \"\"\n      }\n    },\n    {\n      \"column\": \"\\u0421\\u043e\\u0437\\u0434\\u0430\\u043b\",\n      \"properties\": {\n        \"dtype\": \"category\",\n        \"num_unique_values\": 81,\n        \"samples\": [\n          \"TURMANOV\",\n          \"DPANTEEV\",\n          \"EMILAEVA\"\n        ],\n        \"semantic_type\": \"\",\n        \"description\": \"\"\n      }\n    },\n    {\n      \"column\": \"\\u041d\\u0430\\u0448 \\u0437\\u043d\\u0430\\u043a\",\n      \"properties\": {\n        \"dtype\": \"string\",\n        \"num_unique_values\": 1873,\n        \"samples\": [\n          \"AK-P-111\",\n          \"\\u0421\\u043f\\u0435\\u0446 210\",\n          \"POAKNPMM3065\"\n        ],\n        \"semantic_type\": \"\",\n        \"description\": \"\"\n      }\n    },\n    {\n      \"column\": \"\\u0412\\u0430\\u0448 \\u043a\\u043e\\u0434\",\n      \"properties\": {\n        \"dtype\": \"string\",\n        \"num_unique_values\": 1707,\n        \"samples\": [\n          \"AK-C-891\",\n          \"AK-EM-750\",\n          \"AKNPEM2966\"\n        ],\n        \"semantic_type\": \"\",\n        \"description\": \"\"\n      }\n    },\n    {\n      \"column\": \"\\u041e\\u0431\\u044a\\u0435\\u043c \\u0437\\u0430\\u043a\\u0430\\u0437\\u0430\",\n      \"properties\": {\n        \"dtype\": \"number\",\n        \"std\": 488198.55022587336,\n        \"min\": 0.002,\n        \"max\": 22363762.5,\n        \"num_unique_values\": 1669,\n        \"samples\": [\n          14.32,\n          18027.63,\n          377.11\n        ],\n        \"semantic_type\": \"\",\n        \"description\": \"\"\n      }\n    },\n    {\n      \"column\": \"\\u0441\\u0443\\u043c\\u043c\\u0430 \\u0435\\u0449\\u0435 \\u043f\\u043e\\u0441\\u0442\\u0430\\u0432\\u0438\\u0442\\u044c (\\u043a\\u043e\\u043b\\u0438\\u0447\\u0435\\u0441\\u0442\\u0432\\u043e)\",\n      \"properties\": {\n        \"dtype\": \"number\",\n        \"std\": 448928.45555425045,\n        \"min\": 0.0,\n        \"max\": 19965580.3,\n        \"num_unique_values\": 1605,\n        \"samples\": [\n          0.96,\n          43685.64,\n          42.0\n        ],\n        \"semantic_type\": \"\",\n        \"description\": \"\"\n      }\n    },\n    {\n      \"column\": \"\\u0441\\u0443\\u043c\\u043c\\u0430 \\u0415\\u0449\\u0435 \\u0434\\u043b\\u044f \\u043f\\u043e\\u0441\\u0442\\u0430\\u0432\\u043a\\u0438 (\\u0441\\u0442\\u043e\\u0438\\u043c\\u043e\\u0441\\u0442\\u044c)\",\n      \"properties\": {\n        \"dtype\": \"number\",\n        \"std\": 2687693.5720194746,\n        \"min\": 0.01,\n        \"max\": 100000000.0,\n        \"num_unique_values\": 3136,\n        \"samples\": [\n          8846.92,\n          156273.75,\n          74.0\n        ],\n        \"semantic_type\": \"\",\n        \"description\": \"\"\n      }\n    },\n    {\n      \"column\": \"\\u0412\\u0430\\u043b\\u044e\\u0442\\u0430\",\n      \"properties\": {\n        \"dtype\": \"category\",\n        \"num_unique_values\": 4,\n        \"samples\": [\n          \"EUR\",\n          \"RUB\",\n          \"USD\"\n        ],\n        \"semantic_type\": \"\",\n        \"description\": \"\"\n      }\n    }\n  ]\n}"
            }
          },
          "metadata": {},
          "execution_count": 328
        }
      ]
    },
    {
      "cell_type": "markdown",
      "source": [
        "excelleri kaydetmek için kullan"
      ],
      "metadata": {
        "id": "yAR030JNrJMr"
      }
    },
    {
      "cell_type": "code",
      "source": [
        "#XLSX formatında kaydetme\n",
        "df_yazdir.to_excel(\"base_table.xlsx\", index=False, engine=\"xlsxwriter\")\n",
        "df_audit_teslimedilmeyenzp.to_excel(\"audit_teslimedilmeyen.xlsx\", index=False, engine=\"xlsxwriter\")\n",
        "#df_calisilan.to_excel(\"zmm059_2022_2025_temiz.xlsx\", index=False, engine=\"xlsxwriter\")\n",
        "#df_calisilan.to_excel(\"zmm059_2022_2025_temiz.xlsx\",index=False)\n",
        "#df_zmm059_2022_temiz.to_excel(\"zmm059_2022_temiz.xlsx\", index=False)\n",
        "#df_zmm059_2023_temiz.to_excel(\"zmm059_2023_temiz.xlsx\", index=False)\n",
        "#df_zmm059_2024_temiz.to_excel(\"zmm059_2024_temiz.xlsx\", index=False)\n",
        "#df_zmm059_2025_temiz.to_excel(\"zmm059_2025_temiz.xlsx\", index=False)"
      ],
      "metadata": {
        "id": "ipZdM6BKLs5B"
      },
      "execution_count": null,
      "outputs": []
    },
    {
      "cell_type": "markdown",
      "source": [
        "excelleri indirmek için kullan"
      ],
      "metadata": {
        "id": "OGEMqtKt-9SO"
      }
    },
    {
      "cell_type": "code",
      "source": [
        "# Dosyayı indir\n",
        "files.download(\"base_table.xlsx\")\n",
        "files.download(\"audit_teslimedilmeyen.xlsx\")\n",
        "#files.download(\"zmm059_2022_2025_temiz.xlsx\")\n",
        "#files.download(\"zmm059_2022_temiz.xlsx\")\n",
        "#files.download(\"zmm059_2023_temiz.xlsx\")\n",
        "#files.download(\"zmm059_2024_temiz.xlsx\")\n",
        "#files.download(\"zmm059_2025_temiz.xlsx\")\n",
        "#files.download(\"zmm059_2022_2025_temizsutunsuz.csv\")"
      ],
      "metadata": {
        "id": "ZNtGv3o--33H"
      },
      "execution_count": null,
      "outputs": []
    },
    {
      "cell_type": "code",
      "source": [],
      "metadata": {
        "id": "sMAAIQwH_nXq"
      },
      "execution_count": 277,
      "outputs": []
    }
  ],
  "metadata": {
    "colab": {
      "name": "Welcome To Colab",
      "provenance": [],
      "include_colab_link": true
    },
    "kernelspec": {
      "display_name": "Python 3",
      "name": "python3"
    }
  },
  "nbformat": 4,
  "nbformat_minor": 0
}