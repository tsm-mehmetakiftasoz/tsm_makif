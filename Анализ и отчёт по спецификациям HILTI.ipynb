{
  "cells": [
    {
      "cell_type": "markdown",
      "metadata": {
        "id": "view-in-github",
        "colab_type": "text"
      },
      "source": [
        "<a href=\"https://colab.research.google.com/github/tsm-mehmetakiftasoz/tsm_makif/blob/main/%D0%90%D0%BD%D0%B0%D0%BB%D0%B8%D0%B7%20%D0%B8%20%D0%BE%D1%82%D1%87%D1%91%D1%82%20%D0%BF%D0%BE%20%D1%81%D0%BF%D0%B5%D1%86%D0%B8%D1%84%D0%B8%D0%BA%D0%B0%D1%86%D0%B8%D1%8F%D0%BC%20HILTI.ipynb\" target=\"_parent\"><img src=\"https://colab.research.google.com/assets/colab-badge.svg\" alt=\"Open In Colab\"/></a>"
      ]
    },
    {
      "cell_type": "markdown",
      "source": [
        "HİLTİ Speklerini incelemek için oluşturuldu. Spek excellerini bir dosyada topla program sizden dosyadan excelleri seçmenizi isteyecek sonra her bir speki tek tek bir structured halde excellere kaydecek ayrıca overall bir df oluşturacak sonra bu df i excele çevirip ekleyecek.  hatalar olduğu zaman program içinde görünecektir ayrıca rapor için bir excel dosyası oluşturup bu hataları görmeni sağlayacak. Raporda oluşturulan ve hata alınan specler ayrıca hatalar  gözükecek /\n",
        "Программа была создана для анализа спецификаций HILTI. Соберите Excel-файлы со спецификациями в одной папке — программа попросит вас выбрать эти файлы. Затем она поочерёдно сохранит каждую спецификацию в структурированном виде в Excel, а также сформирует общий DataFrame, который также будет преобразован в Excel и добавлен.\n",
        "Ошибки, возникшие в процессе, будут отображаться внутри программы. Кроме того, будет создан отдельный Excel-файл для отчёта, в котором вы сможете увидеть эти ошибки. В отчёте будут отображены как успешно обработанные спецификации, так и те, в которых возникли ошибки, а также сами ошибки."
      ],
      "metadata": {
        "id": "87xTRgLmQOg7"
      }
    },
    {
      "cell_type": "code",
      "source": [
        "from google.colab import files\n",
        "import pandas as pd\n",
        "import os\n",
        "import re"
      ],
      "metadata": {
        "id": "uLcaCAyWFCIr"
      },
      "execution_count": 8,
      "outputs": []
    },
    {
      "cell_type": "code",
      "source": [
        "# Excel dosyalarını yükleyin\n",
        "uploaded = files.upload()"
      ],
      "metadata": {
        "id": "Un7UBVT6E8EZ",
        "outputId": "64728c36-089e-45e0-849f-17f612d1e7c2",
        "colab": {
          "base_uri": "https://localhost:8080/",
          "height": 212
        }
      },
      "execution_count": 11,
      "outputs": [
        {
          "output_type": "display_data",
          "data": {
            "text/plain": [
              "<IPython.core.display.HTML object>"
            ],
            "text/html": [
              "\n",
              "     <input type=\"file\" id=\"files-31a078b0-0d14-4fdf-b2bf-be4f2b671639\" name=\"files[]\" multiple disabled\n",
              "        style=\"border:none\" />\n",
              "     <output id=\"result-31a078b0-0d14-4fdf-b2bf-be4f2b671639\">\n",
              "      Upload widget is only available when the cell has been executed in the\n",
              "      current browser session. Please rerun this cell to enable.\n",
              "      </output>\n",
              "      <script>// Copyright 2017 Google LLC\n",
              "//\n",
              "// Licensed under the Apache License, Version 2.0 (the \"License\");\n",
              "// you may not use this file except in compliance with the License.\n",
              "// You may obtain a copy of the License at\n",
              "//\n",
              "//      http://www.apache.org/licenses/LICENSE-2.0\n",
              "//\n",
              "// Unless required by applicable law or agreed to in writing, software\n",
              "// distributed under the License is distributed on an \"AS IS\" BASIS,\n",
              "// WITHOUT WARRANTIES OR CONDITIONS OF ANY KIND, either express or implied.\n",
              "// See the License for the specific language governing permissions and\n",
              "// limitations under the License.\n",
              "\n",
              "/**\n",
              " * @fileoverview Helpers for google.colab Python module.\n",
              " */\n",
              "(function(scope) {\n",
              "function span(text, styleAttributes = {}) {\n",
              "  const element = document.createElement('span');\n",
              "  element.textContent = text;\n",
              "  for (const key of Object.keys(styleAttributes)) {\n",
              "    element.style[key] = styleAttributes[key];\n",
              "  }\n",
              "  return element;\n",
              "}\n",
              "\n",
              "// Max number of bytes which will be uploaded at a time.\n",
              "const MAX_PAYLOAD_SIZE = 100 * 1024;\n",
              "\n",
              "function _uploadFiles(inputId, outputId) {\n",
              "  const steps = uploadFilesStep(inputId, outputId);\n",
              "  const outputElement = document.getElementById(outputId);\n",
              "  // Cache steps on the outputElement to make it available for the next call\n",
              "  // to uploadFilesContinue from Python.\n",
              "  outputElement.steps = steps;\n",
              "\n",
              "  return _uploadFilesContinue(outputId);\n",
              "}\n",
              "\n",
              "// This is roughly an async generator (not supported in the browser yet),\n",
              "// where there are multiple asynchronous steps and the Python side is going\n",
              "// to poll for completion of each step.\n",
              "// This uses a Promise to block the python side on completion of each step,\n",
              "// then passes the result of the previous step as the input to the next step.\n",
              "function _uploadFilesContinue(outputId) {\n",
              "  const outputElement = document.getElementById(outputId);\n",
              "  const steps = outputElement.steps;\n",
              "\n",
              "  const next = steps.next(outputElement.lastPromiseValue);\n",
              "  return Promise.resolve(next.value.promise).then((value) => {\n",
              "    // Cache the last promise value to make it available to the next\n",
              "    // step of the generator.\n",
              "    outputElement.lastPromiseValue = value;\n",
              "    return next.value.response;\n",
              "  });\n",
              "}\n",
              "\n",
              "/**\n",
              " * Generator function which is called between each async step of the upload\n",
              " * process.\n",
              " * @param {string} inputId Element ID of the input file picker element.\n",
              " * @param {string} outputId Element ID of the output display.\n",
              " * @return {!Iterable<!Object>} Iterable of next steps.\n",
              " */\n",
              "function* uploadFilesStep(inputId, outputId) {\n",
              "  const inputElement = document.getElementById(inputId);\n",
              "  inputElement.disabled = false;\n",
              "\n",
              "  const outputElement = document.getElementById(outputId);\n",
              "  outputElement.innerHTML = '';\n",
              "\n",
              "  const pickedPromise = new Promise((resolve) => {\n",
              "    inputElement.addEventListener('change', (e) => {\n",
              "      resolve(e.target.files);\n",
              "    });\n",
              "  });\n",
              "\n",
              "  const cancel = document.createElement('button');\n",
              "  inputElement.parentElement.appendChild(cancel);\n",
              "  cancel.textContent = 'Cancel upload';\n",
              "  const cancelPromise = new Promise((resolve) => {\n",
              "    cancel.onclick = () => {\n",
              "      resolve(null);\n",
              "    };\n",
              "  });\n",
              "\n",
              "  // Wait for the user to pick the files.\n",
              "  const files = yield {\n",
              "    promise: Promise.race([pickedPromise, cancelPromise]),\n",
              "    response: {\n",
              "      action: 'starting',\n",
              "    }\n",
              "  };\n",
              "\n",
              "  cancel.remove();\n",
              "\n",
              "  // Disable the input element since further picks are not allowed.\n",
              "  inputElement.disabled = true;\n",
              "\n",
              "  if (!files) {\n",
              "    return {\n",
              "      response: {\n",
              "        action: 'complete',\n",
              "      }\n",
              "    };\n",
              "  }\n",
              "\n",
              "  for (const file of files) {\n",
              "    const li = document.createElement('li');\n",
              "    li.append(span(file.name, {fontWeight: 'bold'}));\n",
              "    li.append(span(\n",
              "        `(${file.type || 'n/a'}) - ${file.size} bytes, ` +\n",
              "        `last modified: ${\n",
              "            file.lastModifiedDate ? file.lastModifiedDate.toLocaleDateString() :\n",
              "                                    'n/a'} - `));\n",
              "    const percent = span('0% done');\n",
              "    li.appendChild(percent);\n",
              "\n",
              "    outputElement.appendChild(li);\n",
              "\n",
              "    const fileDataPromise = new Promise((resolve) => {\n",
              "      const reader = new FileReader();\n",
              "      reader.onload = (e) => {\n",
              "        resolve(e.target.result);\n",
              "      };\n",
              "      reader.readAsArrayBuffer(file);\n",
              "    });\n",
              "    // Wait for the data to be ready.\n",
              "    let fileData = yield {\n",
              "      promise: fileDataPromise,\n",
              "      response: {\n",
              "        action: 'continue',\n",
              "      }\n",
              "    };\n",
              "\n",
              "    // Use a chunked sending to avoid message size limits. See b/62115660.\n",
              "    let position = 0;\n",
              "    do {\n",
              "      const length = Math.min(fileData.byteLength - position, MAX_PAYLOAD_SIZE);\n",
              "      const chunk = new Uint8Array(fileData, position, length);\n",
              "      position += length;\n",
              "\n",
              "      const base64 = btoa(String.fromCharCode.apply(null, chunk));\n",
              "      yield {\n",
              "        response: {\n",
              "          action: 'append',\n",
              "          file: file.name,\n",
              "          data: base64,\n",
              "        },\n",
              "      };\n",
              "\n",
              "      let percentDone = fileData.byteLength === 0 ?\n",
              "          100 :\n",
              "          Math.round((position / fileData.byteLength) * 100);\n",
              "      percent.textContent = `${percentDone}% done`;\n",
              "\n",
              "    } while (position < fileData.byteLength);\n",
              "  }\n",
              "\n",
              "  // All done.\n",
              "  yield {\n",
              "    response: {\n",
              "      action: 'complete',\n",
              "    }\n",
              "  };\n",
              "}\n",
              "\n",
              "scope.google = scope.google || {};\n",
              "scope.google.colab = scope.google.colab || {};\n",
              "scope.google.colab._files = {\n",
              "  _uploadFiles,\n",
              "  _uploadFilesContinue,\n",
              "};\n",
              "})(self);\n",
              "</script> "
            ]
          },
          "metadata": {}
        },
        {
          "output_type": "stream",
          "name": "stdout",
          "text": [
            "Saving Kopya _HCN-230154 от 21.04.2025.xlsx to Kopya _HCN-230154 от 21.04.2025.xlsx\n",
            "Saving Kopya _HCN-230159 от 11.06.2025.xlsx to Kopya _HCN-230159 от 11.06.2025.xlsx\n",
            "Saving Kopya _HM-30085 от 29.04.2025.xlsx to Kopya _HM-30085 от 29.04.2025.xlsx\n",
            "Saving Kopya SP HE-20007  to TSM-07-22-898.xlsx to Kopya SP HE-20007  to TSM-07-22-898.xlsx\n",
            "Saving Kopya SP HM-to TSM-07-23-337 с переводом.xlsx to Kopya SP HM-to TSM-07-23-337 с переводом.xlsx\n"
          ]
        }
      ]
    },
    {
      "cell_type": "code",
      "source": [
        "# Tüm temiz veriler burada birikecek\n",
        "master_df = pd.DataFrame()"
      ],
      "metadata": {
        "id": "5WhCE_18LLP_"
      },
      "execution_count": 12,
      "outputs": []
    },
    {
      "cell_type": "code",
      "source": [
        "# Durum raporu için tablo\n",
        "rapor_kayitlari = []"
      ],
      "metadata": {
        "id": "QqXF9hc9Om30"
      },
      "execution_count": 16,
      "outputs": []
    },
    {
      "cell_type": "code",
      "source": [
        "silinecek\n",
        "#bunu sileceğiz\n",
        "for filename in uploaded.keys():\n",
        "    print(f\"İşleniyor: {filename}\")\n",
        "\n",
        "    try:\n",
        "        # Dosyayı tüm hücreleri string olarak oku, birleşik hücre sorunlarını önlemek için header=None\n",
        "        df_raw = pd.read_excel(filename, header=None, dtype=str)\n",
        "\n",
        "        # Başlangıç ve bitiş satırlarını tespit et\n",
        "        start_idx = df_raw[df_raw.apply(lambda row: row.astype(str).str.contains(\"Спецификация №\").any(), axis=1)].index\n",
        "        end_idx = df_raw[df_raw.apply(lambda row: row.astype(str).str.contains(\"Цена без НДС\").any(), axis=1)].index\n",
        "\n",
        "        if len(start_idx) == 0 or len(end_idx) == 0:\n",
        "            print(f\"Uyarı: {filename} içinde başlangıç veya bitiş satırı bulunamadı.\")\n",
        "            continue\n",
        "\n",
        "        s = start_idx[0] + 1  # başlıktan sonraki satır\n",
        "        e = end_idx[0]        # bitiş satırı dahil edilmez\n",
        "        df_table = df_raw.iloc[s:e].copy()\n",
        "\n",
        "        # Temizlik: boş satırları at, ilk satırı başlık yap\n",
        "        df_table = df_table.dropna(how='all')\n",
        "        df_table.columns = df_table.iloc[0]\n",
        "        df_table = df_table[1:]\n",
        "\n",
        "        # Temizlenmiş veriyi kaydet\n",
        "        out_filename = f\"cleaned_{filename}\"\n",
        "        df_table.to_excel(out_filename, index=False)\n",
        "        print(f\"{out_filename} dosyası oluşturuldu.\")\n",
        "\n",
        "    except Exception as e:\n",
        "        print(f\"Hata oluştu ({filename}): {e}\")"
      ],
      "metadata": {
        "id": "TMGFEOvXE_WL",
        "outputId": "5710a17f-cc4f-4614-87ae-7cde32952ee9",
        "colab": {
          "base_uri": "https://localhost:8080/"
        }
      },
      "execution_count": 6,
      "outputs": [
        {
          "output_type": "stream",
          "name": "stdout",
          "text": [
            "İşleniyor: Kopya _HCN-230154 от 21.04.2025.xlsx\n",
            "cleaned_Kopya _HCN-230154 от 21.04.2025.xlsx dosyası oluşturuldu.\n"
          ]
        },
        {
          "output_type": "stream",
          "name": "stderr",
          "text": [
            "/usr/local/lib/python3.11/dist-packages/openpyxl/worksheet/header_footer.py:48: UserWarning: Cannot parse header or footer so it will be ignored\n",
            "  warn(\"\"\"Cannot parse header or footer so it will be ignored\"\"\")\n"
          ]
        }
      ]
    },
    {
      "cell_type": "code",
      "source": [
        "silinecek\n",
        "#bunu da sileceğiz\n",
        "for filename in uploaded.keys():\n",
        "    print(f\"\\nİşleniyor/Обработка: {filename}\")\n",
        "\n",
        "    try:\n",
        "        # Excel içeriğini oku (tüm hücreleri string gibi)\n",
        "        df_raw = pd.read_excel(filename, header=None, dtype=str)\n",
        "\n",
        "        # Başlangıç ve bitiş indekslerini bul\n",
        "        start_idx = df_raw[df_raw.apply(lambda row: row.astype(str).str.contains(\"Спецификация №\").any(), axis=1)].index\n",
        "        end_idx = df_raw[df_raw.apply(lambda row: row.astype(str).str.contains(\"Цена без НДС\").any(), axis=1)].index\n",
        "\n",
        "        if len(start_idx) == 0 or len(end_idx) == 0:\n",
        "            print(\"Spesifikasyon veya fiyat sonu satırı bulunamadı./Спецификация или конечная цена не найдены. \")\n",
        "            continue\n",
        "\n",
        "        # Başlık içeren satırı yakala\n",
        "        spec_row = df_raw.iloc[start_idx[0]].astype(str).tolist()\n",
        "        spec_text = ' '.join(spec_row)\n",
        "\n",
        "        # Spesifikasyon numarasını çek\n",
        "        match_spec = re.search(r'Спецификация №\\s+(\\S+)', spec_text)\n",
        "        spec_number = match_spec.group(1) if match_spec else 'Bilinmiyor/неизвестный'\n",
        "\n",
        "        # Tarihi çek\n",
        "        match_date = re.search(r'от\\s+(\\d{2}\\.\\d{2}\\.\\d{4})', spec_text)\n",
        "        spec_date = match_date.group(1) if match_date else 'Bilinmiyor/неизвестный'\n",
        "\n",
        "        # Structured tabloyu ayıkla\n",
        "        s = start_idx[0] + 1\n",
        "        e = end_idx[0]\n",
        "        df_table = df_raw.iloc[s:e].copy()\n",
        "\n",
        "        # Temizlik\n",
        "        df_table = df_table.dropna(how='all')\n",
        "        df_table.columns = df_table.iloc[0]\n",
        "        df_table = df_table[1:]\n",
        "\n",
        "        # Spesifikasyon bilgilerini ekle\n",
        "        df_table[\"номер спецификации\"] = spec_number\n",
        "        df_table[\"дата\"] = spec_date\n",
        "\n",
        "        # Yeni dosya olarak kaydet\n",
        "        out_filename = f\"structured_{filename}\"\n",
        "        df_table.to_excel(out_filename, index=False)\n",
        "        print(f\"{out_filename} oluşturuldu/Готово ✔\")\n",
        "\n",
        "    except Exception as e:\n",
        "        print(f\"Hata ({filename}): {e}\")"
      ],
      "metadata": {
        "id": "fz1sLyJ7Fbmy",
        "outputId": "2404a9f8-b592-4ff7-db87-7de1bf62dc3a",
        "colab": {
          "base_uri": "https://localhost:8080/"
        }
      },
      "execution_count": 10,
      "outputs": [
        {
          "output_type": "stream",
          "name": "stdout",
          "text": [
            "\n",
            "İşleniyor/Обработка: Kopya _HCN-230154 от 21.04.2025.xlsx\n",
            "structured_Kopya _HCN-230154 от 21.04.2025.xlsx oluşturuldu/Готово ✔\n"
          ]
        },
        {
          "output_type": "stream",
          "name": "stderr",
          "text": [
            "/usr/local/lib/python3.11/dist-packages/openpyxl/worksheet/header_footer.py:48: UserWarning: Cannot parse header or footer so it will be ignored\n",
            "  warn(\"\"\"Cannot parse header or footer so it will be ignored\"\"\")\n"
          ]
        }
      ]
    },
    {
      "cell_type": "code",
      "source": [
        " silinecek\n",
        " #Her dosyayı sırayla işle\n",
        "for filename in uploaded.keys():\n",
        "    print(f\"\\nİşleniyor/Обработка: {filename}\")\n",
        "\n",
        "    try:\n",
        "        df_raw = pd.read_excel(filename, header=None, dtype=str)\n",
        "\n",
        "        # Başlangıç ve bitiş indekslerini bul\n",
        "        start_idx = df_raw[df_raw.apply(lambda row: row.astype(str).str.contains(\"Спецификация №\").any(), axis=1)].index\n",
        "        end_idx = df_raw[df_raw.apply(lambda row: row.astype(str).str.contains(\"Цена без НДС\").any(), axis=1)].index\n",
        "\n",
        "        if len(start_idx) == 0 or len(end_idx) == 0:\n",
        "            print(\"Spesifikasyon veya fiyat sonu satırı bulunamadı./Спецификация или конечная цена не найдены.\")\n",
        "            continue\n",
        "\n",
        "        # Başlık içeren satır\n",
        "        spec_row = df_raw.iloc[start_idx[0]].astype(str).tolist()\n",
        "        spec_text = ' '.join(spec_row)\n",
        "\n",
        "        # Spesifikasyon no\n",
        "        match_spec = re.search(r'Спецификация №\\s+(\\S+)', spec_text)\n",
        "        spec_number = match_spec.group(1) if match_spec else 'Bilinmiyor/неизвестный'\n",
        "\n",
        "        # Tarih\n",
        "        match_date = re.search(r'от\\s+(\\d{2}\\.\\d{2}\\.\\d{4})', spec_text)\n",
        "        spec_date = match_date.group(1) if match_date else 'Bilinmiyor/неизвестный'\n",
        "\n",
        "        # Structured tablo\n",
        "        s = start_idx[0] + 1\n",
        "        e = end_idx[0]\n",
        "        df_table = df_raw.iloc[s:e].copy()\n",
        "\n",
        "        # Temizle\n",
        "        df_table = df_table.dropna(how='all')\n",
        "        df_table.columns = df_table.iloc[0]\n",
        "        df_table = df_table[1:]\n",
        "\n",
        "        # Spec bilgilerini ekle\n",
        "        df_table[\"номер спецификации\"] = spec_number\n",
        "        df_table[\"дата\"] = spec_date\n",
        "\n",
        "        # Her bir dosyanın çıktısını kaydet\n",
        "        out_filename = f\"structured_{filename}\"\n",
        "        df_table.to_excel(out_filename, index=False)\n",
        "        print(f\"{out_filename} oluşturuldu/Готово ✔\")\n",
        "\n",
        "        # Ana tabloya birleştir (farklı sütunlar varsa dıştan birleştir)\n",
        "        master_df = pd.concat([master_df, df_table], axis=0, ignore_index=True, sort=False)\n",
        "\n",
        "    except Exception as e:\n",
        "        print(f\"Hata ({filename}): {e}\")"
      ],
      "metadata": {
        "id": "IAVkdLU9LQsH",
        "outputId": "cfddc027-057c-48ba-d1c7-a44dffd84472",
        "colab": {
          "base_uri": "https://localhost:8080/"
        }
      },
      "execution_count": 13,
      "outputs": [
        {
          "output_type": "stream",
          "name": "stdout",
          "text": [
            "\n",
            "İşleniyor/Обработка: Kopya _HCN-230154 от 21.04.2025.xlsx\n",
            "structured_Kopya _HCN-230154 от 21.04.2025.xlsx oluşturuldu/Готово ✔\n",
            "\n",
            "İşleniyor/Обработка: Kopya _HCN-230159 от 11.06.2025.xlsx\n"
          ]
        },
        {
          "output_type": "stream",
          "name": "stderr",
          "text": [
            "/usr/local/lib/python3.11/dist-packages/openpyxl/worksheet/header_footer.py:48: UserWarning: Cannot parse header or footer so it will be ignored\n",
            "  warn(\"\"\"Cannot parse header or footer so it will be ignored\"\"\")\n",
            "/usr/local/lib/python3.11/dist-packages/openpyxl/worksheet/header_footer.py:48: UserWarning: Cannot parse header or footer so it will be ignored\n",
            "  warn(\"\"\"Cannot parse header or footer so it will be ignored\"\"\")\n"
          ]
        },
        {
          "output_type": "stream",
          "name": "stdout",
          "text": [
            "structured_Kopya _HCN-230159 от 11.06.2025.xlsx oluşturuldu/Готово ✔\n",
            "Hata (Kopya _HCN-230159 от 11.06.2025.xlsx): Reindexing only valid with uniquely valued Index objects\n",
            "\n",
            "İşleniyor/Обработка: Kopya _HM-30085 от 29.04.2025.xlsx\n"
          ]
        },
        {
          "output_type": "stream",
          "name": "stderr",
          "text": [
            "/usr/local/lib/python3.11/dist-packages/openpyxl/worksheet/header_footer.py:48: UserWarning: Cannot parse header or footer so it will be ignored\n",
            "  warn(\"\"\"Cannot parse header or footer so it will be ignored\"\"\")\n"
          ]
        },
        {
          "output_type": "stream",
          "name": "stdout",
          "text": [
            "structured_Kopya _HM-30085 от 29.04.2025.xlsx oluşturuldu/Готово ✔\n",
            "\n",
            "İşleniyor/Обработка: Kopya SP HE-20007  to TSM-07-22-898.xlsx\n",
            "Spesifikasyon veya fiyat sonu satırı bulunamadı./Спецификация или конечная цена не найдены.\n",
            "\n",
            "İşleniyor/Обработка: Kopya SP HM-to TSM-07-23-337 с переводом.xlsx\n",
            "structured_Kopya SP HM-to TSM-07-23-337 с переводом.xlsx oluşturuldu/Готово ✔\n"
          ]
        },
        {
          "output_type": "stream",
          "name": "stderr",
          "text": [
            "/usr/local/lib/python3.11/dist-packages/openpyxl/worksheet/header_footer.py:48: UserWarning: Cannot parse header or footer so it will be ignored\n",
            "  warn(\"\"\"Cannot parse header or footer so it will be ignored\"\"\")\n"
          ]
        }
      ]
    },
    {
      "cell_type": "code",
      "source": [
        "silinecek #\n",
        "for filename in uploaded.keys():\n",
        "    print(f\"\\n🔄 İşleniyor: {filename}\")\n",
        "\n",
        "    try:\n",
        "        # Çok sayfalı Excel dosyasını aç\n",
        "        xls = pd.ExcelFile(filename)\n",
        "\n",
        "        # Başlangıç için ilk sayfa\n",
        "        df_start = pd.read_excel(xls, sheet_name=0, header=None, dtype=str)\n",
        "\n",
        "        # Başlangıç indeksini bul (\"Спецификация №\")\n",
        "        start_idx = df_start[df_start.apply(lambda row: row.astype(str).str.contains(\"Спецификация №\").any(), axis=1)].index\n",
        "        if len(start_idx) == 0:\n",
        "            print(\"❌ Спецификация № bulunamadı, dosya atlandı.\")\n",
        "            continue\n",
        "\n",
        "        # Başlık satırı\n",
        "        spec_row = df_start.iloc[start_idx[0]].astype(str).tolist()\n",
        "        spec_text = ' '.join(spec_row)\n",
        "\n",
        "        # Spesifikasyon no\n",
        "        match_spec = re.search(r'Спецификация №\\s+(\\S+)', spec_text)\n",
        "        spec_number = match_spec.group(1) if match_spec else 'Bilinmiyor/неизвестный'\n",
        "\n",
        "        # Tarih\n",
        "        match_date = re.search(r'от\\s+(\\d{2}\\.\\d{2}\\.\\d{4})', spec_text)\n",
        "        spec_date = match_date.group(1) if match_date else 'Bilinmiyor/неизвестный'\n",
        "\n",
        "        # \"Цена без НДС\" içeren satırı tüm sayfalarda ara\n",
        "        end_found = False\n",
        "        for sheet in xls.sheet_names:\n",
        "            df_check = pd.read_excel(xls, sheet_name=sheet, header=None, dtype=str)\n",
        "            end_idx = df_check[df_check.apply(lambda row: row.astype(str).str.contains(\"Цена без НДС\").any(), axis=1)].index\n",
        "\n",
        "            if len(end_idx) > 0:\n",
        "                end_sheet = sheet\n",
        "                end_index = end_idx[0]\n",
        "                end_found = True\n",
        "                break\n",
        "\n",
        "        if not end_found:\n",
        "            print(\"❌ 'Цена без НДС' bulunamadı, dosya atlandı.\")\n",
        "            continue\n",
        "\n",
        "        # Structured veri alanı: sayfa atlamalıysa birleştir\n",
        "        if end_sheet == xls.sheet_names[0]:\n",
        "            df_table = df_start.iloc[start_idx[0]+1:end_index].copy()\n",
        "        else:\n",
        "            df1 = df_start.iloc[start_idx[0]+1:].copy()\n",
        "            df2 = pd.read_excel(xls, sheet_name=end_sheet, header=None, dtype=str).iloc[:end_index].copy()\n",
        "            df_table = pd.concat([df1, df2], ignore_index=True)\n",
        "\n",
        "        # Temizlik\n",
        "        df_table = df_table.dropna(how='all')\n",
        "        df_table.columns = df_table.iloc[0]\n",
        "        df_table = df_table[1:]\n",
        "\n",
        "        # Spec bilgilerini ekle\n",
        "        df_table[\"номер спецификации\"] = spec_number\n",
        "        df_table[\"дата\"] = spec_date\n",
        "\n",
        "        # Temiz dosyayı kaydet\n",
        "        out_filename = f\"cleaned_{filename}\"\n",
        "        df_table.to_excel(out_filename, index=False)\n",
        "        print(f\"✅ {out_filename} oluşturuldu.\")\n",
        "\n",
        "        # Ana tabloya ekle (farklı kolonları dıştan birleştir)\n",
        "        master_df = pd.concat([master_df, df_table], axis=0, ignore_index=True, sort=False)\n",
        "\n",
        "    except Exception as e:\n",
        "        print(f\"⚠️ Hata ({filename}): {e}\")"
      ],
      "metadata": {
        "id": "04dygpPFN-h-",
        "outputId": "c1220517-f8ce-4026-854e-28c34057e4fb",
        "colab": {
          "base_uri": "https://localhost:8080/"
        }
      },
      "execution_count": 17,
      "outputs": [
        {
          "output_type": "stream",
          "name": "stdout",
          "text": [
            "\n",
            "🔄 İşleniyor: Kopya _HCN-230154 от 21.04.2025.xlsx\n",
            "✅ cleaned_Kopya _HCN-230154 от 21.04.2025.xlsx oluşturuldu.\n",
            "\n",
            "🔄 İşleniyor: Kopya _HCN-230159 от 11.06.2025.xlsx\n"
          ]
        },
        {
          "output_type": "stream",
          "name": "stderr",
          "text": [
            "/usr/local/lib/python3.11/dist-packages/openpyxl/worksheet/header_footer.py:48: UserWarning: Cannot parse header or footer so it will be ignored\n",
            "  warn(\"\"\"Cannot parse header or footer so it will be ignored\"\"\")\n",
            "/usr/local/lib/python3.11/dist-packages/openpyxl/worksheet/header_footer.py:48: UserWarning: Cannot parse header or footer so it will be ignored\n",
            "  warn(\"\"\"Cannot parse header or footer so it will be ignored\"\"\")\n",
            "/usr/local/lib/python3.11/dist-packages/openpyxl/worksheet/header_footer.py:48: UserWarning: Cannot parse header or footer so it will be ignored\n",
            "  warn(\"\"\"Cannot parse header or footer so it will be ignored\"\"\")\n",
            "/usr/local/lib/python3.11/dist-packages/openpyxl/worksheet/header_footer.py:48: UserWarning: Cannot parse header or footer so it will be ignored\n",
            "  warn(\"\"\"Cannot parse header or footer so it will be ignored\"\"\")\n"
          ]
        },
        {
          "output_type": "stream",
          "name": "stdout",
          "text": [
            "✅ cleaned_Kopya _HCN-230159 от 11.06.2025.xlsx oluşturuldu.\n",
            "⚠️ Hata (Kopya _HCN-230159 от 11.06.2025.xlsx): Reindexing only valid with uniquely valued Index objects\n",
            "\n",
            "🔄 İşleniyor: Kopya _HM-30085 от 29.04.2025.xlsx\n",
            "✅ cleaned_Kopya _HM-30085 от 29.04.2025.xlsx oluşturuldu.\n",
            "\n",
            "🔄 İşleniyor: Kopya SP HE-20007  to TSM-07-22-898.xlsx\n"
          ]
        },
        {
          "output_type": "stream",
          "name": "stderr",
          "text": [
            "/usr/local/lib/python3.11/dist-packages/openpyxl/worksheet/header_footer.py:48: UserWarning: Cannot parse header or footer so it will be ignored\n",
            "  warn(\"\"\"Cannot parse header or footer so it will be ignored\"\"\")\n",
            "/usr/local/lib/python3.11/dist-packages/openpyxl/worksheet/header_footer.py:48: UserWarning: Cannot parse header or footer so it will be ignored\n",
            "  warn(\"\"\"Cannot parse header or footer so it will be ignored\"\"\")\n",
            "/usr/local/lib/python3.11/dist-packages/openpyxl/worksheet/header_footer.py:48: UserWarning: Cannot parse header or footer so it will be ignored\n",
            "  warn(\"\"\"Cannot parse header or footer so it will be ignored\"\"\")\n",
            "/usr/local/lib/python3.11/dist-packages/openpyxl/worksheet/header_footer.py:48: UserWarning: Cannot parse header or footer so it will be ignored\n",
            "  warn(\"\"\"Cannot parse header or footer so it will be ignored\"\"\")\n"
          ]
        },
        {
          "output_type": "stream",
          "name": "stdout",
          "text": [
            "❌ Спецификация № bulunamadı, dosya atlandı.\n",
            "\n",
            "🔄 İşleniyor: Kopya SP HM-to TSM-07-23-337 с переводом.xlsx\n",
            "✅ cleaned_Kopya SP HM-to TSM-07-23-337 с переводом.xlsx oluşturuldu.\n"
          ]
        }
      ]
    },
    {
      "cell_type": "code",
      "source": [
        "# Her dosyayı sırayla işle\n",
        "for filename in uploaded.keys():\n",
        "    print(f\"\\n🔄 İşleniyor: {filename}\")\n",
        "\n",
        "    try:\n",
        "        xls = pd.ExcelFile(filename)\n",
        "\n",
        "        # Başlangıç verisi ilk sayfadan\n",
        "        df_start = pd.read_excel(xls, sheet_name=0, header=None, dtype=str)\n",
        "        start_idx = df_start[df_start.apply(lambda row: row.astype(str).str.contains(\"Спецификация №\").any(), axis=1)].index\n",
        "        if len(start_idx) == 0:\n",
        "            mesaj = \"Спецификация № bulunamadı ❌\"\n",
        "            print(mesaj)\n",
        "            rapor_kayitlari.append({\n",
        "                \"Dosya\": filename,\n",
        "                \"Спецификация №\": \"Yok\",\n",
        "                \"Tarih\": \"Yok\",\n",
        "                \"Durum\": mesaj\n",
        "            })\n",
        "            continue\n",
        "\n",
        "        # Spesifikasyon bilgisi\n",
        "        spec_row = df_start.iloc[start_idx[0]].astype(str).tolist()\n",
        "        spec_text = ' '.join(spec_row)\n",
        "\n",
        "        match_spec = re.search(r'Спецификация №\\s+(\\S+)', spec_text)\n",
        "        spec_number = match_spec.group(1) if match_spec else 'Bilinmiyor'\n",
        "\n",
        "        match_date = re.search(r'от\\s+(\\d{2}\\.\\d{2}\\.\\d{4})', spec_text)\n",
        "        spec_date = match_date.group(1) if match_date else 'Bilinmiyor'\n",
        "\n",
        "        # \"Цена без НДС\" araması tüm sayfalarda\n",
        "        end_found = False\n",
        "        for sheet in xls.sheet_names:\n",
        "            df_check = pd.read_excel(xls, sheet_name=sheet, header=None, dtype=str)\n",
        "            end_idx = df_check[df_check.apply(lambda row: row.astype(str).str.contains(\"Цена без НДС\").any(), axis=1)].index\n",
        "            if len(end_idx) > 0:\n",
        "                end_sheet = sheet\n",
        "                end_index = end_idx[0]\n",
        "                end_found = True\n",
        "                break\n",
        "\n",
        "        if not end_found:\n",
        "            mesaj = \"'Цена без НДС' bulunamadı ❌\"\n",
        "            print(mesaj)\n",
        "            rapor_kayitlari.append({\n",
        "                \"Dosya\": filename,\n",
        "                \"Спецификация №\": spec_number,\n",
        "                \"Tarih\": spec_date,\n",
        "                \"Durum\": mesaj\n",
        "            })\n",
        "            continue\n",
        "\n",
        "        # Structured tabloyu oluştur\n",
        "        if end_sheet == xls.sheet_names[0]:\n",
        "            df_table = df_start.iloc[start_idx[0]+1:end_index].copy()\n",
        "        else:\n",
        "            df1 = df_start.iloc[start_idx[0]+1:].copy()\n",
        "            df2 = pd.read_excel(xls, sheet_name=end_sheet, header=None, dtype=str).iloc[:end_index].copy()\n",
        "            df_table = pd.concat([df1, df2], ignore_index=True)\n",
        "\n",
        "        # Temizle\n",
        "        df_table = df_table.dropna(how='all')\n",
        "        df_table.columns = df_table.iloc[0]\n",
        "        df_table = df_table[1:]\n",
        "\n",
        "        # Bilgileri ekle\n",
        "        df_table[\"номер спецификации\"] = spec_number\n",
        "        df_table[\"дата\"] = spec_date\n",
        "\n",
        "        # Kaydet\n",
        "        out_filename = f\"cleaned_{filename}\"\n",
        "        df_table.to_excel(out_filename, index=False)\n",
        "        print(f\"✅ {out_filename} oluşturuldu.\")\n",
        "\n",
        "        # Ana tabloya ekle\n",
        "        master_df = pd.concat([master_df, df_table], axis=0, ignore_index=True, sort=False)\n",
        "\n",
        "        # Rapor tablosuna kayıt\n",
        "        rapor_kayitlari.append({\n",
        "            \"Dosya\": filename,\n",
        "            \"Спецификация №\": spec_number,\n",
        "            \"Tarih\": spec_date,\n",
        "            \"Durum\": \"Oluşturuldu ✅\"\n",
        "        })\n",
        "\n",
        "    except Exception as e:\n",
        "        hata_mesaji = f\"Hata: {str(e)}\"\n",
        "        print(f\"⚠️ {hata_mesaji}\")\n",
        "        rapor_kayitlari.append({\n",
        "            \"Dosya\": filename,\n",
        "            \"Спецификация №\": \"Bilinmiyor\",\n",
        "            \"Tarih\": \"Bilinmiyor\",\n",
        "            \"Durum\": hata_mesaji\n",
        "        })"
      ],
      "metadata": {
        "id": "-Nkn59XFOz-C",
        "outputId": "7241b845-5431-4fef-b26c-f95cfa74724b",
        "colab": {
          "base_uri": "https://localhost:8080/"
        }
      },
      "execution_count": 18,
      "outputs": [
        {
          "output_type": "stream",
          "name": "stdout",
          "text": [
            "\n",
            "🔄 İşleniyor: Kopya _HCN-230154 от 21.04.2025.xlsx\n"
          ]
        },
        {
          "output_type": "stream",
          "name": "stderr",
          "text": [
            "/usr/local/lib/python3.11/dist-packages/openpyxl/worksheet/header_footer.py:48: UserWarning: Cannot parse header or footer so it will be ignored\n",
            "  warn(\"\"\"Cannot parse header or footer so it will be ignored\"\"\")\n",
            "/usr/local/lib/python3.11/dist-packages/openpyxl/worksheet/header_footer.py:48: UserWarning: Cannot parse header or footer so it will be ignored\n",
            "  warn(\"\"\"Cannot parse header or footer so it will be ignored\"\"\")\n"
          ]
        },
        {
          "output_type": "stream",
          "name": "stdout",
          "text": [
            "✅ cleaned_Kopya _HCN-230154 от 21.04.2025.xlsx oluşturuldu.\n",
            "\n",
            "🔄 İşleniyor: Kopya _HCN-230159 от 11.06.2025.xlsx\n"
          ]
        },
        {
          "output_type": "stream",
          "name": "stderr",
          "text": [
            "/usr/local/lib/python3.11/dist-packages/openpyxl/worksheet/header_footer.py:48: UserWarning: Cannot parse header or footer so it will be ignored\n",
            "  warn(\"\"\"Cannot parse header or footer so it will be ignored\"\"\")\n",
            "/usr/local/lib/python3.11/dist-packages/openpyxl/worksheet/header_footer.py:48: UserWarning: Cannot parse header or footer so it will be ignored\n",
            "  warn(\"\"\"Cannot parse header or footer so it will be ignored\"\"\")\n"
          ]
        },
        {
          "output_type": "stream",
          "name": "stdout",
          "text": [
            "✅ cleaned_Kopya _HCN-230159 от 11.06.2025.xlsx oluşturuldu.\n",
            "⚠️ Hata: Reindexing only valid with uniquely valued Index objects\n",
            "\n",
            "🔄 İşleniyor: Kopya _HM-30085 от 29.04.2025.xlsx\n"
          ]
        },
        {
          "output_type": "stream",
          "name": "stderr",
          "text": [
            "/usr/local/lib/python3.11/dist-packages/openpyxl/worksheet/header_footer.py:48: UserWarning: Cannot parse header or footer so it will be ignored\n",
            "  warn(\"\"\"Cannot parse header or footer so it will be ignored\"\"\")\n",
            "/usr/local/lib/python3.11/dist-packages/openpyxl/worksheet/header_footer.py:48: UserWarning: Cannot parse header or footer so it will be ignored\n",
            "  warn(\"\"\"Cannot parse header or footer so it will be ignored\"\"\")\n",
            "/usr/local/lib/python3.11/dist-packages/openpyxl/worksheet/header_footer.py:48: UserWarning: Cannot parse header or footer so it will be ignored\n",
            "  warn(\"\"\"Cannot parse header or footer so it will be ignored\"\"\")\n"
          ]
        },
        {
          "output_type": "stream",
          "name": "stdout",
          "text": [
            "✅ cleaned_Kopya _HM-30085 от 29.04.2025.xlsx oluşturuldu.\n",
            "\n",
            "🔄 İşleniyor: Kopya SP HE-20007  to TSM-07-22-898.xlsx\n",
            "Спецификация № bulunamadı ❌\n",
            "\n",
            "🔄 İşleniyor: Kopya SP HM-to TSM-07-23-337 с переводом.xlsx\n",
            "✅ cleaned_Kopya SP HM-to TSM-07-23-337 с переводом.xlsx oluşturuldu.\n"
          ]
        },
        {
          "output_type": "stream",
          "name": "stderr",
          "text": [
            "/usr/local/lib/python3.11/dist-packages/openpyxl/worksheet/header_footer.py:48: UserWarning: Cannot parse header or footer so it will be ignored\n",
            "  warn(\"\"\"Cannot parse header or footer so it will be ignored\"\"\")\n"
          ]
        }
      ]
    },
    {
      "cell_type": "code",
      "source": [
        "# Tüm verileri kaydet\n",
        "master_out = \"merged_all_cleaned.xlsx\"\n",
        "master_df.to_excel(master_out, index=False)\n",
        "print(f\"\\n📁 Tüm veriler {master_out} dosyasında toplandı.\")\n",
        "files.download(master_out)"
      ],
      "metadata": {
        "id": "XSpofjIlO8n6",
        "outputId": "07f14b23-bf10-4b90-f033-6269deb42156",
        "colab": {
          "base_uri": "https://localhost:8080/",
          "height": 52
        }
      },
      "execution_count": 22,
      "outputs": [
        {
          "output_type": "stream",
          "name": "stdout",
          "text": [
            "\n",
            "📁 Tüm veriler merged_all_cleaned.xlsx dosyasında toplandı.\n"
          ]
        },
        {
          "output_type": "display_data",
          "data": {
            "text/plain": [
              "<IPython.core.display.Javascript object>"
            ],
            "application/javascript": [
              "\n",
              "    async function download(id, filename, size) {\n",
              "      if (!google.colab.kernel.accessAllowed) {\n",
              "        return;\n",
              "      }\n",
              "      const div = document.createElement('div');\n",
              "      const label = document.createElement('label');\n",
              "      label.textContent = `Downloading \"${filename}\": `;\n",
              "      div.appendChild(label);\n",
              "      const progress = document.createElement('progress');\n",
              "      progress.max = size;\n",
              "      div.appendChild(progress);\n",
              "      document.body.appendChild(div);\n",
              "\n",
              "      const buffers = [];\n",
              "      let downloaded = 0;\n",
              "\n",
              "      const channel = await google.colab.kernel.comms.open(id);\n",
              "      // Send a message to notify the kernel that we're ready.\n",
              "      channel.send({})\n",
              "\n",
              "      for await (const message of channel.messages) {\n",
              "        // Send a message to notify the kernel that we're ready.\n",
              "        channel.send({})\n",
              "        if (message.buffers) {\n",
              "          for (const buffer of message.buffers) {\n",
              "            buffers.push(buffer);\n",
              "            downloaded += buffer.byteLength;\n",
              "            progress.value = downloaded;\n",
              "          }\n",
              "        }\n",
              "      }\n",
              "      const blob = new Blob(buffers, {type: 'application/binary'});\n",
              "      const a = document.createElement('a');\n",
              "      a.href = window.URL.createObjectURL(blob);\n",
              "      a.download = filename;\n",
              "      div.appendChild(a);\n",
              "      a.click();\n",
              "      div.remove();\n",
              "    }\n",
              "  "
            ]
          },
          "metadata": {}
        },
        {
          "output_type": "display_data",
          "data": {
            "text/plain": [
              "<IPython.core.display.Javascript object>"
            ],
            "application/javascript": [
              "download(\"download_d1863795-9d01-4fc2-acee-6e2e88358f2c\", \"merged_all_cleaned.xlsx\", 15152)"
            ]
          },
          "metadata": {}
        }
      ]
    },
    {
      "cell_type": "code",
      "source": [
        "# Rapor dosyasını oluştur\n",
        "rapor_df = pd.DataFrame(rapor_kayitlari)\n",
        "rapor_out = \"rapor_durum.xlsx\"\n",
        "rapor_df.to_excel(rapor_out, index=False)\n",
        "print(f\"📋 Rapor {rapor_out} dosyasına kaydedildi.\")\n",
        "files.download(rapor_out)"
      ],
      "metadata": {
        "id": "FmBaH348PBSj",
        "outputId": "ebec5c4d-7034-40a2-fb95-fbcb0002c2cd",
        "colab": {
          "base_uri": "https://localhost:8080/",
          "height": 34
        }
      },
      "execution_count": 23,
      "outputs": [
        {
          "output_type": "stream",
          "name": "stdout",
          "text": [
            "📋 Rapor rapor_durum.xlsx dosyasına kaydedildi.\n"
          ]
        },
        {
          "output_type": "display_data",
          "data": {
            "text/plain": [
              "<IPython.core.display.Javascript object>"
            ],
            "application/javascript": [
              "\n",
              "    async function download(id, filename, size) {\n",
              "      if (!google.colab.kernel.accessAllowed) {\n",
              "        return;\n",
              "      }\n",
              "      const div = document.createElement('div');\n",
              "      const label = document.createElement('label');\n",
              "      label.textContent = `Downloading \"${filename}\": `;\n",
              "      div.appendChild(label);\n",
              "      const progress = document.createElement('progress');\n",
              "      progress.max = size;\n",
              "      div.appendChild(progress);\n",
              "      document.body.appendChild(div);\n",
              "\n",
              "      const buffers = [];\n",
              "      let downloaded = 0;\n",
              "\n",
              "      const channel = await google.colab.kernel.comms.open(id);\n",
              "      // Send a message to notify the kernel that we're ready.\n",
              "      channel.send({})\n",
              "\n",
              "      for await (const message of channel.messages) {\n",
              "        // Send a message to notify the kernel that we're ready.\n",
              "        channel.send({})\n",
              "        if (message.buffers) {\n",
              "          for (const buffer of message.buffers) {\n",
              "            buffers.push(buffer);\n",
              "            downloaded += buffer.byteLength;\n",
              "            progress.value = downloaded;\n",
              "          }\n",
              "        }\n",
              "      }\n",
              "      const blob = new Blob(buffers, {type: 'application/binary'});\n",
              "      const a = document.createElement('a');\n",
              "      a.href = window.URL.createObjectURL(blob);\n",
              "      a.download = filename;\n",
              "      div.appendChild(a);\n",
              "      a.click();\n",
              "      div.remove();\n",
              "    }\n",
              "  "
            ]
          },
          "metadata": {}
        },
        {
          "output_type": "display_data",
          "data": {
            "text/plain": [
              "<IPython.core.display.Javascript object>"
            ],
            "application/javascript": [
              "download(\"download_eb51a987-a085-4ba5-a495-41ea3d198f63\", \"rapor_durum.xlsx\", 5313)"
            ]
          },
          "metadata": {}
        }
      ]
    },
    {
      "cell_type": "code",
      "source": [
        "silebiliriz\n",
        "# ✅ Tüm verileri birleştirdikten sonra tek bir dosyada kaydet\n",
        "master_out = \"merged_all_cleaned.xlsx\"\n",
        "master_df.to_excel(master_out, index=False)\n",
        "print(f\"\\n🔗 Bütün veriler {master_out} dosyasına kaydedildi.\")"
      ],
      "metadata": {
        "id": "SuqJ6PuzLSSf"
      },
      "execution_count": null,
      "outputs": []
    },
    {
      "cell_type": "code",
      "source": [
        "silebiliriz\n",
        "# Son çıktıyı indirilebilir yap\n",
        "files.download(master_out)"
      ],
      "metadata": {
        "id": "57Cj5mfpLWkU"
      },
      "execution_count": null,
      "outputs": []
    },
    {
      "cell_type": "code",
      "source": [
        "for file in os.listdir():\n",
        "    if file.startswith(\"structured_\") and file.endswith(\".xlsx\"):\n",
        "        print(f\"İndiriliyor/Загрузка: {file}\")\n",
        "        files.download(file)"
      ],
      "metadata": {
        "id": "n-j5KQHDLjla",
        "outputId": "7bc03f3d-5709-4513-d030-e1f90d4ecee0",
        "colab": {
          "base_uri": "https://localhost:8080/",
          "height": 86
        }
      },
      "execution_count": 24,
      "outputs": [
        {
          "output_type": "stream",
          "name": "stdout",
          "text": [
            "İndiriliyor/Загрузка: structured_Kopya _HM-30085 от 29.04.2025.xlsx\n"
          ]
        },
        {
          "output_type": "display_data",
          "data": {
            "text/plain": [
              "<IPython.core.display.Javascript object>"
            ],
            "application/javascript": [
              "\n",
              "    async function download(id, filename, size) {\n",
              "      if (!google.colab.kernel.accessAllowed) {\n",
              "        return;\n",
              "      }\n",
              "      const div = document.createElement('div');\n",
              "      const label = document.createElement('label');\n",
              "      label.textContent = `Downloading \"${filename}\": `;\n",
              "      div.appendChild(label);\n",
              "      const progress = document.createElement('progress');\n",
              "      progress.max = size;\n",
              "      div.appendChild(progress);\n",
              "      document.body.appendChild(div);\n",
              "\n",
              "      const buffers = [];\n",
              "      let downloaded = 0;\n",
              "\n",
              "      const channel = await google.colab.kernel.comms.open(id);\n",
              "      // Send a message to notify the kernel that we're ready.\n",
              "      channel.send({})\n",
              "\n",
              "      for await (const message of channel.messages) {\n",
              "        // Send a message to notify the kernel that we're ready.\n",
              "        channel.send({})\n",
              "        if (message.buffers) {\n",
              "          for (const buffer of message.buffers) {\n",
              "            buffers.push(buffer);\n",
              "            downloaded += buffer.byteLength;\n",
              "            progress.value = downloaded;\n",
              "          }\n",
              "        }\n",
              "      }\n",
              "      const blob = new Blob(buffers, {type: 'application/binary'});\n",
              "      const a = document.createElement('a');\n",
              "      a.href = window.URL.createObjectURL(blob);\n",
              "      a.download = filename;\n",
              "      div.appendChild(a);\n",
              "      a.click();\n",
              "      div.remove();\n",
              "    }\n",
              "  "
            ]
          },
          "metadata": {}
        },
        {
          "output_type": "display_data",
          "data": {
            "text/plain": [
              "<IPython.core.display.Javascript object>"
            ],
            "application/javascript": [
              "download(\"download_598238d7-f9ca-4218-af91-41caf2e7a267\", \"structured_Kopya _HM-30085 \\u043e\\u0442 29.04.2025.xlsx\", 5787)"
            ]
          },
          "metadata": {}
        },
        {
          "output_type": "stream",
          "name": "stdout",
          "text": [
            "İndiriliyor/Загрузка: structured_Kopya _HCN-230159 от 11.06.2025.xlsx\n"
          ]
        },
        {
          "output_type": "display_data",
          "data": {
            "text/plain": [
              "<IPython.core.display.Javascript object>"
            ],
            "application/javascript": [
              "\n",
              "    async function download(id, filename, size) {\n",
              "      if (!google.colab.kernel.accessAllowed) {\n",
              "        return;\n",
              "      }\n",
              "      const div = document.createElement('div');\n",
              "      const label = document.createElement('label');\n",
              "      label.textContent = `Downloading \"${filename}\": `;\n",
              "      div.appendChild(label);\n",
              "      const progress = document.createElement('progress');\n",
              "      progress.max = size;\n",
              "      div.appendChild(progress);\n",
              "      document.body.appendChild(div);\n",
              "\n",
              "      const buffers = [];\n",
              "      let downloaded = 0;\n",
              "\n",
              "      const channel = await google.colab.kernel.comms.open(id);\n",
              "      // Send a message to notify the kernel that we're ready.\n",
              "      channel.send({})\n",
              "\n",
              "      for await (const message of channel.messages) {\n",
              "        // Send a message to notify the kernel that we're ready.\n",
              "        channel.send({})\n",
              "        if (message.buffers) {\n",
              "          for (const buffer of message.buffers) {\n",
              "            buffers.push(buffer);\n",
              "            downloaded += buffer.byteLength;\n",
              "            progress.value = downloaded;\n",
              "          }\n",
              "        }\n",
              "      }\n",
              "      const blob = new Blob(buffers, {type: 'application/binary'});\n",
              "      const a = document.createElement('a');\n",
              "      a.href = window.URL.createObjectURL(blob);\n",
              "      a.download = filename;\n",
              "      div.appendChild(a);\n",
              "      a.click();\n",
              "      div.remove();\n",
              "    }\n",
              "  "
            ]
          },
          "metadata": {}
        },
        {
          "output_type": "display_data",
          "data": {
            "text/plain": [
              "<IPython.core.display.Javascript object>"
            ],
            "application/javascript": [
              "download(\"download_c98536e4-e189-431b-a765-d1d2abcea4e7\", \"structured_Kopya _HCN-230159 \\u043e\\u0442 11.06.2025.xlsx\", 5752)"
            ]
          },
          "metadata": {}
        },
        {
          "output_type": "stream",
          "name": "stdout",
          "text": [
            "İndiriliyor/Загрузка: structured_Kopya SP HM-to TSM-07-23-337 с переводом.xlsx\n"
          ]
        },
        {
          "output_type": "display_data",
          "data": {
            "text/plain": [
              "<IPython.core.display.Javascript object>"
            ],
            "application/javascript": [
              "\n",
              "    async function download(id, filename, size) {\n",
              "      if (!google.colab.kernel.accessAllowed) {\n",
              "        return;\n",
              "      }\n",
              "      const div = document.createElement('div');\n",
              "      const label = document.createElement('label');\n",
              "      label.textContent = `Downloading \"${filename}\": `;\n",
              "      div.appendChild(label);\n",
              "      const progress = document.createElement('progress');\n",
              "      progress.max = size;\n",
              "      div.appendChild(progress);\n",
              "      document.body.appendChild(div);\n",
              "\n",
              "      const buffers = [];\n",
              "      let downloaded = 0;\n",
              "\n",
              "      const channel = await google.colab.kernel.comms.open(id);\n",
              "      // Send a message to notify the kernel that we're ready.\n",
              "      channel.send({})\n",
              "\n",
              "      for await (const message of channel.messages) {\n",
              "        // Send a message to notify the kernel that we're ready.\n",
              "        channel.send({})\n",
              "        if (message.buffers) {\n",
              "          for (const buffer of message.buffers) {\n",
              "            buffers.push(buffer);\n",
              "            downloaded += buffer.byteLength;\n",
              "            progress.value = downloaded;\n",
              "          }\n",
              "        }\n",
              "      }\n",
              "      const blob = new Blob(buffers, {type: 'application/binary'});\n",
              "      const a = document.createElement('a');\n",
              "      a.href = window.URL.createObjectURL(blob);\n",
              "      a.download = filename;\n",
              "      div.appendChild(a);\n",
              "      a.click();\n",
              "      div.remove();\n",
              "    }\n",
              "  "
            ]
          },
          "metadata": {}
        },
        {
          "output_type": "display_data",
          "data": {
            "text/plain": [
              "<IPython.core.display.Javascript object>"
            ],
            "application/javascript": [
              "download(\"download_63c5e927-a5dc-483f-82ad-f97d05679d95\", \"structured_Kopya SP HM-to TSM-07-23-337 \\u0441 \\u043f\\u0435\\u0440\\u0435\\u0432\\u043e\\u0434\\u043e\\u043c.xlsx\", 6641)"
            ]
          },
          "metadata": {}
        },
        {
          "output_type": "stream",
          "name": "stdout",
          "text": [
            "İndiriliyor/Загрузка: structured_Kopya _HCN-230154 от 21.04.2025.xlsx\n"
          ]
        },
        {
          "output_type": "display_data",
          "data": {
            "text/plain": [
              "<IPython.core.display.Javascript object>"
            ],
            "application/javascript": [
              "\n",
              "    async function download(id, filename, size) {\n",
              "      if (!google.colab.kernel.accessAllowed) {\n",
              "        return;\n",
              "      }\n",
              "      const div = document.createElement('div');\n",
              "      const label = document.createElement('label');\n",
              "      label.textContent = `Downloading \"${filename}\": `;\n",
              "      div.appendChild(label);\n",
              "      const progress = document.createElement('progress');\n",
              "      progress.max = size;\n",
              "      div.appendChild(progress);\n",
              "      document.body.appendChild(div);\n",
              "\n",
              "      const buffers = [];\n",
              "      let downloaded = 0;\n",
              "\n",
              "      const channel = await google.colab.kernel.comms.open(id);\n",
              "      // Send a message to notify the kernel that we're ready.\n",
              "      channel.send({})\n",
              "\n",
              "      for await (const message of channel.messages) {\n",
              "        // Send a message to notify the kernel that we're ready.\n",
              "        channel.send({})\n",
              "        if (message.buffers) {\n",
              "          for (const buffer of message.buffers) {\n",
              "            buffers.push(buffer);\n",
              "            downloaded += buffer.byteLength;\n",
              "            progress.value = downloaded;\n",
              "          }\n",
              "        }\n",
              "      }\n",
              "      const blob = new Blob(buffers, {type: 'application/binary'});\n",
              "      const a = document.createElement('a');\n",
              "      a.href = window.URL.createObjectURL(blob);\n",
              "      a.download = filename;\n",
              "      div.appendChild(a);\n",
              "      a.click();\n",
              "      div.remove();\n",
              "    }\n",
              "  "
            ]
          },
          "metadata": {}
        },
        {
          "output_type": "display_data",
          "data": {
            "text/plain": [
              "<IPython.core.display.Javascript object>"
            ],
            "application/javascript": [
              "download(\"download_add69902-6cbb-4dc1-bfbf-61695589d222\", \"structured_Kopya _HCN-230154 \\u043e\\u0442 21.04.2025.xlsx\", 6870)"
            ]
          },
          "metadata": {}
        }
      ]
    }
  ],
  "metadata": {
    "colab": {
      "name": "Welcome To Colab",
      "provenance": [],
      "include_colab_link": true
    },
    "kernelspec": {
      "display_name": "Python 3",
      "name": "python3"
    }
  },
  "nbformat": 4,
  "nbformat_minor": 0
}