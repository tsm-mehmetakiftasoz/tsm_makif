{
  "cells": [
    {
      "cell_type": "markdown",
      "metadata": {
        "id": "view-in-github",
        "colab_type": "text"
      },
      "source": [
        "<a href=\"https://colab.research.google.com/github/tsm-mehmetakiftasoz/tsm_makif/blob/main/B3_audit0.ipynb\" target=\"_parent\"><img src=\"https://colab.research.google.com/assets/colab-badge.svg\" alt=\"Open In Colab\"/></a>"
      ]
    },
    {
      "cell_type": "code",
      "source": [
        "!pip install pandas\n",
        "!pip install xlsxwriter"
      ],
      "metadata": {
        "id": "0kdFsOKg0T88",
        "outputId": "7c0b9255-de6b-4b5d-bf3b-c2a4101dfb7e",
        "colab": {
          "base_uri": "https://localhost:8080/"
        }
      },
      "execution_count": 58,
      "outputs": [
        {
          "output_type": "stream",
          "name": "stdout",
          "text": [
            "Requirement already satisfied: pandas in /usr/local/lib/python3.11/dist-packages (2.2.2)\n",
            "Requirement already satisfied: numpy>=1.23.2 in /usr/local/lib/python3.11/dist-packages (from pandas) (2.0.2)\n",
            "Requirement already satisfied: python-dateutil>=2.8.2 in /usr/local/lib/python3.11/dist-packages (from pandas) (2.9.0.post0)\n",
            "Requirement already satisfied: pytz>=2020.1 in /usr/local/lib/python3.11/dist-packages (from pandas) (2025.2)\n",
            "Requirement already satisfied: tzdata>=2022.7 in /usr/local/lib/python3.11/dist-packages (from pandas) (2025.2)\n",
            "Requirement already satisfied: six>=1.5 in /usr/local/lib/python3.11/dist-packages (from python-dateutil>=2.8.2->pandas) (1.17.0)\n",
            "Requirement already satisfied: xlsxwriter in /usr/local/lib/python3.11/dist-packages (3.2.3)\n"
          ]
        }
      ]
    },
    {
      "cell_type": "code",
      "source": [
        "import pandas as pd\n",
        "import numpy as np\n",
        "from google.colab import files\n",
        "from datetime import datetime"
      ],
      "metadata": {
        "id": "PZo8r-w82ntT"
      },
      "execution_count": 59,
      "outputs": []
    },
    {
      "cell_type": "code",
      "source": [
        "def temizle_ve_cevir_2_str(x):\n",
        "    try:\n",
        "        return str(int(float(x)))\n",
        "    except:\n",
        "        return str(x)\n"
      ],
      "metadata": {
        "id": "jlPYC3jI2qoj"
      },
      "execution_count": 60,
      "outputs": []
    },
    {
      "cell_type": "code",
      "source": [
        "def temizle_ve_cevir_2date(x):\n",
        "    try:\n",
        "        return datetime.strptime(x.strip(), \"%d.%m.%Y\")\n",
        "    except (ValueError, AttributeError):\n",
        "        return str(x)\n"
      ],
      "metadata": {
        "id": "y69BvfLmDlu9"
      },
      "execution_count": 61,
      "outputs": []
    },
    {
      "cell_type": "code",
      "source": [
        "def str_to_float(s):\n",
        "    if pd.isna(s):\n",
        "        return None\n",
        "    return float(s.replace(\".\", \"\").replace(\",\", \".\"))"
      ],
      "metadata": {
        "id": "Rg4Gz5N82wjr"
      },
      "execution_count": 62,
      "outputs": []
    },
    {
      "cell_type": "code",
      "source": [
        "#ME2N Raporlarını Yüklemek\n",
        "df_me2n_2022 = pd.read_csv('/content/ME2N_2022.csv', sep=None, engine='python')\n",
        "df_me2n_2023 = pd.read_csv('/content/ME2N_2023.csv', sep=None, engine='python')\n",
        "df_me2n_2024 = pd.read_csv('/content/ME2N_2024.csv', sep=None, engine='python')\n",
        "df_me2n_2025 = pd.read_csv('/content/ME2N_2025.csv', sep=None, engine='python')\n"
      ],
      "metadata": {
        "id": "bBeoa-O325qr"
      },
      "execution_count": 63,
      "outputs": []
    },
    {
      "cell_type": "code",
      "source": [
        "#ilk sutuna yıl yazdırma me2n\n",
        "df_me2n_2022[\"Год\"] = \"2022\"\n",
        "cols = [\"Год\"] + [col for col in df_me2n_2022.columns if col != \"Год\"]\n",
        "df_me2n_2022 = df_me2n_2022[cols]\n",
        "#\n",
        "df_me2n_2023[\"Год\"] = \"2023\"\n",
        "cols = [\"Год\"] + [col for col in df_me2n_2023.columns if col != \"Год\"]\n",
        "df_me2n_2023 = df_me2n_2023[cols]\n",
        "#\n",
        "df_me2n_2024[\"Год\"] = \"2024\"\n",
        "cols = [\"Год\"] + [col for col in df_me2n_2024.columns if col != \"Год\"]\n",
        "df_me2n_2024 = df_me2n_2024[cols]\n",
        "#\n",
        "df_me2n_2025[\"Год\"] = \"2025\"\n",
        "cols = [\"Год\"] + [col for col in df_me2n_2025.columns if col != \"Год\"]\n",
        "df_me2n_2025 = df_me2n_2025[cols]\n",
        "#"
      ],
      "metadata": {
        "id": "DpQZPgJ7AV1A"
      },
      "execution_count": 64,
      "outputs": []
    },
    {
      "cell_type": "code",
      "source": [
        "\n",
        "#ME2N DataFrame'leri bir listeye topla\n",
        "dfs2 = [df_me2n_2022, df_me2n_2023, df_me2n_2024, df_me2n_2025]\n",
        "\n",
        "# Hepsini birleştir\n",
        "df_me2n_2022_2025 = pd.concat(dfs2, ignore_index=True)\n",
        "#df_me2n_2022_2025_ = pd.concat(dfs2, ignore_index=True)\n",
        "# Kontrol için ilk satırlara bak\n",
        "#print(df_me2n_2022_2025.tail(5))"
      ],
      "metadata": {
        "id": "vv9t2bkNAX9g"
      },
      "execution_count": 65,
      "outputs": []
    },
    {
      "cell_type": "code",
      "source": [
        "#me5a raporunu yüklemek\n",
        "df_me5a_2022 = pd.read_csv('/content/ME5A_2022.csv', sep=None, engine='python')\n",
        "df_me5a_2023 = pd.read_csv('/content/ME5A_2023.csv', sep=None, engine='python')\n",
        "df_me5a_2024 = pd.read_csv('/content/ME5A_2024.csv', sep=None, engine='python')\n",
        "df_me5a_2025 = pd.read_csv('/content/ME5A_2025.csv', sep=None, engine='python')\n",
        "\n",
        "\n",
        "# sep=None will automatically detect the delimiter\n",
        "# engine='python' is slower but more robust for complex cases"
      ],
      "metadata": {
        "id": "eVHpnH9rAaTQ"
      },
      "execution_count": 66,
      "outputs": []
    },
    {
      "cell_type": "code",
      "source": [
        "#ilk sutuna yıl yazdırma me2n\n",
        "df_me5a_2022[\"Год\"] = \"2022\"\n",
        "cols = [\"Год\"] + [col for col in df_me5a_2022.columns if col != \"Год\"]\n",
        "df_me5a_2022 = df_me5a_2022[cols]\n",
        "#\n",
        "df_me5a_2023[\"Год\"] = \"2023\"\n",
        "cols = [\"Год\"] + [col for col in df_me5a_2023.columns if col != \"Год\"]\n",
        "df_me5a_2023 = df_me5a_2023[cols]\n",
        "#\n",
        "df_me5a_2024[\"Год\"] = \"2024\"\n",
        "cols = [\"Год\"] + [col for col in df_me5a_2024.columns if col != \"Год\"]\n",
        "df_me5a_2024 = df_me5a_2024[cols]\n",
        "#\n",
        "df_me5a_2025[\"Год\"] = \"2025\"\n",
        "cols = [\"Год\"] + [col for col in df_me5a_2025.columns if col != \"Год\"]\n",
        "df_me5a_2025 = df_me5a_2025[cols]\n",
        "#"
      ],
      "metadata": {
        "id": "OcpBMhWqHeO4"
      },
      "execution_count": 67,
      "outputs": []
    },
    {
      "cell_type": "code",
      "source": [
        "#ME2N DataFrame'leri bir listeye topla\n",
        "dfs3 = [df_me5a_2022, df_me5a_2023, df_me5a_2024, df_me5a_2025]\n",
        "\n",
        "# Hepsini birleştir\n",
        "df_me5a_2022_2025 = pd.concat(dfs3, ignore_index=True)\n",
        "#df_me2n_2022_2025_ = pd.concat(dfs2, ignore_index=True)\n",
        "# Kontrol için ilk satırlara bak\n",
        "#print(df_me2n_2022_2025.tail(5))"
      ],
      "metadata": {
        "id": "EALts8grAhdJ"
      },
      "execution_count": 68,
      "outputs": []
    },
    {
      "cell_type": "code",
      "source": [
        "df_me2n_2022_2025.rename(columns={'﻿Документ закупки': 'Документ_закупки'}, inplace=True)\n",
        "df_me2n_2022_2025.rename(columns={'Позиция': 'ЗП_Позиция'}, inplace=True)\n",
        "df_me2n_2022_2025.rename(columns={'Материал': 'Материал_ЗП'}, inplace=True)"
      ],
      "metadata": {
        "id": "SV5ygt83BP5L"
      },
      "execution_count": 69,
      "outputs": []
    },
    {
      "cell_type": "code",
      "source": [
        "sutun_listesi_2str_me2n = [\"Документ_закупки\",\"ЗП_Позиция\",\"Закуп. организация\",\"Заявка\",\"Материал_ЗП\"]"
      ],
      "metadata": {
        "id": "xpn8lkvzAzpa"
      },
      "execution_count": 70,
      "outputs": []
    },
    {
      "cell_type": "code",
      "source": [
        "for s in sutun_listesi_2str_me2n:\n",
        "    # Apply the robust cleaning and conversion function\n",
        "    df_me2n_2022_2025[s] = df_me2n_2022_2025[s].apply(temizle_ve_cevir_2_str)"
      ],
      "metadata": {
        "id": "1BQVRmlgA_qz"
      },
      "execution_count": 71,
      "outputs": []
    },
    {
      "cell_type": "code",
      "source": [
        "sutun_listesi_str2float_me2n =[\"Объем заказа\",\"еще поставить (количество)\",\n",
        "                               \"Количество в СЕИ\",\"Цена нетто\",\n",
        "                               \"СтоимЗаказа нетто\",\"Еще для поставки (стоимость)\"\n",
        "]"
      ],
      "metadata": {
        "id": "RgBRYGu7CGp8"
      },
      "execution_count": 72,
      "outputs": []
    },
    {
      "cell_type": "code",
      "source": [
        "for s1 in sutun_listesi_str2float_me2n:\n",
        "    # Apply the robust cleaning and conversion function\n",
        "    df_me2n_2022_2025[s1] = df_me2n_2022_2025[s1].apply(str_to_float)"
      ],
      "metadata": {
        "id": "MAQKJh57Cxcu"
      },
      "execution_count": 73,
      "outputs": []
    },
    {
      "cell_type": "code",
      "source": [
        "sutun_listesi_str2date_me2n =[\"Дата документа\",\"Дата поставки\"]\n"
      ],
      "metadata": {
        "id": "4luU55kaC9Km"
      },
      "execution_count": 74,
      "outputs": []
    },
    {
      "cell_type": "code",
      "source": [
        "for s2 in sutun_listesi_str2date_me2n:\n",
        "    # Apply the robust cleaning and conversion function\n",
        "    df_me2n_2022_2025[s2] = df_me2n_2022_2025[s2].apply(temizle_ve_cevir_2date)"
      ],
      "metadata": {
        "id": "0T9oKl41D4pT"
      },
      "execution_count": 75,
      "outputs": []
    },
    {
      "cell_type": "code",
      "source": [
        "df_me5a_2022_2025.info()"
      ],
      "metadata": {
        "id": "cNwRYt-1D_sC",
        "outputId": "8a7d64d0-2b4e-48c9-bb19-d493f48cfd5f",
        "colab": {
          "base_uri": "https://localhost:8080/"
        }
      },
      "execution_count": 76,
      "outputs": [
        {
          "output_type": "stream",
          "name": "stdout",
          "text": [
            "<class 'pandas.core.frame.DataFrame'>\n",
            "RangeIndex: 351530 entries, 0 to 351529\n",
            "Data columns (total 38 columns):\n",
            " #   Column                Non-Null Count   Dtype  \n",
            "---  ------                --------------   -----  \n",
            " 0   Год                   351530 non-null  object \n",
            " 1   ﻿Заявка               351530 non-null  int64  \n",
            " 2   Позиция заявки        351530 non-null  int64  \n",
            " 3   Материал              351078 non-null  float64\n",
            " 4   Индикатор удаления    351530 non-null  bool   \n",
            " 5   Затребовал            351524 non-null  object \n",
            " 6   Индик. выдачи         289876 non-null  object \n",
            " 7   Дата заявки           351530 non-null  object \n",
            " 8   Группа закупок        351526 non-null  object \n",
            " 9   Дата изменения        351530 non-null  object \n",
            " 10  Заказ на поставку     242202 non-null  float64\n",
            " 11  Позиция ЗкзНаПостав   351530 non-null  int64  \n",
            " 12  Дата заказа           242202 non-null  object \n",
            " 13  Долгосрочный договор  1622 non-null    float64\n",
            " 14  ЗатребованКолич       351530 non-null  object \n",
            " 15  Заказанное к-во       351530 non-null  object \n",
            " 16  Единица измерения     351526 non-null  object \n",
            " 17  RU Наименование       351077 non-null  object \n",
            " 18  TR Наименование       343809 non-null  object \n",
            " 19  Инвентарный номер     321615 non-null  object \n",
            " 20  Краткий текст         351527 non-null  object \n",
            " 21  Закуп. организация    351519 non-null  float64\n",
            " 22  Создал                351530 non-null  object \n",
            " 23  ПоступлМатериала      351530 non-null  object \n",
            " 24  Поступление счета     351530 non-null  object \n",
            " 25  Номер проекта         333808 non-null  object \n",
            " 26  Группа материалов     351526 non-null  object \n",
            " 27  Дата поставки         351530 non-null  int64  \n",
            " 28  Завод-поставщик       0 non-null       float64\n",
            " 29  Вид документа         351530 non-null  object \n",
            " 30  Статус обработки      351530 non-null  object \n",
            " 31  Индикатор создания    351530 non-null  object \n",
            " 32  Стратегия деблокир.   289882 non-null  object \n",
            " 33  НДП-материал          20 non-null      float64\n",
            " 34  Номер потребности     547 non-null     object \n",
            " 35  Объем дефицита        351530 non-null  object \n",
            " 36  Тип даты поставки     346320 non-null  object \n",
            " 37  Дата деблокирования   351530 non-null  object \n",
            "dtypes: bool(1), float64(6), int64(4), object(27)\n",
            "memory usage: 99.6+ MB\n"
          ]
        }
      ]
    },
    {
      "cell_type": "code",
      "source": [
        "df_me5a_2022_2025.rename(columns={'﻿Заявка': 'Заявка'}, inplace=True)\n",
        "df_me5a_2022_2025.rename(columns={'Заказ на поставку': 'Документ_закупки'}, inplace=True)\n",
        "df_me5a_2022_2025.rename(columns={'Позиция ЗкзНаПостав': 'ЗП_Позиция'}, inplace=True)\n",
        "df_me5a_2022_2025.rename(columns={'Материал': 'Материал_ВЗ'}, inplace=True)"
      ],
      "metadata": {
        "id": "P7cfV_XaEI3i"
      },
      "execution_count": 77,
      "outputs": []
    },
    {
      "cell_type": "code",
      "source": [
        "sutun_listesi_2str_me5a = [\"Документ_закупки\",\"ЗП_Позиция\",\"Заявка\",\"Позиция заявки\",\"Материал_ВЗ\",\"Закуп. организация\"]"
      ],
      "metadata": {
        "id": "wY-sUjN5EyYb"
      },
      "execution_count": 78,
      "outputs": []
    },
    {
      "cell_type": "code",
      "source": [
        "for s3 in sutun_listesi_2str_me5a:\n",
        "    # Apply the robust cleaning and conversion function\n",
        "    df_me5a_2022_2025[s3] = df_me5a_2022_2025[s3].apply(temizle_ve_cevir_2_str)"
      ],
      "metadata": {
        "id": "MBdXknlCFjAN"
      },
      "execution_count": 80,
      "outputs": []
    },
    {
      "cell_type": "code",
      "source": [
        "sutun_listesi_str2float_me5a =[\"ЗатребованКолич\",\"Заказанное к-во\"\n",
        "]"
      ],
      "metadata": {
        "id": "sSK2bpJWFpwk"
      },
      "execution_count": 81,
      "outputs": []
    },
    {
      "cell_type": "code",
      "source": [
        "for s4 in sutun_listesi_str2float_me5a:\n",
        "    # Apply the robust cleaning and conversion function\n",
        "    df_me5a_2022_2025[s4] = df_me5a_2022_2025[s4].apply(str_to_float)"
      ],
      "metadata": {
        "id": "MwHrl5VJGDT-"
      },
      "execution_count": 82,
      "outputs": []
    },
    {
      "cell_type": "code",
      "source": [
        "sutun_listesi_str2date_me5a =[\"Дата заявки\",\"Дата изменения\",\"Дата заказа\",\"Дата поставки\",\"Дата деблокирования\"]"
      ],
      "metadata": {
        "id": "XcEeKuNTGTPv"
      },
      "execution_count": 83,
      "outputs": []
    },
    {
      "cell_type": "code",
      "source": [
        "for s5 in sutun_listesi_str2date_me5a:\n",
        "    # Apply the robust cleaning and conversion function\n",
        "    df_me5a_2022_2025[s5] = df_me5a_2022_2025[s5].apply(temizle_ve_cevir_2date)"
      ],
      "metadata": {
        "id": "QhvnkbY0Gv3l"
      },
      "execution_count": 84,
      "outputs": []
    },
    {
      "cell_type": "code",
      "source": [
        "df_me5a_2022_2025.info()"
      ],
      "metadata": {
        "id": "dCUrUH31HRu-",
        "outputId": "13c117c2-321c-4ebe-8cc3-4fb3be40937f",
        "colab": {
          "base_uri": "https://localhost:8080/"
        }
      },
      "execution_count": 88,
      "outputs": [
        {
          "output_type": "stream",
          "name": "stdout",
          "text": [
            "<class 'pandas.core.frame.DataFrame'>\n",
            "RangeIndex: 351530 entries, 0 to 351529\n",
            "Data columns (total 39 columns):\n",
            " #   Column                Non-Null Count   Dtype         \n",
            "---  ------                --------------   -----         \n",
            " 0   Год                   351530 non-null  object        \n",
            " 1   Заявка                351530 non-null  object        \n",
            " 2   Позиция заявки        351530 non-null  object        \n",
            " 3   Материал_ВЗ           351530 non-null  object        \n",
            " 4   Индикатор удаления    351530 non-null  bool          \n",
            " 5   Затребовал            351524 non-null  object        \n",
            " 6   Индик. выдачи         289876 non-null  object        \n",
            " 7   Дата заявки           351530 non-null  datetime64[ns]\n",
            " 8   Группа закупок        351526 non-null  object        \n",
            " 9   Дата изменения        351530 non-null  datetime64[ns]\n",
            " 10  Документ_закупки      351530 non-null  object        \n",
            " 11  ЗП_Позиция            351530 non-null  object        \n",
            " 12  Дата заказа           351530 non-null  object        \n",
            " 13  Долгосрочный договор  1622 non-null    float64       \n",
            " 14  ЗатребованКолич       351530 non-null  float64       \n",
            " 15  Заказанное к-во       351530 non-null  float64       \n",
            " 16  Единица измерения     351526 non-null  object        \n",
            " 17  RU Наименование       351077 non-null  object        \n",
            " 18  TR Наименование       343809 non-null  object        \n",
            " 19  Инвентарный номер     321615 non-null  object        \n",
            " 20  Краткий текст         351527 non-null  object        \n",
            " 21  Закуп. организация    351530 non-null  object        \n",
            " 22  Создал                351530 non-null  object        \n",
            " 23  ПоступлМатериала      351530 non-null  object        \n",
            " 24  Поступление счета     351530 non-null  object        \n",
            " 25  Номер проекта         333808 non-null  object        \n",
            " 26  Группа материалов     351526 non-null  object        \n",
            " 27  Дата поставки         351530 non-null  object        \n",
            " 28  Завод-поставщик       0 non-null       float64       \n",
            " 29  Вид документа         351530 non-null  object        \n",
            " 30  Статус обработки      351530 non-null  object        \n",
            " 31  Индикатор создания    351530 non-null  object        \n",
            " 32  Стратегия деблокир.   289882 non-null  object        \n",
            " 33  НДП-материал          20 non-null      float64       \n",
            " 34  Номер потребности     547 non-null     object        \n",
            " 35  Объем дефицита        351530 non-null  object        \n",
            " 36  Тип даты поставки     346320 non-null  object        \n",
            " 37  Дата деблокирования   351530 non-null  datetime64[ns]\n",
            " 38  ЗП-ЗП_ПОЗ_ME5A        351530 non-null  object        \n",
            "dtypes: bool(1), datetime64[ns](3), float64(5), object(30)\n",
            "memory usage: 102.2+ MB\n"
          ]
        }
      ]
    },
    {
      "cell_type": "code",
      "source": [
        "df_me5a_2022_2025[\"ЗП-ЗП_ПОЗ_ME5A\"] = (\n",
        "    df_me5a_2022_2025[\"Документ_закупки\"].astype(str) + \"_\" + df_me5a_2022_2025[\"ЗП_Позиция\"].astype(str)\n",
        ")"
      ],
      "metadata": {
        "id": "AzL6PJn9IAtI"
      },
      "execution_count": 87,
      "outputs": []
    },
    {
      "cell_type": "code",
      "source": [],
      "metadata": {
        "id": "ghPDHl_POnpd"
      },
      "execution_count": null,
      "outputs": []
    }
  ],
  "metadata": {
    "colab": {
      "name": "Welcome To Colab",
      "provenance": [],
      "include_colab_link": true
    },
    "kernelspec": {
      "display_name": "Python 3",
      "name": "python3"
    }
  },
  "nbformat": 4,
  "nbformat_minor": 0
}