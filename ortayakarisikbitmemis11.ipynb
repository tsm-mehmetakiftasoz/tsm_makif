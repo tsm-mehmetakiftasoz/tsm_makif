{
  "cells": [
    {
      "cell_type": "markdown",
      "metadata": {
        "id": "view-in-github",
        "colab_type": "text"
      },
      "source": [
        "<a href=\"https://colab.research.google.com/github/tsm-mehmetakiftasoz/tsm_makif/blob/main/ortayakarisikbitmemis11.ipynb\" target=\"_parent\"><img src=\"https://colab.research.google.com/assets/colab-badge.svg\" alt=\"Open In Colab\"/></a>"
      ]
    },
    {
      "cell_type": "code",
      "source": [
        "!pip install pandas\n",
        "!pip install xlsxwriter"
      ],
      "metadata": {
        "colab": {
          "base_uri": "https://localhost:8080/"
        },
        "id": "dFQwHynLRE9C",
        "outputId": "ab13241a-ec14-4470-f3c2-c58b4326ea43"
      },
      "execution_count": 1,
      "outputs": [
        {
          "output_type": "stream",
          "name": "stdout",
          "text": [
            "Requirement already satisfied: pandas in /usr/local/lib/python3.12/dist-packages (2.2.2)\n",
            "Requirement already satisfied: numpy>=1.26.0 in /usr/local/lib/python3.12/dist-packages (from pandas) (2.0.2)\n",
            "Requirement already satisfied: python-dateutil>=2.8.2 in /usr/local/lib/python3.12/dist-packages (from pandas) (2.9.0.post0)\n",
            "Requirement already satisfied: pytz>=2020.1 in /usr/local/lib/python3.12/dist-packages (from pandas) (2025.2)\n",
            "Requirement already satisfied: tzdata>=2022.7 in /usr/local/lib/python3.12/dist-packages (from pandas) (2025.2)\n",
            "Requirement already satisfied: six>=1.5 in /usr/local/lib/python3.12/dist-packages (from python-dateutil>=2.8.2->pandas) (1.17.0)\n",
            "Collecting xlsxwriter\n",
            "  Downloading xlsxwriter-3.2.9-py3-none-any.whl.metadata (2.7 kB)\n",
            "Downloading xlsxwriter-3.2.9-py3-none-any.whl (175 kB)\n",
            "\u001b[2K   \u001b[90m━━━━━━━━━━━━━━━━━━━━━━━━━━━━━━━━━━━━━━━━\u001b[0m \u001b[32m175.3/175.3 kB\u001b[0m \u001b[31m4.2 MB/s\u001b[0m eta \u001b[36m0:00:00\u001b[0m\n",
            "\u001b[?25hInstalling collected packages: xlsxwriter\n",
            "Successfully installed xlsxwriter-3.2.9\n"
          ]
        }
      ]
    },
    {
      "cell_type": "code",
      "source": [
        "import pandas as pd\n",
        "import numpy as np\n",
        "from google.colab import files\n",
        "import os\n",
        "import zipfile"
      ],
      "metadata": {
        "id": "JrAxqwfaRKHK"
      },
      "execution_count": 2,
      "outputs": []
    },
    {
      "cell_type": "code",
      "source": [
        "def duzenle_sayi_sutunu(df, sutun_adi):\n",
        "    \"\"\"\n",
        "    Sayısal değerleri metin olarak tutan ve binlik/ondalık ayracı içeren sütunu dönüştürür.\n",
        "    - Nokta (.) binlik ayracı olarak kaldırılır\n",
        "    - Virgül (,) ondalık ayracı olarak noktaya çevrilir\n",
        "    - Float olarak dönüştürülür\n",
        "    - Eğer tam sayı ise integer olarak, değilse float olarak kalır\n",
        "    - Sonuç string olarak döndürülür (görsel temizlik için)\n",
        "\n",
        "    Parametreler:\n",
        "    df : pd.DataFrame\n",
        "    sutun_adi : str\n",
        "\n",
        "    Dönüş:\n",
        "    df (işlenmiş hali)\n",
        "    \"\"\"\n",
        "    df[sutun_adi] = (\n",
        "        df[sutun_adi]\n",
        "        .astype(str)\n",
        "        .str.replace(\" \", \"\", regex=False)\n",
        "        .str.replace(\".\", \"\", regex=False)\n",
        "        .str.replace(\",\", \".\", regex=False)\n",
        "        .astype(float)\n",
        "        .apply(lambda x: str(int(x)) if x.is_integer() else str(x))\n",
        "    )\n",
        "    return df\n"
      ],
      "metadata": {
        "id": "840bNUgpRdsA"
      },
      "execution_count": 3,
      "outputs": []
    },
    {
      "cell_type": "code",
      "source": [
        "def temizle_ve_cevir(x):\n",
        "    try:\n",
        "        return str(int(float(str(x).strip())))\n",
        "    except:\n",
        "        return str(x).strip()\n"
      ],
      "metadata": {
        "id": "QTL23IdySB_A"
      },
      "execution_count": 4,
      "outputs": []
    },
    {
      "cell_type": "code",
      "source": [
        "# Temizlenecek değerler listesi\n",
        "temizlenecekler = [\"nan\", \"Nan\", \"NaN\", \"\",\" \",\"0\",\"naN\",\"nAn\",\"NAn\",\"nAN\"]\n",
        "\n",
        "def temizle_nan(value):\n",
        "    if str(value).strip().lower() in [x.lower() for x in temizlenecekler]:\n",
        "        return pd.NA\n",
        "    return value\n"
      ],
      "metadata": {
        "id": "HQQV6bjM8KN1"
      },
      "execution_count": 5,
      "outputs": []
    },
    {
      "cell_type": "code",
      "source": [
        "# Güvenli filtreleme fonksiyonu\n",
        "def dolu_mi(x):\n",
        "    return pd.notna(x) and str(x).strip() != \"\" and str(x).strip().upper() != \"<NA>\"\n"
      ],
      "metadata": {
        "id": "bSwCOJ41R2zL"
      },
      "execution_count": 6,
      "outputs": []
    },
    {
      "cell_type": "code",
      "source": [
        "#me5a'nın yüklenmesi\n",
        "df_me5a_2022 = pd.read_csv('/content/ME5A_2022.csv', sep=None, engine='python')\n",
        "df_me5a_2023 = pd.read_csv('/content/ME5A_2023.csv', sep=None, engine='python')\n",
        "df_me5a_2024 = pd.read_csv('/content/ME5A_2024.csv', sep=None, engine='python')\n",
        "df_me5a_2025 = pd.read_csv('/content/ME5A_2025.csv', sep=None, engine='python')\n",
        "# sep=None will automatically detect the delimiter\n",
        "# engine='python' is slower but more robust for complex cases\n",
        "#zmm059un yüklenmesi\n",
        "df_zmm059_2022 = pd.read_csv('/content/zmm059_2022.csv', sep=None, engine='python')\n",
        "df_zmm059_2023 = pd.read_csv('/content/zmm059_2023.csv', sep=None, engine='python')\n",
        "df_zmm059_2024_1 = pd.read_csv('/content/zmm059_2024_1.csv', sep=None, engine='python')\n",
        "df_zmm059_2024_2 = pd.read_csv('/content/zmm059_2024_2.csv', sep=None, engine='python')\n",
        "df_zmm059_2024_3 = pd.read_csv('/content/zmm059_2024_3.csv', sep=None, engine='python')\n",
        "df_zmm059_2024_4 = pd.read_csv('/content/zmm059_2024_4.csv', sep=None, engine='python')\n",
        "df_zmm059_2025 = pd.read_csv('/content/zmm059_2025.csv', sep=None, engine='python')\n",
        "#yardımcı tabloların yüklenmesi\n",
        "df_tedarikci_listesi = pd.read_csv('/content/tedarikci_isim.csv', sep=None, engine='python')\n",
        "df_material_list = pd.read_csv('/content/material_list.csv', sep=None, engine='python')\n",
        "# sep=None will automatically detect the delimiter\n",
        "# engine='python' is slower but more robust for complex cases\n",
        "#me2n'in yüklenmesi\n",
        "df_me2n_2022 = pd.read_csv('/content/ME2N_2022.csv', sep=None, engine='python')\n",
        "df_me2n_2023 = pd.read_csv('/content/ME2N_2023.csv', sep=None, engine='python')\n",
        "df_me2n_2024 = pd.read_csv('/content/ME2N_2024.csv', sep=None, engine='python')\n",
        "df_me2n_2025 = pd.read_csv('/content/ME2N_2025.csv', sep=None, engine='python')\n",
        "# sep=None will automatically detect the delimiter\n",
        "# engine='python' is slower but more robust for complex cases\n",
        "#zmb51'in yüklenmesi\n",
        "df_zmb51_2022 = pd.read_csv('/content/zmb51_2022.csv', sep=None, engine='python')\n",
        "df_zmb51_2023 = pd.read_csv('/content/zmb51_2023.csv', sep=None, engine='python')\n",
        "df_zmb51_2024_1 = pd.read_csv('/content/zmb51_2024_1.csv', sep=None, engine='python')\n",
        "df_zmb51_2024_2 = pd.read_csv('/content/zmb51_2024_2.csv', sep=None, engine='python')\n",
        "df_zmb51_2024_3 = pd.read_csv('/content/zmb51_2024_3.csv', sep=None, engine='python')\n",
        "df_zmb51_2024_4 = pd.read_csv('/content/zmb51_2024_4.csv', sep=None, engine='python')\n",
        "df_zmb51_2024_5 = pd.read_csv('/content/zmb51_2024_5.csv', sep=None, engine='python')\n",
        "#df_zmb51_2024_6 = pd.read_csv('/content/zmb51_2024_6.csv', sep=None, engine='python')\n",
        "#df_zmb51_2024_7 = pd.read_csv('/content/zmb51_2024_7.csv', sep=None, engine='python')\n",
        "df_zmb51_2025 = pd.read_csv('/content/zmb51_2025.csv', sep=None, engine='python')\n",
        "df_zmb51_2025_2 = pd.read_csv('/content/zmb51_2025-2.csv', sep=None, engine='python')\n",
        "# sep=None will automatically detect the delimiter\n",
        "# engine='python' is slower but more robust for complex cases\n",
        "#zmm067'in yüklenmesi\n",
        "df_zmm067_2022 = pd.read_csv('/content/ZMM067_2022.csv', sep=None, engine='python')\n",
        "df_zmm067_2023 = pd.read_csv('/content/ZMM067_2023.csv', sep=None, engine='python')\n",
        "df_zmm067_2024_1 = pd.read_csv('/content/ZMM067_2024_1.csv', sep=None, engine='python')\n",
        "df_zmm067_2024_2 = pd.read_csv('/content/ZMM067_2024_2.csv', sep=None, engine='python')\n",
        "df_zmm067_2025 = pd.read_csv('/content/ZMM067_2025.csv', sep=None, engine='python')\n",
        "\n"
      ],
      "metadata": {
        "id": "OXTHRbNoSE9S"
      },
      "execution_count": 7,
      "outputs": []
    },
    {
      "cell_type": "code",
      "source": [
        "\n",
        "#ilk sutuna yıl yazdırma me5a\n",
        "df_me5a_2022[\"ГОД\"] = \"2022\"\n",
        "cols = [\"ГОД\"] + [col for col in df_me5a_2022.columns if col != \"ГОД\"]\n",
        "df_me5a_2022 = df_me5a_2022[cols]\n",
        "#\n",
        "df_me5a_2023[\"ГОД\"] = \"2023\"\n",
        "cols = [\"ГОД\"] + [col for col in df_me5a_2023.columns if col != \"ГОД\"]\n",
        "df_me5a_2023 = df_me5a_2023[cols]\n",
        "#\n",
        "df_me5a_2024[\"ГОД\"] = \"2024\"\n",
        "cols = [\"ГОД\"] + [col for col in df_me5a_2024.columns if col != \"ГОД\"]\n",
        "df_me5a_2024 = df_me5a_2024[cols]\n",
        "#\n",
        "df_me5a_2025[\"ГОД\"] = \"2025\"\n",
        "cols = [\"ГОД\"] + [col for col in df_me5a_2025.columns if col != \"ГОД\"]\n",
        "df_me5a_2025 = df_me5a_2025[cols]\n",
        "\n",
        "#ilk sutuna yıl yazdırma zmm059\n",
        "df_zmm059_2022[\"ГОД\"] = \"2022\"\n",
        "cols = [\"ГОД\"] + [col for col in df_zmm059_2022.columns if col != \"ГОД\"]\n",
        "df_zmm059_2022 = df_zmm059_2022[cols]\n",
        "#\n",
        "df_zmm059_2023[\"ГОД\"] = \"2023\"\n",
        "cols = [\"ГОД\"] + [col for col in df_zmm059_2023.columns if col != \"ГОД\"]\n",
        "df_zmm059_2023 = df_zmm059_2023[cols]\n",
        "#\n",
        "df_zmm059_2025[\"ГОД\"] = \"2025\"\n",
        "cols = [\"ГОД\"] + [col for col in df_zmm059_2025.columns if col != \"ГОД\"]\n",
        "df_zmm059_2025 = df_zmm059_2025[cols]\n",
        "#\n",
        "df_zmm059_2024_1[\"ГОД\"] = \"2024\"\n",
        "cols = [\"ГОД\"] + [col for col in df_zmm059_2024_1.columns if col != \"ГОД\"]\n",
        "df_zmm059_2024_1 = df_zmm059_2024_1[cols]\n",
        "#\n",
        "df_zmm059_2024_2[\"ГОД\"] = \"2024\"\n",
        "cols = [\"ГОД\"] + [col for col in df_zmm059_2024_2.columns if col != \"ГОД\"]\n",
        "df_zmm059_2024_2 = df_zmm059_2024_2[cols]\n",
        "#\n",
        "df_zmm059_2024_3[\"ГОД\"] = \"2024\"\n",
        "cols = [\"ГОД\"] + [col for col in df_zmm059_2024_3.columns if col != \"ГОД\"]\n",
        "df_zmm059_2024_3 = df_zmm059_2024_3[cols]\n",
        "#\n",
        "df_zmm059_2024_4[\"ГОД\"] = \"2024\"\n",
        "cols = [\"ГОД\"] + [col for col in df_zmm059_2024_4.columns if col != \"ГОД\"]\n",
        "df_zmm059_2024_4 = df_zmm059_2024_4[cols]\n",
        "\n",
        "#ilk sutuna yıl yazdırma me2n\n",
        "df_me2n_2022[\"ГОД\"] = \"2022\"\n",
        "cols = [\"ГОД\"] + [col for col in df_me2n_2022.columns if col != \"ГОД\"]\n",
        "df_me2n_2022 = df_me2n_2022[cols]\n",
        "#\n",
        "df_me2n_2023[\"ГОД\"] = \"2023\"\n",
        "cols = [\"ГОД\"] + [col for col in df_me2n_2023.columns if col != \"ГОД\"]\n",
        "df_me2n_2023 = df_me2n_2023[cols]\n",
        "#\n",
        "df_me2n_2024[\"ГОД\"] = \"2024\"\n",
        "cols = [\"ГОД\"] + [col for col in df_me2n_2024.columns if col != \"ГОД\"]\n",
        "df_me2n_2024 = df_me2n_2024[cols]\n",
        "#\n",
        "df_me2n_2025[\"ГОД\"] = \"2025\"\n",
        "cols = [\"ГОД\"] + [col for col in df_me2n_2025.columns if col != \"ГОД\"]\n",
        "df_me2n_2025 = df_me2n_2025[cols]\n",
        "#ilk sutuna yıl yazdırma zmb51\n",
        "df_zmb51_2022[\"ГОД\"] = \"2022\"\n",
        "cols = [\"ГОД\"] + [col for col in df_zmb51_2022.columns if col != \"ГОД\"]\n",
        "df_zmb51_2022 = df_zmb51_2022[cols]\n",
        "#\n",
        "df_zmb51_2023[\"ГОД\"] = \"2023\"\n",
        "cols = [\"ГОД\"] + [col for col in df_zmb51_2023.columns if col != \"ГОД\"]\n",
        "df_zmb51_2023 = df_zmb51_2023[cols]\n",
        "#\n",
        "df_zmb51_2024_1[\"ГОД\"] = \"2024\"\n",
        "cols = [\"ГОД\"] + [col for col in df_zmb51_2024_1.columns if col != \"ГОД\"]\n",
        "df_zmb51_2024_1 = df_zmb51_2024_1[cols]\n",
        "#\n",
        "df_zmb51_2024_2[\"ГОД\"] = \"2024\"\n",
        "cols = [\"ГОД\"] + [col for col in df_zmb51_2024_2.columns if col != \"ГОД\"]\n",
        "df_zmb51_2024_2 = df_zmb51_2024_2[cols]\n",
        "#\n",
        "df_zmb51_2024_3[\"ГОД\"] = \"2024\"\n",
        "cols = [\"ГОД\"] + [col for col in df_zmb51_2024_3.columns if col != \"ГОД\"]\n",
        "df_zmb51_2024_3 = df_zmb51_2024_3[cols]\n",
        "#\n",
        "df_zmb51_2024_4[\"ГОД\"] = \"2024\"\n",
        "cols = [\"ГОД\"] + [col for col in df_zmb51_2024_4.columns if col != \"ГОД\"]\n",
        "df_zmb51_2024_4 = df_zmb51_2024_4[cols]\n",
        "#\n",
        "df_zmb51_2024_5[\"ГОД\"] = \"2024\"\n",
        "cols = [\"ГОД\"] + [col for col in df_zmb51_2024_5.columns if col != \"ГОД\"]\n",
        "df_zmb51_2024_5 = df_zmb51_2024_5[cols]\n",
        "#\n",
        "df_zmb51_2025[\"ГОД\"] = \"2025\"\n",
        "cols = [\"ГОД\"] + [col for col in df_zmb51_2025.columns if col != \"ГОД\"]\n",
        "df_zmb51_2025 = df_zmb51_2025[cols]\n",
        "#\n",
        "df_zmb51_2025_2[\"ГОД\"] = \"2025\"\n",
        "cols = [\"ГОД\"] + [col for col in df_zmb51_2025_2.columns if col != \"ГОД\"]\n",
        "df_zmb51_2025_2 = df_zmb51_2025_2[cols]\n",
        "#ilk sutuna yıl yazdırma zmm067\n",
        "# 2022\n",
        "df_zmm067_2022[\"ГОД\"] = \"2022\"\n",
        "cols = [\"ГОД\"] + [col for col in df_zmm067_2022.columns if col != \"ГОД\"]\n",
        "df_zmm067_2022 = df_zmm067_2022[cols]\n",
        "\n",
        "# 2023\n",
        "df_zmm067_2023[\"ГОД\"] = \"2023\"\n",
        "cols = [\"ГОД\"] + [col for col in df_zmm067_2023.columns if col != \"ГОД\"]\n",
        "df_zmm067_2023 = df_zmm067_2023[cols]\n",
        "\n",
        "# 2024_1\n",
        "df_zmm067_2024_1[\"ГОД\"] = \"2024\"\n",
        "cols = [\"ГОД\"] + [col for col in df_zmm067_2024_1.columns if col != \"ГОД\"]\n",
        "df_zmm067_2024_1 = df_zmm067_2024_1[cols]\n",
        "\n",
        "# 2024_2\n",
        "df_zmm067_2024_2[\"ГОД\"] = \"2024\"\n",
        "cols = [\"ГОД\"] + [col for col in df_zmm067_2024_2.columns if col != \"ГОД\"]\n",
        "df_zmm067_2024_2 = df_zmm067_2024_2[cols]\n",
        "\n",
        "# 2025\n",
        "df_zmm067_2025[\"ГОД\"] = \"2025\"\n",
        "cols = [\"ГОД\"] + [col for col in df_zmm067_2025.columns if col != \"ГОД\"]\n",
        "df_zmm067_2025 = df_zmm067_2025[cols]"
      ],
      "metadata": {
        "id": "pg3svF3aSGH_"
      },
      "execution_count": 8,
      "outputs": []
    },
    {
      "cell_type": "code",
      "source": [
        "#me5a birleştirme\n",
        "df_listesi_me5a = [df_me5a_2022, df_me5a_2023, df_me5a_2024,df_me5a_2025]\n",
        "df_me5a_2022_2025 = pd.concat(df_listesi_me5a, ignore_index=True)\n",
        "# zmm059 birleştirme\n",
        "df_listesi_zmm059 = [df_zmm059_2022, df_zmm059_2023, df_zmm059_2024_1, df_zmm059_2024_2, df_zmm059_2024_3, df_zmm059_2024_4, df_zmm059_2025]\n",
        "df_zmm059_2022_2025 = pd.concat(df_listesi_zmm059, ignore_index=True)\n",
        "#me2n birleştirme\n",
        "df_listesi_me2n = [df_me2n_2022, df_me2n_2023, df_me2n_2024,df_me2n_2025]\n",
        "df_me2n_2022_2025 = pd.concat(df_listesi_me2n, ignore_index=True)\n",
        "#zmb51 birleştirme\n",
        "df_listesi_zmb51 = [df_zmb51_2022,df_zmb51_2023,df_zmb51_2024_1,df_zmb51_2024_2,\n",
        "              df_zmb51_2024_3,df_zmb51_2024_4,df_zmb51_2024_5,\n",
        "              df_zmb51_2025,df_zmb51_2025_2]\n",
        "birlesik_df_zmb51 = pd.concat(df_listesi_zmb51, ignore_index=True)\n",
        "#zmm067 birleştirme\n",
        "df_listesi_zmm067 = [df_zmm067_2022,df_zmm067_2023,df_zmm067_2024_1,df_zmm067_2024_2,df_zmm067_2025]\n",
        "df_zmm067_2022_2025 = pd.concat(df_listesi_zmm067, ignore_index=True)"
      ],
      "metadata": {
        "id": "PEjYbce0SHp3"
      },
      "execution_count": 9,
      "outputs": []
    },
    {
      "cell_type": "code",
      "source": [
        "#yedek tablolar\n",
        "df_me5a_2022_2025_yedek=df_me5a_2022_2025.copy()\n",
        "df_zmm059_2022_2025_yedek=df_zmm059_2022_2025.copy()\n",
        "df_me2n_2022_2025_yedek=df_me2n_2022_2025.copy()\n",
        "birlesik_df_zmb51_yedek=birlesik_df_zmb51.copy()\n",
        "df_zmm067_2022_2025_yedek=df_zmm067_2022_2025.copy()"
      ],
      "metadata": {
        "id": "WsPSFrm5Uc_7"
      },
      "execution_count": 10,
      "outputs": []
    },
    {
      "cell_type": "code",
      "source": [
        "#zmm059\n",
        "df_zmm059_2022_2025[\"﻿Документ закупки\"] = df_zmm059_2022_2025[\"﻿Документ закупки\"].apply(temizle_ve_cevir)\n",
        "df_zmm059_2022_2025.rename(columns={'﻿Документ закупки': 'Документ_закупки'}, inplace=True)\n",
        "df_zmm059_2022_2025[\"Материал\"] = df_zmm059_2022_2025[\"Материал\"].apply(temizle_ve_cevir)\n",
        "df_zmm059_2022_2025[\"Заявка\"] = df_zmm059_2022_2025[\"Заявка\"].apply(temizle_ve_cevir)\n",
        "df_zmm059_2022_2025 = duzenle_sayi_sutunu(df_zmm059_2022_2025, \"Количество ЗП\")\n",
        "df_zmm059_2022_2025 = duzenle_sayi_sutunu(df_zmm059_2022_2025, \"Минимальная цена ЗП\")\n",
        "df_zmm059_2022_2025 = duzenle_sayi_sutunu(df_zmm059_2022_2025, \"Единица ЗП\")\n",
        "df_zmm059_2022_2025 = duzenle_sayi_sutunu(df_zmm059_2022_2025, \"Цена нетто ЗП\")\n",
        "df_zmm059_2022_2025 = duzenle_sayi_sutunu(df_zmm059_2022_2025, \"Итого цена нетто\")\n",
        "df_zmm059_2022_2025[\"Дата создания\"] = pd.to_datetime(df_zmm059_2022_2025[\"Дата создания\"], format=\"%d.%m.%Y\", errors=\"coerce\").dt.date\n",
        "df_zmm059_2022_2025[\"Дата поставки\"] = pd.to_datetime(df_zmm059_2022_2025[\"Дата поставки\"], format=\"%d.%m.%Y\", errors=\"coerce\").dt.date\n",
        "df_zmm059_2022_2025[\"Дата доставки, одобренная Поставщиком\"] = pd.to_datetime(df_zmm059_2022_2025[\"Дата доставки, одобренная Поставщиком\"], format=\"%d.%m.%Y\", errors=\"coerce\").dt.date\n",
        "df_zmm059_2022_2025[\"Группа закупок\"] = df_zmm059_2022_2025[\"Группа закупок\"].apply(temizle_ve_cevir)\n",
        "df_zmm059_2022_2025[\"БЕ\"] = df_zmm059_2022_2025[\"БЕ\"].apply(temizle_ve_cevir)\n",
        "df_zmm059_2022_2025[\"Закуп. организация\"] = df_zmm059_2022_2025[\"Закуп. организация\"].apply(temizle_ve_cevir)\n",
        "df_zmm059_2022_2025[\"Поставщик\"] = df_zmm059_2022_2025[\"Поставщик\"].apply(temizle_ve_cevir)\n",
        "df_zmm059_2022_2025[\"Дата создания.1\"] = pd.to_datetime(df_zmm059_2022_2025[\"Дата создания.1\"], format=\"%d.%m.%Y\", errors=\"coerce\").dt.date\n",
        "df_zmm059_2022_2025 = duzenle_sayi_sutunu(df_zmm059_2022_2025, \"Цена заказа нетто\")\n",
        "df_zmm059_2022_2025 = duzenle_sayi_sutunu(df_zmm059_2022_2025, \"Стоимость брутто\")\n",
        "df_zmm059_2022_2025 = duzenle_sayi_sutunu(df_zmm059_2022_2025, \"Недопоставленное количество\")\n",
        "df_zmm059_2022_2025 = duzenle_sayi_sutunu(df_zmm059_2022_2025, \"Количество поставки\")\n",
        "df_zmm059_2022_2025 = duzenle_sayi_sutunu(df_zmm059_2022_2025, \"Сумма брутто\")\n",
        "df_zmm059_2022_2025 = duzenle_sayi_sutunu(df_zmm059_2022_2025, \"Количество по счету\")\n",
        "df_zmm059_2022_2025[\"Дата проводки\"] = pd.to_datetime(df_zmm059_2022_2025[\"Дата проводки\"], format=\"%d.%m.%Y\", errors=\"coerce\").dt.date\n",
        "df_zmm059_2022_2025 = duzenle_sayi_sutunu(df_zmm059_2022_2025, \"Количество по счету.1\")\n",
        "df_zmm059_2022_2025 = duzenle_sayi_sutunu(df_zmm059_2022_2025, \"Остаток количества по счету\")\n",
        "df_zmm059_2022_2025[\"Дата контракта\"] = pd.to_datetime(df_zmm059_2022_2025[\"Дата контракта\"], format=\"%d.%m.%Y\", errors=\"coerce\").dt.date\n",
        "df_zmm059_2022_2025[\"Дата вступления в силу контракта\"] = pd.to_datetime(df_zmm059_2022_2025[\"Дата вступления в силу контракта\"], format=\"%d.%m.%Y\", errors=\"coerce\").dt.date\n",
        "df_zmm059_2022_2025[\"Дата окончания действия договора\"] = pd.to_datetime(df_zmm059_2022_2025[\"Дата окончания действия договора\"], format=\"%d.%m.%Y\", errors=\"coerce\").dt.date\n"
      ],
      "metadata": {
        "id": "2AVT1IlLREUo"
      },
      "execution_count": 11,
      "outputs": []
    },
    {
      "cell_type": "code",
      "source": [
        "df_me5a_2022_2025.columns"
      ],
      "metadata": {
        "id": "5q2CpegPTdVh",
        "outputId": "4dd24619-cf6f-4bd8-c5de-7921a5333ccb",
        "colab": {
          "base_uri": "https://localhost:8080/"
        }
      },
      "execution_count": 12,
      "outputs": [
        {
          "output_type": "execute_result",
          "data": {
            "text/plain": [
              "Index(['ГОД', '﻿Заявка', 'Позиция заявки', 'Материал', 'Индикатор удаления',\n",
              "       'Затребовал', 'Индик. выдачи', 'Группа деблокир.',\n",
              "       'Статус обработки заявки', 'Дата заявки', 'Группа закупок',\n",
              "       'Дата изменения', 'Заказ на поставку', 'Позиция ЗкзНаПостав',\n",
              "       'Дата заказа', 'Долгосрочный договор', 'ЗатребованКолич',\n",
              "       'Заказанное к-во', 'Единица измерения', 'RU Наименование',\n",
              "       'TR Наименование', 'Инвентарный номер', 'Краткий текст',\n",
              "       'Закуп. организация', 'Создал', 'ПоступлМатериала', 'Поступление счета',\n",
              "       'Номер проекта', 'Группа материалов', 'Дата поставки',\n",
              "       'Завод-поставщик', 'Вид документа', 'Статус обработки',\n",
              "       'Индикатор создания', 'Стратегия деблокир.', 'НДП-материал',\n",
              "       'Номер потребности', 'Объем дефицита', 'Тип даты поставки',\n",
              "       'Дата деблокирования'],\n",
              "      dtype='object')"
            ]
          },
          "metadata": {},
          "execution_count": 12
        }
      ]
    },
    {
      "cell_type": "code",
      "source": [
        "#ME5A\n",
        "df_me5a_2022_2025[\"﻿Заявка\"] = df_me5a_2022_2025[\"﻿Заявка\"].apply(temizle_ve_cevir)\n",
        "df_me5a_2022_2025.rename(columns={'﻿Заявка': 'Заявка'}, inplace=True)\n",
        "df_me5a_2022_2025.rename(columns={'Индикатор удаления': 'Индикатор удаления_B3'}, inplace=True)\n",
        "df_me5a_2022_2025[\"Материал\"] = df_me5a_2022_2025[\"Материал\"].apply(temizle_ve_cevir)\n",
        "df_me5a_2022_2025[\"'Дата заявки\"] = pd.to_datetime(df_me5a_2022_2025[\"Дата заявки\"], format=\"%d.%m.%Y\", errors=\"coerce\").dt.date\n",
        "df_me5a_2022_2025[\"Группа закупок\"] = df_me5a_2022_2025[\"Группа закупок\"].apply(temizle_ve_cevir)\n",
        "df_me5a_2022_2025[\"'Дата заявки\"] = pd.to_datetime(df_me5a_2022_2025[\"Дата заявки\"], format=\"%d.%m.%Y\", errors=\"coerce\").dt.date\n",
        "df_me5a_2022_2025[\"Дата изменения\"] = df_me5a_2022_2025[\"Дата изменения\"].apply(temizle_ve_cevir)\n",
        "df_me5a_2022_2025[\"Заказ на поставку\"] = df_me5a_2022_2025[\"Заказ на поставку\"].apply(temizle_ve_cevir)\n",
        "df_me5a_2022_2025[\"Позиция ЗкзНаПостав\"] = df_me5a_2022_2025[\"Позиция ЗкзНаПостав\"].apply(temizle_ve_cevir)\n",
        "df_me5a_2022_2025 = duzenle_sayi_sutunu(df_me5a_2022_2025, \"ЗатребованКолич\")\n",
        "df_me5a_2022_2025 = duzenle_sayi_sutunu(df_me5a_2022_2025, \"Заказанное к-во\")\n",
        "df_me5a_2022_2025[\"Закуп. организация\"] = df_me5a_2022_2025[\"Закуп. организация\"].apply(temizle_ve_cevir)\n",
        "df_me5a_2022_2025[\"Номер проекта\"] = df_me5a_2022_2025[\"Номер проекта\"].apply(temizle_ve_cevir)\n",
        "df_me5a_2022_2025[\"Дата деблокирования\"] = pd.to_datetime(df_me5a_2022_2025[\"Дата деблокирования\"], format=\"%d.%m.%Y\", errors=\"coerce\").dt.date\n"
      ],
      "metadata": {
        "id": "xLGSc2H0RFrZ"
      },
      "execution_count": 13,
      "outputs": []
    },
    {
      "cell_type": "code",
      "source": [
        "#me2n\n",
        "df_me2n_2022_2025[\"﻿Документ закупки\"] = df_me2n_2022_2025[\"﻿Документ закупки\"].apply(temizle_ve_cevir)\n",
        "df_me2n_2022_2025.rename(columns={'﻿Документ закупки': 'Документ закупки'}, inplace=True)\n",
        "df_me2n_2022_2025[\"Дата документа\"] = pd.to_datetime(df_me2n_2022_2025[\"Дата документа\"], format=\"%d.%m.%Y\", errors=\"coerce\").dt.date\n",
        "df_me2n_2022_2025[\"Заявка\"] = df_me2n_2022_2025[\"Заявка\"].apply(temizle_ve_cevir)\n",
        "df_me2n_2022_2025[\"Материал\"] = df_me2n_2022_2025[\"Материал\"].apply(temizle_ve_cevir)\n",
        "df_me2n_2022_2025 = duzenle_sayi_sutunu(df_me2n_2022_2025, \"Объем заказа\")\n",
        "df_me2n_2022_2025 = duzenle_sayi_sutunu(df_me2n_2022_2025, \"еще поставить (количество)\")\n",
        "df_me2n_2022_2025 = duzenle_sayi_sutunu(df_me2n_2022_2025, \"Количество в СЕИ\")\n",
        "df_me2n_2022_2025 = duzenle_sayi_sutunu(df_me2n_2022_2025, \"Цена нетто\")\n",
        "df_me2n_2022_2025 = duzenle_sayi_sutunu(df_me2n_2022_2025, \"СтоимЗаказа нетто\")\n",
        "df_me2n_2022_2025 = duzenle_sayi_sutunu(df_me2n_2022_2025, \"Еще для поставки (стоимость)\")\n",
        "df_me2n_2022_2025[\"Дата поставки\"] = pd.to_datetime(df_me2n_2022_2025[\"Дата поставки\"], format=\"%d.%m.%Y\", errors=\"coerce\").dt.date\n"
      ],
      "metadata": {
        "id": "9p3785HbRHT5"
      },
      "execution_count": 14,
      "outputs": []
    },
    {
      "cell_type": "code",
      "source": [
        "#zmb51\n",
        "birlesik_df_zmb51 = duzenle_sayi_sutunu(birlesik_df_zmb51, \"Сумма во ВВ\")\n",
        "birlesik_df_zmb51[\"Партия\"] = birlesik_df_zmb51[\"Партия\"].apply(temizle_ve_cevir)\n",
        "birlesik_df_zmb51[\"Материал\"] = birlesik_df_zmb51[\"Материал\"].apply(temizle_ve_cevir)\n",
        "birlesik_df_zmb51[\"Дата ввода\"] = pd.to_datetime(birlesik_df_zmb51[\"Дата ввода\"], format=\"%d.%m.%Y\", errors=\"coerce\").dt.date\n",
        "birlesik_df_zmb51[\"Дата документа\"] = pd.to_datetime(birlesik_df_zmb51[\"Дата документа\"], format=\"%d.%m.%Y\", errors=\"coerce\").dt.date\n",
        "birlesik_df_zmb51[\"Дата проводки\"] = pd.to_datetime(birlesik_df_zmb51[\"Дата проводки\"], format=\"%d.%m.%Y\", errors=\"coerce\").dt.date\n",
        "birlesik_df_zmb51[\"Внутренний заказ\"] = birlesik_df_zmb51[\"Внутренний заказ\"].apply(temizle_ve_cevir)\n",
        "birlesik_df_zmb51[\"Заказ на поставку\"] = birlesik_df_zmb51[\"Заказ на поставку\"].apply(temizle_ve_cevir)\n",
        "birlesik_df_zmb51[\"Позиция\"] = birlesik_df_zmb51[\"Позиция\"].apply(temizle_ve_cevir)\n",
        "birlesik_df_zmb51[\"Документ материала\"] = birlesik_df_zmb51[\"Документ материала\"].apply(temizle_ve_cevir)\n",
        "birlesik_df_zmb51[\"Поз. док. материала\"] = birlesik_df_zmb51[\"Поз. док. материала\"].apply(temizle_ve_cevir)\n",
        "birlesik_df_zmb51 = duzenle_sayi_sutunu(birlesik_df_zmb51, \"Кол-во в ЕИ ввода\")\n",
        "birlesik_df_zmb51 = duzenle_sayi_sutunu(birlesik_df_zmb51, \"Количество\")\n",
        "birlesik_df_zmb51['Поставщик'] = birlesik_df_zmb51['Поставщик'].apply(temizle_ve_cevir)\n",
        "birlesik_df_zmb51.rename(columns={'﻿Вид движения': 'Вид движения'}, inplace=True)\n"
      ],
      "metadata": {
        "id": "PoaQo5KJRM-J"
      },
      "execution_count": 15,
      "outputs": []
    },
    {
      "cell_type": "code",
      "source": [
        "#zmm067\n",
        "df_zmm067_2022_2025[\"﻿Заявка\"] = df_zmm067_2022_2025[\"﻿Заявка\"].apply(temizle_ve_cevir)\n",
        "df_zmm067_2022_2025.rename(columns={'﻿Заявка': 'Заявка'}, inplace=True)\n",
        "df_zmm067_2022_2025[\"Позиция заявки\"] = df_zmm067_2022_2025[\"Позиция заявки\"].apply(temizle_ve_cevir)\n",
        "df_zmm067_2022_2025[\"Материал\"] = df_zmm067_2022_2025[\"Материал\"].apply(temizle_ve_cevir)\n",
        "df_zmm067_2022_2025[\"Заказ на поставку\"] = df_zmm067_2022_2025[\"Заказ на поставку\"].apply(temizle_ve_cevir)\n",
        "df_zmm067_2022_2025[\"Позиция ЗкзНаПостав\"] = df_zmm067_2022_2025[\"Позиция ЗкзНаПостав\"].apply(temizle_ve_cevir)\n",
        "\n"
      ],
      "metadata": {
        "id": "BBgZm5UIWmm5"
      },
      "execution_count": 16,
      "outputs": []
    },
    {
      "cell_type": "code",
      "source": [
        "#df_zmm067_2022_2025[\"Позиция ЗкзНаПостав\"] = df_zmm067_2022_2025[\"Позиция ЗкзНаПостав\"].apply(temizle_ve_cevir)\n"
      ],
      "metadata": {
        "id": "Hv-ztlqgAqR-"
      },
      "execution_count": null,
      "outputs": []
    },
    {
      "cell_type": "code",
      "source": [
        "#df_zmm067_2022_2025[\"Дополнительное\"].sample(n=5)"
      ],
      "metadata": {
        "id": "BsaOyrU6Agiq"
      },
      "execution_count": null,
      "outputs": []
    },
    {
      "cell_type": "code",
      "source": [
        "#df_zmm067_2022_2025.columns"
      ],
      "metadata": {
        "id": "axyXxy_BBOuz"
      },
      "execution_count": null,
      "outputs": []
    },
    {
      "cell_type": "code",
      "source": [
        "df_me5a_2022_2025 = df_me5a_2022_2025.map(temizle_nan)\n",
        "df_zmm059_2022_2025 = df_zmm059_2022_2025.map(temizle_nan)\n",
        "df_me2n_2022_2025 = df_me2n_2022_2025.map(temizle_nan)\n",
        "df_tedarikci_listesi = df_tedarikci_listesi.map(temizle_nan)\n",
        "birlesik_df_zmb51 = birlesik_df_zmb51.map(temizle_nan)\n",
        "df_zmm067_2022_2025 = df_zmm067_2022_2025.map(temizle_nan)"
      ],
      "metadata": {
        "id": "YUYGOzmjarVP"
      },
      "execution_count": 18,
      "outputs": []
    },
    {
      "cell_type": "code",
      "source": [
        "df_calisilan = df_zmm059_2022_2025.copy()"
      ],
      "metadata": {
        "id": "8Y8-PMXvbwfn"
      },
      "execution_count": 19,
      "outputs": []
    },
    {
      "cell_type": "code",
      "source": [
        "df_calisilan[\"B3-B3POZ\"] = (\n",
        "    df_calisilan[\"Заявка\"].astype(str) + \"_\" + df_calisilan[\"Позиция заявки\"].astype(str)\n",
        ")\n",
        "df_me5a_2022_2025[\"B3-B3POZ\"] = (\n",
        "    df_me5a_2022_2025[\"Заявка\"].astype(str) + \"_\" + df_me5a_2022_2025[\"Позиция заявки\"].astype(str)\n",
        ")"
      ],
      "metadata": {
        "id": "ZppMAbOd1fBo"
      },
      "execution_count": 20,
      "outputs": []
    },
    {
      "cell_type": "code",
      "source": [
        "df_calisilan.columns.values[2] = \"Зп_Поз\"\n",
        "df_tedarikci_listesi.rename(columns={'kod': 'Поставщик'}, inplace=True)"
      ],
      "metadata": {
        "id": "yTbLKB0E11jw"
      },
      "execution_count": 21,
      "outputs": []
    },
    {
      "cell_type": "code",
      "source": [
        "adetler = df_calisilan[\"B3-B3POZ\"].value_counts()"
      ],
      "metadata": {
        "id": "jbDHo8Ri1-PP"
      },
      "execution_count": 22,
      "outputs": []
    },
    {
      "cell_type": "code",
      "source": [
        "mukerrer_kodlar = adetler[adetler > 1].index"
      ],
      "metadata": {
        "id": "UgOoPeEJ2F1f"
      },
      "execution_count": 23,
      "outputs": []
    },
    {
      "cell_type": "code",
      "source": [
        "silinmesi_gerekenler = df_calisilan[\n",
        "    (df_calisilan[\"B3-B3POZ\"].isin(mukerrer_kodlar)) &\n",
        "    (df_calisilan[\"Документ_закупки\"].isna())\n",
        "\n",
        "]"
      ],
      "metadata": {
        "id": "YW0kjl_T2IBf"
      },
      "execution_count": 24,
      "outputs": []
    },
    {
      "cell_type": "code",
      "source": [
        "df_calisilan = df_calisilan.drop(silinmesi_gerekenler.index)"
      ],
      "metadata": {
        "id": "Y4PEwwIf2LAP"
      },
      "execution_count": 25,
      "outputs": []
    },
    {
      "cell_type": "code",
      "source": [
        "#df_calisilan[\"Поставщик\"] = df_calisilan[\"Поставщик\"].apply(temizle_ve_cevir)"
      ],
      "metadata": {
        "id": "hQBXPpQZXFwK"
      },
      "execution_count": null,
      "outputs": []
    },
    {
      "cell_type": "code",
      "source": [
        "# Tedarikçi sözlüğünü yine string anahtarlara göre oluştur\n",
        "tedarikci_dict = dict(zip(df_tedarikci_listesi.iloc[:, 0].astype(str), df_tedarikci_listesi.iloc[:, 1]))\n",
        "\n",
        "# Eşleştirme\n",
        "df_calisilan[\"имя_поставщика\"] = df_calisilan[\"Поставщик\"].map(tedarikci_dict)"
      ],
      "metadata": {
        "id": "GbfZaPq-AERb"
      },
      "execution_count": 27,
      "outputs": []
    },
    {
      "cell_type": "code",
      "source": [
        "#df_calisilan.tail()"
      ],
      "metadata": {
        "id": "Y5_wBAEcHJy5"
      },
      "execution_count": null,
      "outputs": []
    },
    {
      "cell_type": "code",
      "source": [
        "# Sözlük oluştur (anahtar: B3-B3POZ, değer: Материал)\n",
        "b3_to_material_dict = dict(zip(df_me5a_2022_2025[\"B3-B3POZ\"].astype(str), df_me5a_2022_2025[\"Материал\"]))"
      ],
      "metadata": {
        "id": "Bvyz2AHlHsJY"
      },
      "execution_count": 28,
      "outputs": []
    },
    {
      "cell_type": "code",
      "source": [
        "# B3-B3POZ'e göre eşleşen Материал'ları getir (yeni bir sütun olarak)\n",
        "df_calisilan[\"Материал_yeni\"] = df_calisilan[\"B3-B3POZ\"].astype(str).map(b3_to_material_dict)"
      ],
      "metadata": {
        "id": "7l2NvEZxHuZK"
      },
      "execution_count": 29,
      "outputs": []
    },
    {
      "cell_type": "code",
      "source": [
        "# Sadece boş olan Материал hücrelerini, eşleşen değerle doldur\n",
        "df_calisilan[\"Материал\"] = df_calisilan[\"Материал\"].fillna(df_calisilan[\"Материал_yeni\"])\n",
        "# Geçici sütunu silelim\n",
        "df_calisilan.drop(columns=[\"Материал_yeni\"], inplace=True)"
      ],
      "metadata": {
        "id": "pcZRBiY_HxT4"
      },
      "execution_count": 30,
      "outputs": []
    },
    {
      "cell_type": "code",
      "source": [
        "# Sözlükleri oluştur\n",
        "ru_dict = dict(zip(df_material_list.iloc[:, 0].astype(str), df_material_list.iloc[:, 1]))\n",
        "tr_dict = dict(zip(df_material_list.iloc[:, 0].astype(str), df_material_list.iloc[:, 2]))\n",
        "\n",
        "# Eşleştir\n",
        "df_calisilan[\"RU Наименование\"] = df_calisilan[\"Материал\"].astype(str).map(ru_dict)\n",
        "df_calisilan[\"TR Наименование\"] = df_calisilan[\"Материал\"].astype(str).map(tr_dict)\n"
      ],
      "metadata": {
        "id": "sXW24pqqH1SZ"
      },
      "execution_count": 31,
      "outputs": []
    },
    {
      "cell_type": "code",
      "source": [
        "#df_calisilan[\"Материал\"].isna().sum()"
      ],
      "metadata": {
        "id": "YzbXCDvEH5hV",
        "colab": {
          "base_uri": "https://localhost:8080/"
        },
        "outputId": "4614f5a1-d9d7-499c-882f-5220e6e90a93"
      },
      "execution_count": 32,
      "outputs": [
        {
          "output_type": "execute_result",
          "data": {
            "text/plain": [
              "np.int64(4978)"
            ]
          },
          "metadata": {},
          "execution_count": 32
        }
      ]
    },
    {
      "cell_type": "code",
      "source": [
        "#df_calisilan[[\"Поставщик\", \"имя_поставщика\"]].sample(n=5)"
      ],
      "metadata": {
        "id": "c9vEpfiVH8kV",
        "colab": {
          "base_uri": "https://localhost:8080/",
          "height": 206
        },
        "outputId": "5fd31118-369e-4ab9-f689-2e622b89e6ad"
      },
      "execution_count": 35,
      "outputs": [
        {
          "output_type": "execute_result",
          "data": {
            "text/plain": [
              "         Поставщик                       имя_поставщика\n",
              "393558  1000001371  PİMMAŞ PROJE İMALAT MONTAJ MÜHENDİS\n",
              "72715         2970           IC İÇTAŞ TSM ADİ ORTAKLIĞI\n",
              "421894        <NA>                                  NaN\n",
              "269131        2950  AKKUYUTST ENDÜSTRİYEL ÜRETİM İNŞAAT\n",
              "225456  1000001641       NSD TEKNOLOJİ VE İNTERNET HİZ."
            ],
            "text/html": [
              "\n",
              "  <div id=\"df-ce1d6a5f-5086-4e57-ba14-fbba364ecb33\" class=\"colab-df-container\">\n",
              "    <div>\n",
              "<style scoped>\n",
              "    .dataframe tbody tr th:only-of-type {\n",
              "        vertical-align: middle;\n",
              "    }\n",
              "\n",
              "    .dataframe tbody tr th {\n",
              "        vertical-align: top;\n",
              "    }\n",
              "\n",
              "    .dataframe thead th {\n",
              "        text-align: right;\n",
              "    }\n",
              "</style>\n",
              "<table border=\"1\" class=\"dataframe\">\n",
              "  <thead>\n",
              "    <tr style=\"text-align: right;\">\n",
              "      <th></th>\n",
              "      <th>Поставщик</th>\n",
              "      <th>имя_поставщика</th>\n",
              "    </tr>\n",
              "  </thead>\n",
              "  <tbody>\n",
              "    <tr>\n",
              "      <th>393558</th>\n",
              "      <td>1000001371</td>\n",
              "      <td>PİMMAŞ PROJE İMALAT MONTAJ MÜHENDİS</td>\n",
              "    </tr>\n",
              "    <tr>\n",
              "      <th>72715</th>\n",
              "      <td>2970</td>\n",
              "      <td>IC İÇTAŞ TSM ADİ ORTAKLIĞI</td>\n",
              "    </tr>\n",
              "    <tr>\n",
              "      <th>421894</th>\n",
              "      <td>&lt;NA&gt;</td>\n",
              "      <td>NaN</td>\n",
              "    </tr>\n",
              "    <tr>\n",
              "      <th>269131</th>\n",
              "      <td>2950</td>\n",
              "      <td>AKKUYUTST ENDÜSTRİYEL ÜRETİM İNŞAAT</td>\n",
              "    </tr>\n",
              "    <tr>\n",
              "      <th>225456</th>\n",
              "      <td>1000001641</td>\n",
              "      <td>NSD TEKNOLOJİ VE İNTERNET HİZ.</td>\n",
              "    </tr>\n",
              "  </tbody>\n",
              "</table>\n",
              "</div>\n",
              "    <div class=\"colab-df-buttons\">\n",
              "\n",
              "  <div class=\"colab-df-container\">\n",
              "    <button class=\"colab-df-convert\" onclick=\"convertToInteractive('df-ce1d6a5f-5086-4e57-ba14-fbba364ecb33')\"\n",
              "            title=\"Convert this dataframe to an interactive table.\"\n",
              "            style=\"display:none;\">\n",
              "\n",
              "  <svg xmlns=\"http://www.w3.org/2000/svg\" height=\"24px\" viewBox=\"0 -960 960 960\">\n",
              "    <path d=\"M120-120v-720h720v720H120Zm60-500h600v-160H180v160Zm220 220h160v-160H400v160Zm0 220h160v-160H400v160ZM180-400h160v-160H180v160Zm440 0h160v-160H620v160ZM180-180h160v-160H180v160Zm440 0h160v-160H620v160Z\"/>\n",
              "  </svg>\n",
              "    </button>\n",
              "\n",
              "  <style>\n",
              "    .colab-df-container {\n",
              "      display:flex;\n",
              "      gap: 12px;\n",
              "    }\n",
              "\n",
              "    .colab-df-convert {\n",
              "      background-color: #E8F0FE;\n",
              "      border: none;\n",
              "      border-radius: 50%;\n",
              "      cursor: pointer;\n",
              "      display: none;\n",
              "      fill: #1967D2;\n",
              "      height: 32px;\n",
              "      padding: 0 0 0 0;\n",
              "      width: 32px;\n",
              "    }\n",
              "\n",
              "    .colab-df-convert:hover {\n",
              "      background-color: #E2EBFA;\n",
              "      box-shadow: 0px 1px 2px rgba(60, 64, 67, 0.3), 0px 1px 3px 1px rgba(60, 64, 67, 0.15);\n",
              "      fill: #174EA6;\n",
              "    }\n",
              "\n",
              "    .colab-df-buttons div {\n",
              "      margin-bottom: 4px;\n",
              "    }\n",
              "\n",
              "    [theme=dark] .colab-df-convert {\n",
              "      background-color: #3B4455;\n",
              "      fill: #D2E3FC;\n",
              "    }\n",
              "\n",
              "    [theme=dark] .colab-df-convert:hover {\n",
              "      background-color: #434B5C;\n",
              "      box-shadow: 0px 1px 3px 1px rgba(0, 0, 0, 0.15);\n",
              "      filter: drop-shadow(0px 1px 2px rgba(0, 0, 0, 0.3));\n",
              "      fill: #FFFFFF;\n",
              "    }\n",
              "  </style>\n",
              "\n",
              "    <script>\n",
              "      const buttonEl =\n",
              "        document.querySelector('#df-ce1d6a5f-5086-4e57-ba14-fbba364ecb33 button.colab-df-convert');\n",
              "      buttonEl.style.display =\n",
              "        google.colab.kernel.accessAllowed ? 'block' : 'none';\n",
              "\n",
              "      async function convertToInteractive(key) {\n",
              "        const element = document.querySelector('#df-ce1d6a5f-5086-4e57-ba14-fbba364ecb33');\n",
              "        const dataTable =\n",
              "          await google.colab.kernel.invokeFunction('convertToInteractive',\n",
              "                                                    [key], {});\n",
              "        if (!dataTable) return;\n",
              "\n",
              "        const docLinkHtml = 'Like what you see? Visit the ' +\n",
              "          '<a target=\"_blank\" href=https://colab.research.google.com/notebooks/data_table.ipynb>data table notebook</a>'\n",
              "          + ' to learn more about interactive tables.';\n",
              "        element.innerHTML = '';\n",
              "        dataTable['output_type'] = 'display_data';\n",
              "        await google.colab.output.renderOutput(dataTable, element);\n",
              "        const docLink = document.createElement('div');\n",
              "        docLink.innerHTML = docLinkHtml;\n",
              "        element.appendChild(docLink);\n",
              "      }\n",
              "    </script>\n",
              "  </div>\n",
              "\n",
              "\n",
              "    <div id=\"df-63a295db-1429-41f7-b6c3-bfd51138b93b\">\n",
              "      <button class=\"colab-df-quickchart\" onclick=\"quickchart('df-63a295db-1429-41f7-b6c3-bfd51138b93b')\"\n",
              "                title=\"Suggest charts\"\n",
              "                style=\"display:none;\">\n",
              "\n",
              "<svg xmlns=\"http://www.w3.org/2000/svg\" height=\"24px\"viewBox=\"0 0 24 24\"\n",
              "     width=\"24px\">\n",
              "    <g>\n",
              "        <path d=\"M19 3H5c-1.1 0-2 .9-2 2v14c0 1.1.9 2 2 2h14c1.1 0 2-.9 2-2V5c0-1.1-.9-2-2-2zM9 17H7v-7h2v7zm4 0h-2V7h2v10zm4 0h-2v-4h2v4z\"/>\n",
              "    </g>\n",
              "</svg>\n",
              "      </button>\n",
              "\n",
              "<style>\n",
              "  .colab-df-quickchart {\n",
              "      --bg-color: #E8F0FE;\n",
              "      --fill-color: #1967D2;\n",
              "      --hover-bg-color: #E2EBFA;\n",
              "      --hover-fill-color: #174EA6;\n",
              "      --disabled-fill-color: #AAA;\n",
              "      --disabled-bg-color: #DDD;\n",
              "  }\n",
              "\n",
              "  [theme=dark] .colab-df-quickchart {\n",
              "      --bg-color: #3B4455;\n",
              "      --fill-color: #D2E3FC;\n",
              "      --hover-bg-color: #434B5C;\n",
              "      --hover-fill-color: #FFFFFF;\n",
              "      --disabled-bg-color: #3B4455;\n",
              "      --disabled-fill-color: #666;\n",
              "  }\n",
              "\n",
              "  .colab-df-quickchart {\n",
              "    background-color: var(--bg-color);\n",
              "    border: none;\n",
              "    border-radius: 50%;\n",
              "    cursor: pointer;\n",
              "    display: none;\n",
              "    fill: var(--fill-color);\n",
              "    height: 32px;\n",
              "    padding: 0;\n",
              "    width: 32px;\n",
              "  }\n",
              "\n",
              "  .colab-df-quickchart:hover {\n",
              "    background-color: var(--hover-bg-color);\n",
              "    box-shadow: 0 1px 2px rgba(60, 64, 67, 0.3), 0 1px 3px 1px rgba(60, 64, 67, 0.15);\n",
              "    fill: var(--button-hover-fill-color);\n",
              "  }\n",
              "\n",
              "  .colab-df-quickchart-complete:disabled,\n",
              "  .colab-df-quickchart-complete:disabled:hover {\n",
              "    background-color: var(--disabled-bg-color);\n",
              "    fill: var(--disabled-fill-color);\n",
              "    box-shadow: none;\n",
              "  }\n",
              "\n",
              "  .colab-df-spinner {\n",
              "    border: 2px solid var(--fill-color);\n",
              "    border-color: transparent;\n",
              "    border-bottom-color: var(--fill-color);\n",
              "    animation:\n",
              "      spin 1s steps(1) infinite;\n",
              "  }\n",
              "\n",
              "  @keyframes spin {\n",
              "    0% {\n",
              "      border-color: transparent;\n",
              "      border-bottom-color: var(--fill-color);\n",
              "      border-left-color: var(--fill-color);\n",
              "    }\n",
              "    20% {\n",
              "      border-color: transparent;\n",
              "      border-left-color: var(--fill-color);\n",
              "      border-top-color: var(--fill-color);\n",
              "    }\n",
              "    30% {\n",
              "      border-color: transparent;\n",
              "      border-left-color: var(--fill-color);\n",
              "      border-top-color: var(--fill-color);\n",
              "      border-right-color: var(--fill-color);\n",
              "    }\n",
              "    40% {\n",
              "      border-color: transparent;\n",
              "      border-right-color: var(--fill-color);\n",
              "      border-top-color: var(--fill-color);\n",
              "    }\n",
              "    60% {\n",
              "      border-color: transparent;\n",
              "      border-right-color: var(--fill-color);\n",
              "    }\n",
              "    80% {\n",
              "      border-color: transparent;\n",
              "      border-right-color: var(--fill-color);\n",
              "      border-bottom-color: var(--fill-color);\n",
              "    }\n",
              "    90% {\n",
              "      border-color: transparent;\n",
              "      border-bottom-color: var(--fill-color);\n",
              "    }\n",
              "  }\n",
              "</style>\n",
              "\n",
              "      <script>\n",
              "        async function quickchart(key) {\n",
              "          const quickchartButtonEl =\n",
              "            document.querySelector('#' + key + ' button');\n",
              "          quickchartButtonEl.disabled = true;  // To prevent multiple clicks.\n",
              "          quickchartButtonEl.classList.add('colab-df-spinner');\n",
              "          try {\n",
              "            const charts = await google.colab.kernel.invokeFunction(\n",
              "                'suggestCharts', [key], {});\n",
              "          } catch (error) {\n",
              "            console.error('Error during call to suggestCharts:', error);\n",
              "          }\n",
              "          quickchartButtonEl.classList.remove('colab-df-spinner');\n",
              "          quickchartButtonEl.classList.add('colab-df-quickchart-complete');\n",
              "        }\n",
              "        (() => {\n",
              "          let quickchartButtonEl =\n",
              "            document.querySelector('#df-63a295db-1429-41f7-b6c3-bfd51138b93b button');\n",
              "          quickchartButtonEl.style.display =\n",
              "            google.colab.kernel.accessAllowed ? 'block' : 'none';\n",
              "        })();\n",
              "      </script>\n",
              "    </div>\n",
              "\n",
              "    </div>\n",
              "  </div>\n"
            ],
            "application/vnd.google.colaboratory.intrinsic+json": {
              "type": "dataframe",
              "summary": "{\n  \"name\": \"df_calisilan[[\\\"\\u041f\\u043e\\u0441\\u0442\\u0430\\u0432\\u0449\\u0438\\u043a\\\", \\\"\\u0438\\u043c\\u044f_\\u043f\\u043e\\u0441\\u0442\\u0430\\u0432\\u0449\\u0438\\u043a\\u0430\\\"]]\",\n  \"rows\": 5,\n  \"fields\": [\n    {\n      \"column\": \"\\u041f\\u043e\\u0441\\u0442\\u0430\\u0432\\u0449\\u0438\\u043a\",\n      \"properties\": {\n        \"dtype\": \"string\",\n        \"num_unique_values\": 5,\n        \"samples\": [\n          \"2970\",\n          \"1000001641\",\n          \"<NA>\"\n        ],\n        \"semantic_type\": \"\",\n        \"description\": \"\"\n      }\n    },\n    {\n      \"column\": \"\\u0438\\u043c\\u044f_\\u043f\\u043e\\u0441\\u0442\\u0430\\u0432\\u0449\\u0438\\u043a\\u0430\",\n      \"properties\": {\n        \"dtype\": \"string\",\n        \"num_unique_values\": 4,\n        \"samples\": [\n          \"IC \\u0130\\u00c7TA\\u015e TSM AD\\u0130 ORTAKLI\\u011eI\",\n          \"NSD TEKNOLOJ\\u0130 VE \\u0130NTERNET H\\u0130Z.\",\n          \"P\\u0130MMA\\u015e PROJE \\u0130MALAT MONTAJ M\\u00dcHEND\\u0130S\"\n        ],\n        \"semantic_type\": \"\",\n        \"description\": \"\"\n      }\n    }\n  ]\n}"
            }
          },
          "metadata": {},
          "execution_count": 35
        }
      ]
    },
    {
      "cell_type": "code",
      "source": [
        "df_calisilan.drop(columns=['Материалы тур.', 'Материалы анг.'], inplace=True)"
      ],
      "metadata": {
        "id": "nhDD7V3lIClt"
      },
      "execution_count": 33,
      "outputs": []
    },
    {
      "cell_type": "code",
      "source": [
        "# Sütunları çıkart\n",
        "col_ru = df_calisilan.pop('RU Наименование')\n",
        "col_tr = df_calisilan.pop('TR Наименование')\n",
        "col_b3 = df_calisilan.pop('B3-B3POZ')\n",
        "\n",
        "# Sütunları istediğin yerlere ekle\n",
        "df_calisilan.insert(1, 'B3-B3POZ', col_b3)\n",
        "df_calisilan.insert(8, 'RU Наименование', col_ru)\n",
        "df_calisilan.insert(9, 'TR Наименование', col_tr)\n"
      ],
      "metadata": {
        "id": "rISmvc0jINL6"
      },
      "execution_count": 34,
      "outputs": []
    },
    {
      "cell_type": "code",
      "source": [
        " # Sözlük oluştur (anahtar: B3-B3POZ, değer: Материал)\n",
        "b3_to_material_dict = dict(zip(df_me5a_2022_2025[\"B3-B3POZ\"].astype(str), df_me5a_2022_2025[\"Материал\"]))"
      ],
      "metadata": {
        "id": "UWpLlBPEIi4N"
      },
      "execution_count": 35,
      "outputs": []
    },
    {
      "cell_type": "code",
      "source": [
        "# B3-B3POZ'e göre eşleşen Материал'ları getir (yeni bir sütun olarak)\n",
        "df_calisilan[\"Материал_yeni\"] = df_calisilan[\"B3-B3POZ\"].astype(str).map(b3_to_material_dict)"
      ],
      "metadata": {
        "id": "ecF5TGP7OzFc"
      },
      "execution_count": 36,
      "outputs": []
    },
    {
      "cell_type": "code",
      "source": [
        "# Sadece boş olan Материал hücrelerini, eşleşen değerle doldur\n",
        "df_calisilan[\"Материал\"] = df_calisilan[\"Материал\"].fillna(df_calisilan[\"Материал_yeni\"])\n",
        "# Geçici sütunu silelim\n",
        "df_calisilan.drop(columns=[\"Материал_yeni\"], inplace=True)"
      ],
      "metadata": {
        "id": "CRMP-sPxO-Ot"
      },
      "execution_count": 37,
      "outputs": []
    },
    {
      "cell_type": "code",
      "source": [
        "# Sözlükleri oluştur\n",
        "ru_dict = dict(zip(df_material_list.iloc[:, 0].astype(str), df_material_list.iloc[:, 1]))\n",
        "tr_dict = dict(zip(df_material_list.iloc[:, 0].astype(str), df_material_list.iloc[:, 2]))\n",
        "\n",
        "# Eşleştir\n",
        "df_calisilan[\"RU Наименование\"] = df_calisilan[\"Материал\"].astype(str).map(ru_dict)\n",
        "df_calisilan[\"TR Наименование\"] = df_calisilan[\"Материал\"].astype(str).map(tr_dict)"
      ],
      "metadata": {
        "id": "POfa9VRTPU6N"
      },
      "execution_count": 38,
      "outputs": []
    },
    {
      "cell_type": "code",
      "source": [
        "df_calisilan[\"Материал\"].isna().sum()"
      ],
      "metadata": {
        "id": "QSrxN-29PXjX",
        "colab": {
          "base_uri": "https://localhost:8080/"
        },
        "outputId": "f04adf04-2b16-4c6a-e6cb-b1095ebf4cb3"
      },
      "execution_count": 39,
      "outputs": [
        {
          "output_type": "execute_result",
          "data": {
            "text/plain": [
              "np.int64(4978)"
            ]
          },
          "metadata": {},
          "execution_count": 39
        }
      ]
    },
    {
      "cell_type": "code",
      "source": [
        "df_calisilan = df_calisilan.map(temizle_nan)"
      ],
      "metadata": {
        "id": "FIzqy22PTSbn"
      },
      "execution_count": 40,
      "outputs": []
    },
    {
      "cell_type": "code",
      "source": [
        "sorted_columns = sorted(df_calisilan.columns)\n",
        "print(sorted_columns)"
      ],
      "metadata": {
        "id": "XzFl54k0ULMN",
        "colab": {
          "base_uri": "https://localhost:8080/"
        },
        "outputId": "57f2dcdb-cf86-48cb-fa4b-d305577f7cd1"
      },
      "execution_count": 41,
      "outputs": [
        {
          "output_type": "stream",
          "name": "stdout",
          "text": [
            "['B3-B3POZ', 'RU Наименование', 'TR Наименование', 'Автор Внутреннего заказа', 'БЕ', 'Валюта', 'Валюта ЗП', 'Валюта.1', 'Валюта.2', 'Вид докум. закупки', 'Вид докум. закупки.1', 'ГОД', 'Группа закупок', 'Группа закупок.1', 'Группа материалов', 'Дата вступления в силу контракта', 'Дата доставки, одобренная Поставщиком', 'Дата контракта', 'Дата окончания действия договора', 'Дата поставки', 'Дата проводки', 'Дата создания', 'Дата создания.1', 'Документ_закупки', 'ЕИ заказа на постав.', 'Единица ЗП', 'Единица цены', 'Завод', 'Закуп. организация', 'Заявка', 'Значок \"поставка завершена\"', 'Зп_Поз', 'Имя 1', 'Инвентарный номер в SAS', 'Индикатор удаления', 'Итого цена нетто', 'Количество ЗП', 'Количество по счету', 'Количество по счету.1', 'Количество по счету.2', 'Количество поставки', 'Краткий текст', 'Материал', 'Минимальная цена ЗП', 'Минимальная цена ЗП.1', 'Минимальная цена ЗП.2', 'Название ГрЗакупок', 'Название ГрЗакупок.1', 'Название ЗакупОрг', 'Название группы', 'Название фирмы', 'Недопоставленное количество', 'Обозначение ВидДокум', 'Остаток количества по счету', 'Остаток суммы по счету', 'Позиция заявки', 'Поставщик', 'Склад', 'Создал', 'Создал.1', 'Стоимость брутто', 'Сумма брутто', 'Цена заказа нетто', 'Цена нетто ЗП', 'имя_поставщика', 'неполн.', '№ комиссии']\n"
          ]
        }
      ]
    },
    {
      "cell_type": "code",
      "source": [
        "#df_calisilan[[\"Документ_закупки\",\"Зп_Поз\",\"Количество ЗП\",\"Цена нетто ЗП\",\"Итого цена нетто\"]].sample(n=5, random_state=1)"
      ],
      "metadata": {
        "id": "_PNPkP_3U9Bo"
      },
      "execution_count": null,
      "outputs": []
    },
    {
      "cell_type": "code",
      "source": [
        "# Hepsini string yap ve boşlukları temizle\n",
        "birlesik_df_zmb51[\"Заказ на поставку\"] = birlesik_df_zmb51[\"Заказ на поставку\"].astype(str).str.strip()\n",
        "df_me2n_2022_2025[\"Документ закупки\"] = df_me2n_2022_2025[\"Документ закупки\"].astype(str).str.strip()\n"
      ],
      "metadata": {
        "id": "JKsOeZ3xlLZG"
      },
      "execution_count": 42,
      "outputs": []
    },
    {
      "cell_type": "code",
      "source": [
        "# \"Наш знак\" için dict\n",
        "dict_nash_znak = dict(zip(df_me2n_2022_2025[\"Документ закупки\"], df_me2n_2022_2025[\"Наш знак\"]))\n",
        "\n",
        "# \"Ваш код\" için dict\n",
        "dict_vash_kod = dict(zip(df_me2n_2022_2025[\"Документ закупки\"], df_me2n_2022_2025[\"Ваш код\"]))\n",
        "\n",
        "# map ile ekleme\n",
        "birlesik_df_zmb51[\"Наш знак\"] = birlesik_df_zmb51[\"Заказ на поставку\"].map(dict_nash_znak)\n",
        "birlesik_df_zmb51[\"Ваш код\"] = birlesik_df_zmb51[\"Заказ на поставку\"].map(dict_vash_kod)"
      ],
      "metadata": {
        "id": "HVpcRXTii8a1"
      },
      "execution_count": 43,
      "outputs": []
    },
    {
      "cell_type": "code",
      "source": [
        "df_calisilan[\"Позиция заявки\"].apply(temizle_ve_cevir)"
      ],
      "metadata": {
        "id": "cnHZmkheryM9",
        "colab": {
          "base_uri": "https://localhost:8080/",
          "height": 458
        },
        "outputId": "9db9f1cd-a7f9-432a-fc66-dbb52cc042a6"
      },
      "execution_count": 44,
      "outputs": [
        {
          "output_type": "execute_result",
          "data": {
            "text/plain": [
              "40        2320\n",
              "292         10\n",
              "298         20\n",
              "299         30\n",
              "300         40\n",
              "          ... \n",
              "741607    <NA>\n",
              "741608    <NA>\n",
              "741609    <NA>\n",
              "741610      10\n",
              "741611      20\n",
              "Name: Позиция заявки, Length: 480477, dtype: object"
            ],
            "text/html": [
              "<div>\n",
              "<style scoped>\n",
              "    .dataframe tbody tr th:only-of-type {\n",
              "        vertical-align: middle;\n",
              "    }\n",
              "\n",
              "    .dataframe tbody tr th {\n",
              "        vertical-align: top;\n",
              "    }\n",
              "\n",
              "    .dataframe thead th {\n",
              "        text-align: right;\n",
              "    }\n",
              "</style>\n",
              "<table border=\"1\" class=\"dataframe\">\n",
              "  <thead>\n",
              "    <tr style=\"text-align: right;\">\n",
              "      <th></th>\n",
              "      <th>Позиция заявки</th>\n",
              "    </tr>\n",
              "  </thead>\n",
              "  <tbody>\n",
              "    <tr>\n",
              "      <th>40</th>\n",
              "      <td>2320</td>\n",
              "    </tr>\n",
              "    <tr>\n",
              "      <th>292</th>\n",
              "      <td>10</td>\n",
              "    </tr>\n",
              "    <tr>\n",
              "      <th>298</th>\n",
              "      <td>20</td>\n",
              "    </tr>\n",
              "    <tr>\n",
              "      <th>299</th>\n",
              "      <td>30</td>\n",
              "    </tr>\n",
              "    <tr>\n",
              "      <th>300</th>\n",
              "      <td>40</td>\n",
              "    </tr>\n",
              "    <tr>\n",
              "      <th>...</th>\n",
              "      <td>...</td>\n",
              "    </tr>\n",
              "    <tr>\n",
              "      <th>741607</th>\n",
              "      <td>&lt;NA&gt;</td>\n",
              "    </tr>\n",
              "    <tr>\n",
              "      <th>741608</th>\n",
              "      <td>&lt;NA&gt;</td>\n",
              "    </tr>\n",
              "    <tr>\n",
              "      <th>741609</th>\n",
              "      <td>&lt;NA&gt;</td>\n",
              "    </tr>\n",
              "    <tr>\n",
              "      <th>741610</th>\n",
              "      <td>10</td>\n",
              "    </tr>\n",
              "    <tr>\n",
              "      <th>741611</th>\n",
              "      <td>20</td>\n",
              "    </tr>\n",
              "  </tbody>\n",
              "</table>\n",
              "<p>480477 rows × 1 columns</p>\n",
              "</div><br><label><b>dtype:</b> object</label>"
            ]
          },
          "metadata": {},
          "execution_count": 44
        }
      ]
    },
    {
      "cell_type": "code",
      "source": [
        "# 1. Anahtar sütunlarını birleştir ve zp_zppoz adını ver\n",
        "birlesik_df_zmb51[\"zp_zppoz\"] = (\n",
        "    birlesik_df_zmb51[\"Заказ на поставку\"].apply(temizle_ve_cevir) + \"_\" +\n",
        "    birlesik_df_zmb51[\"Позиция\"].apply(temizle_ve_cevir)\n",
        ")\n",
        "\n",
        "df_calisilan[\"zp_zppoz\"] = (\n",
        "    df_calisilan[\"Документ_закупки\"].apply(temizle_ve_cevir) + \"_\" +\n",
        "    df_calisilan[\"Зп_Поз\"].apply(temizle_ve_cevir)\n",
        ")\n",
        "\n",
        "# 2. dict oluştur\n",
        "dict_poz = dict(zip(df_calisilan[\"zp_zppoz\"], df_calisilan[\"Позиция заявки\"]))\n",
        "\n",
        "# 3. map ile yeni sütunu ekle\n",
        "birlesik_df_zmb51[\"Позиция заявки\"] = birlesik_df_zmb51[\"zp_zppoz\"].map(dict_poz)\n",
        "birlesik_df_zmb51[\"Позиция заявки\"].apply(temizle_ve_cevir)\n",
        "birlesik_df_zmb51[\"Позиция заявки\"] = birlesik_df_zmb51[\"Позиция заявки\"].fillna(0).astype(int)"
      ],
      "metadata": {
        "id": "O_AJR-LFrkzx",
        "colab": {
          "base_uri": "https://localhost:8080/"
        },
        "outputId": "3c997a5d-1527-41d3-dd4b-208f90e6e951"
      },
      "execution_count": 45,
      "outputs": [
        {
          "output_type": "stream",
          "name": "stderr",
          "text": [
            "/tmp/ipython-input-873327287.py:18: FutureWarning: Downcasting object dtype arrays on .fillna, .ffill, .bfill is deprecated and will change in a future version. Call result.infer_objects(copy=False) instead. To opt-in to the future behavior, set `pd.set_option('future.no_silent_downcasting', True)`\n",
            "  birlesik_df_zmb51[\"Позиция заявки\"] = birlesik_df_zmb51[\"Позиция заявки\"].fillna(0).astype(int)\n"
          ]
        }
      ]
    },
    {
      "cell_type": "code",
      "source": [
        "# 1. Zorunlu temizleme işlemleri (orijinal sütunların üzerine yazar)\n",
        "df_me5a_2022_2025[\"Заявка\"] = df_me5a_2022_2025[\"Заявка\"].apply(temizle_ve_cevir)\n",
        "df_me5a_2022_2025[\"Позиция заявки\"] = df_me5a_2022_2025[\"Позиция заявки\"].apply(temizle_ve_cevir)\n",
        "\n",
        "df_zmm067_2022_2025[\"Заявка\"] = df_zmm067_2022_2025[\"Заявка\"].apply(temizle_ve_cevir)\n",
        "df_zmm067_2022_2025[\"Позиция заявки\"] = df_zmm067_2022_2025[\"Позиция заявки\"].apply(temizle_ve_cevir)\n",
        "\n",
        "# 2. Anahtar oluştur\n",
        "df_me5a_2022_2025[\"zayavka_poz\"] = df_me5a_2022_2025[\"Заявка\"] + \"_\" + df_me5a_2022_2025[\"Позиция заявки\"]\n",
        "df_zmm067_2022_2025[\"zayavka_poz\"] = df_zmm067_2022_2025[\"Заявка\"] + \"_\" + df_zmm067_2022_2025[\"Позиция заявки\"]\n",
        "\n",
        "# 3. Dict oluştur\n",
        "dict_dop = dict(zip(df_zmm067_2022_2025[\"zayavka_poz\"], df_zmm067_2022_2025[\"Дополнительное\"]))\n",
        "\n",
        "# 4. map ile yeni sütun ekle\n",
        "df_me5a_2022_2025[\"Дополнительное\"] = df_me5a_2022_2025[\"zayavka_poz\"].map(dict_dop)\n",
        "\n",
        "#yeni oluşturulan sutunlara ihtiyaç kalmadı\n",
        "\n",
        "df_me5a_2022_2025 = df_me5a_2022_2025.drop(columns=[\"zayavka_poz\"])\n",
        "df_zmm067_2022_2025 = df_zmm067_2022_2025.drop(columns=[\"zayavka_poz\"])"
      ],
      "metadata": {
        "id": "s2aCfxbM9NnO"
      },
      "execution_count": 46,
      "outputs": []
    },
    {
      "cell_type": "code",
      "source": [
        "# 1. Sütunları temizle (aynı sütunların üzerine yazıyoruz)\n",
        "df_me2n_2022_2025[\"Документ закупки\"] = df_me2n_2022_2025[\"Документ закупки\"].apply(temizle_ve_cevir)\n",
        "df_me2n_2022_2025[\"Позиция\"] = df_me2n_2022_2025[\"Позиция\"].apply(temizle_ve_cevir)\n",
        "\n",
        "df_calisilan[\"Документ_закупки\"] = df_calisilan[\"Документ_закупки\"].apply(temizle_ve_cevir)\n",
        "df_calisilan[\"Зп_Поз\"] = df_calisilan[\"Зп_Поз\"].apply(temizle_ve_cevir)\n",
        "\n",
        "# 2. Anahtar oluştur\n",
        "df_me2n_2022_2025[\"doc_poz\"] = df_me2n_2022_2025[\"Документ закупки\"] + \"_\" + df_me2n_2022_2025[\"Позиция\"]\n",
        "df_calisilan[\"doc_poz\"] = df_calisilan[\"Документ_закупки\"] + \"_\" + df_calisilan[\"Зп_Поз\"]\n",
        "\n",
        "# 3. Dict oluştur (anahtar: doc_poz, değer: Создал)\n",
        "dict_sozdal = dict(zip(df_calisilan[\"doc_poz\"], df_calisilan[\"Создал\"]))\n",
        "\n",
        "# 4. map ile df_me2n'e ekle\n",
        "df_me2n_2022_2025[\"Создал\"] = df_me2n_2022_2025[\"doc_poz\"].map(dict_sozdal)\n",
        "\n",
        "# yeni oluşturulan sütunlara ihtiyaç kalmadı\n",
        "df_me2n_2022_2025 = df_me2n_2022_2025.drop(columns=[\"doc_poz\"])\n",
        "df_calisilan = df_calisilan.drop(columns=[\"doc_poz\"])"
      ],
      "metadata": {
        "id": "LXYeyifHAj24"
      },
      "execution_count": 47,
      "outputs": []
    },
    {
      "cell_type": "code",
      "source": [
        "# 1. Temizleme işlemi\n",
        "birlesik_df_zmb51[\"Поставщик\"] = birlesik_df_zmb51[\"Поставщик\"].apply(temizle_ve_cevir)\n",
        "df_tedarikci_listesi[\"﻿Кредитор\"] = df_tedarikci_listesi[\"﻿Кредитор\"].apply(temizle_ve_cevir)\n",
        "\n",
        "# 2. Anahtar oluştur (tek sütun olduğu için direkt kullanabiliriz)\n",
        "# 3. Dict oluştur\n",
        "dict_suppliers = dict(zip(df_tedarikci_listesi[\"﻿Кредитор\"], df_tedarikci_listesi[\"Имя поставщика\"]))\n",
        "\n",
        "# 4. map ile birlesik_df_zmb51'e ekle\n",
        "birlesik_df_zmb51[\"Имя поставщика\"] = birlesik_df_zmb51[\"Поставщик\"].map(dict_suppliers)\n"
      ],
      "metadata": {
        "id": "drd6B2GqofXj"
      },
      "execution_count": 48,
      "outputs": []
    },
    {
      "cell_type": "code",
      "source": [
        "# 1. Temizleme işlemi\n",
        "birlesik_df_zmb51[\"Заказ на поставку\"] = birlesik_df_zmb51[\"Заказ на поставку\"].apply(temizle_ve_cevir)\n",
        "birlesik_df_zmb51[\"Позиция\"] = birlesik_df_zmb51[\"Позиция\"].apply(temizle_ve_cevir)\n",
        "\n",
        "df_me2n_2022_2025[\"Документ закупки\"] = df_me2n_2022_2025[\"Документ закупки\"].apply(temizle_ve_cevir)\n",
        "df_me2n_2022_2025[\"Позиция\"] = df_me2n_2022_2025[\"Позиция\"].apply(temizle_ve_cevir)\n",
        "\n",
        "# 2. Anahtar oluştur\n",
        "birlesik_df_zmb51[\"doc_poz\"] = birlesik_df_zmb51[\"Заказ на поставку\"] + \"_\" + birlesik_df_zmb51[\"Позиция\"]\n",
        "df_me2n_2022_2025[\"doc_poz\"] = df_me2n_2022_2025[\"Документ закупки\"] + \"_\" + df_me2n_2022_2025[\"Позиция\"]\n",
        "\n",
        "# 3. Dict oluştur (anahtar: doc_poz, değer: Объем заказа)\n",
        "dict_obem = dict(zip(df_me2n_2022_2025[\"doc_poz\"], df_me2n_2022_2025[\"Объем заказа\"]))\n",
        "\n",
        "# 4. map ile birlesik_df_zmb51'e ekle\n",
        "birlesik_df_zmb51[\"Объем заказа\"] = birlesik_df_zmb51[\"doc_poz\"].map(dict_obem)\n",
        "#yeni oluşturulan sutunlara ihtiyaç kalmadı\n",
        "birlesik_df_zmb51 = birlesik_df_zmb51.drop(columns=[\"doc_poz\"])\n",
        "df_me2n_2022_2025 = df_me2n_2022_2025.drop(columns=[\"doc_poz\"])\n",
        "\n"
      ],
      "metadata": {
        "id": "4dj_2R-9rHvH"
      },
      "execution_count": 49,
      "outputs": []
    },
    {
      "cell_type": "code",
      "source": [
        "df_me2n_2022_2025[\"Объем заказа\"] = pd.to_numeric(df_me2n_2022_2025[\"Объем заказа\"], errors=\"coerce\")\n",
        "df_me2n_2022_2025[\"еще поставить (количество)\"] = pd.to_numeric(\n",
        "    df_me2n_2022_2025[\"еще поставить (количество)\"].fillna(0), errors=\"coerce\"\n",
        ")\n",
        "\n",
        "# 2. Hesaplama\n",
        "df_me2n_2022_2025[\"Уже поставлено (количество)\"] = (\n",
        "    df_me2n_2022_2025[\"Объем заказа\"] - df_me2n_2022_2025[\"еще поставить (количество)\"]\n",
        ")"
      ],
      "metadata": {
        "id": "lNa2ujPetZ6v"
      },
      "execution_count": 50,
      "outputs": []
    },
    {
      "cell_type": "code",
      "source": [
        "# 1. Temizleme işlemi\n",
        "df_me2n_2022_2025[\"Документ закупки\"] = df_me2n_2022_2025[\"Документ закупки\"].apply(temizle_ve_cevir)\n",
        "df_me2n_2022_2025[\"Позиция\"] = df_me2n_2022_2025[\"Позиция\"].apply(temizle_ve_cevir)\n",
        "\n",
        "\n",
        "df_calisilan[\"Документ_закупки\"] = df_calisilan[\"Документ_закупки\"].apply(temizle_ve_cevir)\n",
        "df_calisilan[\"Зп_Поз\"] = df_calisilan[\"Зп_Поз\"].apply(temizle_ve_cevir)\n",
        "\n",
        "# 2. Anahtar oluştur\n",
        "df_me2n_2022_2025[\"doc_poz\"] = df_me2n_2022_2025[\"Документ закупки\"] + \"_\" + df_me2n_2022_2025[\"Позиция\"]\n",
        "df_calisilan[\"doc_poz\"] = df_calisilan[\"Документ_закупки\"] + \"_\" + df_calisilan[\"Зп_Поз\"]\n",
        "\n",
        "# 3. Dict oluştur (anahtar: doc_poz, değer: Позиция заявки)\n",
        "dict_poz = dict(zip(df_calisilan[\"doc_poz\"], df_calisilan[\"Позиция заявки\"]))\n",
        "\n",
        "# 4. map ile df_me2n_2022_2025'e ekle\n",
        "df_me2n_2022_2025[\"Позиция заявки\"] = df_me2n_2022_2025[\"doc_poz\"].map(dict_poz)\n",
        "#yeni oluşturulan sutunlara ihtiyaç kalmadı\n",
        "df_calisilan = df_calisilan.drop(columns=[\"doc_poz\"])\n",
        "df_me2n_2022_2025 = df_me2n_2022_2025.drop(columns=[\"doc_poz\"])\n"
      ],
      "metadata": {
        "id": "aoZkH6aR2Gy4"
      },
      "execution_count": 51,
      "outputs": []
    },
    {
      "cell_type": "code",
      "source": [
        "df_me2n_2022_2025[\"Материал_ME2N\"] = df_me2n_2022_2025[\"Материал\"]\n",
        "df_me5a_2022_2025[\"Материал_ME5A\"] = df_me5a_2022_2025[\"Материал\"]\n",
        "# 1. Temizleme işlemi\n",
        "df_me2n_2022_2025[\"Заявка\"] = df_me2n_2022_2025[\"Заявка\"].apply(temizle_ve_cevir)\n",
        "df_me2n_2022_2025[\"Позиция заявки\"] = df_me2n_2022_2025[\"Позиция заявки\"].apply(temizle_ve_cevir)\n",
        "\n",
        "df_me5a_2022_2025[\"Заявка\"] = df_me5a_2022_2025[\"Заявка\"].apply(temizle_ve_cevir)\n",
        "df_me5a_2022_2025[\"Позиция заявки\"] = df_me5a_2022_2025[\"Позиция заявки\"].apply(temizle_ve_cevir)\n",
        "\n",
        "# 2. Anahtar oluştur\n",
        "df_me2n_2022_2025[\"zayavka_poz\"] = df_me2n_2022_2025[\"Заявка\"] + \"_\" + df_me2n_2022_2025[\"Позиция заявки\"]\n",
        "df_me5a_2022_2025[\"zayavka_poz\"] = df_me5a_2022_2025[\"Заявка\"] + \"_\" + df_me5a_2022_2025[\"Позиция заявки\"]\n",
        "\n",
        "# 3. Dict oluştur (anahtar: zayavka_poz, değer: Материал_ME5A)\n",
        "dict_me5a = dict(zip(df_me5a_2022_2025[\"zayavka_poz\"], df_me5a_2022_2025[\"Материал_ME5A\"]))\n",
        "\n",
        "# 4. map ile df_me2n_2022_2025'e ekle\n",
        "df_me2n_2022_2025[\"Материал_ME5A\"] = df_me2n_2022_2025[\"zayavka_poz\"].map(dict_me5a)\n",
        "#yeni oluşturulan sutunlara ihtiyaç kalmadı\n",
        "df_me5a_2022_2025 = df_me5a_2022_2025.drop(columns=[\"zayavka_poz\"])\n",
        "df_me2n_2022_2025 = df_me2n_2022_2025.drop(columns=[\"zayavka_poz\"])\n"
      ],
      "metadata": {
        "id": "qIcQ5Ook6PHt"
      },
      "execution_count": 52,
      "outputs": []
    },
    {
      "cell_type": "code",
      "source": [
        "df_me2n_2022_2025 = df_me2n_2022_2025.applymap(temizle_nan)"
      ],
      "metadata": {
        "id": "WUiP9GpSPGjl",
        "outputId": "4e8888f9-6e0b-45bf-a74a-595d8e24e907",
        "colab": {
          "base_uri": "https://localhost:8080/"
        }
      },
      "execution_count": 53,
      "outputs": [
        {
          "output_type": "stream",
          "name": "stderr",
          "text": [
            "/tmp/ipython-input-2153232079.py:1: FutureWarning: DataFrame.applymap has been deprecated. Use DataFrame.map instead.\n",
            "  df_me2n_2022_2025 = df_me2n_2022_2025.applymap(temizle_nan)\n"
          ]
        }
      ]
    },
    {
      "cell_type": "code",
      "source": [
        "df_me2n_2022_2025_analog = df_me2n_2022_2025[\n",
        "    (df_me2n_2022_2025[\"Материал_ME2N\"] != df_me2n_2022_2025[\"Материал_ME5A\"]) &\n",
        "    (df_me2n_2022_2025[\"Заявка\"].apply(dolu_mi) & df_me2n_2022_2025[\"Позиция заявки\"].apply(dolu_mi))\n",
        "].copy()\n"
      ],
      "metadata": {
        "id": "qmeyeJZl-Jv1"
      },
      "execution_count": 129,
      "outputs": []
    },
    {
      "cell_type": "code",
      "source": [
        "# 1. Temizleme işlemi (gerekiyorsa)\n",
        "df_me2n_2022_2025_analog[\"Материал_ME5A\"] = df_me2n_2022_2025_analog[\"Материал_ME5A\"].apply(temizle_ve_cevir)\n",
        "df_material_list[\"﻿Материал\"] = df_material_list[\"﻿Материал\"].apply(temizle_ve_cevir)\n",
        "\n",
        "# 2. Dict oluştur\n",
        "dict_tr = dict(zip(df_material_list[\"﻿Материал\"], df_material_list[\"TR Наименование\"]))\n",
        "dict_ru = dict(zip(df_material_list[\"﻿Материал\"], df_material_list[\"RU Наименование\"]))\n",
        "\n",
        "# 3. map ile yeni sütunları ekle\n",
        "df_me2n_2022_2025_analog[\"TR Наименование_ВЗ\"] = df_me2n_2022_2025_analog[\"Материал_ME5A\"].map(dict_tr)\n",
        "df_me2n_2022_2025_analog[\"RU Наименование_ВЗ\"] = df_me2n_2022_2025_analog[\"Материал_ME5A\"].map(dict_ru)\n"
      ],
      "metadata": {
        "id": "_UsnXYbZSPzj"
      },
      "execution_count": 130,
      "outputs": []
    },
    {
      "cell_type": "code",
      "source": [
        "df_me2n_2022_2025_analog = df_me2n_2022_2025_analog.rename(columns={\"Наименование RU\": \"Наименование RU_ЗП\"})\n",
        "df_me2n_2022_2025_analog = df_me2n_2022_2025_analog.rename(columns={\"Наименование TR\": \"Наименование TR_ЗП\"})\n"
      ],
      "metadata": {
        "id": "xXY_GlosaPjK"
      },
      "execution_count": 131,
      "outputs": []
    },
    {
      "cell_type": "code",
      "source": [
        "# 1. Anahtar sütunları tuple haline getirelim\n",
        "df_me2n_2022_2025[\"key\"] = df_me2n_2022_2025[[\"Документ закупки\", \"Позиция\"]].apply(tuple, axis=1)\n",
        "df_me5a_2022_2025[\"key\"] = df_me5a_2022_2025[[\"Заказ на поставку\", \"Позиция ЗкзНаПостав\"]].apply(tuple, axis=1)\n",
        "\n",
        "# 2. Aktarılacak sütunlar ve hedef adları\n",
        "map_dict = {\n",
        "    \"Объем заказа\": \"Объем заказа\",\n",
        "    \"еще поставить (количество)\": \"еще поставить (количество)\",\n",
        "    \"Еще для поставки (стоимость)\": \"Еще для поставки (стоимость)\",\n",
        "    \"Для фактурирования (колич.)\": \"Для фактурирования (колич.)\",\n",
        "    \"Для фактурирования (стоим.)\": \"Для фактурирования (стоим.)\",\n",
        "    \"Имя поставщика\": \"Имя поставщика\",\n",
        "    \"Создал\": \"ЗП_Создал\",\n",
        "    \"Наш знак\":\"Наш знак\",\n",
        "    \"Цена нетто\":\"Цена нетто\",\n",
        "    \"Валюта\":\"Валюта\",\n",
        "    \"Индикатор удаления\":\"Индикатор удаления_зп\",\n",
        "    \"ЕИ заказа на постав.\":\"ЕИ заказа на постав.\",\n",
        "    \"Единица цены\":\"Единица цены\",\n",
        "\n",
        "}\n",
        "\n",
        "# 3. Her sütun için dict map uygulama\n",
        "for source_col, target_col in map_dict.items():\n",
        "    temp_dict = dict(zip(df_me2n_2022_2025[\"key\"], df_me2n_2022_2025[source_col]))\n",
        "    df_me5a_2022_2025[target_col] = df_me5a_2022_2025[\"key\"].map(temp_dict)\n",
        "\n",
        "# 4. Geçici key sütunlarını kaldır\n",
        "df_me2n_2022_2025.drop(columns=[\"key\"], inplace=True)\n",
        "df_me5a_2022_2025.drop(columns=[\"key\"], inplace=True)\n"
      ],
      "metadata": {
        "id": "vzzeExbkx_3N"
      },
      "execution_count": 135,
      "outputs": []
    },
    {
      "cell_type": "code",
      "source": [
        "# 1. Yeni sütun sırasını belirle\n",
        "df_me2n_2022_2025_analog_yeni_sira = [\n",
        "    'ГОД', 'Документ закупки', 'Позиция', 'Группа закупок',\n",
        "    'Закуп. организация','Создал', 'Индикатор удаления', 'Дата документа',\n",
        "    'Наш знак', 'Ваш код', 'Имя поставщика', 'Заявка',  'Позиция заявки',\n",
        "    'Материал_ME2N','Материал_ME5A','Наименование RU_ЗП','Наименование TR_ЗП',\n",
        "    'RU Наименование_ВЗ','TR Наименование_ВЗ',\n",
        "    'Объем заказа', 'еще поставить (количество)','Уже поставлено (количество)',\n",
        "    'Складская ЕИ','Количество в СЕИ','Единица цены','Цена нетто',\n",
        "    'СтоимЗаказа нетто','Еще для поставки (стоимость)','Валюта',\n",
        "    'Вид докум. закупки','Код налога','Дата поставки','ЕИ заказа на постав.',\n",
        "    'Инвентарный номер'\n",
        "]\n",
        "\n",
        "# 2. DataFrame'i yeni sütun sırasına göre düzenle\n",
        "df_me2n_2022_2025_analog =df_me2n_2022_2025_analog[df_me2n_2022_2025_analog_yeni_sira]\n"
      ],
      "metadata": {
        "id": "FlAiIMxzYzv9"
      },
      "execution_count": 137,
      "outputs": []
    },
    {
      "cell_type": "code",
      "source": [
        "# 1. Yeni sütun sırasını belirle\n",
        "df_me2n_2022_2025_yeni_sira = [\n",
        "      'ГОД', 'Документ закупки', 'Позиция','Создал', 'Группа закупок',\n",
        "      'Закуп. организация', 'Индикатор удаления', 'Дата документа',\n",
        "      'Наш знак', 'Ваш код', 'Имя поставщика', 'Заявка','Позиция заявки',\n",
        "      'Материал','Инвентарный номер', 'Наименование RU','Наименование TR',\n",
        "      'Объем заказа','Складская ЕИ','еще поставить (количество)',\n",
        "      'Еще для поставки (стоимость)','Уже поставлено (количество)',\n",
        "      'Для фактурирования (стоим.)','Для фактурирования (колич.)',\n",
        "      'Количество в СЕИ', 'Единица цены','СтоимЗаказа нетто','Валюта',\n",
        "      'Цена нетто','Вид докум. закупки', 'Код налога','Краткий текст',\n",
        "      'Дата поставки', 'ЕИ заказа на постав.','ТипДокумЗакупки',\n",
        "      'Тип неполноты данных','Группа материалов','Материал_ME2N', 'Материал_ME5A'\n",
        "\n",
        "]\n",
        "\n",
        "# 2. DataFrame'i yeni sütun sırasına göre düzenle\n",
        "df_me2n_2022_2025 =df_me2n_2022_2025[df_me2n_2022_2025_yeni_sira]"
      ],
      "metadata": {
        "id": "nCmqhGYAdPM5"
      },
      "execution_count": 138,
      "outputs": []
    },
    {
      "cell_type": "code",
      "source": [
        "df_me5a_2022_2025.rename(columns={\"'Дата заявки\": \"Дата_заявки\"}, inplace=True)\n"
      ],
      "metadata": {
        "id": "80VjQca3fbkc"
      },
      "execution_count": 139,
      "outputs": []
    },
    {
      "cell_type": "code",
      "source": [
        "df_me5a_2022_2025_yeni_sira = [\n",
        "       'ГОД', 'Заявка', 'Позиция заявки', 'Материал', 'Индикатор удаления_B3','ЗатребованКолич',\n",
        "       'Объем заказа', 'еще поставить (количество)','Еще для поставки (стоимость)',\n",
        "       'Для фактурирования (колич.)','Для фактурирования (стоим.)', 'Имя поставщика',\n",
        "       'ЗП_Создал','Наш знак', 'Цена нетто', 'Валюта', 'ЕИ заказа на постав.',\n",
        "       'Единица цены', 'Заказ на поставку', 'Позиция ЗкзНаПостав','Индикатор удаления_зп',\n",
        "       'Затребовал', 'Индик. выдачи', 'Группа деблокир.',\n",
        "       'Статус обработки заявки', 'Дата заявки', 'Группа закупок',\n",
        "       'Дата изменения','Дата заказа', 'Долгосрочный договор',\n",
        "       'Заказанное к-во', 'Единица измерения', 'RU Наименование',\n",
        "       'TR Наименование',  'Дополнительное','Инвентарный номер', 'Краткий текст',\n",
        "       'Закуп. организация', 'Создал', 'ПоступлМатериала', 'Поступление счета',\n",
        "       'Номер проекта', 'Группа материалов', 'Дата поставки',\n",
        "       'Завод-поставщик', 'Вид документа', 'Статус обработки',\n",
        "       'Индикатор создания', 'Стратегия деблокир.', 'НДП-материал',\n",
        "       'Номер потребности', 'Объем дефицита', 'Тип даты поставки',\n",
        "       'Дата деблокирования', 'Дата_заявки', 'B3-B3POZ','Материал_ME5A'\n",
        "\n",
        "]\n",
        "\n",
        "# 2. DataFrame'i yeni sütun sırasına göre düzenle\n",
        "df_me5a_2022_2025 =df_me5a_2022_2025[df_me5a_2022_2025_yeni_sira]"
      ],
      "metadata": {
        "id": "tU_YzGKNedXF"
      },
      "execution_count": 141,
      "outputs": []
    },
    {
      "cell_type": "code",
      "source": [
        "df_calisilan_yeni_sira = [\n",
        "    'ГОД','zp_zppoz','B3-B3POZ','Документ_закупки', 'Зп_Поз',\n",
        "    'Индикатор удаления','неполн.', 'Материал', 'Заявка', 'Позиция заявки',\n",
        "    'RU Наименование', 'TR Наименование',\n",
        "    'Инвентарный номер в SAS', 'Количество ЗП',\n",
        "    'Минимальная цена ЗП', 'Минимальная цена ЗП.1',\n",
        "    'Минимальная цена ЗП.2','Единица ЗП', 'Цена нетто ЗП', 'Итого цена нетто',\n",
        "    'Валюта ЗП','Вид докум. закупки', 'Дата создания', 'Дата поставки',\n",
        "    'Дата доставки, одобренная Поставщиком', 'Группа закупок',\n",
        "    'Название ГрЗакупок', 'БЕ', 'Название фирмы', 'Закуп. организация',\n",
        "    'Название ЗакупОрг', 'Завод', 'Имя 1', 'Поставщик', 'Группа материалов',\n",
        "    'Название группы', 'Краткий текст', 'Создал', 'Вид докум. закупки.1',\n",
        "    'Обозначение ВидДокум', 'Дата создания.1', 'Создал.1','Группа закупок.1',\n",
        "    'Название ГрЗакупок.1', 'ЕИ заказа на постав.','Единица цены',\n",
        "    'Цена заказа нетто', 'Стоимость брутто', 'Валюта','Недопоставленное количество',\n",
        "    'Количество поставки', 'Сумма брутто','Валюта.1', 'Количество по счету', 'Дата проводки',\n",
        "    'Количество по счету.1', 'Валюта.2', 'Остаток количества по счету',\n",
        "    'Остаток суммы по счету', 'Автор Внутреннего заказа', 'Количество по счету.2',\n",
        "    'Значок \"поставка завершена\"','Дата контракта', 'Дата вступления в силу контракта',\n",
        "    'Дата окончания действия договора', 'Склад', '№ комиссии','имя_поставщика'\n",
        "]\n",
        "\n",
        "# 2. DataFrame'i yeni sütun sırasına göre düzenle\n",
        "df_calisilan =df_calisilan[df_calisilan_yeni_sira]"
      ],
      "metadata": {
        "id": "NUrvz12Vgc_w"
      },
      "execution_count": 142,
      "outputs": []
    },
    {
      "cell_type": "code",
      "source": [
        "# 1. Yeni sütun sırasını belirle\n",
        "zmb51_yeni_sira = [\n",
        "    'ГОД', 'Вид движения', 'Партия', 'Материал', 'Заказ на поставку',\n",
        "    'Позиция', 'Наш знак', 'Ваш код', 'Внутренний заказ', 'Позиция заявки',\n",
        "    'Склад', 'Дата ввода', 'Время ввода', 'Дата документа', 'Дата проводки',\n",
        "    'Документ материала', 'Поз. док. материала', 'Признак 2', 'Ссылка',\n",
        "    'Краткий текст материала', 'Кол-во в ЕИ ввода', 'Объем заказа',\n",
        "    'ЕИ ввода','Сумма во ВВ', 'Количество', 'Поставщик','Имя поставщика',\n",
        "    'Накладная','Текст заголовка документа', 'Заявитель', 'Инвентарный номер',\n",
        "    'Имя пользователя', 'БЕ', 'Базовая ЕИ', 'ГодДокумМатериала', 'Валюта',\n",
        "    'Завод', 'Имя 1', 'Основное средство', 'ЕИ цены заказа','ЕИ заказа на постав.'\n",
        "\n",
        "]\n",
        "\n",
        "# 2. DataFrame'i yeni sütun sırasına göre düzenle\n",
        "birlesik_df_zmb51 = birlesik_df_zmb51[zmb51_yeni_sira]"
      ],
      "metadata": {
        "id": "UszDpnbThxfh"
      },
      "execution_count": 143,
      "outputs": []
    },
    {
      "cell_type": "code",
      "source": [
        "#ME5A\n",
        "df_me5a_2022_2025[\"ГОД\"] = pd.to_numeric(df_me5a_2022_2025[\"ГОД\"], errors=\"coerce\").astype(\"Int64\")\n",
        "df_me5a_2022_2025[\"Заявка\"] = pd.to_numeric(df_me5a_2022_2025[\"Заявка\"], errors=\"coerce\").astype(\"Int64\")\n",
        "df_me5a_2022_2025[\"Материал\"] = pd.to_numeric(df_me5a_2022_2025[\"Материал\"], errors=\"coerce\").astype(\"Int64\")\n",
        "df_me5a_2022_2025[\"Заказ на поставку\"] = pd.to_numeric(df_me5a_2022_2025[\"Заказ на поставку\"], errors=\"coerce\").astype(\"Int64\")\n",
        "df_me5a_2022_2025[\"Позиция ЗкзНаПостав\"] = pd.to_numeric(df_me5a_2022_2025[\"Позиция ЗкзНаПостав\"], errors=\"coerce\").astype(\"Int64\")\n",
        "df_me5a_2022_2025[\"ЗатребованКолич\"] = pd.to_numeric(df_me5a_2022_2025[\"ЗатребованКолич\"], errors=\"coerce\").astype(\"float64\")\n",
        "df_me5a_2022_2025[\"Заказанное к-во\"] = pd.to_numeric(df_me5a_2022_2025[\"Заказанное к-во\"], errors=\"coerce\").astype(\"float64\")\n",
        "df_me5a_2022_2025[\"Объем заказа\"] = pd.to_numeric(df_me5a_2022_2025[\"Объем заказа\"], errors=\"coerce\").astype(\"float64\")\n",
        "df_me5a_2022_2025[\"еще поставить (количество)\"] = pd.to_numeric(df_me5a_2022_2025[\"еще поставить (количество)\"], errors=\"coerce\").astype(\"float64\")\n",
        "df_me5a_2022_2025[\"Еще для поставки (стоимость)\"] = pd.to_numeric(df_me5a_2022_2025[\"Еще для поставки (стоимость)\"], errors=\"coerce\").astype(\"float64\")\n",
        "df_me5a_2022_2025[\"Для фактурирования (колич.)\"] = pd.to_numeric(df_me5a_2022_2025[\"Для фактурирования (колич.)\"], errors=\"coerce\").astype(\"float64\")\n",
        "df_me5a_2022_2025[\"Для фактурирования (стоим.)\"] = pd.to_numeric(df_me5a_2022_2025[\"Для фактурирования (стоим.)\"], errors=\"coerce\").astype(\"float64\")\n",
        "#ME2N\n",
        "df_me2n_2022_2025[\"ГОД\"] = pd.to_numeric(df_me2n_2022_2025[\"ГОД\"], errors=\"coerce\").astype(\"Int64\")\n",
        "df_me2n_2022_2025[\"Документ закупки\"] = pd.to_numeric(df_me2n_2022_2025[\"Документ закупки\"], errors=\"coerce\").astype(\"Int64\")\n",
        "df_me2n_2022_2025[\"Заявка\"] = pd.to_numeric(df_me2n_2022_2025[\"Заявка\"], errors=\"coerce\").astype(\"Int64\")\n",
        "df_me2n_2022_2025[\"Материал\"] = pd.to_numeric(df_me2n_2022_2025[\"Материал\"], errors=\"coerce\").astype(\"Int64\")\n",
        "df_me2n_2022_2025[\"Объем заказа\"] = pd.to_numeric(df_me2n_2022_2025[\"Объем заказа\"], errors=\"coerce\").astype(\"float64\")\n",
        "df_me2n_2022_2025[\"еще поставить (количество)\"] = pd.to_numeric(df_me2n_2022_2025[\"еще поставить (количество)\"], errors=\"coerce\").astype(\"float64\")\n",
        "df_me2n_2022_2025[\"Количество в СЕИ\"] = pd.to_numeric(df_me2n_2022_2025[\"Количество в СЕИ\"], errors=\"coerce\").astype(\"float64\")\n",
        "df_me2n_2022_2025[\"Цена нетто\"] = pd.to_numeric(df_me2n_2022_2025[\"Цена нетто\"], errors=\"coerce\").astype(\"float64\")\n",
        "df_me2n_2022_2025[\"СтоимЗаказа нетто\"] = pd.to_numeric(df_me2n_2022_2025[\"СтоимЗаказа нетто\"], errors=\"coerce\").astype(\"float64\")\n",
        "df_me2n_2022_2025[\"Еще для поставки (стоимость)\"] = pd.to_numeric(df_me2n_2022_2025[\"Еще для поставки (стоимость)\"], errors=\"coerce\").astype(\"float64\")\n",
        "#zmb51\n",
        "birlesik_df_zmb51[\"ГОД\"] = pd.to_numeric(birlesik_df_zmb51[\"ГОД\"], errors=\"coerce\").astype(\"Int64\")\n",
        "birlesik_df_zmb51[\"Партия\"] = pd.to_numeric(birlesik_df_zmb51[\"Партия\"], errors=\"coerce\").astype(\"Int64\")\n",
        "birlesik_df_zmb51[\"Заказ на поставку\"] = pd.to_numeric(birlesik_df_zmb51[\"Заказ на поставку\"], errors=\"coerce\").astype(\"Int64\")\n",
        "birlesik_df_zmb51[\"Позиция\"] = pd.to_numeric(birlesik_df_zmb51[\"Позиция\"], errors=\"coerce\").astype(\"Int64\")\n",
        "birlesik_df_zmb51[\"Внутренний заказ\"] = pd.to_numeric(birlesik_df_zmb51[\"Внутренний заказ\"], errors=\"coerce\").astype(\"Int64\")\n",
        "birlesik_df_zmb51[\"Документ материала\"] = pd.to_numeric(birlesik_df_zmb51[\"Документ материала\"], errors=\"coerce\").astype(\"Int64\")\n",
        "birlesik_df_zmb51[\"Поз. док. материала\"] = pd.to_numeric(birlesik_df_zmb51[\"Поз. док. материала\"], errors=\"coerce\").astype(\"Int64\")\n",
        "birlesik_df_zmb51[\"Кол-во в ЕИ ввода\"] = pd.to_numeric(birlesik_df_zmb51[\"Кол-во в ЕИ ввода\"], errors=\"coerce\").astype(\"float64\")\n",
        "birlesik_df_zmb51[\"Сумма во ВВ\"] = pd.to_numeric(birlesik_df_zmb51[\"Сумма во ВВ\"], errors=\"coerce\").astype(\"float64\")\n",
        "birlesik_df_zmb51[\"Количество\"] = pd.to_numeric(birlesik_df_zmb51[\"Количество\"], errors=\"coerce\").astype(\"float64\")\n",
        "birlesik_df_zmb51[\"Поставщик\"] = pd.to_numeric(birlesik_df_zmb51[\"Поставщик\"], errors=\"coerce\").astype(\"Int64\")\n",
        "#zmm059\n",
        "df_calisilan[\"ГОД\"] = pd.to_numeric(df_calisilan[\"ГОД\"], errors=\"coerce\").astype(\"Int64\")\n",
        "df_calisilan[\"Документ_закупки\"] = pd.to_numeric(df_calisilan[\"Документ_закупки\"], errors=\"coerce\").astype(\"Int64\")\n",
        "df_calisilan[\"Зп_Поз\"] = pd.to_numeric(df_calisilan[\"Зп_Поз\"], errors=\"coerce\").astype(\"Int64\")\n",
        "df_calisilan[\"Материал\"] = pd.to_numeric(df_calisilan[\"Материал\"], errors=\"coerce\").astype(\"Int64\")\n",
        "df_calisilan[\"Заявка\"] = pd.to_numeric(df_calisilan[\"Заявка\"], errors=\"coerce\").astype(\"Int64\")\n",
        "df_calisilan[\"Позиция заявки\"] = pd.to_numeric(df_calisilan[\"Позиция заявки\"], errors=\"coerce\").astype(\"Int64\")\n",
        "df_calisilan[\"Количество ЗП\"] = pd.to_numeric(df_calisilan[\"Количество ЗП\"], errors=\"coerce\").astype(\"float64\")\n",
        "df_calisilan[\"Минимальная цена ЗП\"] = pd.to_numeric(df_calisilan[\"Минимальная цена ЗП\"], errors=\"coerce\").astype(\"float64\")\n",
        "df_calisilan[\"Минимальная цена ЗП.1\"] = pd.to_numeric(df_calisilan[\"Минимальная цена ЗП.1\"], errors=\"coerce\").astype(\"float64\")\n",
        "df_calisilan[\"Единица ЗП\"] = pd.to_numeric(df_calisilan[\"Единица ЗП\"], errors=\"coerce\").astype(\"Int64\")\n",
        "df_calisilan[\"Цена нетто ЗП\"] = pd.to_numeric(df_calisilan[\"Цена нетто ЗП\"], errors=\"coerce\").astype(\"float64\")\n",
        "df_calisilan[\"Итого цена нетто\"] = pd.to_numeric(df_calisilan[\"Итого цена нетто\"], errors=\"coerce\").astype(\"float64\")\n",
        "df_calisilan[\"Поставщик\"] = pd.to_numeric(df_calisilan[\"Поставщик\"], errors=\"coerce\").astype(\"Int64\")\n",
        "#me2n_analog\n",
        "df_me2n_2022_2025_analog[\"ГОД\"] = pd.to_numeric(df_me2n_2022_2025[\"ГОД\"], errors=\"coerce\").astype(\"Int64\")\n",
        "df_me2n_2022_2025_analog[\"Документ закупки\"] = pd.to_numeric(df_me2n_2022_2025[\"Документ закупки\"], errors=\"coerce\").astype(\"Int64\")\n",
        "df_me2n_2022_2025_analog[\"Заявка\"] = pd.to_numeric(df_me2n_2022_2025[\"Заявка\"], errors=\"coerce\").astype(\"Int64\")\n",
        "df_me2n_2022_2025_analog[\"Материал\"] = pd.to_numeric(df_me2n_2022_2025[\"Материал\"], errors=\"coerce\").astype(\"Int64\")\n",
        "df_me2n_2022_2025_analog[\"Объем заказа\"] = pd.to_numeric(df_me2n_2022_2025[\"Объем заказа\"], errors=\"coerce\").astype(\"float64\")\n",
        "df_me2n_2022_2025_analog[\"еще поставить (количество)\"] = pd.to_numeric(df_me2n_2022_2025[\"еще поставить (количество)\"], errors=\"coerce\").astype(\"float64\")\n",
        "df_me2n_2022_2025_analog[\"Количество в СЕИ\"] = pd.to_numeric(df_me2n_2022_2025[\"Количество в СЕИ\"], errors=\"coerce\").astype(\"float64\")\n",
        "df_me2n_2022_2025_analog[\"Цена нетто\"] = pd.to_numeric(df_me2n_2022_2025[\"Цена нетто\"], errors=\"coerce\").astype(\"float64\")\n",
        "df_me2n_2022_2025_analog[\"СтоимЗаказа нетто\"] = pd.to_numeric(df_me2n_2022_2025[\"СтоимЗаказа нетто\"], errors=\"coerce\").astype(\"float64\")\n",
        "df_me2n_2022_2025_analog[\"Еще для поставки (стоимость)\"] = pd.to_numeric(df_me2n_2022_2025[\"Еще для поставки (стоимость)\"], errors=\"coerce\").astype(\"float64\")\n",
        "\n",
        "#zmm067\n",
        "df_zmm067_2022_2025.rename(columns={\"SAT Yaratma Tarihi\": \"Дата Заявка\"}, inplace=True)\n",
        "df_zmm067_2022_2025.rename(columns={\"Sipariş Silme Göstergesi\": \"Индикатор удаления заказа\"}, inplace=True)\n",
        "df_zmm067_2022_2025.rename(columns={\"SAT Teslimat Tarihi\": \"Дата доставки заявка\"}, inplace=True)\n",
        "df_zmm067_2022_2025.rename(columns={\"Talep Silme Göstergesi\": \"Индикатор удаления заявка\"}, inplace=True)\n",
        "df_zmm067_2022_2025[\"Объем заказа\"] = pd.to_numeric(df_zmm067_2022_2025[\"Объем заказа\"], errors=\"coerce\").astype(\"float64\")"
      ],
      "metadata": {
        "id": "cYc_g8xzfyBg"
      },
      "execution_count": 144,
      "outputs": []
    },
    {
      "cell_type": "code",
      "source": [
        "df_zmm067_2022_2025.to_excel(\"zmm067_2022_2025.xlsx\", index=False)\n",
        "files.download(\"zmm067_2022_2025.xlsx\")"
      ],
      "metadata": {
        "id": "W7h6KdWLjRzK",
        "outputId": "3cd56213-1adc-443d-e30e-838032bc8d02",
        "colab": {
          "base_uri": "https://localhost:8080/",
          "height": 17
        }
      },
      "execution_count": 71,
      "outputs": [
        {
          "output_type": "display_data",
          "data": {
            "text/plain": [
              "<IPython.core.display.Javascript object>"
            ],
            "application/javascript": [
              "\n",
              "    async function download(id, filename, size) {\n",
              "      if (!google.colab.kernel.accessAllowed) {\n",
              "        return;\n",
              "      }\n",
              "      const div = document.createElement('div');\n",
              "      const label = document.createElement('label');\n",
              "      label.textContent = `Downloading \"${filename}\": `;\n",
              "      div.appendChild(label);\n",
              "      const progress = document.createElement('progress');\n",
              "      progress.max = size;\n",
              "      div.appendChild(progress);\n",
              "      document.body.appendChild(div);\n",
              "\n",
              "      const buffers = [];\n",
              "      let downloaded = 0;\n",
              "\n",
              "      const channel = await google.colab.kernel.comms.open(id);\n",
              "      // Send a message to notify the kernel that we're ready.\n",
              "      channel.send({})\n",
              "\n",
              "      for await (const message of channel.messages) {\n",
              "        // Send a message to notify the kernel that we're ready.\n",
              "        channel.send({})\n",
              "        if (message.buffers) {\n",
              "          for (const buffer of message.buffers) {\n",
              "            buffers.push(buffer);\n",
              "            downloaded += buffer.byteLength;\n",
              "            progress.value = downloaded;\n",
              "          }\n",
              "        }\n",
              "      }\n",
              "      const blob = new Blob(buffers, {type: 'application/binary'});\n",
              "      const a = document.createElement('a');\n",
              "      a.href = window.URL.createObjectURL(blob);\n",
              "      a.download = filename;\n",
              "      div.appendChild(a);\n",
              "      a.click();\n",
              "      div.remove();\n",
              "    }\n",
              "  "
            ]
          },
          "metadata": {}
        },
        {
          "output_type": "display_data",
          "data": {
            "text/plain": [
              "<IPython.core.display.Javascript object>"
            ],
            "application/javascript": [
              "download(\"download_dfc6d86b-6e38-4335-8752-080dbc32184d\", \"zmm067_2022_2025.xlsx\", 18411437)"
            ]
          },
          "metadata": {}
        }
      ]
    },
    {
      "cell_type": "code",
      "source": [
        "df_me2n_2022_2025_analog.to_excel(\"me2n_2022_2025_analog_pos.xlsx\", index=False)\n",
        "files.download(\"me2n_2022_2025_analog_pos.xlsx\")"
      ],
      "metadata": {
        "id": "6E1KMH-kV6Si",
        "outputId": "66ab6bb4-dbf6-4250-f543-efd517e54726",
        "colab": {
          "base_uri": "https://localhost:8080/",
          "height": 17
        }
      },
      "execution_count": 72,
      "outputs": [
        {
          "output_type": "display_data",
          "data": {
            "text/plain": [
              "<IPython.core.display.Javascript object>"
            ],
            "application/javascript": [
              "\n",
              "    async function download(id, filename, size) {\n",
              "      if (!google.colab.kernel.accessAllowed) {\n",
              "        return;\n",
              "      }\n",
              "      const div = document.createElement('div');\n",
              "      const label = document.createElement('label');\n",
              "      label.textContent = `Downloading \"${filename}\": `;\n",
              "      div.appendChild(label);\n",
              "      const progress = document.createElement('progress');\n",
              "      progress.max = size;\n",
              "      div.appendChild(progress);\n",
              "      document.body.appendChild(div);\n",
              "\n",
              "      const buffers = [];\n",
              "      let downloaded = 0;\n",
              "\n",
              "      const channel = await google.colab.kernel.comms.open(id);\n",
              "      // Send a message to notify the kernel that we're ready.\n",
              "      channel.send({})\n",
              "\n",
              "      for await (const message of channel.messages) {\n",
              "        // Send a message to notify the kernel that we're ready.\n",
              "        channel.send({})\n",
              "        if (message.buffers) {\n",
              "          for (const buffer of message.buffers) {\n",
              "            buffers.push(buffer);\n",
              "            downloaded += buffer.byteLength;\n",
              "            progress.value = downloaded;\n",
              "          }\n",
              "        }\n",
              "      }\n",
              "      const blob = new Blob(buffers, {type: 'application/binary'});\n",
              "      const a = document.createElement('a');\n",
              "      a.href = window.URL.createObjectURL(blob);\n",
              "      a.download = filename;\n",
              "      div.appendChild(a);\n",
              "      a.click();\n",
              "      div.remove();\n",
              "    }\n",
              "  "
            ]
          },
          "metadata": {}
        },
        {
          "output_type": "display_data",
          "data": {
            "text/plain": [
              "<IPython.core.display.Javascript object>"
            ],
            "application/javascript": [
              "download(\"download_1842cd86-4460-46c1-8754-ba601ba706e2\", \"me2n_2022_2025_analog_pos.xlsx\", 1397628)"
            ]
          },
          "metadata": {}
        }
      ]
    },
    {
      "cell_type": "code",
      "source": [
        "df_me5a_2022_2025.to_excel(\"me5a_2022_2025.xlsx\", index=False)\n",
        "files.download(\"me5a_2022_2025.xlsx\")"
      ],
      "metadata": {
        "id": "Q4fz0Fojf9-_",
        "outputId": "ecc76432-314b-419c-bb03-4452a8426d3f",
        "colab": {
          "base_uri": "https://localhost:8080/",
          "height": 17
        }
      },
      "execution_count": 73,
      "outputs": [
        {
          "output_type": "display_data",
          "data": {
            "text/plain": [
              "<IPython.core.display.Javascript object>"
            ],
            "application/javascript": [
              "\n",
              "    async function download(id, filename, size) {\n",
              "      if (!google.colab.kernel.accessAllowed) {\n",
              "        return;\n",
              "      }\n",
              "      const div = document.createElement('div');\n",
              "      const label = document.createElement('label');\n",
              "      label.textContent = `Downloading \"${filename}\": `;\n",
              "      div.appendChild(label);\n",
              "      const progress = document.createElement('progress');\n",
              "      progress.max = size;\n",
              "      div.appendChild(progress);\n",
              "      document.body.appendChild(div);\n",
              "\n",
              "      const buffers = [];\n",
              "      let downloaded = 0;\n",
              "\n",
              "      const channel = await google.colab.kernel.comms.open(id);\n",
              "      // Send a message to notify the kernel that we're ready.\n",
              "      channel.send({})\n",
              "\n",
              "      for await (const message of channel.messages) {\n",
              "        // Send a message to notify the kernel that we're ready.\n",
              "        channel.send({})\n",
              "        if (message.buffers) {\n",
              "          for (const buffer of message.buffers) {\n",
              "            buffers.push(buffer);\n",
              "            downloaded += buffer.byteLength;\n",
              "            progress.value = downloaded;\n",
              "          }\n",
              "        }\n",
              "      }\n",
              "      const blob = new Blob(buffers, {type: 'application/binary'});\n",
              "      const a = document.createElement('a');\n",
              "      a.href = window.URL.createObjectURL(blob);\n",
              "      a.download = filename;\n",
              "      div.appendChild(a);\n",
              "      a.click();\n",
              "      div.remove();\n",
              "    }\n",
              "  "
            ]
          },
          "metadata": {}
        },
        {
          "output_type": "display_data",
          "data": {
            "text/plain": [
              "<IPython.core.display.Javascript object>"
            ],
            "application/javascript": [
              "download(\"download_cfb40ea0-ce98-48d2-a339-c5f1556cb0fd\", \"me5a_2022_2025.xlsx\", 71099780)"
            ]
          },
          "metadata": {}
        }
      ]
    },
    {
      "cell_type": "code",
      "source": [
        "df_me2n_2022_2025.to_excel(\"me2n_2022_2025.xlsx\", index=False)\n",
        "files.download(\"me2n_2022_2025.xlsx\")"
      ],
      "metadata": {
        "id": "XqgYM6y7qWyZ",
        "outputId": "137a0e6b-da9c-4f38-8955-b68963e08db4",
        "colab": {
          "base_uri": "https://localhost:8080/",
          "height": 17
        }
      },
      "execution_count": 74,
      "outputs": [
        {
          "output_type": "display_data",
          "data": {
            "text/plain": [
              "<IPython.core.display.Javascript object>"
            ],
            "application/javascript": [
              "\n",
              "    async function download(id, filename, size) {\n",
              "      if (!google.colab.kernel.accessAllowed) {\n",
              "        return;\n",
              "      }\n",
              "      const div = document.createElement('div');\n",
              "      const label = document.createElement('label');\n",
              "      label.textContent = `Downloading \"${filename}\": `;\n",
              "      div.appendChild(label);\n",
              "      const progress = document.createElement('progress');\n",
              "      progress.max = size;\n",
              "      div.appendChild(progress);\n",
              "      document.body.appendChild(div);\n",
              "\n",
              "      const buffers = [];\n",
              "      let downloaded = 0;\n",
              "\n",
              "      const channel = await google.colab.kernel.comms.open(id);\n",
              "      // Send a message to notify the kernel that we're ready.\n",
              "      channel.send({})\n",
              "\n",
              "      for await (const message of channel.messages) {\n",
              "        // Send a message to notify the kernel that we're ready.\n",
              "        channel.send({})\n",
              "        if (message.buffers) {\n",
              "          for (const buffer of message.buffers) {\n",
              "            buffers.push(buffer);\n",
              "            downloaded += buffer.byteLength;\n",
              "            progress.value = downloaded;\n",
              "          }\n",
              "        }\n",
              "      }\n",
              "      const blob = new Blob(buffers, {type: 'application/binary'});\n",
              "      const a = document.createElement('a');\n",
              "      a.href = window.URL.createObjectURL(blob);\n",
              "      a.download = filename;\n",
              "      div.appendChild(a);\n",
              "      a.click();\n",
              "      div.remove();\n",
              "    }\n",
              "  "
            ]
          },
          "metadata": {}
        },
        {
          "output_type": "display_data",
          "data": {
            "text/plain": [
              "<IPython.core.display.Javascript object>"
            ],
            "application/javascript": [
              "download(\"download_2478ec18-787e-4aad-b1a0-d3a889fb3ae9\", \"me2n_2022_2025.xlsx\", 50921717)"
            ]
          },
          "metadata": {}
        }
      ]
    },
    {
      "cell_type": "code",
      "source": [
        "birlesik_df_zmb51.to_excel(\"zmb51_2022_2025.xlsx\", index=False)\n",
        "files.download(\"zmb51_2022_2025.xlsx\")"
      ],
      "metadata": {
        "id": "inghndIIqcjZ",
        "outputId": "b77cfcfa-7ffc-4a5d-a2d7-506c8540bd62",
        "colab": {
          "base_uri": "https://localhost:8080/",
          "height": 17
        }
      },
      "execution_count": 75,
      "outputs": [
        {
          "output_type": "display_data",
          "data": {
            "text/plain": [
              "<IPython.core.display.Javascript object>"
            ],
            "application/javascript": [
              "\n",
              "    async function download(id, filename, size) {\n",
              "      if (!google.colab.kernel.accessAllowed) {\n",
              "        return;\n",
              "      }\n",
              "      const div = document.createElement('div');\n",
              "      const label = document.createElement('label');\n",
              "      label.textContent = `Downloading \"${filename}\": `;\n",
              "      div.appendChild(label);\n",
              "      const progress = document.createElement('progress');\n",
              "      progress.max = size;\n",
              "      div.appendChild(progress);\n",
              "      document.body.appendChild(div);\n",
              "\n",
              "      const buffers = [];\n",
              "      let downloaded = 0;\n",
              "\n",
              "      const channel = await google.colab.kernel.comms.open(id);\n",
              "      // Send a message to notify the kernel that we're ready.\n",
              "      channel.send({})\n",
              "\n",
              "      for await (const message of channel.messages) {\n",
              "        // Send a message to notify the kernel that we're ready.\n",
              "        channel.send({})\n",
              "        if (message.buffers) {\n",
              "          for (const buffer of message.buffers) {\n",
              "            buffers.push(buffer);\n",
              "            downloaded += buffer.byteLength;\n",
              "            progress.value = downloaded;\n",
              "          }\n",
              "        }\n",
              "      }\n",
              "      const blob = new Blob(buffers, {type: 'application/binary'});\n",
              "      const a = document.createElement('a');\n",
              "      a.href = window.URL.createObjectURL(blob);\n",
              "      a.download = filename;\n",
              "      div.appendChild(a);\n",
              "      a.click();\n",
              "      div.remove();\n",
              "    }\n",
              "  "
            ]
          },
          "metadata": {}
        },
        {
          "output_type": "display_data",
          "data": {
            "text/plain": [
              "<IPython.core.display.Javascript object>"
            ],
            "application/javascript": [
              "download(\"download_83232128-8f3f-4bfc-9d00-288d98468e98\", \"zmb51_2022_2025.xlsx\", 54705372)"
            ]
          },
          "metadata": {}
        }
      ]
    },
    {
      "cell_type": "code",
      "source": [
        "df_calisilan.to_excel(\"zmm059_2022_2025.xlsx\", index=False, engine=\"xlsxwriter\")\n",
        "files.download(\"zmm059_2022_2025.xlsx\")"
      ],
      "metadata": {
        "id": "qi6Zyv9LqjBO",
        "outputId": "7bef6554-c29f-4fda-a6e9-d2ee0347b865",
        "colab": {
          "base_uri": "https://localhost:8080/",
          "height": 17
        }
      },
      "execution_count": 76,
      "outputs": [
        {
          "output_type": "display_data",
          "data": {
            "text/plain": [
              "<IPython.core.display.Javascript object>"
            ],
            "application/javascript": [
              "\n",
              "    async function download(id, filename, size) {\n",
              "      if (!google.colab.kernel.accessAllowed) {\n",
              "        return;\n",
              "      }\n",
              "      const div = document.createElement('div');\n",
              "      const label = document.createElement('label');\n",
              "      label.textContent = `Downloading \"${filename}\": `;\n",
              "      div.appendChild(label);\n",
              "      const progress = document.createElement('progress');\n",
              "      progress.max = size;\n",
              "      div.appendChild(progress);\n",
              "      document.body.appendChild(div);\n",
              "\n",
              "      const buffers = [];\n",
              "      let downloaded = 0;\n",
              "\n",
              "      const channel = await google.colab.kernel.comms.open(id);\n",
              "      // Send a message to notify the kernel that we're ready.\n",
              "      channel.send({})\n",
              "\n",
              "      for await (const message of channel.messages) {\n",
              "        // Send a message to notify the kernel that we're ready.\n",
              "        channel.send({})\n",
              "        if (message.buffers) {\n",
              "          for (const buffer of message.buffers) {\n",
              "            buffers.push(buffer);\n",
              "            downloaded += buffer.byteLength;\n",
              "            progress.value = downloaded;\n",
              "          }\n",
              "        }\n",
              "      }\n",
              "      const blob = new Blob(buffers, {type: 'application/binary'});\n",
              "      const a = document.createElement('a');\n",
              "      a.href = window.URL.createObjectURL(blob);\n",
              "      a.download = filename;\n",
              "      div.appendChild(a);\n",
              "      a.click();\n",
              "      div.remove();\n",
              "    }\n",
              "  "
            ]
          },
          "metadata": {}
        },
        {
          "output_type": "display_data",
          "data": {
            "text/plain": [
              "<IPython.core.display.Javascript object>"
            ],
            "application/javascript": [
              "download(\"download_28f2d207-bdc7-4524-b466-47049e6c469e\", \"zmm059_2022_2025.xlsx\", 85920024)"
            ]
          },
          "metadata": {}
        }
      ]
    }
  ],
  "metadata": {
    "colab": {
      "name": "Welcome To Colab",
      "provenance": [],
      "include_colab_link": true
    },
    "kernelspec": {
      "display_name": "Python 3",
      "name": "python3"
    }
  },
  "nbformat": 4,
  "nbformat_minor": 0
}