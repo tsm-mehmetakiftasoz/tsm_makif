{
  "cells": [
    {
      "cell_type": "markdown",
      "metadata": {
        "id": "view-in-github",
        "colab_type": "text"
      },
      "source": [
        "<a href=\"https://colab.research.google.com/github/tsm-mehmetakiftasoz/tsm_makif/blob/main/%D0%B3%D0%BE%D1%82%D0%BE%D0%B2%D0%BE_B3_audit.ipynb\" target=\"_parent\"><img src=\"https://colab.research.google.com/assets/colab-badge.svg\" alt=\"Open In Colab\"/></a>"
      ]
    },
    {
      "cell_type": "code",
      "source": [
        "!pip install pandas\n",
        "!pip install xlsxwriter"
      ],
      "metadata": {
        "id": "0kdFsOKg0T88",
        "outputId": "e91511d5-53e0-4aab-ad3b-c76c8785b788",
        "colab": {
          "base_uri": "https://localhost:8080/"
        }
      },
      "execution_count": 1,
      "outputs": [
        {
          "output_type": "stream",
          "name": "stdout",
          "text": [
            "Requirement already satisfied: pandas in /usr/local/lib/python3.11/dist-packages (2.2.2)\n",
            "Requirement already satisfied: numpy>=1.23.2 in /usr/local/lib/python3.11/dist-packages (from pandas) (2.0.2)\n",
            "Requirement already satisfied: python-dateutil>=2.8.2 in /usr/local/lib/python3.11/dist-packages (from pandas) (2.9.0.post0)\n",
            "Requirement already satisfied: pytz>=2020.1 in /usr/local/lib/python3.11/dist-packages (from pandas) (2025.2)\n",
            "Requirement already satisfied: tzdata>=2022.7 in /usr/local/lib/python3.11/dist-packages (from pandas) (2025.2)\n",
            "Requirement already satisfied: six>=1.5 in /usr/local/lib/python3.11/dist-packages (from python-dateutil>=2.8.2->pandas) (1.17.0)\n",
            "Collecting xlsxwriter\n",
            "  Downloading XlsxWriter-3.2.3-py3-none-any.whl.metadata (2.7 kB)\n",
            "Downloading XlsxWriter-3.2.3-py3-none-any.whl (169 kB)\n",
            "\u001b[2K   \u001b[90m━━━━━━━━━━━━━━━━━━━━━━━━━━━━━━━━━━━━━━━━\u001b[0m \u001b[32m169.4/169.4 kB\u001b[0m \u001b[31m5.3 MB/s\u001b[0m eta \u001b[36m0:00:00\u001b[0m\n",
            "\u001b[?25hInstalling collected packages: xlsxwriter\n",
            "Successfully installed xlsxwriter-3.2.3\n"
          ]
        }
      ]
    },
    {
      "cell_type": "code",
      "source": [
        "import pandas as pd\n",
        "import numpy as np\n",
        "from google.colab import files\n",
        "from datetime import datetime"
      ],
      "metadata": {
        "id": "PZo8r-w82ntT"
      },
      "execution_count": 2,
      "outputs": []
    },
    {
      "cell_type": "code",
      "source": [
        "def temizle_ve_cevir_2_str(x):\n",
        "    try:\n",
        "        return str(int(float(x)))\n",
        "    except:\n",
        "        return str(x)\n"
      ],
      "metadata": {
        "id": "jlPYC3jI2qoj"
      },
      "execution_count": 3,
      "outputs": []
    },
    {
      "cell_type": "code",
      "source": [
        "def temizle_ve_cevir_2date(x):\n",
        "    try:\n",
        "        return pd.to_datetime(x.strip(), format=\"%d.%m.%Y\", errors=\"coerce\").date()\n",
        "    except (AttributeError, ValueError):\n",
        "        return pd.NaT\n"
      ],
      "metadata": {
        "id": "y69BvfLmDlu9"
      },
      "execution_count": 4,
      "outputs": []
    },
    {
      "cell_type": "code",
      "source": [
        "def str_to_float(s):\n",
        "    if pd.isna(s):\n",
        "        return None\n",
        "    return float(s.replace(\".\", \"\").replace(\",\", \".\"))"
      ],
      "metadata": {
        "id": "Rg4Gz5N82wjr"
      },
      "execution_count": 5,
      "outputs": []
    },
    {
      "cell_type": "code",
      "source": [
        "df_zmm059_2022 = pd.read_csv('/content/zmm059_2022.csv', sep=None, engine='python')\n",
        "df_zmm059_2023 = pd.read_csv('/content/zmm059_2023.csv', sep=None, engine='python')\n",
        "df_zmm059_2024_1 = pd.read_csv('/content/zmm059_2024-1.csv', sep=None, engine='python')\n",
        "df_zmm059_2024_2 = pd.read_csv('/content/zmm059_2024-2.csv', sep=None, engine='python')\n",
        "df_zmm059_2024_3 = pd.read_csv('/content/zmm059_2024-3.csv', sep=None, engine='python')\n",
        "df_zmm059_2024_4 = pd.read_csv('/content/zmm059_2024-4.csv', sep=None, engine='python')\n",
        "df_zmm059_2025 = pd.read_csv('/content/zmm059_2025.csv', sep=None, engine='python')"
      ],
      "metadata": {
        "id": "7o1mRUtqp9dk"
      },
      "execution_count": 6,
      "outputs": []
    },
    {
      "cell_type": "code",
      "source": [
        "# DataFrame'leri bir listeye topla\n",
        "dfs = [df_zmm059_2022, df_zmm059_2023, df_zmm059_2024_1, df_zmm059_2024_2, df_zmm059_2024_3, df_zmm059_2024_4, df_zmm059_2025]\n",
        "\n",
        "# Hepsini birleştir\n",
        "df_zmm059_2022_2025 = pd.concat(dfs, ignore_index=True)\n",
        "df_zmm059_2022_2025_ = pd.concat(dfs, ignore_index=True)\n",
        "# Kontrol için ilk satırlara bak\n",
        "#print(df_zmm059_2022_2025.tail(5))"
      ],
      "metadata": {
        "id": "xYkw9cynrPA2"
      },
      "execution_count": 7,
      "outputs": []
    },
    {
      "cell_type": "code",
      "source": [
        "df_calisilan = df_zmm059_2022_2025.copy()"
      ],
      "metadata": {
        "id": "y7WVbSjxqDN7"
      },
      "execution_count": 8,
      "outputs": []
    },
    {
      "cell_type": "code",
      "source": [
        "df_calisilan[\"B3-B3POZ\"] = (\n",
        "    df_calisilan[\"Заявка\"].astype(str) + \"_\" + df_calisilan[\"Позиция заявки\"].astype(str)\n",
        ")"
      ],
      "metadata": {
        "id": "ry7HBOv5qEAD"
      },
      "execution_count": 9,
      "outputs": []
    },
    {
      "cell_type": "code",
      "source": [
        "\n",
        "df_calisilan.rename(columns={'﻿Документ закупки': 'Документ_закупки'}, inplace=True)"
      ],
      "metadata": {
        "id": "UO4KXjVcqGj6"
      },
      "execution_count": 10,
      "outputs": []
    },
    {
      "cell_type": "code",
      "source": [
        "adetler = df_calisilan[\"B3-B3POZ\"].value_counts()"
      ],
      "metadata": {
        "id": "QyMMNzqSqTSS"
      },
      "execution_count": 11,
      "outputs": []
    },
    {
      "cell_type": "code",
      "source": [
        "mukerrer_kodlar = adetler[adetler > 1].index"
      ],
      "metadata": {
        "id": "7JpI-KJFqUiR"
      },
      "execution_count": 12,
      "outputs": []
    },
    {
      "cell_type": "code",
      "source": [
        "silinmesi_gerekenler = df_calisilan[\n",
        "    (df_calisilan[\"B3-B3POZ\"].isin(mukerrer_kodlar)) &\n",
        "    (df_calisilan[\"Документ_закупки\"].isna())\n",
        "\n",
        "]"
      ],
      "metadata": {
        "id": "WWJ5SwP-qWVn"
      },
      "execution_count": 13,
      "outputs": []
    },
    {
      "cell_type": "code",
      "source": [
        "df_calisilan = df_calisilan.drop(silinmesi_gerekenler.index)"
      ],
      "metadata": {
        "id": "1CDx_cJgqX31"
      },
      "execution_count": 14,
      "outputs": []
    },
    {
      "cell_type": "code",
      "source": [
        "#ME2N Raporlarını Yüklemek\n",
        "df_me2n_2022 = pd.read_csv('/content/ME2N_2022.csv', sep=None, engine='python')\n",
        "df_me2n_2023 = pd.read_csv('/content/ME2N_2023.csv', sep=None, engine='python')\n",
        "df_me2n_2024 = pd.read_csv('/content/ME2N_2024.csv', sep=None, engine='python')\n",
        "df_me2n_2025 = pd.read_csv('/content/ME2N_2025.csv', sep=None, engine='python')\n"
      ],
      "metadata": {
        "id": "bBeoa-O325qr"
      },
      "execution_count": 15,
      "outputs": []
    },
    {
      "cell_type": "code",
      "source": [
        "#ilk sutuna yıl yazdırma me2n\n",
        "df_me2n_2022[\"Год\"] = \"2022\"\n",
        "cols = [\"Год\"] + [col for col in df_me2n_2022.columns if col != \"Год\"]\n",
        "df_me2n_2022 = df_me2n_2022[cols]\n",
        "#\n",
        "df_me2n_2023[\"Год\"] = \"2023\"\n",
        "cols = [\"Год\"] + [col for col in df_me2n_2023.columns if col != \"Год\"]\n",
        "df_me2n_2023 = df_me2n_2023[cols]\n",
        "#\n",
        "df_me2n_2024[\"Год\"] = \"2024\"\n",
        "cols = [\"Год\"] + [col for col in df_me2n_2024.columns if col != \"Год\"]\n",
        "df_me2n_2024 = df_me2n_2024[cols]\n",
        "#\n",
        "df_me2n_2025[\"Год\"] = \"2025\"\n",
        "cols = [\"Год\"] + [col for col in df_me2n_2025.columns if col != \"Год\"]\n",
        "df_me2n_2025 = df_me2n_2025[cols]\n",
        "#"
      ],
      "metadata": {
        "id": "DpQZPgJ7AV1A"
      },
      "execution_count": 16,
      "outputs": []
    },
    {
      "cell_type": "code",
      "source": [
        "\n",
        "#ME2N DataFrame'leri bir listeye topla\n",
        "dfs2 = [df_me2n_2022, df_me2n_2023, df_me2n_2024, df_me2n_2025]\n",
        "\n",
        "# Hepsini birleştir\n",
        "df_me2n_2022_2025 = pd.concat(dfs2, ignore_index=True)\n",
        "#df_me2n_2022_2025_ = pd.concat(dfs2, ignore_index=True)\n",
        "# Kontrol için ilk satırlara bak\n",
        "#print(df_me2n_2022_2025.tail(5))"
      ],
      "metadata": {
        "id": "vv9t2bkNAX9g"
      },
      "execution_count": 17,
      "outputs": []
    },
    {
      "cell_type": "code",
      "source": [
        "#me5a raporunu yüklemek\n",
        "df_me5a_2022 = pd.read_csv('/content/ME5A_2022.csv', sep=None, engine='python')\n",
        "df_me5a_2023 = pd.read_csv('/content/ME5A_2023.csv', sep=None, engine='python')\n",
        "df_me5a_2024 = pd.read_csv('/content/ME5A_2024.csv', sep=None, engine='python')\n",
        "df_me5a_2025 = pd.read_csv('/content/ME5A_2025.csv', sep=None, engine='python')\n",
        "\n",
        "\n",
        "# sep=None will automatically detect the delimiter\n",
        "# engine='python' is slower but more robust for complex cases"
      ],
      "metadata": {
        "id": "eVHpnH9rAaTQ"
      },
      "execution_count": 18,
      "outputs": []
    },
    {
      "cell_type": "code",
      "source": [
        "#ilk sutuna yıl yazdırma me2n\n",
        "df_me5a_2022[\"Год\"] = \"2022\"\n",
        "cols = [\"Год\"] + [col for col in df_me5a_2022.columns if col != \"Год\"]\n",
        "df_me5a_2022 = df_me5a_2022[cols]\n",
        "#\n",
        "df_me5a_2023[\"Год\"] = \"2023\"\n",
        "cols = [\"Год\"] + [col for col in df_me5a_2023.columns if col != \"Год\"]\n",
        "df_me5a_2023 = df_me5a_2023[cols]\n",
        "#\n",
        "df_me5a_2024[\"Год\"] = \"2024\"\n",
        "cols = [\"Год\"] + [col for col in df_me5a_2024.columns if col != \"Год\"]\n",
        "df_me5a_2024 = df_me5a_2024[cols]\n",
        "#\n",
        "df_me5a_2025[\"Год\"] = \"2025\"\n",
        "cols = [\"Год\"] + [col for col in df_me5a_2025.columns if col != \"Год\"]\n",
        "df_me5a_2025 = df_me5a_2025[cols]\n",
        "#"
      ],
      "metadata": {
        "id": "OcpBMhWqHeO4"
      },
      "execution_count": 19,
      "outputs": []
    },
    {
      "cell_type": "code",
      "source": [
        "#ME2N DataFrame'leri bir listeye topla\n",
        "dfs3 = [df_me5a_2022, df_me5a_2023, df_me5a_2024, df_me5a_2025]\n",
        "\n",
        "# Hepsini birleştir\n",
        "df_me5a_2022_2025 = pd.concat(dfs3, ignore_index=True)\n",
        "#df_me2n_2022_2025_ = pd.concat(dfs2, ignore_index=True)\n",
        "# Kontrol için ilk satırlara bak\n",
        "#print(df_me2n_2022_2025.tail(5))"
      ],
      "metadata": {
        "id": "EALts8grAhdJ"
      },
      "execution_count": 20,
      "outputs": []
    },
    {
      "cell_type": "code",
      "source": [
        "df_me2n_2022_2025.rename(columns={'﻿Документ закупки': 'Документ_закупки'}, inplace=True)\n",
        "df_me2n_2022_2025.rename(columns={'Позиция': 'ЗП_Позиция'}, inplace=True)\n",
        "df_me2n_2022_2025.rename(columns={'Материал': 'Материал_ЗП'}, inplace=True)"
      ],
      "metadata": {
        "id": "SV5ygt83BP5L"
      },
      "execution_count": 21,
      "outputs": []
    },
    {
      "cell_type": "code",
      "source": [
        "sutun_listesi_2str_me2n = [\"Документ_закупки\",\"ЗП_Позиция\",\"Закуп. организация\",\"Заявка\",\"Материал_ЗП\"]"
      ],
      "metadata": {
        "id": "xpn8lkvzAzpa"
      },
      "execution_count": 22,
      "outputs": []
    },
    {
      "cell_type": "code",
      "source": [
        "for s in sutun_listesi_2str_me2n:\n",
        "    # Apply the robust cleaning and conversion function\n",
        "    df_me2n_2022_2025[s] = df_me2n_2022_2025[s].apply(temizle_ve_cevir_2_str)"
      ],
      "metadata": {
        "id": "1BQVRmlgA_qz"
      },
      "execution_count": 23,
      "outputs": []
    },
    {
      "cell_type": "code",
      "source": [
        "sutun_listesi_str2float_me2n =[\"Объем заказа\",\"еще поставить (количество)\",\n",
        "                               \"Количество в СЕИ\",\"Цена нетто\",\n",
        "                               \"СтоимЗаказа нетто\",\"Еще для поставки (стоимость)\"\n",
        "]"
      ],
      "metadata": {
        "id": "RgBRYGu7CGp8"
      },
      "execution_count": 24,
      "outputs": []
    },
    {
      "cell_type": "code",
      "source": [
        "for s1 in sutun_listesi_str2float_me2n:\n",
        "    # Apply the robust cleaning and conversion function\n",
        "    df_me2n_2022_2025[s1] = df_me2n_2022_2025[s1].apply(str_to_float)"
      ],
      "metadata": {
        "id": "MAQKJh57Cxcu"
      },
      "execution_count": 25,
      "outputs": []
    },
    {
      "cell_type": "code",
      "source": [
        "sutun_listesi_str2date_me2n =[\"Дата документа\",\"Дата поставки\"]\n"
      ],
      "metadata": {
        "id": "4luU55kaC9Km"
      },
      "execution_count": 26,
      "outputs": []
    },
    {
      "cell_type": "code",
      "source": [
        "for s2 in sutun_listesi_str2date_me2n:\n",
        "    # Apply the robust cleaning and conversion function\n",
        "    df_me2n_2022_2025[s2] = df_me2n_2022_2025[s2].apply(temizle_ve_cevir_2date)"
      ],
      "metadata": {
        "id": "0T9oKl41D4pT"
      },
      "execution_count": 27,
      "outputs": []
    },
    {
      "cell_type": "code",
      "source": [
        "df_me5a_2022_2025.rename(columns={'﻿Заявка': 'Заявка'}, inplace=True)\n",
        "df_me5a_2022_2025.rename(columns={'Заказ на поставку': 'Документ_закупки'}, inplace=True)\n",
        "df_me5a_2022_2025.rename(columns={'Позиция ЗкзНаПостав': 'ЗП_Позиция'}, inplace=True)\n",
        "df_me5a_2022_2025.rename(columns={'Материал': 'Материал_ВЗ'}, inplace=True)"
      ],
      "metadata": {
        "id": "P7cfV_XaEI3i"
      },
      "execution_count": 28,
      "outputs": []
    },
    {
      "cell_type": "code",
      "source": [
        "sutun_listesi_2str_me5a = [\"Документ_закупки\",\"ЗП_Позиция\",\"Заявка\",\"Позиция заявки\",\"Материал_ВЗ\",\"Закуп. организация\"]"
      ],
      "metadata": {
        "id": "wY-sUjN5EyYb"
      },
      "execution_count": 29,
      "outputs": []
    },
    {
      "cell_type": "code",
      "source": [
        "for s3 in sutun_listesi_2str_me5a:\n",
        "    # Apply the robust cleaning and conversion function\n",
        "    df_me5a_2022_2025[s3] = df_me5a_2022_2025[s3].apply(temizle_ve_cevir_2_str)"
      ],
      "metadata": {
        "id": "MBdXknlCFjAN"
      },
      "execution_count": 30,
      "outputs": []
    },
    {
      "cell_type": "code",
      "source": [
        "sutun_listesi_str2float_me5a =[\"ЗатребованКолич\",\"Заказанное к-во\"\n",
        "]"
      ],
      "metadata": {
        "id": "sSK2bpJWFpwk"
      },
      "execution_count": 31,
      "outputs": []
    },
    {
      "cell_type": "code",
      "source": [
        "for s4 in sutun_listesi_str2float_me5a:\n",
        "    # Apply the robust cleaning and conversion function\n",
        "    df_me5a_2022_2025[s4] = df_me5a_2022_2025[s4].apply(str_to_float)"
      ],
      "metadata": {
        "id": "MwHrl5VJGDT-"
      },
      "execution_count": 32,
      "outputs": []
    },
    {
      "cell_type": "code",
      "source": [
        "sutun_listesi_str2date_me5a =[\"Дата заявки\",\"Дата изменения\",\"Дата заказа\",\"Дата поставки\",\"Дата деблокирования\"]"
      ],
      "metadata": {
        "id": "XcEeKuNTGTPv"
      },
      "execution_count": 33,
      "outputs": []
    },
    {
      "cell_type": "code",
      "source": [
        "for s5 in sutun_listesi_str2date_me5a:\n",
        "    # Apply the robust cleaning and conversion function\n",
        "    df_me5a_2022_2025[s5] = df_me5a_2022_2025[s5].apply(temizle_ve_cevir_2date)"
      ],
      "metadata": {
        "id": "QhvnkbY0Gv3l"
      },
      "execution_count": 34,
      "outputs": []
    },
    {
      "cell_type": "code",
      "source": [
        "df_me2n_2022_2025['Заявка'] = df_me2n_2022_2025['Заявка'].replace(['nan', 'NaN', 'None'], np.nan)\n"
      ],
      "metadata": {
        "id": "H_SMmqVjtTnA"
      },
      "execution_count": 35,
      "outputs": []
    },
    {
      "cell_type": "code",
      "source": [
        "df_calisilan[\"Документ_закупки\"] = df_calisilan[\"Документ_закупки\"].apply(temizle_ve_cevir_2_str)"
      ],
      "metadata": {
        "id": "ctUwhkwHwdFb"
      },
      "execution_count": 36,
      "outputs": []
    },
    {
      "cell_type": "code",
      "source": [
        "# 1. dict oluştur: Документ_закупки -> Создал eşleştirmesi\n",
        "doc_to_creator = dict(zip(df_calisilan[\"Документ_закупки\"], df_calisilan[\"Создал\"]))\n",
        "\n",
        "# 2. df_me2n_2022_2025'e yeni bir sütun ekle: Создал\n",
        "df_me2n_2022_2025[\"Создал\"] = df_me2n_2022_2025[\"Документ_закупки\"].map(doc_to_creator)\n"
      ],
      "metadata": {
        "id": "R0gfksDewjGa"
      },
      "execution_count": 37,
      "outputs": []
    },
    {
      "cell_type": "code",
      "source": [
        "#ZP-ZPPOZ BİRLEŞTİRME --ME2N\n",
        "df_me2n_2022_2025[\"ЗП-ЗП_ПОЗ_ME2N\"] = (\n",
        "    df_me2n_2022_2025[\"Документ_закупки\"].astype(str) + \"_\" + df_me2n_2022_2025[\"ЗП_Позиция\"].astype(str)\n",
        ")"
      ],
      "metadata": {
        "id": "AzL6PJn9IAtI"
      },
      "execution_count": 38,
      "outputs": []
    },
    {
      "cell_type": "code",
      "source": [
        "#ZP-ZPPOZ BİRLEŞTİRME -- ME5A\n",
        "df_me5a_2022_2025[\"ЗП-ЗП_ПОЗ_ME5A\"] = (\n",
        "    df_me5a_2022_2025[\"Документ_закупки\"].astype(str) + \"_\" + df_me5a_2022_2025[\"ЗП_Позиция\"].astype(str)\n",
        ")"
      ],
      "metadata": {
        "id": "U6SdkKPcjEj3"
      },
      "execution_count": 39,
      "outputs": []
    },
    {
      "cell_type": "code",
      "source": [
        "#ZP-ZPPOZ BİRLEŞTİRME -- ME5A\n",
        "df_me5a_2022_2025[\"ВЗ-ВЗ_ПОЗ_ME5A\"] = (\n",
        "    df_me5a_2022_2025[\"Заявка\"].astype(str) + \"_\" + df_me5a_2022_2025[\"Позиция заявки\"].astype(str)\n",
        ")"
      ],
      "metadata": {
        "id": "sG9QtYlFx5BU"
      },
      "execution_count": 40,
      "outputs": []
    },
    {
      "cell_type": "code",
      "source": [
        "#B3+MATERİAL -- ME2N\n",
        "df_me2n_2022_2025[\"В3+МАТЕРИАЛ\"] = (\n",
        "    df_me2n_2022_2025[\"Заявка\"].astype(str) + \"_\" + df_me2n_2022_2025[\"Материал_ЗП\"].astype(str)\n",
        ")"
      ],
      "metadata": {
        "id": "ghPDHl_POnpd"
      },
      "execution_count": 41,
      "outputs": []
    },
    {
      "cell_type": "code",
      "source": [
        "#B3+MATERİAL -- ME5A\n",
        "df_me5a_2022_2025[\"В3+МАТЕРИАЛ\"] = (\n",
        "    df_me5a_2022_2025[\"Заявка\"].astype(str) + \"_\" + df_me5a_2022_2025[\"Материал_ВЗ\"].astype(str) )"
      ],
      "metadata": {
        "id": "Yo9szNHqjAh6"
      },
      "execution_count": 42,
      "outputs": []
    },
    {
      "cell_type": "code",
      "source": [
        "# Mapping için bir sözlük oluştur\n",
        "mapping_dict = df_me5a_2022_2025.set_index('ЗП-ЗП_ПОЗ_ME5A')['Позиция заявки'].to_dict()\n",
        "\n",
        "# df_me2n_2022_2025'e yeni sütunu ekle\n",
        "df_me2n_2022_2025['Позиция заявки'] = df_me2n_2022_2025['ЗП-ЗП_ПОЗ_ME2N'].map(mapping_dict)\n"
      ],
      "metadata": {
        "id": "RPPewz-JevHu"
      },
      "execution_count": 43,
      "outputs": []
    },
    {
      "cell_type": "code",
      "source": [
        "# 1. Mapping için sözlük oluştur\n",
        "mapping_dict2 = df_me5a_2022_2025.set_index('ЗП-ЗП_ПОЗ_ME5A')['Заявка'].to_dict()\n",
        "\n",
        "# 2. Sadece boş olanları doldur: df_me2n_2022_2025 içindeki 'Заявка' sütunu boş olanlara map uygula\n",
        "df_me2n_2022_2025['Заявка'] = df_me2n_2022_2025['Заявка'].fillna(\n",
        "    df_me2n_2022_2025['ЗП-ЗП_ПОЗ_ME2N'].map(mapping_dict2)\n",
        ")\n"
      ],
      "metadata": {
        "id": "ERW_9Y7RHyKY"
      },
      "execution_count": 44,
      "outputs": []
    },
    {
      "cell_type": "code",
      "source": [
        "# Mapping sözlüğünü oluştur\n",
        "mapping_dict2 = df_me5a_2022_2025.set_index('В3+МАТЕРИАЛ')['Позиция заявки'].to_dict()\n",
        "\n",
        "# Sadece boş (NaN) olan değerleri güncelle\n",
        "mask = df_me2n_2022_2025['Позиция заявки'].isna()\n",
        "df_me2n_2022_2025.loc[mask, 'Позиция заявки'] = (\n",
        "    df_me2n_2022_2025.loc[mask, 'В3+МАТЕРИАЛ'].map(mapping_dict2)\n",
        ")"
      ],
      "metadata": {
        "id": "2yjrIO8Ijvh2"
      },
      "execution_count": 45,
      "outputs": []
    },
    {
      "cell_type": "code",
      "source": [
        "df_me2n_2022_2025_zp_bez_vz = df_me2n_2022_2025[df_me2n_2022_2025['Заявка'].isna()]"
      ],
      "metadata": {
        "id": "AA5yen1rqwOQ"
      },
      "execution_count": 46,
      "outputs": []
    },
    {
      "cell_type": "code",
      "source": [
        "#ZP-ZPPOZ BİRLEŞTİRME -- ME5A\n",
        "df_me2n_2022_2025[\"ВЗ-ВЗ_ПОЗ_ME2N\"] = (\n",
        "    df_me2n_2022_2025[\"Заявка\"].astype(str) + \"_\" + df_me2n_2022_2025[\"Позиция заявки\"].astype(str)\n",
        ")"
      ],
      "metadata": {
        "id": "yu6zhbgmyKVk"
      },
      "execution_count": 47,
      "outputs": []
    },
    {
      "cell_type": "code",
      "source": [
        "# Sadece 'Индикатор удаления' sütunu boş (NaN) olan satırları tut\n",
        "df_me2n_2022_2025 = df_me2n_2022_2025[df_me2n_2022_2025['Индикатор удаления'].isna()]\n"
      ],
      "metadata": {
        "id": "i9szkCm71akd"
      },
      "execution_count": 48,
      "outputs": []
    },
    {
      "cell_type": "code",
      "source": [
        "df_me5a_2022_2025['Veri_Kaynagi1']=\"ME5A\""
      ],
      "metadata": {
        "id": "XemMMgPCi-At"
      },
      "execution_count": 49,
      "outputs": []
    },
    {
      "cell_type": "code",
      "source": [
        "df_me2n_2022_2025['Veri_Kaynagi2']=\"ME2N\""
      ],
      "metadata": {
        "id": "6yCuqH192Nq_",
        "outputId": "8ef77924-cd70-48ae-cd13-4aac011bc0cb",
        "colab": {
          "base_uri": "https://localhost:8080/"
        }
      },
      "execution_count": 50,
      "outputs": [
        {
          "output_type": "stream",
          "name": "stderr",
          "text": [
            "<ipython-input-50-535fce4ec745>:1: SettingWithCopyWarning: \n",
            "A value is trying to be set on a copy of a slice from a DataFrame.\n",
            "Try using .loc[row_indexer,col_indexer] = value instead\n",
            "\n",
            "See the caveats in the documentation: https://pandas.pydata.org/pandas-docs/stable/user_guide/indexing.html#returning-a-view-versus-a-copy\n",
            "  df_me2n_2022_2025['Veri_Kaynagi2']=\"ME2N\"\n"
          ]
        }
      ]
    },
    {
      "cell_type": "code",
      "source": [
        "#df_me2n_2022_2025.info()"
      ],
      "metadata": {
        "id": "Mf0mwYzd0Rxp"
      },
      "execution_count": 51,
      "outputs": []
    },
    {
      "cell_type": "code",
      "source": [
        "df_me2n_2022_2025_grouped = df_me2n_2022_2025.groupby('ВЗ-ВЗ_ПОЗ_ME2N').agg({\n",
        "    'Veri_Kaynagi2' :'first',\n",
        "    'Год': 'first' ,\n",
        "    'Заявка': 'first',\n",
        "    'Позиция заявки':'first',\n",
        "    'Документ_закупки':'first',\n",
        "    'ЗП_Позиция':'first',\n",
        "    'Создал': 'first',\n",
        "    'Индикатор удаления':'first',\n",
        "    'Дата документа': 'first',\n",
        "    'Наш знак': 'first',\n",
        "    'Ваш код': 'first',\n",
        "    'Имя поставщика': 'first',\n",
        "    'Закуп. организация': 'first',\n",
        "    'Заявка': 'first',\n",
        "    'Позиция заявки': 'first',\n",
        "    'Материал_ЗП': 'first',\n",
        "    'Инвентарный номер': 'first',\n",
        "    'Наименование RU': 'first',\n",
        "    'Наименование TR':'first',\n",
        "    'Объем заказа': 'sum',\n",
        "    'еще поставить (количество)': 'sum',\n",
        "    'Складская ЕИ':'first',\n",
        "    'Еще для поставки (стоимость)': 'sum',\n",
        "    'Валюта':'first',\n",
        "    'Вид докум. закупки': 'first',\n",
        "\n",
        "}).reset_index()\n"
      ],
      "metadata": {
        "id": "p3U0S5m6zHbP"
      },
      "execution_count": 52,
      "outputs": []
    },
    {
      "cell_type": "code",
      "source": [
        "df_me2n_2022_2025_grouped.info()"
      ],
      "metadata": {
        "id": "jyfLVejhLF5X",
        "outputId": "93a67f1d-9555-4545-c28a-f160c6b3de4a",
        "colab": {
          "base_uri": "https://localhost:8080/"
        }
      },
      "execution_count": 53,
      "outputs": [
        {
          "output_type": "stream",
          "name": "stdout",
          "text": [
            "<class 'pandas.core.frame.DataFrame'>\n",
            "RangeIndex: 239424 entries, 0 to 239423\n",
            "Data columns (total 24 columns):\n",
            " #   Column                        Non-Null Count   Dtype  \n",
            "---  ------                        --------------   -----  \n",
            " 0   ВЗ-ВЗ_ПОЗ_ME2N                239424 non-null  object \n",
            " 1   Veri_Kaynagi2                 239424 non-null  object \n",
            " 2   Год                           239424 non-null  object \n",
            " 3   Заявка                        239423 non-null  object \n",
            " 4   Позиция заявки                238628 non-null  object \n",
            " 5   Документ_закупки              239424 non-null  object \n",
            " 6   ЗП_Позиция                    239424 non-null  object \n",
            " 7   Создал                        239419 non-null  object \n",
            " 8   Индикатор удаления            0 non-null       object \n",
            " 9   Дата документа                239424 non-null  object \n",
            " 10  Наш знак                      235296 non-null  object \n",
            " 11  Ваш код                       239344 non-null  object \n",
            " 12  Имя поставщика                239349 non-null  object \n",
            " 13  Закуп. организация            239424 non-null  object \n",
            " 14  Материал_ЗП                   239424 non-null  object \n",
            " 15  Инвентарный номер             213699 non-null  object \n",
            " 16  Наименование RU               239321 non-null  object \n",
            " 17  Наименование TR               239283 non-null  object \n",
            " 18  Объем заказа                  239424 non-null  float64\n",
            " 19  еще поставить (количество)    239424 non-null  float64\n",
            " 20  Складская ЕИ                  239322 non-null  object \n",
            " 21  Еще для поставки (стоимость)  239424 non-null  float64\n",
            " 22  Валюта                        239349 non-null  object \n",
            " 23  Вид докум. закупки            239424 non-null  object \n",
            "dtypes: float64(3), object(21)\n",
            "memory usage: 43.8+ MB\n"
          ]
        }
      ]
    },
    {
      "cell_type": "code",
      "source": [
        "df_me2n_2022_2025_grouped.sample(n=10 , random_state=2)"
      ],
      "metadata": {
        "id": "_m_Y_gHJkl3d",
        "outputId": "a243b536-33db-4227-930c-1355fd94bcbe",
        "colab": {
          "base_uri": "https://localhost:8080/",
          "height": 638
        }
      },
      "execution_count": 54,
      "outputs": [
        {
          "output_type": "execute_result",
          "data": {
            "text/plain": [
              "         ВЗ-ВЗ_ПОЗ_ME2N Veri_Kaynagi2   Год      Заявка Позиция заявки  \\\n",
              "12197    2100002470_160          ME2N  2024  2100002470            160   \n",
              "91240   2200007962_1900          ME2N  2024  2200007962           1900   \n",
              "201235  9900001409_1680          ME2N  2024  9900001409           1680   \n",
              "188190  9900000906_4490          ME2N  2024  9900000906           4490   \n",
              "5466     2100001329_170          ME2N  2023  2100001329            170   \n",
              "166719  9900000549_4790          ME2N  2024  9900000549           4790   \n",
              "88214    2200007918_290          ME2N  2024  2200007918            290   \n",
              "220291  9900002610_1770          ME2N  2024  9900002610           1770   \n",
              "139669   2200013654_230          ME2N  2025  2200013654            230   \n",
              "106616  2200009162_7740          ME2N  2024  2200009162           7740   \n",
              "\n",
              "       Документ_закупки ЗП_Позиция       Создал Индикатор удаления  \\\n",
              "12197        3100006475        160      VSOYBIR               None   \n",
              "91240        3100006277       1900    CCANBULAT               None   \n",
              "201235       3100009303       3580     IKOVALEV               None   \n",
              "188190       3100010636       5260     IKOVALEV               None   \n",
              "5466         3100004970       1060  MMAMAZHANOV               None   \n",
              "166719       3100009242       4820     IKOVALEV               None   \n",
              "88214        3100006386        290    CCANBULAT               None   \n",
              "220291       3100009820        500   VKUZMICHEV               None   \n",
              "139669       3100013058        230     ACHARYEV               None   \n",
              "106616       3100007308       7740  MZHAGIPAROV               None   \n",
              "\n",
              "       Дата документа  ... Материал_ЗП                  Инвентарный номер  \\\n",
              "12197      2024-02-08  ...  4500091009                               None   \n",
              "91240      2024-01-24  ...  4500302383  AKU.0120.10UKC.KTA.TM.TB0201(C01)   \n",
              "201235     2024-08-23  ...  4500381389    AKU.0120.10UJA.0.KM.LC0048(C02)   \n",
              "188190     2024-10-21  ...  4500359331    AKU.0120.10UKC.0.KM.LC0010(C01)   \n",
              "5466       2023-11-20  ...  4500122559                               None   \n",
              "166719     2024-08-22  ...  4500316940    AKU.0130.10UMA.0.KM.TB0002(C01)   \n",
              "88214      2024-02-01  ...  4500301187  AKU.0120.10UKC.KTN.TM.TB0103(C01)   \n",
              "220291     2024-09-05  ...  4500427860    AKU.0179.10UGB.0.KM.TB0001(C01)   \n",
              "139669     2025-05-13  ...  4500448853  AKU.0120.10UKC.LCQ.TM.TB0204(C01)   \n",
              "106616     2024-04-08  ...  4500373818  AKU.0120.10UKC.PJA.TM.TB0103(C01)   \n",
              "\n",
              "                                 Наименование RU  \\\n",
              "12197                   ТОВАРНЫЙ БЕТОН B20 P4 W6   \n",
              "91240      22-245 0120.10UKC.KTA.TM.TB0201 M74-5   \n",
              "201235           AKU.0120.10UJA.0.KM.LC0048.T2-5   \n",
              "188190        AKU.0120.10UKC.0.KM.LC0010.SG1-805   \n",
              "5466                     Сверло по металлу 12 мм   \n",
              "166719         AKU.0130.10UMA.0.KM.TB0002.MS40/5   \n",
              "88214    22-169 AKU.0120.10UKC.KTN.TM.TB0103 M97   \n",
              "220291           AKU.0179.10UGB.0.KM.TB0001.B3-1   \n",
              "139669  23/569 AKU.0120.10UKC.LCQ.TM.TB0204 М-23   \n",
              "106616      22/226.1 10UKC.PJA.TM.TB0103 MS447-1   \n",
              "\n",
              "                                 Наименование TR Объем заказа  \\\n",
              "12197                      HAZIR BETON B20 P4 W6         7.00   \n",
              "91240      22-245 0120.10UKC.KTA.TM.TB0201 M74-5         9.07   \n",
              "201235           AKU.0120.10UJA.0.KM.LC0048.T2-5         1.00   \n",
              "188190        AKU.0120.10UKC.0.KM.LC0010.SG1-805         1.00   \n",
              "5466      12mm metal Matkap Ucu amaç; boyut 12mm       500.00   \n",
              "166719         AKU.0130.10UMA.0.KM.TB0002.MS40/5         1.00   \n",
              "88214    22-169 AKU.0120.10UKC.KTN.TM.TB0103 M97         2.52   \n",
              "220291           AKU.0179.10UGB.0.KM.TB0001.B3-1         2.00   \n",
              "139669  23/569 AKU.0120.10UKC.LCQ.TM.TB0204 М-23       203.91   \n",
              "106616      22/226.1 10UKC.PJA.TM.TB0103 MS447-1        11.17   \n",
              "\n",
              "       еще поставить (количество) Складская ЕИ Еще для поставки (стоимость)  \\\n",
              "12197                        0.00           М3                         0.00   \n",
              "91240                        0.00           КГ                         0.00   \n",
              "201235                       0.00           ШТ                         0.00   \n",
              "188190                       0.00           ШТ                         0.00   \n",
              "5466                         0.00           ШТ                         0.00   \n",
              "166719                       0.00           ШТ                         0.00   \n",
              "88214                        0.00           КГ                         0.00   \n",
              "220291                       0.00           ШТ                         0.00   \n",
              "139669                     203.91           КГ                      1162.29   \n",
              "106616                       0.00           КГ                         0.00   \n",
              "\n",
              "        Валюта  Вид докум. закупки  \n",
              "12197      USD                ZSUP  \n",
              "91240      USD                ZSUP  \n",
              "201235     USD                ZSUP  \n",
              "188190     USD                ZSUP  \n",
              "5466       USD                ZSUP  \n",
              "166719     USD                ZSUP  \n",
              "88214      USD                ZSUP  \n",
              "220291     USD                ZSUP  \n",
              "139669     USD                ZSUP  \n",
              "106616     USD                ZSUP  \n",
              "\n",
              "[10 rows x 24 columns]"
            ],
            "text/html": [
              "\n",
              "  <div id=\"df-cda0326a-8d1b-42a4-b60c-80786c5b7fe6\" class=\"colab-df-container\">\n",
              "    <div>\n",
              "<style scoped>\n",
              "    .dataframe tbody tr th:only-of-type {\n",
              "        vertical-align: middle;\n",
              "    }\n",
              "\n",
              "    .dataframe tbody tr th {\n",
              "        vertical-align: top;\n",
              "    }\n",
              "\n",
              "    .dataframe thead th {\n",
              "        text-align: right;\n",
              "    }\n",
              "</style>\n",
              "<table border=\"1\" class=\"dataframe\">\n",
              "  <thead>\n",
              "    <tr style=\"text-align: right;\">\n",
              "      <th></th>\n",
              "      <th>ВЗ-ВЗ_ПОЗ_ME2N</th>\n",
              "      <th>Veri_Kaynagi2</th>\n",
              "      <th>Год</th>\n",
              "      <th>Заявка</th>\n",
              "      <th>Позиция заявки</th>\n",
              "      <th>Документ_закупки</th>\n",
              "      <th>ЗП_Позиция</th>\n",
              "      <th>Создал</th>\n",
              "      <th>Индикатор удаления</th>\n",
              "      <th>Дата документа</th>\n",
              "      <th>...</th>\n",
              "      <th>Материал_ЗП</th>\n",
              "      <th>Инвентарный номер</th>\n",
              "      <th>Наименование RU</th>\n",
              "      <th>Наименование TR</th>\n",
              "      <th>Объем заказа</th>\n",
              "      <th>еще поставить (количество)</th>\n",
              "      <th>Складская ЕИ</th>\n",
              "      <th>Еще для поставки (стоимость)</th>\n",
              "      <th>Валюта</th>\n",
              "      <th>Вид докум. закупки</th>\n",
              "    </tr>\n",
              "  </thead>\n",
              "  <tbody>\n",
              "    <tr>\n",
              "      <th>12197</th>\n",
              "      <td>2100002470_160</td>\n",
              "      <td>ME2N</td>\n",
              "      <td>2024</td>\n",
              "      <td>2100002470</td>\n",
              "      <td>160</td>\n",
              "      <td>3100006475</td>\n",
              "      <td>160</td>\n",
              "      <td>VSOYBIR</td>\n",
              "      <td>None</td>\n",
              "      <td>2024-02-08</td>\n",
              "      <td>...</td>\n",
              "      <td>4500091009</td>\n",
              "      <td>None</td>\n",
              "      <td>ТОВАРНЫЙ БЕТОН B20 P4 W6</td>\n",
              "      <td>HAZIR BETON B20 P4 W6</td>\n",
              "      <td>7.00</td>\n",
              "      <td>0.00</td>\n",
              "      <td>М3</td>\n",
              "      <td>0.00</td>\n",
              "      <td>USD</td>\n",
              "      <td>ZSUP</td>\n",
              "    </tr>\n",
              "    <tr>\n",
              "      <th>91240</th>\n",
              "      <td>2200007962_1900</td>\n",
              "      <td>ME2N</td>\n",
              "      <td>2024</td>\n",
              "      <td>2200007962</td>\n",
              "      <td>1900</td>\n",
              "      <td>3100006277</td>\n",
              "      <td>1900</td>\n",
              "      <td>CCANBULAT</td>\n",
              "      <td>None</td>\n",
              "      <td>2024-01-24</td>\n",
              "      <td>...</td>\n",
              "      <td>4500302383</td>\n",
              "      <td>AKU.0120.10UKC.KTA.TM.TB0201(C01)</td>\n",
              "      <td>22-245 0120.10UKC.KTA.TM.TB0201 M74-5</td>\n",
              "      <td>22-245 0120.10UKC.KTA.TM.TB0201 M74-5</td>\n",
              "      <td>9.07</td>\n",
              "      <td>0.00</td>\n",
              "      <td>КГ</td>\n",
              "      <td>0.00</td>\n",
              "      <td>USD</td>\n",
              "      <td>ZSUP</td>\n",
              "    </tr>\n",
              "    <tr>\n",
              "      <th>201235</th>\n",
              "      <td>9900001409_1680</td>\n",
              "      <td>ME2N</td>\n",
              "      <td>2024</td>\n",
              "      <td>9900001409</td>\n",
              "      <td>1680</td>\n",
              "      <td>3100009303</td>\n",
              "      <td>3580</td>\n",
              "      <td>IKOVALEV</td>\n",
              "      <td>None</td>\n",
              "      <td>2024-08-23</td>\n",
              "      <td>...</td>\n",
              "      <td>4500381389</td>\n",
              "      <td>AKU.0120.10UJA.0.KM.LC0048(C02)</td>\n",
              "      <td>AKU.0120.10UJA.0.KM.LC0048.T2-5</td>\n",
              "      <td>AKU.0120.10UJA.0.KM.LC0048.T2-5</td>\n",
              "      <td>1.00</td>\n",
              "      <td>0.00</td>\n",
              "      <td>ШТ</td>\n",
              "      <td>0.00</td>\n",
              "      <td>USD</td>\n",
              "      <td>ZSUP</td>\n",
              "    </tr>\n",
              "    <tr>\n",
              "      <th>188190</th>\n",
              "      <td>9900000906_4490</td>\n",
              "      <td>ME2N</td>\n",
              "      <td>2024</td>\n",
              "      <td>9900000906</td>\n",
              "      <td>4490</td>\n",
              "      <td>3100010636</td>\n",
              "      <td>5260</td>\n",
              "      <td>IKOVALEV</td>\n",
              "      <td>None</td>\n",
              "      <td>2024-10-21</td>\n",
              "      <td>...</td>\n",
              "      <td>4500359331</td>\n",
              "      <td>AKU.0120.10UKC.0.KM.LC0010(C01)</td>\n",
              "      <td>AKU.0120.10UKC.0.KM.LC0010.SG1-805</td>\n",
              "      <td>AKU.0120.10UKC.0.KM.LC0010.SG1-805</td>\n",
              "      <td>1.00</td>\n",
              "      <td>0.00</td>\n",
              "      <td>ШТ</td>\n",
              "      <td>0.00</td>\n",
              "      <td>USD</td>\n",
              "      <td>ZSUP</td>\n",
              "    </tr>\n",
              "    <tr>\n",
              "      <th>5466</th>\n",
              "      <td>2100001329_170</td>\n",
              "      <td>ME2N</td>\n",
              "      <td>2023</td>\n",
              "      <td>2100001329</td>\n",
              "      <td>170</td>\n",
              "      <td>3100004970</td>\n",
              "      <td>1060</td>\n",
              "      <td>MMAMAZHANOV</td>\n",
              "      <td>None</td>\n",
              "      <td>2023-11-20</td>\n",
              "      <td>...</td>\n",
              "      <td>4500122559</td>\n",
              "      <td>None</td>\n",
              "      <td>Сверло по металлу 12 мм</td>\n",
              "      <td>12mm metal Matkap Ucu amaç; boyut 12mm</td>\n",
              "      <td>500.00</td>\n",
              "      <td>0.00</td>\n",
              "      <td>ШТ</td>\n",
              "      <td>0.00</td>\n",
              "      <td>USD</td>\n",
              "      <td>ZSUP</td>\n",
              "    </tr>\n",
              "    <tr>\n",
              "      <th>166719</th>\n",
              "      <td>9900000549_4790</td>\n",
              "      <td>ME2N</td>\n",
              "      <td>2024</td>\n",
              "      <td>9900000549</td>\n",
              "      <td>4790</td>\n",
              "      <td>3100009242</td>\n",
              "      <td>4820</td>\n",
              "      <td>IKOVALEV</td>\n",
              "      <td>None</td>\n",
              "      <td>2024-08-22</td>\n",
              "      <td>...</td>\n",
              "      <td>4500316940</td>\n",
              "      <td>AKU.0130.10UMA.0.KM.TB0002(C01)</td>\n",
              "      <td>AKU.0130.10UMA.0.KM.TB0002.MS40/5</td>\n",
              "      <td>AKU.0130.10UMA.0.KM.TB0002.MS40/5</td>\n",
              "      <td>1.00</td>\n",
              "      <td>0.00</td>\n",
              "      <td>ШТ</td>\n",
              "      <td>0.00</td>\n",
              "      <td>USD</td>\n",
              "      <td>ZSUP</td>\n",
              "    </tr>\n",
              "    <tr>\n",
              "      <th>88214</th>\n",
              "      <td>2200007918_290</td>\n",
              "      <td>ME2N</td>\n",
              "      <td>2024</td>\n",
              "      <td>2200007918</td>\n",
              "      <td>290</td>\n",
              "      <td>3100006386</td>\n",
              "      <td>290</td>\n",
              "      <td>CCANBULAT</td>\n",
              "      <td>None</td>\n",
              "      <td>2024-02-01</td>\n",
              "      <td>...</td>\n",
              "      <td>4500301187</td>\n",
              "      <td>AKU.0120.10UKC.KTN.TM.TB0103(C01)</td>\n",
              "      <td>22-169 AKU.0120.10UKC.KTN.TM.TB0103 M97</td>\n",
              "      <td>22-169 AKU.0120.10UKC.KTN.TM.TB0103 M97</td>\n",
              "      <td>2.52</td>\n",
              "      <td>0.00</td>\n",
              "      <td>КГ</td>\n",
              "      <td>0.00</td>\n",
              "      <td>USD</td>\n",
              "      <td>ZSUP</td>\n",
              "    </tr>\n",
              "    <tr>\n",
              "      <th>220291</th>\n",
              "      <td>9900002610_1770</td>\n",
              "      <td>ME2N</td>\n",
              "      <td>2024</td>\n",
              "      <td>9900002610</td>\n",
              "      <td>1770</td>\n",
              "      <td>3100009820</td>\n",
              "      <td>500</td>\n",
              "      <td>VKUZMICHEV</td>\n",
              "      <td>None</td>\n",
              "      <td>2024-09-05</td>\n",
              "      <td>...</td>\n",
              "      <td>4500427860</td>\n",
              "      <td>AKU.0179.10UGB.0.KM.TB0001(C01)</td>\n",
              "      <td>AKU.0179.10UGB.0.KM.TB0001.B3-1</td>\n",
              "      <td>AKU.0179.10UGB.0.KM.TB0001.B3-1</td>\n",
              "      <td>2.00</td>\n",
              "      <td>0.00</td>\n",
              "      <td>ШТ</td>\n",
              "      <td>0.00</td>\n",
              "      <td>USD</td>\n",
              "      <td>ZSUP</td>\n",
              "    </tr>\n",
              "    <tr>\n",
              "      <th>139669</th>\n",
              "      <td>2200013654_230</td>\n",
              "      <td>ME2N</td>\n",
              "      <td>2025</td>\n",
              "      <td>2200013654</td>\n",
              "      <td>230</td>\n",
              "      <td>3100013058</td>\n",
              "      <td>230</td>\n",
              "      <td>ACHARYEV</td>\n",
              "      <td>None</td>\n",
              "      <td>2025-05-13</td>\n",
              "      <td>...</td>\n",
              "      <td>4500448853</td>\n",
              "      <td>AKU.0120.10UKC.LCQ.TM.TB0204(C01)</td>\n",
              "      <td>23/569 AKU.0120.10UKC.LCQ.TM.TB0204 М-23</td>\n",
              "      <td>23/569 AKU.0120.10UKC.LCQ.TM.TB0204 М-23</td>\n",
              "      <td>203.91</td>\n",
              "      <td>203.91</td>\n",
              "      <td>КГ</td>\n",
              "      <td>1162.29</td>\n",
              "      <td>USD</td>\n",
              "      <td>ZSUP</td>\n",
              "    </tr>\n",
              "    <tr>\n",
              "      <th>106616</th>\n",
              "      <td>2200009162_7740</td>\n",
              "      <td>ME2N</td>\n",
              "      <td>2024</td>\n",
              "      <td>2200009162</td>\n",
              "      <td>7740</td>\n",
              "      <td>3100007308</td>\n",
              "      <td>7740</td>\n",
              "      <td>MZHAGIPAROV</td>\n",
              "      <td>None</td>\n",
              "      <td>2024-04-08</td>\n",
              "      <td>...</td>\n",
              "      <td>4500373818</td>\n",
              "      <td>AKU.0120.10UKC.PJA.TM.TB0103(C01)</td>\n",
              "      <td>22/226.1 10UKC.PJA.TM.TB0103 MS447-1</td>\n",
              "      <td>22/226.1 10UKC.PJA.TM.TB0103 MS447-1</td>\n",
              "      <td>11.17</td>\n",
              "      <td>0.00</td>\n",
              "      <td>КГ</td>\n",
              "      <td>0.00</td>\n",
              "      <td>USD</td>\n",
              "      <td>ZSUP</td>\n",
              "    </tr>\n",
              "  </tbody>\n",
              "</table>\n",
              "<p>10 rows × 24 columns</p>\n",
              "</div>\n",
              "    <div class=\"colab-df-buttons\">\n",
              "\n",
              "  <div class=\"colab-df-container\">\n",
              "    <button class=\"colab-df-convert\" onclick=\"convertToInteractive('df-cda0326a-8d1b-42a4-b60c-80786c5b7fe6')\"\n",
              "            title=\"Convert this dataframe to an interactive table.\"\n",
              "            style=\"display:none;\">\n",
              "\n",
              "  <svg xmlns=\"http://www.w3.org/2000/svg\" height=\"24px\" viewBox=\"0 -960 960 960\">\n",
              "    <path d=\"M120-120v-720h720v720H120Zm60-500h600v-160H180v160Zm220 220h160v-160H400v160Zm0 220h160v-160H400v160ZM180-400h160v-160H180v160Zm440 0h160v-160H620v160ZM180-180h160v-160H180v160Zm440 0h160v-160H620v160Z\"/>\n",
              "  </svg>\n",
              "    </button>\n",
              "\n",
              "  <style>\n",
              "    .colab-df-container {\n",
              "      display:flex;\n",
              "      gap: 12px;\n",
              "    }\n",
              "\n",
              "    .colab-df-convert {\n",
              "      background-color: #E8F0FE;\n",
              "      border: none;\n",
              "      border-radius: 50%;\n",
              "      cursor: pointer;\n",
              "      display: none;\n",
              "      fill: #1967D2;\n",
              "      height: 32px;\n",
              "      padding: 0 0 0 0;\n",
              "      width: 32px;\n",
              "    }\n",
              "\n",
              "    .colab-df-convert:hover {\n",
              "      background-color: #E2EBFA;\n",
              "      box-shadow: 0px 1px 2px rgba(60, 64, 67, 0.3), 0px 1px 3px 1px rgba(60, 64, 67, 0.15);\n",
              "      fill: #174EA6;\n",
              "    }\n",
              "\n",
              "    .colab-df-buttons div {\n",
              "      margin-bottom: 4px;\n",
              "    }\n",
              "\n",
              "    [theme=dark] .colab-df-convert {\n",
              "      background-color: #3B4455;\n",
              "      fill: #D2E3FC;\n",
              "    }\n",
              "\n",
              "    [theme=dark] .colab-df-convert:hover {\n",
              "      background-color: #434B5C;\n",
              "      box-shadow: 0px 1px 3px 1px rgba(0, 0, 0, 0.15);\n",
              "      filter: drop-shadow(0px 1px 2px rgba(0, 0, 0, 0.3));\n",
              "      fill: #FFFFFF;\n",
              "    }\n",
              "  </style>\n",
              "\n",
              "    <script>\n",
              "      const buttonEl =\n",
              "        document.querySelector('#df-cda0326a-8d1b-42a4-b60c-80786c5b7fe6 button.colab-df-convert');\n",
              "      buttonEl.style.display =\n",
              "        google.colab.kernel.accessAllowed ? 'block' : 'none';\n",
              "\n",
              "      async function convertToInteractive(key) {\n",
              "        const element = document.querySelector('#df-cda0326a-8d1b-42a4-b60c-80786c5b7fe6');\n",
              "        const dataTable =\n",
              "          await google.colab.kernel.invokeFunction('convertToInteractive',\n",
              "                                                    [key], {});\n",
              "        if (!dataTable) return;\n",
              "\n",
              "        const docLinkHtml = 'Like what you see? Visit the ' +\n",
              "          '<a target=\"_blank\" href=https://colab.research.google.com/notebooks/data_table.ipynb>data table notebook</a>'\n",
              "          + ' to learn more about interactive tables.';\n",
              "        element.innerHTML = '';\n",
              "        dataTable['output_type'] = 'display_data';\n",
              "        await google.colab.output.renderOutput(dataTable, element);\n",
              "        const docLink = document.createElement('div');\n",
              "        docLink.innerHTML = docLinkHtml;\n",
              "        element.appendChild(docLink);\n",
              "      }\n",
              "    </script>\n",
              "  </div>\n",
              "\n",
              "\n",
              "    <div id=\"df-1304c0f6-9637-4b5f-ab16-a375bb5501a3\">\n",
              "      <button class=\"colab-df-quickchart\" onclick=\"quickchart('df-1304c0f6-9637-4b5f-ab16-a375bb5501a3')\"\n",
              "                title=\"Suggest charts\"\n",
              "                style=\"display:none;\">\n",
              "\n",
              "<svg xmlns=\"http://www.w3.org/2000/svg\" height=\"24px\"viewBox=\"0 0 24 24\"\n",
              "     width=\"24px\">\n",
              "    <g>\n",
              "        <path d=\"M19 3H5c-1.1 0-2 .9-2 2v14c0 1.1.9 2 2 2h14c1.1 0 2-.9 2-2V5c0-1.1-.9-2-2-2zM9 17H7v-7h2v7zm4 0h-2V7h2v10zm4 0h-2v-4h2v4z\"/>\n",
              "    </g>\n",
              "</svg>\n",
              "      </button>\n",
              "\n",
              "<style>\n",
              "  .colab-df-quickchart {\n",
              "      --bg-color: #E8F0FE;\n",
              "      --fill-color: #1967D2;\n",
              "      --hover-bg-color: #E2EBFA;\n",
              "      --hover-fill-color: #174EA6;\n",
              "      --disabled-fill-color: #AAA;\n",
              "      --disabled-bg-color: #DDD;\n",
              "  }\n",
              "\n",
              "  [theme=dark] .colab-df-quickchart {\n",
              "      --bg-color: #3B4455;\n",
              "      --fill-color: #D2E3FC;\n",
              "      --hover-bg-color: #434B5C;\n",
              "      --hover-fill-color: #FFFFFF;\n",
              "      --disabled-bg-color: #3B4455;\n",
              "      --disabled-fill-color: #666;\n",
              "  }\n",
              "\n",
              "  .colab-df-quickchart {\n",
              "    background-color: var(--bg-color);\n",
              "    border: none;\n",
              "    border-radius: 50%;\n",
              "    cursor: pointer;\n",
              "    display: none;\n",
              "    fill: var(--fill-color);\n",
              "    height: 32px;\n",
              "    padding: 0;\n",
              "    width: 32px;\n",
              "  }\n",
              "\n",
              "  .colab-df-quickchart:hover {\n",
              "    background-color: var(--hover-bg-color);\n",
              "    box-shadow: 0 1px 2px rgba(60, 64, 67, 0.3), 0 1px 3px 1px rgba(60, 64, 67, 0.15);\n",
              "    fill: var(--button-hover-fill-color);\n",
              "  }\n",
              "\n",
              "  .colab-df-quickchart-complete:disabled,\n",
              "  .colab-df-quickchart-complete:disabled:hover {\n",
              "    background-color: var(--disabled-bg-color);\n",
              "    fill: var(--disabled-fill-color);\n",
              "    box-shadow: none;\n",
              "  }\n",
              "\n",
              "  .colab-df-spinner {\n",
              "    border: 2px solid var(--fill-color);\n",
              "    border-color: transparent;\n",
              "    border-bottom-color: var(--fill-color);\n",
              "    animation:\n",
              "      spin 1s steps(1) infinite;\n",
              "  }\n",
              "\n",
              "  @keyframes spin {\n",
              "    0% {\n",
              "      border-color: transparent;\n",
              "      border-bottom-color: var(--fill-color);\n",
              "      border-left-color: var(--fill-color);\n",
              "    }\n",
              "    20% {\n",
              "      border-color: transparent;\n",
              "      border-left-color: var(--fill-color);\n",
              "      border-top-color: var(--fill-color);\n",
              "    }\n",
              "    30% {\n",
              "      border-color: transparent;\n",
              "      border-left-color: var(--fill-color);\n",
              "      border-top-color: var(--fill-color);\n",
              "      border-right-color: var(--fill-color);\n",
              "    }\n",
              "    40% {\n",
              "      border-color: transparent;\n",
              "      border-right-color: var(--fill-color);\n",
              "      border-top-color: var(--fill-color);\n",
              "    }\n",
              "    60% {\n",
              "      border-color: transparent;\n",
              "      border-right-color: var(--fill-color);\n",
              "    }\n",
              "    80% {\n",
              "      border-color: transparent;\n",
              "      border-right-color: var(--fill-color);\n",
              "      border-bottom-color: var(--fill-color);\n",
              "    }\n",
              "    90% {\n",
              "      border-color: transparent;\n",
              "      border-bottom-color: var(--fill-color);\n",
              "    }\n",
              "  }\n",
              "</style>\n",
              "\n",
              "      <script>\n",
              "        async function quickchart(key) {\n",
              "          const quickchartButtonEl =\n",
              "            document.querySelector('#' + key + ' button');\n",
              "          quickchartButtonEl.disabled = true;  // To prevent multiple clicks.\n",
              "          quickchartButtonEl.classList.add('colab-df-spinner');\n",
              "          try {\n",
              "            const charts = await google.colab.kernel.invokeFunction(\n",
              "                'suggestCharts', [key], {});\n",
              "          } catch (error) {\n",
              "            console.error('Error during call to suggestCharts:', error);\n",
              "          }\n",
              "          quickchartButtonEl.classList.remove('colab-df-spinner');\n",
              "          quickchartButtonEl.classList.add('colab-df-quickchart-complete');\n",
              "        }\n",
              "        (() => {\n",
              "          let quickchartButtonEl =\n",
              "            document.querySelector('#df-1304c0f6-9637-4b5f-ab16-a375bb5501a3 button');\n",
              "          quickchartButtonEl.style.display =\n",
              "            google.colab.kernel.accessAllowed ? 'block' : 'none';\n",
              "        })();\n",
              "      </script>\n",
              "    </div>\n",
              "\n",
              "    </div>\n",
              "  </div>\n"
            ],
            "application/vnd.google.colaboratory.intrinsic+json": {
              "type": "dataframe"
            }
          },
          "metadata": {},
          "execution_count": 54
        }
      ]
    },
    {
      "cell_type": "code",
      "source": [
        "df_audit_B3 = df_me5a_2022_2025.merge(\n",
        "    df_me2n_2022_2025_grouped,\n",
        "    left_on=\"ВЗ-ВЗ_ПОЗ_ME5A\",\n",
        "    right_on=\"ВЗ-ВЗ_ПОЗ_ME2N\",\n",
        "    how=\"left\"\n",
        ")"
      ],
      "metadata": {
        "id": "R2olzHtUgITV"
      },
      "execution_count": 55,
      "outputs": []
    },
    {
      "cell_type": "code",
      "source": [
        "df_audit_B3[\"Документ_закупки_x\"] = df_audit_B3[\"Документ_закупки_x\"].replace([\"nan\", \"NaN\", \"NAN\"], np.nan)\n",
        "df_audit_B3[\"ЗП_Позиция_x\"] = df_audit_B3[\"ЗП_Позиция_x\"].replace([\"0\"], np.nan)"
      ],
      "metadata": {
        "id": "PWxGJRaSlVJ0"
      },
      "execution_count": 56,
      "outputs": []
    },
    {
      "cell_type": "code",
      "source": [
        "def belirle_status_po(deger):\n",
        "    if pd.isna(deger):\n",
        "        return \"Нет PO\"\n",
        "    else:\n",
        "        return \"Есть PO\"\n",
        "\n",
        "df_audit_B3[\"статус PO\"] = df_audit_B3[\"Документ_закупки_x\"].apply(belirle_status_po)\n"
      ],
      "metadata": {
        "id": "eHStbcbvl0n1"
      },
      "execution_count": 57,
      "outputs": []
    },
    {
      "cell_type": "code",
      "source": [
        "def hesapla_status_po(row):\n",
        "    # Ön kontrol: birim eşit mi?\n",
        "    if row[\"Складская ЕИ\"] == row[\"Единица измерения\"]:\n",
        "        # Matematiksel karşılaştırmalar:\n",
        "        if row[\"ЗатребованКолич\"] == row[\"Объем заказа\"]:\n",
        "            return \"Полностью заказано\"\n",
        "        elif row[\"ЗатребованКолич\"] < row[\"Объем заказа\"]:\n",
        "            return \"Заказано частично\"\n",
        "        elif row[\"ЗатребованКолич\"] > row[\"Объем заказа\"]:\n",
        "            return \"Заказано с превышением\"\n",
        "    else:\n",
        "        return np.nan  # Birimler eşit değilse\n",
        "\n",
        "# Yeni sütunu ekle\n",
        "df_audit_B3[\"Статус количества заказа\"] = df_audit_B3.apply(hesapla_status_po, axis=1)\n"
      ],
      "metadata": {
        "id": "tXgGe_stmpAs"
      },
      "execution_count": 58,
      "outputs": []
    },
    {
      "cell_type": "code",
      "source": [
        "def hesapla_status_delivery(row):\n",
        "    status = row[\"Статус количества заказа\"]\n",
        "    remaining = row[\"еще поставить (количество)\"]\n",
        "    ordered = row[\"Объем заказа\"]\n",
        "\n",
        "    if status == \"Полностью заказано\":\n",
        "        if remaining == ordered:\n",
        "            return \"Доставка не началась.\"\n",
        "        elif remaining == 0:\n",
        "            return \"все доставлено.закрыто\"\n",
        "        elif remaining > 0 and remaining != ordered:\n",
        "            return \"Поставлено частично\"\n",
        "\n",
        "    elif status == \"Заказано частично\":\n",
        "        if remaining == ordered:\n",
        "            return \"Доставка не началась.\"\n",
        "        elif remaining == 0:\n",
        "            return \"Заказанный объем был доставлен.\"\n",
        "        elif remaining > 0 and remaining != ordered:\n",
        "            return \"Заказанный объем был доставлен частями.\"\n",
        "\n",
        "    return np.nan  # Diğer tüm durumlar için\n",
        "\n",
        "df_audit_B3[\"Статус Доставка\"] = df_audit_B3.apply(hesapla_status_delivery, axis=1)"
      ],
      "metadata": {
        "id": "meukAM81vR3l"
      },
      "execution_count": 59,
      "outputs": []
    },
    {
      "cell_type": "code",
      "source": [
        "def status_analog(row):\n",
        "    # Ön kontrol: Zаявка ve Позиция заявки aynı mı?\n",
        "    if row[\"Заявка_x\"] == row[\"Заявка_y\"] and row[\"Позиция заявки_x\"] == row[\"Позиция заявки_y\"]:\n",
        "        if row[\"Материал_ВЗ\"] == row[\"Материал_ЗП\"]:\n",
        "            return \"Оригинал\"\n",
        "        else:\n",
        "            return \"аналог\"\n",
        "    else:\n",
        "        return np.nan  # Eşleşme yoksa\n",
        "\n",
        "\n",
        "# Yeni sütunu ekle\n",
        "df_audit_B3[\"Оригинал или аналог\"] = df_audit_B3.apply(status_analog, axis=1)"
      ],
      "metadata": {
        "id": "LiC2G2Kr7ZO5"
      },
      "execution_count": 60,
      "outputs": []
    },
    {
      "cell_type": "code",
      "source": [
        "#df_audit_B3[df_audit_B3[\"Оригинал или аналог\"] == Nan]\n",
        "#df_audit_B3[df_audit_B3[\"статус PO\"]== \"Нет PO\"]\n"
      ],
      "metadata": {
        "id": "s0ftPNpK1f4M"
      },
      "execution_count": 61,
      "outputs": []
    },
    {
      "cell_type": "code",
      "source": [
        "# Almak istediğin sütunları liste olarak tanımla\n",
        "secilecek_sutunlar = [\n",
        "    \"Veri_Kaynagi1\",\n",
        "    \"Год_x\",\n",
        "    \"Заявка_x\",\n",
        "    \"Позиция заявки_x\",\n",
        "    \"Индикатор удаления_x\",\n",
        "    \"Затребовал\",\n",
        "    \"Индик. выдачи\",\n",
        "    \"Дата заявки\",\n",
        "    \"Группа закупок\",\n",
        "    \"RU Наименование\",\n",
        "    \"TR Наименование\",\n",
        "    \"ЗатребованКолич\",\n",
        "    \"Единица измерения\",\n",
        "    \"Инвентарный номер_x\",\n",
        "    \"Закуп. организация_x\",\n",
        "    \"Номер проекта\",\n",
        "    \"Группа материалов\",\n",
        "    \"Вид документа\",\n",
        "    \"Veri_Kaynagi2\",\n",
        "    \"Год_y\",\n",
        "    \"Документ_закупки_y\",\n",
        "    \"ЗП_Позиция_y\",\n",
        "    \"Дата документа\",\n",
        "    \"статус PO\",\n",
        "    \"Статус количества заказа\",\n",
        "    \"Статус Доставка\",\n",
        "    \"Оригинал или аналог\",\n",
        "    \"RU Наименование\",\n",
        "    \"TR Наименование\",\n",
        "    \"Создал_y\",\n",
        "    \"Индикатор удаления_y\",\n",
        "    \"Наш знак\",\n",
        "    \"Ваш код\",\n",
        "    \"Имя поставщика\",\n",
        "    \"Закуп. организация_y\",\n",
        "    \"Объем заказа\",\n",
        "    \"еще поставить (количество)\",\n",
        "    \"Складская ЕИ\",\n",
        "    \"Еще для поставки (стоимость)\",\n",
        "    \"Валюта\",\n",
        "\n",
        "\n",
        "]\n",
        "\n",
        "# 2. Bu sütunları kullanarak yeni DataFrame oluştur\n",
        "df_yazdır_audit_B3 = df_audit_B3[secilecek_sutunlar].copy()\n"
      ],
      "metadata": {
        "id": "eYWZVZKE7BUe"
      },
      "execution_count": 62,
      "outputs": []
    },
    {
      "cell_type": "code",
      "source": [
        "#df_yazdır_audit_B3['Материал_ВЗ'] = df_yazdır_audit_B3['Материал_ВЗ'].replace('nan', np.nan)"
      ],
      "metadata": {
        "id": "pO7Fkx8wSNBW",
        "outputId": "9f8484dc-a4ef-4647-81c5-080d2368e17e",
        "colab": {
          "base_uri": "https://localhost:8080/",
          "height": 582
        }
      },
      "execution_count": 64,
      "outputs": [
        {
          "output_type": "error",
          "ename": "KeyError",
          "evalue": "'Материал_ВЗ'",
          "traceback": [
            "\u001b[0;31m---------------------------------------------------------------------------\u001b[0m",
            "\u001b[0;31mKeyError\u001b[0m                                  Traceback (most recent call last)",
            "\u001b[0;32m/usr/local/lib/python3.11/dist-packages/pandas/core/indexes/base.py\u001b[0m in \u001b[0;36mget_loc\u001b[0;34m(self, key)\u001b[0m\n\u001b[1;32m   3804\u001b[0m         \u001b[0;32mtry\u001b[0m\u001b[0;34m:\u001b[0m\u001b[0;34m\u001b[0m\u001b[0;34m\u001b[0m\u001b[0m\n\u001b[0;32m-> 3805\u001b[0;31m             \u001b[0;32mreturn\u001b[0m \u001b[0mself\u001b[0m\u001b[0;34m.\u001b[0m\u001b[0m_engine\u001b[0m\u001b[0;34m.\u001b[0m\u001b[0mget_loc\u001b[0m\u001b[0;34m(\u001b[0m\u001b[0mcasted_key\u001b[0m\u001b[0;34m)\u001b[0m\u001b[0;34m\u001b[0m\u001b[0;34m\u001b[0m\u001b[0m\n\u001b[0m\u001b[1;32m   3806\u001b[0m         \u001b[0;32mexcept\u001b[0m \u001b[0mKeyError\u001b[0m \u001b[0;32mas\u001b[0m \u001b[0merr\u001b[0m\u001b[0;34m:\u001b[0m\u001b[0;34m\u001b[0m\u001b[0;34m\u001b[0m\u001b[0m\n",
            "\u001b[0;32mindex.pyx\u001b[0m in \u001b[0;36mpandas._libs.index.IndexEngine.get_loc\u001b[0;34m()\u001b[0m\n",
            "\u001b[0;32mindex.pyx\u001b[0m in \u001b[0;36mpandas._libs.index.IndexEngine.get_loc\u001b[0;34m()\u001b[0m\n",
            "\u001b[0;32mindex.pyx\u001b[0m in \u001b[0;36mpandas._libs.index.IndexEngine._get_loc_duplicates\u001b[0;34m()\u001b[0m\n",
            "\u001b[0;32mindex.pyx\u001b[0m in \u001b[0;36mpandas._libs.index.IndexEngine._maybe_get_bool_indexer\u001b[0;34m()\u001b[0m\n",
            "\u001b[0;32mindex.pyx\u001b[0m in \u001b[0;36mpandas._libs.index._unpack_bool_indexer\u001b[0;34m()\u001b[0m\n",
            "\u001b[0;31mKeyError\u001b[0m: 'Материал_ВЗ'",
            "\nThe above exception was the direct cause of the following exception:\n",
            "\u001b[0;31mKeyError\u001b[0m                                  Traceback (most recent call last)",
            "\u001b[0;32m<ipython-input-64-24cca5df1533>\u001b[0m in \u001b[0;36m<cell line: 0>\u001b[0;34m()\u001b[0m\n\u001b[0;32m----> 1\u001b[0;31m \u001b[0mdf_yazdır_audit_B3\u001b[0m\u001b[0;34m[\u001b[0m\u001b[0;34m'Материал_ВЗ'\u001b[0m\u001b[0;34m]\u001b[0m \u001b[0;34m=\u001b[0m \u001b[0mdf_yazdır_audit_B3\u001b[0m\u001b[0;34m[\u001b[0m\u001b[0;34m'Материал_ВЗ'\u001b[0m\u001b[0;34m]\u001b[0m\u001b[0;34m.\u001b[0m\u001b[0mreplace\u001b[0m\u001b[0;34m(\u001b[0m\u001b[0;34m'nan'\u001b[0m\u001b[0;34m,\u001b[0m \u001b[0mnp\u001b[0m\u001b[0;34m.\u001b[0m\u001b[0mnan\u001b[0m\u001b[0;34m)\u001b[0m\u001b[0;34m\u001b[0m\u001b[0;34m\u001b[0m\u001b[0m\n\u001b[0m",
            "\u001b[0;32m/usr/local/lib/python3.11/dist-packages/pandas/core/frame.py\u001b[0m in \u001b[0;36m__getitem__\u001b[0;34m(self, key)\u001b[0m\n\u001b[1;32m   4100\u001b[0m             \u001b[0;32mif\u001b[0m \u001b[0mself\u001b[0m\u001b[0;34m.\u001b[0m\u001b[0mcolumns\u001b[0m\u001b[0;34m.\u001b[0m\u001b[0mnlevels\u001b[0m \u001b[0;34m>\u001b[0m \u001b[0;36m1\u001b[0m\u001b[0;34m:\u001b[0m\u001b[0;34m\u001b[0m\u001b[0;34m\u001b[0m\u001b[0m\n\u001b[1;32m   4101\u001b[0m                 \u001b[0;32mreturn\u001b[0m \u001b[0mself\u001b[0m\u001b[0;34m.\u001b[0m\u001b[0m_getitem_multilevel\u001b[0m\u001b[0;34m(\u001b[0m\u001b[0mkey\u001b[0m\u001b[0;34m)\u001b[0m\u001b[0;34m\u001b[0m\u001b[0;34m\u001b[0m\u001b[0m\n\u001b[0;32m-> 4102\u001b[0;31m             \u001b[0mindexer\u001b[0m \u001b[0;34m=\u001b[0m \u001b[0mself\u001b[0m\u001b[0;34m.\u001b[0m\u001b[0mcolumns\u001b[0m\u001b[0;34m.\u001b[0m\u001b[0mget_loc\u001b[0m\u001b[0;34m(\u001b[0m\u001b[0mkey\u001b[0m\u001b[0;34m)\u001b[0m\u001b[0;34m\u001b[0m\u001b[0;34m\u001b[0m\u001b[0m\n\u001b[0m\u001b[1;32m   4103\u001b[0m             \u001b[0;32mif\u001b[0m \u001b[0mis_integer\u001b[0m\u001b[0;34m(\u001b[0m\u001b[0mindexer\u001b[0m\u001b[0;34m)\u001b[0m\u001b[0;34m:\u001b[0m\u001b[0;34m\u001b[0m\u001b[0;34m\u001b[0m\u001b[0m\n\u001b[1;32m   4104\u001b[0m                 \u001b[0mindexer\u001b[0m \u001b[0;34m=\u001b[0m \u001b[0;34m[\u001b[0m\u001b[0mindexer\u001b[0m\u001b[0;34m]\u001b[0m\u001b[0;34m\u001b[0m\u001b[0;34m\u001b[0m\u001b[0m\n",
            "\u001b[0;32m/usr/local/lib/python3.11/dist-packages/pandas/core/indexes/base.py\u001b[0m in \u001b[0;36mget_loc\u001b[0;34m(self, key)\u001b[0m\n\u001b[1;32m   3810\u001b[0m             ):\n\u001b[1;32m   3811\u001b[0m                 \u001b[0;32mraise\u001b[0m \u001b[0mInvalidIndexError\u001b[0m\u001b[0;34m(\u001b[0m\u001b[0mkey\u001b[0m\u001b[0;34m)\u001b[0m\u001b[0;34m\u001b[0m\u001b[0;34m\u001b[0m\u001b[0m\n\u001b[0;32m-> 3812\u001b[0;31m             \u001b[0;32mraise\u001b[0m \u001b[0mKeyError\u001b[0m\u001b[0;34m(\u001b[0m\u001b[0mkey\u001b[0m\u001b[0;34m)\u001b[0m \u001b[0;32mfrom\u001b[0m \u001b[0merr\u001b[0m\u001b[0;34m\u001b[0m\u001b[0;34m\u001b[0m\u001b[0m\n\u001b[0m\u001b[1;32m   3813\u001b[0m         \u001b[0;32mexcept\u001b[0m \u001b[0mTypeError\u001b[0m\u001b[0;34m:\u001b[0m\u001b[0;34m\u001b[0m\u001b[0;34m\u001b[0m\u001b[0m\n\u001b[1;32m   3814\u001b[0m             \u001b[0;31m# If we have a listlike key, _check_indexing_error will raise\u001b[0m\u001b[0;34m\u001b[0m\u001b[0;34m\u001b[0m\u001b[0m\n",
            "\u001b[0;31mKeyError\u001b[0m: 'Материал_ВЗ'"
          ]
        }
      ]
    },
    {
      "cell_type": "code",
      "source": [
        "df_audit_B3.to_excel(\"audit_B3_basetable.xlsx\", index=False, engine=\"xlsxwriter\")\n",
        "df_yazdır_audit_B3.to_excel(\"audit_B3.xlsx\", index=False, engine=\"xlsxwriter\")\n",
        "df_me2n_2022_2025_zp_bez_vz.to_excel(\"zp_bez_vz_2022_2025.xlsx\", index=False, engine=\"xlsxwriter\")"
      ],
      "metadata": {
        "id": "ROIcdBJpgYPW"
      },
      "execution_count": 65,
      "outputs": []
    },
    {
      "cell_type": "code",
      "source": [
        "files.download(\"audit_B3_basetable.xlsx\")\n",
        "files.download(\"audit_B3.xlsx\")\n",
        "files.download(\"zp_bez_vz_2022_2025.xlsx\")"
      ],
      "metadata": {
        "id": "wTihC4Z8gYM2"
      },
      "execution_count": null,
      "outputs": []
    },
    {
      "cell_type": "code",
      "source": [
        "df_yazdır_audit_B3.to_csv(\"audit_B3_csv.csv\", index=False)\n",
        "files.download(\"audit_B3_csv.csv\")"
      ],
      "metadata": {
        "id": "eTC0LrpigYEf",
        "outputId": "3afdafac-8eaa-4ce4-d9b2-cfaaa0cb367f",
        "colab": {
          "base_uri": "https://localhost:8080/",
          "height": 17
        }
      },
      "execution_count": 68,
      "outputs": [
        {
          "output_type": "display_data",
          "data": {
            "text/plain": [
              "<IPython.core.display.Javascript object>"
            ],
            "application/javascript": [
              "\n",
              "    async function download(id, filename, size) {\n",
              "      if (!google.colab.kernel.accessAllowed) {\n",
              "        return;\n",
              "      }\n",
              "      const div = document.createElement('div');\n",
              "      const label = document.createElement('label');\n",
              "      label.textContent = `Downloading \"${filename}\": `;\n",
              "      div.appendChild(label);\n",
              "      const progress = document.createElement('progress');\n",
              "      progress.max = size;\n",
              "      div.appendChild(progress);\n",
              "      document.body.appendChild(div);\n",
              "\n",
              "      const buffers = [];\n",
              "      let downloaded = 0;\n",
              "\n",
              "      const channel = await google.colab.kernel.comms.open(id);\n",
              "      // Send a message to notify the kernel that we're ready.\n",
              "      channel.send({})\n",
              "\n",
              "      for await (const message of channel.messages) {\n",
              "        // Send a message to notify the kernel that we're ready.\n",
              "        channel.send({})\n",
              "        if (message.buffers) {\n",
              "          for (const buffer of message.buffers) {\n",
              "            buffers.push(buffer);\n",
              "            downloaded += buffer.byteLength;\n",
              "            progress.value = downloaded;\n",
              "          }\n",
              "        }\n",
              "      }\n",
              "      const blob = new Blob(buffers, {type: 'application/binary'});\n",
              "      const a = document.createElement('a');\n",
              "      a.href = window.URL.createObjectURL(blob);\n",
              "      a.download = filename;\n",
              "      div.appendChild(a);\n",
              "      a.click();\n",
              "      div.remove();\n",
              "    }\n",
              "  "
            ]
          },
          "metadata": {}
        },
        {
          "output_type": "display_data",
          "data": {
            "text/plain": [
              "<IPython.core.display.Javascript object>"
            ],
            "application/javascript": [
              "download(\"download_2dfb4d72-4826-4e2a-ad74-f5183fbbfb00\", \"audit_B3_csv.csv\", 172599974)"
            ]
          },
          "metadata": {}
        }
      ]
    },
    {
      "cell_type": "code",
      "source": [
        "#df_me2n_2022_2025_zp_bez_vz.to_excel(\"zp_bez_vz_2022_2025.xlsx\", index=False, engine=\"xlsxwriter\")"
      ],
      "metadata": {
        "id": "MQe72mLjra5b"
      },
      "execution_count": null,
      "outputs": []
    },
    {
      "cell_type": "code",
      "source": [
        "#files.download(\"zp_bez_vz_2022_2025.xlsx\")"
      ],
      "metadata": {
        "id": "R5MonjLozz12"
      },
      "execution_count": null,
      "outputs": []
    }
  ],
  "metadata": {
    "colab": {
      "name": "Welcome To Colab",
      "provenance": [],
      "include_colab_link": true
    },
    "kernelspec": {
      "display_name": "Python 3",
      "name": "python3"
    }
  },
  "nbformat": 4,
  "nbformat_minor": 0
}