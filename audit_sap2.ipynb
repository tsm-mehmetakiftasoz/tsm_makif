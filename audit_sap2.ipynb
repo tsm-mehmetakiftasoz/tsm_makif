{
  "cells": [
    {
      "cell_type": "markdown",
      "metadata": {
        "id": "view-in-github",
        "colab_type": "text"
      },
      "source": [
        "<a href=\"https://colab.research.google.com/github/tsm-mehmetakiftasoz/tsm_makif/blob/main/audit_sap2.ipynb\" target=\"_parent\"><img src=\"https://colab.research.google.com/assets/colab-badge.svg\" alt=\"Open In Colab\"/></a>"
      ]
    },
    {
      "cell_type": "markdown",
      "source": [
        "ME2N Raporları yıllara göre (ME2N_2022,ME2N_2023,ME2N_2024,ME2N_2025) şeklinde alınmalı .Variant MAKIF rapor olmalı\n",
        "ME5A Raporları yıllara göre (ME5A_2022,ME5A_2023,ME5A_2024,ME5A_2025). Variant MAKIF rapor olmalı\n",
        "MM60 material_list bilgileri makif_report variantında alınmalı"
      ],
      "metadata": {
        "id": "Xgh-iCOtlWAW"
      }
    },
    {
      "cell_type": "code",
      "source": [
        "!pip install pandas\n",
        "!pip install xlsxwriter"
      ],
      "metadata": {
        "colab": {
          "base_uri": "https://localhost:8080/"
        },
        "id": "beq5UMfF9Ve9",
        "outputId": "80b7233d-7adb-452d-c0ff-4be078f9c32e"
      },
      "execution_count": 62,
      "outputs": [
        {
          "output_type": "stream",
          "name": "stdout",
          "text": [
            "Requirement already satisfied: pandas in /usr/local/lib/python3.11/dist-packages (2.2.2)\n",
            "Requirement already satisfied: numpy>=1.23.2 in /usr/local/lib/python3.11/dist-packages (from pandas) (2.0.2)\n",
            "Requirement already satisfied: python-dateutil>=2.8.2 in /usr/local/lib/python3.11/dist-packages (from pandas) (2.9.0.post0)\n",
            "Requirement already satisfied: pytz>=2020.1 in /usr/local/lib/python3.11/dist-packages (from pandas) (2025.2)\n",
            "Requirement already satisfied: tzdata>=2022.7 in /usr/local/lib/python3.11/dist-packages (from pandas) (2025.2)\n",
            "Requirement already satisfied: six>=1.5 in /usr/local/lib/python3.11/dist-packages (from python-dateutil>=2.8.2->pandas) (1.17.0)\n",
            "Requirement already satisfied: xlsxwriter in /usr/local/lib/python3.11/dist-packages (3.2.3)\n"
          ]
        }
      ]
    },
    {
      "cell_type": "code",
      "source": [
        "import pandas as pd\n",
        "import numpy as np\n",
        "from google.colab import files"
      ],
      "metadata": {
        "id": "8v4T7G2Z9bvr"
      },
      "execution_count": 63,
      "outputs": []
    },
    {
      "cell_type": "code",
      "source": [
        "def temizle_ve_cevir(x):\n",
        "    try:\n",
        "        return str(int(float(x)))\n",
        "    except:\n",
        "        return str(x)\n"
      ],
      "metadata": {
        "id": "9O2SlTgQGRuz"
      },
      "execution_count": 64,
      "outputs": []
    },
    {
      "cell_type": "code",
      "source": [
        "#ZMM059 Dosyalarını yüklemek\n",
        "df_zmm059_2022 = pd.read_csv('/content/ZMM059 2022.csv', sep=None, engine='python')\n",
        "df_zmm059_2023 = pd.read_csv('/content/ZMM059 2023.csv', sep=None, engine='python')\n",
        "df_zmm059_2024_1 = pd.read_csv('/content/ZMM059 2024-1.csv', sep=None, engine='python')\n",
        "df_zmm059_2024_2 = pd.read_csv('/content/ZMM059 2024-2.csv', sep=None, engine='python')\n",
        "df_zmm059_2024_3 = pd.read_csv('/content/ZMM059 2024-3.csv', sep=None, engine='python')\n",
        "df_zmm059_2024_4 = pd.read_csv('/content/ZMM059 2024-4.csv', sep=None, engine='python')\n",
        "df_zmm059_2025 = pd.read_csv('/content/ZMM059 2025.csv', sep=None, engine='python')\n",
        "\n",
        "\n",
        "# sep=None will automatically detect the delimiter\n",
        "# engine='python' is slower but more robust for complex cases"
      ],
      "metadata": {
        "id": "2yaQ1vxA9mkV"
      },
      "execution_count": 65,
      "outputs": []
    },
    {
      "cell_type": "code",
      "source": [
        "#ilk sutuna yıl yazdırma zmm059\n",
        "df_zmm059_2022[\"YIL\"] = \"2022\"\n",
        "cols = [\"YIL\"] + [col for col in df_zmm059_2022.columns if col != \"YIL\"]\n",
        "df_zmm059_2022 = df_zmm059_2022[cols]\n",
        "#\n",
        "df_zmm059_2023[\"YIL\"] = \"2023\"\n",
        "cols = [\"YIL\"] + [col for col in df_zmm059_2023.columns if col != \"YIL\"]\n",
        "df_zmm059_2023 = df_zmm059_2023[cols]\n",
        "#\n",
        "df_zmm059_2025[\"YIL\"] = \"2025\"\n",
        "cols = [\"YIL\"] + [col for col in df_zmm059_2025.columns if col != \"YIL\"]\n",
        "df_zmm059_2025 = df_zmm059_2025[cols]\n",
        "#\n",
        "df_zmm059_2024_1[\"YIL\"] = \"2024\"\n",
        "cols = [\"YIL\"] + [col for col in df_zmm059_2024_1.columns if col != \"YIL\"]\n",
        "df_zmm059_2024_1 = df_zmm059_2024_1[cols]\n",
        "#\n",
        "df_zmm059_2024_2[\"YIL\"] = \"2024\"\n",
        "cols = [\"YIL\"] + [col for col in df_zmm059_2024_2.columns if col != \"YIL\"]\n",
        "df_zmm059_2024_2 = df_zmm059_2024_2[cols]\n",
        "#\n",
        "df_zmm059_2024_3[\"YIL\"] = \"2024\"\n",
        "cols = [\"YIL\"] + [col for col in df_zmm059_2024_3.columns if col != \"YIL\"]\n",
        "df_zmm059_2024_3 = df_zmm059_2024_3[cols]\n",
        "#\n",
        "df_zmm059_2024_4[\"YIL\"] = \"2024\"\n",
        "cols = [\"YIL\"] + [col for col in df_zmm059_2024_4.columns if col != \"YIL\"]\n",
        "df_zmm059_2024_4 = df_zmm059_2024_4[cols]"
      ],
      "metadata": {
        "id": "Tz2mCC7D-zag"
      },
      "execution_count": 66,
      "outputs": []
    },
    {
      "cell_type": "code",
      "source": [
        " #ZMM059 DataFrame'leri bir listeye topla\n",
        "dfs = [df_zmm059_2022, df_zmm059_2023, df_zmm059_2024_1, df_zmm059_2024_2, df_zmm059_2024_3, df_zmm059_2024_4, df_zmm059_2025]\n",
        "\n",
        "# Hepsini birleştir\n",
        "df_zmm059_2022_2025 = pd.concat(dfs, ignore_index=True)\n",
        "#df_zmm059_2022_2025_ = pd.concat(dfs, ignore_index=True)\n",
        "# Kontrol için ilk satırlara bak\n",
        "#print(df_zmm059_2022_2025.tail(5))"
      ],
      "metadata": {
        "id": "GguzSjLk-21A"
      },
      "execution_count": 67,
      "outputs": []
    },
    {
      "cell_type": "code",
      "source": [
        "df_zmm059_2022_2025.rename(columns={'﻿Документ закупки': 'Документ_закупки'}, inplace=True)\n",
        "df_zmm059_2022_2025.columns.values[2] = \"Зп_Поз\""
      ],
      "metadata": {
        "id": "yP4A68V6IVvs"
      },
      "execution_count": 68,
      "outputs": []
    },
    {
      "cell_type": "code",
      "source": [
        "df_zmm059_2022_2025[\"ZP-ZPPOZ_zmm059\"] = (\n",
        "    df_zmm059_2022_2025[\"Документ_закупки\"].astype(str) + \"_\" + df_zmm059_2022_2025[\"Зп_Поз\"].astype(str)\n",
        ")"
      ],
      "metadata": {
        "id": "uHX6IyfIA_8j"
      },
      "execution_count": 69,
      "outputs": []
    },
    {
      "cell_type": "code",
      "source": [
        "#ME2N Raporlarını Yüklemek\n",
        "df_me2n_2022 = pd.read_csv('/content/ME2N_2022.csv', sep=None, engine='python')\n",
        "df_me2n_2023 = pd.read_csv('/content/ME2N_2023.csv', sep=None, engine='python')\n",
        "df_me2n_2024 = pd.read_csv('/content/ME2N_2024.csv', sep=None, engine='python')\n",
        "df_me2n_2025 = pd.read_csv('/content/ME2N_2025.csv', sep=None, engine='python')\n"
      ],
      "metadata": {
        "id": "o7Q3JK66-0WI"
      },
      "execution_count": 70,
      "outputs": []
    },
    {
      "cell_type": "code",
      "source": [
        "#ilk sutuna yıl yazdırma me2n\n",
        "df_me2n_2022[\"Год\"] = \"2022\"\n",
        "cols = [\"Год\"] + [col for col in df_me2n_2022.columns if col != \"Год\"]\n",
        "df_me2n_2022 = df_me2n_2022[cols]\n",
        "#\n",
        "df_me2n_2023[\"Год\"] = \"2023\"\n",
        "cols = [\"Год\"] + [col for col in df_me2n_2023.columns if col != \"Год\"]\n",
        "df_me2n_2023 = df_me2n_2023[cols]\n",
        "#\n",
        "df_me2n_2024[\"Год\"] = \"2024\"\n",
        "cols = [\"Год\"] + [col for col in df_me2n_2024.columns if col != \"Год\"]\n",
        "#\n",
        "df_me2n_2025[\"Год\"] = \"2025\"\n",
        "cols = [\"Год\"] + [col for col in df_me2n_2025.columns if col != \"Год\"]\n",
        "#"
      ],
      "metadata": {
        "id": "nVIh6W1eFZh8"
      },
      "execution_count": 71,
      "outputs": []
    },
    {
      "cell_type": "code",
      "source": [
        "#ME2N DataFrame'leri bir listeye topla\n",
        "dfs2 = [df_me2n_2022, df_me2n_2023, df_me2n_2024, df_me2n_2025]\n",
        "\n",
        "# Hepsini birleştir\n",
        "df_me2n_2022_2025 = pd.concat(dfs2, ignore_index=True)\n",
        "#df_me2n_2022_2025_ = pd.concat(dfs2, ignore_index=True)\n",
        "# Kontrol için ilk satırlara bak\n",
        "#print(df_me2n_2022_2025.tail(5))"
      ],
      "metadata": {
        "id": "kQNH_k1NFdm9"
      },
      "execution_count": 72,
      "outputs": []
    },
    {
      "cell_type": "code",
      "source": [
        "df_me2n_2022_2025.rename(columns={'﻿Документ закупки': 'Документ_закупки'}, inplace=True)\n",
        "df_me2n_2022_2025.columns.values[2] = \"Зп_Поз\""
      ],
      "metadata": {
        "id": "4M8wtWB9F5Uj"
      },
      "execution_count": 73,
      "outputs": []
    },
    {
      "cell_type": "code",
      "source": [
        "df_me2n_2022_2025[\"ZP-ZPPOZ_me2n\"] = (\n",
        "    df_me2n_2022_2025[\"Документ_закупки\"].astype(str) + \"_\" + df_me2n_2022_2025[\"Зп_Поз\"].astype(str)\n",
        ")"
      ],
      "metadata": {
        "id": "oaj7wngbGBbT"
      },
      "execution_count": 74,
      "outputs": []
    },
    {
      "cell_type": "code",
      "source": [
        "#me5a raporunu yüklemek\n",
        "df_me5a_2022 = pd.read_csv('/content/ME5A_2022.csv', sep=None, engine='python')\n",
        "df_me5a_2023 = pd.read_csv('/content/ME5A_2023.csv', sep=None, engine='python')\n",
        "df_me5a_2024 = pd.read_csv('/content/ME5A_2024.csv', sep=None, engine='python')\n",
        "df_me5a_2025 = pd.read_csv('/content/ME5A_2025.csv', sep=None, engine='python')\n",
        "\n",
        "\n",
        "# sep=None will automatically detect the delimiter\n",
        "# engine='python' is slower but more robust for complex cases"
      ],
      "metadata": {
        "id": "_Qo5YnJQ-2cg"
      },
      "execution_count": 75,
      "outputs": []
    },
    {
      "cell_type": "code",
      "source": [
        "#ME2N DataFrame'leri bir listeye topla\n",
        "dfs3 = [df_me5a_2022, df_me5a_2023, df_me5a_2024, df_me5a_2025]\n",
        "\n",
        "# Hepsini birleştir\n",
        "df_me5a_2022_2025 = pd.concat(dfs3, ignore_index=True)\n",
        "#df_me2n_2022_2025_ = pd.concat(dfs2, ignore_index=True)\n",
        "# Kontrol için ilk satırlara bak\n",
        "#print(df_me2n_2022_2025.tail(5))"
      ],
      "metadata": {
        "id": "fdocEJ-EFkVK"
      },
      "execution_count": 76,
      "outputs": []
    },
    {
      "cell_type": "code",
      "source": [
        "#tedarikçi isim dosyasını yüklemek\n",
        "df_tedarikci_listesi = pd.read_csv('/content/tedarikci_isim.csv', sep=None, engine='python')"
      ],
      "metadata": {
        "id": "lwVA7WKkHK75"
      },
      "execution_count": 77,
      "outputs": []
    },
    {
      "cell_type": "code",
      "source": [
        "#material listesini yüklemek\n",
        "df_material_list = pd.read_csv('/content/material_list.csv', sep=None, engine='python')"
      ],
      "metadata": {
        "id": "2D5IDc20Hzq2"
      },
      "execution_count": 78,
      "outputs": []
    },
    {
      "cell_type": "code",
      "source": [
        "df_calisilan = df_zmm059_2022_2025.copy()"
      ],
      "metadata": {
        "id": "E8ABFbTdE_p0"
      },
      "execution_count": 79,
      "outputs": []
    },
    {
      "cell_type": "code",
      "source": [
        "sutun_listesi_str_calisilan = [\"Документ_закупки\",\"Зп_Поз\",\"Материал\",\"Заявка\",\"Позиция заявки\",\"Запрос\",\"Позиция.1\",\n",
        "                 \"Создал\"\n",
        "                 ]"
      ],
      "metadata": {
        "id": "9b5JhWDhW2eA"
      },
      "execution_count": 80,
      "outputs": []
    },
    {
      "cell_type": "code",
      "source": [
        "for s in sutun_listesi_str_calisilan:\n",
        "    # Apply the robust cleaning and conversion function\n",
        "    df_calisilan[s] = df_calisilan[s].apply(temizle_ve_cevir)"
      ],
      "metadata": {
        "id": "yJSb2XcUWzdk"
      },
      "execution_count": 81,
      "outputs": []
    },
    {
      "cell_type": "code",
      "source": [
        "sutun_listesi_str_me2n = [\"Документ_закупки\",\"Зп_Поз\",\"Материал\",\"Заявка\",\"Материал\"\n",
        "                 ]"
      ],
      "metadata": {
        "id": "-tQZG5blahB-"
      },
      "execution_count": 82,
      "outputs": []
    },
    {
      "cell_type": "code",
      "source": [
        "for s in sutun_listesi_str_me2n:\n",
        "    # Apply the robust cleaning and conversion function\n",
        "    df_me2n_2022_2025[s] = df_me2n_2022_2025[s].apply(temizle_ve_cevir)"
      ],
      "metadata": {
        "id": "skZsFusLaaPb"
      },
      "execution_count": 83,
      "outputs": []
    },
    {
      "cell_type": "code",
      "source": [
        "#df_calisilan.tail(2)"
      ],
      "metadata": {
        "id": "tFoJfgGzWfdF"
      },
      "execution_count": 84,
      "outputs": []
    },
    {
      "cell_type": "code",
      "source": [
        "df_calisilan[\"ZP-ZPPOZ_zmm059\"] = (\n",
        "    df_calisilan[\"Документ_закупки\"].astype(str) + \"_\" + df_calisilan[\"Зп_Поз\"].astype(str)\n",
        ")"
      ],
      "metadata": {
        "id": "6UgwfL28HzAo"
      },
      "execution_count": 85,
      "outputs": []
    },
    {
      "cell_type": "code",
      "source": [
        "df_calisilan[\"B3-B3POZ\"] = (\n",
        "    df_calisilan[\"Заявка\"].astype(str) + \"_\" + df_calisilan[\"Позиция заявки\"].astype(str)\n",
        ")"
      ],
      "metadata": {
        "id": "hV345n2cIDy_"
      },
      "execution_count": 86,
      "outputs": []
    },
    {
      "cell_type": "code",
      "source": [
        "df_me5a_2022_2025[\"B3-B3POZ\"] = (\n",
        "    df_me5a_2022_2025[\"﻿Заявка\"].astype(str) + \"_\" + df_me5a_2022_2025[\"Позиция заявки\"].astype(str)\n",
        ")"
      ],
      "metadata": {
        "id": "dURPQxh2JtvJ"
      },
      "execution_count": 87,
      "outputs": []
    },
    {
      "cell_type": "code",
      "source": [
        "df_calisilan[\"ZP-ZPPOZ_zmm059\"] = (\n",
        "    df_calisilan[\"Документ_закупки\"].astype(str) + \"_\" + df_calisilan[\"Зп_Поз\"].astype(str)\n",
        ")"
      ],
      "metadata": {
        "id": "ByBwSmm4Jw8x"
      },
      "execution_count": 88,
      "outputs": []
    },
    {
      "cell_type": "code",
      "source": [
        "df_calisilan.tail(2)"
      ],
      "metadata": {
        "colab": {
          "base_uri": "https://localhost:8080/",
          "height": 283
        },
        "id": "fTIP97WWKDHj",
        "outputId": "40e8c150-49da-4999-e68c-21926b251418"
      },
      "execution_count": 89,
      "outputs": [
        {
          "output_type": "execute_result",
          "data": {
            "text/plain": [
              "         YIL Документ_закупки Зп_Поз Индикатор удаления неполн.    Материал  \\\n",
              "601032  2025       4500000025     10                  L     NaN  4500415852   \n",
              "601033  2025       4500000025     20                  L     NaN  4500415855   \n",
              "\n",
              "            Заявка Позиция заявки Запрос Позиция.1  ...  \\\n",
              "601032  2100003682             10    nan         0  ...   \n",
              "601033  2100003682             20    nan         0  ...   \n",
              "\n",
              "        Обозначение вида материал  Группа закупок.2  Название ГрЗакупок.2  \\\n",
              "601032  IC İnşaat Proje Malzemesi               NaN                   NaN   \n",
              "601033  IC İnşaat Proje Malzemesi               NaN                   NaN   \n",
              "\n",
              "        Затребовал Количество во Внутреннем заказе Единица измерения  \\\n",
              "601032         NaN                           0,000               NaN   \n",
              "601033         NaN                           0,000               NaN   \n",
              "\n",
              "        № комиссии  № ЗП в 1С ZP-ZPPOZ_zmm059       B3-B3POZ  \n",
              "601032  2100003654          .   4500000025_10  2100003682_10  \n",
              "601033  2100003654          .   4500000025_20  2100003682_20  \n",
              "\n",
              "[2 rows x 107 columns]"
            ],
            "text/html": [
              "\n",
              "  <div id=\"df-8d12f3db-802c-4cc4-963a-c0f5b77f3ca5\" class=\"colab-df-container\">\n",
              "    <div>\n",
              "<style scoped>\n",
              "    .dataframe tbody tr th:only-of-type {\n",
              "        vertical-align: middle;\n",
              "    }\n",
              "\n",
              "    .dataframe tbody tr th {\n",
              "        vertical-align: top;\n",
              "    }\n",
              "\n",
              "    .dataframe thead th {\n",
              "        text-align: right;\n",
              "    }\n",
              "</style>\n",
              "<table border=\"1\" class=\"dataframe\">\n",
              "  <thead>\n",
              "    <tr style=\"text-align: right;\">\n",
              "      <th></th>\n",
              "      <th>YIL</th>\n",
              "      <th>Документ_закупки</th>\n",
              "      <th>Зп_Поз</th>\n",
              "      <th>Индикатор удаления</th>\n",
              "      <th>неполн.</th>\n",
              "      <th>Материал</th>\n",
              "      <th>Заявка</th>\n",
              "      <th>Позиция заявки</th>\n",
              "      <th>Запрос</th>\n",
              "      <th>Позиция.1</th>\n",
              "      <th>...</th>\n",
              "      <th>Обозначение вида материал</th>\n",
              "      <th>Группа закупок.2</th>\n",
              "      <th>Название ГрЗакупок.2</th>\n",
              "      <th>Затребовал</th>\n",
              "      <th>Количество во Внутреннем заказе</th>\n",
              "      <th>Единица измерения</th>\n",
              "      <th>№ комиссии</th>\n",
              "      <th>№ ЗП в 1С</th>\n",
              "      <th>ZP-ZPPOZ_zmm059</th>\n",
              "      <th>B3-B3POZ</th>\n",
              "    </tr>\n",
              "  </thead>\n",
              "  <tbody>\n",
              "    <tr>\n",
              "      <th>601032</th>\n",
              "      <td>2025</td>\n",
              "      <td>4500000025</td>\n",
              "      <td>10</td>\n",
              "      <td>L</td>\n",
              "      <td>NaN</td>\n",
              "      <td>4500415852</td>\n",
              "      <td>2100003682</td>\n",
              "      <td>10</td>\n",
              "      <td>nan</td>\n",
              "      <td>0</td>\n",
              "      <td>...</td>\n",
              "      <td>IC İnşaat Proje Malzemesi</td>\n",
              "      <td>NaN</td>\n",
              "      <td>NaN</td>\n",
              "      <td>NaN</td>\n",
              "      <td>0,000</td>\n",
              "      <td>NaN</td>\n",
              "      <td>2100003654</td>\n",
              "      <td>.</td>\n",
              "      <td>4500000025_10</td>\n",
              "      <td>2100003682_10</td>\n",
              "    </tr>\n",
              "    <tr>\n",
              "      <th>601033</th>\n",
              "      <td>2025</td>\n",
              "      <td>4500000025</td>\n",
              "      <td>20</td>\n",
              "      <td>L</td>\n",
              "      <td>NaN</td>\n",
              "      <td>4500415855</td>\n",
              "      <td>2100003682</td>\n",
              "      <td>20</td>\n",
              "      <td>nan</td>\n",
              "      <td>0</td>\n",
              "      <td>...</td>\n",
              "      <td>IC İnşaat Proje Malzemesi</td>\n",
              "      <td>NaN</td>\n",
              "      <td>NaN</td>\n",
              "      <td>NaN</td>\n",
              "      <td>0,000</td>\n",
              "      <td>NaN</td>\n",
              "      <td>2100003654</td>\n",
              "      <td>.</td>\n",
              "      <td>4500000025_20</td>\n",
              "      <td>2100003682_20</td>\n",
              "    </tr>\n",
              "  </tbody>\n",
              "</table>\n",
              "<p>2 rows × 107 columns</p>\n",
              "</div>\n",
              "    <div class=\"colab-df-buttons\">\n",
              "\n",
              "  <div class=\"colab-df-container\">\n",
              "    <button class=\"colab-df-convert\" onclick=\"convertToInteractive('df-8d12f3db-802c-4cc4-963a-c0f5b77f3ca5')\"\n",
              "            title=\"Convert this dataframe to an interactive table.\"\n",
              "            style=\"display:none;\">\n",
              "\n",
              "  <svg xmlns=\"http://www.w3.org/2000/svg\" height=\"24px\" viewBox=\"0 -960 960 960\">\n",
              "    <path d=\"M120-120v-720h720v720H120Zm60-500h600v-160H180v160Zm220 220h160v-160H400v160Zm0 220h160v-160H400v160ZM180-400h160v-160H180v160Zm440 0h160v-160H620v160ZM180-180h160v-160H180v160Zm440 0h160v-160H620v160Z\"/>\n",
              "  </svg>\n",
              "    </button>\n",
              "\n",
              "  <style>\n",
              "    .colab-df-container {\n",
              "      display:flex;\n",
              "      gap: 12px;\n",
              "    }\n",
              "\n",
              "    .colab-df-convert {\n",
              "      background-color: #E8F0FE;\n",
              "      border: none;\n",
              "      border-radius: 50%;\n",
              "      cursor: pointer;\n",
              "      display: none;\n",
              "      fill: #1967D2;\n",
              "      height: 32px;\n",
              "      padding: 0 0 0 0;\n",
              "      width: 32px;\n",
              "    }\n",
              "\n",
              "    .colab-df-convert:hover {\n",
              "      background-color: #E2EBFA;\n",
              "      box-shadow: 0px 1px 2px rgba(60, 64, 67, 0.3), 0px 1px 3px 1px rgba(60, 64, 67, 0.15);\n",
              "      fill: #174EA6;\n",
              "    }\n",
              "\n",
              "    .colab-df-buttons div {\n",
              "      margin-bottom: 4px;\n",
              "    }\n",
              "\n",
              "    [theme=dark] .colab-df-convert {\n",
              "      background-color: #3B4455;\n",
              "      fill: #D2E3FC;\n",
              "    }\n",
              "\n",
              "    [theme=dark] .colab-df-convert:hover {\n",
              "      background-color: #434B5C;\n",
              "      box-shadow: 0px 1px 3px 1px rgba(0, 0, 0, 0.15);\n",
              "      filter: drop-shadow(0px 1px 2px rgba(0, 0, 0, 0.3));\n",
              "      fill: #FFFFFF;\n",
              "    }\n",
              "  </style>\n",
              "\n",
              "    <script>\n",
              "      const buttonEl =\n",
              "        document.querySelector('#df-8d12f3db-802c-4cc4-963a-c0f5b77f3ca5 button.colab-df-convert');\n",
              "      buttonEl.style.display =\n",
              "        google.colab.kernel.accessAllowed ? 'block' : 'none';\n",
              "\n",
              "      async function convertToInteractive(key) {\n",
              "        const element = document.querySelector('#df-8d12f3db-802c-4cc4-963a-c0f5b77f3ca5');\n",
              "        const dataTable =\n",
              "          await google.colab.kernel.invokeFunction('convertToInteractive',\n",
              "                                                    [key], {});\n",
              "        if (!dataTable) return;\n",
              "\n",
              "        const docLinkHtml = 'Like what you see? Visit the ' +\n",
              "          '<a target=\"_blank\" href=https://colab.research.google.com/notebooks/data_table.ipynb>data table notebook</a>'\n",
              "          + ' to learn more about interactive tables.';\n",
              "        element.innerHTML = '';\n",
              "        dataTable['output_type'] = 'display_data';\n",
              "        await google.colab.output.renderOutput(dataTable, element);\n",
              "        const docLink = document.createElement('div');\n",
              "        docLink.innerHTML = docLinkHtml;\n",
              "        element.appendChild(docLink);\n",
              "      }\n",
              "    </script>\n",
              "  </div>\n",
              "\n",
              "\n",
              "    <div id=\"df-3d5aa92d-ce5f-4382-97d4-2a2ecff64388\">\n",
              "      <button class=\"colab-df-quickchart\" onclick=\"quickchart('df-3d5aa92d-ce5f-4382-97d4-2a2ecff64388')\"\n",
              "                title=\"Suggest charts\"\n",
              "                style=\"display:none;\">\n",
              "\n",
              "<svg xmlns=\"http://www.w3.org/2000/svg\" height=\"24px\"viewBox=\"0 0 24 24\"\n",
              "     width=\"24px\">\n",
              "    <g>\n",
              "        <path d=\"M19 3H5c-1.1 0-2 .9-2 2v14c0 1.1.9 2 2 2h14c1.1 0 2-.9 2-2V5c0-1.1-.9-2-2-2zM9 17H7v-7h2v7zm4 0h-2V7h2v10zm4 0h-2v-4h2v4z\"/>\n",
              "    </g>\n",
              "</svg>\n",
              "      </button>\n",
              "\n",
              "<style>\n",
              "  .colab-df-quickchart {\n",
              "      --bg-color: #E8F0FE;\n",
              "      --fill-color: #1967D2;\n",
              "      --hover-bg-color: #E2EBFA;\n",
              "      --hover-fill-color: #174EA6;\n",
              "      --disabled-fill-color: #AAA;\n",
              "      --disabled-bg-color: #DDD;\n",
              "  }\n",
              "\n",
              "  [theme=dark] .colab-df-quickchart {\n",
              "      --bg-color: #3B4455;\n",
              "      --fill-color: #D2E3FC;\n",
              "      --hover-bg-color: #434B5C;\n",
              "      --hover-fill-color: #FFFFFF;\n",
              "      --disabled-bg-color: #3B4455;\n",
              "      --disabled-fill-color: #666;\n",
              "  }\n",
              "\n",
              "  .colab-df-quickchart {\n",
              "    background-color: var(--bg-color);\n",
              "    border: none;\n",
              "    border-radius: 50%;\n",
              "    cursor: pointer;\n",
              "    display: none;\n",
              "    fill: var(--fill-color);\n",
              "    height: 32px;\n",
              "    padding: 0;\n",
              "    width: 32px;\n",
              "  }\n",
              "\n",
              "  .colab-df-quickchart:hover {\n",
              "    background-color: var(--hover-bg-color);\n",
              "    box-shadow: 0 1px 2px rgba(60, 64, 67, 0.3), 0 1px 3px 1px rgba(60, 64, 67, 0.15);\n",
              "    fill: var(--button-hover-fill-color);\n",
              "  }\n",
              "\n",
              "  .colab-df-quickchart-complete:disabled,\n",
              "  .colab-df-quickchart-complete:disabled:hover {\n",
              "    background-color: var(--disabled-bg-color);\n",
              "    fill: var(--disabled-fill-color);\n",
              "    box-shadow: none;\n",
              "  }\n",
              "\n",
              "  .colab-df-spinner {\n",
              "    border: 2px solid var(--fill-color);\n",
              "    border-color: transparent;\n",
              "    border-bottom-color: var(--fill-color);\n",
              "    animation:\n",
              "      spin 1s steps(1) infinite;\n",
              "  }\n",
              "\n",
              "  @keyframes spin {\n",
              "    0% {\n",
              "      border-color: transparent;\n",
              "      border-bottom-color: var(--fill-color);\n",
              "      border-left-color: var(--fill-color);\n",
              "    }\n",
              "    20% {\n",
              "      border-color: transparent;\n",
              "      border-left-color: var(--fill-color);\n",
              "      border-top-color: var(--fill-color);\n",
              "    }\n",
              "    30% {\n",
              "      border-color: transparent;\n",
              "      border-left-color: var(--fill-color);\n",
              "      border-top-color: var(--fill-color);\n",
              "      border-right-color: var(--fill-color);\n",
              "    }\n",
              "    40% {\n",
              "      border-color: transparent;\n",
              "      border-right-color: var(--fill-color);\n",
              "      border-top-color: var(--fill-color);\n",
              "    }\n",
              "    60% {\n",
              "      border-color: transparent;\n",
              "      border-right-color: var(--fill-color);\n",
              "    }\n",
              "    80% {\n",
              "      border-color: transparent;\n",
              "      border-right-color: var(--fill-color);\n",
              "      border-bottom-color: var(--fill-color);\n",
              "    }\n",
              "    90% {\n",
              "      border-color: transparent;\n",
              "      border-bottom-color: var(--fill-color);\n",
              "    }\n",
              "  }\n",
              "</style>\n",
              "\n",
              "      <script>\n",
              "        async function quickchart(key) {\n",
              "          const quickchartButtonEl =\n",
              "            document.querySelector('#' + key + ' button');\n",
              "          quickchartButtonEl.disabled = true;  // To prevent multiple clicks.\n",
              "          quickchartButtonEl.classList.add('colab-df-spinner');\n",
              "          try {\n",
              "            const charts = await google.colab.kernel.invokeFunction(\n",
              "                'suggestCharts', [key], {});\n",
              "          } catch (error) {\n",
              "            console.error('Error during call to suggestCharts:', error);\n",
              "          }\n",
              "          quickchartButtonEl.classList.remove('colab-df-spinner');\n",
              "          quickchartButtonEl.classList.add('colab-df-quickchart-complete');\n",
              "        }\n",
              "        (() => {\n",
              "          let quickchartButtonEl =\n",
              "            document.querySelector('#df-3d5aa92d-ce5f-4382-97d4-2a2ecff64388 button');\n",
              "          quickchartButtonEl.style.display =\n",
              "            google.colab.kernel.accessAllowed ? 'block' : 'none';\n",
              "        })();\n",
              "      </script>\n",
              "    </div>\n",
              "\n",
              "    </div>\n",
              "  </div>\n"
            ],
            "application/vnd.google.colaboratory.intrinsic+json": {
              "type": "dataframe"
            }
          },
          "metadata": {},
          "execution_count": 89
        }
      ]
    },
    {
      "cell_type": "code",
      "source": [
        "df_calisilan.rename(columns={'YIL': 'ГОД'}, inplace=True)\n",
        "df_tedarikci_listesi.rename(columns={'kod': 'Поставщик'}, inplace=True)"
      ],
      "metadata": {
        "id": "sYRrM-hmKHf7"
      },
      "execution_count": 90,
      "outputs": []
    },
    {
      "cell_type": "code",
      "source": [
        "adetler = df_calisilan[\"B3-B3POZ\"].value_counts()"
      ],
      "metadata": {
        "id": "9NbCuXGTKVYm"
      },
      "execution_count": 91,
      "outputs": []
    },
    {
      "cell_type": "code",
      "source": [
        "mukerrer_kodlar = adetler[adetler > 1].index"
      ],
      "metadata": {
        "id": "h3hyTL6uKX1v"
      },
      "execution_count": 92,
      "outputs": []
    },
    {
      "cell_type": "code",
      "source": [
        "silinmesi_gerekenler = df_calisilan[\n",
        "    (df_calisilan[\"B3-B3POZ\"].isin(mukerrer_kodlar)) &\n",
        "    (df_calisilan[\"Документ_закупки\"].isna())\n",
        "\n",
        "]"
      ],
      "metadata": {
        "id": "7sbgKSmcKZD4"
      },
      "execution_count": 93,
      "outputs": []
    },
    {
      "cell_type": "code",
      "source": [
        "df_calisilan = df_calisilan.drop(silinmesi_gerekenler.index)"
      ],
      "metadata": {
        "id": "Zxtswj6XKaPQ"
      },
      "execution_count": 94,
      "outputs": []
    },
    {
      "cell_type": "code",
      "source": [
        "#print(f\"Kalan satır sayısı df_calısılan : {len(df_calisilan)}\")\n",
        "#print(f\"Kalan satır sayısı df_zmm059_2022_2025: {len(df_zmm059_2022_2025)}\") #burada df i değşitirmek gerek"
      ],
      "metadata": {
        "id": "2BQ7B5EQKctY"
      },
      "execution_count": 95,
      "outputs": []
    },
    {
      "cell_type": "code",
      "source": [
        "# Silmek istediğin sütunların index (pozisyon) numaraları\n",
        "#sil_indexler = [8,9,10,11,12,13,17,27,28,29,33,43,44,55,73,74,79,80,81,82,\n",
        "#                83,84,85,86,87,88,89,90,91,93,94,95,96,97,98,99,100,101,102\n",
        "#                ]  # 0'dan başlar, örneğin 2., 4. ve 6. sütun\n",
        "\n",
        "# Yeni DataFrame'i bu sütunlar hariç oluştur\n",
        "#df_calisilan = df_calisilan.drop(df_calisilan.columns[sil_indexler], axis=1)"
      ],
      "metadata": {
        "id": "PFY-PPSXKkS6"
      },
      "execution_count": 96,
      "outputs": []
    },
    {
      "cell_type": "code",
      "source": [
        "df_calisilan[\"ГОД\"] = df_calisilan[\"ГОД\"].astype(str)  # string'e çevirmek istersen\n",
        "\n",
        "# Replace NaN values with a placeholder integer (e.g., 0) before converting to int\n",
        "#df_calisilan[\"Документ_закупки\"] = df_calisilan[\"Документ_закупки\"].fillna(0).astype(int).astype(str)\n",
        "\n"
      ],
      "metadata": {
        "id": "b_wB3JauKr1b"
      },
      "execution_count": 97,
      "outputs": []
    },
    {
      "cell_type": "code",
      "source": [
        "df_calisilan[\"Поставщик\"] = df_calisilan[\"Поставщик\"].apply(temizle_ve_cevir)"
      ],
      "metadata": {
        "id": "BexDMl0YKsRy"
      },
      "execution_count": 98,
      "outputs": []
    },
    {
      "cell_type": "code",
      "source": [
        "# Tedarikçi sözlüğünü yine string anahtarlara göre oluştur\n",
        "tedarikci_dict = dict(zip(df_tedarikci_listesi.iloc[:, 0].astype(str), df_tedarikci_listesi.iloc[:, 1]))\n",
        "\n",
        "# Eşleştirme\n",
        "df_calisilan[\"имя_поставщика\"] = df_calisilan[\"Поставщик\"].map(tedarikci_dict)"
      ],
      "metadata": {
        "id": "U4yYXbzGKvH6"
      },
      "execution_count": 99,
      "outputs": []
    },
    {
      "cell_type": "code",
      "source": [
        "df_me5a_2022_2025[\"Материал\"] = df_me5a_2022_2025[\"Материал\"].apply(temizle_ve_cevir)"
      ],
      "metadata": {
        "id": "IxgonLH6Kw16"
      },
      "execution_count": 100,
      "outputs": []
    },
    {
      "cell_type": "code",
      "source": [
        "df_calisilan[\"Материал_B3\"] = df_calisilan[\"Материал\"].apply(temizle_ve_cevir)"
      ],
      "metadata": {
        "id": "3B87KIUHKyBi"
      },
      "execution_count": 101,
      "outputs": []
    },
    {
      "cell_type": "code",
      "source": [
        " # Sözlük oluştur (anahtar: B3-B3POZ, değer: Материал)\n",
        "b3_to_material_dict = dict(zip(df_me5a_2022_2025[\"B3-B3POZ\"].astype(str), df_me5a_2022_2025[\"Материал\"]))\n"
      ],
      "metadata": {
        "id": "f-t5iOi5K065"
      },
      "execution_count": 102,
      "outputs": []
    },
    {
      "cell_type": "code",
      "source": [
        "# B3-B3POZ'e göre eşleşen Материал'ları getir (yeni bir sütun olarak)\n",
        "df_calisilan[\"Материал_yeni\"] = df_calisilan[\"B3-B3POZ\"].astype(str).map(b3_to_material_dict)"
      ],
      "metadata": {
        "id": "ZBKr9r8BK5OU"
      },
      "execution_count": 103,
      "outputs": []
    },
    {
      "cell_type": "code",
      "source": [
        "# Sadece boş olan Материал hücrelerini, eşleşen değerle doldur\n",
        "df_calisilan[\"Материал_B3\"] = df_calisilan[\"Материал_B3\"].fillna(df_calisilan[\"Материал_yeni\"])\n",
        "# Geçici sütunu silelim\n",
        "df_calisilan.drop(columns=[\"Материал_yeni\"], inplace=True)"
      ],
      "metadata": {
        "id": "gt64jscbK857"
      },
      "execution_count": 104,
      "outputs": []
    },
    {
      "cell_type": "code",
      "source": [
        "# Sözlükleri oluştur\n",
        "ru_dict = dict(zip(df_material_list.iloc[:, 0].astype(str), df_material_list.iloc[:, 1]))\n",
        "tr_dict = dict(zip(df_material_list.iloc[:, 0].astype(str), df_material_list.iloc[:, 2]))\n",
        "\n",
        "# Eşleştir\n",
        "df_calisilan[\"RU Наименование\"] = df_calisilan[\"Материал_B3\"].astype(str).map(ru_dict)\n",
        "df_calisilan[\"TR Наименование\"] = df_calisilan[\"Материал_B3\"].astype(str).map(tr_dict)\n"
      ],
      "metadata": {
        "id": "5gnv5bEpK-jr"
      },
      "execution_count": 105,
      "outputs": []
    },
    {
      "cell_type": "code",
      "source": [
        "df_calisilan[\"Документ_закупки\"] = df_calisilan[\"Документ_закупки\"].replace(\"\", pd.NA)\n",
        "df_calisilan[\"Зп_Поз\"] = df_calisilan[\"Зп_Поз\"].replace(\"\", pd.NA)\n",
        "df_calisilan[\"Зп_Поз\"] = df_calisilan[\"Зп_Поз\"].replace(\" \", pd.NA)\n",
        "df_calisilan[\"Зп_Поз\"] = df_calisilan[\"Зп_Поз\"].replace(0, pd.NA)"
      ],
      "metadata": {
        "id": "eUcvQl9cLAXD"
      },
      "execution_count": 106,
      "outputs": []
    },
    {
      "cell_type": "code",
      "source": [
        "df_yazdir = df_me2n_2022_2025[[\"ZP-ZPPOZ_me2n\"]].copy()"
      ],
      "metadata": {
        "id": "orvcG2tyLc1k"
      },
      "execution_count": 107,
      "outputs": []
    },
    {
      "cell_type": "code",
      "source": [
        "me2n_sutunlar = [\n",
        "    \"Год\",\"Дата документа\",\"Документ_закупки\",\"Зп_Поз\",\"Индикатор удаления\",\n",
        "    \"Наш знак\",\"Ваш код\",\n",
        "    \"Заявка\",\"Материал\",\"Наименование RU\",\"Наименование TR\",\n",
        "    \"Объем заказа\",\"еще поставить (количество)\",\"Складская ЕИ\",\"Еще для поставки (стоимость)\",\"Валюта\",\n",
        "    \"Инвентарный номер\",\"Имя поставщика\"\n",
        "]\n"
      ],
      "metadata": {
        "id": "ER4-9zstLDCj"
      },
      "execution_count": 108,
      "outputs": []
    },
    {
      "cell_type": "code",
      "source": [
        "# 1. ME2N'den doğrudan aktarma\n",
        "def aktar_me2n(df_me2n, df_yazdir, secilen_sutunlar):\n",
        "    for sutun in secilen_sutunlar:\n",
        "        if sutun in df_me2n.columns:\n",
        "            df_yazdir[sutun] = df_me2n[sutun]\n",
        "        else:\n",
        "            print(f\"Uyarı: '{sutun}' df_me2n_2022_2025 içinde bulunamadı.\")\n",
        "    return df_yazdir"
      ],
      "metadata": {
        "id": "vT1Lfe5BLNte"
      },
      "execution_count": 109,
      "outputs": []
    },
    {
      "cell_type": "code",
      "source": [
        "df_yazdir = aktar_me2n(df_me2n_2022_2025, df_yazdir, me2n_sutunlar)"
      ],
      "metadata": {
        "id": "6gISsdaVLO0F"
      },
      "execution_count": 110,
      "outputs": []
    },
    {
      "cell_type": "code",
      "source": [
        "df_calisilan = df_calisilan.rename(columns={'Значок \"поставка завершена\"': 'Значок -поставка завершена-'})\n"
      ],
      "metadata": {
        "id": "hUHKlxbaLRW2"
      },
      "execution_count": 111,
      "outputs": []
    },
    {
      "cell_type": "code",
      "source": [
        "calisilan_sutunlar = [\n",
        "    \"B3-B3POZ\",\"Позиция заявки\",\"неполн.\",\"Создал\",\n",
        "    \"Группа закупок\",\"Название ГрЗакупок\" ,\"БЕ\",\"Название фирмы\",\"Группа материалов\",\"Название группы\",\n",
        "    \"Автор Внутреннего заказа\",\"Закуп. организация\", \"Завод\",\n",
        "    \"Значок -поставка завершена-\" ,\"Склад\"\n",
        "]\n"
      ],
      "metadata": {
        "id": "GC2FRNR-LpDB"
      },
      "execution_count": 112,
      "outputs": []
    },
    {
      "cell_type": "code",
      "source": [
        "#df_calisilan.tail(2)"
      ],
      "metadata": {
        "id": "L_oy9d2WMFQs"
      },
      "execution_count": 113,
      "outputs": []
    },
    {
      "cell_type": "code",
      "source": [
        "def aktar_calisilan(df_calisilan, df_yazdir, secilen_sutunlar):\n",
        "    ortak_anahtar_calisilan = \"ZP-ZPPOZ_zmm059\"\n",
        "    ortak_anahtar_yazdir = \"ZP-ZPPOZ_me2n\"\n",
        "\n",
        "    for sutun in secilen_sutunlar:\n",
        "        if sutun in df_calisilan.columns:\n",
        "            # Mapping için dictionary oluştur\n",
        "            dict_sutun = df_calisilan.set_index(ortak_anahtar_calisilan)[sutun].to_dict()\n",
        "            # df_yazdir’a map ile aktar\n",
        "            df_yazdir[sutun] = df_yazdir[ortak_anahtar_yazdir].map(dict_sutun)\n",
        "        else:\n",
        "            print(f\"Uyarı: '{sutun}' df_calisilan içinde bulunamadı.\")\n",
        "\n",
        "    return df_yazdir\n"
      ],
      "metadata": {
        "id": "Ickdrhz5Lq3I"
      },
      "execution_count": 114,
      "outputs": []
    },
    {
      "cell_type": "code",
      "source": [
        "#df_yazdir.head(2)"
      ],
      "metadata": {
        "colab": {
          "base_uri": "https://localhost:8080/",
          "height": 271
        },
        "id": "41gfQHbiM-8E",
        "outputId": "842f21f0-a3eb-4447-934c-b38c5b5e6feb"
      },
      "execution_count": 115,
      "outputs": [
        {
          "output_type": "execute_result",
          "data": {
            "text/plain": [
              "   ZP-ZPPOZ_me2n   Год Дата документа Документ_закупки Зп_Поз  \\\n",
              "0  3400011474_10  2022      4.04.2022       3400011474     10   \n",
              "1  3400011474_30  2022      4.04.2022       3400011474     30   \n",
              "\n",
              "  Индикатор удаления     Наш знак   Ваш код Заявка    Материал  \\\n",
              "0                NaN  TCT00000170  AK-C-70c    nan  4500030152   \n",
              "1                NaN  TCT00000170  AK-C-70c    nan  4500030151   \n",
              "\n",
              "                            Наименование RU        Наименование TR  \\\n",
              "0  Асфальтобетон горячий плотный мелкозерни          AŞINMA ASFALT   \n",
              "1  Асфальтобетон горячий пористый крупнозер  BİTÜMLÜ TEMEL  ASFALT   \n",
              "\n",
              "    Объем заказа еще поставить (количество) Складская ЕИ  \\\n",
              "0  4.200.000,000              4.200.000,000           КГ   \n",
              "1  2.397.500,000              2.397.500,000           КГ   \n",
              "\n",
              "  Еще для поставки (стоимость) Валюта Инвентарный номер  \\\n",
              "0                 3.696.000,00    TRY               NaN   \n",
              "1                 2.109.800,00    TRY               NaN   \n",
              "\n",
              "                        Имя поставщика  \n",
              "0  1000013303 H.C.G. İNŞAAT VE TİCARET  \n",
              "1  1000013303 H.C.G. İNŞAAT VE TİCARET  "
            ],
            "text/html": [
              "\n",
              "  <div id=\"df-6212f0c7-1dcd-4b23-abef-ea49ac9bbee9\" class=\"colab-df-container\">\n",
              "    <div>\n",
              "<style scoped>\n",
              "    .dataframe tbody tr th:only-of-type {\n",
              "        vertical-align: middle;\n",
              "    }\n",
              "\n",
              "    .dataframe tbody tr th {\n",
              "        vertical-align: top;\n",
              "    }\n",
              "\n",
              "    .dataframe thead th {\n",
              "        text-align: right;\n",
              "    }\n",
              "</style>\n",
              "<table border=\"1\" class=\"dataframe\">\n",
              "  <thead>\n",
              "    <tr style=\"text-align: right;\">\n",
              "      <th></th>\n",
              "      <th>ZP-ZPPOZ_me2n</th>\n",
              "      <th>Год</th>\n",
              "      <th>Дата документа</th>\n",
              "      <th>Документ_закупки</th>\n",
              "      <th>Зп_Поз</th>\n",
              "      <th>Индикатор удаления</th>\n",
              "      <th>Наш знак</th>\n",
              "      <th>Ваш код</th>\n",
              "      <th>Заявка</th>\n",
              "      <th>Материал</th>\n",
              "      <th>Наименование RU</th>\n",
              "      <th>Наименование TR</th>\n",
              "      <th>Объем заказа</th>\n",
              "      <th>еще поставить (количество)</th>\n",
              "      <th>Складская ЕИ</th>\n",
              "      <th>Еще для поставки (стоимость)</th>\n",
              "      <th>Валюта</th>\n",
              "      <th>Инвентарный номер</th>\n",
              "      <th>Имя поставщика</th>\n",
              "    </tr>\n",
              "  </thead>\n",
              "  <tbody>\n",
              "    <tr>\n",
              "      <th>0</th>\n",
              "      <td>3400011474_10</td>\n",
              "      <td>2022</td>\n",
              "      <td>4.04.2022</td>\n",
              "      <td>3400011474</td>\n",
              "      <td>10</td>\n",
              "      <td>NaN</td>\n",
              "      <td>TCT00000170</td>\n",
              "      <td>AK-C-70c</td>\n",
              "      <td>nan</td>\n",
              "      <td>4500030152</td>\n",
              "      <td>Асфальтобетон горячий плотный мелкозерни</td>\n",
              "      <td>AŞINMA ASFALT</td>\n",
              "      <td>4.200.000,000</td>\n",
              "      <td>4.200.000,000</td>\n",
              "      <td>КГ</td>\n",
              "      <td>3.696.000,00</td>\n",
              "      <td>TRY</td>\n",
              "      <td>NaN</td>\n",
              "      <td>1000013303 H.C.G. İNŞAAT VE TİCARET</td>\n",
              "    </tr>\n",
              "    <tr>\n",
              "      <th>1</th>\n",
              "      <td>3400011474_30</td>\n",
              "      <td>2022</td>\n",
              "      <td>4.04.2022</td>\n",
              "      <td>3400011474</td>\n",
              "      <td>30</td>\n",
              "      <td>NaN</td>\n",
              "      <td>TCT00000170</td>\n",
              "      <td>AK-C-70c</td>\n",
              "      <td>nan</td>\n",
              "      <td>4500030151</td>\n",
              "      <td>Асфальтобетон горячий пористый крупнозер</td>\n",
              "      <td>BİTÜMLÜ TEMEL  ASFALT</td>\n",
              "      <td>2.397.500,000</td>\n",
              "      <td>2.397.500,000</td>\n",
              "      <td>КГ</td>\n",
              "      <td>2.109.800,00</td>\n",
              "      <td>TRY</td>\n",
              "      <td>NaN</td>\n",
              "      <td>1000013303 H.C.G. İNŞAAT VE TİCARET</td>\n",
              "    </tr>\n",
              "  </tbody>\n",
              "</table>\n",
              "</div>\n",
              "    <div class=\"colab-df-buttons\">\n",
              "\n",
              "  <div class=\"colab-df-container\">\n",
              "    <button class=\"colab-df-convert\" onclick=\"convertToInteractive('df-6212f0c7-1dcd-4b23-abef-ea49ac9bbee9')\"\n",
              "            title=\"Convert this dataframe to an interactive table.\"\n",
              "            style=\"display:none;\">\n",
              "\n",
              "  <svg xmlns=\"http://www.w3.org/2000/svg\" height=\"24px\" viewBox=\"0 -960 960 960\">\n",
              "    <path d=\"M120-120v-720h720v720H120Zm60-500h600v-160H180v160Zm220 220h160v-160H400v160Zm0 220h160v-160H400v160ZM180-400h160v-160H180v160Zm440 0h160v-160H620v160ZM180-180h160v-160H180v160Zm440 0h160v-160H620v160Z\"/>\n",
              "  </svg>\n",
              "    </button>\n",
              "\n",
              "  <style>\n",
              "    .colab-df-container {\n",
              "      display:flex;\n",
              "      gap: 12px;\n",
              "    }\n",
              "\n",
              "    .colab-df-convert {\n",
              "      background-color: #E8F0FE;\n",
              "      border: none;\n",
              "      border-radius: 50%;\n",
              "      cursor: pointer;\n",
              "      display: none;\n",
              "      fill: #1967D2;\n",
              "      height: 32px;\n",
              "      padding: 0 0 0 0;\n",
              "      width: 32px;\n",
              "    }\n",
              "\n",
              "    .colab-df-convert:hover {\n",
              "      background-color: #E2EBFA;\n",
              "      box-shadow: 0px 1px 2px rgba(60, 64, 67, 0.3), 0px 1px 3px 1px rgba(60, 64, 67, 0.15);\n",
              "      fill: #174EA6;\n",
              "    }\n",
              "\n",
              "    .colab-df-buttons div {\n",
              "      margin-bottom: 4px;\n",
              "    }\n",
              "\n",
              "    [theme=dark] .colab-df-convert {\n",
              "      background-color: #3B4455;\n",
              "      fill: #D2E3FC;\n",
              "    }\n",
              "\n",
              "    [theme=dark] .colab-df-convert:hover {\n",
              "      background-color: #434B5C;\n",
              "      box-shadow: 0px 1px 3px 1px rgba(0, 0, 0, 0.15);\n",
              "      filter: drop-shadow(0px 1px 2px rgba(0, 0, 0, 0.3));\n",
              "      fill: #FFFFFF;\n",
              "    }\n",
              "  </style>\n",
              "\n",
              "    <script>\n",
              "      const buttonEl =\n",
              "        document.querySelector('#df-6212f0c7-1dcd-4b23-abef-ea49ac9bbee9 button.colab-df-convert');\n",
              "      buttonEl.style.display =\n",
              "        google.colab.kernel.accessAllowed ? 'block' : 'none';\n",
              "\n",
              "      async function convertToInteractive(key) {\n",
              "        const element = document.querySelector('#df-6212f0c7-1dcd-4b23-abef-ea49ac9bbee9');\n",
              "        const dataTable =\n",
              "          await google.colab.kernel.invokeFunction('convertToInteractive',\n",
              "                                                    [key], {});\n",
              "        if (!dataTable) return;\n",
              "\n",
              "        const docLinkHtml = 'Like what you see? Visit the ' +\n",
              "          '<a target=\"_blank\" href=https://colab.research.google.com/notebooks/data_table.ipynb>data table notebook</a>'\n",
              "          + ' to learn more about interactive tables.';\n",
              "        element.innerHTML = '';\n",
              "        dataTable['output_type'] = 'display_data';\n",
              "        await google.colab.output.renderOutput(dataTable, element);\n",
              "        const docLink = document.createElement('div');\n",
              "        docLink.innerHTML = docLinkHtml;\n",
              "        element.appendChild(docLink);\n",
              "      }\n",
              "    </script>\n",
              "  </div>\n",
              "\n",
              "\n",
              "    <div id=\"df-1a961916-a7f1-4d5e-88a2-21ba363d561a\">\n",
              "      <button class=\"colab-df-quickchart\" onclick=\"quickchart('df-1a961916-a7f1-4d5e-88a2-21ba363d561a')\"\n",
              "                title=\"Suggest charts\"\n",
              "                style=\"display:none;\">\n",
              "\n",
              "<svg xmlns=\"http://www.w3.org/2000/svg\" height=\"24px\"viewBox=\"0 0 24 24\"\n",
              "     width=\"24px\">\n",
              "    <g>\n",
              "        <path d=\"M19 3H5c-1.1 0-2 .9-2 2v14c0 1.1.9 2 2 2h14c1.1 0 2-.9 2-2V5c0-1.1-.9-2-2-2zM9 17H7v-7h2v7zm4 0h-2V7h2v10zm4 0h-2v-4h2v4z\"/>\n",
              "    </g>\n",
              "</svg>\n",
              "      </button>\n",
              "\n",
              "<style>\n",
              "  .colab-df-quickchart {\n",
              "      --bg-color: #E8F0FE;\n",
              "      --fill-color: #1967D2;\n",
              "      --hover-bg-color: #E2EBFA;\n",
              "      --hover-fill-color: #174EA6;\n",
              "      --disabled-fill-color: #AAA;\n",
              "      --disabled-bg-color: #DDD;\n",
              "  }\n",
              "\n",
              "  [theme=dark] .colab-df-quickchart {\n",
              "      --bg-color: #3B4455;\n",
              "      --fill-color: #D2E3FC;\n",
              "      --hover-bg-color: #434B5C;\n",
              "      --hover-fill-color: #FFFFFF;\n",
              "      --disabled-bg-color: #3B4455;\n",
              "      --disabled-fill-color: #666;\n",
              "  }\n",
              "\n",
              "  .colab-df-quickchart {\n",
              "    background-color: var(--bg-color);\n",
              "    border: none;\n",
              "    border-radius: 50%;\n",
              "    cursor: pointer;\n",
              "    display: none;\n",
              "    fill: var(--fill-color);\n",
              "    height: 32px;\n",
              "    padding: 0;\n",
              "    width: 32px;\n",
              "  }\n",
              "\n",
              "  .colab-df-quickchart:hover {\n",
              "    background-color: var(--hover-bg-color);\n",
              "    box-shadow: 0 1px 2px rgba(60, 64, 67, 0.3), 0 1px 3px 1px rgba(60, 64, 67, 0.15);\n",
              "    fill: var(--button-hover-fill-color);\n",
              "  }\n",
              "\n",
              "  .colab-df-quickchart-complete:disabled,\n",
              "  .colab-df-quickchart-complete:disabled:hover {\n",
              "    background-color: var(--disabled-bg-color);\n",
              "    fill: var(--disabled-fill-color);\n",
              "    box-shadow: none;\n",
              "  }\n",
              "\n",
              "  .colab-df-spinner {\n",
              "    border: 2px solid var(--fill-color);\n",
              "    border-color: transparent;\n",
              "    border-bottom-color: var(--fill-color);\n",
              "    animation:\n",
              "      spin 1s steps(1) infinite;\n",
              "  }\n",
              "\n",
              "  @keyframes spin {\n",
              "    0% {\n",
              "      border-color: transparent;\n",
              "      border-bottom-color: var(--fill-color);\n",
              "      border-left-color: var(--fill-color);\n",
              "    }\n",
              "    20% {\n",
              "      border-color: transparent;\n",
              "      border-left-color: var(--fill-color);\n",
              "      border-top-color: var(--fill-color);\n",
              "    }\n",
              "    30% {\n",
              "      border-color: transparent;\n",
              "      border-left-color: var(--fill-color);\n",
              "      border-top-color: var(--fill-color);\n",
              "      border-right-color: var(--fill-color);\n",
              "    }\n",
              "    40% {\n",
              "      border-color: transparent;\n",
              "      border-right-color: var(--fill-color);\n",
              "      border-top-color: var(--fill-color);\n",
              "    }\n",
              "    60% {\n",
              "      border-color: transparent;\n",
              "      border-right-color: var(--fill-color);\n",
              "    }\n",
              "    80% {\n",
              "      border-color: transparent;\n",
              "      border-right-color: var(--fill-color);\n",
              "      border-bottom-color: var(--fill-color);\n",
              "    }\n",
              "    90% {\n",
              "      border-color: transparent;\n",
              "      border-bottom-color: var(--fill-color);\n",
              "    }\n",
              "  }\n",
              "</style>\n",
              "\n",
              "      <script>\n",
              "        async function quickchart(key) {\n",
              "          const quickchartButtonEl =\n",
              "            document.querySelector('#' + key + ' button');\n",
              "          quickchartButtonEl.disabled = true;  // To prevent multiple clicks.\n",
              "          quickchartButtonEl.classList.add('colab-df-spinner');\n",
              "          try {\n",
              "            const charts = await google.colab.kernel.invokeFunction(\n",
              "                'suggestCharts', [key], {});\n",
              "          } catch (error) {\n",
              "            console.error('Error during call to suggestCharts:', error);\n",
              "          }\n",
              "          quickchartButtonEl.classList.remove('colab-df-spinner');\n",
              "          quickchartButtonEl.classList.add('colab-df-quickchart-complete');\n",
              "        }\n",
              "        (() => {\n",
              "          let quickchartButtonEl =\n",
              "            document.querySelector('#df-1a961916-a7f1-4d5e-88a2-21ba363d561a button');\n",
              "          quickchartButtonEl.style.display =\n",
              "            google.colab.kernel.accessAllowed ? 'block' : 'none';\n",
              "        })();\n",
              "      </script>\n",
              "    </div>\n",
              "\n",
              "    </div>\n",
              "  </div>\n"
            ],
            "application/vnd.google.colaboratory.intrinsic+json": {
              "type": "dataframe",
              "variable_name": "df_yazdir"
            }
          },
          "metadata": {},
          "execution_count": 115
        }
      ]
    },
    {
      "cell_type": "code",
      "source": [
        "df_yazdir = aktar_calisilan(df_calisilan, df_yazdir, calisilan_sutunlar)"
      ],
      "metadata": {
        "id": "kV8xN6hjLr6R"
      },
      "execution_count": 116,
      "outputs": []
    },
    {
      "cell_type": "markdown",
      "source": [
        "excelleri kaydetmek için kullan"
      ],
      "metadata": {
        "id": "XZOlprzn-6bU"
      }
    },
    {
      "cell_type": "code",
      "source": [
        "df_yazdir.tail(2)"
      ],
      "metadata": {
        "colab": {
          "base_uri": "https://localhost:8080/",
          "height": 266
        },
        "id": "1SbGP-XdbuXs",
        "outputId": "339a905b-a000-4bdb-d25d-0bdf1586858a"
      },
      "execution_count": 120,
      "outputs": [
        {
          "output_type": "execute_result",
          "data": {
            "text/plain": [
              "        ZP-ZPPOZ_me2n   Год Дата документа Документ_закупки Зп_Поз  \\\n",
              "361192  4500000025_10  2025     17.04.2025       4500000025     10   \n",
              "361193  4500000025_20  2025     17.04.2025       4500000025     20   \n",
              "\n",
              "       Индикатор удаления Наш знак     Ваш код      Заявка    Материал  ...  \\\n",
              "361192                  L        .  2100003654  2100003682  4500415852  ...   \n",
              "361193                  L        .  2100003654  2100003682  4500415855  ...   \n",
              "\n",
              "       Название ГрЗакупок      БЕ          Название фирмы Группа материалов  \\\n",
              "361192        Makineleşme  2990.0  TSM IS Limited Sirketi           MZ-3073   \n",
              "361193        Makineleşme  2990.0  TSM IS Limited Sirketi           MZ-3076   \n",
              "\n",
              "          Название группы Автор Внутреннего заказа Закуп. организация Завод  \\\n",
              "361192   BENZİN ÇEŞİTLERİ                      NaN             2994.0  29A2   \n",
              "361193  MOTORİN ÇEŞİTLERİ                      NaN             2994.0  29A2   \n",
              "\n",
              "       Значок -поставка завершена- Склад  \n",
              "361192                         NaN  FUEL  \n",
              "361193                         NaN  FUEL  \n",
              "\n",
              "[2 rows x 34 columns]"
            ],
            "text/html": [
              "\n",
              "  <div id=\"df-2cc27a86-b8a2-48de-910c-9b13145b1442\" class=\"colab-df-container\">\n",
              "    <div>\n",
              "<style scoped>\n",
              "    .dataframe tbody tr th:only-of-type {\n",
              "        vertical-align: middle;\n",
              "    }\n",
              "\n",
              "    .dataframe tbody tr th {\n",
              "        vertical-align: top;\n",
              "    }\n",
              "\n",
              "    .dataframe thead th {\n",
              "        text-align: right;\n",
              "    }\n",
              "</style>\n",
              "<table border=\"1\" class=\"dataframe\">\n",
              "  <thead>\n",
              "    <tr style=\"text-align: right;\">\n",
              "      <th></th>\n",
              "      <th>ZP-ZPPOZ_me2n</th>\n",
              "      <th>Год</th>\n",
              "      <th>Дата документа</th>\n",
              "      <th>Документ_закупки</th>\n",
              "      <th>Зп_Поз</th>\n",
              "      <th>Индикатор удаления</th>\n",
              "      <th>Наш знак</th>\n",
              "      <th>Ваш код</th>\n",
              "      <th>Заявка</th>\n",
              "      <th>Материал</th>\n",
              "      <th>...</th>\n",
              "      <th>Название ГрЗакупок</th>\n",
              "      <th>БЕ</th>\n",
              "      <th>Название фирмы</th>\n",
              "      <th>Группа материалов</th>\n",
              "      <th>Название группы</th>\n",
              "      <th>Автор Внутреннего заказа</th>\n",
              "      <th>Закуп. организация</th>\n",
              "      <th>Завод</th>\n",
              "      <th>Значок -поставка завершена-</th>\n",
              "      <th>Склад</th>\n",
              "    </tr>\n",
              "  </thead>\n",
              "  <tbody>\n",
              "    <tr>\n",
              "      <th>361192</th>\n",
              "      <td>4500000025_10</td>\n",
              "      <td>2025</td>\n",
              "      <td>17.04.2025</td>\n",
              "      <td>4500000025</td>\n",
              "      <td>10</td>\n",
              "      <td>L</td>\n",
              "      <td>.</td>\n",
              "      <td>2100003654</td>\n",
              "      <td>2100003682</td>\n",
              "      <td>4500415852</td>\n",
              "      <td>...</td>\n",
              "      <td>Makineleşme</td>\n",
              "      <td>2990.0</td>\n",
              "      <td>TSM IS Limited Sirketi</td>\n",
              "      <td>MZ-3073</td>\n",
              "      <td>BENZİN ÇEŞİTLERİ</td>\n",
              "      <td>NaN</td>\n",
              "      <td>2994.0</td>\n",
              "      <td>29A2</td>\n",
              "      <td>NaN</td>\n",
              "      <td>FUEL</td>\n",
              "    </tr>\n",
              "    <tr>\n",
              "      <th>361193</th>\n",
              "      <td>4500000025_20</td>\n",
              "      <td>2025</td>\n",
              "      <td>17.04.2025</td>\n",
              "      <td>4500000025</td>\n",
              "      <td>20</td>\n",
              "      <td>L</td>\n",
              "      <td>.</td>\n",
              "      <td>2100003654</td>\n",
              "      <td>2100003682</td>\n",
              "      <td>4500415855</td>\n",
              "      <td>...</td>\n",
              "      <td>Makineleşme</td>\n",
              "      <td>2990.0</td>\n",
              "      <td>TSM IS Limited Sirketi</td>\n",
              "      <td>MZ-3076</td>\n",
              "      <td>MOTORİN ÇEŞİTLERİ</td>\n",
              "      <td>NaN</td>\n",
              "      <td>2994.0</td>\n",
              "      <td>29A2</td>\n",
              "      <td>NaN</td>\n",
              "      <td>FUEL</td>\n",
              "    </tr>\n",
              "  </tbody>\n",
              "</table>\n",
              "<p>2 rows × 34 columns</p>\n",
              "</div>\n",
              "    <div class=\"colab-df-buttons\">\n",
              "\n",
              "  <div class=\"colab-df-container\">\n",
              "    <button class=\"colab-df-convert\" onclick=\"convertToInteractive('df-2cc27a86-b8a2-48de-910c-9b13145b1442')\"\n",
              "            title=\"Convert this dataframe to an interactive table.\"\n",
              "            style=\"display:none;\">\n",
              "\n",
              "  <svg xmlns=\"http://www.w3.org/2000/svg\" height=\"24px\" viewBox=\"0 -960 960 960\">\n",
              "    <path d=\"M120-120v-720h720v720H120Zm60-500h600v-160H180v160Zm220 220h160v-160H400v160Zm0 220h160v-160H400v160ZM180-400h160v-160H180v160Zm440 0h160v-160H620v160ZM180-180h160v-160H180v160Zm440 0h160v-160H620v160Z\"/>\n",
              "  </svg>\n",
              "    </button>\n",
              "\n",
              "  <style>\n",
              "    .colab-df-container {\n",
              "      display:flex;\n",
              "      gap: 12px;\n",
              "    }\n",
              "\n",
              "    .colab-df-convert {\n",
              "      background-color: #E8F0FE;\n",
              "      border: none;\n",
              "      border-radius: 50%;\n",
              "      cursor: pointer;\n",
              "      display: none;\n",
              "      fill: #1967D2;\n",
              "      height: 32px;\n",
              "      padding: 0 0 0 0;\n",
              "      width: 32px;\n",
              "    }\n",
              "\n",
              "    .colab-df-convert:hover {\n",
              "      background-color: #E2EBFA;\n",
              "      box-shadow: 0px 1px 2px rgba(60, 64, 67, 0.3), 0px 1px 3px 1px rgba(60, 64, 67, 0.15);\n",
              "      fill: #174EA6;\n",
              "    }\n",
              "\n",
              "    .colab-df-buttons div {\n",
              "      margin-bottom: 4px;\n",
              "    }\n",
              "\n",
              "    [theme=dark] .colab-df-convert {\n",
              "      background-color: #3B4455;\n",
              "      fill: #D2E3FC;\n",
              "    }\n",
              "\n",
              "    [theme=dark] .colab-df-convert:hover {\n",
              "      background-color: #434B5C;\n",
              "      box-shadow: 0px 1px 3px 1px rgba(0, 0, 0, 0.15);\n",
              "      filter: drop-shadow(0px 1px 2px rgba(0, 0, 0, 0.3));\n",
              "      fill: #FFFFFF;\n",
              "    }\n",
              "  </style>\n",
              "\n",
              "    <script>\n",
              "      const buttonEl =\n",
              "        document.querySelector('#df-2cc27a86-b8a2-48de-910c-9b13145b1442 button.colab-df-convert');\n",
              "      buttonEl.style.display =\n",
              "        google.colab.kernel.accessAllowed ? 'block' : 'none';\n",
              "\n",
              "      async function convertToInteractive(key) {\n",
              "        const element = document.querySelector('#df-2cc27a86-b8a2-48de-910c-9b13145b1442');\n",
              "        const dataTable =\n",
              "          await google.colab.kernel.invokeFunction('convertToInteractive',\n",
              "                                                    [key], {});\n",
              "        if (!dataTable) return;\n",
              "\n",
              "        const docLinkHtml = 'Like what you see? Visit the ' +\n",
              "          '<a target=\"_blank\" href=https://colab.research.google.com/notebooks/data_table.ipynb>data table notebook</a>'\n",
              "          + ' to learn more about interactive tables.';\n",
              "        element.innerHTML = '';\n",
              "        dataTable['output_type'] = 'display_data';\n",
              "        await google.colab.output.renderOutput(dataTable, element);\n",
              "        const docLink = document.createElement('div');\n",
              "        docLink.innerHTML = docLinkHtml;\n",
              "        element.appendChild(docLink);\n",
              "      }\n",
              "    </script>\n",
              "  </div>\n",
              "\n",
              "\n",
              "    <div id=\"df-c907d82a-4d9c-49e9-91d1-4547da815e40\">\n",
              "      <button class=\"colab-df-quickchart\" onclick=\"quickchart('df-c907d82a-4d9c-49e9-91d1-4547da815e40')\"\n",
              "                title=\"Suggest charts\"\n",
              "                style=\"display:none;\">\n",
              "\n",
              "<svg xmlns=\"http://www.w3.org/2000/svg\" height=\"24px\"viewBox=\"0 0 24 24\"\n",
              "     width=\"24px\">\n",
              "    <g>\n",
              "        <path d=\"M19 3H5c-1.1 0-2 .9-2 2v14c0 1.1.9 2 2 2h14c1.1 0 2-.9 2-2V5c0-1.1-.9-2-2-2zM9 17H7v-7h2v7zm4 0h-2V7h2v10zm4 0h-2v-4h2v4z\"/>\n",
              "    </g>\n",
              "</svg>\n",
              "      </button>\n",
              "\n",
              "<style>\n",
              "  .colab-df-quickchart {\n",
              "      --bg-color: #E8F0FE;\n",
              "      --fill-color: #1967D2;\n",
              "      --hover-bg-color: #E2EBFA;\n",
              "      --hover-fill-color: #174EA6;\n",
              "      --disabled-fill-color: #AAA;\n",
              "      --disabled-bg-color: #DDD;\n",
              "  }\n",
              "\n",
              "  [theme=dark] .colab-df-quickchart {\n",
              "      --bg-color: #3B4455;\n",
              "      --fill-color: #D2E3FC;\n",
              "      --hover-bg-color: #434B5C;\n",
              "      --hover-fill-color: #FFFFFF;\n",
              "      --disabled-bg-color: #3B4455;\n",
              "      --disabled-fill-color: #666;\n",
              "  }\n",
              "\n",
              "  .colab-df-quickchart {\n",
              "    background-color: var(--bg-color);\n",
              "    border: none;\n",
              "    border-radius: 50%;\n",
              "    cursor: pointer;\n",
              "    display: none;\n",
              "    fill: var(--fill-color);\n",
              "    height: 32px;\n",
              "    padding: 0;\n",
              "    width: 32px;\n",
              "  }\n",
              "\n",
              "  .colab-df-quickchart:hover {\n",
              "    background-color: var(--hover-bg-color);\n",
              "    box-shadow: 0 1px 2px rgba(60, 64, 67, 0.3), 0 1px 3px 1px rgba(60, 64, 67, 0.15);\n",
              "    fill: var(--button-hover-fill-color);\n",
              "  }\n",
              "\n",
              "  .colab-df-quickchart-complete:disabled,\n",
              "  .colab-df-quickchart-complete:disabled:hover {\n",
              "    background-color: var(--disabled-bg-color);\n",
              "    fill: var(--disabled-fill-color);\n",
              "    box-shadow: none;\n",
              "  }\n",
              "\n",
              "  .colab-df-spinner {\n",
              "    border: 2px solid var(--fill-color);\n",
              "    border-color: transparent;\n",
              "    border-bottom-color: var(--fill-color);\n",
              "    animation:\n",
              "      spin 1s steps(1) infinite;\n",
              "  }\n",
              "\n",
              "  @keyframes spin {\n",
              "    0% {\n",
              "      border-color: transparent;\n",
              "      border-bottom-color: var(--fill-color);\n",
              "      border-left-color: var(--fill-color);\n",
              "    }\n",
              "    20% {\n",
              "      border-color: transparent;\n",
              "      border-left-color: var(--fill-color);\n",
              "      border-top-color: var(--fill-color);\n",
              "    }\n",
              "    30% {\n",
              "      border-color: transparent;\n",
              "      border-left-color: var(--fill-color);\n",
              "      border-top-color: var(--fill-color);\n",
              "      border-right-color: var(--fill-color);\n",
              "    }\n",
              "    40% {\n",
              "      border-color: transparent;\n",
              "      border-right-color: var(--fill-color);\n",
              "      border-top-color: var(--fill-color);\n",
              "    }\n",
              "    60% {\n",
              "      border-color: transparent;\n",
              "      border-right-color: var(--fill-color);\n",
              "    }\n",
              "    80% {\n",
              "      border-color: transparent;\n",
              "      border-right-color: var(--fill-color);\n",
              "      border-bottom-color: var(--fill-color);\n",
              "    }\n",
              "    90% {\n",
              "      border-color: transparent;\n",
              "      border-bottom-color: var(--fill-color);\n",
              "    }\n",
              "  }\n",
              "</style>\n",
              "\n",
              "      <script>\n",
              "        async function quickchart(key) {\n",
              "          const quickchartButtonEl =\n",
              "            document.querySelector('#' + key + ' button');\n",
              "          quickchartButtonEl.disabled = true;  // To prevent multiple clicks.\n",
              "          quickchartButtonEl.classList.add('colab-df-spinner');\n",
              "          try {\n",
              "            const charts = await google.colab.kernel.invokeFunction(\n",
              "                'suggestCharts', [key], {});\n",
              "          } catch (error) {\n",
              "            console.error('Error during call to suggestCharts:', error);\n",
              "          }\n",
              "          quickchartButtonEl.classList.remove('colab-df-spinner');\n",
              "          quickchartButtonEl.classList.add('colab-df-quickchart-complete');\n",
              "        }\n",
              "        (() => {\n",
              "          let quickchartButtonEl =\n",
              "            document.querySelector('#df-c907d82a-4d9c-49e9-91d1-4547da815e40 button');\n",
              "          quickchartButtonEl.style.display =\n",
              "            google.colab.kernel.accessAllowed ? 'block' : 'none';\n",
              "        })();\n",
              "      </script>\n",
              "    </div>\n",
              "\n",
              "    </div>\n",
              "  </div>\n"
            ],
            "application/vnd.google.colaboratory.intrinsic+json": {
              "type": "dataframe"
            }
          },
          "metadata": {},
          "execution_count": 120
        }
      ]
    },
    {
      "cell_type": "code",
      "source": [
        "#XLSX formatında kaydetme\n",
        "df_yazdir.to_excel(\"sonuc.xlsx\", index=False, engine=\"xlsxwriter\")\n",
        "#df_calisilan.to_excel(\"zmm059_2022_2025_temiz.xlsx\", index=False, engine=\"xlsxwriter\")\n",
        "#df_calisilan.to_excel(\"zmm059_2022_2025_temiz.xlsx\",index=False)\n",
        "#df_zmm059_2022_temiz.to_excel(\"zmm059_2022_temiz.xlsx\", index=False)\n",
        "#df_zmm059_2023_temiz.to_excel(\"zmm059_2023_temiz.xlsx\", index=False)\n",
        "#df_zmm059_2024_temiz.to_excel(\"zmm059_2024_temiz.xlsx\", index=False)\n",
        "#df_zmm059_2025_temiz.to_excel(\"zmm059_2025_temiz.xlsx\", index=False)"
      ],
      "metadata": {
        "id": "ipZdM6BKLs5B"
      },
      "execution_count": 121,
      "outputs": []
    },
    {
      "cell_type": "markdown",
      "source": [
        "excelleri indirmek için kullan"
      ],
      "metadata": {
        "id": "OGEMqtKt-9SO"
      }
    },
    {
      "cell_type": "code",
      "source": [
        "# Dosyayı indir\n",
        "files.download(\"sonuc.xlsx\")\n",
        "#files.download(\"zmm059_2022_2025_temiz.xlsx\")\n",
        "#files.download(\"zmm059_2022_temiz.xlsx\")\n",
        "#files.download(\"zmm059_2023_temiz.xlsx\")\n",
        "#files.download(\"zmm059_2024_temiz.xlsx\")\n",
        "#files.download(\"zmm059_2025_temiz.xlsx\")\n",
        "#files.download(\"zmm059_2022_2025_temizsutunsuz.csv\")"
      ],
      "metadata": {
        "colab": {
          "base_uri": "https://localhost:8080/",
          "height": 17
        },
        "id": "ZNtGv3o--33H",
        "outputId": "9177aa87-8852-4625-e2df-bc36735a77c0"
      },
      "execution_count": 122,
      "outputs": [
        {
          "output_type": "display_data",
          "data": {
            "text/plain": [
              "<IPython.core.display.Javascript object>"
            ],
            "application/javascript": [
              "\n",
              "    async function download(id, filename, size) {\n",
              "      if (!google.colab.kernel.accessAllowed) {\n",
              "        return;\n",
              "      }\n",
              "      const div = document.createElement('div');\n",
              "      const label = document.createElement('label');\n",
              "      label.textContent = `Downloading \"${filename}\": `;\n",
              "      div.appendChild(label);\n",
              "      const progress = document.createElement('progress');\n",
              "      progress.max = size;\n",
              "      div.appendChild(progress);\n",
              "      document.body.appendChild(div);\n",
              "\n",
              "      const buffers = [];\n",
              "      let downloaded = 0;\n",
              "\n",
              "      const channel = await google.colab.kernel.comms.open(id);\n",
              "      // Send a message to notify the kernel that we're ready.\n",
              "      channel.send({})\n",
              "\n",
              "      for await (const message of channel.messages) {\n",
              "        // Send a message to notify the kernel that we're ready.\n",
              "        channel.send({})\n",
              "        if (message.buffers) {\n",
              "          for (const buffer of message.buffers) {\n",
              "            buffers.push(buffer);\n",
              "            downloaded += buffer.byteLength;\n",
              "            progress.value = downloaded;\n",
              "          }\n",
              "        }\n",
              "      }\n",
              "      const blob = new Blob(buffers, {type: 'application/binary'});\n",
              "      const a = document.createElement('a');\n",
              "      a.href = window.URL.createObjectURL(blob);\n",
              "      a.download = filename;\n",
              "      div.appendChild(a);\n",
              "      a.click();\n",
              "      div.remove();\n",
              "    }\n",
              "  "
            ]
          },
          "metadata": {}
        },
        {
          "output_type": "display_data",
          "data": {
            "text/plain": [
              "<IPython.core.display.Javascript object>"
            ],
            "application/javascript": [
              "download(\"download_56c13e74-c7fe-4024-afb7-be2f571a9708\", \"sonuc.xlsx\", 43847688)"
            ]
          },
          "metadata": {}
        }
      ]
    },
    {
      "cell_type": "code",
      "source": [],
      "metadata": {
        "id": "sMAAIQwH_nXq"
      },
      "execution_count": 118,
      "outputs": []
    }
  ],
  "metadata": {
    "colab": {
      "name": "Welcome To Colab",
      "provenance": [],
      "include_colab_link": true
    },
    "kernelspec": {
      "display_name": "Python 3",
      "name": "python3"
    }
  },
  "nbformat": 4,
  "nbformat_minor": 0
}