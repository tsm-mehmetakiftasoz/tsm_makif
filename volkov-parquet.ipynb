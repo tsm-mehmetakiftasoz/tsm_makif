{
  "cells": [
    {
      "cell_type": "markdown",
      "metadata": {
        "id": "view-in-github",
        "colab_type": "text"
      },
      "source": [
        "<a href=\"https://colab.research.google.com/github/tsm-mehmetakiftasoz/tsm_makif/blob/main/volkov-parquet.ipynb\" target=\"_parent\"><img src=\"https://colab.research.google.com/assets/colab-badge.svg\" alt=\"Open In Colab\"/></a>"
      ]
    },
    {
      "cell_type": "code",
      "source": [
        "# Gerekli kütüphaneler\n",
        "import pandas as pd\n",
        "import glob\n",
        "import os"
      ],
      "metadata": {
        "id": "N1YXW7YIO1oN"
      },
      "execution_count": null,
      "outputs": []
    },
    {
      "cell_type": "code",
      "source": [
        "# Excel dosyalarının bulunduğu klasör (Colab'da genellikle /content)\n",
        "excel_klasoru = \"/content\"  # klasör yolunu değiştirin\n",
        "excel_dosyalari = glob.glob(os.path.join(excel_klasoru, \"*.xlsx\"))"
      ],
      "metadata": {
        "id": "eauRGLrwO2tF"
      },
      "execution_count": null,
      "outputs": []
    },
    {
      "cell_type": "code",
      "source": [
        "for dosya in excel_dosyalari:\n",
        "    # Dosya adı ve yolu\n",
        "    dosya_adi = os.path.basename(dosya)  # sadece isim.xlsx\n",
        "    parquet_adi = os.path.splitext(dosya_adi)[0] + \".parquet\"  # isim.parquet\n",
        "\n",
        "    # Excel'i oku\n",
        "    df = pd.read_excel(dosya)\n",
        "\n",
        "    # Parquet olarak kaydet\n",
        "    df.to_parquet(os.path.join(excel_klasoru, parquet_adi), index=False)\n",
        "\n",
        "    print(f\"{dosya_adi} → {parquet_adi} olarak kaydedildi.\")\n",
        "\n",
        "print(\"Tüm dosyalar Parquet formatına çevrildi.\")\n"
      ],
      "metadata": {
        "id": "06ZBQ4PZO0hF"
      },
      "execution_count": null,
      "outputs": []
    }
  ],
  "metadata": {
    "colab": {
      "name": "Welcome To Colab",
      "provenance": [],
      "include_colab_link": true
    },
    "kernelspec": {
      "display_name": "Python 3",
      "name": "python3"
    }
  },
  "nbformat": 4,
  "nbformat_minor": 0
}