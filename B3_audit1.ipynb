{
  "cells": [
    {
      "cell_type": "markdown",
      "metadata": {
        "id": "view-in-github",
        "colab_type": "text"
      },
      "source": [
        "<a href=\"https://colab.research.google.com/github/tsm-mehmetakiftasoz/tsm_makif/blob/main/B3_audit1.ipynb\" target=\"_parent\"><img src=\"https://colab.research.google.com/assets/colab-badge.svg\" alt=\"Open In Colab\"/></a>"
      ]
    },
    {
      "cell_type": "code",
      "source": [
        "!pip install pandas\n",
        "!pip install xlsxwriter"
      ],
      "metadata": {
        "id": "0kdFsOKg0T88",
        "outputId": "827add86-31ed-46ff-f05c-5dff81a664e0",
        "colab": {
          "base_uri": "https://localhost:8080/"
        }
      },
      "execution_count": 66,
      "outputs": [
        {
          "output_type": "stream",
          "name": "stdout",
          "text": [
            "Requirement already satisfied: pandas in /usr/local/lib/python3.11/dist-packages (2.2.2)\n",
            "Requirement already satisfied: numpy>=1.23.2 in /usr/local/lib/python3.11/dist-packages (from pandas) (2.0.2)\n",
            "Requirement already satisfied: python-dateutil>=2.8.2 in /usr/local/lib/python3.11/dist-packages (from pandas) (2.9.0.post0)\n",
            "Requirement already satisfied: pytz>=2020.1 in /usr/local/lib/python3.11/dist-packages (from pandas) (2025.2)\n",
            "Requirement already satisfied: tzdata>=2022.7 in /usr/local/lib/python3.11/dist-packages (from pandas) (2025.2)\n",
            "Requirement already satisfied: six>=1.5 in /usr/local/lib/python3.11/dist-packages (from python-dateutil>=2.8.2->pandas) (1.17.0)\n",
            "Requirement already satisfied: xlsxwriter in /usr/local/lib/python3.11/dist-packages (3.2.3)\n"
          ]
        }
      ]
    },
    {
      "cell_type": "code",
      "source": [
        "import pandas as pd\n",
        "import numpy as np\n",
        "from google.colab import files\n",
        "from datetime import datetime"
      ],
      "metadata": {
        "id": "PZo8r-w82ntT"
      },
      "execution_count": 67,
      "outputs": []
    },
    {
      "cell_type": "code",
      "source": [
        "def temizle_ve_cevir_2_str(x):\n",
        "    try:\n",
        "        return str(int(float(x)))\n",
        "    except:\n",
        "        return str(x)\n"
      ],
      "metadata": {
        "id": "jlPYC3jI2qoj"
      },
      "execution_count": 68,
      "outputs": []
    },
    {
      "cell_type": "code",
      "source": [
        "def temizle_ve_cevir_2date(x):\n",
        "    try:\n",
        "        return datetime.strptime(x.strip(), \"%d.%m.%Y\")\n",
        "    except (ValueError, AttributeError):\n",
        "        return str(x)\n"
      ],
      "metadata": {
        "id": "y69BvfLmDlu9"
      },
      "execution_count": 69,
      "outputs": []
    },
    {
      "cell_type": "code",
      "source": [
        "def str_to_float(s):\n",
        "    if pd.isna(s):\n",
        "        return None\n",
        "    return float(s.replace(\".\", \"\").replace(\",\", \".\"))"
      ],
      "metadata": {
        "id": "Rg4Gz5N82wjr"
      },
      "execution_count": 70,
      "outputs": []
    },
    {
      "cell_type": "code",
      "source": [
        "#ME2N Raporlarını Yüklemek\n",
        "df_me2n_2022 = pd.read_csv('/content/ME2N_2022.csv', sep=None, engine='python')\n",
        "df_me2n_2023 = pd.read_csv('/content/ME2N_2023.csv', sep=None, engine='python')\n",
        "df_me2n_2024 = pd.read_csv('/content/ME2N_2024.csv', sep=None, engine='python')\n",
        "df_me2n_2025 = pd.read_csv('/content/ME2N_2025.csv', sep=None, engine='python')\n"
      ],
      "metadata": {
        "id": "bBeoa-O325qr"
      },
      "execution_count": 71,
      "outputs": []
    },
    {
      "cell_type": "code",
      "source": [
        "#ilk sutuna yıl yazdırma me2n\n",
        "df_me2n_2022[\"Год\"] = \"2022\"\n",
        "cols = [\"Год\"] + [col for col in df_me2n_2022.columns if col != \"Год\"]\n",
        "df_me2n_2022 = df_me2n_2022[cols]\n",
        "#\n",
        "df_me2n_2023[\"Год\"] = \"2023\"\n",
        "cols = [\"Год\"] + [col for col in df_me2n_2023.columns if col != \"Год\"]\n",
        "df_me2n_2023 = df_me2n_2023[cols]\n",
        "#\n",
        "df_me2n_2024[\"Год\"] = \"2024\"\n",
        "cols = [\"Год\"] + [col for col in df_me2n_2024.columns if col != \"Год\"]\n",
        "df_me2n_2024 = df_me2n_2024[cols]\n",
        "#\n",
        "df_me2n_2025[\"Год\"] = \"2025\"\n",
        "cols = [\"Год\"] + [col for col in df_me2n_2025.columns if col != \"Год\"]\n",
        "df_me2n_2025 = df_me2n_2025[cols]\n",
        "#"
      ],
      "metadata": {
        "id": "DpQZPgJ7AV1A"
      },
      "execution_count": 72,
      "outputs": []
    },
    {
      "cell_type": "code",
      "source": [
        "\n",
        "#ME2N DataFrame'leri bir listeye topla\n",
        "dfs2 = [df_me2n_2022, df_me2n_2023, df_me2n_2024, df_me2n_2025]\n",
        "\n",
        "# Hepsini birleştir\n",
        "df_me2n_2022_2025 = pd.concat(dfs2, ignore_index=True)\n",
        "#df_me2n_2022_2025_ = pd.concat(dfs2, ignore_index=True)\n",
        "# Kontrol için ilk satırlara bak\n",
        "#print(df_me2n_2022_2025.tail(5))"
      ],
      "metadata": {
        "id": "vv9t2bkNAX9g"
      },
      "execution_count": 73,
      "outputs": []
    },
    {
      "cell_type": "code",
      "source": [
        "#me5a raporunu yüklemek\n",
        "df_me5a_2022 = pd.read_csv('/content/ME5A_2022.csv', sep=None, engine='python')\n",
        "df_me5a_2023 = pd.read_csv('/content/ME5A_2023.csv', sep=None, engine='python')\n",
        "df_me5a_2024 = pd.read_csv('/content/ME5A_2024.csv', sep=None, engine='python')\n",
        "df_me5a_2025 = pd.read_csv('/content/ME5A_2025.csv', sep=None, engine='python')\n",
        "\n",
        "\n",
        "# sep=None will automatically detect the delimiter\n",
        "# engine='python' is slower but more robust for complex cases"
      ],
      "metadata": {
        "id": "eVHpnH9rAaTQ"
      },
      "execution_count": 74,
      "outputs": []
    },
    {
      "cell_type": "code",
      "source": [
        "#ilk sutuna yıl yazdırma me2n\n",
        "df_me5a_2022[\"Год\"] = \"2022\"\n",
        "cols = [\"Год\"] + [col for col in df_me5a_2022.columns if col != \"Год\"]\n",
        "df_me5a_2022 = df_me5a_2022[cols]\n",
        "#\n",
        "df_me5a_2023[\"Год\"] = \"2023\"\n",
        "cols = [\"Год\"] + [col for col in df_me5a_2023.columns if col != \"Год\"]\n",
        "df_me5a_2023 = df_me5a_2023[cols]\n",
        "#\n",
        "df_me5a_2024[\"Год\"] = \"2024\"\n",
        "cols = [\"Год\"] + [col for col in df_me5a_2024.columns if col != \"Год\"]\n",
        "df_me5a_2024 = df_me5a_2024[cols]\n",
        "#\n",
        "df_me5a_2025[\"Год\"] = \"2025\"\n",
        "cols = [\"Год\"] + [col for col in df_me5a_2025.columns if col != \"Год\"]\n",
        "df_me5a_2025 = df_me5a_2025[cols]\n",
        "#"
      ],
      "metadata": {
        "id": "OcpBMhWqHeO4"
      },
      "execution_count": 75,
      "outputs": []
    },
    {
      "cell_type": "code",
      "source": [
        "#ME2N DataFrame'leri bir listeye topla\n",
        "dfs3 = [df_me5a_2022, df_me5a_2023, df_me5a_2024, df_me5a_2025]\n",
        "\n",
        "# Hepsini birleştir\n",
        "df_me5a_2022_2025 = pd.concat(dfs3, ignore_index=True)\n",
        "#df_me2n_2022_2025_ = pd.concat(dfs2, ignore_index=True)\n",
        "# Kontrol için ilk satırlara bak\n",
        "#print(df_me2n_2022_2025.tail(5))"
      ],
      "metadata": {
        "id": "EALts8grAhdJ"
      },
      "execution_count": 76,
      "outputs": []
    },
    {
      "cell_type": "code",
      "source": [
        "df_me2n_2022_2025.rename(columns={'﻿Документ закупки': 'Документ_закупки'}, inplace=True)\n",
        "df_me2n_2022_2025.rename(columns={'Позиция': 'ЗП_Позиция'}, inplace=True)\n",
        "df_me2n_2022_2025.rename(columns={'Материал': 'Материал_ЗП'}, inplace=True)"
      ],
      "metadata": {
        "id": "SV5ygt83BP5L"
      },
      "execution_count": 77,
      "outputs": []
    },
    {
      "cell_type": "code",
      "source": [
        "sutun_listesi_2str_me2n = [\"Документ_закупки\",\"ЗП_Позиция\",\"Закуп. организация\",\"Заявка\",\"Материал_ЗП\"]"
      ],
      "metadata": {
        "id": "xpn8lkvzAzpa"
      },
      "execution_count": 78,
      "outputs": []
    },
    {
      "cell_type": "code",
      "source": [
        "for s in sutun_listesi_2str_me2n:\n",
        "    # Apply the robust cleaning and conversion function\n",
        "    df_me2n_2022_2025[s] = df_me2n_2022_2025[s].apply(temizle_ve_cevir_2_str)"
      ],
      "metadata": {
        "id": "1BQVRmlgA_qz"
      },
      "execution_count": 79,
      "outputs": []
    },
    {
      "cell_type": "code",
      "source": [
        "sutun_listesi_str2float_me2n =[\"Объем заказа\",\"еще поставить (количество)\",\n",
        "                               \"Количество в СЕИ\",\"Цена нетто\",\n",
        "                               \"СтоимЗаказа нетто\",\"Еще для поставки (стоимость)\"\n",
        "]"
      ],
      "metadata": {
        "id": "RgBRYGu7CGp8"
      },
      "execution_count": 80,
      "outputs": []
    },
    {
      "cell_type": "code",
      "source": [
        "for s1 in sutun_listesi_str2float_me2n:\n",
        "    # Apply the robust cleaning and conversion function\n",
        "    df_me2n_2022_2025[s1] = df_me2n_2022_2025[s1].apply(str_to_float)"
      ],
      "metadata": {
        "id": "MAQKJh57Cxcu"
      },
      "execution_count": 81,
      "outputs": []
    },
    {
      "cell_type": "code",
      "source": [
        "sutun_listesi_str2date_me2n =[\"Дата документа\",\"Дата поставки\"]\n"
      ],
      "metadata": {
        "id": "4luU55kaC9Km"
      },
      "execution_count": 82,
      "outputs": []
    },
    {
      "cell_type": "code",
      "source": [
        "for s2 in sutun_listesi_str2date_me2n:\n",
        "    # Apply the robust cleaning and conversion function\n",
        "    df_me2n_2022_2025[s2] = df_me2n_2022_2025[s2].apply(temizle_ve_cevir_2date)"
      ],
      "metadata": {
        "id": "0T9oKl41D4pT"
      },
      "execution_count": 83,
      "outputs": []
    },
    {
      "cell_type": "code",
      "source": [
        "df_me5a_2022_2025.rename(columns={'﻿Заявка': 'Заявка'}, inplace=True)\n",
        "df_me5a_2022_2025.rename(columns={'Заказ на поставку': 'Документ_закупки'}, inplace=True)\n",
        "df_me5a_2022_2025.rename(columns={'Позиция ЗкзНаПостав': 'ЗП_Позиция'}, inplace=True)\n",
        "df_me5a_2022_2025.rename(columns={'Материал': 'Материал_ВЗ'}, inplace=True)"
      ],
      "metadata": {
        "id": "P7cfV_XaEI3i"
      },
      "execution_count": 84,
      "outputs": []
    },
    {
      "cell_type": "code",
      "source": [
        "sutun_listesi_2str_me5a = [\"Документ_закупки\",\"ЗП_Позиция\",\"Заявка\",\"Позиция заявки\",\"Материал_ВЗ\",\"Закуп. организация\"]"
      ],
      "metadata": {
        "id": "wY-sUjN5EyYb"
      },
      "execution_count": 85,
      "outputs": []
    },
    {
      "cell_type": "code",
      "source": [
        "for s3 in sutun_listesi_2str_me5a:\n",
        "    # Apply the robust cleaning and conversion function\n",
        "    df_me5a_2022_2025[s3] = df_me5a_2022_2025[s3].apply(temizle_ve_cevir_2_str)"
      ],
      "metadata": {
        "id": "MBdXknlCFjAN"
      },
      "execution_count": 86,
      "outputs": []
    },
    {
      "cell_type": "code",
      "source": [
        "sutun_listesi_str2float_me5a =[\"ЗатребованКолич\",\"Заказанное к-во\"\n",
        "]"
      ],
      "metadata": {
        "id": "sSK2bpJWFpwk"
      },
      "execution_count": 87,
      "outputs": []
    },
    {
      "cell_type": "code",
      "source": [
        "for s4 in sutun_listesi_str2float_me5a:\n",
        "    # Apply the robust cleaning and conversion function\n",
        "    df_me5a_2022_2025[s4] = df_me5a_2022_2025[s4].apply(str_to_float)"
      ],
      "metadata": {
        "id": "MwHrl5VJGDT-"
      },
      "execution_count": 88,
      "outputs": []
    },
    {
      "cell_type": "code",
      "source": [
        "sutun_listesi_str2date_me5a =[\"Дата заявки\",\"Дата изменения\",\"Дата заказа\",\"Дата поставки\",\"Дата деблокирования\"]"
      ],
      "metadata": {
        "id": "XcEeKuNTGTPv"
      },
      "execution_count": 89,
      "outputs": []
    },
    {
      "cell_type": "code",
      "source": [
        "for s5 in sutun_listesi_str2date_me5a:\n",
        "    # Apply the robust cleaning and conversion function\n",
        "    df_me5a_2022_2025[s5] = df_me5a_2022_2025[s5].apply(temizle_ve_cevir_2date)"
      ],
      "metadata": {
        "id": "QhvnkbY0Gv3l"
      },
      "execution_count": 90,
      "outputs": []
    },
    {
      "cell_type": "code",
      "source": [
        "df_me2n_2022_2025['Заявка'] = df_me2n_2022_2025['Заявка'].replace(['nan', 'NaN', 'None'], np.nan)\n"
      ],
      "metadata": {
        "id": "H_SMmqVjtTnA"
      },
      "execution_count": 112,
      "outputs": []
    },
    {
      "cell_type": "code",
      "source": [
        "df_me2n_2022_2025.info()"
      ],
      "metadata": {
        "id": "dCUrUH31HRu-",
        "outputId": "d3dd6c42-dcd4-4393-ec98-509c9bb6ef26",
        "colab": {
          "base_uri": "https://localhost:8080/"
        }
      },
      "execution_count": 114,
      "outputs": [
        {
          "output_type": "stream",
          "name": "stdout",
          "text": [
            "<class 'pandas.core.frame.DataFrame'>\n",
            "RangeIndex: 294346 entries, 0 to 294345\n",
            "Data columns (total 35 columns):\n",
            " #   Column                                   Non-Null Count   Dtype         \n",
            "---  ------                                   --------------   -----         \n",
            " 0   Год                                      294346 non-null  object        \n",
            " 1   Документ_закупки                         294346 non-null  object        \n",
            " 2   ЗП_Позиция                               294346 non-null  object        \n",
            " 3   Индикатор удаления                       21828 non-null   object        \n",
            " 4   Дата документа                           294346 non-null  datetime64[ns]\n",
            " 5   Наш знак                                 283792 non-null  object        \n",
            " 6   Ваш код                                  291591 non-null  object        \n",
            " 7   Имя поставщика                           292421 non-null  object        \n",
            " 8   Закуп. организация                       294346 non-null  object        \n",
            " 9   Заявка                                   279696 non-null  object        \n",
            " 10  Материал_ЗП                              294346 non-null  object        \n",
            " 11  Инвентарный номер                        238897 non-null  object        \n",
            " 12  Наименование RU                          293325 non-null  object        \n",
            " 13  Наименование TR                          293287 non-null  object        \n",
            " 14  Объем заказа                             294346 non-null  float64       \n",
            " 15  еще поставить (количество)               294346 non-null  float64       \n",
            " 16  Складская ЕИ                             293326 non-null  object        \n",
            " 17  Количество в СЕИ                         294346 non-null  float64       \n",
            " 18  Цена нетто                               294346 non-null  float64       \n",
            " 19  СтоимЗаказа нетто                        294346 non-null  float64       \n",
            " 20  Еще для поставки (стоимость)             294346 non-null  float64       \n",
            " 21  Валюта                                   292421 non-null  object        \n",
            " 22  Вид докум. закупки                       294346 non-null  object        \n",
            " 23  Краткий текст                            294345 non-null  object        \n",
            " 24  Единица цены                             294346 non-null  float64       \n",
            " 25  Открытая стоимость                       294346 non-null  object        \n",
            " 26  Номер потребности                        44 non-null      object        \n",
            " 27  Дата поставки                            294346 non-null  object        \n",
            " 28  Число позиций                            294346 non-null  int64         \n",
            " 29  История заказа на поставку/ДокумПоОтзыв  0 non-null       float64       \n",
            " 30  Склад                                    12686 non-null   object        \n",
            " 31  ЕИ заказа на постав.                     294328 non-null  object        \n",
            " 32  ЗП-ЗП_ПОЗ_ME2N                           294346 non-null  object        \n",
            " 33  Позиция заявки                           275732 non-null  object        \n",
            " 34  В3+МАТЕРИАЛ                              294346 non-null  object        \n",
            "dtypes: datetime64[ns](1), float64(8), int64(1), object(25)\n",
            "memory usage: 78.6+ MB\n"
          ]
        }
      ]
    },
    {
      "cell_type": "code",
      "source": [
        "#ZP-ZPPOZ BİRLEŞTİRME --ME2N\n",
        "df_me2n_2022_2025[\"ЗП-ЗП_ПОЗ_ME2N\"] = (\n",
        "    df_me2n_2022_2025[\"Документ_закупки\"].astype(str) + \"_\" + df_me2n_2022_2025[\"ЗП_Позиция\"].astype(str)\n",
        ")"
      ],
      "metadata": {
        "id": "AzL6PJn9IAtI"
      },
      "execution_count": 115,
      "outputs": []
    },
    {
      "cell_type": "code",
      "source": [
        "#ZP-ZPPOZ BİRLEŞTİRME -- ME5A\n",
        "df_me5a_2022_2025[\"ЗП-ЗП_ПОЗ_ME5A\"] = (\n",
        "    df_me5a_2022_2025[\"Документ_закупки\"].astype(str) + \"_\" + df_me5a_2022_2025[\"ЗП_Позиция\"].astype(str)\n",
        ")"
      ],
      "metadata": {
        "id": "U6SdkKPcjEj3"
      },
      "execution_count": 116,
      "outputs": []
    },
    {
      "cell_type": "code",
      "source": [
        "#ZP-ZPPOZ BİRLEŞTİRME -- ME5A\n",
        "df_me5a_2022_2025[\"ВЗ-ВЗ_ПОЗ_ME5A\"] = (\n",
        "    df_me5a_2022_2025[\"Заявка\"].astype(str) + \"_\" + df_me5a_2022_2025[\"Позиция заявки\"].astype(str)\n",
        ")"
      ],
      "metadata": {
        "id": "sG9QtYlFx5BU"
      },
      "execution_count": 129,
      "outputs": []
    },
    {
      "cell_type": "code",
      "source": [
        "#B3+MATERİAL -- ME2N\n",
        "df_me2n_2022_2025[\"В3+МАТЕРИАЛ\"] = (\n",
        "    df_me2n_2022_2025[\"Заявка\"].astype(str) + \"_\" + df_me2n_2022_2025[\"Материал_ЗП\"].astype(str)\n",
        ")"
      ],
      "metadata": {
        "id": "ghPDHl_POnpd"
      },
      "execution_count": 117,
      "outputs": []
    },
    {
      "cell_type": "code",
      "source": [
        "#B3+MATERİAL -- ME5A\n",
        "df_me5a_2022_2025[\"В3+МАТЕРИАЛ\"] = (\n",
        "    df_me5a_2022_2025[\"Заявка\"].astype(str) + \"_\" + df_me5a_2022_2025[\"Материал_ВЗ\"].astype(str) )"
      ],
      "metadata": {
        "id": "Yo9szNHqjAh6"
      },
      "execution_count": 118,
      "outputs": []
    },
    {
      "cell_type": "code",
      "source": [
        "# Mapping için bir sözlük oluştur\n",
        "mapping_dict = df_me5a_2022_2025.set_index('ЗП-ЗП_ПОЗ_ME5A')['Позиция заявки'].to_dict()\n",
        "\n",
        "# df_me2n_2022_2025'e yeni sütunu ekle\n",
        "df_me2n_2022_2025['Позиция заявки'] = df_me2n_2022_2025['ЗП-ЗП_ПОЗ_ME2N'].map(mapping_dict)\n"
      ],
      "metadata": {
        "id": "RPPewz-JevHu"
      },
      "execution_count": 119,
      "outputs": []
    },
    {
      "cell_type": "code",
      "source": [
        "# Mapping sözlüğünü oluştur\n",
        "mapping_dict2 = df_me5a_2022_2025.set_index('В3+МАТЕРИАЛ')['Позиция заявки'].to_dict()\n",
        "\n",
        "# Sadece boş (NaN) olan değerleri güncelle\n",
        "mask = df_me2n_2022_2025['Позиция заявки'].isna()\n",
        "df_me2n_2022_2025.loc[mask, 'Позиция заявки'] = (\n",
        "    df_me2n_2022_2025.loc[mask, 'В3+МАТЕРИАЛ'].map(mapping_dict2)\n",
        ")"
      ],
      "metadata": {
        "id": "2yjrIO8Ijvh2"
      },
      "execution_count": 120,
      "outputs": []
    },
    {
      "cell_type": "code",
      "source": [
        "df_me2n_2022_2025.info()"
      ],
      "metadata": {
        "id": "Hm3FvHT2gDVl",
        "outputId": "4c3a8f6a-0b26-4fcb-f8f8-44bdb29ac855",
        "colab": {
          "base_uri": "https://localhost:8080/"
        }
      },
      "execution_count": 135,
      "outputs": [
        {
          "output_type": "stream",
          "name": "stdout",
          "text": [
            "<class 'pandas.core.frame.DataFrame'>\n",
            "RangeIndex: 294346 entries, 0 to 294345\n",
            "Data columns (total 36 columns):\n",
            " #   Column                                   Non-Null Count   Dtype         \n",
            "---  ------                                   --------------   -----         \n",
            " 0   Год                                      294346 non-null  object        \n",
            " 1   Документ_закупки                         294346 non-null  object        \n",
            " 2   ЗП_Позиция                               294346 non-null  object        \n",
            " 3   Индикатор удаления                       21828 non-null   object        \n",
            " 4   Дата документа                           294346 non-null  datetime64[ns]\n",
            " 5   Наш знак                                 283792 non-null  object        \n",
            " 6   Ваш код                                  291591 non-null  object        \n",
            " 7   Имя поставщика                           292421 non-null  object        \n",
            " 8   Закуп. организация                       294346 non-null  object        \n",
            " 9   Заявка                                   279696 non-null  object        \n",
            " 10  Материал_ЗП                              294346 non-null  object        \n",
            " 11  Инвентарный номер                        238897 non-null  object        \n",
            " 12  Наименование RU                          293325 non-null  object        \n",
            " 13  Наименование TR                          293287 non-null  object        \n",
            " 14  Объем заказа                             294346 non-null  float64       \n",
            " 15  еще поставить (количество)               294346 non-null  float64       \n",
            " 16  Складская ЕИ                             293326 non-null  object        \n",
            " 17  Количество в СЕИ                         294346 non-null  float64       \n",
            " 18  Цена нетто                               294346 non-null  float64       \n",
            " 19  СтоимЗаказа нетто                        294346 non-null  float64       \n",
            " 20  Еще для поставки (стоимость)             294346 non-null  float64       \n",
            " 21  Валюта                                   292421 non-null  object        \n",
            " 22  Вид докум. закупки                       294346 non-null  object        \n",
            " 23  Краткий текст                            294345 non-null  object        \n",
            " 24  Единица цены                             294346 non-null  float64       \n",
            " 25  Открытая стоимость                       294346 non-null  object        \n",
            " 26  Номер потребности                        44 non-null      object        \n",
            " 27  Дата поставки                            294346 non-null  object        \n",
            " 28  Число позиций                            294346 non-null  int64         \n",
            " 29  История заказа на поставку/ДокумПоОтзыв  0 non-null       float64       \n",
            " 30  Склад                                    12686 non-null   object        \n",
            " 31  ЕИ заказа на постав.                     294328 non-null  object        \n",
            " 32  ЗП-ЗП_ПОЗ_ME2N                           294346 non-null  object        \n",
            " 33  Позиция заявки                           275732 non-null  object        \n",
            " 34  В3+МАТЕРИАЛ                              294346 non-null  object        \n",
            " 35  ВЗ-ВЗ_ПОЗ_ME2N                           294346 non-null  object        \n",
            "dtypes: datetime64[ns](1), float64(8), int64(1), object(26)\n",
            "memory usage: 80.8+ MB\n"
          ]
        }
      ]
    },
    {
      "cell_type": "code",
      "source": [
        "df_me2n_2022_2025['Заявка'].isna().sum()"
      ],
      "metadata": {
        "id": "v-8tzlpJgqwM",
        "outputId": "48b2d104-c8b6-42a1-a510-b402f5dc815c",
        "colab": {
          "base_uri": "https://localhost:8080/"
        }
      },
      "execution_count": 140,
      "outputs": [
        {
          "output_type": "execute_result",
          "data": {
            "text/plain": [
              "np.int64(12657)"
            ]
          },
          "metadata": {},
          "execution_count": 140
        }
      ]
    },
    {
      "cell_type": "code",
      "source": [
        "#ZP-ZPPOZ BİRLEŞTİRME -- ME5A\n",
        "df_me2n_2022_2025[\"ВЗ-ВЗ_ПОЗ_ME2N\"] = (\n",
        "    df_me2n_2022_2025[\"Заявка\"].astype(str) + \"_\" + df_me2n_2022_2025[\"Позиция заявки\"].astype(str)\n",
        ")"
      ],
      "metadata": {
        "id": "yu6zhbgmyKVk"
      },
      "execution_count": 131,
      "outputs": []
    },
    {
      "cell_type": "code",
      "source": [
        "# Sadece 'Индикатор удаления' sütunu boş (NaN) olan satırları tut\n",
        "df_me2n_2022_2025 = df_me2n_2022_2025[df_me2n_2022_2025['Индикатор удаления'].isna()]\n"
      ],
      "metadata": {
        "id": "i9szkCm71akd"
      },
      "execution_count": 137,
      "outputs": []
    },
    {
      "cell_type": "code",
      "source": [
        "df_me2n_2022_2025.info()"
      ],
      "metadata": {
        "id": "GAvD7KSwztpK",
        "outputId": "bbfdd3ae-600c-4a57-b3eb-c0eb4b8019e4",
        "colab": {
          "base_uri": "https://localhost:8080/"
        }
      },
      "execution_count": 142,
      "outputs": [
        {
          "output_type": "stream",
          "name": "stdout",
          "text": [
            "<class 'pandas.core.frame.DataFrame'>\n",
            "Index: 272518 entries, 0 to 294343\n",
            "Data columns (total 37 columns):\n",
            " #   Column                                   Non-Null Count   Dtype         \n",
            "---  ------                                   --------------   -----         \n",
            " 0   Год                                      272518 non-null  object        \n",
            " 1   Документ_закупки                         272518 non-null  object        \n",
            " 2   ЗП_Позиция                               272518 non-null  object        \n",
            " 3   Индикатор удаления                       0 non-null       object        \n",
            " 4   Дата документа                           272518 non-null  datetime64[ns]\n",
            " 5   Наш знак                                 263889 non-null  object        \n",
            " 6   Ваш код                                  271659 non-null  object        \n",
            " 7   Имя поставщика                           272388 non-null  object        \n",
            " 8   Закуп. организация                       272518 non-null  object        \n",
            " 9   Заявка                                   259861 non-null  object        \n",
            " 10  Материал_ЗП                              272518 non-null  object        \n",
            " 11  Инвентарный номер                        225314 non-null  object        \n",
            " 12  Наименование RU                          271576 non-null  object        \n",
            " 13  Наименование TR                          271538 non-null  object        \n",
            " 14  Объем заказа                             272518 non-null  float64       \n",
            " 15  еще поставить (количество)               272518 non-null  float64       \n",
            " 16  Складская ЕИ                             271577 non-null  object        \n",
            " 17  Количество в СЕИ                         272518 non-null  float64       \n",
            " 18  Цена нетто                               272518 non-null  float64       \n",
            " 19  СтоимЗаказа нетто                        272518 non-null  float64       \n",
            " 20  Еще для поставки (стоимость)             272518 non-null  float64       \n",
            " 21  Валюта                                   272388 non-null  object        \n",
            " 22  Вид докум. закупки                       272518 non-null  object        \n",
            " 23  Краткий текст                            272517 non-null  object        \n",
            " 24  Единица цены                             272518 non-null  float64       \n",
            " 25  Открытая стоимость                       272518 non-null  object        \n",
            " 26  Номер потребности                        42 non-null      object        \n",
            " 27  Дата поставки                            272518 non-null  object        \n",
            " 28  Число позиций                            272518 non-null  int64         \n",
            " 29  История заказа на поставку/ДокумПоОтзыв  0 non-null       float64       \n",
            " 30  Склад                                    12528 non-null   object        \n",
            " 31  ЕИ заказа на постав.                     272516 non-null  object        \n",
            " 32  ЗП-ЗП_ПОЗ_ME2N                           272518 non-null  object        \n",
            " 33  Позиция заявки                           256524 non-null  object        \n",
            " 34  В3+МАТЕРИАЛ                              272518 non-null  object        \n",
            " 35  ВЗ-ВЗ_ПОЗ_ME2N                           272518 non-null  object        \n",
            " 36  Veri_Kaynagi2                            272518 non-null  object        \n",
            "dtypes: datetime64[ns](1), float64(8), int64(1), object(27)\n",
            "memory usage: 79.0+ MB\n"
          ]
        }
      ]
    },
    {
      "cell_type": "code",
      "source": [
        "df_me2n_2022_2025['Veri_Kaynagi2']=\"ME2N\""
      ],
      "metadata": {
        "id": "6yCuqH192Nq_"
      },
      "execution_count": 141,
      "outputs": []
    },
    {
      "cell_type": "code",
      "source": [
        "df_me2n_2022_2025_grouped = df_me2n_2022_2025.groupby('ВЗ-ВЗ_ПОЗ_ME2N').agg({\n",
        "    'Veri_Kaynagi2' :'first',\n",
        "    'Год': 'first' ,\n",
        "    'Документ_закупки':'first',\n",
        "    'ЗП_Позиция':'first',\n",
        "    'Дата документа': 'first',\n",
        "    'Наш знак': 'first',\n",
        "    'Ваш код': 'first',\n",
        "    'Имя поставщика': 'first',\n",
        "    'Закуп. организация': 'first',\n",
        "    'Заявка': 'first',\n",
        "    'Позиция заявки': 'first',\n",
        "    'Материал_ЗП': 'first',\n",
        "    'Инвентарный номер': 'first',\n",
        "    'Наименование RU': 'first',\n",
        "    'Наименование TR':'first',\n",
        "    'Объем заказа': 'sum',\n",
        "    'еще поставить (количество)': 'sum',\n",
        "    'Складская ЕИ':'first',\n",
        "    'Количество в СЕИ': 'sum',\n",
        "    'Еще для поставки (стоимость)': 'sum',\n",
        "    'Валюта':'first',\n",
        "    'Вид докум. закупки': 'first',\n",
        "\n",
        "}).reset_index()\n"
      ],
      "metadata": {
        "id": "p3U0S5m6zHbP"
      },
      "execution_count": 145,
      "outputs": []
    },
    {
      "cell_type": "code",
      "source": [
        "df_me2n_2022_2025_grouped"
      ],
      "metadata": {
        "id": "_m_Y_gHJkl3d",
        "outputId": "f950b203-a0d7-4565-bf8f-b20d1219701a",
        "colab": {
          "base_uri": "https://localhost:8080/",
          "height": 1000
        }
      },
      "execution_count": 147,
      "outputs": [
        {
          "output_type": "execute_result",
          "data": {
            "text/plain": [
              "       ВЗ-ВЗ_ПОЗ_ME2N Veri_Kaynagi2   Год Документ_закупки ЗП_Позиция  \\\n",
              "0       2100000030_10          ME2N  2023       3100002666         10   \n",
              "1       2100000031_20          ME2N  2023       3100001713         20   \n",
              "2       2100000032_10          ME2N  2023       3100005224         10   \n",
              "3       2100000033_10          ME2N  2023       3100001713         10   \n",
              "4       2100000033_20          ME2N  2024       3100007254         70   \n",
              "...               ...           ...   ...              ...        ...   \n",
              "238250        nan_190          ME2N  2023       3100004366         30   \n",
              "238251         nan_20          ME2N  2024       3100010192         20   \n",
              "238252         nan_30          ME2N  2024       3100007079         10   \n",
              "238253         nan_70          ME2N  2024       3100007079         20   \n",
              "238254        nan_nan          ME2N  2022       3400013017        280   \n",
              "\n",
              "       Дата документа    Наш знак      Ваш код  \\\n",
              "0          2023-06-20  AK-NP-1243   AK-NP-1243   \n",
              "1          2023-04-08     AKEM182      AKEM182   \n",
              "2          2023-11-28  AK-NP-1228   AK-NP-1228   \n",
              "3          2023-04-08     AKEM182      AKEM182   \n",
              "4          2024-04-03  AKNPEM2707   AKNPEM2707   \n",
              "...               ...         ...          ...   \n",
              "238250     2023-10-24     AK-7681  NTS00000121   \n",
              "238251     2024-09-20           .   2100003235   \n",
              "238252     2024-03-14      AK7777       AK7777   \n",
              "238253     2024-03-14      AK7777       AK7777   \n",
              "238254     2022-11-01       Муфты        Муфты   \n",
              "\n",
              "                             Имя поставщика Закуп. организация  ...  \\\n",
              "0        1000018840 OCAK HIRDAVAT MEK. MÜH.               2991  ...   \n",
              "1       1000000932 NGS DEMİR ÇELİK PROFİL İ               2993  ...   \n",
              "2       1000001083 GÜÇLÜ İŞ GÜVENLİĞİ SANAY               2991  ...   \n",
              "3       1000000932 NGS DEMİR ÇELİK PROFİL İ               2993  ...   \n",
              "4       300150     BAKIREVİ ELEKTRİK ELEKTR               2993  ...   \n",
              "...                                     ...                ...  ...   \n",
              "238250  1000016769 ESPADA YAPI MARKET SAN.T               2990  ...   \n",
              "238251   1000021602 TİMAŞ NAKLİYAT HAFRİYAT               2994  ...   \n",
              "238252  1000001502 HT ARYA INŞAAT- ESAT KIL               2994  ...   \n",
              "238253  1000001502 HT ARYA INŞAAT- ESAT KIL               2994  ...   \n",
              "238254  2960       TİTAN2 IC İÇTAŞ İNŞAAT A               2990  ...   \n",
              "\n",
              "                      Инвентарный номер  \\\n",
              "0                                  None   \n",
              "1                                  None   \n",
              "2                                  None   \n",
              "3                                  None   \n",
              "4                                  None   \n",
              "...                                 ...   \n",
              "238250                             None   \n",
              "238251                             None   \n",
              "238252                             None   \n",
              "238253                             None   \n",
              "238254  AKU.0120.01UGT.0.NW.TB0022(C02)   \n",
              "\n",
              "                                 Наименование RU  \\\n",
              "0       Вентилятор осевой напольный Master DF 30   \n",
              "1              Полоса стальная 4х40 оцинкованная   \n",
              "2                        Перчатки рабочие из х/б   \n",
              "3              Полоса стальная 4х40 оцинкованная   \n",
              "4       ДЕРЖАТЕЛЬ ДЛЯ ШИН ЗАЗЕМЛЕНИЯ ОЦИН.BLK-40   \n",
              "...                                          ...   \n",
              "238250                 СМАЗКА КАУЧУКОВАЯ OKSELLO   \n",
              "238251                    МОТОРИН ЕВРО ДИЗЕЛЬНЫЙ   \n",
              "238252        ВЕНТИЛЯТОР 129655-44740 ДЛЯ YANMAR   \n",
              "238253             ПРОКЛАДКА YANMAR 119802-11870   \n",
              "238254           Гайка стопорная LNM24х3.0DEXTRA   \n",
              "\n",
              "                                 Наименование TR Объем заказа  \\\n",
              "0                AKSİYAL YER FANI MASTER DF 30 P        4.000   \n",
              "1                    ÇELİK ŞERİT 4х40 GALVANİZLİ     5768.100   \n",
              "2                              İŞ ELDİVENİ PAMUK     5000.000   \n",
              "3                    ÇELİK ŞERİT 4х40 GALVANİZLİ     6098.400   \n",
              "4        TOPRAKLAMA KROŞESİ GLV BLK-40 BAKIR EVI      300.000   \n",
              "...                                          ...          ...   \n",
              "238250                       GRES KAUÇUK OKSELLO        1.000   \n",
              "238251                        MOTORİN EURO DİZEL      606.730   \n",
              "238252  SOĞUTMA FANI 129655-44740 YANMAR MOTOR I        4.000   \n",
              "238253       NOZZLE PROTECTOR ANMAR 119802-11870        4.000   \n",
              "238254             KİLİT SOMUNU LNM24X3,0 DEXTRA  9226538.875   \n",
              "\n",
              "       еще поставить (количество) Складская ЕИ  Количество в СЕИ  \\\n",
              "0                           0.000           ШТ             4.000   \n",
              "1                           0.000           КГ          5768.100   \n",
              "2                           0.000           ШТ          5000.000   \n",
              "3                           0.000           КГ          6098.400   \n",
              "4                           0.000           ШТ           300.000   \n",
              "...                           ...          ...               ...   \n",
              "238250                      0.000           КГ            14.000   \n",
              "238251                      0.000            Л           606.730   \n",
              "238252                      0.000           ШТ             4.000   \n",
              "238253                      0.000           ШТ             4.000   \n",
              "238254                 889666.904           ШТ       9402379.173   \n",
              "\n",
              "        Еще для поставки (стоимость) Валюта  Вид докум. закупки  \n",
              "0                       0.000000e+00    USD                ZSUP  \n",
              "1                       0.000000e+00    USD                ZSUP  \n",
              "2                       0.000000e+00    TRY                ZSUP  \n",
              "3                       0.000000e+00    USD                ZSUP  \n",
              "4                       0.000000e+00    USD                ZSUP  \n",
              "...                              ...    ...                 ...  \n",
              "238250                  0.000000e+00    USD                ZSUP  \n",
              "238251                  0.000000e+00    TRY                ZSUP  \n",
              "238252                  0.000000e+00    USD                ZSUP  \n",
              "238253                  0.000000e+00    USD                ZSUP  \n",
              "238254                  1.349381e+08    USD                ZT1C  \n",
              "\n",
              "[238255 rows x 23 columns]"
            ],
            "text/html": [
              "\n",
              "  <div id=\"df-19e005ea-d4b3-4e36-9457-23e864bd383f\" class=\"colab-df-container\">\n",
              "    <div>\n",
              "<style scoped>\n",
              "    .dataframe tbody tr th:only-of-type {\n",
              "        vertical-align: middle;\n",
              "    }\n",
              "\n",
              "    .dataframe tbody tr th {\n",
              "        vertical-align: top;\n",
              "    }\n",
              "\n",
              "    .dataframe thead th {\n",
              "        text-align: right;\n",
              "    }\n",
              "</style>\n",
              "<table border=\"1\" class=\"dataframe\">\n",
              "  <thead>\n",
              "    <tr style=\"text-align: right;\">\n",
              "      <th></th>\n",
              "      <th>ВЗ-ВЗ_ПОЗ_ME2N</th>\n",
              "      <th>Veri_Kaynagi2</th>\n",
              "      <th>Год</th>\n",
              "      <th>Документ_закупки</th>\n",
              "      <th>ЗП_Позиция</th>\n",
              "      <th>Дата документа</th>\n",
              "      <th>Наш знак</th>\n",
              "      <th>Ваш код</th>\n",
              "      <th>Имя поставщика</th>\n",
              "      <th>Закуп. организация</th>\n",
              "      <th>...</th>\n",
              "      <th>Инвентарный номер</th>\n",
              "      <th>Наименование RU</th>\n",
              "      <th>Наименование TR</th>\n",
              "      <th>Объем заказа</th>\n",
              "      <th>еще поставить (количество)</th>\n",
              "      <th>Складская ЕИ</th>\n",
              "      <th>Количество в СЕИ</th>\n",
              "      <th>Еще для поставки (стоимость)</th>\n",
              "      <th>Валюта</th>\n",
              "      <th>Вид докум. закупки</th>\n",
              "    </tr>\n",
              "  </thead>\n",
              "  <tbody>\n",
              "    <tr>\n",
              "      <th>0</th>\n",
              "      <td>2100000030_10</td>\n",
              "      <td>ME2N</td>\n",
              "      <td>2023</td>\n",
              "      <td>3100002666</td>\n",
              "      <td>10</td>\n",
              "      <td>2023-06-20</td>\n",
              "      <td>AK-NP-1243</td>\n",
              "      <td>AK-NP-1243</td>\n",
              "      <td>1000018840 OCAK HIRDAVAT MEK. MÜH.</td>\n",
              "      <td>2991</td>\n",
              "      <td>...</td>\n",
              "      <td>None</td>\n",
              "      <td>Вентилятор осевой напольный Master DF 30</td>\n",
              "      <td>AKSİYAL YER FANI MASTER DF 30 P</td>\n",
              "      <td>4.000</td>\n",
              "      <td>0.000</td>\n",
              "      <td>ШТ</td>\n",
              "      <td>4.000</td>\n",
              "      <td>0.000000e+00</td>\n",
              "      <td>USD</td>\n",
              "      <td>ZSUP</td>\n",
              "    </tr>\n",
              "    <tr>\n",
              "      <th>1</th>\n",
              "      <td>2100000031_20</td>\n",
              "      <td>ME2N</td>\n",
              "      <td>2023</td>\n",
              "      <td>3100001713</td>\n",
              "      <td>20</td>\n",
              "      <td>2023-04-08</td>\n",
              "      <td>AKEM182</td>\n",
              "      <td>AKEM182</td>\n",
              "      <td>1000000932 NGS DEMİR ÇELİK PROFİL İ</td>\n",
              "      <td>2993</td>\n",
              "      <td>...</td>\n",
              "      <td>None</td>\n",
              "      <td>Полоса стальная 4х40 оцинкованная</td>\n",
              "      <td>ÇELİK ŞERİT 4х40 GALVANİZLİ</td>\n",
              "      <td>5768.100</td>\n",
              "      <td>0.000</td>\n",
              "      <td>КГ</td>\n",
              "      <td>5768.100</td>\n",
              "      <td>0.000000e+00</td>\n",
              "      <td>USD</td>\n",
              "      <td>ZSUP</td>\n",
              "    </tr>\n",
              "    <tr>\n",
              "      <th>2</th>\n",
              "      <td>2100000032_10</td>\n",
              "      <td>ME2N</td>\n",
              "      <td>2023</td>\n",
              "      <td>3100005224</td>\n",
              "      <td>10</td>\n",
              "      <td>2023-11-28</td>\n",
              "      <td>AK-NP-1228</td>\n",
              "      <td>AK-NP-1228</td>\n",
              "      <td>1000001083 GÜÇLÜ İŞ GÜVENLİĞİ SANAY</td>\n",
              "      <td>2991</td>\n",
              "      <td>...</td>\n",
              "      <td>None</td>\n",
              "      <td>Перчатки рабочие из х/б</td>\n",
              "      <td>İŞ ELDİVENİ PAMUK</td>\n",
              "      <td>5000.000</td>\n",
              "      <td>0.000</td>\n",
              "      <td>ШТ</td>\n",
              "      <td>5000.000</td>\n",
              "      <td>0.000000e+00</td>\n",
              "      <td>TRY</td>\n",
              "      <td>ZSUP</td>\n",
              "    </tr>\n",
              "    <tr>\n",
              "      <th>3</th>\n",
              "      <td>2100000033_10</td>\n",
              "      <td>ME2N</td>\n",
              "      <td>2023</td>\n",
              "      <td>3100001713</td>\n",
              "      <td>10</td>\n",
              "      <td>2023-04-08</td>\n",
              "      <td>AKEM182</td>\n",
              "      <td>AKEM182</td>\n",
              "      <td>1000000932 NGS DEMİR ÇELİK PROFİL İ</td>\n",
              "      <td>2993</td>\n",
              "      <td>...</td>\n",
              "      <td>None</td>\n",
              "      <td>Полоса стальная 4х40 оцинкованная</td>\n",
              "      <td>ÇELİK ŞERİT 4х40 GALVANİZLİ</td>\n",
              "      <td>6098.400</td>\n",
              "      <td>0.000</td>\n",
              "      <td>КГ</td>\n",
              "      <td>6098.400</td>\n",
              "      <td>0.000000e+00</td>\n",
              "      <td>USD</td>\n",
              "      <td>ZSUP</td>\n",
              "    </tr>\n",
              "    <tr>\n",
              "      <th>4</th>\n",
              "      <td>2100000033_20</td>\n",
              "      <td>ME2N</td>\n",
              "      <td>2024</td>\n",
              "      <td>3100007254</td>\n",
              "      <td>70</td>\n",
              "      <td>2024-04-03</td>\n",
              "      <td>AKNPEM2707</td>\n",
              "      <td>AKNPEM2707</td>\n",
              "      <td>300150     BAKIREVİ ELEKTRİK ELEKTR</td>\n",
              "      <td>2993</td>\n",
              "      <td>...</td>\n",
              "      <td>None</td>\n",
              "      <td>ДЕРЖАТЕЛЬ ДЛЯ ШИН ЗАЗЕМЛЕНИЯ ОЦИН.BLK-40</td>\n",
              "      <td>TOPRAKLAMA KROŞESİ GLV BLK-40 BAKIR EVI</td>\n",
              "      <td>300.000</td>\n",
              "      <td>0.000</td>\n",
              "      <td>ШТ</td>\n",
              "      <td>300.000</td>\n",
              "      <td>0.000000e+00</td>\n",
              "      <td>USD</td>\n",
              "      <td>ZSUP</td>\n",
              "    </tr>\n",
              "    <tr>\n",
              "      <th>...</th>\n",
              "      <td>...</td>\n",
              "      <td>...</td>\n",
              "      <td>...</td>\n",
              "      <td>...</td>\n",
              "      <td>...</td>\n",
              "      <td>...</td>\n",
              "      <td>...</td>\n",
              "      <td>...</td>\n",
              "      <td>...</td>\n",
              "      <td>...</td>\n",
              "      <td>...</td>\n",
              "      <td>...</td>\n",
              "      <td>...</td>\n",
              "      <td>...</td>\n",
              "      <td>...</td>\n",
              "      <td>...</td>\n",
              "      <td>...</td>\n",
              "      <td>...</td>\n",
              "      <td>...</td>\n",
              "      <td>...</td>\n",
              "      <td>...</td>\n",
              "    </tr>\n",
              "    <tr>\n",
              "      <th>238250</th>\n",
              "      <td>nan_190</td>\n",
              "      <td>ME2N</td>\n",
              "      <td>2023</td>\n",
              "      <td>3100004366</td>\n",
              "      <td>30</td>\n",
              "      <td>2023-10-24</td>\n",
              "      <td>AK-7681</td>\n",
              "      <td>NTS00000121</td>\n",
              "      <td>1000016769 ESPADA YAPI MARKET SAN.T</td>\n",
              "      <td>2990</td>\n",
              "      <td>...</td>\n",
              "      <td>None</td>\n",
              "      <td>СМАЗКА КАУЧУКОВАЯ OKSELLO</td>\n",
              "      <td>GRES KAUÇUK OKSELLO</td>\n",
              "      <td>1.000</td>\n",
              "      <td>0.000</td>\n",
              "      <td>КГ</td>\n",
              "      <td>14.000</td>\n",
              "      <td>0.000000e+00</td>\n",
              "      <td>USD</td>\n",
              "      <td>ZSUP</td>\n",
              "    </tr>\n",
              "    <tr>\n",
              "      <th>238251</th>\n",
              "      <td>nan_20</td>\n",
              "      <td>ME2N</td>\n",
              "      <td>2024</td>\n",
              "      <td>3100010192</td>\n",
              "      <td>20</td>\n",
              "      <td>2024-09-20</td>\n",
              "      <td>.</td>\n",
              "      <td>2100003235</td>\n",
              "      <td>1000021602 TİMAŞ NAKLİYAT HAFRİYAT</td>\n",
              "      <td>2994</td>\n",
              "      <td>...</td>\n",
              "      <td>None</td>\n",
              "      <td>МОТОРИН ЕВРО ДИЗЕЛЬНЫЙ</td>\n",
              "      <td>MOTORİN EURO DİZEL</td>\n",
              "      <td>606.730</td>\n",
              "      <td>0.000</td>\n",
              "      <td>Л</td>\n",
              "      <td>606.730</td>\n",
              "      <td>0.000000e+00</td>\n",
              "      <td>TRY</td>\n",
              "      <td>ZSUP</td>\n",
              "    </tr>\n",
              "    <tr>\n",
              "      <th>238252</th>\n",
              "      <td>nan_30</td>\n",
              "      <td>ME2N</td>\n",
              "      <td>2024</td>\n",
              "      <td>3100007079</td>\n",
              "      <td>10</td>\n",
              "      <td>2024-03-14</td>\n",
              "      <td>AK7777</td>\n",
              "      <td>AK7777</td>\n",
              "      <td>1000001502 HT ARYA INŞAAT- ESAT KIL</td>\n",
              "      <td>2994</td>\n",
              "      <td>...</td>\n",
              "      <td>None</td>\n",
              "      <td>ВЕНТИЛЯТОР 129655-44740 ДЛЯ YANMAR</td>\n",
              "      <td>SOĞUTMA FANI 129655-44740 YANMAR MOTOR I</td>\n",
              "      <td>4.000</td>\n",
              "      <td>0.000</td>\n",
              "      <td>ШТ</td>\n",
              "      <td>4.000</td>\n",
              "      <td>0.000000e+00</td>\n",
              "      <td>USD</td>\n",
              "      <td>ZSUP</td>\n",
              "    </tr>\n",
              "    <tr>\n",
              "      <th>238253</th>\n",
              "      <td>nan_70</td>\n",
              "      <td>ME2N</td>\n",
              "      <td>2024</td>\n",
              "      <td>3100007079</td>\n",
              "      <td>20</td>\n",
              "      <td>2024-03-14</td>\n",
              "      <td>AK7777</td>\n",
              "      <td>AK7777</td>\n",
              "      <td>1000001502 HT ARYA INŞAAT- ESAT KIL</td>\n",
              "      <td>2994</td>\n",
              "      <td>...</td>\n",
              "      <td>None</td>\n",
              "      <td>ПРОКЛАДКА YANMAR 119802-11870</td>\n",
              "      <td>NOZZLE PROTECTOR ANMAR 119802-11870</td>\n",
              "      <td>4.000</td>\n",
              "      <td>0.000</td>\n",
              "      <td>ШТ</td>\n",
              "      <td>4.000</td>\n",
              "      <td>0.000000e+00</td>\n",
              "      <td>USD</td>\n",
              "      <td>ZSUP</td>\n",
              "    </tr>\n",
              "    <tr>\n",
              "      <th>238254</th>\n",
              "      <td>nan_nan</td>\n",
              "      <td>ME2N</td>\n",
              "      <td>2022</td>\n",
              "      <td>3400013017</td>\n",
              "      <td>280</td>\n",
              "      <td>2022-11-01</td>\n",
              "      <td>Муфты</td>\n",
              "      <td>Муфты</td>\n",
              "      <td>2960       TİTAN2 IC İÇTAŞ İNŞAAT A</td>\n",
              "      <td>2990</td>\n",
              "      <td>...</td>\n",
              "      <td>AKU.0120.01UGT.0.NW.TB0022(C02)</td>\n",
              "      <td>Гайка стопорная LNM24х3.0DEXTRA</td>\n",
              "      <td>KİLİT SOMUNU LNM24X3,0 DEXTRA</td>\n",
              "      <td>9226538.875</td>\n",
              "      <td>889666.904</td>\n",
              "      <td>ШТ</td>\n",
              "      <td>9402379.173</td>\n",
              "      <td>1.349381e+08</td>\n",
              "      <td>USD</td>\n",
              "      <td>ZT1C</td>\n",
              "    </tr>\n",
              "  </tbody>\n",
              "</table>\n",
              "<p>238255 rows × 23 columns</p>\n",
              "</div>\n",
              "    <div class=\"colab-df-buttons\">\n",
              "\n",
              "  <div class=\"colab-df-container\">\n",
              "    <button class=\"colab-df-convert\" onclick=\"convertToInteractive('df-19e005ea-d4b3-4e36-9457-23e864bd383f')\"\n",
              "            title=\"Convert this dataframe to an interactive table.\"\n",
              "            style=\"display:none;\">\n",
              "\n",
              "  <svg xmlns=\"http://www.w3.org/2000/svg\" height=\"24px\" viewBox=\"0 -960 960 960\">\n",
              "    <path d=\"M120-120v-720h720v720H120Zm60-500h600v-160H180v160Zm220 220h160v-160H400v160Zm0 220h160v-160H400v160ZM180-400h160v-160H180v160Zm440 0h160v-160H620v160ZM180-180h160v-160H180v160Zm440 0h160v-160H620v160Z\"/>\n",
              "  </svg>\n",
              "    </button>\n",
              "\n",
              "  <style>\n",
              "    .colab-df-container {\n",
              "      display:flex;\n",
              "      gap: 12px;\n",
              "    }\n",
              "\n",
              "    .colab-df-convert {\n",
              "      background-color: #E8F0FE;\n",
              "      border: none;\n",
              "      border-radius: 50%;\n",
              "      cursor: pointer;\n",
              "      display: none;\n",
              "      fill: #1967D2;\n",
              "      height: 32px;\n",
              "      padding: 0 0 0 0;\n",
              "      width: 32px;\n",
              "    }\n",
              "\n",
              "    .colab-df-convert:hover {\n",
              "      background-color: #E2EBFA;\n",
              "      box-shadow: 0px 1px 2px rgba(60, 64, 67, 0.3), 0px 1px 3px 1px rgba(60, 64, 67, 0.15);\n",
              "      fill: #174EA6;\n",
              "    }\n",
              "\n",
              "    .colab-df-buttons div {\n",
              "      margin-bottom: 4px;\n",
              "    }\n",
              "\n",
              "    [theme=dark] .colab-df-convert {\n",
              "      background-color: #3B4455;\n",
              "      fill: #D2E3FC;\n",
              "    }\n",
              "\n",
              "    [theme=dark] .colab-df-convert:hover {\n",
              "      background-color: #434B5C;\n",
              "      box-shadow: 0px 1px 3px 1px rgba(0, 0, 0, 0.15);\n",
              "      filter: drop-shadow(0px 1px 2px rgba(0, 0, 0, 0.3));\n",
              "      fill: #FFFFFF;\n",
              "    }\n",
              "  </style>\n",
              "\n",
              "    <script>\n",
              "      const buttonEl =\n",
              "        document.querySelector('#df-19e005ea-d4b3-4e36-9457-23e864bd383f button.colab-df-convert');\n",
              "      buttonEl.style.display =\n",
              "        google.colab.kernel.accessAllowed ? 'block' : 'none';\n",
              "\n",
              "      async function convertToInteractive(key) {\n",
              "        const element = document.querySelector('#df-19e005ea-d4b3-4e36-9457-23e864bd383f');\n",
              "        const dataTable =\n",
              "          await google.colab.kernel.invokeFunction('convertToInteractive',\n",
              "                                                    [key], {});\n",
              "        if (!dataTable) return;\n",
              "\n",
              "        const docLinkHtml = 'Like what you see? Visit the ' +\n",
              "          '<a target=\"_blank\" href=https://colab.research.google.com/notebooks/data_table.ipynb>data table notebook</a>'\n",
              "          + ' to learn more about interactive tables.';\n",
              "        element.innerHTML = '';\n",
              "        dataTable['output_type'] = 'display_data';\n",
              "        await google.colab.output.renderOutput(dataTable, element);\n",
              "        const docLink = document.createElement('div');\n",
              "        docLink.innerHTML = docLinkHtml;\n",
              "        element.appendChild(docLink);\n",
              "      }\n",
              "    </script>\n",
              "  </div>\n",
              "\n",
              "\n",
              "    <div id=\"df-c77ff124-8130-48ae-88d8-6a5ba32414c2\">\n",
              "      <button class=\"colab-df-quickchart\" onclick=\"quickchart('df-c77ff124-8130-48ae-88d8-6a5ba32414c2')\"\n",
              "                title=\"Suggest charts\"\n",
              "                style=\"display:none;\">\n",
              "\n",
              "<svg xmlns=\"http://www.w3.org/2000/svg\" height=\"24px\"viewBox=\"0 0 24 24\"\n",
              "     width=\"24px\">\n",
              "    <g>\n",
              "        <path d=\"M19 3H5c-1.1 0-2 .9-2 2v14c0 1.1.9 2 2 2h14c1.1 0 2-.9 2-2V5c0-1.1-.9-2-2-2zM9 17H7v-7h2v7zm4 0h-2V7h2v10zm4 0h-2v-4h2v4z\"/>\n",
              "    </g>\n",
              "</svg>\n",
              "      </button>\n",
              "\n",
              "<style>\n",
              "  .colab-df-quickchart {\n",
              "      --bg-color: #E8F0FE;\n",
              "      --fill-color: #1967D2;\n",
              "      --hover-bg-color: #E2EBFA;\n",
              "      --hover-fill-color: #174EA6;\n",
              "      --disabled-fill-color: #AAA;\n",
              "      --disabled-bg-color: #DDD;\n",
              "  }\n",
              "\n",
              "  [theme=dark] .colab-df-quickchart {\n",
              "      --bg-color: #3B4455;\n",
              "      --fill-color: #D2E3FC;\n",
              "      --hover-bg-color: #434B5C;\n",
              "      --hover-fill-color: #FFFFFF;\n",
              "      --disabled-bg-color: #3B4455;\n",
              "      --disabled-fill-color: #666;\n",
              "  }\n",
              "\n",
              "  .colab-df-quickchart {\n",
              "    background-color: var(--bg-color);\n",
              "    border: none;\n",
              "    border-radius: 50%;\n",
              "    cursor: pointer;\n",
              "    display: none;\n",
              "    fill: var(--fill-color);\n",
              "    height: 32px;\n",
              "    padding: 0;\n",
              "    width: 32px;\n",
              "  }\n",
              "\n",
              "  .colab-df-quickchart:hover {\n",
              "    background-color: var(--hover-bg-color);\n",
              "    box-shadow: 0 1px 2px rgba(60, 64, 67, 0.3), 0 1px 3px 1px rgba(60, 64, 67, 0.15);\n",
              "    fill: var(--button-hover-fill-color);\n",
              "  }\n",
              "\n",
              "  .colab-df-quickchart-complete:disabled,\n",
              "  .colab-df-quickchart-complete:disabled:hover {\n",
              "    background-color: var(--disabled-bg-color);\n",
              "    fill: var(--disabled-fill-color);\n",
              "    box-shadow: none;\n",
              "  }\n",
              "\n",
              "  .colab-df-spinner {\n",
              "    border: 2px solid var(--fill-color);\n",
              "    border-color: transparent;\n",
              "    border-bottom-color: var(--fill-color);\n",
              "    animation:\n",
              "      spin 1s steps(1) infinite;\n",
              "  }\n",
              "\n",
              "  @keyframes spin {\n",
              "    0% {\n",
              "      border-color: transparent;\n",
              "      border-bottom-color: var(--fill-color);\n",
              "      border-left-color: var(--fill-color);\n",
              "    }\n",
              "    20% {\n",
              "      border-color: transparent;\n",
              "      border-left-color: var(--fill-color);\n",
              "      border-top-color: var(--fill-color);\n",
              "    }\n",
              "    30% {\n",
              "      border-color: transparent;\n",
              "      border-left-color: var(--fill-color);\n",
              "      border-top-color: var(--fill-color);\n",
              "      border-right-color: var(--fill-color);\n",
              "    }\n",
              "    40% {\n",
              "      border-color: transparent;\n",
              "      border-right-color: var(--fill-color);\n",
              "      border-top-color: var(--fill-color);\n",
              "    }\n",
              "    60% {\n",
              "      border-color: transparent;\n",
              "      border-right-color: var(--fill-color);\n",
              "    }\n",
              "    80% {\n",
              "      border-color: transparent;\n",
              "      border-right-color: var(--fill-color);\n",
              "      border-bottom-color: var(--fill-color);\n",
              "    }\n",
              "    90% {\n",
              "      border-color: transparent;\n",
              "      border-bottom-color: var(--fill-color);\n",
              "    }\n",
              "  }\n",
              "</style>\n",
              "\n",
              "      <script>\n",
              "        async function quickchart(key) {\n",
              "          const quickchartButtonEl =\n",
              "            document.querySelector('#' + key + ' button');\n",
              "          quickchartButtonEl.disabled = true;  // To prevent multiple clicks.\n",
              "          quickchartButtonEl.classList.add('colab-df-spinner');\n",
              "          try {\n",
              "            const charts = await google.colab.kernel.invokeFunction(\n",
              "                'suggestCharts', [key], {});\n",
              "          } catch (error) {\n",
              "            console.error('Error during call to suggestCharts:', error);\n",
              "          }\n",
              "          quickchartButtonEl.classList.remove('colab-df-spinner');\n",
              "          quickchartButtonEl.classList.add('colab-df-quickchart-complete');\n",
              "        }\n",
              "        (() => {\n",
              "          let quickchartButtonEl =\n",
              "            document.querySelector('#df-c77ff124-8130-48ae-88d8-6a5ba32414c2 button');\n",
              "          quickchartButtonEl.style.display =\n",
              "            google.colab.kernel.accessAllowed ? 'block' : 'none';\n",
              "        })();\n",
              "      </script>\n",
              "    </div>\n",
              "\n",
              "  <div id=\"id_d3bc76a1-a3eb-4c39-8f73-5818d8146a42\">\n",
              "    <style>\n",
              "      .colab-df-generate {\n",
              "        background-color: #E8F0FE;\n",
              "        border: none;\n",
              "        border-radius: 50%;\n",
              "        cursor: pointer;\n",
              "        display: none;\n",
              "        fill: #1967D2;\n",
              "        height: 32px;\n",
              "        padding: 0 0 0 0;\n",
              "        width: 32px;\n",
              "      }\n",
              "\n",
              "      .colab-df-generate:hover {\n",
              "        background-color: #E2EBFA;\n",
              "        box-shadow: 0px 1px 2px rgba(60, 64, 67, 0.3), 0px 1px 3px 1px rgba(60, 64, 67, 0.15);\n",
              "        fill: #174EA6;\n",
              "      }\n",
              "\n",
              "      [theme=dark] .colab-df-generate {\n",
              "        background-color: #3B4455;\n",
              "        fill: #D2E3FC;\n",
              "      }\n",
              "\n",
              "      [theme=dark] .colab-df-generate:hover {\n",
              "        background-color: #434B5C;\n",
              "        box-shadow: 0px 1px 3px 1px rgba(0, 0, 0, 0.15);\n",
              "        filter: drop-shadow(0px 1px 2px rgba(0, 0, 0, 0.3));\n",
              "        fill: #FFFFFF;\n",
              "      }\n",
              "    </style>\n",
              "    <button class=\"colab-df-generate\" onclick=\"generateWithVariable('df_me2n_2022_2025_grouped')\"\n",
              "            title=\"Generate code using this dataframe.\"\n",
              "            style=\"display:none;\">\n",
              "\n",
              "  <svg xmlns=\"http://www.w3.org/2000/svg\" height=\"24px\"viewBox=\"0 0 24 24\"\n",
              "       width=\"24px\">\n",
              "    <path d=\"M7,19H8.4L18.45,9,17,7.55,7,17.6ZM5,21V16.75L18.45,3.32a2,2,0,0,1,2.83,0l1.4,1.43a1.91,1.91,0,0,1,.58,1.4,1.91,1.91,0,0,1-.58,1.4L9.25,21ZM18.45,9,17,7.55Zm-12,3A5.31,5.31,0,0,0,4.9,8.1,5.31,5.31,0,0,0,1,6.5,5.31,5.31,0,0,0,4.9,4.9,5.31,5.31,0,0,0,6.5,1,5.31,5.31,0,0,0,8.1,4.9,5.31,5.31,0,0,0,12,6.5,5.46,5.46,0,0,0,6.5,12Z\"/>\n",
              "  </svg>\n",
              "    </button>\n",
              "    <script>\n",
              "      (() => {\n",
              "      const buttonEl =\n",
              "        document.querySelector('#id_d3bc76a1-a3eb-4c39-8f73-5818d8146a42 button.colab-df-generate');\n",
              "      buttonEl.style.display =\n",
              "        google.colab.kernel.accessAllowed ? 'block' : 'none';\n",
              "\n",
              "      buttonEl.onclick = () => {\n",
              "        google.colab.notebook.generateWithVariable('df_me2n_2022_2025_grouped');\n",
              "      }\n",
              "      })();\n",
              "    </script>\n",
              "  </div>\n",
              "\n",
              "    </div>\n",
              "  </div>\n"
            ],
            "application/vnd.google.colaboratory.intrinsic+json": {
              "type": "dataframe",
              "variable_name": "df_me2n_2022_2025_grouped"
            }
          },
          "metadata": {},
          "execution_count": 147
        }
      ]
    },
    {
      "cell_type": "code",
      "source": [],
      "metadata": {
        "id": "OuJX4iLRsm6B"
      },
      "execution_count": null,
      "outputs": []
    },
    {
      "cell_type": "code",
      "source": [],
      "metadata": {
        "id": "MQe72mLjra5b"
      },
      "execution_count": null,
      "outputs": []
    }
  ],
  "metadata": {
    "colab": {
      "name": "Welcome To Colab",
      "provenance": [],
      "include_colab_link": true
    },
    "kernelspec": {
      "display_name": "Python 3",
      "name": "python3"
    }
  },
  "nbformat": 4,
  "nbformat_minor": 0
}