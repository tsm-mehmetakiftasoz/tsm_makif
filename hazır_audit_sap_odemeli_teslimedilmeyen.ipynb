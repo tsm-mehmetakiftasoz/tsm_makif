{
  "cells": [
    {
      "cell_type": "markdown",
      "metadata": {
        "id": "view-in-github",
        "colab_type": "text"
      },
      "source": [
        "<a href=\"https://colab.research.google.com/github/tsm-mehmetakiftasoz/tsm_makif/blob/main/haz%C4%B1r_audit_sap_odemeli_teslimedilmeyen.ipynb\" target=\"_parent\"><img src=\"https://colab.research.google.com/assets/colab-badge.svg\" alt=\"Open In Colab\"/></a>"
      ]
    },
    {
      "cell_type": "markdown",
      "source": [
        "Bütün raporlar csv formatında aktarılmalı aşağıdaki yorumlar dikkate alınarak kayıtlar aktarılmalı.\n",
        "-ME2N Raporları yıllara göre (ME2N_2022,ME2N_2023,ME2N_2024,ME2N_2025) şeklinde alınmalı .Variant MAKIF rapor olmalı\n",
        "-ME5A Raporları yıllara göre (ME5A_2022,ME5A_2023,ME5A_2024,ME5A_2025). Variant MAKIF rapor olmalı\n",
        "-MM60 material_list bilgileri makif_report variantında alınmalı\n",
        "-MKVZ Raporunda 2990,2991,2992,2993,2994 seçilip alınmalı\n",
        "-Nikolai Abinin tablosunda ilk satır(sutun isimlerinin üstündeki satır) ve en alttaki boş satırlar silinmeli daha sonra kaydedilmeli.\n",
        "-ZMM059 raporları yıllara göre alınmalı ancak 2024 de çok fazla veri olduğu için 2024 4 parçaya bölünmeli isimler ve tarihler şöyle olmalı\n",
        "\"ZMM059_2022\" 01.01.2022-31.12.2022\n",
        "\"ZMM059_2023\" 01.01.2023-31.12.2023\n",
        "\"ZMM059_2025\" 01.01.2025-31.12.2025\n",
        "\"ZMM059_2024-1\" 01.01.2024-23.04.2024\n",
        "\"ZMM059_2024-2\" 24.04.2024-15.07.2024\n",
        "\"ZMM059_2024-3\" 16.07.2024-29.11.2024\n",
        "\"ZMM059_2024-4\" 01.12.2024-31.12.2024\n",
        "\n",
        "---\n",
        "Все отчёты должны экспортироваться в формате CSV с учётом следующих комментариев при переносе данных.\n",
        "\n",
        "Отчёты ME2N должны быть разделены по годам (ME2N_2022, ME2N_2023, ME2N_2024, ME2N_2025). Вариант отчёта — MAKIF.\n",
        "\n",
        "Отчёты ME5A должны быть разделены по годам (ME5A_2022, ME5A_2023, ME5A_2024, ME5A_2025). Вариант отчёта — MAKIF.\n",
        "\n",
        "Информация material_list из MM60 должна быть получена в варианте отчёта makif_report.\n",
        "\n",
        "В отчёте MKVZ следует выбрать и получить данные по номерам 2990, 2991, 2992, 2993, 2994.\n",
        "\n",
        "В таблице Николая Аби удалить первую строку (строку над названиями столбцов) и все пустые строки внизу, затем сохранить.\n",
        "\n",
        "Отчёты ZMM059 должны быть получены по годам, однако из-за большого объёма данных за 2024 год, его следует разделить на 4 части с такими именами и датами:\n",
        "\"ZMM059_2022\" 01.01.2022 - 31.12.2022\n",
        "\"ZMM059_2023\" 01.01.2023 - 31.12.2023\n",
        "\"ZMM059_2025\" 01.01.2025 - 31.12.2025\n",
        "\"ZMM059_2024-1\" 01.01.2024 - 23.04.2024\n",
        "\"ZMM059_2024-2\" 24.04.2024 - 15.07.2024\n",
        "\"ZMM059_2024-3\" 16.07.2024 - 29.11.2024\n",
        "\"ZMM059_2024-4\" 01.12.2024 - 31.12.2024\n"
      ],
      "metadata": {
        "id": "Xgh-iCOtlWAW"
      }
    },
    {
      "cell_type": "code",
      "source": [
        "!pip install pandas\n",
        "!pip install xlsxwriter"
      ],
      "metadata": {
        "colab": {
          "base_uri": "https://localhost:8080/"
        },
        "id": "beq5UMfF9Ve9",
        "outputId": "90776742-9746-447f-fe8e-74ba2e3fa709"
      },
      "execution_count": 1,
      "outputs": [
        {
          "output_type": "stream",
          "name": "stdout",
          "text": [
            "Requirement already satisfied: pandas in /usr/local/lib/python3.11/dist-packages (2.2.2)\n",
            "Requirement already satisfied: numpy>=1.23.2 in /usr/local/lib/python3.11/dist-packages (from pandas) (2.0.2)\n",
            "Requirement already satisfied: python-dateutil>=2.8.2 in /usr/local/lib/python3.11/dist-packages (from pandas) (2.9.0.post0)\n",
            "Requirement already satisfied: pytz>=2020.1 in /usr/local/lib/python3.11/dist-packages (from pandas) (2025.2)\n",
            "Requirement already satisfied: tzdata>=2022.7 in /usr/local/lib/python3.11/dist-packages (from pandas) (2025.2)\n",
            "Requirement already satisfied: six>=1.5 in /usr/local/lib/python3.11/dist-packages (from python-dateutil>=2.8.2->pandas) (1.17.0)\n",
            "Collecting xlsxwriter\n",
            "  Downloading XlsxWriter-3.2.3-py3-none-any.whl.metadata (2.7 kB)\n",
            "Downloading XlsxWriter-3.2.3-py3-none-any.whl (169 kB)\n",
            "\u001b[2K   \u001b[90m━━━━━━━━━━━━━━━━━━━━━━━━━━━━━━━━━━━━━━━━\u001b[0m \u001b[32m169.4/169.4 kB\u001b[0m \u001b[31m5.2 MB/s\u001b[0m eta \u001b[36m0:00:00\u001b[0m\n",
            "\u001b[?25hInstalling collected packages: xlsxwriter\n",
            "Successfully installed xlsxwriter-3.2.3\n"
          ]
        }
      ]
    },
    {
      "cell_type": "code",
      "source": [
        "import pandas as pd\n",
        "import numpy as np\n",
        "from google.colab import files"
      ],
      "metadata": {
        "id": "8v4T7G2Z9bvr"
      },
      "execution_count": 2,
      "outputs": []
    },
    {
      "cell_type": "code",
      "source": [
        "def temizle_ve_cevir(x):\n",
        "    try:\n",
        "        return str(int(float(x)))\n",
        "    except:\n",
        "        return str(x)\n"
      ],
      "metadata": {
        "id": "9O2SlTgQGRuz"
      },
      "execution_count": 3,
      "outputs": []
    },
    {
      "cell_type": "code",
      "source": [
        "def str_to_float(s):\n",
        "    if pd.isna(s):\n",
        "        return None\n",
        "    return float(s.replace(\".\", \"\").replace(\",\", \".\"))\n"
      ],
      "metadata": {
        "id": "81Dbu91aQ6qM"
      },
      "execution_count": 4,
      "outputs": []
    },
    {
      "cell_type": "code",
      "source": [
        "#ZMM059 Dosyalarını yüklemek\n",
        "df_zmm059_2022 = pd.read_csv('/content/ZMM059_2022.csv', sep=None, engine='python')\n",
        "df_zmm059_2023 = pd.read_csv('/content/ZMM059_2023.csv', sep=None, engine='python')\n",
        "df_zmm059_2024_1 = pd.read_csv('/content/ZMM059_2024-1.csv', sep=None, engine='python')\n",
        "df_zmm059_2024_2 = pd.read_csv('/content/ZMM059_2024-2.csv', sep=None, engine='python')\n",
        "df_zmm059_2024_3 = pd.read_csv('/content/ZMM059_2024-3.csv', sep=None, engine='python')\n",
        "df_zmm059_2024_4 = pd.read_csv('/content/ZMM059_2024-4.csv', sep=None, engine='python')\n",
        "df_zmm059_2025 = pd.read_csv('/content/ZMM059_2025.csv', sep=None, engine='python')\n",
        "\n",
        "\n",
        "# sep=None will automatically detect the delimiter\n",
        "# engine='python' is slower but more robust for complex cases"
      ],
      "metadata": {
        "id": "2yaQ1vxA9mkV"
      },
      "execution_count": 5,
      "outputs": []
    },
    {
      "cell_type": "code",
      "source": [
        "#ilk sutuna yıl yazdırma zmm059\n",
        "df_zmm059_2022[\"YIL\"] = \"2022\"\n",
        "cols = [\"YIL\"] + [col for col in df_zmm059_2022.columns if col != \"YIL\"]\n",
        "df_zmm059_2022 = df_zmm059_2022[cols]\n",
        "#\n",
        "df_zmm059_2023[\"YIL\"] = \"2023\"\n",
        "cols = [\"YIL\"] + [col for col in df_zmm059_2023.columns if col != \"YIL\"]\n",
        "df_zmm059_2023 = df_zmm059_2023[cols]\n",
        "#\n",
        "df_zmm059_2025[\"YIL\"] = \"2025\"\n",
        "cols = [\"YIL\"] + [col for col in df_zmm059_2025.columns if col != \"YIL\"]\n",
        "df_zmm059_2025 = df_zmm059_2025[cols]\n",
        "#\n",
        "df_zmm059_2024_1[\"YIL\"] = \"2024\"\n",
        "cols = [\"YIL\"] + [col for col in df_zmm059_2024_1.columns if col != \"YIL\"]\n",
        "df_zmm059_2024_1 = df_zmm059_2024_1[cols]\n",
        "#\n",
        "df_zmm059_2024_2[\"YIL\"] = \"2024\"\n",
        "cols = [\"YIL\"] + [col for col in df_zmm059_2024_2.columns if col != \"YIL\"]\n",
        "df_zmm059_2024_2 = df_zmm059_2024_2[cols]\n",
        "#\n",
        "df_zmm059_2024_3[\"YIL\"] = \"2024\"\n",
        "cols = [\"YIL\"] + [col for col in df_zmm059_2024_3.columns if col != \"YIL\"]\n",
        "df_zmm059_2024_3 = df_zmm059_2024_3[cols]\n",
        "#\n",
        "df_zmm059_2024_4[\"YIL\"] = \"2024\"\n",
        "cols = [\"YIL\"] + [col for col in df_zmm059_2024_4.columns if col != \"YIL\"]\n",
        "df_zmm059_2024_4 = df_zmm059_2024_4[cols]"
      ],
      "metadata": {
        "id": "Tz2mCC7D-zag"
      },
      "execution_count": 6,
      "outputs": []
    },
    {
      "cell_type": "code",
      "source": [
        " #ZMM059 DataFrame'leri bir listeye topla\n",
        "dfs = [df_zmm059_2022, df_zmm059_2023, df_zmm059_2024_1, df_zmm059_2024_2, df_zmm059_2024_3, df_zmm059_2024_4, df_zmm059_2025]\n",
        "\n",
        "# Hepsini birleştir\n",
        "df_zmm059_2022_2025 = pd.concat(dfs, ignore_index=True)\n",
        "#df_zmm059_2022_2025_ = pd.concat(dfs, ignore_index=True)\n",
        "# Kontrol için ilk satırlara bak\n",
        "#print(df_zmm059_2022_2025.tail(5))"
      ],
      "metadata": {
        "id": "GguzSjLk-21A"
      },
      "execution_count": 7,
      "outputs": []
    },
    {
      "cell_type": "code",
      "source": [
        "df_zmm059_2022_2025.rename(columns={'﻿Документ закупки': 'Документ_закупки'}, inplace=True)\n",
        "df_zmm059_2022_2025.columns.values[2] = \"Зп_Поз\""
      ],
      "metadata": {
        "id": "yP4A68V6IVvs"
      },
      "execution_count": 8,
      "outputs": []
    },
    {
      "cell_type": "code",
      "source": [
        "df_zmm059_2022_2025[\"ZP-ZPPOZ_zmm059\"] = (\n",
        "    df_zmm059_2022_2025[\"Документ_закупки\"].astype(str) + \"_\" + df_zmm059_2022_2025[\"Зп_Поз\"].astype(str)\n",
        ")"
      ],
      "metadata": {
        "id": "uHX6IyfIA_8j"
      },
      "execution_count": 9,
      "outputs": []
    },
    {
      "cell_type": "code",
      "source": [
        "#ME2N Raporlarını Yüklemek\n",
        "df_me2n_2022 = pd.read_csv('/content/ME2N_2022.csv', sep=None, engine='python')\n",
        "df_me2n_2023 = pd.read_csv('/content/ME2N_2023.csv', sep=None, engine='python')\n",
        "df_me2n_2024 = pd.read_csv('/content/ME2N_2024.csv', sep=None, engine='python')\n",
        "df_me2n_2025 = pd.read_csv('/content/ME2N_2025.csv', sep=None, engine='python')\n"
      ],
      "metadata": {
        "id": "o7Q3JK66-0WI"
      },
      "execution_count": 10,
      "outputs": []
    },
    {
      "cell_type": "code",
      "source": [
        "#ilk sutuna yıl yazdırma me2n\n",
        "df_me2n_2022[\"Год\"] = \"2022\"\n",
        "cols = [\"Год\"] + [col for col in df_me2n_2022.columns if col != \"Год\"]\n",
        "df_me2n_2022 = df_me2n_2022[cols]\n",
        "#\n",
        "df_me2n_2023[\"Год\"] = \"2023\"\n",
        "cols = [\"Год\"] + [col for col in df_me2n_2023.columns if col != \"Год\"]\n",
        "df_me2n_2023 = df_me2n_2023[cols]\n",
        "#\n",
        "df_me2n_2024[\"Год\"] = \"2024\"\n",
        "cols = [\"Год\"] + [col for col in df_me2n_2024.columns if col != \"Год\"]\n",
        "#\n",
        "df_me2n_2025[\"Год\"] = \"2025\"\n",
        "cols = [\"Год\"] + [col for col in df_me2n_2025.columns if col != \"Год\"]\n",
        "#"
      ],
      "metadata": {
        "id": "nVIh6W1eFZh8"
      },
      "execution_count": 11,
      "outputs": []
    },
    {
      "cell_type": "code",
      "source": [
        "#ME2N DataFrame'leri bir listeye topla\n",
        "dfs2 = [df_me2n_2022, df_me2n_2023, df_me2n_2024, df_me2n_2025]\n",
        "\n",
        "# Hepsini birleştir\n",
        "df_me2n_2022_2025 = pd.concat(dfs2, ignore_index=True)\n",
        "#df_me2n_2022_2025_ = pd.concat(dfs2, ignore_index=True)\n",
        "# Kontrol için ilk satırlara bak\n",
        "#print(df_me2n_2022_2025.tail(5))"
      ],
      "metadata": {
        "id": "kQNH_k1NFdm9"
      },
      "execution_count": 12,
      "outputs": []
    },
    {
      "cell_type": "code",
      "source": [
        "df_me2n_2022_2025.rename(columns={'﻿Документ закупки': 'Документ_закупки'}, inplace=True)\n",
        "df_me2n_2022_2025.columns.values[2] = \"Зп_Поз\""
      ],
      "metadata": {
        "id": "4M8wtWB9F5Uj"
      },
      "execution_count": 13,
      "outputs": []
    },
    {
      "cell_type": "code",
      "source": [
        "df_me2n_2022_2025[\"ZP-ZPPOZ_me2n\"] = (\n",
        "    df_me2n_2022_2025[\"Документ_закупки\"].astype(str) + \"_\" + df_me2n_2022_2025[\"Зп_Поз\"].astype(str)\n",
        ")"
      ],
      "metadata": {
        "id": "oaj7wngbGBbT"
      },
      "execution_count": 14,
      "outputs": []
    },
    {
      "cell_type": "code",
      "source": [
        "#me5a raporunu yüklemek\n",
        "df_me5a_2022 = pd.read_csv('/content/ME5A_2022.csv', sep=None, engine='python')\n",
        "df_me5a_2023 = pd.read_csv('/content/ME5A_2023.csv', sep=None, engine='python')\n",
        "df_me5a_2024 = pd.read_csv('/content/ME5A_2024.csv', sep=None, engine='python')\n",
        "df_me5a_2025 = pd.read_csv('/content/ME5A_2025.csv', sep=None, engine='python')\n",
        "\n",
        "\n",
        "# sep=None will automatically detect the delimiter\n",
        "# engine='python' is slower but more robust for complex cases"
      ],
      "metadata": {
        "id": "_Qo5YnJQ-2cg"
      },
      "execution_count": 15,
      "outputs": []
    },
    {
      "cell_type": "code",
      "source": [
        "#ME2N DataFrame'leri bir listeye topla\n",
        "dfs3 = [df_me5a_2022, df_me5a_2023, df_me5a_2024, df_me5a_2025]\n",
        "\n",
        "# Hepsini birleştir\n",
        "df_me5a_2022_2025 = pd.concat(dfs3, ignore_index=True)\n",
        "#df_me2n_2022_2025_ = pd.concat(dfs2, ignore_index=True)\n",
        "# Kontrol için ilk satırlara bak\n",
        "#print(df_me2n_2022_2025.tail(5))"
      ],
      "metadata": {
        "id": "fdocEJ-EFkVK"
      },
      "execution_count": 16,
      "outputs": []
    },
    {
      "cell_type": "code",
      "source": [
        "#tedarikçi isim dosyasını yüklemek\n",
        "df_tedarikci_listesi = pd.read_csv('/content/tedarikci_isim.csv', sep=None, engine='python')"
      ],
      "metadata": {
        "id": "lwVA7WKkHK75"
      },
      "execution_count": 17,
      "outputs": []
    },
    {
      "cell_type": "code",
      "source": [
        "#material listesini yüklemek\n",
        "df_material_list = pd.read_csv('/content/material_list.csv', sep=None, engine='python')"
      ],
      "metadata": {
        "id": "2D5IDc20Hzq2"
      },
      "execution_count": 18,
      "outputs": []
    },
    {
      "cell_type": "code",
      "source": [
        "#odeme listesini yüklemek\n",
        "df_odeme_tablosu = pd.read_csv('/content/odeme_tablosu.csv', sep=';', engine='python')"
      ],
      "metadata": {
        "id": "wgt14Hwknjmb"
      },
      "execution_count": 19,
      "outputs": []
    },
    {
      "cell_type": "code",
      "source": [
        "df_calisilan = df_zmm059_2022_2025.copy()"
      ],
      "metadata": {
        "id": "E8ABFbTdE_p0"
      },
      "execution_count": 20,
      "outputs": []
    },
    {
      "cell_type": "code",
      "source": [
        "#df_calisilan.columns"
      ],
      "metadata": {
        "id": "ijckSf_kuObf"
      },
      "execution_count": 21,
      "outputs": []
    },
    {
      "cell_type": "code",
      "source": [
        "sutun_listesi_str_calisilan = [\"Документ_закупки\",\"Зп_Поз\",\"Материал\",\"Заявка\",\"Позиция заявки\",\n",
        "                 \"Создал\"\n",
        "                 ]"
      ],
      "metadata": {
        "id": "9b5JhWDhW2eA"
      },
      "execution_count": 22,
      "outputs": []
    },
    {
      "cell_type": "code",
      "source": [
        "for s in sutun_listesi_str_calisilan:\n",
        "    # Apply the robust cleaning and conversion function\n",
        "    df_calisilan[s] = df_calisilan[s].apply(temizle_ve_cevir)"
      ],
      "metadata": {
        "id": "yJSb2XcUWzdk"
      },
      "execution_count": 23,
      "outputs": []
    },
    {
      "cell_type": "code",
      "source": [
        "sutun_listesi_str_me2n = [\"Документ_закупки\",\"Зп_Поз\",\"Материал\",\"Заявка\",\"Материал\"\n",
        "                 ]"
      ],
      "metadata": {
        "id": "-tQZG5blahB-"
      },
      "execution_count": 24,
      "outputs": []
    },
    {
      "cell_type": "code",
      "source": [
        "for s in sutun_listesi_str_me2n:\n",
        "    # Apply the robust cleaning and conversion function\n",
        "    df_me2n_2022_2025[s] = df_me2n_2022_2025[s].apply(temizle_ve_cevir)"
      ],
      "metadata": {
        "id": "skZsFusLaaPb"
      },
      "execution_count": 25,
      "outputs": []
    },
    {
      "cell_type": "code",
      "source": [
        "#df_calisilan.tail(2)"
      ],
      "metadata": {
        "id": "tFoJfgGzWfdF"
      },
      "execution_count": 26,
      "outputs": []
    },
    {
      "cell_type": "code",
      "source": [
        "df_calisilan[\"ZP-ZPPOZ_zmm059\"] = (\n",
        "    df_calisilan[\"Документ_закупки\"].astype(str) + \"_\" + df_calisilan[\"Зп_Поз\"].astype(str)\n",
        ")"
      ],
      "metadata": {
        "id": "6UgwfL28HzAo"
      },
      "execution_count": 27,
      "outputs": []
    },
    {
      "cell_type": "code",
      "source": [
        "df_calisilan[\"B3-B3POZ\"] = (\n",
        "    df_calisilan[\"Заявка\"].astype(str) + \"_\" + df_calisilan[\"Позиция заявки\"].astype(str)\n",
        ")"
      ],
      "metadata": {
        "id": "hV345n2cIDy_"
      },
      "execution_count": 28,
      "outputs": []
    },
    {
      "cell_type": "code",
      "source": [
        "df_me5a_2022_2025[\"B3-B3POZ\"] = (\n",
        "    df_me5a_2022_2025[\"﻿Заявка\"].astype(str) + \"_\" + df_me5a_2022_2025[\"Позиция заявки\"].astype(str)\n",
        ")"
      ],
      "metadata": {
        "id": "dURPQxh2JtvJ"
      },
      "execution_count": 29,
      "outputs": []
    },
    {
      "cell_type": "code",
      "source": [
        "df_calisilan[\"ZP-ZPPOZ_zmm059\"] = (\n",
        "    df_calisilan[\"Документ_закупки\"].astype(str) + \"_\" + df_calisilan[\"Зп_Поз\"].astype(str)\n",
        ")"
      ],
      "metadata": {
        "id": "ByBwSmm4Jw8x"
      },
      "execution_count": 30,
      "outputs": []
    },
    {
      "cell_type": "code",
      "source": [
        "#df_calisilan.tail(2)"
      ],
      "metadata": {
        "id": "fTIP97WWKDHj"
      },
      "execution_count": 31,
      "outputs": []
    },
    {
      "cell_type": "code",
      "source": [
        "df_calisilan.rename(columns={'YIL': 'ГОД'}, inplace=True)\n",
        "df_tedarikci_listesi.rename(columns={'kod': 'Поставщик'}, inplace=True)"
      ],
      "metadata": {
        "id": "sYRrM-hmKHf7"
      },
      "execution_count": 32,
      "outputs": []
    },
    {
      "cell_type": "code",
      "source": [
        "adetler = df_calisilan[\"B3-B3POZ\"].value_counts()"
      ],
      "metadata": {
        "id": "9NbCuXGTKVYm"
      },
      "execution_count": 33,
      "outputs": []
    },
    {
      "cell_type": "code",
      "source": [
        "mukerrer_kodlar = adetler[adetler > 1].index"
      ],
      "metadata": {
        "id": "h3hyTL6uKX1v"
      },
      "execution_count": 34,
      "outputs": []
    },
    {
      "cell_type": "code",
      "source": [
        "silinmesi_gerekenler = df_calisilan[\n",
        "    (df_calisilan[\"B3-B3POZ\"].isin(mukerrer_kodlar)) &\n",
        "    (df_calisilan[\"Документ_закупки\"].isna())\n",
        "\n",
        "]"
      ],
      "metadata": {
        "id": "7sbgKSmcKZD4"
      },
      "execution_count": 35,
      "outputs": []
    },
    {
      "cell_type": "code",
      "source": [
        "df_calisilan = df_calisilan.drop(silinmesi_gerekenler.index)"
      ],
      "metadata": {
        "id": "Zxtswj6XKaPQ"
      },
      "execution_count": 36,
      "outputs": []
    },
    {
      "cell_type": "code",
      "source": [
        "#print(f\"Kalan satır sayısı df_calısılan : {len(df_calisilan)}\")\n",
        "#print(f\"Kalan satır sayısı df_zmm059_2022_2025: {len(df_zmm059_2022_2025)}\") #burada df i değşitirmek gerek"
      ],
      "metadata": {
        "id": "2BQ7B5EQKctY"
      },
      "execution_count": 37,
      "outputs": []
    },
    {
      "cell_type": "code",
      "source": [
        "# Silmek istediğin sütunların index (pozisyon) numaraları\n",
        "#sil_indexler = [8,9,10,11,12,13,17,27,28,29,33,43,44,55,73,74,79,80,81,82,\n",
        "#                83,84,85,86,87,88,89,90,91,93,94,95,96,97,98,99,100,101,102\n",
        "#                ]  # 0'dan başlar, örneğin 2., 4. ve 6. sütun\n",
        "\n",
        "# Yeni DataFrame'i bu sütunlar hariç oluştur\n",
        "#df_calisilan = df_calisilan.drop(df_calisilan.columns[sil_indexler], axis=1)"
      ],
      "metadata": {
        "id": "PFY-PPSXKkS6"
      },
      "execution_count": 38,
      "outputs": []
    },
    {
      "cell_type": "code",
      "source": [
        "df_calisilan[\"ГОД\"] = df_calisilan[\"ГОД\"].astype(str)  # string'e çevirmek istersen\n",
        "\n",
        "# Replace NaN values with a placeholder integer (e.g., 0) before converting to int\n",
        "#df_calisilan[\"Документ_закупки\"] = df_calisilan[\"Документ_закупки\"].fillna(0).astype(int).astype(str)\n",
        "\n"
      ],
      "metadata": {
        "id": "b_wB3JauKr1b"
      },
      "execution_count": 39,
      "outputs": []
    },
    {
      "cell_type": "code",
      "source": [
        "df_calisilan[\"Поставщик\"] = df_calisilan[\"Поставщик\"].apply(temizle_ve_cevir)"
      ],
      "metadata": {
        "id": "BexDMl0YKsRy"
      },
      "execution_count": 40,
      "outputs": []
    },
    {
      "cell_type": "code",
      "source": [
        "# Tedarikçi sözlüğünü yine string anahtarlara göre oluştur\n",
        "tedarikci_dict = dict(zip(df_tedarikci_listesi.iloc[:, 0].astype(str), df_tedarikci_listesi.iloc[:, 1]))\n",
        "\n",
        "# Eşleştirme\n",
        "df_calisilan[\"имя_поставщика\"] = df_calisilan[\"Поставщик\"].map(tedarikci_dict)"
      ],
      "metadata": {
        "id": "U4yYXbzGKvH6"
      },
      "execution_count": 41,
      "outputs": []
    },
    {
      "cell_type": "code",
      "source": [
        "df_me5a_2022_2025[\"Материал\"] = df_me5a_2022_2025[\"Материал\"].apply(temizle_ve_cevir)"
      ],
      "metadata": {
        "id": "IxgonLH6Kw16"
      },
      "execution_count": 42,
      "outputs": []
    },
    {
      "cell_type": "code",
      "source": [
        "df_calisilan[\"Материал_B3\"] = df_calisilan[\"Материал\"].apply(temizle_ve_cevir)"
      ],
      "metadata": {
        "id": "3B87KIUHKyBi"
      },
      "execution_count": 43,
      "outputs": []
    },
    {
      "cell_type": "code",
      "source": [
        " # Sözlük oluştur (anahtar: B3-B3POZ, değer: Материал)\n",
        "b3_to_material_dict = dict(zip(df_me5a_2022_2025[\"B3-B3POZ\"].astype(str), df_me5a_2022_2025[\"Материал\"]))\n"
      ],
      "metadata": {
        "id": "f-t5iOi5K065"
      },
      "execution_count": 44,
      "outputs": []
    },
    {
      "cell_type": "code",
      "source": [
        "# B3-B3POZ'e göre eşleşen Материал'ları getir (yeni bir sütun olarak)\n",
        "df_calisilan[\"Материал_yeni\"] = df_calisilan[\"B3-B3POZ\"].astype(str).map(b3_to_material_dict)"
      ],
      "metadata": {
        "id": "ZBKr9r8BK5OU"
      },
      "execution_count": 45,
      "outputs": []
    },
    {
      "cell_type": "code",
      "source": [
        "# Sadece boş olan Материал hücrelerini, eşleşen değerle doldur\n",
        "df_calisilan[\"Материал_B3\"] = df_calisilan[\"Материал_B3\"].fillna(df_calisilan[\"Материал_yeni\"])\n",
        "# Geçici sütunu silelim\n",
        "df_calisilan.drop(columns=[\"Материал_yeni\"], inplace=True)"
      ],
      "metadata": {
        "id": "gt64jscbK857"
      },
      "execution_count": 46,
      "outputs": []
    },
    {
      "cell_type": "code",
      "source": [
        "# Sözlükleri oluştur\n",
        "ru_dict = dict(zip(df_material_list.iloc[:, 0].astype(str), df_material_list.iloc[:, 1]))\n",
        "tr_dict = dict(zip(df_material_list.iloc[:, 0].astype(str), df_material_list.iloc[:, 2]))\n",
        "\n",
        "# Eşleştir\n",
        "df_calisilan[\"RU Наименование\"] = df_calisilan[\"Материал_B3\"].astype(str).map(ru_dict)\n",
        "df_calisilan[\"TR Наименование\"] = df_calisilan[\"Материал_B3\"].astype(str).map(tr_dict)\n"
      ],
      "metadata": {
        "id": "5gnv5bEpK-jr"
      },
      "execution_count": 47,
      "outputs": []
    },
    {
      "cell_type": "code",
      "source": [
        "df_calisilan[\"Документ_закупки\"] = df_calisilan[\"Документ_закупки\"].replace(\"\", pd.NA)\n",
        "df_calisilan[\"Зп_Поз\"] = df_calisilan[\"Зп_Поз\"].replace(\"\", pd.NA)\n",
        "df_calisilan[\"Зп_Поз\"] = df_calisilan[\"Зп_Поз\"].replace(\" \", pd.NA)\n",
        "df_calisilan[\"Зп_Поз\"] = df_calisilan[\"Зп_Поз\"].replace(0, pd.NA)"
      ],
      "metadata": {
        "id": "eUcvQl9cLAXD"
      },
      "execution_count": 48,
      "outputs": []
    },
    {
      "cell_type": "code",
      "source": [
        "df_me2n_2022_2025['veri_kaynagi1'] = 'ME2N'"
      ],
      "metadata": {
        "id": "ebJMByoWuaIp"
      },
      "execution_count": 49,
      "outputs": []
    },
    {
      "cell_type": "code",
      "source": [
        "#df_me2n_2022_2025.columns"
      ],
      "metadata": {
        "id": "WEppMN-xwLy0"
      },
      "execution_count": 50,
      "outputs": []
    },
    {
      "cell_type": "code",
      "source": [
        "df_me2n_2022_2025 = df_me2n_2022_2025.rename(columns={\n",
        "    'Материал': 'Материал_ЗП',\n",
        "    #'eski_sutun_adi2': 'yeni_sutun_adi2'\n",
        "})\n"
      ],
      "metadata": {
        "id": "eg6BRqeuwDJB"
      },
      "execution_count": 51,
      "outputs": []
    },
    {
      "cell_type": "code",
      "source": [
        "df_yazdir = df_me2n_2022_2025[[\"ZP-ZPPOZ_me2n\"]].copy()"
      ],
      "metadata": {
        "id": "orvcG2tyLc1k"
      },
      "execution_count": 52,
      "outputs": []
    },
    {
      "cell_type": "code",
      "source": [
        "me2n_sutunlar = [\n",
        "    \"veri_kaynagi1\",\"Год\",\"Дата документа\",\"Документ_закупки\",\"Зп_Поз\",\"Индикатор удаления\",\n",
        "    \"Наш знак\",\"Ваш код\",\n",
        "    \"Заявка\",\"Материал_ЗП\",\"Наименование RU\",\"Наименование TR\",\n",
        "    \"Объем заказа\",\"еще поставить (количество)\",\"Складская ЕИ\",\"Еще для поставки (стоимость)\",\"Валюта\",\n",
        "    \"Инвентарный номер\",\"Имя поставщика\"\n",
        "]\n"
      ],
      "metadata": {
        "id": "ER4-9zstLDCj"
      },
      "execution_count": 53,
      "outputs": []
    },
    {
      "cell_type": "code",
      "source": [
        "# 1. ME2N'den doğrudan aktarma\n",
        "def aktar_me2n(df_me2n, df_yazdir, secilen_sutunlar):\n",
        "    for sutun in secilen_sutunlar:\n",
        "        if sutun in df_me2n.columns:\n",
        "            df_yazdir[sutun] = df_me2n[sutun]\n",
        "        else:\n",
        "            print(f\"Uyarı: '{sutun}' df_me2n_2022_2025 içinde bulunamadı.\")\n",
        "    return df_yazdir"
      ],
      "metadata": {
        "id": "vT1Lfe5BLNte"
      },
      "execution_count": 54,
      "outputs": []
    },
    {
      "cell_type": "code",
      "source": [
        "df_yazdir = aktar_me2n(df_me2n_2022_2025, df_yazdir, me2n_sutunlar)"
      ],
      "metadata": {
        "id": "6gISsdaVLO0F"
      },
      "execution_count": 55,
      "outputs": []
    },
    {
      "cell_type": "code",
      "source": [
        "df_calisilan.columns"
      ],
      "metadata": {
        "colab": {
          "base_uri": "https://localhost:8080/"
        },
        "id": "EPjJ6KfEw6R9",
        "outputId": "92ede612-4231-4872-cd98-031551cf8aff"
      },
      "execution_count": 56,
      "outputs": [
        {
          "output_type": "execute_result",
          "data": {
            "text/plain": [
              "Index(['ГОД', 'Документ_закупки', 'Зп_Поз', 'Индикатор удаления', 'неполн.',\n",
              "       'Материал', 'Заявка', 'Позиция заявки', 'Материалы тур.',\n",
              "       'Материалы анг.', 'Инвентарный номер в SAS', 'Количество ЗП',\n",
              "       'Минимальная цена ЗП', 'Минимальная цена ЗП.1', 'Минимальная цена ЗП.2',\n",
              "       'Единица ЗП', 'Цена нетто ЗП', 'Итого цена нетто', 'Валюта ЗП',\n",
              "       'Вид докум. закупки', 'Дата создания', 'Дата поставки',\n",
              "       'Дата доставки, одобренная Поставщиком', 'Группа закупок',\n",
              "       'Название ГрЗакупок', 'БЕ', 'Название фирмы', 'Закуп. организация',\n",
              "       'Название ЗакупОрг', 'Завод', 'Имя 1', 'Поставщик', 'Группа материалов',\n",
              "       'Название группы', 'Краткий текст', 'Создал', 'Вид докум. закупки.1',\n",
              "       'Обозначение ВидДокум', 'Дата создания.1', 'Создал.1',\n",
              "       'Группа закупок.1', 'Название ГрЗакупок.1', 'ЕИ заказа на постав.',\n",
              "       'Единица цены', 'Цена заказа нетто', 'Стоимость брутто', 'Валюта',\n",
              "       'Недопоставленное количество', 'Количество поставки', 'Сумма брутто',\n",
              "       'Валюта.1', 'Количество по счету', 'Дата проводки',\n",
              "       'Количество по счету.1', 'Валюта.2', 'Остаток количества по счету',\n",
              "       'Остаток суммы по счету', 'Автор Внутреннего заказа',\n",
              "       'Количество по счету.2', 'Значок \"поставка завершена\"',\n",
              "       'Дата контракта', 'Дата вступления в силу контракта',\n",
              "       'Дата окончания действия договора', 'Склад', '№ комиссии',\n",
              "       'ZP-ZPPOZ_zmm059', 'B3-B3POZ', 'имя_поставщика', 'Материал_B3',\n",
              "       'RU Наименование', 'TR Наименование'],\n",
              "      dtype='object')"
            ]
          },
          "metadata": {},
          "execution_count": 56
        }
      ]
    },
    {
      "cell_type": "code",
      "source": [],
      "metadata": {
        "id": "S95q6jDtxezU"
      },
      "execution_count": 56,
      "outputs": []
    },
    {
      "cell_type": "code",
      "source": [
        "df_calisilan = df_calisilan.rename(columns={\n",
        "    'Материал': 'Материал_ВЗ',\n",
        "    'Значок \"поставка завершена\"': 'Значок -поставка завершена-'\n",
        "})"
      ],
      "metadata": {
        "id": "hUHKlxbaLRW2"
      },
      "execution_count": 57,
      "outputs": []
    },
    {
      "cell_type": "code",
      "source": [
        "df_calisilan['veri_kaynagi2'] = 'ZMM059'"
      ],
      "metadata": {
        "id": "T1LAlCL4t1Lh"
      },
      "execution_count": 58,
      "outputs": []
    },
    {
      "cell_type": "code",
      "source": [
        "calisilan_sutunlar = [\n",
        "    \"veri_kaynagi2\",\"B3-B3POZ\",\"Позиция заявки\",\"неполн.\",\"Создал\",\n",
        "    \"Группа закупок\",\"Название ГрЗакупок\" ,\"БЕ\",\"Название фирмы\",\"Группа материалов\",\"Название группы\",\n",
        "    \"Автор Внутреннего заказа\",\"Закуп. организация\", \"Завод\",\n",
        "    \"Значок -поставка завершена-\" ,\"Склад\"\n",
        "]\n"
      ],
      "metadata": {
        "id": "GC2FRNR-LpDB"
      },
      "execution_count": 59,
      "outputs": []
    },
    {
      "cell_type": "code",
      "source": [
        "#df_calisilan.tail(2)"
      ],
      "metadata": {
        "id": "L_oy9d2WMFQs"
      },
      "execution_count": 60,
      "outputs": []
    },
    {
      "cell_type": "code",
      "source": [
        "def aktar_calisilan(df_calisilan, df_yazdir, secilen_sutunlar):\n",
        "    ortak_anahtar_calisilan = \"ZP-ZPPOZ_zmm059\"\n",
        "    ortak_anahtar_yazdir = \"ZP-ZPPOZ_me2n\"\n",
        "\n",
        "    for sutun in secilen_sutunlar:\n",
        "        if sutun in df_calisilan.columns:\n",
        "            # Mapping için dictionary oluştur\n",
        "            dict_sutun = df_calisilan.set_index(ortak_anahtar_calisilan)[sutun].to_dict()\n",
        "            # df_yazdir’a map ile aktar\n",
        "            df_yazdir[sutun] = df_yazdir[ortak_anahtar_yazdir].map(dict_sutun)\n",
        "        else:\n",
        "            print(f\"Uyarı: '{sutun}' df_calisilan içinde bulunamadı.\")\n",
        "\n",
        "    return df_yazdir\n"
      ],
      "metadata": {
        "id": "Ickdrhz5Lq3I"
      },
      "execution_count": 61,
      "outputs": []
    },
    {
      "cell_type": "code",
      "source": [
        "#df_yazdir.head(2)"
      ],
      "metadata": {
        "id": "41gfQHbiM-8E"
      },
      "execution_count": 62,
      "outputs": []
    },
    {
      "cell_type": "code",
      "source": [
        "df_yazdir = aktar_calisilan(df_calisilan, df_yazdir, calisilan_sutunlar)"
      ],
      "metadata": {
        "id": "kV8xN6hjLr6R"
      },
      "execution_count": 63,
      "outputs": []
    },
    {
      "cell_type": "code",
      "source": [
        "#df_yazdir.tail(2)\n",
        "df_yazdir.columns"
      ],
      "metadata": {
        "colab": {
          "base_uri": "https://localhost:8080/"
        },
        "id": "1SbGP-XdbuXs",
        "outputId": "67898bc5-fa5f-4db8-8d90-ce4dcdfe49ec"
      },
      "execution_count": 64,
      "outputs": [
        {
          "output_type": "execute_result",
          "data": {
            "text/plain": [
              "Index(['ZP-ZPPOZ_me2n', 'veri_kaynagi1', 'Год', 'Дата документа',\n",
              "       'Документ_закупки', 'Зп_Поз', 'Индикатор удаления', 'Наш знак',\n",
              "       'Ваш код', 'Заявка', 'Материал_ЗП', 'Наименование RU',\n",
              "       'Наименование TR', 'Объем заказа', 'еще поставить (количество)',\n",
              "       'Складская ЕИ', 'Еще для поставки (стоимость)', 'Валюта',\n",
              "       'Инвентарный номер', 'Имя поставщика', 'veri_kaynagi2', 'B3-B3POZ',\n",
              "       'Позиция заявки', 'неполн.', 'Создал', 'Группа закупок',\n",
              "       'Название ГрЗакупок', 'БЕ', 'Название фирмы', 'Группа материалов',\n",
              "       'Название группы', 'Автор Внутреннего заказа', 'Закуп. организация',\n",
              "       'Завод', 'Значок -поставка завершена-', 'Склад'],\n",
              "      dtype='object')"
            ]
          },
          "metadata": {},
          "execution_count": 64
        }
      ]
    },
    {
      "cell_type": "code",
      "source": [
        "#df_me2n_2022_2025.tail(2)"
      ],
      "metadata": {
        "id": "DQ-XCBj4v-7C"
      },
      "execution_count": 65,
      "outputs": []
    },
    {
      "cell_type": "markdown",
      "source": [
        "audite yönelik"
      ],
      "metadata": {
        "id": "IyXP_gNcoTRc"
      }
    },
    {
      "cell_type": "code",
      "source": [
        "df_audit = df_yazdir.copy()\n"
      ],
      "metadata": {
        "id": "lPbj4XMh0jHZ"
      },
      "execution_count": 66,
      "outputs": []
    },
    {
      "cell_type": "code",
      "source": [
        "sutun_listesi_str_audit = [\"Закуп. организация\",\"БЕ\"]\n"
      ],
      "metadata": {
        "id": "s_owo0Ip1JpJ"
      },
      "execution_count": 67,
      "outputs": []
    },
    {
      "cell_type": "code",
      "source": [
        "for s in sutun_listesi_str_audit:\n",
        "    # Apply the robust cleaning and conversion function\n",
        "    df_audit[s] = df_audit[s].apply(temizle_ve_cevir)"
      ],
      "metadata": {
        "id": "R8RfrHSu1KoI"
      },
      "execution_count": 68,
      "outputs": []
    },
    {
      "cell_type": "code",
      "source": [
        "# Önce sayısal sütunları ',' yerine '.' ile düzeltip float yapalım\n",
        "#for col in [\"Объем заказа\", \"еще поставить (количество)\", \"Еще для поставки (стоимость)\"]:\n",
        "#    df_audit[col] = df_audit[col].astype(str).str.replace(',', '.').str.replace(' ', '')\n",
        "#    df_audit[col] = df_audit[col].str.replace('\\xa0', '')  # Boşluk karakterlerini temizle\n",
        "#    df_audit[col] = pd.to_numeric(df_audit[col], errors='coerce')"
      ],
      "metadata": {
        "id": "5XQjDs9BDocZ"
      },
      "execution_count": 69,
      "outputs": []
    },
    {
      "cell_type": "code",
      "source": [
        "columns_to_convert = [\n",
        "    \"Объем заказа\",\n",
        "    \"еще поставить (количество)\",\n",
        "    \"Еще для поставки (стоимость)\"\n",
        "]\n"
      ],
      "metadata": {
        "id": "kraSAVBtQbRi"
      },
      "execution_count": 70,
      "outputs": []
    },
    {
      "cell_type": "code",
      "source": [
        "for col in columns_to_convert:\n",
        "    df_audit[col] = df_audit[col].apply(str_to_float)\n"
      ],
      "metadata": {
        "id": "7d45btFuQdSd"
      },
      "execution_count": 71,
      "outputs": []
    },
    {
      "cell_type": "code",
      "source": [
        "#df_audit.info()"
      ],
      "metadata": {
        "id": "NKVG_F5nCv1t"
      },
      "execution_count": 72,
      "outputs": []
    },
    {
      "cell_type": "code",
      "source": [
        "df_audit_aradf = df_audit[\n",
        "    (df_audit[\"Еще для поставки (стоимость)\"] > 0) &\n",
        "    (df_audit[\"Индикатор удаления\"].isna())\n",
        "].copy()\n"
      ],
      "metadata": {
        "id": "_E0Di-N6Hqii"
      },
      "execution_count": 73,
      "outputs": []
    },
    {
      "cell_type": "code",
      "source": [
        "# Gruplama işlemi\n",
        "df_audit_teslimedilmeyen = (\n",
        "    df_audit_aradf\n",
        "    .groupby(\"Документ_закупки\", as_index=False)\n",
        "    .agg({\n",
        "        \"Закуп. организация\": \"first\",\n",
        "        \"Год\": \"first\",\n",
        "        \"Создал\": \"first\",\n",
        "        \"Наш знак\": \"first\",\n",
        "        \"Ваш код\": \"first\",\n",
        "        \"Объем заказа\": \"sum\",\n",
        "        \"еще поставить (количество)\": \"sum\",\n",
        "        \"Еще для поставки (стоимость)\": \"sum\",\n",
        "        \"Валюта\": \"first\"\n",
        "    })\n",
        ")\n"
      ],
      "metadata": {
        "id": "wF4Zxp6YCqyX"
      },
      "execution_count": 74,
      "outputs": []
    },
    {
      "cell_type": "code",
      "source": [
        "df_audit_teslimedilmeyen[\"Закуп. организация\"] = (\n",
        "    df_audit_teslimedilmeyen[\"Закуп. организация\"]\n",
        "    .replace({\n",
        "        \"2991\": \"Construction of TSM\",\n",
        "        \"2992\": \"Mechanical of TSM\",\n",
        "        \"2993\": \"Electrical of TSM\",\n",
        "        \"2994\": \"Mechanization of TSM\",\n",
        "        \"2990\": \"TSM Energy\"\n",
        "    })\n",
        ")"
      ],
      "metadata": {
        "id": "JZeRe1MQRoyl"
      },
      "execution_count": 75,
      "outputs": []
    },
    {
      "cell_type": "code",
      "source": [
        "df_audit_teslimedilmeyen.rename(columns={'Объем заказ': 'сумма Объем заказа'}, inplace=True)\n",
        "df_audit_teslimedilmeyen.rename(columns={'еще поставить (количество)': 'сумма еще поставить (количество)'}, inplace=True)\n",
        "df_audit_teslimedilmeyen.rename(columns={'Еще для поставки (стоимость)': 'сумма Еще для поставки (стоимость)'}, inplace=True)\n",
        "\n"
      ],
      "metadata": {
        "id": "FhGTd0d9I0GW"
      },
      "execution_count": 76,
      "outputs": []
    },
    {
      "cell_type": "code",
      "source": [
        "df_odeme_tablosu_aratablo = df_odeme_tablosu[[ \"Дата заявки на оплату\",\"Долг / Аванс\", \"План / Факт\",\n",
        "                                              \"Сумма USD\",\"Дата оплаты\",\"Номер в SAP \",\"Документ закупки\",\"Поставщик\"\n",
        "                                              ]].copy()\n"
      ],
      "metadata": {
        "id": "rsVMEKtdly0G"
      },
      "execution_count": 77,
      "outputs": []
    },
    {
      "cell_type": "code",
      "source": [
        "df_odeme_tablosu_aratablo.rename(columns={'Поставщик': 'Поставщик:RU/TR'}, inplace=True)\n",
        "df_odeme_tablosu_aratablo.rename(columns={'Документ закупки': 'Документ_закупки'}, inplace=True)"
      ],
      "metadata": {
        "id": "IaUrOQqbdCFj"
      },
      "execution_count": 78,
      "outputs": []
    },
    {
      "cell_type": "code",
      "source": [
        "df_odeme_tablosu_aratablo.columns"
      ],
      "metadata": {
        "id": "MbOc-81WnQIe",
        "outputId": "4c50e959-9212-4fd7-e821-6d394ed9eeb2",
        "colab": {
          "base_uri": "https://localhost:8080/"
        }
      },
      "execution_count": 79,
      "outputs": [
        {
          "output_type": "execute_result",
          "data": {
            "text/plain": [
              "Index(['Дата заявки на оплату', 'Долг / Аванс', 'План / Факт', 'Сумма USD',\n",
              "       'Дата оплаты', 'Номер в SAP ', 'Документ_закупки', 'Поставщик:RU/TR'],\n",
              "      dtype='object')"
            ]
          },
          "metadata": {},
          "execution_count": 79
        }
      ]
    },
    {
      "cell_type": "code",
      "source": [
        "# Gruplama işlemi\n",
        "df_odeme_tablosu_aratablo_2 = (\n",
        "    df_odeme_tablosu_aratablo\n",
        "    .groupby(\"Документ_закупки\", as_index=False)\n",
        "    .agg({\n",
        "        \"Дата заявки на оплату\": \"first\",\n",
        "        \"Долг / Аванс\": \"first\",\n",
        "        \"План / Факт\": \"first\",\n",
        "        \"Номер в SAP \": \"first\",\n",
        "        \"Поставщик:RU/TR\": \"first\",\n",
        "        \"Сумма USD\": \"sum\",\n",
        "\n",
        "    })\n",
        ")"
      ],
      "metadata": {
        "id": "Bx3G0-rxaX99"
      },
      "execution_count": 80,
      "outputs": []
    },
    {
      "cell_type": "code",
      "source": [
        "#df_odeme_tablosu_aratablo"
      ],
      "metadata": {
        "id": "f1X9epVsnzMh"
      },
      "execution_count": 81,
      "outputs": []
    },
    {
      "cell_type": "code",
      "source": [
        "odemedengeleceksutunlar = [\n",
        "    \"Дата заявки на оплату\", \"Долг / Аванс\", \"План / Факт\", \"Сумма USD\",\n",
        "       \"Дата оплаты\", \"Номер в SAP \",\n",
        "       'Поставщик:RU/TR'\n",
        "]"
      ],
      "metadata": {
        "id": "4WkzTijkoB1S"
      },
      "execution_count": 82,
      "outputs": []
    },
    {
      "cell_type": "code",
      "source": [
        "# Merge işlemi\n",
        "merged_audit_teslimedilmeyen_odemeli = pd.merge(df_audit_teslimedilmeyen, df_odeme_tablosu_aratablo_2, on='Документ_закупки', how='inner')  # veya how='left' ihtiyaca göre\n"
      ],
      "metadata": {
        "id": "goh0GDE7Z4ya"
      },
      "execution_count": 83,
      "outputs": []
    },
    {
      "cell_type": "code",
      "source": [
        "merged_audit_teslimedilmeyen_odemeli.head(15)"
      ],
      "metadata": {
        "id": "VuYBPNb-oF3E",
        "colab": {
          "base_uri": "https://localhost:8080/",
          "height": 852
        },
        "outputId": "4cadf42e-926d-4df1-cd21-bffc14a1fb22"
      },
      "execution_count": 87,
      "outputs": [
        {
          "output_type": "execute_result",
          "data": {
            "text/plain": [
              "   Документ_закупки   Закуп. организация   Год        Создал    Наш знак  \\\n",
              "0        3100000068  Construction of TSM  2022       EYILDIZ    AK-C-310   \n",
              "1        3100000807  Construction of TSM  2023        MSAHIN   AK-NP-737   \n",
              "2        3100000819  Construction of TSM  2023       ZDURMAZ   AK-NP-968   \n",
              "3        3100000843    Electrical of TSM  2023        MSAHIN   AK-EM-151   \n",
              "4        3100000894  Construction of TSM  2023        MSAHIN     AKNP764   \n",
              "5        3100000897  Construction of TSM  2023        MSAHIN     AKNP770   \n",
              "6        3100000907  Construction of TSM  2023       ZDURMAZ   AK -C-371   \n",
              "7        3100000922  Construction of TSM  2023       RKAYNAR   AK-NP-882   \n",
              "8        3100000926  Construction of TSM  2023        MSAHIN      AKC378   \n",
              "9        3100000942  Construction of TSM  2023       RKAYNAR  AK-NP-1221   \n",
              "10       3100001017  Construction of TSM  2023       RKAYNAR    AK-C-570   \n",
              "11       3100001135  Construction of TSM  2023       RKAYNAR   AK-NP-616   \n",
              "12       3100001205  Construction of TSM  2023  KDUVERLIOGLU  AK-NP-1508   \n",
              "13       3100001206  Construction of TSM  2023  KDUVERLIOGLU      AKC541   \n",
              "14       3100001220    Electrical of TSM  2023        MSAHIN   AK-EM-243   \n",
              "\n",
              "       Ваш код  Объем заказа  сумма еще поставить (количество)  \\\n",
              "0     AK-C-310       5750.00                             28.00   \n",
              "1    AK-NP-737          2.00                              2.00   \n",
              "2    AK-NP-968         95.00                             95.00   \n",
              "3    AK-EM-151        425.85                             81.33   \n",
              "4      AKNP764         20.00                             20.00   \n",
              "5      AKNP770         30.00                             30.00   \n",
              "6    AK -C-371        630.00                            630.00   \n",
              "7    AK-NP-882         20.00                             20.00   \n",
              "8       AKC378         72.00                             72.00   \n",
              "9   AK-NP-1221         10.00                              4.00   \n",
              "10    AK-C-570      57800.00                          31550.00   \n",
              "11   AK-NP-616        500.00                            500.00   \n",
              "12  AK-NP-1508       1250.00                            107.00   \n",
              "13      AKC541          6.00                              5.00   \n",
              "14   AK-EM-243         10.00                             10.00   \n",
              "\n",
              "    сумма Еще для поставки (стоимость) Валюта Дата заявки на оплату  \\\n",
              "0                                86.04    USD                  None   \n",
              "1                               854.12    USD            11.01.2023   \n",
              "2                             47025.00    EUR            11.01.2023   \n",
              "3                            106948.95    TRY             5.05.2023   \n",
              "4                               695.00    USD            17.01.2023   \n",
              "5                               650.00    USD            18.10.2022   \n",
              "6                             33390.00    TRY             8.05.2023   \n",
              "7                             27800.00    TRY            28.09.2023   \n",
              "8                             92160.00    TRY            21.02.2023   \n",
              "9                              5800.00    TRY             3.04.2023   \n",
              "10                            10096.00    USD            13.03.2023   \n",
              "11                             3485.00    USD             3.04.2023   \n",
              "12                              574.45    USD            21.03.2023   \n",
              "13                              476.68    USD             3.03.2023   \n",
              "14                                0.80    USD            11.03.2023   \n",
              "\n",
              "             Долг / Аванс  План / Факт  Номер в SAP  Поставщик:RU/TR  \\\n",
              "0                   Аванс  Аннулирован           NaN        Турецкие   \n",
              "1   Задолженность текущая         ФАКТ           NaN        Турецкие   \n",
              "2   Задолженность текущая         ФАКТ           NaN        Турецкие   \n",
              "3   Задолженность текущая         ФАКТ           NaN        Турецкие   \n",
              "4   Задолженность текущая         ФАКТ           NaN        Турецкие   \n",
              "5   Задолженность текущая         ФАКТ           NaN        Турецкие   \n",
              "6   Задолженность текущая         ФАКТ           NaN        Турецкие   \n",
              "7   Задолженность текущая         ФАКТ  1.000000e+11        Турецкие   \n",
              "8   Задолженность текущая         ФАКТ           NaN        Турецкие   \n",
              "9   Задолженность текущая         ФАКТ           NaN        Турецкие   \n",
              "10                  Аванс         ФАКТ           NaN        Турецкие   \n",
              "11  Задолженность текущая         ФАКТ           NaN        Турецкие   \n",
              "12  Задолженность текущая         ФАКТ           NaN        Турецкие   \n",
              "13                  Аванс         ФАКТ           NaN        Турецкие   \n",
              "14  Задолженность текущая         ФАКТ           NaN        Турецкие   \n",
              "\n",
              "              Сумма USD  \n",
              "0            19.611,65   \n",
              "1             1.007,86   \n",
              "2                #BAŞV!  \n",
              "3                #BAŞV!  \n",
              "4               820,10   \n",
              "5               737,00   \n",
              "6             1.513,58   \n",
              "7             1.198,31   \n",
              "8      #BAŞV!41.374,24   \n",
              "9            12.542,87   \n",
              "10           72.683,28   \n",
              "11           27.000,00   \n",
              "12          319.318,87   \n",
              "13  47.004,01 4.153,62   \n",
              "14     1.755,86 251,69   "
            ],
            "text/html": [
              "\n",
              "  <div id=\"df-85965add-352c-4a9c-9847-fba1499b9891\" class=\"colab-df-container\">\n",
              "    <div>\n",
              "<style scoped>\n",
              "    .dataframe tbody tr th:only-of-type {\n",
              "        vertical-align: middle;\n",
              "    }\n",
              "\n",
              "    .dataframe tbody tr th {\n",
              "        vertical-align: top;\n",
              "    }\n",
              "\n",
              "    .dataframe thead th {\n",
              "        text-align: right;\n",
              "    }\n",
              "</style>\n",
              "<table border=\"1\" class=\"dataframe\">\n",
              "  <thead>\n",
              "    <tr style=\"text-align: right;\">\n",
              "      <th></th>\n",
              "      <th>Документ_закупки</th>\n",
              "      <th>Закуп. организация</th>\n",
              "      <th>Год</th>\n",
              "      <th>Создал</th>\n",
              "      <th>Наш знак</th>\n",
              "      <th>Ваш код</th>\n",
              "      <th>Объем заказа</th>\n",
              "      <th>сумма еще поставить (количество)</th>\n",
              "      <th>сумма Еще для поставки (стоимость)</th>\n",
              "      <th>Валюта</th>\n",
              "      <th>Дата заявки на оплату</th>\n",
              "      <th>Долг / Аванс</th>\n",
              "      <th>План / Факт</th>\n",
              "      <th>Номер в SAP</th>\n",
              "      <th>Поставщик:RU/TR</th>\n",
              "      <th>Сумма USD</th>\n",
              "    </tr>\n",
              "  </thead>\n",
              "  <tbody>\n",
              "    <tr>\n",
              "      <th>0</th>\n",
              "      <td>3100000068</td>\n",
              "      <td>Construction of TSM</td>\n",
              "      <td>2022</td>\n",
              "      <td>EYILDIZ</td>\n",
              "      <td>AK-C-310</td>\n",
              "      <td>AK-C-310</td>\n",
              "      <td>5750.00</td>\n",
              "      <td>28.00</td>\n",
              "      <td>86.04</td>\n",
              "      <td>USD</td>\n",
              "      <td>None</td>\n",
              "      <td>Аванс</td>\n",
              "      <td>Аннулирован</td>\n",
              "      <td>NaN</td>\n",
              "      <td>Турецкие</td>\n",
              "      <td>19.611,65</td>\n",
              "    </tr>\n",
              "    <tr>\n",
              "      <th>1</th>\n",
              "      <td>3100000807</td>\n",
              "      <td>Construction of TSM</td>\n",
              "      <td>2023</td>\n",
              "      <td>MSAHIN</td>\n",
              "      <td>AK-NP-737</td>\n",
              "      <td>AK-NP-737</td>\n",
              "      <td>2.00</td>\n",
              "      <td>2.00</td>\n",
              "      <td>854.12</td>\n",
              "      <td>USD</td>\n",
              "      <td>11.01.2023</td>\n",
              "      <td>Задолженность текущая</td>\n",
              "      <td>ФАКТ</td>\n",
              "      <td>NaN</td>\n",
              "      <td>Турецкие</td>\n",
              "      <td>1.007,86</td>\n",
              "    </tr>\n",
              "    <tr>\n",
              "      <th>2</th>\n",
              "      <td>3100000819</td>\n",
              "      <td>Construction of TSM</td>\n",
              "      <td>2023</td>\n",
              "      <td>ZDURMAZ</td>\n",
              "      <td>AK-NP-968</td>\n",
              "      <td>AK-NP-968</td>\n",
              "      <td>95.00</td>\n",
              "      <td>95.00</td>\n",
              "      <td>47025.00</td>\n",
              "      <td>EUR</td>\n",
              "      <td>11.01.2023</td>\n",
              "      <td>Задолженность текущая</td>\n",
              "      <td>ФАКТ</td>\n",
              "      <td>NaN</td>\n",
              "      <td>Турецкие</td>\n",
              "      <td>#BAŞV!</td>\n",
              "    </tr>\n",
              "    <tr>\n",
              "      <th>3</th>\n",
              "      <td>3100000843</td>\n",
              "      <td>Electrical of TSM</td>\n",
              "      <td>2023</td>\n",
              "      <td>MSAHIN</td>\n",
              "      <td>AK-EM-151</td>\n",
              "      <td>AK-EM-151</td>\n",
              "      <td>425.85</td>\n",
              "      <td>81.33</td>\n",
              "      <td>106948.95</td>\n",
              "      <td>TRY</td>\n",
              "      <td>5.05.2023</td>\n",
              "      <td>Задолженность текущая</td>\n",
              "      <td>ФАКТ</td>\n",
              "      <td>NaN</td>\n",
              "      <td>Турецкие</td>\n",
              "      <td>#BAŞV!</td>\n",
              "    </tr>\n",
              "    <tr>\n",
              "      <th>4</th>\n",
              "      <td>3100000894</td>\n",
              "      <td>Construction of TSM</td>\n",
              "      <td>2023</td>\n",
              "      <td>MSAHIN</td>\n",
              "      <td>AKNP764</td>\n",
              "      <td>AKNP764</td>\n",
              "      <td>20.00</td>\n",
              "      <td>20.00</td>\n",
              "      <td>695.00</td>\n",
              "      <td>USD</td>\n",
              "      <td>17.01.2023</td>\n",
              "      <td>Задолженность текущая</td>\n",
              "      <td>ФАКТ</td>\n",
              "      <td>NaN</td>\n",
              "      <td>Турецкие</td>\n",
              "      <td>820,10</td>\n",
              "    </tr>\n",
              "    <tr>\n",
              "      <th>5</th>\n",
              "      <td>3100000897</td>\n",
              "      <td>Construction of TSM</td>\n",
              "      <td>2023</td>\n",
              "      <td>MSAHIN</td>\n",
              "      <td>AKNP770</td>\n",
              "      <td>AKNP770</td>\n",
              "      <td>30.00</td>\n",
              "      <td>30.00</td>\n",
              "      <td>650.00</td>\n",
              "      <td>USD</td>\n",
              "      <td>18.10.2022</td>\n",
              "      <td>Задолженность текущая</td>\n",
              "      <td>ФАКТ</td>\n",
              "      <td>NaN</td>\n",
              "      <td>Турецкие</td>\n",
              "      <td>737,00</td>\n",
              "    </tr>\n",
              "    <tr>\n",
              "      <th>6</th>\n",
              "      <td>3100000907</td>\n",
              "      <td>Construction of TSM</td>\n",
              "      <td>2023</td>\n",
              "      <td>ZDURMAZ</td>\n",
              "      <td>AK -C-371</td>\n",
              "      <td>AK -C-371</td>\n",
              "      <td>630.00</td>\n",
              "      <td>630.00</td>\n",
              "      <td>33390.00</td>\n",
              "      <td>TRY</td>\n",
              "      <td>8.05.2023</td>\n",
              "      <td>Задолженность текущая</td>\n",
              "      <td>ФАКТ</td>\n",
              "      <td>NaN</td>\n",
              "      <td>Турецкие</td>\n",
              "      <td>1.513,58</td>\n",
              "    </tr>\n",
              "    <tr>\n",
              "      <th>7</th>\n",
              "      <td>3100000922</td>\n",
              "      <td>Construction of TSM</td>\n",
              "      <td>2023</td>\n",
              "      <td>RKAYNAR</td>\n",
              "      <td>AK-NP-882</td>\n",
              "      <td>AK-NP-882</td>\n",
              "      <td>20.00</td>\n",
              "      <td>20.00</td>\n",
              "      <td>27800.00</td>\n",
              "      <td>TRY</td>\n",
              "      <td>28.09.2023</td>\n",
              "      <td>Задолженность текущая</td>\n",
              "      <td>ФАКТ</td>\n",
              "      <td>1.000000e+11</td>\n",
              "      <td>Турецкие</td>\n",
              "      <td>1.198,31</td>\n",
              "    </tr>\n",
              "    <tr>\n",
              "      <th>8</th>\n",
              "      <td>3100000926</td>\n",
              "      <td>Construction of TSM</td>\n",
              "      <td>2023</td>\n",
              "      <td>MSAHIN</td>\n",
              "      <td>AKC378</td>\n",
              "      <td>AKC378</td>\n",
              "      <td>72.00</td>\n",
              "      <td>72.00</td>\n",
              "      <td>92160.00</td>\n",
              "      <td>TRY</td>\n",
              "      <td>21.02.2023</td>\n",
              "      <td>Задолженность текущая</td>\n",
              "      <td>ФАКТ</td>\n",
              "      <td>NaN</td>\n",
              "      <td>Турецкие</td>\n",
              "      <td>#BAŞV!41.374,24</td>\n",
              "    </tr>\n",
              "    <tr>\n",
              "      <th>9</th>\n",
              "      <td>3100000942</td>\n",
              "      <td>Construction of TSM</td>\n",
              "      <td>2023</td>\n",
              "      <td>RKAYNAR</td>\n",
              "      <td>AK-NP-1221</td>\n",
              "      <td>AK-NP-1221</td>\n",
              "      <td>10.00</td>\n",
              "      <td>4.00</td>\n",
              "      <td>5800.00</td>\n",
              "      <td>TRY</td>\n",
              "      <td>3.04.2023</td>\n",
              "      <td>Задолженность текущая</td>\n",
              "      <td>ФАКТ</td>\n",
              "      <td>NaN</td>\n",
              "      <td>Турецкие</td>\n",
              "      <td>12.542,87</td>\n",
              "    </tr>\n",
              "    <tr>\n",
              "      <th>10</th>\n",
              "      <td>3100001017</td>\n",
              "      <td>Construction of TSM</td>\n",
              "      <td>2023</td>\n",
              "      <td>RKAYNAR</td>\n",
              "      <td>AK-C-570</td>\n",
              "      <td>AK-C-570</td>\n",
              "      <td>57800.00</td>\n",
              "      <td>31550.00</td>\n",
              "      <td>10096.00</td>\n",
              "      <td>USD</td>\n",
              "      <td>13.03.2023</td>\n",
              "      <td>Аванс</td>\n",
              "      <td>ФАКТ</td>\n",
              "      <td>NaN</td>\n",
              "      <td>Турецкие</td>\n",
              "      <td>72.683,28</td>\n",
              "    </tr>\n",
              "    <tr>\n",
              "      <th>11</th>\n",
              "      <td>3100001135</td>\n",
              "      <td>Construction of TSM</td>\n",
              "      <td>2023</td>\n",
              "      <td>RKAYNAR</td>\n",
              "      <td>AK-NP-616</td>\n",
              "      <td>AK-NP-616</td>\n",
              "      <td>500.00</td>\n",
              "      <td>500.00</td>\n",
              "      <td>3485.00</td>\n",
              "      <td>USD</td>\n",
              "      <td>3.04.2023</td>\n",
              "      <td>Задолженность текущая</td>\n",
              "      <td>ФАКТ</td>\n",
              "      <td>NaN</td>\n",
              "      <td>Турецкие</td>\n",
              "      <td>27.000,00</td>\n",
              "    </tr>\n",
              "    <tr>\n",
              "      <th>12</th>\n",
              "      <td>3100001205</td>\n",
              "      <td>Construction of TSM</td>\n",
              "      <td>2023</td>\n",
              "      <td>KDUVERLIOGLU</td>\n",
              "      <td>AK-NP-1508</td>\n",
              "      <td>AK-NP-1508</td>\n",
              "      <td>1250.00</td>\n",
              "      <td>107.00</td>\n",
              "      <td>574.45</td>\n",
              "      <td>USD</td>\n",
              "      <td>21.03.2023</td>\n",
              "      <td>Задолженность текущая</td>\n",
              "      <td>ФАКТ</td>\n",
              "      <td>NaN</td>\n",
              "      <td>Турецкие</td>\n",
              "      <td>319.318,87</td>\n",
              "    </tr>\n",
              "    <tr>\n",
              "      <th>13</th>\n",
              "      <td>3100001206</td>\n",
              "      <td>Construction of TSM</td>\n",
              "      <td>2023</td>\n",
              "      <td>KDUVERLIOGLU</td>\n",
              "      <td>AKC541</td>\n",
              "      <td>AKC541</td>\n",
              "      <td>6.00</td>\n",
              "      <td>5.00</td>\n",
              "      <td>476.68</td>\n",
              "      <td>USD</td>\n",
              "      <td>3.03.2023</td>\n",
              "      <td>Аванс</td>\n",
              "      <td>ФАКТ</td>\n",
              "      <td>NaN</td>\n",
              "      <td>Турецкие</td>\n",
              "      <td>47.004,01 4.153,62</td>\n",
              "    </tr>\n",
              "    <tr>\n",
              "      <th>14</th>\n",
              "      <td>3100001220</td>\n",
              "      <td>Electrical of TSM</td>\n",
              "      <td>2023</td>\n",
              "      <td>MSAHIN</td>\n",
              "      <td>AK-EM-243</td>\n",
              "      <td>AK-EM-243</td>\n",
              "      <td>10.00</td>\n",
              "      <td>10.00</td>\n",
              "      <td>0.80</td>\n",
              "      <td>USD</td>\n",
              "      <td>11.03.2023</td>\n",
              "      <td>Задолженность текущая</td>\n",
              "      <td>ФАКТ</td>\n",
              "      <td>NaN</td>\n",
              "      <td>Турецкие</td>\n",
              "      <td>1.755,86 251,69</td>\n",
              "    </tr>\n",
              "  </tbody>\n",
              "</table>\n",
              "</div>\n",
              "    <div class=\"colab-df-buttons\">\n",
              "\n",
              "  <div class=\"colab-df-container\">\n",
              "    <button class=\"colab-df-convert\" onclick=\"convertToInteractive('df-85965add-352c-4a9c-9847-fba1499b9891')\"\n",
              "            title=\"Convert this dataframe to an interactive table.\"\n",
              "            style=\"display:none;\">\n",
              "\n",
              "  <svg xmlns=\"http://www.w3.org/2000/svg\" height=\"24px\" viewBox=\"0 -960 960 960\">\n",
              "    <path d=\"M120-120v-720h720v720H120Zm60-500h600v-160H180v160Zm220 220h160v-160H400v160Zm0 220h160v-160H400v160ZM180-400h160v-160H180v160Zm440 0h160v-160H620v160ZM180-180h160v-160H180v160Zm440 0h160v-160H620v160Z\"/>\n",
              "  </svg>\n",
              "    </button>\n",
              "\n",
              "  <style>\n",
              "    .colab-df-container {\n",
              "      display:flex;\n",
              "      gap: 12px;\n",
              "    }\n",
              "\n",
              "    .colab-df-convert {\n",
              "      background-color: #E8F0FE;\n",
              "      border: none;\n",
              "      border-radius: 50%;\n",
              "      cursor: pointer;\n",
              "      display: none;\n",
              "      fill: #1967D2;\n",
              "      height: 32px;\n",
              "      padding: 0 0 0 0;\n",
              "      width: 32px;\n",
              "    }\n",
              "\n",
              "    .colab-df-convert:hover {\n",
              "      background-color: #E2EBFA;\n",
              "      box-shadow: 0px 1px 2px rgba(60, 64, 67, 0.3), 0px 1px 3px 1px rgba(60, 64, 67, 0.15);\n",
              "      fill: #174EA6;\n",
              "    }\n",
              "\n",
              "    .colab-df-buttons div {\n",
              "      margin-bottom: 4px;\n",
              "    }\n",
              "\n",
              "    [theme=dark] .colab-df-convert {\n",
              "      background-color: #3B4455;\n",
              "      fill: #D2E3FC;\n",
              "    }\n",
              "\n",
              "    [theme=dark] .colab-df-convert:hover {\n",
              "      background-color: #434B5C;\n",
              "      box-shadow: 0px 1px 3px 1px rgba(0, 0, 0, 0.15);\n",
              "      filter: drop-shadow(0px 1px 2px rgba(0, 0, 0, 0.3));\n",
              "      fill: #FFFFFF;\n",
              "    }\n",
              "  </style>\n",
              "\n",
              "    <script>\n",
              "      const buttonEl =\n",
              "        document.querySelector('#df-85965add-352c-4a9c-9847-fba1499b9891 button.colab-df-convert');\n",
              "      buttonEl.style.display =\n",
              "        google.colab.kernel.accessAllowed ? 'block' : 'none';\n",
              "\n",
              "      async function convertToInteractive(key) {\n",
              "        const element = document.querySelector('#df-85965add-352c-4a9c-9847-fba1499b9891');\n",
              "        const dataTable =\n",
              "          await google.colab.kernel.invokeFunction('convertToInteractive',\n",
              "                                                    [key], {});\n",
              "        if (!dataTable) return;\n",
              "\n",
              "        const docLinkHtml = 'Like what you see? Visit the ' +\n",
              "          '<a target=\"_blank\" href=https://colab.research.google.com/notebooks/data_table.ipynb>data table notebook</a>'\n",
              "          + ' to learn more about interactive tables.';\n",
              "        element.innerHTML = '';\n",
              "        dataTable['output_type'] = 'display_data';\n",
              "        await google.colab.output.renderOutput(dataTable, element);\n",
              "        const docLink = document.createElement('div');\n",
              "        docLink.innerHTML = docLinkHtml;\n",
              "        element.appendChild(docLink);\n",
              "      }\n",
              "    </script>\n",
              "  </div>\n",
              "\n",
              "\n",
              "    <div id=\"df-045e9d0c-ee50-4034-9c60-86ded5ceb6c3\">\n",
              "      <button class=\"colab-df-quickchart\" onclick=\"quickchart('df-045e9d0c-ee50-4034-9c60-86ded5ceb6c3')\"\n",
              "                title=\"Suggest charts\"\n",
              "                style=\"display:none;\">\n",
              "\n",
              "<svg xmlns=\"http://www.w3.org/2000/svg\" height=\"24px\"viewBox=\"0 0 24 24\"\n",
              "     width=\"24px\">\n",
              "    <g>\n",
              "        <path d=\"M19 3H5c-1.1 0-2 .9-2 2v14c0 1.1.9 2 2 2h14c1.1 0 2-.9 2-2V5c0-1.1-.9-2-2-2zM9 17H7v-7h2v7zm4 0h-2V7h2v10zm4 0h-2v-4h2v4z\"/>\n",
              "    </g>\n",
              "</svg>\n",
              "      </button>\n",
              "\n",
              "<style>\n",
              "  .colab-df-quickchart {\n",
              "      --bg-color: #E8F0FE;\n",
              "      --fill-color: #1967D2;\n",
              "      --hover-bg-color: #E2EBFA;\n",
              "      --hover-fill-color: #174EA6;\n",
              "      --disabled-fill-color: #AAA;\n",
              "      --disabled-bg-color: #DDD;\n",
              "  }\n",
              "\n",
              "  [theme=dark] .colab-df-quickchart {\n",
              "      --bg-color: #3B4455;\n",
              "      --fill-color: #D2E3FC;\n",
              "      --hover-bg-color: #434B5C;\n",
              "      --hover-fill-color: #FFFFFF;\n",
              "      --disabled-bg-color: #3B4455;\n",
              "      --disabled-fill-color: #666;\n",
              "  }\n",
              "\n",
              "  .colab-df-quickchart {\n",
              "    background-color: var(--bg-color);\n",
              "    border: none;\n",
              "    border-radius: 50%;\n",
              "    cursor: pointer;\n",
              "    display: none;\n",
              "    fill: var(--fill-color);\n",
              "    height: 32px;\n",
              "    padding: 0;\n",
              "    width: 32px;\n",
              "  }\n",
              "\n",
              "  .colab-df-quickchart:hover {\n",
              "    background-color: var(--hover-bg-color);\n",
              "    box-shadow: 0 1px 2px rgba(60, 64, 67, 0.3), 0 1px 3px 1px rgba(60, 64, 67, 0.15);\n",
              "    fill: var(--button-hover-fill-color);\n",
              "  }\n",
              "\n",
              "  .colab-df-quickchart-complete:disabled,\n",
              "  .colab-df-quickchart-complete:disabled:hover {\n",
              "    background-color: var(--disabled-bg-color);\n",
              "    fill: var(--disabled-fill-color);\n",
              "    box-shadow: none;\n",
              "  }\n",
              "\n",
              "  .colab-df-spinner {\n",
              "    border: 2px solid var(--fill-color);\n",
              "    border-color: transparent;\n",
              "    border-bottom-color: var(--fill-color);\n",
              "    animation:\n",
              "      spin 1s steps(1) infinite;\n",
              "  }\n",
              "\n",
              "  @keyframes spin {\n",
              "    0% {\n",
              "      border-color: transparent;\n",
              "      border-bottom-color: var(--fill-color);\n",
              "      border-left-color: var(--fill-color);\n",
              "    }\n",
              "    20% {\n",
              "      border-color: transparent;\n",
              "      border-left-color: var(--fill-color);\n",
              "      border-top-color: var(--fill-color);\n",
              "    }\n",
              "    30% {\n",
              "      border-color: transparent;\n",
              "      border-left-color: var(--fill-color);\n",
              "      border-top-color: var(--fill-color);\n",
              "      border-right-color: var(--fill-color);\n",
              "    }\n",
              "    40% {\n",
              "      border-color: transparent;\n",
              "      border-right-color: var(--fill-color);\n",
              "      border-top-color: var(--fill-color);\n",
              "    }\n",
              "    60% {\n",
              "      border-color: transparent;\n",
              "      border-right-color: var(--fill-color);\n",
              "    }\n",
              "    80% {\n",
              "      border-color: transparent;\n",
              "      border-right-color: var(--fill-color);\n",
              "      border-bottom-color: var(--fill-color);\n",
              "    }\n",
              "    90% {\n",
              "      border-color: transparent;\n",
              "      border-bottom-color: var(--fill-color);\n",
              "    }\n",
              "  }\n",
              "</style>\n",
              "\n",
              "      <script>\n",
              "        async function quickchart(key) {\n",
              "          const quickchartButtonEl =\n",
              "            document.querySelector('#' + key + ' button');\n",
              "          quickchartButtonEl.disabled = true;  // To prevent multiple clicks.\n",
              "          quickchartButtonEl.classList.add('colab-df-spinner');\n",
              "          try {\n",
              "            const charts = await google.colab.kernel.invokeFunction(\n",
              "                'suggestCharts', [key], {});\n",
              "          } catch (error) {\n",
              "            console.error('Error during call to suggestCharts:', error);\n",
              "          }\n",
              "          quickchartButtonEl.classList.remove('colab-df-spinner');\n",
              "          quickchartButtonEl.classList.add('colab-df-quickchart-complete');\n",
              "        }\n",
              "        (() => {\n",
              "          let quickchartButtonEl =\n",
              "            document.querySelector('#df-045e9d0c-ee50-4034-9c60-86ded5ceb6c3 button');\n",
              "          quickchartButtonEl.style.display =\n",
              "            google.colab.kernel.accessAllowed ? 'block' : 'none';\n",
              "        })();\n",
              "      </script>\n",
              "    </div>\n",
              "\n",
              "    </div>\n",
              "  </div>\n"
            ],
            "application/vnd.google.colaboratory.intrinsic+json": {
              "type": "dataframe",
              "variable_name": "merged_audit_teslimedilmeyen_odemeli",
              "summary": "{\n  \"name\": \"merged_audit_teslimedilmeyen_odemeli\",\n  \"rows\": 1318,\n  \"fields\": [\n    {\n      \"column\": \"\\u0414\\u043e\\u043a\\u0443\\u043c\\u0435\\u043d\\u0442_\\u0437\\u0430\\u043a\\u0443\\u043f\\u043a\\u0438\",\n      \"properties\": {\n        \"dtype\": \"string\",\n        \"num_unique_values\": 1318,\n        \"samples\": [\n          \"3100007155\",\n          \"3100010936\",\n          \"3100006438\"\n        ],\n        \"semantic_type\": \"\",\n        \"description\": \"\"\n      }\n    },\n    {\n      \"column\": \"\\u0417\\u0430\\u043a\\u0443\\u043f. \\u043e\\u0440\\u0433\\u0430\\u043d\\u0438\\u0437\\u0430\\u0446\\u0438\\u044f\",\n      \"properties\": {\n        \"dtype\": \"category\",\n        \"num_unique_values\": 4,\n        \"samples\": [\n          \"Electrical of TSM\",\n          \"Mechanical of TSM\",\n          \"Construction of TSM\"\n        ],\n        \"semantic_type\": \"\",\n        \"description\": \"\"\n      }\n    },\n    {\n      \"column\": \"\\u0413\\u043e\\u0434\",\n      \"properties\": {\n        \"dtype\": \"object\",\n        \"num_unique_values\": 4,\n        \"samples\": [\n          \"2023\",\n          \"2025\",\n          \"2022\"\n        ],\n        \"semantic_type\": \"\",\n        \"description\": \"\"\n      }\n    },\n    {\n      \"column\": \"\\u0421\\u043e\\u0437\\u0434\\u0430\\u043b\",\n      \"properties\": {\n        \"dtype\": \"category\",\n        \"num_unique_values\": 52,\n        \"samples\": [\n          \"FANNAKULIEVA\",\n          \"SZHELAMSKII\",\n          \"EKOC\"\n        ],\n        \"semantic_type\": \"\",\n        \"description\": \"\"\n      }\n    },\n    {\n      \"column\": \"\\u041d\\u0430\\u0448 \\u0437\\u043d\\u0430\\u043a\",\n      \"properties\": {\n        \"dtype\": \"string\",\n        \"num_unique_values\": 1185,\n        \"samples\": [\n          \"AK-NP-2229\",\n          \"HE-20050\",\n          \"AK-198\"\n        ],\n        \"semantic_type\": \"\",\n        \"description\": \"\"\n      }\n    },\n    {\n      \"column\": \"\\u0412\\u0430\\u0448 \\u043a\\u043e\\u0434\",\n      \"properties\": {\n        \"dtype\": \"string\",\n        \"num_unique_values\": 1153,\n        \"samples\": [\n          \"ak-np-2903\",\n          \"AK-C-345\",\n          \"AK-NP-2883\"\n        ],\n        \"semantic_type\": \"\",\n        \"description\": \"\"\n      }\n    },\n    {\n      \"column\": \"\\u041e\\u0431\\u044a\\u0435\\u043c \\u0437\\u0430\\u043a\\u0430\\u0437\\u0430\",\n      \"properties\": {\n        \"dtype\": \"number\",\n        \"std\": 771696.3714743106,\n        \"min\": 0.14,\n        \"max\": 22363762.5,\n        \"num_unique_values\": 778,\n        \"samples\": [\n          43685.64,\n          558.0799999999999,\n          277.0\n        ],\n        \"semantic_type\": \"\",\n        \"description\": \"\"\n      }\n    },\n    {\n      \"column\": \"\\u0441\\u0443\\u043c\\u043c\\u0430 \\u0435\\u0449\\u0435 \\u043f\\u043e\\u0441\\u0442\\u0430\\u0432\\u0438\\u0442\\u044c (\\u043a\\u043e\\u043b\\u0438\\u0447\\u0435\\u0441\\u0442\\u0432\\u043e)\",\n      \"properties\": {\n        \"dtype\": \"number\",\n        \"std\": 712694.0284860742,\n        \"min\": 0.0,\n        \"max\": 19965580.3,\n        \"num_unique_values\": 766,\n        \"samples\": [\n          110.0,\n          4160.0,\n          1419.0\n        ],\n        \"semantic_type\": \"\",\n        \"description\": \"\"\n      }\n    },\n    {\n      \"column\": \"\\u0441\\u0443\\u043c\\u043c\\u0430 \\u0415\\u0449\\u0435 \\u0434\\u043b\\u044f \\u043f\\u043e\\u0441\\u0442\\u0430\\u0432\\u043a\\u0438 (\\u0441\\u0442\\u043e\\u0438\\u043c\\u043e\\u0441\\u0442\\u044c)\",\n      \"properties\": {\n        \"dtype\": \"number\",\n        \"std\": 3142028.9471584973,\n        \"min\": 0.16,\n        \"max\": 99073280.0,\n        \"num_unique_values\": 1275,\n        \"samples\": [\n          5988.44,\n          4135.71,\n          1740.0\n        ],\n        \"semantic_type\": \"\",\n        \"description\": \"\"\n      }\n    },\n    {\n      \"column\": \"\\u0412\\u0430\\u043b\\u044e\\u0442\\u0430\",\n      \"properties\": {\n        \"dtype\": \"category\",\n        \"num_unique_values\": 4,\n        \"samples\": [\n          \"EUR\",\n          \"RUB\",\n          \"USD\"\n        ],\n        \"semantic_type\": \"\",\n        \"description\": \"\"\n      }\n    },\n    {\n      \"column\": \"\\u0414\\u0430\\u0442\\u0430 \\u0437\\u0430\\u044f\\u0432\\u043a\\u0438 \\u043d\\u0430 \\u043e\\u043f\\u043b\\u0430\\u0442\\u0443\",\n      \"properties\": {\n        \"dtype\": \"category\",\n        \"num_unique_values\": 469,\n        \"samples\": [\n          \"4.03.2024\",\n          \"20.11.2023\",\n          \"9.11.2023\"\n        ],\n        \"semantic_type\": \"\",\n        \"description\": \"\"\n      }\n    },\n    {\n      \"column\": \"\\u0414\\u043e\\u043b\\u0433 / \\u0410\\u0432\\u0430\\u043d\\u0441\",\n      \"properties\": {\n        \"dtype\": \"category\",\n        \"num_unique_values\": 3,\n        \"samples\": [\n          \"\\u0410\\u0432\\u0430\\u043d\\u0441\",\n          \"\\u0417\\u0430\\u0434\\u043e\\u043b\\u0436\\u0435\\u043d\\u043d\\u043e\\u0441\\u0442\\u044c \\u0442\\u0435\\u043a\\u0443\\u0449\\u0430\\u044f\",\n          \"\\u0417\\u0430\\u0434\\u043e\\u043b\\u0436\\u0435\\u043d\\u043d\\u043e\\u0441\\u0442\\u044c \\u043f\\u0440\\u043e\\u0433\\u043d\\u043e\\u0437\\u043d\\u0430\\u044f\"\n        ],\n        \"semantic_type\": \"\",\n        \"description\": \"\"\n      }\n    },\n    {\n      \"column\": \"\\u041f\\u043b\\u0430\\u043d / \\u0424\\u0430\\u043a\\u0442\",\n      \"properties\": {\n        \"dtype\": \"category\",\n        \"num_unique_values\": 4,\n        \"samples\": [\n          \"\\u0424\\u0410\\u041a\\u0422\",\n          \"\\u0412\\u043e\\u0437\\u0432\\u0440\\u0430\\u0442\",\n          \"\\u0410\\u043d\\u043d\\u0443\\u043b\\u0438\\u0440\\u043e\\u0432\\u0430\\u043d\"\n        ],\n        \"semantic_type\": \"\",\n        \"description\": \"\"\n      }\n    },\n    {\n      \"column\": \"\\u041d\\u043e\\u043c\\u0435\\u0440 \\u0432 SAP \",\n      \"properties\": {\n        \"dtype\": \"number\",\n        \"std\": 6138.186367938821,\n        \"min\": 100000000007.0,\n        \"max\": 100000019070.0,\n        \"num_unique_values\": 1083,\n        \"samples\": [\n          100000000190.0,\n          100000005497.0,\n          100000010815.0\n        ],\n        \"semantic_type\": \"\",\n        \"description\": \"\"\n      }\n    },\n    {\n      \"column\": \"\\u041f\\u043e\\u0441\\u0442\\u0430\\u0432\\u0449\\u0438\\u043a:RU/TR\",\n      \"properties\": {\n        \"dtype\": \"category\",\n        \"num_unique_values\": 2,\n        \"samples\": [\n          \"\\u0420\\u043e\\u0441\\u0441\\u0438\\u0439\\u0441\\u043a\\u0438\\u0435\",\n          \"\\u0422\\u0443\\u0440\\u0435\\u0446\\u043a\\u0438\\u0435\"\n        ],\n        \"semantic_type\": \"\",\n        \"description\": \"\"\n      }\n    },\n    {\n      \"column\": \"\\u0421\\u0443\\u043c\\u043c\\u0430 USD\",\n      \"properties\": {\n        \"dtype\": \"string\",\n        \"num_unique_values\": 1118,\n        \"samples\": [\n          \"9.014,02 \",\n          \"1.416,00 \"\n        ],\n        \"semantic_type\": \"\",\n        \"description\": \"\"\n      }\n    }\n  ]\n}"
            }
          },
          "metadata": {},
          "execution_count": 87
        }
      ]
    },
    {
      "cell_type": "code",
      "source": [
        "# Sonuç\n",
        "df_audit_teslimedilmeyen.head(15)"
      ],
      "metadata": {
        "id": "46ArTJdNaUdt",
        "outputId": "c71873c4-b25e-47cd-db27-d47301bee1e5",
        "colab": {
          "base_uri": "https://localhost:8080/",
          "height": 1000
        }
      },
      "execution_count": 84,
      "outputs": [
        {
          "output_type": "execute_result",
          "data": {
            "text/plain": [
              "   Документ_закупки   Закуп. организация   Год        Создал     Наш знак  \\\n",
              "0        3100000011  Construction of TSM  2022      DPANTEEV  PO AK-C-187   \n",
              "1        3100000012  Construction of TSM  2022      DPANTEEV  PO АК-C-187   \n",
              "2        3100000013  Construction of TSM  2022      DPANTEEV  PO АК-C-112   \n",
              "3        3100000026  Construction of TSM  2022    ZHUSEYNOVA     AK-C-274   \n",
              "4        3100000034  Construction of TSM  2022  FANNAKULIEVA    AK-NP-766   \n",
              "5        3100000039  Construction of TSM  2022      GTORAMAN    AK-NP-718   \n",
              "6        3100000048  Construction of TSM  2022  FANNAKULIEVA    AK-NP-784   \n",
              "7        3100000064  Construction of TSM  2022      DPANTEEV    AK-6681.1   \n",
              "8        3100000065  Construction of TSM  2022       ZDURMAZ    AK-NP-761   \n",
              "9        3100000068  Construction of TSM  2022       EYILDIZ     AK-C-310   \n",
              "10       3100000080  Construction of TSM  2022       EYILDIZ    AK-C-81.4   \n",
              "11       3100000081  Construction of TSM  2022       ZDURMAZ    AK-NP-834   \n",
              "12       3100000090  Construction of TSM  2022       ZDURMAZ    AK-NP-764   \n",
              "13       3100000119  Construction of TSM  2022       ZDURMAZ    AK-NP-770   \n",
              "14       3100000134  Construction of TSM  2022       EYILDIZ      AK-6863   \n",
              "\n",
              "         Ваш код  Объем заказа  сумма еще поставить (количество)  \\\n",
              "0    PO AK-C-187       25872.0                           25872.0   \n",
              "1    PO АК-C-187       25872.0                            3872.0   \n",
              "2    PO АК-C-112       18940.0                           15068.0   \n",
              "3    PO_AK-C-274        3150.0                            3150.0   \n",
              "4      AK-NP-766         100.0                             100.0   \n",
              "5      AK-NP-718         300.0                             300.0   \n",
              "6      AK-NP-784         204.0                             204.0   \n",
              "7   07-22-818 02          32.0                              32.0   \n",
              "8      AK-NP-761        1116.0                            1116.0   \n",
              "9       AK-C-310        5750.0                              28.0   \n",
              "10     AK-C-81.4         500.0                             500.0   \n",
              "11     AK-NP-834        2100.0                            2100.0   \n",
              "12     AK-NP-764          20.0                              20.0   \n",
              "13     AK-NP-770          30.0                              30.0   \n",
              "14       AK-6863       10008.0                           10008.0   \n",
              "\n",
              "    сумма Еще для поставки (стоимость) Валюта  \n",
              "0                             27165.60    USD  \n",
              "1                              4065.60    USD  \n",
              "2                             15821.40    USD  \n",
              "3                              1039.50    EUR  \n",
              "4                               100.20    USD  \n",
              "5                              6525.00    TRY  \n",
              "6                               218.28    USD  \n",
              "7                           1403160.00    USD  \n",
              "8                             44640.00    TRY  \n",
              "9                                86.04    USD  \n",
              "10                              750.00    USD  \n",
              "11                            87675.00    TRY  \n",
              "12                              695.00    USD  \n",
              "13                              650.00    USD  \n",
              "14                            24219.36    USD  "
            ],
            "text/html": [
              "\n",
              "  <div id=\"df-22d00454-0662-452f-a7b3-acff6d5438ab\" class=\"colab-df-container\">\n",
              "    <div>\n",
              "<style scoped>\n",
              "    .dataframe tbody tr th:only-of-type {\n",
              "        vertical-align: middle;\n",
              "    }\n",
              "\n",
              "    .dataframe tbody tr th {\n",
              "        vertical-align: top;\n",
              "    }\n",
              "\n",
              "    .dataframe thead th {\n",
              "        text-align: right;\n",
              "    }\n",
              "</style>\n",
              "<table border=\"1\" class=\"dataframe\">\n",
              "  <thead>\n",
              "    <tr style=\"text-align: right;\">\n",
              "      <th></th>\n",
              "      <th>Документ_закупки</th>\n",
              "      <th>Закуп. организация</th>\n",
              "      <th>Год</th>\n",
              "      <th>Создал</th>\n",
              "      <th>Наш знак</th>\n",
              "      <th>Ваш код</th>\n",
              "      <th>Объем заказа</th>\n",
              "      <th>сумма еще поставить (количество)</th>\n",
              "      <th>сумма Еще для поставки (стоимость)</th>\n",
              "      <th>Валюта</th>\n",
              "    </tr>\n",
              "  </thead>\n",
              "  <tbody>\n",
              "    <tr>\n",
              "      <th>0</th>\n",
              "      <td>3100000011</td>\n",
              "      <td>Construction of TSM</td>\n",
              "      <td>2022</td>\n",
              "      <td>DPANTEEV</td>\n",
              "      <td>PO AK-C-187</td>\n",
              "      <td>PO AK-C-187</td>\n",
              "      <td>25872.0</td>\n",
              "      <td>25872.0</td>\n",
              "      <td>27165.60</td>\n",
              "      <td>USD</td>\n",
              "    </tr>\n",
              "    <tr>\n",
              "      <th>1</th>\n",
              "      <td>3100000012</td>\n",
              "      <td>Construction of TSM</td>\n",
              "      <td>2022</td>\n",
              "      <td>DPANTEEV</td>\n",
              "      <td>PO АК-C-187</td>\n",
              "      <td>PO АК-C-187</td>\n",
              "      <td>25872.0</td>\n",
              "      <td>3872.0</td>\n",
              "      <td>4065.60</td>\n",
              "      <td>USD</td>\n",
              "    </tr>\n",
              "    <tr>\n",
              "      <th>2</th>\n",
              "      <td>3100000013</td>\n",
              "      <td>Construction of TSM</td>\n",
              "      <td>2022</td>\n",
              "      <td>DPANTEEV</td>\n",
              "      <td>PO АК-C-112</td>\n",
              "      <td>PO АК-C-112</td>\n",
              "      <td>18940.0</td>\n",
              "      <td>15068.0</td>\n",
              "      <td>15821.40</td>\n",
              "      <td>USD</td>\n",
              "    </tr>\n",
              "    <tr>\n",
              "      <th>3</th>\n",
              "      <td>3100000026</td>\n",
              "      <td>Construction of TSM</td>\n",
              "      <td>2022</td>\n",
              "      <td>ZHUSEYNOVA</td>\n",
              "      <td>AK-C-274</td>\n",
              "      <td>PO_AK-C-274</td>\n",
              "      <td>3150.0</td>\n",
              "      <td>3150.0</td>\n",
              "      <td>1039.50</td>\n",
              "      <td>EUR</td>\n",
              "    </tr>\n",
              "    <tr>\n",
              "      <th>4</th>\n",
              "      <td>3100000034</td>\n",
              "      <td>Construction of TSM</td>\n",
              "      <td>2022</td>\n",
              "      <td>FANNAKULIEVA</td>\n",
              "      <td>AK-NP-766</td>\n",
              "      <td>AK-NP-766</td>\n",
              "      <td>100.0</td>\n",
              "      <td>100.0</td>\n",
              "      <td>100.20</td>\n",
              "      <td>USD</td>\n",
              "    </tr>\n",
              "    <tr>\n",
              "      <th>5</th>\n",
              "      <td>3100000039</td>\n",
              "      <td>Construction of TSM</td>\n",
              "      <td>2022</td>\n",
              "      <td>GTORAMAN</td>\n",
              "      <td>AK-NP-718</td>\n",
              "      <td>AK-NP-718</td>\n",
              "      <td>300.0</td>\n",
              "      <td>300.0</td>\n",
              "      <td>6525.00</td>\n",
              "      <td>TRY</td>\n",
              "    </tr>\n",
              "    <tr>\n",
              "      <th>6</th>\n",
              "      <td>3100000048</td>\n",
              "      <td>Construction of TSM</td>\n",
              "      <td>2022</td>\n",
              "      <td>FANNAKULIEVA</td>\n",
              "      <td>AK-NP-784</td>\n",
              "      <td>AK-NP-784</td>\n",
              "      <td>204.0</td>\n",
              "      <td>204.0</td>\n",
              "      <td>218.28</td>\n",
              "      <td>USD</td>\n",
              "    </tr>\n",
              "    <tr>\n",
              "      <th>7</th>\n",
              "      <td>3100000064</td>\n",
              "      <td>Construction of TSM</td>\n",
              "      <td>2022</td>\n",
              "      <td>DPANTEEV</td>\n",
              "      <td>AK-6681.1</td>\n",
              "      <td>07-22-818 02</td>\n",
              "      <td>32.0</td>\n",
              "      <td>32.0</td>\n",
              "      <td>1403160.00</td>\n",
              "      <td>USD</td>\n",
              "    </tr>\n",
              "    <tr>\n",
              "      <th>8</th>\n",
              "      <td>3100000065</td>\n",
              "      <td>Construction of TSM</td>\n",
              "      <td>2022</td>\n",
              "      <td>ZDURMAZ</td>\n",
              "      <td>AK-NP-761</td>\n",
              "      <td>AK-NP-761</td>\n",
              "      <td>1116.0</td>\n",
              "      <td>1116.0</td>\n",
              "      <td>44640.00</td>\n",
              "      <td>TRY</td>\n",
              "    </tr>\n",
              "    <tr>\n",
              "      <th>9</th>\n",
              "      <td>3100000068</td>\n",
              "      <td>Construction of TSM</td>\n",
              "      <td>2022</td>\n",
              "      <td>EYILDIZ</td>\n",
              "      <td>AK-C-310</td>\n",
              "      <td>AK-C-310</td>\n",
              "      <td>5750.0</td>\n",
              "      <td>28.0</td>\n",
              "      <td>86.04</td>\n",
              "      <td>USD</td>\n",
              "    </tr>\n",
              "    <tr>\n",
              "      <th>10</th>\n",
              "      <td>3100000080</td>\n",
              "      <td>Construction of TSM</td>\n",
              "      <td>2022</td>\n",
              "      <td>EYILDIZ</td>\n",
              "      <td>AK-C-81.4</td>\n",
              "      <td>AK-C-81.4</td>\n",
              "      <td>500.0</td>\n",
              "      <td>500.0</td>\n",
              "      <td>750.00</td>\n",
              "      <td>USD</td>\n",
              "    </tr>\n",
              "    <tr>\n",
              "      <th>11</th>\n",
              "      <td>3100000081</td>\n",
              "      <td>Construction of TSM</td>\n",
              "      <td>2022</td>\n",
              "      <td>ZDURMAZ</td>\n",
              "      <td>AK-NP-834</td>\n",
              "      <td>AK-NP-834</td>\n",
              "      <td>2100.0</td>\n",
              "      <td>2100.0</td>\n",
              "      <td>87675.00</td>\n",
              "      <td>TRY</td>\n",
              "    </tr>\n",
              "    <tr>\n",
              "      <th>12</th>\n",
              "      <td>3100000090</td>\n",
              "      <td>Construction of TSM</td>\n",
              "      <td>2022</td>\n",
              "      <td>ZDURMAZ</td>\n",
              "      <td>AK-NP-764</td>\n",
              "      <td>AK-NP-764</td>\n",
              "      <td>20.0</td>\n",
              "      <td>20.0</td>\n",
              "      <td>695.00</td>\n",
              "      <td>USD</td>\n",
              "    </tr>\n",
              "    <tr>\n",
              "      <th>13</th>\n",
              "      <td>3100000119</td>\n",
              "      <td>Construction of TSM</td>\n",
              "      <td>2022</td>\n",
              "      <td>ZDURMAZ</td>\n",
              "      <td>AK-NP-770</td>\n",
              "      <td>AK-NP-770</td>\n",
              "      <td>30.0</td>\n",
              "      <td>30.0</td>\n",
              "      <td>650.00</td>\n",
              "      <td>USD</td>\n",
              "    </tr>\n",
              "    <tr>\n",
              "      <th>14</th>\n",
              "      <td>3100000134</td>\n",
              "      <td>Construction of TSM</td>\n",
              "      <td>2022</td>\n",
              "      <td>EYILDIZ</td>\n",
              "      <td>AK-6863</td>\n",
              "      <td>AK-6863</td>\n",
              "      <td>10008.0</td>\n",
              "      <td>10008.0</td>\n",
              "      <td>24219.36</td>\n",
              "      <td>USD</td>\n",
              "    </tr>\n",
              "  </tbody>\n",
              "</table>\n",
              "</div>\n",
              "    <div class=\"colab-df-buttons\">\n",
              "\n",
              "  <div class=\"colab-df-container\">\n",
              "    <button class=\"colab-df-convert\" onclick=\"convertToInteractive('df-22d00454-0662-452f-a7b3-acff6d5438ab')\"\n",
              "            title=\"Convert this dataframe to an interactive table.\"\n",
              "            style=\"display:none;\">\n",
              "\n",
              "  <svg xmlns=\"http://www.w3.org/2000/svg\" height=\"24px\" viewBox=\"0 -960 960 960\">\n",
              "    <path d=\"M120-120v-720h720v720H120Zm60-500h600v-160H180v160Zm220 220h160v-160H400v160Zm0 220h160v-160H400v160ZM180-400h160v-160H180v160Zm440 0h160v-160H620v160ZM180-180h160v-160H180v160Zm440 0h160v-160H620v160Z\"/>\n",
              "  </svg>\n",
              "    </button>\n",
              "\n",
              "  <style>\n",
              "    .colab-df-container {\n",
              "      display:flex;\n",
              "      gap: 12px;\n",
              "    }\n",
              "\n",
              "    .colab-df-convert {\n",
              "      background-color: #E8F0FE;\n",
              "      border: none;\n",
              "      border-radius: 50%;\n",
              "      cursor: pointer;\n",
              "      display: none;\n",
              "      fill: #1967D2;\n",
              "      height: 32px;\n",
              "      padding: 0 0 0 0;\n",
              "      width: 32px;\n",
              "    }\n",
              "\n",
              "    .colab-df-convert:hover {\n",
              "      background-color: #E2EBFA;\n",
              "      box-shadow: 0px 1px 2px rgba(60, 64, 67, 0.3), 0px 1px 3px 1px rgba(60, 64, 67, 0.15);\n",
              "      fill: #174EA6;\n",
              "    }\n",
              "\n",
              "    .colab-df-buttons div {\n",
              "      margin-bottom: 4px;\n",
              "    }\n",
              "\n",
              "    [theme=dark] .colab-df-convert {\n",
              "      background-color: #3B4455;\n",
              "      fill: #D2E3FC;\n",
              "    }\n",
              "\n",
              "    [theme=dark] .colab-df-convert:hover {\n",
              "      background-color: #434B5C;\n",
              "      box-shadow: 0px 1px 3px 1px rgba(0, 0, 0, 0.15);\n",
              "      filter: drop-shadow(0px 1px 2px rgba(0, 0, 0, 0.3));\n",
              "      fill: #FFFFFF;\n",
              "    }\n",
              "  </style>\n",
              "\n",
              "    <script>\n",
              "      const buttonEl =\n",
              "        document.querySelector('#df-22d00454-0662-452f-a7b3-acff6d5438ab button.colab-df-convert');\n",
              "      buttonEl.style.display =\n",
              "        google.colab.kernel.accessAllowed ? 'block' : 'none';\n",
              "\n",
              "      async function convertToInteractive(key) {\n",
              "        const element = document.querySelector('#df-22d00454-0662-452f-a7b3-acff6d5438ab');\n",
              "        const dataTable =\n",
              "          await google.colab.kernel.invokeFunction('convertToInteractive',\n",
              "                                                    [key], {});\n",
              "        if (!dataTable) return;\n",
              "\n",
              "        const docLinkHtml = 'Like what you see? Visit the ' +\n",
              "          '<a target=\"_blank\" href=https://colab.research.google.com/notebooks/data_table.ipynb>data table notebook</a>'\n",
              "          + ' to learn more about interactive tables.';\n",
              "        element.innerHTML = '';\n",
              "        dataTable['output_type'] = 'display_data';\n",
              "        await google.colab.output.renderOutput(dataTable, element);\n",
              "        const docLink = document.createElement('div');\n",
              "        docLink.innerHTML = docLinkHtml;\n",
              "        element.appendChild(docLink);\n",
              "      }\n",
              "    </script>\n",
              "  </div>\n",
              "\n",
              "\n",
              "    <div id=\"df-145aa78e-6d7f-4db7-b399-2ebe9d39fbbe\">\n",
              "      <button class=\"colab-df-quickchart\" onclick=\"quickchart('df-145aa78e-6d7f-4db7-b399-2ebe9d39fbbe')\"\n",
              "                title=\"Suggest charts\"\n",
              "                style=\"display:none;\">\n",
              "\n",
              "<svg xmlns=\"http://www.w3.org/2000/svg\" height=\"24px\"viewBox=\"0 0 24 24\"\n",
              "     width=\"24px\">\n",
              "    <g>\n",
              "        <path d=\"M19 3H5c-1.1 0-2 .9-2 2v14c0 1.1.9 2 2 2h14c1.1 0 2-.9 2-2V5c0-1.1-.9-2-2-2zM9 17H7v-7h2v7zm4 0h-2V7h2v10zm4 0h-2v-4h2v4z\"/>\n",
              "    </g>\n",
              "</svg>\n",
              "      </button>\n",
              "\n",
              "<style>\n",
              "  .colab-df-quickchart {\n",
              "      --bg-color: #E8F0FE;\n",
              "      --fill-color: #1967D2;\n",
              "      --hover-bg-color: #E2EBFA;\n",
              "      --hover-fill-color: #174EA6;\n",
              "      --disabled-fill-color: #AAA;\n",
              "      --disabled-bg-color: #DDD;\n",
              "  }\n",
              "\n",
              "  [theme=dark] .colab-df-quickchart {\n",
              "      --bg-color: #3B4455;\n",
              "      --fill-color: #D2E3FC;\n",
              "      --hover-bg-color: #434B5C;\n",
              "      --hover-fill-color: #FFFFFF;\n",
              "      --disabled-bg-color: #3B4455;\n",
              "      --disabled-fill-color: #666;\n",
              "  }\n",
              "\n",
              "  .colab-df-quickchart {\n",
              "    background-color: var(--bg-color);\n",
              "    border: none;\n",
              "    border-radius: 50%;\n",
              "    cursor: pointer;\n",
              "    display: none;\n",
              "    fill: var(--fill-color);\n",
              "    height: 32px;\n",
              "    padding: 0;\n",
              "    width: 32px;\n",
              "  }\n",
              "\n",
              "  .colab-df-quickchart:hover {\n",
              "    background-color: var(--hover-bg-color);\n",
              "    box-shadow: 0 1px 2px rgba(60, 64, 67, 0.3), 0 1px 3px 1px rgba(60, 64, 67, 0.15);\n",
              "    fill: var(--button-hover-fill-color);\n",
              "  }\n",
              "\n",
              "  .colab-df-quickchart-complete:disabled,\n",
              "  .colab-df-quickchart-complete:disabled:hover {\n",
              "    background-color: var(--disabled-bg-color);\n",
              "    fill: var(--disabled-fill-color);\n",
              "    box-shadow: none;\n",
              "  }\n",
              "\n",
              "  .colab-df-spinner {\n",
              "    border: 2px solid var(--fill-color);\n",
              "    border-color: transparent;\n",
              "    border-bottom-color: var(--fill-color);\n",
              "    animation:\n",
              "      spin 1s steps(1) infinite;\n",
              "  }\n",
              "\n",
              "  @keyframes spin {\n",
              "    0% {\n",
              "      border-color: transparent;\n",
              "      border-bottom-color: var(--fill-color);\n",
              "      border-left-color: var(--fill-color);\n",
              "    }\n",
              "    20% {\n",
              "      border-color: transparent;\n",
              "      border-left-color: var(--fill-color);\n",
              "      border-top-color: var(--fill-color);\n",
              "    }\n",
              "    30% {\n",
              "      border-color: transparent;\n",
              "      border-left-color: var(--fill-color);\n",
              "      border-top-color: var(--fill-color);\n",
              "      border-right-color: var(--fill-color);\n",
              "    }\n",
              "    40% {\n",
              "      border-color: transparent;\n",
              "      border-right-color: var(--fill-color);\n",
              "      border-top-color: var(--fill-color);\n",
              "    }\n",
              "    60% {\n",
              "      border-color: transparent;\n",
              "      border-right-color: var(--fill-color);\n",
              "    }\n",
              "    80% {\n",
              "      border-color: transparent;\n",
              "      border-right-color: var(--fill-color);\n",
              "      border-bottom-color: var(--fill-color);\n",
              "    }\n",
              "    90% {\n",
              "      border-color: transparent;\n",
              "      border-bottom-color: var(--fill-color);\n",
              "    }\n",
              "  }\n",
              "</style>\n",
              "\n",
              "      <script>\n",
              "        async function quickchart(key) {\n",
              "          const quickchartButtonEl =\n",
              "            document.querySelector('#' + key + ' button');\n",
              "          quickchartButtonEl.disabled = true;  // To prevent multiple clicks.\n",
              "          quickchartButtonEl.classList.add('colab-df-spinner');\n",
              "          try {\n",
              "            const charts = await google.colab.kernel.invokeFunction(\n",
              "                'suggestCharts', [key], {});\n",
              "          } catch (error) {\n",
              "            console.error('Error during call to suggestCharts:', error);\n",
              "          }\n",
              "          quickchartButtonEl.classList.remove('colab-df-spinner');\n",
              "          quickchartButtonEl.classList.add('colab-df-quickchart-complete');\n",
              "        }\n",
              "        (() => {\n",
              "          let quickchartButtonEl =\n",
              "            document.querySelector('#df-145aa78e-6d7f-4db7-b399-2ebe9d39fbbe button');\n",
              "          quickchartButtonEl.style.display =\n",
              "            google.colab.kernel.accessAllowed ? 'block' : 'none';\n",
              "        })();\n",
              "      </script>\n",
              "    </div>\n",
              "\n",
              "    </div>\n",
              "  </div>\n"
            ],
            "application/vnd.google.colaboratory.intrinsic+json": {
              "type": "dataframe",
              "variable_name": "df_audit_teslimedilmeyen",
              "summary": "{\n  \"name\": \"df_audit_teslimedilmeyen\",\n  \"rows\": 3343,\n  \"fields\": [\n    {\n      \"column\": \"\\u0414\\u043e\\u043a\\u0443\\u043c\\u0435\\u043d\\u0442_\\u0437\\u0430\\u043a\\u0443\\u043f\\u043a\\u0438\",\n      \"properties\": {\n        \"dtype\": \"string\",\n        \"num_unique_values\": 3343,\n        \"samples\": [\n          \"3100003648\",\n          \"3100006931\",\n          \"3100005679\"\n        ],\n        \"semantic_type\": \"\",\n        \"description\": \"\"\n      }\n    },\n    {\n      \"column\": \"\\u0417\\u0430\\u043a\\u0443\\u043f. \\u043e\\u0440\\u0433\\u0430\\u043d\\u0438\\u0437\\u0430\\u0446\\u0438\\u044f\",\n      \"properties\": {\n        \"dtype\": \"category\",\n        \"num_unique_values\": 6,\n        \"samples\": [\n          \"Construction of TSM\",\n          \"Mechanical of TSM\",\n          \"nan\"\n        ],\n        \"semantic_type\": \"\",\n        \"description\": \"\"\n      }\n    },\n    {\n      \"column\": \"\\u0413\\u043e\\u0434\",\n      \"properties\": {\n        \"dtype\": \"object\",\n        \"num_unique_values\": 4,\n        \"samples\": [\n          \"2023\",\n          \"2025\",\n          \"2022\"\n        ],\n        \"semantic_type\": \"\",\n        \"description\": \"\"\n      }\n    },\n    {\n      \"column\": \"\\u0421\\u043e\\u0437\\u0434\\u0430\\u043b\",\n      \"properties\": {\n        \"dtype\": \"category\",\n        \"num_unique_values\": 81,\n        \"samples\": [\n          \"TURMANOV\",\n          \"DPANTEEV\",\n          \"EMILAEVA\"\n        ],\n        \"semantic_type\": \"\",\n        \"description\": \"\"\n      }\n    },\n    {\n      \"column\": \"\\u041d\\u0430\\u0448 \\u0437\\u043d\\u0430\\u043a\",\n      \"properties\": {\n        \"dtype\": \"string\",\n        \"num_unique_values\": 1873,\n        \"samples\": [\n          \"AK-P-111\",\n          \"\\u0421\\u043f\\u0435\\u0446 210\",\n          \"POAKNPMM3065\"\n        ],\n        \"semantic_type\": \"\",\n        \"description\": \"\"\n      }\n    },\n    {\n      \"column\": \"\\u0412\\u0430\\u0448 \\u043a\\u043e\\u0434\",\n      \"properties\": {\n        \"dtype\": \"string\",\n        \"num_unique_values\": 1707,\n        \"samples\": [\n          \"AK-C-891\",\n          \"AK-EM-750\",\n          \"AKNPEM2966\"\n        ],\n        \"semantic_type\": \"\",\n        \"description\": \"\"\n      }\n    },\n    {\n      \"column\": \"\\u041e\\u0431\\u044a\\u0435\\u043c \\u0437\\u0430\\u043a\\u0430\\u0437\\u0430\",\n      \"properties\": {\n        \"dtype\": \"number\",\n        \"std\": 488198.55022587336,\n        \"min\": 0.002,\n        \"max\": 22363762.5,\n        \"num_unique_values\": 1669,\n        \"samples\": [\n          14.32,\n          18027.63,\n          377.11\n        ],\n        \"semantic_type\": \"\",\n        \"description\": \"\"\n      }\n    },\n    {\n      \"column\": \"\\u0441\\u0443\\u043c\\u043c\\u0430 \\u0435\\u0449\\u0435 \\u043f\\u043e\\u0441\\u0442\\u0430\\u0432\\u0438\\u0442\\u044c (\\u043a\\u043e\\u043b\\u0438\\u0447\\u0435\\u0441\\u0442\\u0432\\u043e)\",\n      \"properties\": {\n        \"dtype\": \"number\",\n        \"std\": 448928.45555425045,\n        \"min\": 0.0,\n        \"max\": 19965580.3,\n        \"num_unique_values\": 1605,\n        \"samples\": [\n          0.96,\n          43685.64,\n          42.0\n        ],\n        \"semantic_type\": \"\",\n        \"description\": \"\"\n      }\n    },\n    {\n      \"column\": \"\\u0441\\u0443\\u043c\\u043c\\u0430 \\u0415\\u0449\\u0435 \\u0434\\u043b\\u044f \\u043f\\u043e\\u0441\\u0442\\u0430\\u0432\\u043a\\u0438 (\\u0441\\u0442\\u043e\\u0438\\u043c\\u043e\\u0441\\u0442\\u044c)\",\n      \"properties\": {\n        \"dtype\": \"number\",\n        \"std\": 2687693.5720194746,\n        \"min\": 0.01,\n        \"max\": 100000000.0,\n        \"num_unique_values\": 3136,\n        \"samples\": [\n          8846.92,\n          156273.75,\n          74.0\n        ],\n        \"semantic_type\": \"\",\n        \"description\": \"\"\n      }\n    },\n    {\n      \"column\": \"\\u0412\\u0430\\u043b\\u044e\\u0442\\u0430\",\n      \"properties\": {\n        \"dtype\": \"category\",\n        \"num_unique_values\": 4,\n        \"samples\": [\n          \"EUR\",\n          \"RUB\",\n          \"USD\"\n        ],\n        \"semantic_type\": \"\",\n        \"description\": \"\"\n      }\n    }\n  ]\n}"
            }
          },
          "metadata": {},
          "execution_count": 84
        }
      ]
    },
    {
      "cell_type": "markdown",
      "source": [
        "excelleri kaydetmek için kullan"
      ],
      "metadata": {
        "id": "yAR030JNrJMr"
      }
    },
    {
      "cell_type": "code",
      "source": [
        "#XLSX formatında kaydetme\n",
        "df_yazdir.to_excel(\"base_table.xlsx\", index=False, engine=\"xlsxwriter\")\n",
        "df_audit_teslimedilmeyen.to_excel(\"audit_teslimedilmeyen.xlsx\", index=False, engine=\"xlsxwriter\")\n",
        "merged_audit_teslimedilmeyen_odemeli.to_excel(\"audit_teslimedilmeyen_odemeli.xlsx\", index=False, engine=\"xlsxwriter\")\n",
        "#df_calisilan.to_excel(\"zmm059_2022_2025_temiz.xlsx\", index=False, engine=\"xlsxwriter\")\n",
        "#df_calisilan.to_excel(\"zmm059_2022_2025_temiz.xlsx\",index=False)\n",
        "#df_zmm059_2022_temiz.to_excel(\"zmm059_2022_temiz.xlsx\", index=False)\n",
        "#df_zmm059_2023_temiz.to_excel(\"zmm059_2023_temiz.xlsx\", index=False)\n",
        "#df_zmm059_2024_temiz.to_excel(\"zmm059_2024_temiz.xlsx\", index=False)\n",
        "#df_zmm059_2025_temiz.to_excel(\"zmm059_2025_temiz.xlsx\", index=False)"
      ],
      "metadata": {
        "id": "ipZdM6BKLs5B"
      },
      "execution_count": 85,
      "outputs": []
    },
    {
      "cell_type": "markdown",
      "source": [
        "excelleri indirmek için kullan"
      ],
      "metadata": {
        "id": "OGEMqtKt-9SO"
      }
    },
    {
      "cell_type": "code",
      "source": [
        "# Dosyayı indir\n",
        "files.download(\"base_table.xlsx\")\n",
        "files.download(\"audit_teslimedilmeyen.xlsx\")\n",
        "files.download(\"audit_teslimedilmeyen_odemeli.xlsx\")\n",
        "#files.download(\"zmm059_2022_2025_temiz.xlsx\")\n",
        "#files.download(\"zmm059_2022_temiz.xlsx\")\n",
        "#files.download(\"zmm059_2023_temiz.xlsx\")\n",
        "#files.download(\"zmm059_2024_temiz.xlsx\")\n",
        "#files.download(\"zmm059_2025_temiz.xlsx\")\n",
        "#files.download(\"zmm059_2022_2025_temizsutunsuz.csv\")"
      ],
      "metadata": {
        "id": "ZNtGv3o--33H",
        "colab": {
          "base_uri": "https://localhost:8080/",
          "height": 17
        },
        "outputId": "034667aa-e746-4bc1-d229-f69e858d070c"
      },
      "execution_count": 86,
      "outputs": [
        {
          "output_type": "display_data",
          "data": {
            "text/plain": [
              "<IPython.core.display.Javascript object>"
            ],
            "application/javascript": [
              "\n",
              "    async function download(id, filename, size) {\n",
              "      if (!google.colab.kernel.accessAllowed) {\n",
              "        return;\n",
              "      }\n",
              "      const div = document.createElement('div');\n",
              "      const label = document.createElement('label');\n",
              "      label.textContent = `Downloading \"${filename}\": `;\n",
              "      div.appendChild(label);\n",
              "      const progress = document.createElement('progress');\n",
              "      progress.max = size;\n",
              "      div.appendChild(progress);\n",
              "      document.body.appendChild(div);\n",
              "\n",
              "      const buffers = [];\n",
              "      let downloaded = 0;\n",
              "\n",
              "      const channel = await google.colab.kernel.comms.open(id);\n",
              "      // Send a message to notify the kernel that we're ready.\n",
              "      channel.send({})\n",
              "\n",
              "      for await (const message of channel.messages) {\n",
              "        // Send a message to notify the kernel that we're ready.\n",
              "        channel.send({})\n",
              "        if (message.buffers) {\n",
              "          for (const buffer of message.buffers) {\n",
              "            buffers.push(buffer);\n",
              "            downloaded += buffer.byteLength;\n",
              "            progress.value = downloaded;\n",
              "          }\n",
              "        }\n",
              "      }\n",
              "      const blob = new Blob(buffers, {type: 'application/binary'});\n",
              "      const a = document.createElement('a');\n",
              "      a.href = window.URL.createObjectURL(blob);\n",
              "      a.download = filename;\n",
              "      div.appendChild(a);\n",
              "      a.click();\n",
              "      div.remove();\n",
              "    }\n",
              "  "
            ]
          },
          "metadata": {}
        },
        {
          "output_type": "display_data",
          "data": {
            "text/plain": [
              "<IPython.core.display.Javascript object>"
            ],
            "application/javascript": [
              "download(\"download_48bbcb3a-1474-4267-bcda-b343d6930891\", \"base_table.xlsx\", 40764106)"
            ]
          },
          "metadata": {}
        },
        {
          "output_type": "display_data",
          "data": {
            "text/plain": [
              "<IPython.core.display.Javascript object>"
            ],
            "application/javascript": [
              "\n",
              "    async function download(id, filename, size) {\n",
              "      if (!google.colab.kernel.accessAllowed) {\n",
              "        return;\n",
              "      }\n",
              "      const div = document.createElement('div');\n",
              "      const label = document.createElement('label');\n",
              "      label.textContent = `Downloading \"${filename}\": `;\n",
              "      div.appendChild(label);\n",
              "      const progress = document.createElement('progress');\n",
              "      progress.max = size;\n",
              "      div.appendChild(progress);\n",
              "      document.body.appendChild(div);\n",
              "\n",
              "      const buffers = [];\n",
              "      let downloaded = 0;\n",
              "\n",
              "      const channel = await google.colab.kernel.comms.open(id);\n",
              "      // Send a message to notify the kernel that we're ready.\n",
              "      channel.send({})\n",
              "\n",
              "      for await (const message of channel.messages) {\n",
              "        // Send a message to notify the kernel that we're ready.\n",
              "        channel.send({})\n",
              "        if (message.buffers) {\n",
              "          for (const buffer of message.buffers) {\n",
              "            buffers.push(buffer);\n",
              "            downloaded += buffer.byteLength;\n",
              "            progress.value = downloaded;\n",
              "          }\n",
              "        }\n",
              "      }\n",
              "      const blob = new Blob(buffers, {type: 'application/binary'});\n",
              "      const a = document.createElement('a');\n",
              "      a.href = window.URL.createObjectURL(blob);\n",
              "      a.download = filename;\n",
              "      div.appendChild(a);\n",
              "      a.click();\n",
              "      div.remove();\n",
              "    }\n",
              "  "
            ]
          },
          "metadata": {}
        },
        {
          "output_type": "display_data",
          "data": {
            "text/plain": [
              "<IPython.core.display.Javascript object>"
            ],
            "application/javascript": [
              "download(\"download_e44f30e1-5b71-4439-93ed-f826df8a43df\", \"audit_teslimedilmeyen.xlsx\", 180149)"
            ]
          },
          "metadata": {}
        },
        {
          "output_type": "display_data",
          "data": {
            "text/plain": [
              "<IPython.core.display.Javascript object>"
            ],
            "application/javascript": [
              "\n",
              "    async function download(id, filename, size) {\n",
              "      if (!google.colab.kernel.accessAllowed) {\n",
              "        return;\n",
              "      }\n",
              "      const div = document.createElement('div');\n",
              "      const label = document.createElement('label');\n",
              "      label.textContent = `Downloading \"${filename}\": `;\n",
              "      div.appendChild(label);\n",
              "      const progress = document.createElement('progress');\n",
              "      progress.max = size;\n",
              "      div.appendChild(progress);\n",
              "      document.body.appendChild(div);\n",
              "\n",
              "      const buffers = [];\n",
              "      let downloaded = 0;\n",
              "\n",
              "      const channel = await google.colab.kernel.comms.open(id);\n",
              "      // Send a message to notify the kernel that we're ready.\n",
              "      channel.send({})\n",
              "\n",
              "      for await (const message of channel.messages) {\n",
              "        // Send a message to notify the kernel that we're ready.\n",
              "        channel.send({})\n",
              "        if (message.buffers) {\n",
              "          for (const buffer of message.buffers) {\n",
              "            buffers.push(buffer);\n",
              "            downloaded += buffer.byteLength;\n",
              "            progress.value = downloaded;\n",
              "          }\n",
              "        }\n",
              "      }\n",
              "      const blob = new Blob(buffers, {type: 'application/binary'});\n",
              "      const a = document.createElement('a');\n",
              "      a.href = window.URL.createObjectURL(blob);\n",
              "      a.download = filename;\n",
              "      div.appendChild(a);\n",
              "      a.click();\n",
              "      div.remove();\n",
              "    }\n",
              "  "
            ]
          },
          "metadata": {}
        },
        {
          "output_type": "display_data",
          "data": {
            "text/plain": [
              "<IPython.core.display.Javascript object>"
            ],
            "application/javascript": [
              "download(\"download_ffbbb106-2520-48ee-b512-c7e8f4699727\", \"audit_teslimedilmeyen_odemeli.xlsx\", 127754)"
            ]
          },
          "metadata": {}
        }
      ]
    },
    {
      "cell_type": "code",
      "source": [],
      "metadata": {
        "id": "sMAAIQwH_nXq"
      },
      "execution_count": 86,
      "outputs": []
    }
  ],
  "metadata": {
    "colab": {
      "name": "Welcome To Colab",
      "provenance": [],
      "include_colab_link": true
    },
    "kernelspec": {
      "display_name": "Python 3",
      "name": "python3"
    }
  },
  "nbformat": 4,
  "nbformat_minor": 0
}