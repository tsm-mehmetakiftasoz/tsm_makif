{
  "cells": [
    {
      "cell_type": "markdown",
      "metadata": {
        "id": "view-in-github",
        "colab_type": "text"
      },
      "source": [
        "<a href=\"https://colab.research.google.com/github/tsm-mehmetakiftasoz/tsm_makif/blob/main/audit_sap0.ipynb\" target=\"_parent\"><img src=\"https://colab.research.google.com/assets/colab-badge.svg\" alt=\"Open In Colab\"/></a>"
      ]
    },
    {
      "cell_type": "markdown",
      "source": [
        "MM60\n",
        "\n",
        "MKVZ\n",
        "\n",
        "ZMM059 RAPORLARINI BİRLEŞTİRMEK İÇİN OLUŞTURULDU . SAPDAN YILLARA GÖRE ZMM059 RAPORLARI ÇEKİP DEVAM EDİLEBİLİR. SAPDAN RAPORLARI ÇEKERKEN VARIANT MAKIF2 OLMALI TARİH SEÇİMİ PURCHASE DOC DATE OLMALI delivery completed indicatör 01 olmalı SAT REFERANSLI KISMI TÜMÜ OLMALI. EXCEL RAPORLARI ÇEKİLDİKTEN SONRA CSV FORMATINDA KAYDEDİLMELİ . YILLARA GÖRE ÇEKİLEN VERİLER ŞU ŞEKİLDE /content ALTINA KAYDEDİLMELİ.\n",
        "\n",
        "Tedarikçi isimleri için \"MKVZ\" kodunda \"makif\" variantı ile al Ru-Tr isimler için \"mm60\"ı kullan variant \"makif\"\n",
        "\n",
        "Создано для объединения отчетов ZMM059. Из SAP можно выгрузить отчеты ZMM059 по годам и продолжить работу. При выгрузке отчетов из SAP необходимо, чтобы вариант был MAKIF2, выбор даты должен быть Purchase Doc Date,Индикатор завершения доставки должен быть 01, а часть с ссылкой на SAT — выбрана \"всё\".\n",
        "\n",
        "После выгрузки отчетов в Excel их необходимо сохранить в формате CSV. Данные, выгруженные по годам, должны сохраняться в папке /content. Для наименований поставщиков используйте опцию «makif» в коде «MKVZ». Для названий на русском и турецком языках используйте вариант \"mm60\" \"makif\"\n",
        "\n",
        "ZMM059_2022.csv ZMM059_2023.csv ZMM059_2024-1.csv ZMM059_2024-2.csv ZMM059_2024-3.csv ZMM059_2024-4.csv ZMM059_2025.csv tedarikci_isim.csv"
      ],
      "metadata": {
        "id": "MhEbrvsPTZhu"
      }
    },
    {
      "cell_type": "code",
      "source": [
        "!pip install pandas\n",
        "!pip install xlsxwriter"
      ],
      "metadata": {
        "id": "qxDklZKITWKt"
      },
      "execution_count": null,
      "outputs": []
    },
    {
      "cell_type": "code",
      "source": [
        "import pandas as pd\n",
        "import numpy as np\n",
        "from google.colab import files"
      ],
      "metadata": {
        "id": "QzoCdXtnTeq9"
      },
      "execution_count": null,
      "outputs": []
    },
    {
      "cell_type": "code",
      "source": [
        "#ZMM059 Dosyalarını yüklemek\n",
        "df_zmm059_2022 = pd.read_csv('/content/ZMM059 2022.csv', sep=None, engine='python')\n",
        "df_zmm059_2023 = pd.read_csv('/content/ZMM059 2023.csv', sep=None, engine='python')\n",
        "df_zmm059_2024_1 = pd.read_csv('/content/ZMM059 2024-1.csv', sep=None, engine='python')\n",
        "df_zmm059_2024_2 = pd.read_csv('/content/ZMM059 2024-2.csv', sep=None, engine='python')\n",
        "df_zmm059_2024_3 = pd.read_csv('/content/ZMM059 2024-3.csv', sep=None, engine='python')\n",
        "df_zmm059_2024_4 = pd.read_csv('/content/ZMM059 2024-4.csv', sep=None, engine='python')\n",
        "df_zmm059_2025 = pd.read_csv('/content/ZMM059 2025.csv', sep=None, engine='python')\n",
        "\n",
        "\n",
        "# sep=None will automatically detect the delimiter\n",
        "# engine='python' is slower but more robust for complex cases"
      ],
      "metadata": {
        "id": "tBicm7TOTiB9"
      },
      "execution_count": null,
      "outputs": []
    },
    {
      "cell_type": "code",
      "source": [
        "#ME2N Raporlarını Yüklemek\n",
        "df_me2n_2022 = pd.read_csv('/content/ME2N_2022.csv', sep=None, engine='python')\n",
        "df_me2n_2023 = pd.read_csv('/content/ME2N_2023.csv', sep=None, engine='python')\n",
        "df_me2n_2024 = pd.read_csv('/content/ME2N_2024.csv', sep=None, engine='python')\n",
        "df_me2n_2025 = pd.read_csv('/content/ME2N_2025.csv', sep=None, engine='python')\n"
      ],
      "metadata": {
        "id": "A6l89wgeTjvd"
      },
      "execution_count": null,
      "outputs": []
    },
    {
      "cell_type": "code",
      "source": [
        "#me5a raporunu yüklemek\n",
        "df_me5a_2022_2025 = pd.read_csv('/content/me5a_2022_2025.csv', sep=None, engine='python')"
      ],
      "metadata": {
        "id": "6h_O8j0PTk2s"
      },
      "execution_count": null,
      "outputs": []
    },
    {
      "cell_type": "code",
      "source": [
        "#tedarikçi isim dosyasını yüklemek\n",
        "df_tedarikci_listesi = pd.read_csv('/content/tedarikci_isim.csv', sep=None, engine='python')"
      ],
      "metadata": {
        "id": "4lxA3H4uTrLW"
      },
      "execution_count": null,
      "outputs": []
    },
    {
      "cell_type": "code",
      "source": [
        "#material listesini yüklemek\n",
        "df_material_list = pd.read_csv('/content/material_list.csv', sep=None, engine='python')"
      ],
      "metadata": {
        "id": "db6f4kmLTvMH"
      },
      "execution_count": null,
      "outputs": []
    },
    {
      "cell_type": "code",
      "source": [
        " #ilk sutuna yıl yazdırma zmm059\n",
        "df_zmm059_2022[\"YIL\"] = \"2022\"\n",
        "cols = [\"YIL\"] + [col for col in df_zmm059_2022.columns if col != \"YIL\"]\n",
        "df_zmm059_2022 = df_zmm059_2022[cols]\n",
        "#\n",
        "df_zmm059_2023[\"YIL\"] = \"2023\"\n",
        "cols = [\"YIL\"] + [col for col in df_zmm059_2023.columns if col != \"YIL\"]\n",
        "df_zmm059_2023 = df_zmm059_2023[cols]\n",
        "#\n",
        "df_zmm059_2025[\"YIL\"] = \"2025\"\n",
        "cols = [\"YIL\"] + [col for col in df_zmm059_2025.columns if col != \"YIL\"]\n",
        "df_zmm059_2025 = df_zmm059_2025[cols]\n",
        "#\n",
        "df_zmm059_2024_1[\"YIL\"] = \"2024\"\n",
        "cols = [\"YIL\"] + [col for col in df_zmm059_2024_1.columns if col != \"YIL\"]\n",
        "df_zmm059_2024_1 = df_zmm059_2024_1[cols]\n",
        "#\n",
        "df_zmm059_2024_2[\"YIL\"] = \"2024\"\n",
        "cols = [\"YIL\"] + [col for col in df_zmm059_2024_2.columns if col != \"YIL\"]\n",
        "df_zmm059_2024_2 = df_zmm059_2024_2[cols]\n",
        "#\n",
        "df_zmm059_2024_3[\"YIL\"] = \"2024\"\n",
        "cols = [\"YIL\"] + [col for col in df_zmm059_2024_3.columns if col != \"YIL\"]\n",
        "df_zmm059_2024_3 = df_zmm059_2024_3[cols]\n",
        "#\n",
        "df_zmm059_2024_4[\"YIL\"] = \"2024\"\n",
        "cols = [\"YIL\"] + [col for col in df_zmm059_2024_4.columns if col != \"YIL\"]\n",
        "df_zmm059_2024_4 = df_zmm059_2024_4[cols]"
      ],
      "metadata": {
        "id": "6PtYPb9aTxe_"
      },
      "execution_count": null,
      "outputs": []
    },
    {
      "cell_type": "code",
      "source": [
        " #ZMM059 DataFrame'leri bir listeye topla\n",
        "dfs = [df_zmm059_2022, df_zmm059_2023, df_zmm059_2024_1, df_zmm059_2024_2, df_zmm059_2024_3, df_zmm059_2024_4, df_zmm059_2025]\n",
        "\n",
        "# Hepsini birleştir\n",
        "df_zmm059_2022_2025 = pd.concat(dfs, ignore_index=True)\n",
        "df_zmm059_2022_2025_ = pd.concat(dfs, ignore_index=True)\n",
        "# Kontrol için ilk satırlara bak\n",
        "print(df_zmm059_2022_2025.tail(5))"
      ],
      "metadata": {
        "id": "yj5jSMMiTzHv"
      },
      "execution_count": null,
      "outputs": []
    },
    {
      "cell_type": "code",
      "source": [
        " df_calisilan = df_zmm059_2022_2025.copy()"
      ],
      "metadata": {
        "id": "GB1_quQ1T0ZP"
      },
      "execution_count": null,
      "outputs": []
    },
    {
      "cell_type": "code",
      "source": [
        " #ilk sutuna yıl yazdırma me2n\n",
        "df_me2n_2022[\"Год\"] = \"2022\"\n",
        "cols = [\"Год\"] + [col for col in df_me2n_2022.columns if col != \"Год\"]\n",
        "df_me2n_2022 = df_me2n_2022[cols]\n",
        "#\n",
        "df_me2n_2023[\"Год\"] = \"2023\"\n",
        "cols = [\"Год\"] + [col for col in df_me2n_2023.columns if col != \"Год\"]\n",
        "df_me2n_2023 = df_me2n_2023[cols]\n",
        "#\n",
        "df_me2n_2024[\"Год\"] = \"2024\"\n",
        "cols = [\"Год\"] + [col for col in df_me2n_2024.columns if col != \"Год\"]\n",
        "#\n",
        "df_me2n_2025[\"Год\"] = \"2025\"\n",
        "cols = [\"Год\"] + [col for col in df_me2n_2025.columns if col != \"Год\"]\n",
        "#"
      ],
      "metadata": {
        "id": "H_U49LY4T1r_"
      },
      "execution_count": null,
      "outputs": []
    },
    {
      "cell_type": "code",
      "source": [
        " #ME2N DataFrame'leri bir listeye topla\n",
        "dfs2 = [df_me2n_2022, df_me2n_2023, df_me2n_2024, df_me2n_2025]\n",
        "\n",
        "# Hepsini birleştir\n",
        "df_me2n_2022_2025 = pd.concat(dfs2, ignore_index=True)\n",
        "df_me2n_2022_2025_ = pd.concat(dfs2, ignore_index=True)\n",
        "# Kontrol için ilk satırlara bak\n",
        "print(df_me2n_2022_2025.tail(5))"
      ],
      "metadata": {
        "id": "QMTtJqJqT3Lv"
      },
      "execution_count": null,
      "outputs": []
    },
    {
      "cell_type": "code",
      "source": [
        " df_me2n_2022_2025.sample(5, random_state=13)"
      ],
      "metadata": {
        "id": "MFMkBk3xT4oH"
      },
      "execution_count": null,
      "outputs": []
    },
    {
      "cell_type": "code",
      "source": [
        " df_me2n_2022_2025.rename(columns={'﻿Документ закупки': 'Документ_закупки'}, inplace=True)\n",
        "df_me2n_2022_2025.columns.values[2] = \"Зп_Поз\""
      ],
      "metadata": {
        "id": "D3xAKKJYT6N3"
      },
      "execution_count": null,
      "outputs": []
    },
    {
      "cell_type": "code",
      "source": [
        " df_calisilan.tail(5)"
      ],
      "metadata": {
        "id": "pTIfKQWBT7xX"
      },
      "execution_count": null,
      "outputs": []
    },
    {
      "cell_type": "code",
      "source": [
        "  df_calisilan[\"ZP-ZPPOZ_zmm059\"] = (\n",
        "    df_calisilan[\"Документ_закупки\"].astype(str) + \"_\" + df_calisilan[\"Зп_Поз\"].astype(str)\n",
        ")"
      ],
      "metadata": {
        "id": "_DaC1vT4T9Ax"
      },
      "execution_count": null,
      "outputs": []
    },
    {
      "cell_type": "code",
      "source": [
        "  df_calisilan[\"B3-B3POZ\"] = (\n",
        "    df_calisilan[\"Заявка\"].astype(str) + \"_\" + df_calisilan[\"Позиция заявки\"].astype(str)\n",
        ")"
      ],
      "metadata": {
        "id": "pgq6peibT-Tv"
      },
      "execution_count": null,
      "outputs": []
    },
    {
      "cell_type": "code",
      "source": [
        " df_me5a_2022_2025[\"B3-B3POZ\"] = (\n",
        "    df_me5a_2022_2025[\"﻿Заявка\"].astype(str) + \"_\" + df_me5a_2022_2025[\"Позиция заявки\"].astype(str)\n",
        ")"
      ],
      "metadata": {
        "id": "tI18-p4uT_e3"
      },
      "execution_count": null,
      "outputs": []
    },
    {
      "cell_type": "code",
      "source": [
        " df_me2n_2022_2025[\"ZP-ZPPOZ_me2n\"] = (\n",
        "    df_me2n_2022_2025[\"Документ_закупки\"].astype(str) + \"_\" + df_me2n_2022_2025[\"Зп_Поз\"].astype(str)\n",
        ")"
      ],
      "metadata": {
        "id": "7qCFo9lZUApf"
      },
      "execution_count": null,
      "outputs": []
    },
    {
      "cell_type": "code",
      "source": [
        "df_calisilan.head()"
      ],
      "metadata": {
        "id": "u83tv0I7UB_X"
      },
      "execution_count": null,
      "outputs": []
    },
    {
      "cell_type": "code",
      "source": [
        "df_me5a_2022_2025.head()"
      ],
      "metadata": {
        "id": "Wkt2eSRrUDen"
      },
      "execution_count": null,
      "outputs": []
    },
    {
      "cell_type": "code",
      "source": [
        " df_calisilan.rename(columns={'﻿Документ закупки': 'Документ_закупки'}, inplace=True)\n",
        "df_calisilan.rename(columns={'YIL': 'ГОД'}, inplace=True)\n",
        "df_calisilan.columns.values[2] = \"Зп_Поз\"\n",
        "df_tedarikci_listesi.rename(columns={'kod': 'Поставщик'}, inplace=True)\n"
      ],
      "metadata": {
        "id": "pKRI_JsKUE0g"
      },
      "execution_count": null,
      "outputs": []
    },
    {
      "cell_type": "code",
      "source": [
        "df_calisilan.head(5)"
      ],
      "metadata": {
        "id": "p90R9XAlUGcY"
      },
      "execution_count": null,
      "outputs": []
    },
    {
      "cell_type": "markdown",
      "source": [
        "Buradan sonra boş pozisyonları siliyoruz.\n",
        "С этого момента мы удаляем вакантные должности."
      ],
      "metadata": {
        "id": "X-eDzyO2UJUw"
      }
    },
    {
      "cell_type": "code",
      "source": [
        "  adetler = df_calisilan[\"B3-B3POZ\"].value_counts()"
      ],
      "metadata": {
        "id": "t4pRyvR8UHs4"
      },
      "execution_count": null,
      "outputs": []
    },
    {
      "cell_type": "code",
      "source": [
        "  mukerrer_kodlar = adetler[adetler > 1].index"
      ],
      "metadata": {
        "id": "wdMdTShNULRZ"
      },
      "execution_count": null,
      "outputs": []
    },
    {
      "cell_type": "code",
      "source": [
        "  silinmesi_gerekenler = df_calisilan[\n",
        "    (df_calisilan[\"B3-B3POZ\"].isin(mukerrer_kodlar)) &\n",
        "    (df_calisilan[\"Документ_закупки\"].isna())\n",
        "\n",
        "]"
      ],
      "metadata": {
        "id": "XaBsagFmUMfn"
      },
      "execution_count": null,
      "outputs": []
    },
    {
      "cell_type": "code",
      "source": [
        "  df_calisilan = df_calisilan.drop(silinmesi_gerekenler.index)"
      ],
      "metadata": {
        "id": "Vcg5uaOzUNvw"
      },
      "execution_count": null,
      "outputs": []
    },
    {
      "cell_type": "code",
      "source": [
        " print(f\"Kalan satır sayısı df_calısılan : {len(df_calisilan)}\")\n",
        "print(f\"Kalan satır sayısı df_zmm059_2022_2025: {len(df_zmm059_2022_2025)}\") #burada df i değşitirmek gerek"
      ],
      "metadata": {
        "id": "f6NBDvC3UPFA"
      },
      "execution_count": null,
      "outputs": []
    },
    {
      "cell_type": "code",
      "source": [
        "df_calisilan"
      ],
      "metadata": {
        "id": "35COfU0mUQfv"
      },
      "execution_count": null,
      "outputs": []
    },
    {
      "cell_type": "code",
      "source": [
        "df_calisilan.sample(5, random_state=13)"
      ],
      "metadata": {
        "id": "y1s8OWsfUR6Q"
      },
      "execution_count": null,
      "outputs": []
    },
    {
      "cell_type": "code",
      "source": [
        "for i, col in enumerate(df_calisilan.columns):\n",
        "    print(f\"{i}: {col}\")"
      ],
      "metadata": {
        "id": "2Pt5DBf_UTzx"
      },
      "execution_count": null,
      "outputs": []
    },
    {
      "cell_type": "markdown",
      "source": [
        "alttaki kodu sileceğiz"
      ],
      "metadata": {
        "id": "pbRatoxtUXOx"
      }
    },
    {
      "cell_type": "code",
      "source": [
        " # Silmek istediğin sütunların index (pozisyon) numaraları\n",
        "sil_indexler = [8,9,10,11,12,13,17,27,28,29,33,43,44,55,73,74,79,80,81,82,\n",
        "                83,84,85,86,87,88,89,90,91,93,94,95,96,97,98,99,100,101,102\n",
        "                ]  # 0'dan başlar, örneğin 2., 4. ve 6. sütun\n",
        "\n",
        "# Yeni DataFrame'i bu sütunlar hariç oluştur\n",
        "df_calisilan = df_calisilan.drop(df_calisilan.columns[sil_indexler], axis=1)"
      ],
      "metadata": {
        "id": "dgMbI-6PUU8I"
      },
      "execution_count": null,
      "outputs": []
    },
    {
      "cell_type": "code",
      "source": [
        "\n",
        "# Sütunları silme\n",
        "#df_zmm059_2022_2025_sutunsuz = df_zmm059_2022_2025.drop(columns=[\"Запрос\", \"Позиция.1\",\"Долгосрочный договор\",\n",
        "#\"Позиция ОснДоговора\",\"TR Наименование\",\"RU Наименование\",\"Номер проекта в SAS\",\n",
        "# \"Обозначение ВидДокум\",\"Условие платежа\",\"Срок платежа\",\"Задержка\",\"Вид материала\",\n",
        "#\"ДоговорнКоличество\",\"Номенклатура по договору\", \"Наименование номенклатуры по договору\",\n",
        "#\"Сумма договору\", \"Договорная цена нетто\",\"Имя клиента\",\"Дата доставки во Внутреннем заказ\",\n",
        "#\"Дата заявки\",\"PR / GR (%)\",\"PR / PO (%)\",\"Вид документа\",\"Внутр. заказ заводу-изготовителю\",\n",
        " # \"Автор ЗП в 1С\" ,\"Тип создания\",\"Склад\" ,\"Обозначение склада\",\"Requester\" ,\"Групповой номер\",\n",
        " #   \"Телефон\", \"Обозначение вида материал\" ,\"Группа закупок\",\n",
        " #\"Затребовал\",\"Количество во Внутреннем заказе\",\"Единица измерения\",\"№ комиссии\" ,\n",
        "# \"№ ЗП в 1С\" ])\n"
      ],
      "metadata": {
        "id": "hzWivGaGUZ3x"
      },
      "execution_count": null,
      "outputs": []
    },
    {
      "cell_type": "code",
      "source": [
        "df_calisilan.sample(5, random_state=13)"
      ],
      "metadata": {
        "id": "Bcr6IJvWUaXo"
      },
      "execution_count": null,
      "outputs": []
    },
    {
      "cell_type": "code",
      "source": [
        " df_calisilan[\"ГОД\"] = df_calisilan[\"ГОД\"].astype(str)  # string'e çevirmek istersen\n",
        "\n",
        "# Replace NaN values with a placeholder integer (e.g., 0) before converting to int\n",
        "df_calisilan[\"Документ_закупки\"] = df_calisilan[\"Документ_закупки\"].fillna(0).astype(int).astype(str)\n",
        "\n"
      ],
      "metadata": {
        "id": "tmZXgzTbUbjw"
      },
      "execution_count": null,
      "outputs": []
    },
    {
      "cell_type": "code",
      "source": [
        "df_calisilan.sample(5, random_state=13)"
      ],
      "metadata": {
        "id": "7WdlhrwOUcyw"
      },
      "execution_count": null,
      "outputs": []
    },
    {
      "cell_type": "code",
      "source": [
        "df_tedarikci_listesi.head(5)"
      ],
      "metadata": {
        "id": "2YpMTGoSUd7g"
      },
      "execution_count": null,
      "outputs": []
    },
    {
      "cell_type": "code",
      "source": [
        "def temizle_ve_cevir(x):\n",
        "    try:\n",
        "        return str(int(float(x)))\n",
        "    except:\n",
        "        return str(x)\n"
      ],
      "metadata": {
        "id": "edSB3wHCUfKY"
      },
      "execution_count": null,
      "outputs": []
    },
    {
      "cell_type": "code",
      "source": [
        " df_calisilan[\"Поставщик\"] = df_calisilan[\"Поставщик\"].apply(temizle_ve_cevir)"
      ],
      "metadata": {
        "id": "U3vffoh6UgiA"
      },
      "execution_count": null,
      "outputs": []
    },
    {
      "cell_type": "code",
      "source": [
        " # Tedarikçi sözlüğünü yine string anahtarlara göre oluştur\n",
        "tedarikci_dict = dict(zip(df_tedarikci_listesi.iloc[:, 0].astype(str), df_tedarikci_listesi.iloc[:, 1]))\n",
        "\n",
        "# Eşleştirme\n",
        "df_calisilan[\"имя_поставщика\"] = df_calisilan[\"Поставщик\"].map(tedarikci_dict)"
      ],
      "metadata": {
        "id": "fHtg9Rd-UhsR"
      },
      "execution_count": null,
      "outputs": []
    },
    {
      "cell_type": "code",
      "source": [
        " df_me5a_2022_2025[\"Материал\"] = df_me5a_2022_2025[\"Материал\"].apply(temizle_ve_cevir)"
      ],
      "metadata": {
        "id": "tK8OJnkaUjL4"
      },
      "execution_count": null,
      "outputs": []
    },
    {
      "cell_type": "code",
      "source": [
        " df_calisilan[\"Материал_B3\"] = df_calisilan[\"Материал\"].apply(temizle_ve_cevir)"
      ],
      "metadata": {
        "id": "OAhcRbTEUktB"
      },
      "execution_count": null,
      "outputs": []
    },
    {
      "cell_type": "code",
      "source": [
        "df_calisilan.head()"
      ],
      "metadata": {
        "id": "TK1Og1vDUl55"
      },
      "execution_count": null,
      "outputs": []
    },
    {
      "cell_type": "code",
      "source": [
        "  # Sözlük oluştur (anahtar: B3-B3POZ, değer: Материал)\n",
        "b3_to_material_dict = dict(zip(df_me5a_2022_2025[\"B3-B3POZ\"].astype(str), df_me5a_2022_2025[\"Материал\"]))\n"
      ],
      "metadata": {
        "id": "RSGb4O8BUnWp"
      },
      "execution_count": null,
      "outputs": []
    },
    {
      "cell_type": "code",
      "source": [
        " # B3-B3POZ'e göre eşleşen Материал'ları getir (yeni bir sütun olarak)\n",
        "df_calisilan[\"Материал_yeni\"] = df_calisilan[\"B3-B3POZ\"].astype(str).map(b3_to_material_dict)"
      ],
      "metadata": {
        "id": "cvVg5jsgUomR"
      },
      "execution_count": null,
      "outputs": []
    },
    {
      "cell_type": "code",
      "source": [
        " # Sadece boş olan Материал hücrelerini, eşleşen değerle doldur\n",
        "df_calisilan[\"Материал_B3\"] = df_calisilan[\"Материал_B3\"].fillna(df_calisilan[\"Материал_yeni\"])\n",
        "# Geçici sütunu silelim\n",
        "df_calisilan.drop(columns=[\"Материал_yeni\"], inplace=True)"
      ],
      "metadata": {
        "id": "XLE4mfH2UqCh"
      },
      "execution_count": null,
      "outputs": []
    },
    {
      "cell_type": "code",
      "source": [
        " # Sözlükleri oluştur\n",
        "ru_dict = dict(zip(df_material_list.iloc[:, 0].astype(str), df_material_list.iloc[:, 1]))\n",
        "tr_dict = dict(zip(df_material_list.iloc[:, 0].astype(str), df_material_list.iloc[:, 2]))\n",
        "\n",
        "# Eşleştir\n",
        "df_calisilan[\"RU Наименование\"] = df_calisilan[\"Материал_B3\"].astype(str).map(ru_dict)\n",
        "df_calisilan[\"TR Наименование\"] = df_calisilan[\"Материал_B3\"].astype(str).map(tr_dict)\n"
      ],
      "metadata": {
        "id": "Mew2H9fqUrgB"
      },
      "execution_count": null,
      "outputs": []
    },
    {
      "cell_type": "code",
      "source": [
        "df_calisilan[\"Материал_B3\"].isna().sum()"
      ],
      "metadata": {
        "id": "C1FC5QB_UsrR"
      },
      "execution_count": null,
      "outputs": []
    },
    {
      "cell_type": "code",
      "source": [
        "df_calisilan[[\"Материал_B3\", \"TR Наименование\",\"RU Наименование\"]]"
      ],
      "metadata": {
        "id": "TE4cX2TKUuDh"
      },
      "execution_count": null,
      "outputs": []
    },
    {
      "cell_type": "code",
      "source": [
        "df_calisilan[[\"Поставщик\", \"имя_поставщика\"]]"
      ],
      "metadata": {
        "id": "DWMmpcJtUvbx"
      },
      "execution_count": null,
      "outputs": []
    },
    {
      "cell_type": "code",
      "source": [
        "df_calisilan[\"Документ_закупки\"] = df_calisilan[\"Документ_закупки\"].replace(\"\", pd.NA)\n",
        "df_calisilan[\"Зп_Поз\"] = df_calisilan[\"Зп_Поз\"].replace(\"\", pd.NA)\n",
        "df_calisilan[\"Зп_Поз\"] = df_calisilan[\"Зп_Поз\"].replace(\" \", pd.NA)\n",
        "df_calisilan[\"Зп_Поз\"] = df_calisilan[\"Зп_Поз\"].replace(0, pd.NA)"
      ],
      "metadata": {
        "id": "rup517VAUwqK"
      },
      "execution_count": null,
      "outputs": []
    },
    {
      "cell_type": "code",
      "source": [
        "sorted_columns = sorted(df_calisilan.columns)\n",
        "print(sorted_columns)"
      ],
      "metadata": {
        "id": "snTVhsgPUyfp"
      },
      "execution_count": null,
      "outputs": []
    },
    {
      "cell_type": "markdown",
      "source": [
        "yıllara göre bölmek için aşağıdaki kodu kullan"
      ],
      "metadata": {
        "id": "W8SLbKLdU1OP"
      }
    },
    {
      "cell_type": "code",
      "source": [
        "df_calisilan[df_calisilan[['Количество по счету', 'Количество по счету.1']].notna().any(axis=1)][['Количество по счету', 'Количество по счету.1']]\n"
      ],
      "metadata": {
        "id": "iQXGLO2RUz1A"
      },
      "execution_count": null,
      "outputs": []
    },
    {
      "cell_type": "code",
      "source": [
        "sorted_columns = sorted(df_calisilan.columns)\n",
        "print(sorted_columns)\n"
      ],
      "metadata": {
        "id": "mUBmAiv7U2wB"
      },
      "execution_count": null,
      "outputs": []
    },
    {
      "cell_type": "code",
      "source": [
        "df_calisilan = df_calisilan.drop(columns=[\"Создал.1\",\"№ ЗП в 1С\",\"Группа закупок.1\",\"Дата создания.1\",\"Материалы анг.\",\"Материалы тур.\"])"
      ],
      "metadata": {
        "id": "eEsS8FhhU3_B"
      },
      "execution_count": null,
      "outputs": []
    },
    {
      "cell_type": "code",
      "source": [
        "df_me2n_2022_2025.sample(5, random_state=13)"
      ],
      "metadata": {
        "id": "stoRZnlxU5aR"
      },
      "execution_count": null,
      "outputs": []
    },
    {
      "cell_type": "code",
      "source": [
        "sorted_columns2 = sorted(df_me2n_2022_2025.columns)\n",
        "print(sorted_columns2)"
      ],
      "metadata": {
        "id": "Qoc855A7U6sR"
      },
      "execution_count": null,
      "outputs": []
    },
    {
      "cell_type": "code",
      "source": [
        "df_me2n_2022_2025.sample(n=5, random_state=13) # Use the .sample() method with dot notation"
      ],
      "metadata": {
        "id": "aLj_TWhBU8Aa"
      },
      "execution_count": null,
      "outputs": []
    },
    {
      "cell_type": "code",
      "source": [
        " me2n_sutunlar = [\n",
        "    \"ZP-ZPPOZ_me2n\",\"Год\",\"Дата документа\",\"Документ_закупки\",\"Зп_Поз\",\"Индикатор удаления\",\n",
        "    \"Наш знак\",\"Ваш код\",\n",
        "    \"Заявка\",\"Материал\",\"Наименование RU\",\"Наименование TR\",\n",
        "    \"Объем заказа\",\"еще поставить (количество)\",\"Складская ЕИ\",\"Еще для поставки (стоимость)\",\"Валюта\",\n",
        "    \"Инвентарный номер\",\"Имя поставщика\"\n",
        "]\n"
      ],
      "metadata": {
        "id": "qiZwb3HTU9bh"
      },
      "execution_count": null,
      "outputs": []
    },
    {
      "cell_type": "code",
      "source": [
        " # 1. ME2N'den doğrudan aktarma\n",
        "def aktar_me2n(df_me2n, df_yazdir, secilen_sutunlar):\n",
        "    for sutun in secilen_sutunlar:\n",
        "        if sutun in df_me2n.columns:\n",
        "            df_yazdir[sutun] = df_me2n[sutun]\n",
        "        else:\n",
        "            print(f\"Uyarı: '{sutun}' df_me2n_2022_2025 içinde bulunamadı.\")\n",
        "    return df_yazdir"
      ],
      "metadata": {
        "id": "JSh7Tpm5U-zS"
      },
      "execution_count": null,
      "outputs": []
    },
    {
      "cell_type": "code",
      "source": [
        " df_yazdir = aktar_me2n(df_me2n_2022_2025, df_yazdir, me2n_sutunlar)"
      ],
      "metadata": {
        "id": "q7lGhdllVADJ"
      },
      "execution_count": null,
      "outputs": []
    },
    {
      "cell_type": "code",
      "source": [
        "df_calisilan = df_calisilan.rename(columns={'Значок \"поставка завершена\"': 'Значок -поставка завершена-'})\n"
      ],
      "metadata": {
        "id": "kZLkCvW3VBfa"
      },
      "execution_count": null,
      "outputs": []
    },
    {
      "cell_type": "code",
      "source": [
        "column_list = list(df_calisilan.columns)\n",
        "print(column_list)"
      ],
      "metadata": {
        "id": "-3zZdu8gVDKS"
      },
      "execution_count": null,
      "outputs": []
    },
    {
      "cell_type": "code",
      "source": [
        "calisilan_sutunlar = [\n",
        "    \"ZP-ZPPOZ_zmm059\",\"B3-B3POZ\",\"Позиция заявки\",\"неполн.\",\"Создал\",\n",
        "    \"Группа закупок\",\"Название ГрЗакупок\" ,\"БЕ\",\"Название фирмы\",\"Группа материалов\",\"Название группы\",\n",
        "    \"Автор Внутреннего заказа\",\"Закуп. организация\", \"Завод\",\n",
        "    \"Значок -поставка завершена-\" ,\"Склад\"\n",
        "]\n"
      ],
      "metadata": {
        "id": "rILNbrbkVEi5"
      },
      "execution_count": null,
      "outputs": []
    },
    {
      "cell_type": "code",
      "source": [
        "def aktar_calisilan(df_calisilan, df_yazdir, secilen_sutunlar):\n",
        "    ortak_anahtar_calisilan = \"ZP-ZPPOZ_zmm059\"\n",
        "    ortak_anahtar_yazdir = \"ZP-ZPPOZ_me2n\"\n",
        "\n",
        "    for sutun in secilen_sutunlar:\n",
        "        if sutun in df_calisilan.columns:\n",
        "            # Mapping için dictionary oluştur\n",
        "            dict_sutun = df_calisilan.set_index(ortak_anahtar_calisilan)[sutun].to_dict()\n",
        "            # df_yazdir’a map ile aktar\n",
        "            df_yazdir[sutun] = df_yazdir[ortak_anahtar_yazdir].map(dict_sutun)\n",
        "        else:\n",
        "            print(f\"Uyarı: '{sutun}' df_calisilan içinde bulunamadı.\")\n",
        "\n",
        "    return df_yazdir\n"
      ],
      "metadata": {
        "id": "LFwcAZALVGQa"
      },
      "execution_count": null,
      "outputs": []
    },
    {
      "cell_type": "code",
      "source": [
        "df_yazdir = aktar_calisilan(df_calisilan, df_yazdir, calisilan_sutunlar)"
      ],
      "metadata": {
        "id": "2iHbmCw_VH3y"
      },
      "execution_count": null,
      "outputs": []
    },
    {
      "cell_type": "code",
      "source": [
        "df_yazdir.sample(n=5, random_state=13) # Use the .sample() method with dot notation"
      ],
      "metadata": {
        "id": "DYNJQTWkVJIi"
      },
      "execution_count": null,
      "outputs": []
    },
    {
      "cell_type": "code",
      "source": [
        "df_zmm059_2022_temiz = df_calisilan[df_calisilan[\"ГОД\"] == \"2022\"]\n",
        "df_zmm059_2023_temiz = df_calisilan[df_calisilan[\"ГОД\"] == \"2023\"]\n",
        "df_zmm059_2024_temiz = df_calisilan[df_calisilan[\"ГОД\"] == \"2024\"]\n",
        "df_zmm059_2025_temiz = df_calisilan[df_calisilan[\"ГОД\"] == \"2025\"]"
      ],
      "metadata": {
        "id": "sB79QVaDVKqi"
      },
      "execution_count": null,
      "outputs": []
    },
    {
      "cell_type": "markdown",
      "source": [
        "excelleri kaydetmek için kullan"
      ],
      "metadata": {
        "id": "crDsBLE9VOBS"
      }
    },
    {
      "cell_type": "code",
      "source": [
        "df_calisilan.shape\n"
      ],
      "metadata": {
        "id": "k1Gtwi00VMjD"
      },
      "execution_count": null,
      "outputs": []
    },
    {
      "cell_type": "markdown",
      "source": [
        "excelleri kaydetmek için kullan"
      ],
      "metadata": {
        "id": "jMcUQ3XRVR1y"
      }
    },
    {
      "cell_type": "code",
      "source": [
        " #XLSX formatında kaydetme\n",
        "#df_calisilan.to_excel(\"zmm059_2022_2025_temiz.xlsx\", index=False, engine=\"xlsxwriter\")\n",
        "#df_calisilan.to_excel(\"zmm059_2022_2025_temiz.xlsx\",index=False)\n",
        "#df_zmm059_2022_temiz.to_excel(\"zmm059_2022_temiz.xlsx\", index=False)\n",
        "#df_zmm059_2023_temiz.to_excel(\"zmm059_2023_temiz.xlsx\", index=False)\n",
        "#df_zmm059_2024_temiz.to_excel(\"zmm059_2024_temiz.xlsx\", index=False)\n",
        "#df_zmm059_2025_temiz.to_excel(\"zmm059_2025_temiz.xlsx\", index=False)"
      ],
      "metadata": {
        "id": "lAFajUMXVP_K"
      },
      "execution_count": null,
      "outputs": []
    },
    {
      "cell_type": "markdown",
      "source": [
        "excelleri indirmek için kullan"
      ],
      "metadata": {
        "id": "7C6RtEMxVTNy"
      }
    },
    {
      "cell_type": "code",
      "source": [
        "# Dosyayı indir\n",
        "#files.download(\"zmm059_2022_2025_temiz.xlsx\")\n",
        "#files.download(\"zmm059_2022_temiz.xlsx\")\n",
        "#files.download(\"zmm059_2023_temiz.xlsx\")\n",
        "#files.download(\"zmm059_2024_temiz.xlsx\")\n",
        "#files.download(\"zmm059_2025_temiz.xlsx\")\n",
        "#files.download(\"zmm059_2022_2025_temizsutunsuz.csv\")"
      ],
      "metadata": {
        "id": "rJEHwPU0VUja"
      },
      "execution_count": null,
      "outputs": []
    }
  ],
  "metadata": {
    "colab": {
      "name": "Welcome To Colab",
      "toc_visible": true,
      "provenance": [],
      "include_colab_link": true
    },
    "kernelspec": {
      "display_name": "Python 3",
      "name": "python3"
    }
  },
  "nbformat": 4,
  "nbformat_minor": 0
}