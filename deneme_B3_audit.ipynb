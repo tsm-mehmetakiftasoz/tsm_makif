{
  "cells": [
    {
      "cell_type": "markdown",
      "metadata": {
        "id": "view-in-github",
        "colab_type": "text"
      },
      "source": [
        "<a href=\"https://colab.research.google.com/github/tsm-mehmetakiftasoz/tsm_makif/blob/main/deneme_B3_audit.ipynb\" target=\"_parent\"><img src=\"https://colab.research.google.com/assets/colab-badge.svg\" alt=\"Open In Colab\"/></a>"
      ]
    },
    {
      "cell_type": "markdown",
      "source": [],
      "metadata": {
        "id": "mO6PmBJJToUr"
      }
    },
    {
      "cell_type": "code",
      "source": [
        "# Güncel kur oranları\n",
        "kur_cevir_mb = {\n",
        "    'USD': 1.0,\n",
        "    'EUR': 1.1428,               # 1 EUR = 1.1428 USD\n",
        "    'RUB': 1 / 78.71,            # 1 RUB = 0.012708 USD\n",
        "    'CHF': 1 / 0.8224,           # 1 CHF = 1.2157 USD\n",
        "    'TRY': 1 / 39.1896,          # 1 TRY = 0.02551 USD\n",
        "    None: None,\n",
        "    float('nan'): None\n",
        "}"
      ],
      "metadata": {
        "id": "x_fmFjYXTnCT"
      },
      "execution_count": 121,
      "outputs": []
    },
    {
      "cell_type": "code",
      "source": [
        "!pip install pandas\n",
        "!pip install xlsxwriter"
      ],
      "metadata": {
        "id": "0kdFsOKg0T88",
        "outputId": "435ef1e9-5438-453f-e1f0-4a65393b0a28",
        "colab": {
          "base_uri": "https://localhost:8080/"
        }
      },
      "execution_count": 122,
      "outputs": [
        {
          "output_type": "stream",
          "name": "stdout",
          "text": [
            "Requirement already satisfied: pandas in /usr/local/lib/python3.11/dist-packages (2.2.2)\n",
            "Requirement already satisfied: numpy>=1.23.2 in /usr/local/lib/python3.11/dist-packages (from pandas) (2.0.2)\n",
            "Requirement already satisfied: python-dateutil>=2.8.2 in /usr/local/lib/python3.11/dist-packages (from pandas) (2.9.0.post0)\n",
            "Requirement already satisfied: pytz>=2020.1 in /usr/local/lib/python3.11/dist-packages (from pandas) (2025.2)\n",
            "Requirement already satisfied: tzdata>=2022.7 in /usr/local/lib/python3.11/dist-packages (from pandas) (2025.2)\n",
            "Requirement already satisfied: six>=1.5 in /usr/local/lib/python3.11/dist-packages (from python-dateutil>=2.8.2->pandas) (1.17.0)\n",
            "Requirement already satisfied: xlsxwriter in /usr/local/lib/python3.11/dist-packages (3.2.3)\n"
          ]
        }
      ]
    },
    {
      "cell_type": "code",
      "source": [
        "import pandas as pd\n",
        "import numpy as np\n",
        "from google.colab import files\n",
        "from datetime import datetime"
      ],
      "metadata": {
        "id": "PZo8r-w82ntT"
      },
      "execution_count": 123,
      "outputs": []
    },
    {
      "cell_type": "code",
      "source": [
        "def temizle_ve_cevir_2_str(x):\n",
        "    try:\n",
        "        return str(int(float(x)))\n",
        "    except:\n",
        "        return str(x)\n"
      ],
      "metadata": {
        "id": "jlPYC3jI2qoj"
      },
      "execution_count": 124,
      "outputs": []
    },
    {
      "cell_type": "code",
      "source": [
        "def temizle_ve_cevir_2date(x):\n",
        "    try:\n",
        "        return pd.to_datetime(x.strip(), format=\"%d.%m.%Y\", errors=\"coerce\").date()\n",
        "    except (AttributeError, ValueError):\n",
        "        return pd.NaT\n"
      ],
      "metadata": {
        "id": "y69BvfLmDlu9"
      },
      "execution_count": 125,
      "outputs": []
    },
    {
      "cell_type": "code",
      "source": [
        "def str_to_float(s):\n",
        "    if pd.isna(s):\n",
        "        return None\n",
        "    return float(s.replace(\".\", \"\").replace(\",\", \".\"))"
      ],
      "metadata": {
        "id": "Rg4Gz5N82wjr"
      },
      "execution_count": 126,
      "outputs": []
    },
    {
      "cell_type": "code",
      "source": [
        "df_zmm059_2022 = pd.read_csv('/content/zmm059_2022.csv', sep=None, engine='python')\n",
        "df_zmm059_2023 = pd.read_csv('/content/zmm059_2023.csv', sep=None, engine='python')\n",
        "df_zmm059_2024_1 = pd.read_csv('/content/zmm059_2024_1.csv', sep=None, engine='python')\n",
        "df_zmm059_2024_2 = pd.read_csv('/content/zmm059_2024_2.csv', sep=None, engine='python')\n",
        "df_zmm059_2024_3 = pd.read_csv('/content/zmm059_2024_3.csv', sep=None, engine='python')\n",
        "df_zmm059_2024_4 = pd.read_csv('/content/zmm059_2024_4.csv', sep=None, engine='python')\n",
        "df_zmm059_2025 = pd.read_csv('/content/zmm059_2025.csv', sep=None, engine='python')"
      ],
      "metadata": {
        "id": "7o1mRUtqp9dk"
      },
      "execution_count": 127,
      "outputs": []
    },
    {
      "cell_type": "code",
      "source": [
        "# DataFrame'leri bir listeye topla\n",
        "dfs = [df_zmm059_2022, df_zmm059_2023, df_zmm059_2024_1, df_zmm059_2024_2, df_zmm059_2024_3, df_zmm059_2024_4, df_zmm059_2025]\n",
        "\n",
        "# Hepsini birleştir\n",
        "df_zmm059_2022_2025 = pd.concat(dfs, ignore_index=True)\n",
        "df_zmm059_2022_2025_ = pd.concat(dfs, ignore_index=True)\n",
        "# Kontrol için ilk satırlara bak\n",
        "#print(df_zmm059_2022_2025.tail(5))"
      ],
      "metadata": {
        "id": "xYkw9cynrPA2"
      },
      "execution_count": 128,
      "outputs": []
    },
    {
      "cell_type": "code",
      "source": [
        "df_calisilan = df_zmm059_2022_2025.copy()"
      ],
      "metadata": {
        "id": "y7WVbSjxqDN7"
      },
      "execution_count": 129,
      "outputs": []
    },
    {
      "cell_type": "code",
      "source": [
        "df_calisilan[\"B3-B3POZ\"] = (\n",
        "    df_calisilan[\"Заявка\"].astype(str) + \"_\" + df_calisilan[\"Позиция заявки\"].astype(str)\n",
        ")"
      ],
      "metadata": {
        "id": "ry7HBOv5qEAD"
      },
      "execution_count": 130,
      "outputs": []
    },
    {
      "cell_type": "code",
      "source": [
        "\n",
        "df_calisilan.rename(columns={'﻿Документ закупки': 'Документ_закупки'}, inplace=True)"
      ],
      "metadata": {
        "id": "UO4KXjVcqGj6"
      },
      "execution_count": 131,
      "outputs": []
    },
    {
      "cell_type": "code",
      "source": [
        "adetler = df_calisilan[\"B3-B3POZ\"].value_counts()"
      ],
      "metadata": {
        "id": "QyMMNzqSqTSS"
      },
      "execution_count": 132,
      "outputs": []
    },
    {
      "cell_type": "code",
      "source": [
        "mukerrer_kodlar = adetler[adetler > 1].index"
      ],
      "metadata": {
        "id": "7JpI-KJFqUiR"
      },
      "execution_count": 133,
      "outputs": []
    },
    {
      "cell_type": "code",
      "source": [
        "silinmesi_gerekenler = df_calisilan[\n",
        "    (df_calisilan[\"B3-B3POZ\"].isin(mukerrer_kodlar)) &\n",
        "    (df_calisilan[\"Документ_закупки\"].isna())\n",
        "\n",
        "]"
      ],
      "metadata": {
        "id": "WWJ5SwP-qWVn"
      },
      "execution_count": 134,
      "outputs": []
    },
    {
      "cell_type": "code",
      "source": [
        "df_calisilan = df_calisilan.drop(silinmesi_gerekenler.index)"
      ],
      "metadata": {
        "id": "1CDx_cJgqX31"
      },
      "execution_count": 135,
      "outputs": []
    },
    {
      "cell_type": "code",
      "source": [
        "#ME2N Raporlarını Yüklemek\n",
        "df_me2n_2022 = pd.read_csv('/content/ME2N_2022.csv', sep=None, engine='python')\n",
        "df_me2n_2023 = pd.read_csv('/content/ME2N_2023.csv', sep=None, engine='python')\n",
        "df_me2n_2024 = pd.read_csv('/content/ME2N_2024.csv', sep=None, engine='python')\n",
        "df_me2n_2025 = pd.read_csv('/content/ME2N_2025.csv', sep=None, engine='python')\n"
      ],
      "metadata": {
        "id": "bBeoa-O325qr"
      },
      "execution_count": 136,
      "outputs": []
    },
    {
      "cell_type": "code",
      "source": [
        "#ilk sutuna yıl yazdırma me2n\n",
        "df_me2n_2022[\"Год\"] = \"2022\"\n",
        "cols = [\"Год\"] + [col for col in df_me2n_2022.columns if col != \"Год\"]\n",
        "df_me2n_2022 = df_me2n_2022[cols]\n",
        "#\n",
        "df_me2n_2023[\"Год\"] = \"2023\"\n",
        "cols = [\"Год\"] + [col for col in df_me2n_2023.columns if col != \"Год\"]\n",
        "df_me2n_2023 = df_me2n_2023[cols]\n",
        "#\n",
        "df_me2n_2024[\"Год\"] = \"2024\"\n",
        "cols = [\"Год\"] + [col for col in df_me2n_2024.columns if col != \"Год\"]\n",
        "df_me2n_2024 = df_me2n_2024[cols]\n",
        "#\n",
        "df_me2n_2025[\"Год\"] = \"2025\"\n",
        "cols = [\"Год\"] + [col for col in df_me2n_2025.columns if col != \"Год\"]\n",
        "df_me2n_2025 = df_me2n_2025[cols]\n",
        "#"
      ],
      "metadata": {
        "id": "DpQZPgJ7AV1A"
      },
      "execution_count": 137,
      "outputs": []
    },
    {
      "cell_type": "code",
      "source": [
        "\n",
        "#ME2N DataFrame'leri bir listeye topla\n",
        "dfs2 = [df_me2n_2022, df_me2n_2023, df_me2n_2024, df_me2n_2025]\n",
        "\n",
        "# Hepsini birleştir\n",
        "df_me2n_2022_2025 = pd.concat(dfs2, ignore_index=True)\n",
        "#df_me2n_2022_2025_ = pd.concat(dfs2, ignore_index=True)\n",
        "# Kontrol için ilk satırlara bak\n",
        "#print(df_me2n_2022_2025.tail(5))"
      ],
      "metadata": {
        "id": "vv9t2bkNAX9g"
      },
      "execution_count": 138,
      "outputs": []
    },
    {
      "cell_type": "code",
      "source": [
        "#me5a raporunu yüklemek\n",
        "df_me5a_2022 = pd.read_csv('/content/ME5A_2022.csv', sep=None, engine='python')\n",
        "df_me5a_2023 = pd.read_csv('/content/ME5A_2023.csv', sep=None, engine='python')\n",
        "df_me5a_2024 = pd.read_csv('/content/ME5A_2024.csv', sep=None, engine='python')\n",
        "df_me5a_2025 = pd.read_csv('/content/ME5A_2025.csv', sep=None, engine='python')\n",
        "\n",
        "\n",
        "# sep=None will automatically detect the delimiter\n",
        "# engine='python' is slower but more robust for complex cases"
      ],
      "metadata": {
        "id": "eVHpnH9rAaTQ"
      },
      "execution_count": 139,
      "outputs": []
    },
    {
      "cell_type": "code",
      "source": [
        "#ilk sutuna yıl yazdırma me2n\n",
        "df_me5a_2022[\"Год\"] = \"2022\"\n",
        "cols = [\"Год\"] + [col for col in df_me5a_2022.columns if col != \"Год\"]\n",
        "df_me5a_2022 = df_me5a_2022[cols]\n",
        "#\n",
        "df_me5a_2023[\"Год\"] = \"2023\"\n",
        "cols = [\"Год\"] + [col for col in df_me5a_2023.columns if col != \"Год\"]\n",
        "df_me5a_2023 = df_me5a_2023[cols]\n",
        "#\n",
        "df_me5a_2024[\"Год\"] = \"2024\"\n",
        "cols = [\"Год\"] + [col for col in df_me5a_2024.columns if col != \"Год\"]\n",
        "df_me5a_2024 = df_me5a_2024[cols]\n",
        "#\n",
        "df_me5a_2025[\"Год\"] = \"2025\"\n",
        "cols = [\"Год\"] + [col for col in df_me5a_2025.columns if col != \"Год\"]\n",
        "df_me5a_2025 = df_me5a_2025[cols]\n",
        "#"
      ],
      "metadata": {
        "id": "OcpBMhWqHeO4"
      },
      "execution_count": 140,
      "outputs": []
    },
    {
      "cell_type": "code",
      "source": [
        "#ME2N DataFrame'leri bir listeye topla\n",
        "dfs3 = [df_me5a_2022, df_me5a_2023, df_me5a_2024, df_me5a_2025]\n",
        "\n",
        "# Hepsini birleştir\n",
        "df_me5a_2022_2025 = pd.concat(dfs3, ignore_index=True)\n",
        "#df_me2n_2022_2025_ = pd.concat(dfs2, ignore_index=True)\n",
        "# Kontrol için ilk satırlara bak\n",
        "#print(df_me2n_2022_2025.tail(5))"
      ],
      "metadata": {
        "id": "EALts8grAhdJ"
      },
      "execution_count": 141,
      "outputs": []
    },
    {
      "cell_type": "code",
      "source": [
        "df_me2n_2022_2025.rename(columns={'﻿Документ закупки': 'Документ_закупки'}, inplace=True)\n",
        "df_me2n_2022_2025.rename(columns={'Позиция': 'ЗП_Позиция'}, inplace=True)\n",
        "df_me2n_2022_2025.rename(columns={'Материал': 'Материал_ЗП'}, inplace=True)"
      ],
      "metadata": {
        "id": "SV5ygt83BP5L"
      },
      "execution_count": 142,
      "outputs": []
    },
    {
      "cell_type": "code",
      "source": [
        "sutun_listesi_2str_me2n = [\"Документ_закупки\",\"ЗП_Позиция\",\"Закуп. организация\",\"Заявка\",\"Материал_ЗП\"]"
      ],
      "metadata": {
        "id": "xpn8lkvzAzpa"
      },
      "execution_count": 143,
      "outputs": []
    },
    {
      "cell_type": "code",
      "source": [
        "for s in sutun_listesi_2str_me2n:\n",
        "    # Apply the robust cleaning and conversion function\n",
        "    df_me2n_2022_2025[s] = df_me2n_2022_2025[s].apply(temizle_ve_cevir_2_str)"
      ],
      "metadata": {
        "id": "1BQVRmlgA_qz"
      },
      "execution_count": 144,
      "outputs": []
    },
    {
      "cell_type": "code",
      "source": [
        "sutun_listesi_str2float_me2n =[\"Объем заказа\",\"еще поставить (количество)\",\n",
        "                               \"Количество в СЕИ\",\"Цена нетто\",\n",
        "                               \"СтоимЗаказа нетто\",\"Еще для поставки (стоимость)\"\n",
        "]"
      ],
      "metadata": {
        "id": "RgBRYGu7CGp8"
      },
      "execution_count": 145,
      "outputs": []
    },
    {
      "cell_type": "code",
      "source": [
        "for s1 in sutun_listesi_str2float_me2n:\n",
        "    # Apply the robust cleaning and conversion function\n",
        "    df_me2n_2022_2025[s1] = df_me2n_2022_2025[s1].apply(str_to_float)"
      ],
      "metadata": {
        "id": "MAQKJh57Cxcu"
      },
      "execution_count": 146,
      "outputs": []
    },
    {
      "cell_type": "code",
      "source": [
        "sutun_listesi_str2date_me2n =[\"Дата документа\",\"Дата поставки\"]\n"
      ],
      "metadata": {
        "id": "4luU55kaC9Km"
      },
      "execution_count": 147,
      "outputs": []
    },
    {
      "cell_type": "code",
      "source": [
        "for s2 in sutun_listesi_str2date_me2n:\n",
        "    # Apply the robust cleaning and conversion function\n",
        "    df_me2n_2022_2025[s2] = df_me2n_2022_2025[s2].apply(temizle_ve_cevir_2date)"
      ],
      "metadata": {
        "id": "0T9oKl41D4pT"
      },
      "execution_count": 148,
      "outputs": []
    },
    {
      "cell_type": "code",
      "source": [
        "df_me5a_2022_2025.rename(columns={'﻿Заявка': 'Заявка'}, inplace=True)\n",
        "df_me5a_2022_2025.rename(columns={'Заказ на поставку': 'Документ_закупки'}, inplace=True)\n",
        "df_me5a_2022_2025.rename(columns={'Позиция ЗкзНаПостав': 'ЗП_Позиция'}, inplace=True)\n",
        "df_me5a_2022_2025.rename(columns={'Материал': 'Материал_ВЗ'}, inplace=True)"
      ],
      "metadata": {
        "id": "P7cfV_XaEI3i"
      },
      "execution_count": 149,
      "outputs": []
    },
    {
      "cell_type": "code",
      "source": [
        "sutun_listesi_2str_me5a = [\"Документ_закупки\",\"ЗП_Позиция\",\"Заявка\",\"Позиция заявки\",\"Материал_ВЗ\",\"Закуп. организация\"]"
      ],
      "metadata": {
        "id": "wY-sUjN5EyYb"
      },
      "execution_count": 150,
      "outputs": []
    },
    {
      "cell_type": "code",
      "source": [
        "for s3 in sutun_listesi_2str_me5a:\n",
        "    # Apply the robust cleaning and conversion function\n",
        "    df_me5a_2022_2025[s3] = df_me5a_2022_2025[s3].apply(temizle_ve_cevir_2_str)"
      ],
      "metadata": {
        "id": "MBdXknlCFjAN"
      },
      "execution_count": 151,
      "outputs": []
    },
    {
      "cell_type": "code",
      "source": [
        "sutun_listesi_str2float_me5a =[\"ЗатребованКолич\",\"Заказанное к-во\"\n",
        "]"
      ],
      "metadata": {
        "id": "sSK2bpJWFpwk"
      },
      "execution_count": 152,
      "outputs": []
    },
    {
      "cell_type": "code",
      "source": [
        "for s4 in sutun_listesi_str2float_me5a:\n",
        "    # Apply the robust cleaning and conversion function\n",
        "    df_me5a_2022_2025[s4] = df_me5a_2022_2025[s4].apply(str_to_float)"
      ],
      "metadata": {
        "id": "MwHrl5VJGDT-"
      },
      "execution_count": 153,
      "outputs": []
    },
    {
      "cell_type": "code",
      "source": [
        "sutun_listesi_str2date_me5a =[\"Дата заявки\",\"Дата изменения\",\"Дата заказа\",\"Дата поставки\",\"Дата деблокирования\"]"
      ],
      "metadata": {
        "id": "XcEeKuNTGTPv"
      },
      "execution_count": 154,
      "outputs": []
    },
    {
      "cell_type": "code",
      "source": [
        "for s5 in sutun_listesi_str2date_me5a:\n",
        "    # Apply the robust cleaning and conversion function\n",
        "    df_me5a_2022_2025[s5] = df_me5a_2022_2025[s5].apply(temizle_ve_cevir_2date)"
      ],
      "metadata": {
        "id": "QhvnkbY0Gv3l"
      },
      "execution_count": 155,
      "outputs": []
    },
    {
      "cell_type": "code",
      "source": [
        "df_me2n_2022_2025['Заявка'] = df_me2n_2022_2025['Заявка'].replace(['nan', 'NaN', 'None'], np.nan)\n"
      ],
      "metadata": {
        "id": "H_SMmqVjtTnA"
      },
      "execution_count": 156,
      "outputs": []
    },
    {
      "cell_type": "code",
      "source": [
        "df_calisilan[\"Документ_закупки\"] = df_calisilan[\"Документ_закупки\"].apply(temizle_ve_cevir_2_str)"
      ],
      "metadata": {
        "id": "ctUwhkwHwdFb"
      },
      "execution_count": 157,
      "outputs": []
    },
    {
      "cell_type": "code",
      "source": [
        "# 1. dict oluştur: Документ_закупки -> Создал eşleştirmesi\n",
        "doc_to_creator = dict(zip(df_calisilan[\"Документ_закупки\"], df_calisilan[\"Создал\"]))\n",
        "\n",
        "# 2. df_me2n_2022_2025'e yeni bir sütun ekle: Создал\n",
        "df_me2n_2022_2025[\"Создал\"] = df_me2n_2022_2025[\"Документ_закупки\"].map(doc_to_creator)\n"
      ],
      "metadata": {
        "id": "R0gfksDewjGa"
      },
      "execution_count": 158,
      "outputs": []
    },
    {
      "cell_type": "code",
      "source": [
        "#ZP-ZPPOZ BİRLEŞTİRME --ME2N\n",
        "df_me2n_2022_2025[\"ЗП-ЗП_ПОЗ_ME2N\"] = (\n",
        "    df_me2n_2022_2025[\"Документ_закупки\"].astype(str) + \"_\" + df_me2n_2022_2025[\"ЗП_Позиция\"].astype(str)\n",
        ")"
      ],
      "metadata": {
        "id": "AzL6PJn9IAtI"
      },
      "execution_count": 159,
      "outputs": []
    },
    {
      "cell_type": "code",
      "source": [
        "#ZP-ZPPOZ BİRLEŞTİRME -- ME5A\n",
        "df_me5a_2022_2025[\"ЗП-ЗП_ПОЗ_ME5A\"] = (\n",
        "    df_me5a_2022_2025[\"Документ_закупки\"].astype(str) + \"_\" + df_me5a_2022_2025[\"ЗП_Позиция\"].astype(str)\n",
        ")"
      ],
      "metadata": {
        "id": "U6SdkKPcjEj3"
      },
      "execution_count": 160,
      "outputs": []
    },
    {
      "cell_type": "code",
      "source": [
        "#ZP-ZPPOZ BİRLEŞTİRME -- ME5A\n",
        "df_me5a_2022_2025[\"ВЗ-ВЗ_ПОЗ_ME5A\"] = (\n",
        "    df_me5a_2022_2025[\"Заявка\"].astype(str) + \"_\" + df_me5a_2022_2025[\"Позиция заявки\"].astype(str)\n",
        ")"
      ],
      "metadata": {
        "id": "sG9QtYlFx5BU"
      },
      "execution_count": 161,
      "outputs": []
    },
    {
      "cell_type": "code",
      "source": [
        "#B3+MATERİAL -- ME2N\n",
        "df_me2n_2022_2025[\"В3+МАТЕРИАЛ\"] = (\n",
        "    df_me2n_2022_2025[\"Заявка\"].astype(str) + \"_\" + df_me2n_2022_2025[\"Материал_ЗП\"].astype(str)\n",
        ")"
      ],
      "metadata": {
        "id": "ghPDHl_POnpd"
      },
      "execution_count": 162,
      "outputs": []
    },
    {
      "cell_type": "code",
      "source": [
        "#B3+MATERİAL -- ME5A\n",
        "df_me5a_2022_2025[\"В3+МАТЕРИАЛ\"] = (\n",
        "    df_me5a_2022_2025[\"Заявка\"].astype(str) + \"_\" + df_me5a_2022_2025[\"Материал_ВЗ\"].astype(str) )"
      ],
      "metadata": {
        "id": "Yo9szNHqjAh6"
      },
      "execution_count": 163,
      "outputs": []
    },
    {
      "cell_type": "code",
      "source": [
        "# Mapping için bir sözlük oluştur\n",
        "mapping_dict = df_me5a_2022_2025.set_index('ЗП-ЗП_ПОЗ_ME5A')['Позиция заявки'].to_dict()\n",
        "\n",
        "# df_me2n_2022_2025'e yeni sütunu ekle\n",
        "df_me2n_2022_2025['Позиция заявки'] = df_me2n_2022_2025['ЗП-ЗП_ПОЗ_ME2N'].map(mapping_dict)\n"
      ],
      "metadata": {
        "id": "RPPewz-JevHu"
      },
      "execution_count": 164,
      "outputs": []
    },
    {
      "cell_type": "code",
      "source": [
        "# 1. Mapping için sözlük oluştur\n",
        "mapping_dict2 = df_me5a_2022_2025.set_index('ЗП-ЗП_ПОЗ_ME5A')['Заявка'].to_dict()\n",
        "\n",
        "# 2. Sadece boş olanları doldur: df_me2n_2022_2025 içindeki 'Заявка' sütunu boş olanlara map uygula\n",
        "df_me2n_2022_2025['Заявка'] = df_me2n_2022_2025['Заявка'].fillna(\n",
        "    df_me2n_2022_2025['ЗП-ЗП_ПОЗ_ME2N'].map(mapping_dict2)\n",
        ")\n"
      ],
      "metadata": {
        "id": "ERW_9Y7RHyKY"
      },
      "execution_count": 165,
      "outputs": []
    },
    {
      "cell_type": "code",
      "source": [
        "# Mapping sözlüğünü oluştur\n",
        "mapping_dict2 = df_me5a_2022_2025.set_index('В3+МАТЕРИАЛ')['Позиция заявки'].to_dict()\n",
        "\n",
        "# Sadece boş (NaN) olan değerleri güncelle\n",
        "mask = df_me2n_2022_2025['Позиция заявки'].isna()\n",
        "df_me2n_2022_2025.loc[mask, 'Позиция заявки'] = (\n",
        "    df_me2n_2022_2025.loc[mask, 'В3+МАТЕРИАЛ'].map(mapping_dict2)\n",
        ")"
      ],
      "metadata": {
        "id": "2yjrIO8Ijvh2"
      },
      "execution_count": 166,
      "outputs": []
    },
    {
      "cell_type": "code",
      "source": [
        "df_me2n_2022_2025_zp_bez_vz = df_me2n_2022_2025[df_me2n_2022_2025['Заявка'].isna()]"
      ],
      "metadata": {
        "id": "AA5yen1rqwOQ"
      },
      "execution_count": 167,
      "outputs": []
    },
    {
      "cell_type": "code",
      "source": [
        "#ZP-ZPPOZ BİRLEŞTİRME -- ME5A\n",
        "df_me2n_2022_2025[\"ВЗ-ВЗ_ПОЗ_ME2N\"] = (\n",
        "    df_me2n_2022_2025[\"Заявка\"].astype(str) + \"_\" + df_me2n_2022_2025[\"Позиция заявки\"].astype(str)\n",
        ")"
      ],
      "metadata": {
        "id": "yu6zhbgmyKVk"
      },
      "execution_count": 168,
      "outputs": []
    },
    {
      "cell_type": "code",
      "source": [
        "# Sadece 'Индикатор удаления' sütunu boş (NaN) olan satırları tut\n",
        "df_me2n_2022_2025 = df_me2n_2022_2025[df_me2n_2022_2025['Индикатор удаления'].isna()]\n"
      ],
      "metadata": {
        "id": "i9szkCm71akd"
      },
      "execution_count": 169,
      "outputs": []
    },
    {
      "cell_type": "code",
      "source": [
        "df_me5a_2022_2025['Veri_Kaynagi1']=\"ME5A\""
      ],
      "metadata": {
        "id": "XemMMgPCi-At"
      },
      "execution_count": 170,
      "outputs": []
    },
    {
      "cell_type": "code",
      "source": [
        "df_me2n_2022_2025['Veri_Kaynagi2']=\"ME2N\""
      ],
      "metadata": {
        "id": "6yCuqH192Nq_",
        "outputId": "16b2a3ea-879f-40b4-e963-ccf1974cb795",
        "colab": {
          "base_uri": "https://localhost:8080/"
        }
      },
      "execution_count": 171,
      "outputs": [
        {
          "output_type": "stream",
          "name": "stderr",
          "text": [
            "<ipython-input-171-3726974050>:1: SettingWithCopyWarning: \n",
            "A value is trying to be set on a copy of a slice from a DataFrame.\n",
            "Try using .loc[row_indexer,col_indexer] = value instead\n",
            "\n",
            "See the caveats in the documentation: https://pandas.pydata.org/pandas-docs/stable/user_guide/indexing.html#returning-a-view-versus-a-copy\n",
            "  df_me2n_2022_2025['Veri_Kaynagi2']=\"ME2N\"\n"
          ]
        }
      ]
    },
    {
      "cell_type": "code",
      "source": [
        "#df_me2n_2022_2025.info()"
      ],
      "metadata": {
        "id": "Mf0mwYzd0Rxp"
      },
      "execution_count": 172,
      "outputs": []
    },
    {
      "cell_type": "code",
      "source": [
        "df_me2n_2022_2025_grouped = df_me2n_2022_2025.groupby('ВЗ-ВЗ_ПОЗ_ME2N').agg({\n",
        "    'Veri_Kaynagi2' :'first',\n",
        "    'Год': 'first' ,\n",
        "    'Заявка': 'first',\n",
        "    'Позиция заявки':'first',\n",
        "    'Документ_закупки':'first',\n",
        "    'ЗП_Позиция':'first',\n",
        "    'Создал': 'first',\n",
        "    'Индикатор удаления':'first',\n",
        "    'Дата документа': 'first',\n",
        "    'Наш знак': 'first',\n",
        "    'Ваш код': 'first',\n",
        "    'Имя поставщика': 'first',\n",
        "    'Закуп. организация': 'first',\n",
        "    'Заявка': 'first',\n",
        "    'Позиция заявки': 'first',\n",
        "    'Материал_ЗП': 'first',\n",
        "    'Инвентарный номер': 'first',\n",
        "    'Наименование RU': 'first',\n",
        "    'Наименование TR':'first',\n",
        "    'Объем заказа': 'sum',\n",
        "    'еще поставить (количество)': 'sum',\n",
        "    'Складская ЕИ':'first',\n",
        "    'Еще для поставки (стоимость)': 'sum',\n",
        "    'Валюта':'first',\n",
        "    'Вид докум. закупки': 'first',\n",
        "\n",
        "}).reset_index()\n"
      ],
      "metadata": {
        "id": "p3U0S5m6zHbP"
      },
      "execution_count": 173,
      "outputs": []
    },
    {
      "cell_type": "code",
      "source": [
        "df_me2n_2022_2025_grouped.info()"
      ],
      "metadata": {
        "id": "jyfLVejhLF5X",
        "outputId": "ebf8c132-2f85-49c4-f7b0-e300c58c862b",
        "colab": {
          "base_uri": "https://localhost:8080/"
        }
      },
      "execution_count": 174,
      "outputs": [
        {
          "output_type": "stream",
          "name": "stdout",
          "text": [
            "<class 'pandas.core.frame.DataFrame'>\n",
            "RangeIndex: 242590 entries, 0 to 242589\n",
            "Data columns (total 24 columns):\n",
            " #   Column                        Non-Null Count   Dtype  \n",
            "---  ------                        --------------   -----  \n",
            " 0   ВЗ-ВЗ_ПОЗ_ME2N                242590 non-null  object \n",
            " 1   Veri_Kaynagi2                 242590 non-null  object \n",
            " 2   Год                           242590 non-null  object \n",
            " 3   Заявка                        242589 non-null  object \n",
            " 4   Позиция заявки                242187 non-null  object \n",
            " 5   Документ_закупки              242590 non-null  object \n",
            " 6   ЗП_Позиция                    242590 non-null  object \n",
            " 7   Создал                        242545 non-null  object \n",
            " 8   Индикатор удаления            0 non-null       object \n",
            " 9   Дата документа                242590 non-null  object \n",
            " 10  Наш знак                      238461 non-null  object \n",
            " 11  Ваш код                       242510 non-null  object \n",
            " 12  Имя поставщика                242515 non-null  object \n",
            " 13  Закуп. организация            242590 non-null  object \n",
            " 14  Материал_ЗП                   242590 non-null  object \n",
            " 15  Инвентарный номер             216114 non-null  object \n",
            " 16  Наименование RU               242480 non-null  object \n",
            " 17  Наименование TR               242442 non-null  object \n",
            " 18  Объем заказа                  242590 non-null  float64\n",
            " 19  еще поставить (количество)    242590 non-null  float64\n",
            " 20  Складская ЕИ                  242481 non-null  object \n",
            " 21  Еще для поставки (стоимость)  242590 non-null  float64\n",
            " 22  Валюта                        242515 non-null  object \n",
            " 23  Вид докум. закупки            242590 non-null  object \n",
            "dtypes: float64(3), object(21)\n",
            "memory usage: 44.4+ MB\n"
          ]
        }
      ]
    },
    {
      "cell_type": "code",
      "source": [
        "df_me2n_2022_2025_grouped.sample(n=10 , random_state=2)"
      ],
      "metadata": {
        "id": "_m_Y_gHJkl3d",
        "outputId": "5daab497-602f-4bd2-9b9d-3306c4a87ee0",
        "colab": {
          "base_uri": "https://localhost:8080/",
          "height": 621
        }
      },
      "execution_count": 175,
      "outputs": [
        {
          "output_type": "execute_result",
          "data": {
            "text/plain": [
              "         ВЗ-ВЗ_ПОЗ_ME2N Veri_Kaynagi2   Год      Заявка Позиция заявки  \\\n",
              "127241  2200012946_4500          ME2N  2024  2200012946           4500   \n",
              "174982  9900000675_4110          ME2N  2024  9900000675           4110   \n",
              "113374   2200009937_380          ME2N  2024  2200009937            380   \n",
              "190910  9900000976_7240          ME2N  2024  9900000976           7240   \n",
              "6211     2100001366_190          ME2N  2023  2100001366            190   \n",
              "157027  9900000202_2430          ME2N  2024  9900000202           2430   \n",
              "236117    9900003555_30          ME2N  2025  9900003555             30   \n",
              "154160  9900000147_5060          ME2N  2024  9900000147           5060   \n",
              "15163     2100003352_10          ME2N  2024  2100003352             10   \n",
              "166750   9900000427_110          ME2N  2024  9900000427            110   \n",
              "\n",
              "       Документ_закупки ЗП_Позиция        Создал Индикатор удаления  \\\n",
              "127241       3100011013       4500      ACHARYEV               None   \n",
              "174982       3100010315        210    VKUZMICHEV               None   \n",
              "113374       3100008086       1690  NBEREZOVSKAY               None   \n",
              "190910       3100009246       3490      IKOVALEV               None   \n",
              "6211         3100003107        170  KDUVERLIOGLU               None   \n",
              "157027       3100006700      15950         MAKIF               None   \n",
              "236117       3100012504         40   ILUKIANCHUK               None   \n",
              "154160       3100008319        730    VKUZMICHEV               None   \n",
              "15163        3100010858         10     SISIGUZEL               None   \n",
              "166750       3100008314        310    VKUZMICHEV               None   \n",
              "\n",
              "       Дата документа  ... Материал_ЗП                  Инвентарный номер  \\\n",
              "127241     2024-11-26  ...  4500459468    AKU.0130.10UMA.0.KM.TB0029(C01)   \n",
              "174982     2024-10-02  ...  4500348333    AKU.0120.10UKC.0.KM.LH0007(C02)   \n",
              "113374     2024-06-07  ...  4500132871  AKU.0130.10UMA.SGC.PT.TB0007(C01)   \n",
              "190910     2024-08-22  ...  4500362453    AKU.0120.10UJA.0.KM.LC0128(C01)   \n",
              "6211       2023-07-11  ...  4500111043                               None   \n",
              "157027     2024-02-25  ...  4500298572    AKU.0120.10UJA.0.KM.LC0123(C01)   \n",
              "236117     2025-03-26  ...  4500321498    AKU.0120.11UBN.0.KZ.LC0004(C01)   \n",
              "154160     2024-07-09  ...  4500291351    AKU.0120.00USY.0.KM.LC0030(C01)   \n",
              "15163      2024-11-06  ...  4500090953                               None   \n",
              "166750     2024-07-08  ...  4500321244    AKU.0120.12UBN.0.KZ.LC0010(C01)   \n",
              "\n",
              "                                 Наименование RU  \\\n",
              "127241          10UMA.0.KM.TB0029-23/232-М1095-1   \n",
              "174982          AKU.0120.10UKC.0.KM.LH0007.B1/23   \n",
              "113374  Спрей цинковый MZN-400 арт.2048192 ф.\"Hi   \n",
              "190910          AKU.0120.10UJA.0.KM.LC0128.B7/38   \n",
              "6211              ТОВАРНЫЙ БЕТОН B30 P4 W6 230KG   \n",
              "157027          AKU.0120.10UJA.0.KM.LC0123.B1-90   \n",
              "236117         AKU.0120.11UBN.0.KZ.LC0004 TA3-14   \n",
              "154160         AKU.0120.00USY.0.KM.LC0030 GR2-15   \n",
              "15163              МОТОРИН ПРО ДИЗЕЛЬНОЕ ТОПЛИВО   \n",
              "166750          AKU.0120.12UBN.0.KZ.LC0010 TD2-1   \n",
              "\n",
              "                          Наименование TR Объем заказа  \\\n",
              "127241   10UMA.0.KM.TB0029-23/232-М1095-1         7.88   \n",
              "174982   AKU.0120.10UKC.0.KM.LH0007.B1/23         1.00   \n",
              "113374  ÇİNKO SPREY MZN-400 2048192 Hilti         6.00   \n",
              "190910   AKU.0120.10UJA.0.KM.LC0128.B7/38         1.00   \n",
              "6211          HAZIR BETON B30 P4 W6 230KG        48.00   \n",
              "157027   AKU.0120.10UJA.0.KM.LC0123.B1-90         1.00   \n",
              "236117  AKU.0120.11UBN.0.KZ.LC0004 TA3-14         2.00   \n",
              "154160  AKU.0120.00USY.0.KM.LC0030 GR2-15         1.00   \n",
              "15163                   MOTORİN PRO DİZEL     29804.00   \n",
              "166750   AKU.0120.12UBN.0.KZ.LC0010 TD2-1         1.00   \n",
              "\n",
              "       еще поставить (количество) Складская ЕИ Еще для поставки (стоимость)  \\\n",
              "127241                        0.0           КГ                         0.00   \n",
              "174982                        0.0           ШТ                         0.00   \n",
              "113374                        0.0           ШТ                         0.00   \n",
              "190910                        0.0           ШТ                         0.00   \n",
              "6211                          0.0           М3                         0.00   \n",
              "157027                        1.0           ШТ                       944.84   \n",
              "236117                        0.0           ШТ                         0.00   \n",
              "154160                        0.0           ШТ                         0.00   \n",
              "15163                         0.0            Л                         0.00   \n",
              "166750                        0.0           ШТ                         0.00   \n",
              "\n",
              "        Валюта  Вид докум. закупки  \n",
              "127241     USD                ZSUP  \n",
              "174982     USD                ZSUP  \n",
              "113374     EUR                ZSUP  \n",
              "190910     USD                ZSUP  \n",
              "6211       USD                ZSUP  \n",
              "157027     USD                ZSUP  \n",
              "236117     USD                ZSUP  \n",
              "154160     USD                ZSUP  \n",
              "15163      TRY                ZSUP  \n",
              "166750     USD                ZSUP  \n",
              "\n",
              "[10 rows x 24 columns]"
            ],
            "text/html": [
              "\n",
              "  <div id=\"df-325971d9-459b-425d-b5aa-edd22c721d96\" class=\"colab-df-container\">\n",
              "    <div>\n",
              "<style scoped>\n",
              "    .dataframe tbody tr th:only-of-type {\n",
              "        vertical-align: middle;\n",
              "    }\n",
              "\n",
              "    .dataframe tbody tr th {\n",
              "        vertical-align: top;\n",
              "    }\n",
              "\n",
              "    .dataframe thead th {\n",
              "        text-align: right;\n",
              "    }\n",
              "</style>\n",
              "<table border=\"1\" class=\"dataframe\">\n",
              "  <thead>\n",
              "    <tr style=\"text-align: right;\">\n",
              "      <th></th>\n",
              "      <th>ВЗ-ВЗ_ПОЗ_ME2N</th>\n",
              "      <th>Veri_Kaynagi2</th>\n",
              "      <th>Год</th>\n",
              "      <th>Заявка</th>\n",
              "      <th>Позиция заявки</th>\n",
              "      <th>Документ_закупки</th>\n",
              "      <th>ЗП_Позиция</th>\n",
              "      <th>Создал</th>\n",
              "      <th>Индикатор удаления</th>\n",
              "      <th>Дата документа</th>\n",
              "      <th>...</th>\n",
              "      <th>Материал_ЗП</th>\n",
              "      <th>Инвентарный номер</th>\n",
              "      <th>Наименование RU</th>\n",
              "      <th>Наименование TR</th>\n",
              "      <th>Объем заказа</th>\n",
              "      <th>еще поставить (количество)</th>\n",
              "      <th>Складская ЕИ</th>\n",
              "      <th>Еще для поставки (стоимость)</th>\n",
              "      <th>Валюта</th>\n",
              "      <th>Вид докум. закупки</th>\n",
              "    </tr>\n",
              "  </thead>\n",
              "  <tbody>\n",
              "    <tr>\n",
              "      <th>127241</th>\n",
              "      <td>2200012946_4500</td>\n",
              "      <td>ME2N</td>\n",
              "      <td>2024</td>\n",
              "      <td>2200012946</td>\n",
              "      <td>4500</td>\n",
              "      <td>3100011013</td>\n",
              "      <td>4500</td>\n",
              "      <td>ACHARYEV</td>\n",
              "      <td>None</td>\n",
              "      <td>2024-11-26</td>\n",
              "      <td>...</td>\n",
              "      <td>4500459468</td>\n",
              "      <td>AKU.0130.10UMA.0.KM.TB0029(C01)</td>\n",
              "      <td>10UMA.0.KM.TB0029-23/232-М1095-1</td>\n",
              "      <td>10UMA.0.KM.TB0029-23/232-М1095-1</td>\n",
              "      <td>7.88</td>\n",
              "      <td>0.0</td>\n",
              "      <td>КГ</td>\n",
              "      <td>0.00</td>\n",
              "      <td>USD</td>\n",
              "      <td>ZSUP</td>\n",
              "    </tr>\n",
              "    <tr>\n",
              "      <th>174982</th>\n",
              "      <td>9900000675_4110</td>\n",
              "      <td>ME2N</td>\n",
              "      <td>2024</td>\n",
              "      <td>9900000675</td>\n",
              "      <td>4110</td>\n",
              "      <td>3100010315</td>\n",
              "      <td>210</td>\n",
              "      <td>VKUZMICHEV</td>\n",
              "      <td>None</td>\n",
              "      <td>2024-10-02</td>\n",
              "      <td>...</td>\n",
              "      <td>4500348333</td>\n",
              "      <td>AKU.0120.10UKC.0.KM.LH0007(C02)</td>\n",
              "      <td>AKU.0120.10UKC.0.KM.LH0007.B1/23</td>\n",
              "      <td>AKU.0120.10UKC.0.KM.LH0007.B1/23</td>\n",
              "      <td>1.00</td>\n",
              "      <td>0.0</td>\n",
              "      <td>ШТ</td>\n",
              "      <td>0.00</td>\n",
              "      <td>USD</td>\n",
              "      <td>ZSUP</td>\n",
              "    </tr>\n",
              "    <tr>\n",
              "      <th>113374</th>\n",
              "      <td>2200009937_380</td>\n",
              "      <td>ME2N</td>\n",
              "      <td>2024</td>\n",
              "      <td>2200009937</td>\n",
              "      <td>380</td>\n",
              "      <td>3100008086</td>\n",
              "      <td>1690</td>\n",
              "      <td>NBEREZOVSKAY</td>\n",
              "      <td>None</td>\n",
              "      <td>2024-06-07</td>\n",
              "      <td>...</td>\n",
              "      <td>4500132871</td>\n",
              "      <td>AKU.0130.10UMA.SGC.PT.TB0007(C01)</td>\n",
              "      <td>Спрей цинковый MZN-400 арт.2048192 ф.\"Hi</td>\n",
              "      <td>ÇİNKO SPREY MZN-400 2048192 Hilti</td>\n",
              "      <td>6.00</td>\n",
              "      <td>0.0</td>\n",
              "      <td>ШТ</td>\n",
              "      <td>0.00</td>\n",
              "      <td>EUR</td>\n",
              "      <td>ZSUP</td>\n",
              "    </tr>\n",
              "    <tr>\n",
              "      <th>190910</th>\n",
              "      <td>9900000976_7240</td>\n",
              "      <td>ME2N</td>\n",
              "      <td>2024</td>\n",
              "      <td>9900000976</td>\n",
              "      <td>7240</td>\n",
              "      <td>3100009246</td>\n",
              "      <td>3490</td>\n",
              "      <td>IKOVALEV</td>\n",
              "      <td>None</td>\n",
              "      <td>2024-08-22</td>\n",
              "      <td>...</td>\n",
              "      <td>4500362453</td>\n",
              "      <td>AKU.0120.10UJA.0.KM.LC0128(C01)</td>\n",
              "      <td>AKU.0120.10UJA.0.KM.LC0128.B7/38</td>\n",
              "      <td>AKU.0120.10UJA.0.KM.LC0128.B7/38</td>\n",
              "      <td>1.00</td>\n",
              "      <td>0.0</td>\n",
              "      <td>ШТ</td>\n",
              "      <td>0.00</td>\n",
              "      <td>USD</td>\n",
              "      <td>ZSUP</td>\n",
              "    </tr>\n",
              "    <tr>\n",
              "      <th>6211</th>\n",
              "      <td>2100001366_190</td>\n",
              "      <td>ME2N</td>\n",
              "      <td>2023</td>\n",
              "      <td>2100001366</td>\n",
              "      <td>190</td>\n",
              "      <td>3100003107</td>\n",
              "      <td>170</td>\n",
              "      <td>KDUVERLIOGLU</td>\n",
              "      <td>None</td>\n",
              "      <td>2023-07-11</td>\n",
              "      <td>...</td>\n",
              "      <td>4500111043</td>\n",
              "      <td>None</td>\n",
              "      <td>ТОВАРНЫЙ БЕТОН B30 P4 W6 230KG</td>\n",
              "      <td>HAZIR BETON B30 P4 W6 230KG</td>\n",
              "      <td>48.00</td>\n",
              "      <td>0.0</td>\n",
              "      <td>М3</td>\n",
              "      <td>0.00</td>\n",
              "      <td>USD</td>\n",
              "      <td>ZSUP</td>\n",
              "    </tr>\n",
              "    <tr>\n",
              "      <th>157027</th>\n",
              "      <td>9900000202_2430</td>\n",
              "      <td>ME2N</td>\n",
              "      <td>2024</td>\n",
              "      <td>9900000202</td>\n",
              "      <td>2430</td>\n",
              "      <td>3100006700</td>\n",
              "      <td>15950</td>\n",
              "      <td>MAKIF</td>\n",
              "      <td>None</td>\n",
              "      <td>2024-02-25</td>\n",
              "      <td>...</td>\n",
              "      <td>4500298572</td>\n",
              "      <td>AKU.0120.10UJA.0.KM.LC0123(C01)</td>\n",
              "      <td>AKU.0120.10UJA.0.KM.LC0123.B1-90</td>\n",
              "      <td>AKU.0120.10UJA.0.KM.LC0123.B1-90</td>\n",
              "      <td>1.00</td>\n",
              "      <td>1.0</td>\n",
              "      <td>ШТ</td>\n",
              "      <td>944.84</td>\n",
              "      <td>USD</td>\n",
              "      <td>ZSUP</td>\n",
              "    </tr>\n",
              "    <tr>\n",
              "      <th>236117</th>\n",
              "      <td>9900003555_30</td>\n",
              "      <td>ME2N</td>\n",
              "      <td>2025</td>\n",
              "      <td>9900003555</td>\n",
              "      <td>30</td>\n",
              "      <td>3100012504</td>\n",
              "      <td>40</td>\n",
              "      <td>ILUKIANCHUK</td>\n",
              "      <td>None</td>\n",
              "      <td>2025-03-26</td>\n",
              "      <td>...</td>\n",
              "      <td>4500321498</td>\n",
              "      <td>AKU.0120.11UBN.0.KZ.LC0004(C01)</td>\n",
              "      <td>AKU.0120.11UBN.0.KZ.LC0004 TA3-14</td>\n",
              "      <td>AKU.0120.11UBN.0.KZ.LC0004 TA3-14</td>\n",
              "      <td>2.00</td>\n",
              "      <td>0.0</td>\n",
              "      <td>ШТ</td>\n",
              "      <td>0.00</td>\n",
              "      <td>USD</td>\n",
              "      <td>ZSUP</td>\n",
              "    </tr>\n",
              "    <tr>\n",
              "      <th>154160</th>\n",
              "      <td>9900000147_5060</td>\n",
              "      <td>ME2N</td>\n",
              "      <td>2024</td>\n",
              "      <td>9900000147</td>\n",
              "      <td>5060</td>\n",
              "      <td>3100008319</td>\n",
              "      <td>730</td>\n",
              "      <td>VKUZMICHEV</td>\n",
              "      <td>None</td>\n",
              "      <td>2024-07-09</td>\n",
              "      <td>...</td>\n",
              "      <td>4500291351</td>\n",
              "      <td>AKU.0120.00USY.0.KM.LC0030(C01)</td>\n",
              "      <td>AKU.0120.00USY.0.KM.LC0030 GR2-15</td>\n",
              "      <td>AKU.0120.00USY.0.KM.LC0030 GR2-15</td>\n",
              "      <td>1.00</td>\n",
              "      <td>0.0</td>\n",
              "      <td>ШТ</td>\n",
              "      <td>0.00</td>\n",
              "      <td>USD</td>\n",
              "      <td>ZSUP</td>\n",
              "    </tr>\n",
              "    <tr>\n",
              "      <th>15163</th>\n",
              "      <td>2100003352_10</td>\n",
              "      <td>ME2N</td>\n",
              "      <td>2024</td>\n",
              "      <td>2100003352</td>\n",
              "      <td>10</td>\n",
              "      <td>3100010858</td>\n",
              "      <td>10</td>\n",
              "      <td>SISIGUZEL</td>\n",
              "      <td>None</td>\n",
              "      <td>2024-11-06</td>\n",
              "      <td>...</td>\n",
              "      <td>4500090953</td>\n",
              "      <td>None</td>\n",
              "      <td>МОТОРИН ПРО ДИЗЕЛЬНОЕ ТОПЛИВО</td>\n",
              "      <td>MOTORİN PRO DİZEL</td>\n",
              "      <td>29804.00</td>\n",
              "      <td>0.0</td>\n",
              "      <td>Л</td>\n",
              "      <td>0.00</td>\n",
              "      <td>TRY</td>\n",
              "      <td>ZSUP</td>\n",
              "    </tr>\n",
              "    <tr>\n",
              "      <th>166750</th>\n",
              "      <td>9900000427_110</td>\n",
              "      <td>ME2N</td>\n",
              "      <td>2024</td>\n",
              "      <td>9900000427</td>\n",
              "      <td>110</td>\n",
              "      <td>3100008314</td>\n",
              "      <td>310</td>\n",
              "      <td>VKUZMICHEV</td>\n",
              "      <td>None</td>\n",
              "      <td>2024-07-08</td>\n",
              "      <td>...</td>\n",
              "      <td>4500321244</td>\n",
              "      <td>AKU.0120.12UBN.0.KZ.LC0010(C01)</td>\n",
              "      <td>AKU.0120.12UBN.0.KZ.LC0010 TD2-1</td>\n",
              "      <td>AKU.0120.12UBN.0.KZ.LC0010 TD2-1</td>\n",
              "      <td>1.00</td>\n",
              "      <td>0.0</td>\n",
              "      <td>ШТ</td>\n",
              "      <td>0.00</td>\n",
              "      <td>USD</td>\n",
              "      <td>ZSUP</td>\n",
              "    </tr>\n",
              "  </tbody>\n",
              "</table>\n",
              "<p>10 rows × 24 columns</p>\n",
              "</div>\n",
              "    <div class=\"colab-df-buttons\">\n",
              "\n",
              "  <div class=\"colab-df-container\">\n",
              "    <button class=\"colab-df-convert\" onclick=\"convertToInteractive('df-325971d9-459b-425d-b5aa-edd22c721d96')\"\n",
              "            title=\"Convert this dataframe to an interactive table.\"\n",
              "            style=\"display:none;\">\n",
              "\n",
              "  <svg xmlns=\"http://www.w3.org/2000/svg\" height=\"24px\" viewBox=\"0 -960 960 960\">\n",
              "    <path d=\"M120-120v-720h720v720H120Zm60-500h600v-160H180v160Zm220 220h160v-160H400v160Zm0 220h160v-160H400v160ZM180-400h160v-160H180v160Zm440 0h160v-160H620v160ZM180-180h160v-160H180v160Zm440 0h160v-160H620v160Z\"/>\n",
              "  </svg>\n",
              "    </button>\n",
              "\n",
              "  <style>\n",
              "    .colab-df-container {\n",
              "      display:flex;\n",
              "      gap: 12px;\n",
              "    }\n",
              "\n",
              "    .colab-df-convert {\n",
              "      background-color: #E8F0FE;\n",
              "      border: none;\n",
              "      border-radius: 50%;\n",
              "      cursor: pointer;\n",
              "      display: none;\n",
              "      fill: #1967D2;\n",
              "      height: 32px;\n",
              "      padding: 0 0 0 0;\n",
              "      width: 32px;\n",
              "    }\n",
              "\n",
              "    .colab-df-convert:hover {\n",
              "      background-color: #E2EBFA;\n",
              "      box-shadow: 0px 1px 2px rgba(60, 64, 67, 0.3), 0px 1px 3px 1px rgba(60, 64, 67, 0.15);\n",
              "      fill: #174EA6;\n",
              "    }\n",
              "\n",
              "    .colab-df-buttons div {\n",
              "      margin-bottom: 4px;\n",
              "    }\n",
              "\n",
              "    [theme=dark] .colab-df-convert {\n",
              "      background-color: #3B4455;\n",
              "      fill: #D2E3FC;\n",
              "    }\n",
              "\n",
              "    [theme=dark] .colab-df-convert:hover {\n",
              "      background-color: #434B5C;\n",
              "      box-shadow: 0px 1px 3px 1px rgba(0, 0, 0, 0.15);\n",
              "      filter: drop-shadow(0px 1px 2px rgba(0, 0, 0, 0.3));\n",
              "      fill: #FFFFFF;\n",
              "    }\n",
              "  </style>\n",
              "\n",
              "    <script>\n",
              "      const buttonEl =\n",
              "        document.querySelector('#df-325971d9-459b-425d-b5aa-edd22c721d96 button.colab-df-convert');\n",
              "      buttonEl.style.display =\n",
              "        google.colab.kernel.accessAllowed ? 'block' : 'none';\n",
              "\n",
              "      async function convertToInteractive(key) {\n",
              "        const element = document.querySelector('#df-325971d9-459b-425d-b5aa-edd22c721d96');\n",
              "        const dataTable =\n",
              "          await google.colab.kernel.invokeFunction('convertToInteractive',\n",
              "                                                    [key], {});\n",
              "        if (!dataTable) return;\n",
              "\n",
              "        const docLinkHtml = 'Like what you see? Visit the ' +\n",
              "          '<a target=\"_blank\" href=https://colab.research.google.com/notebooks/data_table.ipynb>data table notebook</a>'\n",
              "          + ' to learn more about interactive tables.';\n",
              "        element.innerHTML = '';\n",
              "        dataTable['output_type'] = 'display_data';\n",
              "        await google.colab.output.renderOutput(dataTable, element);\n",
              "        const docLink = document.createElement('div');\n",
              "        docLink.innerHTML = docLinkHtml;\n",
              "        element.appendChild(docLink);\n",
              "      }\n",
              "    </script>\n",
              "  </div>\n",
              "\n",
              "\n",
              "    <div id=\"df-23eab67c-6966-46d3-a5a2-bbc94cfeadb1\">\n",
              "      <button class=\"colab-df-quickchart\" onclick=\"quickchart('df-23eab67c-6966-46d3-a5a2-bbc94cfeadb1')\"\n",
              "                title=\"Suggest charts\"\n",
              "                style=\"display:none;\">\n",
              "\n",
              "<svg xmlns=\"http://www.w3.org/2000/svg\" height=\"24px\"viewBox=\"0 0 24 24\"\n",
              "     width=\"24px\">\n",
              "    <g>\n",
              "        <path d=\"M19 3H5c-1.1 0-2 .9-2 2v14c0 1.1.9 2 2 2h14c1.1 0 2-.9 2-2V5c0-1.1-.9-2-2-2zM9 17H7v-7h2v7zm4 0h-2V7h2v10zm4 0h-2v-4h2v4z\"/>\n",
              "    </g>\n",
              "</svg>\n",
              "      </button>\n",
              "\n",
              "<style>\n",
              "  .colab-df-quickchart {\n",
              "      --bg-color: #E8F0FE;\n",
              "      --fill-color: #1967D2;\n",
              "      --hover-bg-color: #E2EBFA;\n",
              "      --hover-fill-color: #174EA6;\n",
              "      --disabled-fill-color: #AAA;\n",
              "      --disabled-bg-color: #DDD;\n",
              "  }\n",
              "\n",
              "  [theme=dark] .colab-df-quickchart {\n",
              "      --bg-color: #3B4455;\n",
              "      --fill-color: #D2E3FC;\n",
              "      --hover-bg-color: #434B5C;\n",
              "      --hover-fill-color: #FFFFFF;\n",
              "      --disabled-bg-color: #3B4455;\n",
              "      --disabled-fill-color: #666;\n",
              "  }\n",
              "\n",
              "  .colab-df-quickchart {\n",
              "    background-color: var(--bg-color);\n",
              "    border: none;\n",
              "    border-radius: 50%;\n",
              "    cursor: pointer;\n",
              "    display: none;\n",
              "    fill: var(--fill-color);\n",
              "    height: 32px;\n",
              "    padding: 0;\n",
              "    width: 32px;\n",
              "  }\n",
              "\n",
              "  .colab-df-quickchart:hover {\n",
              "    background-color: var(--hover-bg-color);\n",
              "    box-shadow: 0 1px 2px rgba(60, 64, 67, 0.3), 0 1px 3px 1px rgba(60, 64, 67, 0.15);\n",
              "    fill: var(--button-hover-fill-color);\n",
              "  }\n",
              "\n",
              "  .colab-df-quickchart-complete:disabled,\n",
              "  .colab-df-quickchart-complete:disabled:hover {\n",
              "    background-color: var(--disabled-bg-color);\n",
              "    fill: var(--disabled-fill-color);\n",
              "    box-shadow: none;\n",
              "  }\n",
              "\n",
              "  .colab-df-spinner {\n",
              "    border: 2px solid var(--fill-color);\n",
              "    border-color: transparent;\n",
              "    border-bottom-color: var(--fill-color);\n",
              "    animation:\n",
              "      spin 1s steps(1) infinite;\n",
              "  }\n",
              "\n",
              "  @keyframes spin {\n",
              "    0% {\n",
              "      border-color: transparent;\n",
              "      border-bottom-color: var(--fill-color);\n",
              "      border-left-color: var(--fill-color);\n",
              "    }\n",
              "    20% {\n",
              "      border-color: transparent;\n",
              "      border-left-color: var(--fill-color);\n",
              "      border-top-color: var(--fill-color);\n",
              "    }\n",
              "    30% {\n",
              "      border-color: transparent;\n",
              "      border-left-color: var(--fill-color);\n",
              "      border-top-color: var(--fill-color);\n",
              "      border-right-color: var(--fill-color);\n",
              "    }\n",
              "    40% {\n",
              "      border-color: transparent;\n",
              "      border-right-color: var(--fill-color);\n",
              "      border-top-color: var(--fill-color);\n",
              "    }\n",
              "    60% {\n",
              "      border-color: transparent;\n",
              "      border-right-color: var(--fill-color);\n",
              "    }\n",
              "    80% {\n",
              "      border-color: transparent;\n",
              "      border-right-color: var(--fill-color);\n",
              "      border-bottom-color: var(--fill-color);\n",
              "    }\n",
              "    90% {\n",
              "      border-color: transparent;\n",
              "      border-bottom-color: var(--fill-color);\n",
              "    }\n",
              "  }\n",
              "</style>\n",
              "\n",
              "      <script>\n",
              "        async function quickchart(key) {\n",
              "          const quickchartButtonEl =\n",
              "            document.querySelector('#' + key + ' button');\n",
              "          quickchartButtonEl.disabled = true;  // To prevent multiple clicks.\n",
              "          quickchartButtonEl.classList.add('colab-df-spinner');\n",
              "          try {\n",
              "            const charts = await google.colab.kernel.invokeFunction(\n",
              "                'suggestCharts', [key], {});\n",
              "          } catch (error) {\n",
              "            console.error('Error during call to suggestCharts:', error);\n",
              "          }\n",
              "          quickchartButtonEl.classList.remove('colab-df-spinner');\n",
              "          quickchartButtonEl.classList.add('colab-df-quickchart-complete');\n",
              "        }\n",
              "        (() => {\n",
              "          let quickchartButtonEl =\n",
              "            document.querySelector('#df-23eab67c-6966-46d3-a5a2-bbc94cfeadb1 button');\n",
              "          quickchartButtonEl.style.display =\n",
              "            google.colab.kernel.accessAllowed ? 'block' : 'none';\n",
              "        })();\n",
              "      </script>\n",
              "    </div>\n",
              "\n",
              "    </div>\n",
              "  </div>\n"
            ],
            "application/vnd.google.colaboratory.intrinsic+json": {
              "type": "dataframe"
            }
          },
          "metadata": {},
          "execution_count": 175
        }
      ]
    },
    {
      "cell_type": "code",
      "source": [
        "df_audit_B3 = df_me5a_2022_2025.merge(\n",
        "    df_me2n_2022_2025_grouped,\n",
        "    left_on=\"ВЗ-ВЗ_ПОЗ_ME5A\",\n",
        "    right_on=\"ВЗ-ВЗ_ПОЗ_ME2N\",\n",
        "    how=\"left\"\n",
        ")"
      ],
      "metadata": {
        "id": "R2olzHtUgITV"
      },
      "execution_count": 176,
      "outputs": []
    },
    {
      "cell_type": "code",
      "source": [
        "df_audit_B3[\"Документ_закупки_x\"] = df_audit_B3[\"Документ_закупки_x\"].replace([\"nan\", \"NaN\", \"NAN\"], np.nan)\n",
        "df_audit_B3[\"ЗП_Позиция_x\"] = df_audit_B3[\"ЗП_Позиция_x\"].replace([\"0\"], np.nan)"
      ],
      "metadata": {
        "id": "PWxGJRaSlVJ0"
      },
      "execution_count": 177,
      "outputs": []
    },
    {
      "cell_type": "code",
      "source": [
        "def belirle_status_po(deger):\n",
        "    if pd.isna(deger):\n",
        "        return \"Нет PO\"\n",
        "    else:\n",
        "        return \"Есть PO\"\n",
        "\n",
        "df_audit_B3[\"статус PO\"] = df_audit_B3[\"Документ_закупки_x\"].apply(belirle_status_po)\n"
      ],
      "metadata": {
        "id": "eHStbcbvl0n1"
      },
      "execution_count": 178,
      "outputs": []
    },
    {
      "cell_type": "code",
      "source": [
        "def hesapla_status_po(row):\n",
        "    # Ön kontrol: birim eşit mi?\n",
        "    if row[\"Складская ЕИ\"] == row[\"Единица измерения\"]:\n",
        "        # Matematiksel karşılaştırmalar:\n",
        "        if row[\"ЗатребованКолич\"] == row[\"Объем заказа\"]:\n",
        "            return \"Полностью заказано\"\n",
        "        elif row[\"ЗатребованКолич\"] < row[\"Объем заказа\"]:\n",
        "            return \"Заказано частично\"\n",
        "        elif row[\"ЗатребованКолич\"] > row[\"Объем заказа\"]:\n",
        "            return \"Заказано с превышением\"\n",
        "    else:\n",
        "        return np.nan  # Birimler eşit değilse\n",
        "\n",
        "# Yeni sütunu ekle\n",
        "df_audit_B3[\"Статус количества заказа\"] = df_audit_B3.apply(hesapla_status_po, axis=1)\n"
      ],
      "metadata": {
        "id": "tXgGe_stmpAs"
      },
      "execution_count": 179,
      "outputs": []
    },
    {
      "cell_type": "code",
      "source": [
        "def hesapla_status_delivery(row):\n",
        "    status = row[\"Статус количества заказа\"]\n",
        "    remaining = row[\"еще поставить (количество)\"]\n",
        "    ordered = row[\"Объем заказа\"]\n",
        "\n",
        "    if status == \"Полностью заказано\":\n",
        "        if remaining == ordered:\n",
        "            return \"Доставка не началась.\"\n",
        "        elif remaining == 0:\n",
        "            return \"все доставлено.закрыто\"\n",
        "        elif remaining > 0 and remaining != ordered:\n",
        "            return \"Поставлено частично\"\n",
        "\n",
        "    elif status == \"Заказано частично\":\n",
        "        if remaining == ordered:\n",
        "            return \"Доставка не началась.\"\n",
        "        elif remaining == 0:\n",
        "            return \"Заказанный объем был доставлен.\"\n",
        "        elif remaining > 0 and remaining != ordered:\n",
        "            return \"Заказанный объем был доставлен частями.\"\n",
        "\n",
        "    return np.nan  # Diğer tüm durumlar için\n",
        "\n",
        "df_audit_B3[\"Статус Доставка\"] = df_audit_B3.apply(hesapla_status_delivery, axis=1)"
      ],
      "metadata": {
        "id": "meukAM81vR3l"
      },
      "execution_count": 180,
      "outputs": []
    },
    {
      "cell_type": "code",
      "source": [
        "def status_analog(row):\n",
        "    # Ön kontrol: Zаявка ve Позиция заявки aynı mı?\n",
        "    if row[\"Заявка_x\"] == row[\"Заявка_y\"] and row[\"Позиция заявки_x\"] == row[\"Позиция заявки_y\"]:\n",
        "        if row[\"Материал_ВЗ\"] == row[\"Материал_ЗП\"]:\n",
        "            return \"Оригинал\"\n",
        "        else:\n",
        "            return \"аналог\"\n",
        "    else:\n",
        "        return np.nan  # Eşleşme yoksa\n",
        "\n",
        "\n",
        "# Yeni sütunu ekle\n",
        "df_audit_B3[\"Оригинал или аналог\"] = df_audit_B3.apply(status_analog, axis=1)"
      ],
      "metadata": {
        "id": "LiC2G2Kr7ZO5"
      },
      "execution_count": 181,
      "outputs": []
    },
    {
      "cell_type": "code",
      "source": [
        "#df_audit_B3[df_audit_B3[\"Оригинал или аналог\"] == Nan]\n",
        "#df_audit_B3[df_audit_B3[\"статус PO\"]== \"Нет PO\"]\n"
      ],
      "metadata": {
        "id": "s0ftPNpK1f4M"
      },
      "execution_count": 182,
      "outputs": []
    },
    {
      "cell_type": "code",
      "source": [
        "# Almak istediğin sütunları liste olarak tanımla\n",
        "secilecek_sutunlar = [\n",
        "    \"Veri_Kaynagi1\",\n",
        "    \"Год_x\",\n",
        "    \"Заявка_x\",\n",
        "    \"Позиция заявки_x\",\n",
        "    \"Индикатор удаления_x\",\n",
        "    \"Затребовал\",\n",
        "    \"Индик. выдачи\",\n",
        "    \"Дата заявки\",\n",
        "    \"Группа закупок\",\n",
        "    \"RU Наименование\",\n",
        "    \"TR Наименование\",\n",
        "    \"ЗатребованКолич\",\n",
        "    \"Единица измерения\",\n",
        "    \"Инвентарный номер_x\",\n",
        "    \"Закуп. организация_x\",\n",
        "    \"Номер проекта\",\n",
        "    \"Группа материалов\",\n",
        "    \"Вид документа\",\n",
        "    \"Veri_Kaynagi2\",\n",
        "    \"Год_y\",\n",
        "    \"Документ_закупки_y\",\n",
        "    \"ЗП_Позиция_y\",\n",
        "    \"Дата документа\",\n",
        "    \"статус PO\",\n",
        "    \"Статус количества заказа\",\n",
        "    \"Статус Доставка\",\n",
        "    \"Оригинал или аналог\",\n",
        "    \"RU Наименование\",\n",
        "    \"TR Наименование\",\n",
        "    \"Создал_y\",\n",
        "    \"Индикатор удаления_y\",\n",
        "    \"Наш знак\",\n",
        "    \"Ваш код\",\n",
        "    \"Имя поставщика\",\n",
        "    \"Закуп. организация_y\",\n",
        "    \"Объем заказа\",\n",
        "    \"еще поставить (количество)\",\n",
        "    \"Складская ЕИ\",\n",
        "    \"Еще для поставки (стоимость)\",\n",
        "    \"Валюта\",\n",
        "\n",
        "\n",
        "]\n",
        "\n",
        "# 2. Bu sütunları kullanarak yeni DataFrame oluştur\n",
        "df_yazdır_audit_B3 = df_audit_B3[secilecek_sutunlar].copy()\n"
      ],
      "metadata": {
        "id": "eYWZVZKE7BUe"
      },
      "execution_count": 183,
      "outputs": []
    },
    {
      "cell_type": "code",
      "source": [
        "def cevir_usd_guncel(row):\n",
        "    para = row[\"Валюта\"]\n",
        "    try:\n",
        "        tutar = float(row[\"Еще для поставки (стоимость)\"])\n",
        "        kur = kur_cevir_guncel.get(para)\n",
        "        if kur is None or pd.isna(tutar):\n",
        "            return None\n",
        "        return tutar * kur\n",
        "    except:\n",
        "        return None\n",
        "\n",
        "# 3. Yeni sütunu oluştur\n",
        "df_yazdır_audit_B3[\"Валюта(USD)\"] = df_yazdır_audit_B3.apply(cevir_usd_guncel, axis=1)"
      ],
      "metadata": {
        "id": "pLOOGgA4TjYU"
      },
      "execution_count": 184,
      "outputs": []
    },
    {
      "cell_type": "code",
      "source": [
        "df_yazdır_audit_B3[df_yazdır_audit_B3[\"Еще для поставки (стоимость)\"] > 15][\n",
        "    [\"Валюта\", \"Еще для поставки (стоимость)\", \"Валюта(USD)\"]\n",
        "].sample(n=10, random_state=23\n",
        "         )\n"
      ],
      "metadata": {
        "id": "lOHVH_CtUIY0",
        "outputId": "d79eb9a6-119d-4322-fb37-b2dc8458ff58",
        "colab": {
          "base_uri": "https://localhost:8080/",
          "height": 363
        }
      },
      "execution_count": 185,
      "outputs": [
        {
          "output_type": "execute_result",
          "data": {
            "text/plain": [
              "       Валюта  Еще для поставки (стоимость) Валюта(USD)\n",
              "144565    USD                        617.48        None\n",
              "278454    USD                         47.81        None\n",
              "106157    USD                        611.46        None\n",
              "105602    USD                       1939.00        None\n",
              "273559    USD                        112.13        None\n",
              "81239     USD                         18.87        None\n",
              "26932     USD                      40373.20        None\n",
              "219601    USD                      17549.07        None\n",
              "186140    USD                        111.04        None\n",
              "208859    EUR                        181.40        None"
            ],
            "text/html": [
              "\n",
              "  <div id=\"df-62b8ca71-6fdc-495d-be8d-87c69a6f84d4\" class=\"colab-df-container\">\n",
              "    <div>\n",
              "<style scoped>\n",
              "    .dataframe tbody tr th:only-of-type {\n",
              "        vertical-align: middle;\n",
              "    }\n",
              "\n",
              "    .dataframe tbody tr th {\n",
              "        vertical-align: top;\n",
              "    }\n",
              "\n",
              "    .dataframe thead th {\n",
              "        text-align: right;\n",
              "    }\n",
              "</style>\n",
              "<table border=\"1\" class=\"dataframe\">\n",
              "  <thead>\n",
              "    <tr style=\"text-align: right;\">\n",
              "      <th></th>\n",
              "      <th>Валюта</th>\n",
              "      <th>Еще для поставки (стоимость)</th>\n",
              "      <th>Валюта(USD)</th>\n",
              "    </tr>\n",
              "  </thead>\n",
              "  <tbody>\n",
              "    <tr>\n",
              "      <th>144565</th>\n",
              "      <td>USD</td>\n",
              "      <td>617.48</td>\n",
              "      <td>None</td>\n",
              "    </tr>\n",
              "    <tr>\n",
              "      <th>278454</th>\n",
              "      <td>USD</td>\n",
              "      <td>47.81</td>\n",
              "      <td>None</td>\n",
              "    </tr>\n",
              "    <tr>\n",
              "      <th>106157</th>\n",
              "      <td>USD</td>\n",
              "      <td>611.46</td>\n",
              "      <td>None</td>\n",
              "    </tr>\n",
              "    <tr>\n",
              "      <th>105602</th>\n",
              "      <td>USD</td>\n",
              "      <td>1939.00</td>\n",
              "      <td>None</td>\n",
              "    </tr>\n",
              "    <tr>\n",
              "      <th>273559</th>\n",
              "      <td>USD</td>\n",
              "      <td>112.13</td>\n",
              "      <td>None</td>\n",
              "    </tr>\n",
              "    <tr>\n",
              "      <th>81239</th>\n",
              "      <td>USD</td>\n",
              "      <td>18.87</td>\n",
              "      <td>None</td>\n",
              "    </tr>\n",
              "    <tr>\n",
              "      <th>26932</th>\n",
              "      <td>USD</td>\n",
              "      <td>40373.20</td>\n",
              "      <td>None</td>\n",
              "    </tr>\n",
              "    <tr>\n",
              "      <th>219601</th>\n",
              "      <td>USD</td>\n",
              "      <td>17549.07</td>\n",
              "      <td>None</td>\n",
              "    </tr>\n",
              "    <tr>\n",
              "      <th>186140</th>\n",
              "      <td>USD</td>\n",
              "      <td>111.04</td>\n",
              "      <td>None</td>\n",
              "    </tr>\n",
              "    <tr>\n",
              "      <th>208859</th>\n",
              "      <td>EUR</td>\n",
              "      <td>181.40</td>\n",
              "      <td>None</td>\n",
              "    </tr>\n",
              "  </tbody>\n",
              "</table>\n",
              "</div>\n",
              "    <div class=\"colab-df-buttons\">\n",
              "\n",
              "  <div class=\"colab-df-container\">\n",
              "    <button class=\"colab-df-convert\" onclick=\"convertToInteractive('df-62b8ca71-6fdc-495d-be8d-87c69a6f84d4')\"\n",
              "            title=\"Convert this dataframe to an interactive table.\"\n",
              "            style=\"display:none;\">\n",
              "\n",
              "  <svg xmlns=\"http://www.w3.org/2000/svg\" height=\"24px\" viewBox=\"0 -960 960 960\">\n",
              "    <path d=\"M120-120v-720h720v720H120Zm60-500h600v-160H180v160Zm220 220h160v-160H400v160Zm0 220h160v-160H400v160ZM180-400h160v-160H180v160Zm440 0h160v-160H620v160ZM180-180h160v-160H180v160Zm440 0h160v-160H620v160Z\"/>\n",
              "  </svg>\n",
              "    </button>\n",
              "\n",
              "  <style>\n",
              "    .colab-df-container {\n",
              "      display:flex;\n",
              "      gap: 12px;\n",
              "    }\n",
              "\n",
              "    .colab-df-convert {\n",
              "      background-color: #E8F0FE;\n",
              "      border: none;\n",
              "      border-radius: 50%;\n",
              "      cursor: pointer;\n",
              "      display: none;\n",
              "      fill: #1967D2;\n",
              "      height: 32px;\n",
              "      padding: 0 0 0 0;\n",
              "      width: 32px;\n",
              "    }\n",
              "\n",
              "    .colab-df-convert:hover {\n",
              "      background-color: #E2EBFA;\n",
              "      box-shadow: 0px 1px 2px rgba(60, 64, 67, 0.3), 0px 1px 3px 1px rgba(60, 64, 67, 0.15);\n",
              "      fill: #174EA6;\n",
              "    }\n",
              "\n",
              "    .colab-df-buttons div {\n",
              "      margin-bottom: 4px;\n",
              "    }\n",
              "\n",
              "    [theme=dark] .colab-df-convert {\n",
              "      background-color: #3B4455;\n",
              "      fill: #D2E3FC;\n",
              "    }\n",
              "\n",
              "    [theme=dark] .colab-df-convert:hover {\n",
              "      background-color: #434B5C;\n",
              "      box-shadow: 0px 1px 3px 1px rgba(0, 0, 0, 0.15);\n",
              "      filter: drop-shadow(0px 1px 2px rgba(0, 0, 0, 0.3));\n",
              "      fill: #FFFFFF;\n",
              "    }\n",
              "  </style>\n",
              "\n",
              "    <script>\n",
              "      const buttonEl =\n",
              "        document.querySelector('#df-62b8ca71-6fdc-495d-be8d-87c69a6f84d4 button.colab-df-convert');\n",
              "      buttonEl.style.display =\n",
              "        google.colab.kernel.accessAllowed ? 'block' : 'none';\n",
              "\n",
              "      async function convertToInteractive(key) {\n",
              "        const element = document.querySelector('#df-62b8ca71-6fdc-495d-be8d-87c69a6f84d4');\n",
              "        const dataTable =\n",
              "          await google.colab.kernel.invokeFunction('convertToInteractive',\n",
              "                                                    [key], {});\n",
              "        if (!dataTable) return;\n",
              "\n",
              "        const docLinkHtml = 'Like what you see? Visit the ' +\n",
              "          '<a target=\"_blank\" href=https://colab.research.google.com/notebooks/data_table.ipynb>data table notebook</a>'\n",
              "          + ' to learn more about interactive tables.';\n",
              "        element.innerHTML = '';\n",
              "        dataTable['output_type'] = 'display_data';\n",
              "        await google.colab.output.renderOutput(dataTable, element);\n",
              "        const docLink = document.createElement('div');\n",
              "        docLink.innerHTML = docLinkHtml;\n",
              "        element.appendChild(docLink);\n",
              "      }\n",
              "    </script>\n",
              "  </div>\n",
              "\n",
              "\n",
              "    <div id=\"df-04e9d69e-ae29-4a0e-b401-e630a3517ddd\">\n",
              "      <button class=\"colab-df-quickchart\" onclick=\"quickchart('df-04e9d69e-ae29-4a0e-b401-e630a3517ddd')\"\n",
              "                title=\"Suggest charts\"\n",
              "                style=\"display:none;\">\n",
              "\n",
              "<svg xmlns=\"http://www.w3.org/2000/svg\" height=\"24px\"viewBox=\"0 0 24 24\"\n",
              "     width=\"24px\">\n",
              "    <g>\n",
              "        <path d=\"M19 3H5c-1.1 0-2 .9-2 2v14c0 1.1.9 2 2 2h14c1.1 0 2-.9 2-2V5c0-1.1-.9-2-2-2zM9 17H7v-7h2v7zm4 0h-2V7h2v10zm4 0h-2v-4h2v4z\"/>\n",
              "    </g>\n",
              "</svg>\n",
              "      </button>\n",
              "\n",
              "<style>\n",
              "  .colab-df-quickchart {\n",
              "      --bg-color: #E8F0FE;\n",
              "      --fill-color: #1967D2;\n",
              "      --hover-bg-color: #E2EBFA;\n",
              "      --hover-fill-color: #174EA6;\n",
              "      --disabled-fill-color: #AAA;\n",
              "      --disabled-bg-color: #DDD;\n",
              "  }\n",
              "\n",
              "  [theme=dark] .colab-df-quickchart {\n",
              "      --bg-color: #3B4455;\n",
              "      --fill-color: #D2E3FC;\n",
              "      --hover-bg-color: #434B5C;\n",
              "      --hover-fill-color: #FFFFFF;\n",
              "      --disabled-bg-color: #3B4455;\n",
              "      --disabled-fill-color: #666;\n",
              "  }\n",
              "\n",
              "  .colab-df-quickchart {\n",
              "    background-color: var(--bg-color);\n",
              "    border: none;\n",
              "    border-radius: 50%;\n",
              "    cursor: pointer;\n",
              "    display: none;\n",
              "    fill: var(--fill-color);\n",
              "    height: 32px;\n",
              "    padding: 0;\n",
              "    width: 32px;\n",
              "  }\n",
              "\n",
              "  .colab-df-quickchart:hover {\n",
              "    background-color: var(--hover-bg-color);\n",
              "    box-shadow: 0 1px 2px rgba(60, 64, 67, 0.3), 0 1px 3px 1px rgba(60, 64, 67, 0.15);\n",
              "    fill: var(--button-hover-fill-color);\n",
              "  }\n",
              "\n",
              "  .colab-df-quickchart-complete:disabled,\n",
              "  .colab-df-quickchart-complete:disabled:hover {\n",
              "    background-color: var(--disabled-bg-color);\n",
              "    fill: var(--disabled-fill-color);\n",
              "    box-shadow: none;\n",
              "  }\n",
              "\n",
              "  .colab-df-spinner {\n",
              "    border: 2px solid var(--fill-color);\n",
              "    border-color: transparent;\n",
              "    border-bottom-color: var(--fill-color);\n",
              "    animation:\n",
              "      spin 1s steps(1) infinite;\n",
              "  }\n",
              "\n",
              "  @keyframes spin {\n",
              "    0% {\n",
              "      border-color: transparent;\n",
              "      border-bottom-color: var(--fill-color);\n",
              "      border-left-color: var(--fill-color);\n",
              "    }\n",
              "    20% {\n",
              "      border-color: transparent;\n",
              "      border-left-color: var(--fill-color);\n",
              "      border-top-color: var(--fill-color);\n",
              "    }\n",
              "    30% {\n",
              "      border-color: transparent;\n",
              "      border-left-color: var(--fill-color);\n",
              "      border-top-color: var(--fill-color);\n",
              "      border-right-color: var(--fill-color);\n",
              "    }\n",
              "    40% {\n",
              "      border-color: transparent;\n",
              "      border-right-color: var(--fill-color);\n",
              "      border-top-color: var(--fill-color);\n",
              "    }\n",
              "    60% {\n",
              "      border-color: transparent;\n",
              "      border-right-color: var(--fill-color);\n",
              "    }\n",
              "    80% {\n",
              "      border-color: transparent;\n",
              "      border-right-color: var(--fill-color);\n",
              "      border-bottom-color: var(--fill-color);\n",
              "    }\n",
              "    90% {\n",
              "      border-color: transparent;\n",
              "      border-bottom-color: var(--fill-color);\n",
              "    }\n",
              "  }\n",
              "</style>\n",
              "\n",
              "      <script>\n",
              "        async function quickchart(key) {\n",
              "          const quickchartButtonEl =\n",
              "            document.querySelector('#' + key + ' button');\n",
              "          quickchartButtonEl.disabled = true;  // To prevent multiple clicks.\n",
              "          quickchartButtonEl.classList.add('colab-df-spinner');\n",
              "          try {\n",
              "            const charts = await google.colab.kernel.invokeFunction(\n",
              "                'suggestCharts', [key], {});\n",
              "          } catch (error) {\n",
              "            console.error('Error during call to suggestCharts:', error);\n",
              "          }\n",
              "          quickchartButtonEl.classList.remove('colab-df-spinner');\n",
              "          quickchartButtonEl.classList.add('colab-df-quickchart-complete');\n",
              "        }\n",
              "        (() => {\n",
              "          let quickchartButtonEl =\n",
              "            document.querySelector('#df-04e9d69e-ae29-4a0e-b401-e630a3517ddd button');\n",
              "          quickchartButtonEl.style.display =\n",
              "            google.colab.kernel.accessAllowed ? 'block' : 'none';\n",
              "        })();\n",
              "      </script>\n",
              "    </div>\n",
              "\n",
              "    </div>\n",
              "  </div>\n"
            ],
            "application/vnd.google.colaboratory.intrinsic+json": {
              "type": "dataframe",
              "repr_error": "0"
            }
          },
          "metadata": {},
          "execution_count": 185
        }
      ]
    },
    {
      "cell_type": "code",
      "source": [
        "df_yazdır_audit_B3[\"Валюта(USD)\"].unique()\n"
      ],
      "metadata": {
        "id": "d_DlY88fP-4S",
        "outputId": "66ff1dd6-87f1-4c77-a5e8-56f7ce156f59",
        "colab": {
          "base_uri": "https://localhost:8080/"
        }
      },
      "execution_count": 186,
      "outputs": [
        {
          "output_type": "execute_result",
          "data": {
            "text/plain": [
              "array([None], dtype=object)"
            ]
          },
          "metadata": {},
          "execution_count": 186
        }
      ]
    },
    {
      "cell_type": "code",
      "source": [
        "#df_yazdır_audit_B3['Материал_ВЗ'] = df_yazdır_audit_B3['Материал_ВЗ'].replace('nan', np.nan)"
      ],
      "metadata": {
        "id": "pO7Fkx8wSNBW"
      },
      "execution_count": 187,
      "outputs": []
    },
    {
      "cell_type": "code",
      "source": [
        "#df_audit_B3.to_excel(\"audit_B3_basetable.xlsx\", index=False, engine=\"xlsxwriter\")\n",
        "#df_yazdır_audit_B3.to_excel(\"audit_B3.xlsx\", index=False, engine=\"xlsxwriter\")\n",
        "#df_me2n_2022_2025_zp_bez_vz.to_excel(\"zp_bez_vz_2022_2025.xlsx\", index=False, engine=\"xlsxwriter\")"
      ],
      "metadata": {
        "id": "ROIcdBJpgYPW"
      },
      "execution_count": 188,
      "outputs": []
    },
    {
      "cell_type": "code",
      "source": [
        "#files.download(\"audit_B3_basetable.xlsx\")\n",
        "#files.download(\"audit_B3.xlsx\")\n",
        "#files.download(\"zp_bez_vz_2022_2025.xlsx\")"
      ],
      "metadata": {
        "id": "wTihC4Z8gYM2"
      },
      "execution_count": 189,
      "outputs": []
    },
    {
      "cell_type": "code",
      "source": [
        "#df_yazdır_audit_B3.to_csv(\"audit_B3_csv.csv\", index=False)\n",
        "#files.download(\"audit_B3_csv.csv\")"
      ],
      "metadata": {
        "id": "eTC0LrpigYEf"
      },
      "execution_count": 190,
      "outputs": []
    },
    {
      "cell_type": "code",
      "source": [
        "#df_me2n_2022_2025_zp_bez_vz.to_excel(\"zp_bez_vz_2022_2025.xlsx\", index=False, engine=\"xlsxwriter\")"
      ],
      "metadata": {
        "id": "MQe72mLjra5b"
      },
      "execution_count": 191,
      "outputs": []
    },
    {
      "cell_type": "code",
      "source": [
        "#files.download(\"zp_bez_vz_2022_2025.xlsx\")"
      ],
      "metadata": {
        "id": "R5MonjLozz12"
      },
      "execution_count": 192,
      "outputs": []
    }
  ],
  "metadata": {
    "colab": {
      "name": "Welcome To Colab",
      "provenance": [],
      "include_colab_link": true
    },
    "kernelspec": {
      "display_name": "Python 3",
      "name": "python3"
    }
  },
  "nbformat": 4,
  "nbformat_minor": 0
}