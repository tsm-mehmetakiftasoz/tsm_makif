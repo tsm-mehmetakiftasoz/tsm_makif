{
  "cells": [
    {
      "cell_type": "markdown",
      "metadata": {
        "id": "view-in-github",
        "colab_type": "text"
      },
      "source": [
        "<a href=\"https://colab.research.google.com/github/tsm-mehmetakiftasoz/tsm_makif/blob/main/ortayakarisikbitmemis2.ipynb\" target=\"_parent\"><img src=\"https://colab.research.google.com/assets/colab-badge.svg\" alt=\"Open In Colab\"/></a>"
      ]
    },
    {
      "cell_type": "code",
      "source": [
        "!pip install pandas\n",
        "!pip install xlsxwriter"
      ],
      "metadata": {
        "colab": {
          "base_uri": "https://localhost:8080/"
        },
        "id": "dFQwHynLRE9C",
        "outputId": "3550aeda-d4f7-4239-968b-1c9fc478eff2"
      },
      "execution_count": 13,
      "outputs": [
        {
          "output_type": "stream",
          "name": "stdout",
          "text": [
            "Requirement already satisfied: pandas in /usr/local/lib/python3.12/dist-packages (2.2.2)\n",
            "Requirement already satisfied: numpy>=1.26.0 in /usr/local/lib/python3.12/dist-packages (from pandas) (2.0.2)\n",
            "Requirement already satisfied: python-dateutil>=2.8.2 in /usr/local/lib/python3.12/dist-packages (from pandas) (2.9.0.post0)\n",
            "Requirement already satisfied: pytz>=2020.1 in /usr/local/lib/python3.12/dist-packages (from pandas) (2025.2)\n",
            "Requirement already satisfied: tzdata>=2022.7 in /usr/local/lib/python3.12/dist-packages (from pandas) (2025.2)\n",
            "Requirement already satisfied: six>=1.5 in /usr/local/lib/python3.12/dist-packages (from python-dateutil>=2.8.2->pandas) (1.17.0)\n",
            "Requirement already satisfied: xlsxwriter in /usr/local/lib/python3.12/dist-packages (3.2.5)\n"
          ]
        }
      ]
    },
    {
      "cell_type": "code",
      "source": [
        "import pandas as pd\n",
        "import numpy as np\n",
        "from google.colab import files\n",
        "import os\n",
        "import zipfile"
      ],
      "metadata": {
        "id": "JrAxqwfaRKHK"
      },
      "execution_count": 14,
      "outputs": []
    },
    {
      "cell_type": "code",
      "source": [
        "def duzenle_sayi_sutunu(df, sutun_adi):\n",
        "    \"\"\"\n",
        "    Sayısal değerleri metin olarak tutan ve binlik/ondalık ayracı içeren sütunu dönüştürür.\n",
        "    - Nokta (.) binlik ayracı olarak kaldırılır\n",
        "    - Virgül (,) ondalık ayracı olarak noktaya çevrilir\n",
        "    - Float olarak dönüştürülür\n",
        "    - Eğer tam sayı ise integer olarak, değilse float olarak kalır\n",
        "    - Sonuç string olarak döndürülür (görsel temizlik için)\n",
        "\n",
        "    Parametreler:\n",
        "    df : pd.DataFrame\n",
        "    sutun_adi : str\n",
        "\n",
        "    Dönüş:\n",
        "    df (işlenmiş hali)\n",
        "    \"\"\"\n",
        "    df[sutun_adi] = (\n",
        "        df[sutun_adi]\n",
        "        .astype(str)\n",
        "        .str.replace(\" \", \"\", regex=False)\n",
        "        .str.replace(\".\", \"\", regex=False)\n",
        "        .str.replace(\",\", \".\", regex=False)\n",
        "        .astype(float)\n",
        "        .apply(lambda x: str(int(x)) if x.is_integer() else str(x))\n",
        "    )\n",
        "    return df\n"
      ],
      "metadata": {
        "id": "840bNUgpRdsA"
      },
      "execution_count": 15,
      "outputs": []
    },
    {
      "cell_type": "code",
      "source": [
        "def temizle_ve_cevir(x):\n",
        "    try:\n",
        "        return str(int(float(str(x).strip())))\n",
        "    except:\n",
        "        return str(x).strip()\n"
      ],
      "metadata": {
        "id": "QTL23IdySB_A"
      },
      "execution_count": 16,
      "outputs": []
    },
    {
      "cell_type": "code",
      "source": [
        "# Temizlenecek değerler listesi\n",
        "temizlenecekler = [\"nan\", \"Nan\", \"NaN\", \"\",\" \",\"0\"]\n",
        "\n",
        "def temizle_nan(value):\n",
        "    if str(value).strip().lower() in [x.lower() for x in temizlenecekler]:\n",
        "        return pd.NA\n",
        "    return value\n"
      ],
      "metadata": {
        "id": "HQQV6bjM8KN1"
      },
      "execution_count": 17,
      "outputs": []
    },
    {
      "cell_type": "code",
      "source": [
        "#me5a'nın yüklenmesi\n",
        "df_me5a_2022 = pd.read_csv('/content/ME5A_2022.csv', sep=None, engine='python')\n",
        "df_me5a_2023 = pd.read_csv('/content/ME5A_2023.csv', sep=None, engine='python')\n",
        "df_me5a_2024 = pd.read_csv('/content/ME5A_2024.csv', sep=None, engine='python')\n",
        "df_me5a_2025 = pd.read_csv('/content/ME5A_2025.csv', sep=None, engine='python')\n",
        "# sep=None will automatically detect the delimiter\n",
        "# engine='python' is slower but more robust for complex cases\n",
        "#zmm059un yüklenmesi\n",
        "df_zmm059_2022 = pd.read_csv('/content/zmm059_2022.csv', sep=None, engine='python')\n",
        "df_zmm059_2023 = pd.read_csv('/content/zmm059_2023.csv', sep=None, engine='python')\n",
        "df_zmm059_2024_1 = pd.read_csv('/content/zmm059_2024_1.csv', sep=None, engine='python')\n",
        "df_zmm059_2024_2 = pd.read_csv('/content/zmm059_2024_2.csv', sep=None, engine='python')\n",
        "df_zmm059_2024_3 = pd.read_csv('/content/zmm059_2024_3.csv', sep=None, engine='python')\n",
        "df_zmm059_2024_4 = pd.read_csv('/content/zmm059_2024_4.csv', sep=None, engine='python')\n",
        "df_zmm059_2025 = pd.read_csv('/content/zmm059_2025.csv', sep=None, engine='python')\n",
        "#yardımcı tabloların yüklenmesi\n",
        "df_tedarikci_listesi = pd.read_csv('/content/tedarikci_isim.csv', sep=None, engine='python')\n",
        "df_material_list = pd.read_csv('/content/material_list.csv', sep=None, engine='python')\n",
        "# sep=None will automatically detect the delimiter\n",
        "# engine='python' is slower but more robust for complex cases\n",
        "#me2n'in yüklenmesi\n",
        "df_me2n_2022 = pd.read_csv('/content/ME2N_2022.csv', sep=None, engine='python')\n",
        "df_me2n_2023 = pd.read_csv('/content/ME2N_2023.csv', sep=None, engine='python')\n",
        "df_me2n_2024 = pd.read_csv('/content/ME2N_2024.csv', sep=None, engine='python')\n",
        "df_me2n_2025 = pd.read_csv('/content/ME2N_2025.csv', sep=None, engine='python')\n",
        "# sep=None will automatically detect the delimiter\n",
        "# engine='python' is slower but more robust for complex cases\n",
        "df_zmb51_2022 = pd.read_csv('/content/zmb51_2022.csv', sep=None, engine='python')\n",
        "df_zmb51_2023 = pd.read_csv('/content/zmb51_2023.csv', sep=None, engine='python')\n",
        "df_zmb51_2024_1 = pd.read_csv('/content/zmb51_2024_1.csv', sep=None, engine='python')\n",
        "df_zmb51_2024_2 = pd.read_csv('/content/zmb51_2024_2.csv', sep=None, engine='python')\n",
        "df_zmb51_2024_3 = pd.read_csv('/content/zmb51_2024_3.csv', sep=None, engine='python')\n",
        "df_zmb51_2024_4 = pd.read_csv('/content/zmb51_2024_4.csv', sep=None, engine='python')\n",
        "df_zmb51_2024_5 = pd.read_csv('/content/zmb51_2024_5.csv', sep=None, engine='python')\n",
        "#df_zmb51_2024_6 = pd.read_csv('/content/zmb51_2024_6.csv', sep=None, engine='python')\n",
        "#df_zmb51_2024_7 = pd.read_csv('/content/zmb51_2024_7.csv', sep=None, engine='python')\n",
        "df_zmb51_2025 = pd.read_csv('/content/zmb51_2025.csv', sep=None, engine='python')\n",
        "df_zmb51_2025_2 = pd.read_csv('/content/zmb51_2025-2.csv', sep=None, engine='python')\n",
        "# sep=None will automatically detect the delimiter\n",
        "# engine='python' is slower but more robust for complex cases\n"
      ],
      "metadata": {
        "id": "OXTHRbNoSE9S"
      },
      "execution_count": null,
      "outputs": []
    },
    {
      "cell_type": "code",
      "source": [
        "\n",
        "#ilk sutuna yıl yazdırma me5a\n",
        "df_me5a_2022[\"ГОД\"] = \"2022\"\n",
        "cols = [\"ГОД\"] + [col for col in df_me5a_2022.columns if col != \"ГОД\"]\n",
        "df_me5a_2022 = df_me5a_2022[cols]\n",
        "#\n",
        "df_me5a_2023[\"ГОД\"] = \"2023\"\n",
        "cols = [\"ГОД\"] + [col for col in df_me5a_2023.columns if col != \"ГОД\"]\n",
        "df_me5a_2023 = df_me5a_2023[cols]\n",
        "#\n",
        "df_me5a_2024[\"ГОД\"] = \"2024\"\n",
        "cols = [\"ГОД\"] + [col for col in df_me5a_2024.columns if col != \"ГОД\"]\n",
        "df_me5a_2024 = df_me5a_2024[cols]\n",
        "#\n",
        "df_me5a_2025[\"ГОД\"] = \"2025\"\n",
        "cols = [\"ГОД\"] + [col for col in df_me5a_2025.columns if col != \"ГОД\"]\n",
        "df_me5a_2025 = df_me5a_2025[cols]\n",
        "\n",
        "#ilk sutuna yıl yazdırma zmm059\n",
        "df_zmm059_2022[\"ГОД\"] = \"2022\"\n",
        "cols = [\"ГОД\"] + [col for col in df_zmm059_2022.columns if col != \"ГОД\"]\n",
        "df_zmm059_2022 = df_zmm059_2022[cols]\n",
        "#\n",
        "df_zmm059_2023[\"ГОД\"] = \"2023\"\n",
        "cols = [\"ГОД\"] + [col for col in df_zmm059_2023.columns if col != \"ГОД\"]\n",
        "df_zmm059_2023 = df_zmm059_2023[cols]\n",
        "#\n",
        "df_zmm059_2025[\"ГОД\"] = \"2025\"\n",
        "cols = [\"ГОД\"] + [col for col in df_zmm059_2025.columns if col != \"ГОД\"]\n",
        "df_zmm059_2025 = df_zmm059_2025[cols]\n",
        "#\n",
        "df_zmm059_2024_1[\"ГОД\"] = \"2024\"\n",
        "cols = [\"ГОД\"] + [col for col in df_zmm059_2024_1.columns if col != \"ГОД\"]\n",
        "df_zmm059_2024_1 = df_zmm059_2024_1[cols]\n",
        "#\n",
        "df_zmm059_2024_2[\"ГОД\"] = \"2024\"\n",
        "cols = [\"ГОД\"] + [col for col in df_zmm059_2024_2.columns if col != \"ГОД\"]\n",
        "df_zmm059_2024_2 = df_zmm059_2024_2[cols]\n",
        "#\n",
        "df_zmm059_2024_3[\"ГОД\"] = \"2024\"\n",
        "cols = [\"ГОД\"] + [col for col in df_zmm059_2024_3.columns if col != \"ГОД\"]\n",
        "df_zmm059_2024_3 = df_zmm059_2024_3[cols]\n",
        "#\n",
        "df_zmm059_2024_4[\"ГОД\"] = \"2024\"\n",
        "cols = [\"ГОД\"] + [col for col in df_zmm059_2024_4.columns if col != \"ГОД\"]\n",
        "df_zmm059_2024_4 = df_zmm059_2024_4[cols]\n",
        "\n",
        "#ilk sutuna yıl yazdırma me2n\n",
        "df_me2n_2022[\"ГОД\"] = \"2022\"\n",
        "cols = [\"ГОД\"] + [col for col in df_me2n_2022.columns if col != \"ГОД\"]\n",
        "df_me2n_2022 = df_me2n_2022[cols]\n",
        "#\n",
        "df_me2n_2023[\"ГОД\"] = \"2023\"\n",
        "cols = [\"ГОД\"] + [col for col in df_me2n_2023.columns if col != \"ГОД\"]\n",
        "df_me2n_2023 = df_me2n_2023[cols]\n",
        "#\n",
        "df_me2n_2024[\"ГОД\"] = \"2024\"\n",
        "cols = [\"ГОД\"] + [col for col in df_me2n_2024.columns if col != \"ГОД\"]\n",
        "df_me2n_2024 = df_me2n_2024[cols]\n",
        "#\n",
        "df_me2n_2025[\"ГОД\"] = \"2025\"\n",
        "cols = [\"ГОД\"] + [col for col in df_me2n_2025.columns if col != \"ГОД\"]\n",
        "df_me2n_2025 = df_me2n_2025[cols]\n",
        "#ilk sutuna yıl yazdırma\n",
        "df_zmb51_2022[\"ГОД\"] = \"2022\"\n",
        "cols = [\"ГОД\"] + [col for col in df_zmb51_2022.columns if col != \"ГОД\"]\n",
        "df_zmb51_2022 = df_zmb51_2022[cols]\n",
        "#\n",
        "df_zmb51_2023[\"ГОД\"] = \"2023\"\n",
        "cols = [\"ГОД\"] + [col for col in df_zmb51_2023.columns if col != \"ГОД\"]\n",
        "df_zmb51_2023 = df_zmb51_2023[cols]\n",
        "#\n",
        "df_zmb51_2024_1[\"ГОД\"] = \"2024\"\n",
        "cols = [\"ГОД\"] + [col for col in df_zmb51_2024_1.columns if col != \"ГОД\"]\n",
        "df_zmb51_2024_1 = df_zmb51_2024_1[cols]\n",
        "#\n",
        "df_zmb51_2024_2[\"ГОД\"] = \"2024\"\n",
        "cols = [\"ГОД\"] + [col for col in df_zmb51_2024_2.columns if col != \"ГОД\"]\n",
        "df_zmb51_2024_2 = df_zmb51_2024_2[cols]\n",
        "#\n",
        "df_zmb51_2024_3[\"ГОД\"] = \"2024\"\n",
        "cols = [\"ГОД\"] + [col for col in df_zmb51_2024_3.columns if col != \"ГОД\"]\n",
        "df_zmb51_2024_3 = df_zmb51_2024_3[cols]\n",
        "#\n",
        "df_zmb51_2024_4[\"ГОД\"] = \"2024\"\n",
        "cols = [\"ГОД\"] + [col for col in df_zmb51_2024_4.columns if col != \"ГОД\"]\n",
        "df_zmb51_2024_4 = df_zmb51_2024_4[cols]\n",
        "#\n",
        "df_zmb51_2024_5[\"ГОД\"] = \"2024\"\n",
        "cols = [\"ГОД\"] + [col for col in df_zmb51_2024_5.columns if col != \"ГОД\"]\n",
        "df_zmb51_2024_5 = df_zmb51_2024_5[cols]\n",
        "#\n",
        "df_zmb51_2025[\"ГОД\"] = \"2025\"\n",
        "cols = [\"ГОД\"] + [col for col in df_zmb51_2025.columns if col != \"ГОД\"]\n",
        "df_zmb51_2025 = df_zmb51_2025[cols]\n",
        "#\n",
        "df_zmb51_2025_2[\"ГОД\"] = \"2025\"\n",
        "cols = [\"ГОД\"] + [col for col in df_zmb51_2025_2.columns if col != \"ГОД\"]\n",
        "df_zmb51_2025_2 = df_zmb51_2025_2[cols]"
      ],
      "metadata": {
        "id": "pg3svF3aSGH_"
      },
      "execution_count": null,
      "outputs": []
    },
    {
      "cell_type": "code",
      "source": [
        "#me5a birleştirme\n",
        "df_listesi_me5a = [df_me5a_2022, df_me5a_2023, df_me5a_2024,df_me5a_2025]\n",
        "df_me5a_2022_2025 = pd.concat(df_listesi_me5a, ignore_index=True)\n",
        "# zmm059 birleştirme\n",
        "df_listesi_zmm059 = [df_zmm059_2022, df_zmm059_2023, df_zmm059_2024_1, df_zmm059_2024_2, df_zmm059_2024_3, df_zmm059_2024_4, df_zmm059_2025]\n",
        "# Hepsini birleştir\n",
        "df_zmm059_2022_2025 = pd.concat(df_listesi_zmm059, ignore_index=True)\n",
        "\n",
        "df_listesi_me2n = [df_me2n_2022, df_me2n_2023, df_me2n_2024,df_me2n_2025]\n",
        "df_me2n_2022_2025 = pd.concat(df_listesi_me2n, ignore_index=True)\n",
        "\n",
        "df_listesi_zmb51 = [df_zmb51_2022,df_zmb51_2023,df_zmb51_2024_1,df_zmb51_2024_2,\n",
        "              df_zmb51_2024_3,df_zmb51_2024_4,df_zmb51_2024_5,\n",
        "              df_zmb51_2025,df_zmb51_2025_2]\n",
        "birlesik_df_zmb51 = pd.concat(df_listesi_zmb51, ignore_index=True)"
      ],
      "metadata": {
        "id": "PEjYbce0SHp3"
      },
      "execution_count": null,
      "outputs": []
    },
    {
      "cell_type": "code",
      "source": [
        "df_me5a_2022_2025 = df_me5a_2022_2025.map(temizle_nan)\n",
        "df_zmm059_2022_2025 = df_zmm059_2022_2025.map(temizle_nan)\n",
        "df_me2n_2022_2025 = df_me2n_2022_2025.map(temizle_nan)\n",
        "df_tedarikci_listesi = df_tedarikci_listesi.map(temizle_nan)\n",
        "birlesik_df_zmb51 = birlesik_df_zmb51.map(temizle_nan)"
      ],
      "metadata": {
        "id": "11l3Irv_9HG3"
      },
      "execution_count": null,
      "outputs": []
    },
    {
      "cell_type": "code",
      "source": [
        "#yedek tablolar\n",
        "df_me5a_2022_2025_yedek=df_me5a_2022_2025.copy()\n",
        "df_zmm059_2022_2025_yedek=df_zmm059_2022_2025.copy()\n",
        "df_me2n_2022_2025_yedek=df_me2n_2022_2025.copy()\n",
        "birlesik_df_zmb51_yedek=birlesik_df_zmb51.copy()"
      ],
      "metadata": {
        "id": "WsPSFrm5Uc_7"
      },
      "execution_count": null,
      "outputs": []
    },
    {
      "cell_type": "code",
      "source": [
        "#zmm059\n",
        "df_zmm059_2022_2025[\"﻿Документ закупки\"] = df_zmm059_2022_2025[\"﻿Документ закупки\"].apply(temizle_ve_cevir)\n",
        "df_zmm059_2022_2025.rename(columns={'﻿Документ закупки': 'Документ_закупки'}, inplace=True)\n",
        "df_zmm059_2022_2025[\"Материал\"] = df_zmm059_2022_2025[\"Материал\"].apply(temizle_ve_cevir)\n",
        "df_zmm059_2022_2025[\"Заявка\"] = df_zmm059_2022_2025[\"Заявка\"].apply(temizle_ve_cevir)\n",
        "df_zmm059_2022_2025 = duzenle_sayi_sutunu(df_zmm059_2022_2025, \"Количество ЗП\")\n",
        "df_zmm059_2022_2025 = duzenle_sayi_sutunu(df_zmm059_2022_2025, \"Минимальная цена ЗП\")\n",
        "df_zmm059_2022_2025 = duzenle_sayi_sutunu(df_zmm059_2022_2025, \"Единица ЗП\")\n",
        "df_zmm059_2022_2025 = duzenle_sayi_sutunu(df_zmm059_2022_2025, \"Цена нетто ЗП\")\n",
        "df_zmm059_2022_2025 = duzenle_sayi_sutunu(df_zmm059_2022_2025, \"Итого цена нетто\")\n",
        "df_zmm059_2022_2025[\"Дата создания\"] = pd.to_datetime(df_zmm059_2022_2025[\"Дата создания\"], format=\"%d.%m.%Y\", errors=\"coerce\").dt.date\n",
        "df_zmm059_2022_2025[\"Дата поставки\"] = pd.to_datetime(df_zmm059_2022_2025[\"Дата поставки\"], format=\"%d.%m.%Y\", errors=\"coerce\").dt.date\n",
        "df_zmm059_2022_2025[\"Дата доставки, одобренная Поставщиком\"] = pd.to_datetime(df_zmm059_2022_2025[\"Дата доставки, одобренная Поставщиком\"], format=\"%d.%m.%Y\", errors=\"coerce\").dt.date\n",
        "df_zmm059_2022_2025[\"Группа закупок\"] = df_zmm059_2022_2025[\"Группа закупок\"].apply(temizle_ve_cevir)\n",
        "df_zmm059_2022_2025[\"БЕ\"] = df_zmm059_2022_2025[\"БЕ\"].apply(temizle_ve_cevir)\n",
        "df_zmm059_2022_2025[\"Закуп. организация\"] = df_zmm059_2022_2025[\"Закуп. организация\"].apply(temizle_ve_cevir)\n",
        "df_zmm059_2022_2025[\"Поставщик\"] = df_zmm059_2022_2025[\"Поставщик\"].apply(temizle_ve_cevir)\n",
        "df_zmm059_2022_2025[\"Дата создания.1\"] = pd.to_datetime(df_zmm059_2022_2025[\"Дата создания.1\"], format=\"%d.%m.%Y\", errors=\"coerce\").dt.date\n",
        "df_zmm059_2022_2025 = duzenle_sayi_sutunu(df_zmm059_2022_2025, \"Цена заказа нетто\")\n",
        "df_zmm059_2022_2025 = duzenle_sayi_sutunu(df_zmm059_2022_2025, \"Стоимость брутто\")\n",
        "df_zmm059_2022_2025 = duzenle_sayi_sutunu(df_zmm059_2022_2025, \"Недопоставленное количество\")\n",
        "df_zmm059_2022_2025 = duzenle_sayi_sutunu(df_zmm059_2022_2025, \"Количество поставки\")\n",
        "df_zmm059_2022_2025 = duzenle_sayi_sutunu(df_zmm059_2022_2025, \"Сумма брутто\")\n",
        "df_zmm059_2022_2025 = duzenle_sayi_sutunu(df_zmm059_2022_2025, \"Количество по счету\")\n",
        "df_zmm059_2022_2025[\"Дата проводки\"] = pd.to_datetime(df_zmm059_2022_2025[\"Дата проводки\"], format=\"%d.%m.%Y\", errors=\"coerce\").dt.date\n",
        "df_zmm059_2022_2025 = duzenle_sayi_sutunu(df_zmm059_2022_2025, \"Количество по счету.1\")\n",
        "df_zmm059_2022_2025 = duzenle_sayi_sutunu(df_zmm059_2022_2025, \"Остаток количества по счету\")\n",
        "df_zmm059_2022_2025[\"Дата контракта\"] = pd.to_datetime(df_zmm059_2022_2025[\"Дата контракта\"], format=\"%d.%m.%Y\", errors=\"coerce\").dt.date\n",
        "df_zmm059_2022_2025[\"Дата вступления в силу контракта\"] = pd.to_datetime(df_zmm059_2022_2025[\"Дата вступления в силу контракта\"], format=\"%d.%m.%Y\", errors=\"coerce\").dt.date\n",
        "df_zmm059_2022_2025[\"Дата окончания действия договора\"] = pd.to_datetime(df_zmm059_2022_2025[\"Дата окончания действия договора\"], format=\"%d.%m.%Y\", errors=\"coerce\").dt.date\n",
        "#ME5A\n",
        "df_me5a_2022_2025[\"﻿Заявка\"] = df_me5a_2022_2025[\"﻿Заявка\"].apply(temizle_ve_cevir)\n",
        "df_me5a_2022_2025.rename(columns={'﻿Заявка': 'Заявка'}, inplace=True)\n",
        "df_me5a_2022_2025[\"Материал\"] = df_me5a_2022_2025[\"Материал\"].apply(temizle_ve_cevir)\n",
        "df_me5a_2022_2025[\"'Дата заявки\"] = pd.to_datetime(df_me5a_2022_2025[\"Дата заявки\"], format=\"%d.%m.%Y\", errors=\"coerce\").dt.date\n",
        "df_me5a_2022_2025[\"Группа закупок\"] = df_me5a_2022_2025[\"Группа закупок\"].apply(temizle_ve_cevir)\n",
        "df_me5a_2022_2025[\"'Дата заявки\"] = pd.to_datetime(df_me5a_2022_2025[\"Дата заявки\"], format=\"%d.%m.%Y\", errors=\"coerce\").dt.date\n",
        "df_me5a_2022_2025[\"Дата изменения\"] = df_me5a_2022_2025[\"Дата изменения\"].apply(temizle_ve_cevir)\n",
        "df_me5a_2022_2025[\"Заказ на поставку\"] = df_me5a_2022_2025[\"Заказ на поставку\"].apply(temizle_ve_cevir)\n",
        "df_me5a_2022_2025[\"Позиция ЗкзНаПостав\"] = df_me5a_2022_2025[\"Позиция ЗкзНаПостав\"].apply(temizle_ve_cevir)\n",
        "df_me5a_2022_2025 = duzenle_sayi_sutunu(df_me5a_2022_2025, \"ЗатребованКолич\")\n",
        "df_me5a_2022_2025 = duzenle_sayi_sutunu(df_me5a_2022_2025, \"Заказанное к-во\")\n",
        "df_me5a_2022_2025[\"Закуп. организация\"] = df_me5a_2022_2025[\"Закуп. организация\"].apply(temizle_ve_cevir)\n",
        "df_me5a_2022_2025[\"Номер проекта\"] = df_me5a_2022_2025[\"Номер проекта\"].apply(temizle_ve_cevir)\n",
        "df_me5a_2022_2025[\"Дата деблокирования\"] = pd.to_datetime(df_me5a_2022_2025[\"Дата деблокирования\"], format=\"%d.%m.%Y\", errors=\"coerce\").dt.date\n",
        "#me2n\n",
        "df_me2n_2022_2025[\"﻿Документ закупки\"] = df_me2n_2022_2025[\"﻿Документ закупки\"].apply(temizle_ve_cevir)\n",
        "df_me2n_2022_2025.rename(columns={'﻿Документ закупки': 'Документ закупки'}, inplace=True)\n",
        "df_me2n_2022_2025[\"Дата документа\"] = pd.to_datetime(df_me2n_2022_2025[\"Дата документа\"], format=\"%d.%m.%Y\", errors=\"coerce\").dt.date\n",
        "df_me2n_2022_2025[\"Заявка\"] = df_me2n_2022_2025[\"Заявка\"].apply(temizle_ve_cevir)\n",
        "df_me2n_2022_2025[\"Материал\"] = df_me2n_2022_2025[\"Материал\"].apply(temizle_ve_cevir)\n",
        "df_me2n_2022_2025 = duzenle_sayi_sutunu(df_me2n_2022_2025, \"Объем заказа\")\n",
        "df_me2n_2022_2025 = duzenle_sayi_sutunu(df_me2n_2022_2025, \"еще поставить (количество)\")\n",
        "df_me2n_2022_2025 = duzenle_sayi_sutunu(df_me2n_2022_2025, \"Количество в СЕИ\")\n",
        "df_me2n_2022_2025 = duzenle_sayi_sutunu(df_me2n_2022_2025, \"Цена нетто\")\n",
        "df_me2n_2022_2025 = duzenle_sayi_sutunu(df_me2n_2022_2025, \"СтоимЗаказа нетто\")\n",
        "df_me2n_2022_2025 = duzenle_sayi_sutunu(df_me2n_2022_2025, \"Еще для поставки (стоимость)\")\n",
        "df_me2n_2022_2025[\"Дата поставки\"] = pd.to_datetime(df_me2n_2022_2025[\"Дата поставки\"], format=\"%d.%m.%Y\", errors=\"coerce\").dt.date\n",
        "#zmb51\n",
        "birlesik_df_zmb51 = duzenle_sayi_sutunu(birlesik_df_zmb51, \"Сумма во ВВ\")\n",
        "birlesik_df_zmb51[\"Партия\"] = birlesik_df_zmb51[\"Партия\"].apply(temizle_ve_cevir)\n",
        "birlesik_df_zmb51[\"Материал\"] = birlesik_df_zmb51[\"Материал\"].apply(temizle_ve_cevir)\n",
        "birlesik_df_zmb51[\"Дата ввода\"] = pd.to_datetime(birlesik_df_zmb51[\"Дата ввода\"], format=\"%d.%m.%Y\", errors=\"coerce\").dt.date\n",
        "birlesik_df_zmb51[\"Дата документа\"] = pd.to_datetime(birlesik_df_zmb51[\"Дата документа\"], format=\"%d.%m.%Y\", errors=\"coerce\").dt.date\n",
        "birlesik_df_zmb51[\"Дата проводки\"] = pd.to_datetime(birlesik_df_zmb51[\"Дата проводки\"], format=\"%d.%m.%Y\", errors=\"coerce\").dt.date\n",
        "birlesik_df_zmb51[\"Внутренний заказ\"] = birlesik_df_zmb51[\"Внутренний заказ\"].apply(temizle_ve_cevir)\n",
        "birlesik_df_zmb51[\"Заказ на поставку\"] = birlesik_df_zmb51[\"Заказ на поставку\"].apply(temizle_ve_cevir)\n",
        "birlesik_df_zmb51[\"Позиция\"] = birlesik_df_zmb51[\"Позиция\"].apply(temizle_ve_cevir)\n",
        "birlesik_df_zmb51[\"Документ материала\"] = birlesik_df_zmb51[\"Документ материала\"].apply(temizle_ve_cevir)\n",
        "birlesik_df_zmb51[\"Поз. док. материала\"] = birlesik_df_zmb51[\"Поз. док. материала\"].apply(temizle_ve_cevir)\n",
        "birlesik_df_zmb51 = duzenle_sayi_sutunu(birlesik_df_zmb51, \"Кол-во в ЕИ ввода\")\n",
        "birlesik_df_zmb51 = duzenle_sayi_sutunu(birlesik_df_zmb51, \"Количество\")\n",
        "birlesik_df_zmb51['Поставщик'] = birlesik_df_zmb51['Поставщик'].apply(temizle_ve_cevir)\n",
        "birlesik_df_zmb51.rename(columns={'﻿Вид движения': 'Вид движения'}, inplace=True)"
      ],
      "metadata": {
        "id": "BBgZm5UIWmm5"
      },
      "execution_count": null,
      "outputs": []
    },
    {
      "cell_type": "code",
      "source": [
        "df_calisilan = df_zmm059_2022_2025.copy()"
      ],
      "metadata": {
        "id": "8Y8-PMXvbwfn"
      },
      "execution_count": null,
      "outputs": []
    },
    {
      "cell_type": "code",
      "source": [
        "df_calisilan[\"B3-B3POZ\"] = (\n",
        "    df_calisilan[\"Заявка\"].astype(str) + \"_\" + df_calisilan[\"Позиция заявки\"].astype(str)\n",
        ")\n",
        "df_me5a_2022_2025[\"B3-B3POZ\"] = (\n",
        "    df_me5a_2022_2025[\"Заявка\"].astype(str) + \"_\" + df_me5a_2022_2025[\"Позиция заявки\"].astype(str)\n",
        ")"
      ],
      "metadata": {
        "id": "ZppMAbOd1fBo"
      },
      "execution_count": null,
      "outputs": []
    },
    {
      "cell_type": "code",
      "source": [
        "df_calisilan.columns.values[2] = \"Зп_Поз\"\n",
        "df_tedarikci_listesi.rename(columns={'kod': 'Поставщик'}, inplace=True)"
      ],
      "metadata": {
        "id": "yTbLKB0E11jw"
      },
      "execution_count": null,
      "outputs": []
    },
    {
      "cell_type": "code",
      "source": [
        "adetler = df_calisilan[\"B3-B3POZ\"].value_counts()"
      ],
      "metadata": {
        "id": "jbDHo8Ri1-PP"
      },
      "execution_count": null,
      "outputs": []
    },
    {
      "cell_type": "code",
      "source": [
        "mukerrer_kodlar = adetler[adetler > 1].index"
      ],
      "metadata": {
        "id": "UgOoPeEJ2F1f"
      },
      "execution_count": null,
      "outputs": []
    },
    {
      "cell_type": "code",
      "source": [
        "silinmesi_gerekenler = df_calisilan[\n",
        "    (df_calisilan[\"B3-B3POZ\"].isin(mukerrer_kodlar)) &\n",
        "    (df_calisilan[\"Документ_закупки\"].isna())\n",
        "\n",
        "]"
      ],
      "metadata": {
        "id": "YW0kjl_T2IBf"
      },
      "execution_count": null,
      "outputs": []
    },
    {
      "cell_type": "code",
      "source": [
        "df_calisilan = df_calisilan.drop(silinmesi_gerekenler.index)"
      ],
      "metadata": {
        "id": "Y4PEwwIf2LAP"
      },
      "execution_count": null,
      "outputs": []
    },
    {
      "cell_type": "code",
      "source": [
        "for i, col in enumerate(df_calisilan.columns):\n",
        "    print(f\"{i}: {col}\")"
      ],
      "metadata": {
        "id": "kB_Qut3v_VLf"
      },
      "execution_count": null,
      "outputs": []
    },
    {
      "cell_type": "code",
      "source": [
        "df_calisilan['Поставщик'].sample(5)"
      ],
      "metadata": {
        "id": "jlHV2zrg_jnM"
      },
      "execution_count": null,
      "outputs": []
    },
    {
      "cell_type": "code",
      "source": [
        "df_calisilan[\"Поставщик\"] = df_calisilan[\"Поставщик\"].apply(temizle_ve_cevir)"
      ],
      "metadata": {
        "id": "tmR50MlKCEDm"
      },
      "execution_count": null,
      "outputs": []
    },
    {
      "cell_type": "code",
      "source": [
        "# Tedarikçi sözlüğünü yine string anahtarlara göre oluştur\n",
        "tedarikci_dict = dict(zip(df_tedarikci_listesi.iloc[:, 0].astype(str), df_tedarikci_listesi.iloc[:, 1]))\n",
        "\n",
        "# Eşleştirme\n",
        "df_calisilan[\"имя_поставщика\"] = df_calisilan[\"Поставщик\"].map(tedarikci_dict)"
      ],
      "metadata": {
        "id": "GbfZaPq-AERb"
      },
      "execution_count": null,
      "outputs": []
    },
    {
      "cell_type": "code",
      "source": [
        "df_calisilan.tail()"
      ],
      "metadata": {
        "id": "Y5_wBAEcHJy5"
      },
      "execution_count": null,
      "outputs": []
    },
    {
      "cell_type": "code",
      "source": [
        "# Sözlük oluştur (anahtar: B3-B3POZ, değer: Материал)\n",
        "b3_to_material_dict = dict(zip(df_me5a_2022_2025[\"B3-B3POZ\"].astype(str), df_me5a_2022_2025[\"Материал\"]))"
      ],
      "metadata": {
        "id": "Bvyz2AHlHsJY"
      },
      "execution_count": null,
      "outputs": []
    },
    {
      "cell_type": "code",
      "source": [
        "# B3-B3POZ'e göre eşleşen Материал'ları getir (yeni bir sütun olarak)\n",
        "df_calisilan[\"Материал_yeni\"] = df_calisilan[\"B3-B3POZ\"].astype(str).map(b3_to_material_dict)"
      ],
      "metadata": {
        "id": "7l2NvEZxHuZK"
      },
      "execution_count": null,
      "outputs": []
    },
    {
      "cell_type": "code",
      "source": [
        "# Sadece boş olan Материал hücrelerini, eşleşen değerle doldur\n",
        "df_calisilan[\"Материал\"] = df_calisilan[\"Материал\"].fillna(df_calisilan[\"Материал_yeni\"])\n",
        "# Geçici sütunu silelim\n",
        "df_calisilan.drop(columns=[\"Материал_yeni\"], inplace=True)"
      ],
      "metadata": {
        "id": "pcZRBiY_HxT4"
      },
      "execution_count": null,
      "outputs": []
    },
    {
      "cell_type": "code",
      "source": [
        "# Sözlükleri oluştur\n",
        "ru_dict = dict(zip(df_material_list.iloc[:, 0].astype(str), df_material_list.iloc[:, 1]))\n",
        "tr_dict = dict(zip(df_material_list.iloc[:, 0].astype(str), df_material_list.iloc[:, 2]))\n",
        "\n",
        "# Eşleştir\n",
        "df_calisilan[\"RU Наименование\"] = df_calisilan[\"Материал\"].astype(str).map(ru_dict)\n",
        "df_calisilan[\"TR Наименование\"] = df_calisilan[\"Материал\"].astype(str).map(tr_dict)\n"
      ],
      "metadata": {
        "id": "sXW24pqqH1SZ"
      },
      "execution_count": null,
      "outputs": []
    },
    {
      "cell_type": "code",
      "source": [
        "df_calisilan[\"Материал\"].isna().sum()"
      ],
      "metadata": {
        "id": "YzbXCDvEH5hV"
      },
      "execution_count": null,
      "outputs": []
    },
    {
      "cell_type": "code",
      "source": [
        "df_calisilan[[\"Поставщик\", \"имя_поставщика\"]].sample(n=5)"
      ],
      "metadata": {
        "id": "c9vEpfiVH8kV"
      },
      "execution_count": null,
      "outputs": []
    },
    {
      "cell_type": "code",
      "source": [
        "df_calisilan.drop(columns=['Материалы тур.', 'Материалы анг.'], inplace=True)"
      ],
      "metadata": {
        "id": "nhDD7V3lIClt"
      },
      "execution_count": null,
      "outputs": []
    },
    {
      "cell_type": "code",
      "source": [
        "# Sütunları çıkart\n",
        "col_ru = df_calisilan.pop('RU Наименование')\n",
        "col_tr = df_calisilan.pop('TR Наименование')\n",
        "col_b3 = df_calisilan.pop('B3-B3POZ')\n",
        "\n",
        "# Sütunları istediğin yerlere ekle\n",
        "df_calisilan.insert(1, 'B3-B3POZ', col_b3)\n",
        "df_calisilan.insert(8, 'RU Наименование', col_ru)\n",
        "df_calisilan.insert(9, 'TR Наименование', col_tr)\n"
      ],
      "metadata": {
        "id": "rISmvc0jINL6"
      },
      "execution_count": null,
      "outputs": []
    },
    {
      "cell_type": "code",
      "source": [
        "listofme5aint=[\"Заказанное к-во\",\"ЗатребованКолич\"]\n",
        "for col1 in listofme5aint:\n",
        "    df_me5a_2022_2025 = duzenle_sayi_sutunu(df_me5a_2022_2025, col1)"
      ],
      "metadata": {
        "id": "85bIIN77IP0Y"
      },
      "execution_count": null,
      "outputs": []
    },
    {
      "cell_type": "code",
      "source": [
        "listofcalisilanint=[\"Количество ЗП\",\"Цена нетто ЗП\",\"Итого цена нетто\"]\n",
        "for col in listofcalisilanint:\n",
        "    df_calisilan = duzenle_sayi_sutunu(df_calisilan, col)"
      ],
      "metadata": {
        "id": "DOt-l9eLISYg"
      },
      "execution_count": null,
      "outputs": []
    },
    {
      "cell_type": "code",
      "source": [
        " # Sözlük oluştur (anahtar: B3-B3POZ, değer: Материал)\n",
        "b3_to_material_dict = dict(zip(df_me5a_2022_2025[\"B3-B3POZ\"].astype(str), df_me5a_2022_2025[\"Материал\"]))"
      ],
      "metadata": {
        "id": "UWpLlBPEIi4N"
      },
      "execution_count": null,
      "outputs": []
    },
    {
      "cell_type": "code",
      "source": [
        "# B3-B3POZ'e göre eşleşen Материал'ları getir (yeni bir sütun olarak)\n",
        "df_calisilan[\"Материал_yeni\"] = df_calisilan[\"B3-B3POZ\"].astype(str).map(b3_to_material_dict)"
      ],
      "metadata": {
        "id": "ecF5TGP7OzFc"
      },
      "execution_count": null,
      "outputs": []
    },
    {
      "cell_type": "code",
      "source": [
        "# Sadece boş olan Материал hücrelerini, eşleşen değerle doldur\n",
        "df_calisilan[\"Материал\"] = df_calisilan[\"Материал\"].fillna(df_calisilan[\"Материал_yeni\"])\n",
        "# Geçici sütunu silelim\n",
        "df_calisilan.drop(columns=[\"Материал_yeni\"], inplace=True)"
      ],
      "metadata": {
        "id": "CRMP-sPxO-Ot"
      },
      "execution_count": null,
      "outputs": []
    },
    {
      "cell_type": "code",
      "source": [
        "# Sözlükleri oluştur\n",
        "ru_dict = dict(zip(df_material_list.iloc[:, 0].astype(str), df_material_list.iloc[:, 1]))\n",
        "tr_dict = dict(zip(df_material_list.iloc[:, 0].astype(str), df_material_list.iloc[:, 2]))\n",
        "\n",
        "# Eşleştir\n",
        "df_calisilan[\"RU Наименование\"] = df_calisilan[\"Материал\"].astype(str).map(ru_dict)\n",
        "df_calisilan[\"TR Наименование\"] = df_calisilan[\"Материал\"].astype(str).map(tr_dict)"
      ],
      "metadata": {
        "id": "POfa9VRTPU6N"
      },
      "execution_count": null,
      "outputs": []
    },
    {
      "cell_type": "code",
      "source": [
        "df_calisilan[\"Материал\"].isna().sum()"
      ],
      "metadata": {
        "id": "QSrxN-29PXjX"
      },
      "execution_count": null,
      "outputs": []
    },
    {
      "cell_type": "code",
      "source": [
        "df_calisilan = df_calisilan.map(temizle_nan)"
      ],
      "metadata": {
        "id": "FIzqy22PTSbn"
      },
      "execution_count": null,
      "outputs": []
    },
    {
      "cell_type": "code",
      "source": [
        "sorted_columns = sorted(df_calisilan.columns)\n",
        "print(sorted_columns)"
      ],
      "metadata": {
        "id": "XzFl54k0ULMN"
      },
      "execution_count": null,
      "outputs": []
    },
    {
      "cell_type": "code",
      "source": [
        "df_calisilan.drop(columns=['Материалы тур.', 'Материалы анг.'], inplace=True)"
      ],
      "metadata": {
        "id": "5y8bJpAfUrDB"
      },
      "execution_count": null,
      "outputs": []
    },
    {
      "cell_type": "code",
      "source": [
        "df_calisilan[[\"Документ_закупки\",\"Зп_Поз\",\"Количество ЗП\",\"Цена нетто ЗП\",\"Итого цена нетто\"]].sample(n=5, random_state=1)"
      ],
      "metadata": {
        "id": "_PNPkP_3U9Bo"
      },
      "execution_count": null,
      "outputs": []
    },
    {
      "cell_type": "code",
      "source": [
        "# Hepsini string yap ve boşlukları temizle\n",
        "birlesik_df_zmb51[\"Заказ на поставку\"] = birlesik_df_zmb51[\"Заказ на поставку\"].astype(str).str.strip()\n",
        "df_me2n_2022_2025[\"Документ закупки\"] = df_me2n_2022_2025[\"Документ закупки\"].astype(str).str.strip()\n"
      ],
      "metadata": {
        "id": "JKsOeZ3xlLZG"
      },
      "execution_count": null,
      "outputs": []
    },
    {
      "cell_type": "code",
      "source": [
        "# \"Наш знак\" için dict\n",
        "dict_nash_znak = dict(zip(df_me2n_2022_2025[\"Документ закупки\"], df_me2n_2022_2025[\"Наш знак\"]))\n",
        "\n",
        "# \"Ваш код\" için dict\n",
        "dict_vash_kod = dict(zip(df_me2n_2022_2025[\"Документ закупки\"], df_me2n_2022_2025[\"Ваш код\"]))\n",
        "\n",
        "# map ile ekleme\n",
        "birlesik_df_zmb51[\"Наш знак\"] = birlesik_df_zmb51[\"Заказ на поставку\"].map(dict_nash_znak)\n",
        "birlesik_df_zmb51[\"Ваш код\"] = birlesik_df_zmb51[\"Заказ на поставку\"].map(dict_vash_kod)"
      ],
      "metadata": {
        "id": "HVpcRXTii8a1"
      },
      "execution_count": null,
      "outputs": []
    },
    {
      "cell_type": "code",
      "source": [
        "df_calisilan[\"Позиция заявки\"].apply(temizle_ve_cevir)"
      ],
      "metadata": {
        "id": "cnHZmkheryM9"
      },
      "execution_count": null,
      "outputs": []
    },
    {
      "cell_type": "code",
      "source": [
        "# 1. Anahtar sütunlarını birleştir ve zp_zppoz adını ver\n",
        "birlesik_df_zmb51[\"zp_zppoz\"] = (\n",
        "    birlesik_df_zmb51[\"Заказ на поставку\"].apply(temizle_ve_cevir) + \"_\" +\n",
        "    birlesik_df_zmb51[\"Позиция\"].apply(temizle_ve_cevir)\n",
        ")\n",
        "\n",
        "df_calisilan[\"zp_zppoz\"] = (\n",
        "    df_calisilan[\"Документ_закупки\"].apply(temizle_ve_cevir) + \"_\" +\n",
        "    df_calisilan[\"Зп_Поз\"].apply(temizle_ve_cevir)\n",
        ")\n",
        "\n",
        "# 2. dict oluştur\n",
        "dict_poz = dict(zip(df_calisilan[\"zp_zppoz\"], df_calisilan[\"Позиция заявки\"]))\n",
        "\n",
        "# 3. map ile yeni sütunu ekle\n",
        "birlesik_df_zmb51[\"Позиция заявки\"] = birlesik_df_zmb51[\"zp_zppoz\"].map(dict_poz)\n",
        "birlesik_df_zmb51[\"Позиция заявки\"].apply(temizle_ve_cevir)\n",
        "birlesik_df_zmb51[\"Позиция заявки\"] = birlesik_df_zmb51[\"Позиция заявки\"].fillna(0).astype(int)"
      ],
      "metadata": {
        "id": "O_AJR-LFrkzx"
      },
      "execution_count": null,
      "outputs": []
    },
    {
      "cell_type": "code",
      "source": [
        "# 1. Yeni sütun sırasını belirle\n",
        "zmb51_yeni_sira = [\n",
        "    'ГОД', '﻿Вид движения', 'Партия', 'Материал',\n",
        "    'Заказ на поставку', 'Позиция', 'Наш знак', 'Ваш код','Внутренний заказ', 'Позиция заявки',\n",
        "    'Склад', 'Дата ввода','Время ввода', 'Дата документа', 'Дата проводки',\n",
        "    'Документ материала','Поз. док. материала', 'Признак 2', 'Ссылка', 'Краткий текст материала',\n",
        "    'Кол-во в ЕИ ввода', 'ЕИ ввода', 'Сумма во ВВ', 'Количество',\n",
        "    'Поставщик', 'Накладная', 'Текст заголовка документа', 'Заявитель',\n",
        "    'Инвентарный номер', 'Имя пользователя', 'БЕ', 'Базовая ЕИ',\n",
        "    'ГодДокумМатериала', 'Валюта', 'Завод', 'Имя 1', 'Основное средство',\n",
        "    'ЕИ цены заказа', 'ЕИ заказа на постав.'\n",
        "]\n",
        "\n",
        "# 2. DataFrame'i yeni sütun sırasına göre düzenle\n",
        "birlesik_df_zmb51 = birlesik_df_zmb51[zmb51_yeni_sira]\n"
      ],
      "metadata": {
        "id": "pxLobhrivijz"
      },
      "execution_count": null,
      "outputs": []
    },
    {
      "cell_type": "code",
      "source": [
        "birlesik_df_zmb51.columns"
      ],
      "metadata": {
        "id": "8nw6A3mhVFgR"
      },
      "execution_count": null,
      "outputs": []
    }
  ],
  "metadata": {
    "colab": {
      "name": "Welcome To Colab",
      "provenance": [],
      "include_colab_link": true
    },
    "kernelspec": {
      "display_name": "Python 3",
      "name": "python3"
    }
  },
  "nbformat": 4,
  "nbformat_minor": 0
}