{
  "cells": [
    {
      "cell_type": "markdown",
      "metadata": {
        "id": "view-in-github",
        "colab_type": "text"
      },
      "source": [
        "<a href=\"https://colab.research.google.com/github/tsm-mehmetakiftasoz/tsm_makif/blob/main/zmm51.ipynb\" target=\"_parent\"><img src=\"https://colab.research.google.com/assets/colab-badge.svg\" alt=\"Open In Colab\"/></a>"
      ]
    },
    {
      "cell_type": "markdown",
      "source": [
        "ME5A RAPORLARINI BİRLEŞTİRMEK İÇİN OLUŞTURULDU . SAPDAN YILLARA GÖRE ME5A RAPORLARI ÇEKİP DEVAM EDİLEBİLİR. SAPDAN RAPORLARI ÇEKERKEN MAKIF3 VARYANT AYARLARINDA ÇEK YOKSA BİRLEŞTİRİRKEN ÇÖKER ayrıca buraya aktarmadan önce excelleri csv formatında kaydet. dosya isimleri aşağıdaki gibi olmalı ve solda gördüğün yere kaydedilmeli /content/...\n",
        "СОЗДАН ДЛЯ ОБЪЕДИНЕНИЯ ОТЧЕТОВ ME5A. ОТЧЕТЫ ME5A МОЖНО ПОЛУЧАТЬ ИЗ SAP ПО ГОДУ И ПРОДОЛЖАТЬ. ПРИ ПОЛУЧЕНИИ ОТЧЕТОВ ИЗ SAP ПРОВЕРЬТЕ НАСТРОЙКИ ВАРИАНТА MAKIF3, ИНАЧЕ ПРОИЗОЙДЕТ СБОЙ ПРИ ОБЪЕДИНЕНИИ. Также сохраните файлы Excel в формате CSV перед тем, как переносить их сюда. Имена файлов должны быть следующими, и их следует сохранять в местоположении, которое вы видите слева.\n",
        "ME5A_2022.csv\n",
        "ME5A_2023.csv\n",
        "ME5A_2024.csv\n",
        "ME5A_2025.csv"
      ],
      "metadata": {
        "id": "X3NsiFbJmQ6k"
      }
    },
    {
      "cell_type": "code",
      "source": [
        "!pip install pandas\n",
        "!pip install xlsxwriter"
      ],
      "metadata": {
        "id": "1_MTbZmN14NV",
        "outputId": "68881808-07fb-4a1e-b244-b45566088ab7",
        "colab": {
          "base_uri": "https://localhost:8080/"
        }
      },
      "execution_count": 15,
      "outputs": [
        {
          "output_type": "stream",
          "name": "stdout",
          "text": [
            "Requirement already satisfied: pandas in /usr/local/lib/python3.11/dist-packages (2.2.2)\n",
            "Requirement already satisfied: numpy>=1.23.2 in /usr/local/lib/python3.11/dist-packages (from pandas) (2.0.2)\n",
            "Requirement already satisfied: python-dateutil>=2.8.2 in /usr/local/lib/python3.11/dist-packages (from pandas) (2.9.0.post0)\n",
            "Requirement already satisfied: pytz>=2020.1 in /usr/local/lib/python3.11/dist-packages (from pandas) (2025.2)\n",
            "Requirement already satisfied: tzdata>=2022.7 in /usr/local/lib/python3.11/dist-packages (from pandas) (2025.2)\n",
            "Requirement already satisfied: six>=1.5 in /usr/local/lib/python3.11/dist-packages (from python-dateutil>=2.8.2->pandas) (1.17.0)\n",
            "Requirement already satisfied: xlsxwriter in /usr/local/lib/python3.11/dist-packages (3.2.5)\n"
          ]
        }
      ]
    },
    {
      "cell_type": "code",
      "source": [
        "import pandas as pd\n",
        "import numpy as np\n",
        "from google.colab import files\n",
        "import os\n",
        "import zipfile"
      ],
      "metadata": {
        "id": "Z-CZsbNjmP9c"
      },
      "execution_count": 16,
      "outputs": []
    },
    {
      "cell_type": "code",
      "source": [
        "df_zmb51_2022 = pd.read_csv('/content/zmb51_2022.csv', sep=None, engine='python')\n",
        "df_zmb51_2023 = pd.read_csv('/content/zmb51_2023.csv', sep=None, engine='python')\n",
        "df_zmb51_2024_1 = pd.read_csv('/content/zmb51_2024_1.csv', sep=None, engine='python')\n",
        "df_zmb51_2024_2 = pd.read_csv('/content/zmb51_2024_2.csv', sep=None, engine='python')\n",
        "df_zmb51_2024_3 = pd.read_csv('/content/zmb51_2024_3.csv', sep=None, engine='python')\n",
        "df_zmb51_2024_4 = pd.read_csv('/content/zmb51_2024_4.csv', sep=None, engine='python')\n",
        "df_zmb51_2024_5 = pd.read_csv('/content/zmb51_2024_5.csv', sep=None, engine='python')\n",
        "df_zmb51_2024_6 = pd.read_csv('/content/zmb51_2024_6.csv', sep=None, engine='python')\n",
        "df_zmb51_2024_7 = pd.read_csv('/content/zmb51_2024_7.csv', sep=None, engine='python')\n",
        "df_zmb51_2025 = pd.read_csv('/content/zmb51_2025.csv', sep=None, engine='python')\n",
        "# sep=None will automatically detect the delimiter\n",
        "# engine='python' is slower but more robust for complex cases\n"
      ],
      "metadata": {
        "id": "OFAfl2NEmuQN"
      },
      "execution_count": 17,
      "outputs": []
    },
    {
      "cell_type": "code",
      "source": [
        "#ilk sutuna yıl yazdırma\n",
        "df_zmb51_2022[\"ГОД\"] = \"2022\"\n",
        "cols = [\"ГОД\"] + [col for col in df_zmb51_2022.columns if col != \"ГОД\"]\n",
        "df_zmb51_2022 = df_zmb51_2022[cols]\n",
        "#\n",
        "df_zmb51_2023[\"ГОД\"] = \"2023\"\n",
        "cols = [\"ГОД\"] + [col for col in df_zmb51_2023.columns if col != \"ГОД\"]\n",
        "df_zmb51_2023 = df_zmb51_2023[cols]\n",
        "#\n",
        "df_zmb51_2024_1[\"ГОД\"] = \"2024\"\n",
        "cols = [\"ГОД\"] + [col for col in df_zmb51_2024_1.columns if col != \"ГОД\"]\n",
        "df_zmb51_2024_1 = df_zmb51_2024_1[cols]\n",
        "#\n",
        "df_zmb51_2024_2[\"ГОД\"] = \"2024\"\n",
        "cols = [\"ГОД\"] + [col for col in df_zmb51_2024_2.columns if col != \"ГОД\"]\n",
        "df_zmb51_2024_2 = df_zmb51_2024_2[cols]\n",
        "#\n",
        "df_zmb51_2024_3[\"ГОД\"] = \"2024\"\n",
        "cols = [\"ГОД\"] + [col for col in df_zmb51_2024_3.columns if col != \"ГОД\"]\n",
        "df_zmb51_2024_3 = df_zmb51_2024_3[cols]\n",
        "#\n",
        "df_zmb51_2024_4[\"ГОД\"] = \"2024\"\n",
        "cols = [\"ГОД\"] + [col for col in df_zmb51_2024_4.columns if col != \"ГОД\"]\n",
        "df_zmb51_2024_4 = df_zmb51_2024_4[cols]\n",
        "#\n",
        "df_zmb51_2024_5[\"ГОД\"] = \"2024\"\n",
        "cols = [\"ГОД\"] + [col for col in df_zmb51_2024_5.columns if col != \"ГОД\"]\n",
        "df_zmb51_2024_5 = df_zmb51_2024_5[cols]\n",
        "#\n",
        "df_zmb51_2024_6[\"ГОД\"] = \"2024\"\n",
        "cols = [\"ГОД\"] + [col for col in df_zmb51_2024_6.columns if col != \"ГОД\"]\n",
        "df_zmb51_2024_6 = df_zmb51_2024_6[cols]\n",
        "#\n",
        "df_zmb51_2024_7[\"ГОД\"] = \"2024\"\n",
        "cols = [\"ГОД\"] + [col for col in df_zmb51_2024_7.columns if col != \"ГОД\"]\n",
        "df_zmb51_2024_7 = df_zmb51_2024_7[cols]\n",
        "#\n",
        "df_zmb51_2025[\"ГОД\"] = \"2025\"\n",
        "cols = [\"ГОД\"] + [col for col in df_zmb51_2025.columns if col != \"ГОД\"]\n",
        "df_zmb51_2025 = df_zmb51_2025[cols]"
      ],
      "metadata": {
        "id": "5s5qMAVmmxAu"
      },
      "execution_count": 18,
      "outputs": []
    },
    {
      "cell_type": "code",
      "source": [
        "df_listesi = [df_zmb51_2022,df_zmb51_2023,df_zmb51_2024_1,df_zmb51_2024_2,\n",
        "              df_zmb51_2024_3,df_zmb51_2024_4,df_zmb51_2024_5,df_zmb51_2024_6,\n",
        "              df_zmb51_2025]"
      ],
      "metadata": {
        "id": "m0iFkMJVmyre"
      },
      "execution_count": 19,
      "outputs": []
    },
    {
      "cell_type": "code",
      "source": [
        "birlesik_df = pd.concat(df_listesi, ignore_index=True)\n"
      ],
      "metadata": {
        "id": "PGtscVWHmz0W"
      },
      "execution_count": 20,
      "outputs": []
    },
    {
      "cell_type": "code",
      "source": [
        "birlesik_df.head()"
      ],
      "metadata": {
        "id": "ewdctOt6m0-2",
        "colab": {
          "base_uri": "https://localhost:8080/",
          "height": 253
        },
        "outputId": "c7ff7e88-41bc-4c82-cd0a-1d2d868171d3"
      },
      "execution_count": 21,
      "outputs": [
        {
          "output_type": "execute_result",
          "data": {
            "text/plain": [
              "    ГОД  ﻿Вид движения Склад  Дата ввода Время ввода Дата документа  \\\n",
              "0  2022            101   NaN  23.02.2023    17:13:34     31.12.2022   \n",
              "1  2022            101   NaN  24.02.2023    11:24:08     31.07.2022   \n",
              "2  2022            101   NaN  24.01.2023    11:54:05     18.09.2022   \n",
              "3  2022            101   NaN  19.01.2023    14:10:24      1.12.2022   \n",
              "4  2022            101   NaN  25.11.2022    17:03:34     31.07.2022   \n",
              "\n",
              "  Дата проводки  Внутренний заказ  Заказ на поставку  Позиция  ...  \\\n",
              "0     1.12.2022               NaN         7200001002       10  ...   \n",
              "1     1.12.2022               NaN         7200001003       10  ...   \n",
              "2     1.11.2022               NaN         7200000961      100  ...   \n",
              "3     1.12.2022               NaN         7200000952       10  ...   \n",
              "4    31.07.2022               NaN         7200000875       10  ...   \n",
              "\n",
              "   Имя пользователя    БЕ Базовая ЕИ  ГодДокумМатериала Валюта Завод Имя 1  \\\n",
              "0        MBURMAKOVA  2990        NaN               2022    TRY  29A2   TSM   \n",
              "1        MBURMAKOVA  2990        NaN               2022    TRY  29A2   TSM   \n",
              "2        ZBONDAREVA  2990        NaN               2022    TRY  29A2   TSM   \n",
              "3          MVOLKOVA  2990        NaN               2022    TRY  29A2   TSM   \n",
              "4          MVOLKOVA  2990        NaN               2022    TRY  29A2   TSM   \n",
              "\n",
              "  Основное средство ЕИ цены заказа ЕИ заказа на постав.  \n",
              "0               NaN             ЕР                   ЕР  \n",
              "1               NaN             ЕР                   ЕР  \n",
              "2               NaN             ЕР                   ЕР  \n",
              "3               NaN             ЕР                   ЕР  \n",
              "4               NaN             ЕР                   ЕР  \n",
              "\n",
              "[5 rows x 35 columns]"
            ],
            "text/html": [
              "\n",
              "  <div id=\"df-2f99def3-87a1-4c10-a62d-510141c3295c\" class=\"colab-df-container\">\n",
              "    <div>\n",
              "<style scoped>\n",
              "    .dataframe tbody tr th:only-of-type {\n",
              "        vertical-align: middle;\n",
              "    }\n",
              "\n",
              "    .dataframe tbody tr th {\n",
              "        vertical-align: top;\n",
              "    }\n",
              "\n",
              "    .dataframe thead th {\n",
              "        text-align: right;\n",
              "    }\n",
              "</style>\n",
              "<table border=\"1\" class=\"dataframe\">\n",
              "  <thead>\n",
              "    <tr style=\"text-align: right;\">\n",
              "      <th></th>\n",
              "      <th>ГОД</th>\n",
              "      <th>﻿Вид движения</th>\n",
              "      <th>Склад</th>\n",
              "      <th>Дата ввода</th>\n",
              "      <th>Время ввода</th>\n",
              "      <th>Дата документа</th>\n",
              "      <th>Дата проводки</th>\n",
              "      <th>Внутренний заказ</th>\n",
              "      <th>Заказ на поставку</th>\n",
              "      <th>Позиция</th>\n",
              "      <th>...</th>\n",
              "      <th>Имя пользователя</th>\n",
              "      <th>БЕ</th>\n",
              "      <th>Базовая ЕИ</th>\n",
              "      <th>ГодДокумМатериала</th>\n",
              "      <th>Валюта</th>\n",
              "      <th>Завод</th>\n",
              "      <th>Имя 1</th>\n",
              "      <th>Основное средство</th>\n",
              "      <th>ЕИ цены заказа</th>\n",
              "      <th>ЕИ заказа на постав.</th>\n",
              "    </tr>\n",
              "  </thead>\n",
              "  <tbody>\n",
              "    <tr>\n",
              "      <th>0</th>\n",
              "      <td>2022</td>\n",
              "      <td>101</td>\n",
              "      <td>NaN</td>\n",
              "      <td>23.02.2023</td>\n",
              "      <td>17:13:34</td>\n",
              "      <td>31.12.2022</td>\n",
              "      <td>1.12.2022</td>\n",
              "      <td>NaN</td>\n",
              "      <td>7200001002</td>\n",
              "      <td>10</td>\n",
              "      <td>...</td>\n",
              "      <td>MBURMAKOVA</td>\n",
              "      <td>2990</td>\n",
              "      <td>NaN</td>\n",
              "      <td>2022</td>\n",
              "      <td>TRY</td>\n",
              "      <td>29A2</td>\n",
              "      <td>TSM</td>\n",
              "      <td>NaN</td>\n",
              "      <td>ЕР</td>\n",
              "      <td>ЕР</td>\n",
              "    </tr>\n",
              "    <tr>\n",
              "      <th>1</th>\n",
              "      <td>2022</td>\n",
              "      <td>101</td>\n",
              "      <td>NaN</td>\n",
              "      <td>24.02.2023</td>\n",
              "      <td>11:24:08</td>\n",
              "      <td>31.07.2022</td>\n",
              "      <td>1.12.2022</td>\n",
              "      <td>NaN</td>\n",
              "      <td>7200001003</td>\n",
              "      <td>10</td>\n",
              "      <td>...</td>\n",
              "      <td>MBURMAKOVA</td>\n",
              "      <td>2990</td>\n",
              "      <td>NaN</td>\n",
              "      <td>2022</td>\n",
              "      <td>TRY</td>\n",
              "      <td>29A2</td>\n",
              "      <td>TSM</td>\n",
              "      <td>NaN</td>\n",
              "      <td>ЕР</td>\n",
              "      <td>ЕР</td>\n",
              "    </tr>\n",
              "    <tr>\n",
              "      <th>2</th>\n",
              "      <td>2022</td>\n",
              "      <td>101</td>\n",
              "      <td>NaN</td>\n",
              "      <td>24.01.2023</td>\n",
              "      <td>11:54:05</td>\n",
              "      <td>18.09.2022</td>\n",
              "      <td>1.11.2022</td>\n",
              "      <td>NaN</td>\n",
              "      <td>7200000961</td>\n",
              "      <td>100</td>\n",
              "      <td>...</td>\n",
              "      <td>ZBONDAREVA</td>\n",
              "      <td>2990</td>\n",
              "      <td>NaN</td>\n",
              "      <td>2022</td>\n",
              "      <td>TRY</td>\n",
              "      <td>29A2</td>\n",
              "      <td>TSM</td>\n",
              "      <td>NaN</td>\n",
              "      <td>ЕР</td>\n",
              "      <td>ЕР</td>\n",
              "    </tr>\n",
              "    <tr>\n",
              "      <th>3</th>\n",
              "      <td>2022</td>\n",
              "      <td>101</td>\n",
              "      <td>NaN</td>\n",
              "      <td>19.01.2023</td>\n",
              "      <td>14:10:24</td>\n",
              "      <td>1.12.2022</td>\n",
              "      <td>1.12.2022</td>\n",
              "      <td>NaN</td>\n",
              "      <td>7200000952</td>\n",
              "      <td>10</td>\n",
              "      <td>...</td>\n",
              "      <td>MVOLKOVA</td>\n",
              "      <td>2990</td>\n",
              "      <td>NaN</td>\n",
              "      <td>2022</td>\n",
              "      <td>TRY</td>\n",
              "      <td>29A2</td>\n",
              "      <td>TSM</td>\n",
              "      <td>NaN</td>\n",
              "      <td>ЕР</td>\n",
              "      <td>ЕР</td>\n",
              "    </tr>\n",
              "    <tr>\n",
              "      <th>4</th>\n",
              "      <td>2022</td>\n",
              "      <td>101</td>\n",
              "      <td>NaN</td>\n",
              "      <td>25.11.2022</td>\n",
              "      <td>17:03:34</td>\n",
              "      <td>31.07.2022</td>\n",
              "      <td>31.07.2022</td>\n",
              "      <td>NaN</td>\n",
              "      <td>7200000875</td>\n",
              "      <td>10</td>\n",
              "      <td>...</td>\n",
              "      <td>MVOLKOVA</td>\n",
              "      <td>2990</td>\n",
              "      <td>NaN</td>\n",
              "      <td>2022</td>\n",
              "      <td>TRY</td>\n",
              "      <td>29A2</td>\n",
              "      <td>TSM</td>\n",
              "      <td>NaN</td>\n",
              "      <td>ЕР</td>\n",
              "      <td>ЕР</td>\n",
              "    </tr>\n",
              "  </tbody>\n",
              "</table>\n",
              "<p>5 rows × 35 columns</p>\n",
              "</div>\n",
              "    <div class=\"colab-df-buttons\">\n",
              "\n",
              "  <div class=\"colab-df-container\">\n",
              "    <button class=\"colab-df-convert\" onclick=\"convertToInteractive('df-2f99def3-87a1-4c10-a62d-510141c3295c')\"\n",
              "            title=\"Convert this dataframe to an interactive table.\"\n",
              "            style=\"display:none;\">\n",
              "\n",
              "  <svg xmlns=\"http://www.w3.org/2000/svg\" height=\"24px\" viewBox=\"0 -960 960 960\">\n",
              "    <path d=\"M120-120v-720h720v720H120Zm60-500h600v-160H180v160Zm220 220h160v-160H400v160Zm0 220h160v-160H400v160ZM180-400h160v-160H180v160Zm440 0h160v-160H620v160ZM180-180h160v-160H180v160Zm440 0h160v-160H620v160Z\"/>\n",
              "  </svg>\n",
              "    </button>\n",
              "\n",
              "  <style>\n",
              "    .colab-df-container {\n",
              "      display:flex;\n",
              "      gap: 12px;\n",
              "    }\n",
              "\n",
              "    .colab-df-convert {\n",
              "      background-color: #E8F0FE;\n",
              "      border: none;\n",
              "      border-radius: 50%;\n",
              "      cursor: pointer;\n",
              "      display: none;\n",
              "      fill: #1967D2;\n",
              "      height: 32px;\n",
              "      padding: 0 0 0 0;\n",
              "      width: 32px;\n",
              "    }\n",
              "\n",
              "    .colab-df-convert:hover {\n",
              "      background-color: #E2EBFA;\n",
              "      box-shadow: 0px 1px 2px rgba(60, 64, 67, 0.3), 0px 1px 3px 1px rgba(60, 64, 67, 0.15);\n",
              "      fill: #174EA6;\n",
              "    }\n",
              "\n",
              "    .colab-df-buttons div {\n",
              "      margin-bottom: 4px;\n",
              "    }\n",
              "\n",
              "    [theme=dark] .colab-df-convert {\n",
              "      background-color: #3B4455;\n",
              "      fill: #D2E3FC;\n",
              "    }\n",
              "\n",
              "    [theme=dark] .colab-df-convert:hover {\n",
              "      background-color: #434B5C;\n",
              "      box-shadow: 0px 1px 3px 1px rgba(0, 0, 0, 0.15);\n",
              "      filter: drop-shadow(0px 1px 2px rgba(0, 0, 0, 0.3));\n",
              "      fill: #FFFFFF;\n",
              "    }\n",
              "  </style>\n",
              "\n",
              "    <script>\n",
              "      const buttonEl =\n",
              "        document.querySelector('#df-2f99def3-87a1-4c10-a62d-510141c3295c button.colab-df-convert');\n",
              "      buttonEl.style.display =\n",
              "        google.colab.kernel.accessAllowed ? 'block' : 'none';\n",
              "\n",
              "      async function convertToInteractive(key) {\n",
              "        const element = document.querySelector('#df-2f99def3-87a1-4c10-a62d-510141c3295c');\n",
              "        const dataTable =\n",
              "          await google.colab.kernel.invokeFunction('convertToInteractive',\n",
              "                                                    [key], {});\n",
              "        if (!dataTable) return;\n",
              "\n",
              "        const docLinkHtml = 'Like what you see? Visit the ' +\n",
              "          '<a target=\"_blank\" href=https://colab.research.google.com/notebooks/data_table.ipynb>data table notebook</a>'\n",
              "          + ' to learn more about interactive tables.';\n",
              "        element.innerHTML = '';\n",
              "        dataTable['output_type'] = 'display_data';\n",
              "        await google.colab.output.renderOutput(dataTable, element);\n",
              "        const docLink = document.createElement('div');\n",
              "        docLink.innerHTML = docLinkHtml;\n",
              "        element.appendChild(docLink);\n",
              "      }\n",
              "    </script>\n",
              "  </div>\n",
              "\n",
              "\n",
              "    <div id=\"df-cfb64ffd-1882-450a-b232-f5613d76827a\">\n",
              "      <button class=\"colab-df-quickchart\" onclick=\"quickchart('df-cfb64ffd-1882-450a-b232-f5613d76827a')\"\n",
              "                title=\"Suggest charts\"\n",
              "                style=\"display:none;\">\n",
              "\n",
              "<svg xmlns=\"http://www.w3.org/2000/svg\" height=\"24px\"viewBox=\"0 0 24 24\"\n",
              "     width=\"24px\">\n",
              "    <g>\n",
              "        <path d=\"M19 3H5c-1.1 0-2 .9-2 2v14c0 1.1.9 2 2 2h14c1.1 0 2-.9 2-2V5c0-1.1-.9-2-2-2zM9 17H7v-7h2v7zm4 0h-2V7h2v10zm4 0h-2v-4h2v4z\"/>\n",
              "    </g>\n",
              "</svg>\n",
              "      </button>\n",
              "\n",
              "<style>\n",
              "  .colab-df-quickchart {\n",
              "      --bg-color: #E8F0FE;\n",
              "      --fill-color: #1967D2;\n",
              "      --hover-bg-color: #E2EBFA;\n",
              "      --hover-fill-color: #174EA6;\n",
              "      --disabled-fill-color: #AAA;\n",
              "      --disabled-bg-color: #DDD;\n",
              "  }\n",
              "\n",
              "  [theme=dark] .colab-df-quickchart {\n",
              "      --bg-color: #3B4455;\n",
              "      --fill-color: #D2E3FC;\n",
              "      --hover-bg-color: #434B5C;\n",
              "      --hover-fill-color: #FFFFFF;\n",
              "      --disabled-bg-color: #3B4455;\n",
              "      --disabled-fill-color: #666;\n",
              "  }\n",
              "\n",
              "  .colab-df-quickchart {\n",
              "    background-color: var(--bg-color);\n",
              "    border: none;\n",
              "    border-radius: 50%;\n",
              "    cursor: pointer;\n",
              "    display: none;\n",
              "    fill: var(--fill-color);\n",
              "    height: 32px;\n",
              "    padding: 0;\n",
              "    width: 32px;\n",
              "  }\n",
              "\n",
              "  .colab-df-quickchart:hover {\n",
              "    background-color: var(--hover-bg-color);\n",
              "    box-shadow: 0 1px 2px rgba(60, 64, 67, 0.3), 0 1px 3px 1px rgba(60, 64, 67, 0.15);\n",
              "    fill: var(--button-hover-fill-color);\n",
              "  }\n",
              "\n",
              "  .colab-df-quickchart-complete:disabled,\n",
              "  .colab-df-quickchart-complete:disabled:hover {\n",
              "    background-color: var(--disabled-bg-color);\n",
              "    fill: var(--disabled-fill-color);\n",
              "    box-shadow: none;\n",
              "  }\n",
              "\n",
              "  .colab-df-spinner {\n",
              "    border: 2px solid var(--fill-color);\n",
              "    border-color: transparent;\n",
              "    border-bottom-color: var(--fill-color);\n",
              "    animation:\n",
              "      spin 1s steps(1) infinite;\n",
              "  }\n",
              "\n",
              "  @keyframes spin {\n",
              "    0% {\n",
              "      border-color: transparent;\n",
              "      border-bottom-color: var(--fill-color);\n",
              "      border-left-color: var(--fill-color);\n",
              "    }\n",
              "    20% {\n",
              "      border-color: transparent;\n",
              "      border-left-color: var(--fill-color);\n",
              "      border-top-color: var(--fill-color);\n",
              "    }\n",
              "    30% {\n",
              "      border-color: transparent;\n",
              "      border-left-color: var(--fill-color);\n",
              "      border-top-color: var(--fill-color);\n",
              "      border-right-color: var(--fill-color);\n",
              "    }\n",
              "    40% {\n",
              "      border-color: transparent;\n",
              "      border-right-color: var(--fill-color);\n",
              "      border-top-color: var(--fill-color);\n",
              "    }\n",
              "    60% {\n",
              "      border-color: transparent;\n",
              "      border-right-color: var(--fill-color);\n",
              "    }\n",
              "    80% {\n",
              "      border-color: transparent;\n",
              "      border-right-color: var(--fill-color);\n",
              "      border-bottom-color: var(--fill-color);\n",
              "    }\n",
              "    90% {\n",
              "      border-color: transparent;\n",
              "      border-bottom-color: var(--fill-color);\n",
              "    }\n",
              "  }\n",
              "</style>\n",
              "\n",
              "      <script>\n",
              "        async function quickchart(key) {\n",
              "          const quickchartButtonEl =\n",
              "            document.querySelector('#' + key + ' button');\n",
              "          quickchartButtonEl.disabled = true;  // To prevent multiple clicks.\n",
              "          quickchartButtonEl.classList.add('colab-df-spinner');\n",
              "          try {\n",
              "            const charts = await google.colab.kernel.invokeFunction(\n",
              "                'suggestCharts', [key], {});\n",
              "          } catch (error) {\n",
              "            console.error('Error during call to suggestCharts:', error);\n",
              "          }\n",
              "          quickchartButtonEl.classList.remove('colab-df-spinner');\n",
              "          quickchartButtonEl.classList.add('colab-df-quickchart-complete');\n",
              "        }\n",
              "        (() => {\n",
              "          let quickchartButtonEl =\n",
              "            document.querySelector('#df-cfb64ffd-1882-450a-b232-f5613d76827a button');\n",
              "          quickchartButtonEl.style.display =\n",
              "            google.colab.kernel.accessAllowed ? 'block' : 'none';\n",
              "        })();\n",
              "      </script>\n",
              "    </div>\n",
              "\n",
              "    </div>\n",
              "  </div>\n"
            ],
            "application/vnd.google.colaboratory.intrinsic+json": {
              "type": "dataframe",
              "variable_name": "birlesik_df"
            }
          },
          "metadata": {},
          "execution_count": 21
        }
      ]
    },
    {
      "cell_type": "code",
      "source": [
        "len(birlesik_df)"
      ],
      "metadata": {
        "id": "2eMGtJGhm2yO",
        "colab": {
          "base_uri": "https://localhost:8080/"
        },
        "outputId": "6b59a306-44e0-4acf-cfa3-ba98f18e0ae4"
      },
      "execution_count": 22,
      "outputs": [
        {
          "output_type": "execute_result",
          "data": {
            "text/plain": [
              "267036"
            ]
          },
          "metadata": {},
          "execution_count": 22
        }
      ]
    },
    {
      "cell_type": "code",
      "source": [
        "def duzenle_sayi_sutunu(df, sutun_adi):\n",
        "    \"\"\"\n",
        "    Sayısal değerleri metin olarak tutan ve binlik/ondalık ayracı içeren sütunu dönüştürür.\n",
        "    - Nokta (.) binlik ayracı olarak kaldırılır\n",
        "    - Virgül (,) ondalık ayracı olarak noktaya çevrilir\n",
        "    - Float olarak dönüştürülür\n",
        "    - Eğer tam sayı ise integer olarak, değilse float olarak kalır\n",
        "    - Sonuç string olarak döndürülür (görsel temizlik için)\n",
        "\n",
        "    Parametreler:\n",
        "    df : pd.DataFrame\n",
        "    sutun_adi : str\n",
        "\n",
        "    Dönüş:\n",
        "    df (işlenmiş hali)\n",
        "    \"\"\"\n",
        "    df[sutun_adi] = (\n",
        "        df[sutun_adi]\n",
        "        .astype(str)\n",
        "        .str.replace(\" \", \"\", regex=False)\n",
        "        .str.replace(\".\", \"\", regex=False)\n",
        "        .str.replace(\",\", \".\", regex=False)\n",
        "        .astype(float)\n",
        "        .apply(lambda x: str(int(x)) if x.is_integer() else str(x))\n",
        "    )\n",
        "    return df\n"
      ],
      "metadata": {
        "id": "A7lkw7-CDSkK"
      },
      "execution_count": 23,
      "outputs": []
    },
    {
      "cell_type": "code",
      "source": [
        "birlesik_df = duzenle_sayi_sutunu(birlesik_df, \"Сумма во ВВ\")"
      ],
      "metadata": {
        "id": "dxoe-87MDXKJ"
      },
      "execution_count": 24,
      "outputs": []
    },
    {
      "cell_type": "code",
      "source": [
        "birlesik_df.to_excel(\"zmb51_2022_2025.xlsx\", index=False)"
      ],
      "metadata": {
        "id": "DbZ-72gum32W"
      },
      "execution_count": 29,
      "outputs": []
    },
    {
      "cell_type": "code",
      "source": [
        "files.download(\"zmb51_2022_2025.xlsx\")"
      ],
      "metadata": {
        "id": "_YS14OPZm5dG",
        "outputId": "3d13dca4-eca5-4a05-c7c8-2d6d449fb2ea",
        "colab": {
          "base_uri": "https://localhost:8080/",
          "height": 17
        }
      },
      "execution_count": 30,
      "outputs": [
        {
          "output_type": "display_data",
          "data": {
            "text/plain": [
              "<IPython.core.display.Javascript object>"
            ],
            "application/javascript": [
              "\n",
              "    async function download(id, filename, size) {\n",
              "      if (!google.colab.kernel.accessAllowed) {\n",
              "        return;\n",
              "      }\n",
              "      const div = document.createElement('div');\n",
              "      const label = document.createElement('label');\n",
              "      label.textContent = `Downloading \"${filename}\": `;\n",
              "      div.appendChild(label);\n",
              "      const progress = document.createElement('progress');\n",
              "      progress.max = size;\n",
              "      div.appendChild(progress);\n",
              "      document.body.appendChild(div);\n",
              "\n",
              "      const buffers = [];\n",
              "      let downloaded = 0;\n",
              "\n",
              "      const channel = await google.colab.kernel.comms.open(id);\n",
              "      // Send a message to notify the kernel that we're ready.\n",
              "      channel.send({})\n",
              "\n",
              "      for await (const message of channel.messages) {\n",
              "        // Send a message to notify the kernel that we're ready.\n",
              "        channel.send({})\n",
              "        if (message.buffers) {\n",
              "          for (const buffer of message.buffers) {\n",
              "            buffers.push(buffer);\n",
              "            downloaded += buffer.byteLength;\n",
              "            progress.value = downloaded;\n",
              "          }\n",
              "        }\n",
              "      }\n",
              "      const blob = new Blob(buffers, {type: 'application/binary'});\n",
              "      const a = document.createElement('a');\n",
              "      a.href = window.URL.createObjectURL(blob);\n",
              "      a.download = filename;\n",
              "      div.appendChild(a);\n",
              "      a.click();\n",
              "      div.remove();\n",
              "    }\n",
              "  "
            ]
          },
          "metadata": {}
        },
        {
          "output_type": "display_data",
          "data": {
            "text/plain": [
              "<IPython.core.display.Javascript object>"
            ],
            "application/javascript": [
              "download(\"download_a4367719-5787-4284-be5f-a335e4da5a88\", \"zmb51_2022_2025.xlsx\", 37265702)"
            ]
          },
          "metadata": {}
        }
      ]
    },
    {
      "cell_type": "markdown",
      "source": [
        "\n",
        "Eğer csv kaydetmek istersen aşağıdaki kodları yorumdan çıkart\n",
        "Если вы хотите сохранить как CSV, закомментируйте коды ниже."
      ],
      "metadata": {
        "id": "CzNIzkXIm6r2"
      }
    },
    {
      "cell_type": "code",
      "source": [
        "#birlesik_df.to_csv(\"me5a_2022_2025.csv\", index=False)"
      ],
      "metadata": {
        "id": "4tR20gdKm-jG"
      },
      "execution_count": 27,
      "outputs": []
    },
    {
      "cell_type": "code",
      "source": [
        "#files.download(\"me5a_2022_2025.csv\")"
      ],
      "metadata": {
        "id": "yeXoXtc_nBwn"
      },
      "execution_count": 28,
      "outputs": []
    }
  ],
  "metadata": {
    "colab": {
      "name": "Welcome To Colab",
      "provenance": [],
      "include_colab_link": true
    },
    "kernelspec": {
      "display_name": "Python 3",
      "name": "python3"
    }
  },
  "nbformat": 4,
  "nbformat_minor": 0
}