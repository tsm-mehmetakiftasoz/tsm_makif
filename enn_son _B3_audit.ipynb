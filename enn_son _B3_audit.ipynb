{
  "cells": [
    {
      "cell_type": "markdown",
      "metadata": {
        "id": "view-in-github",
        "colab_type": "text"
      },
      "source": [
        "<a href=\"https://colab.research.google.com/github/tsm-mehmetakiftasoz/tsm_makif/blob/main/enn_son%20_B3_audit.ipynb\" target=\"_parent\"><img src=\"https://colab.research.google.com/assets/colab-badge.svg\" alt=\"Open In Colab\"/></a>"
      ]
    },
    {
      "cell_type": "code",
      "source": [
        "!pip install pandas\n",
        "!pip install xlsxwriter"
      ],
      "metadata": {
        "id": "0kdFsOKg0T88",
        "outputId": "470e4bec-e4d0-4882-98c8-d39d600adcd3",
        "colab": {
          "base_uri": "https://localhost:8080/"
        }
      },
      "execution_count": 169,
      "outputs": [
        {
          "output_type": "stream",
          "name": "stdout",
          "text": [
            "Requirement already satisfied: pandas in /usr/local/lib/python3.11/dist-packages (2.2.2)\n",
            "Requirement already satisfied: numpy>=1.23.2 in /usr/local/lib/python3.11/dist-packages (from pandas) (2.0.2)\n",
            "Requirement already satisfied: python-dateutil>=2.8.2 in /usr/local/lib/python3.11/dist-packages (from pandas) (2.9.0.post0)\n",
            "Requirement already satisfied: pytz>=2020.1 in /usr/local/lib/python3.11/dist-packages (from pandas) (2025.2)\n",
            "Requirement already satisfied: tzdata>=2022.7 in /usr/local/lib/python3.11/dist-packages (from pandas) (2025.2)\n",
            "Requirement already satisfied: six>=1.5 in /usr/local/lib/python3.11/dist-packages (from python-dateutil>=2.8.2->pandas) (1.17.0)\n",
            "Requirement already satisfied: xlsxwriter in /usr/local/lib/python3.11/dist-packages (3.2.3)\n"
          ]
        }
      ]
    },
    {
      "cell_type": "code",
      "source": [
        "import pandas as pd\n",
        "import numpy as np\n",
        "from google.colab import files\n",
        "from datetime import datetime"
      ],
      "metadata": {
        "id": "PZo8r-w82ntT"
      },
      "execution_count": 170,
      "outputs": []
    },
    {
      "cell_type": "code",
      "source": [
        "def temizle_ve_cevir_2_str(x):\n",
        "    try:\n",
        "        return str(int(float(x)))\n",
        "    except:\n",
        "        return str(x)\n"
      ],
      "metadata": {
        "id": "jlPYC3jI2qoj"
      },
      "execution_count": 171,
      "outputs": []
    },
    {
      "cell_type": "code",
      "source": [
        "def temizle_ve_cevir_2date(x):\n",
        "    try:\n",
        "        return pd.to_datetime(x.strip(), format=\"%d.%m.%Y\", errors=\"coerce\").date()\n",
        "    except (AttributeError, ValueError):\n",
        "        return pd.NaT\n"
      ],
      "metadata": {
        "id": "y69BvfLmDlu9"
      },
      "execution_count": 172,
      "outputs": []
    },
    {
      "cell_type": "code",
      "source": [
        "def str_to_float(s):\n",
        "    if pd.isna(s):\n",
        "        return None\n",
        "    return float(s.replace(\".\", \"\").replace(\",\", \".\"))"
      ],
      "metadata": {
        "id": "Rg4Gz5N82wjr"
      },
      "execution_count": 173,
      "outputs": []
    },
    {
      "cell_type": "code",
      "source": [
        "df_zmm059_2022 = pd.read_csv('/content/ZMM059_2022.csv', sep=None, engine='python')\n",
        "df_zmm059_2023 = pd.read_csv('/content/ZMM059_2023.csv', sep=None, engine='python')\n",
        "df_zmm059_2024_1 = pd.read_csv('/content/ZMM059_2024-1.csv', sep=None, engine='python')\n",
        "df_zmm059_2024_2 = pd.read_csv('/content/ZMM059_2024-2.csv', sep=None, engine='python')\n",
        "df_zmm059_2024_3 = pd.read_csv('/content/ZMM059_2024-3.csv', sep=None, engine='python')\n",
        "df_zmm059_2024_4 = pd.read_csv('/content/ZMM059_2024-4.csv', sep=None, engine='python')\n",
        "df_zmm059_2025 = pd.read_csv('/content/ZMM059_2025.csv', sep=None, engine='python')"
      ],
      "metadata": {
        "id": "7o1mRUtqp9dk"
      },
      "execution_count": 174,
      "outputs": []
    },
    {
      "cell_type": "code",
      "source": [
        "# DataFrame'leri bir listeye topla\n",
        "dfs = [df_zmm059_2022, df_zmm059_2023, df_zmm059_2024_1, df_zmm059_2024_2, df_zmm059_2024_3, df_zmm059_2024_4, df_zmm059_2025]\n",
        "\n",
        "# Hepsini birleştir\n",
        "df_zmm059_2022_2025 = pd.concat(dfs, ignore_index=True)\n",
        "df_zmm059_2022_2025_ = pd.concat(dfs, ignore_index=True)\n",
        "# Kontrol için ilk satırlara bak\n",
        "#print(df_zmm059_2022_2025.tail(5))"
      ],
      "metadata": {
        "id": "xYkw9cynrPA2"
      },
      "execution_count": 175,
      "outputs": []
    },
    {
      "cell_type": "code",
      "source": [
        "df_calisilan = df_zmm059_2022_2025.copy()"
      ],
      "metadata": {
        "id": "y7WVbSjxqDN7"
      },
      "execution_count": 176,
      "outputs": []
    },
    {
      "cell_type": "code",
      "source": [
        "df_calisilan[\"B3-B3POZ\"] = (\n",
        "    df_calisilan[\"Заявка\"].astype(str) + \"_\" + df_calisilan[\"Позиция заявки\"].astype(str)\n",
        ")"
      ],
      "metadata": {
        "id": "ry7HBOv5qEAD"
      },
      "execution_count": 177,
      "outputs": []
    },
    {
      "cell_type": "code",
      "source": [
        "df_calisilan = df_calisilan.drop(silinmesi_gerekenler.index)"
      ],
      "metadata": {
        "id": "1CDx_cJgqX31"
      },
      "execution_count": 178,
      "outputs": []
    },
    {
      "cell_type": "code",
      "source": [
        "\n",
        "df_calisilan.rename(columns={'﻿Документ закупки': 'Документ_закупки'}, inplace=True)"
      ],
      "metadata": {
        "id": "UO4KXjVcqGj6"
      },
      "execution_count": 179,
      "outputs": []
    },
    {
      "cell_type": "code",
      "source": [
        "silinmesi_gerekenler = df_calisilan[\n",
        "    (df_calisilan[\"B3-B3POZ\"].isin(mukerrer_kodlar)) &\n",
        "    (df_calisilan[\"Документ_закупки\"].isna())\n",
        "\n",
        "]"
      ],
      "metadata": {
        "id": "WWJ5SwP-qWVn"
      },
      "execution_count": 180,
      "outputs": []
    },
    {
      "cell_type": "code",
      "source": [
        "\n",
        "adetler = df_calisilan[\"B3-B3POZ\"].value_counts()"
      ],
      "metadata": {
        "id": "QyMMNzqSqTSS"
      },
      "execution_count": 181,
      "outputs": []
    },
    {
      "cell_type": "code",
      "source": [
        "mukerrer_kodlar = adetler[adetler > 1].index"
      ],
      "metadata": {
        "id": "7JpI-KJFqUiR"
      },
      "execution_count": 182,
      "outputs": []
    },
    {
      "cell_type": "code",
      "source": [
        "#ME2N Raporlarını Yüklemek\n",
        "df_me2n_2022 = pd.read_csv('/content/ME2N_2022.csv', sep=None, engine='python')\n",
        "df_me2n_2023 = pd.read_csv('/content/ME2N_2023.csv', sep=None, engine='python')\n",
        "df_me2n_2024 = pd.read_csv('/content/ME2N_2024.csv', sep=None, engine='python')\n",
        "df_me2n_2025 = pd.read_csv('/content/ME2N_2025.csv', sep=None, engine='python')\n"
      ],
      "metadata": {
        "id": "bBeoa-O325qr"
      },
      "execution_count": 183,
      "outputs": []
    },
    {
      "cell_type": "code",
      "source": [
        "#ilk sutuna yıl yazdırma me2n\n",
        "df_me2n_2022[\"Год\"] = \"2022\"\n",
        "cols = [\"Год\"] + [col for col in df_me2n_2022.columns if col != \"Год\"]\n",
        "df_me2n_2022 = df_me2n_2022[cols]\n",
        "#\n",
        "df_me2n_2023[\"Год\"] = \"2023\"\n",
        "cols = [\"Год\"] + [col for col in df_me2n_2023.columns if col != \"Год\"]\n",
        "df_me2n_2023 = df_me2n_2023[cols]\n",
        "#\n",
        "df_me2n_2024[\"Год\"] = \"2024\"\n",
        "cols = [\"Год\"] + [col for col in df_me2n_2024.columns if col != \"Год\"]\n",
        "df_me2n_2024 = df_me2n_2024[cols]\n",
        "#\n",
        "df_me2n_2025[\"Год\"] = \"2025\"\n",
        "cols = [\"Год\"] + [col for col in df_me2n_2025.columns if col != \"Год\"]\n",
        "df_me2n_2025 = df_me2n_2025[cols]\n",
        "#"
      ],
      "metadata": {
        "id": "DpQZPgJ7AV1A"
      },
      "execution_count": 184,
      "outputs": []
    },
    {
      "cell_type": "code",
      "source": [
        "\n",
        "#ME2N DataFrame'leri bir listeye topla\n",
        "dfs2 = [df_me2n_2022, df_me2n_2023, df_me2n_2024, df_me2n_2025]\n",
        "\n",
        "# Hepsini birleştir\n",
        "df_me2n_2022_2025 = pd.concat(dfs2, ignore_index=True)\n",
        "#df_me2n_2022_2025_ = pd.concat(dfs2, ignore_index=True)\n",
        "# Kontrol için ilk satırlara bak\n",
        "#print(df_me2n_2022_2025.tail(5))"
      ],
      "metadata": {
        "id": "vv9t2bkNAX9g"
      },
      "execution_count": 185,
      "outputs": []
    },
    {
      "cell_type": "code",
      "source": [
        "#me5a raporunu yüklemek\n",
        "df_me5a_2022 = pd.read_csv('/content/ME5A_2022.csv', sep=None, engine='python')\n",
        "df_me5a_2023 = pd.read_csv('/content/ME5A_2023.csv', sep=None, engine='python')\n",
        "df_me5a_2024 = pd.read_csv('/content/ME5A_2024.csv', sep=None, engine='python')\n",
        "df_me5a_2025 = pd.read_csv('/content/ME5A_2025.csv', sep=None, engine='python')\n",
        "\n",
        "\n",
        "# sep=None will automatically detect the delimiter\n",
        "# engine='python' is slower but more robust for complex cases"
      ],
      "metadata": {
        "id": "eVHpnH9rAaTQ"
      },
      "execution_count": 186,
      "outputs": []
    },
    {
      "cell_type": "code",
      "source": [
        "#ilk sutuna yıl yazdırma me2n\n",
        "df_me5a_2022[\"Год\"] = \"2022\"\n",
        "cols = [\"Год\"] + [col for col in df_me5a_2022.columns if col != \"Год\"]\n",
        "df_me5a_2022 = df_me5a_2022[cols]\n",
        "#\n",
        "df_me5a_2023[\"Год\"] = \"2023\"\n",
        "cols = [\"Год\"] + [col for col in df_me5a_2023.columns if col != \"Год\"]\n",
        "df_me5a_2023 = df_me5a_2023[cols]\n",
        "#\n",
        "df_me5a_2024[\"Год\"] = \"2024\"\n",
        "cols = [\"Год\"] + [col for col in df_me5a_2024.columns if col != \"Год\"]\n",
        "df_me5a_2024 = df_me5a_2024[cols]\n",
        "#\n",
        "df_me5a_2025[\"Год\"] = \"2025\"\n",
        "cols = [\"Год\"] + [col for col in df_me5a_2025.columns if col != \"Год\"]\n",
        "df_me5a_2025 = df_me5a_2025[cols]\n",
        "#"
      ],
      "metadata": {
        "id": "OcpBMhWqHeO4"
      },
      "execution_count": 187,
      "outputs": []
    },
    {
      "cell_type": "code",
      "source": [
        "#ME2N DataFrame'leri bir listeye topla\n",
        "dfs3 = [df_me5a_2022, df_me5a_2023, df_me5a_2024, df_me5a_2025]\n",
        "\n",
        "# Hepsini birleştir\n",
        "df_me5a_2022_2025 = pd.concat(dfs3, ignore_index=True)\n",
        "#df_me2n_2022_2025_ = pd.concat(dfs2, ignore_index=True)\n",
        "# Kontrol için ilk satırlara bak\n",
        "#print(df_me2n_2022_2025.tail(5))"
      ],
      "metadata": {
        "id": "EALts8grAhdJ"
      },
      "execution_count": 188,
      "outputs": []
    },
    {
      "cell_type": "code",
      "source": [
        "df_me2n_2022_2025.rename(columns={'﻿Документ закупки': 'Документ_закупки'}, inplace=True)\n",
        "df_me2n_2022_2025.rename(columns={'Позиция': 'ЗП_Позиция'}, inplace=True)\n",
        "df_me2n_2022_2025.rename(columns={'Материал': 'Материал_ЗП'}, inplace=True)"
      ],
      "metadata": {
        "id": "SV5ygt83BP5L"
      },
      "execution_count": 189,
      "outputs": []
    },
    {
      "cell_type": "code",
      "source": [
        "sutun_listesi_2str_me2n = [\"Документ_закупки\",\"ЗП_Позиция\",\"Закуп. организация\",\"Заявка\",\"Материал_ЗП\"]"
      ],
      "metadata": {
        "id": "xpn8lkvzAzpa"
      },
      "execution_count": 190,
      "outputs": []
    },
    {
      "cell_type": "code",
      "source": [
        "for s in sutun_listesi_2str_me2n:\n",
        "    # Apply the robust cleaning and conversion function\n",
        "    df_me2n_2022_2025[s] = df_me2n_2022_2025[s].apply(temizle_ve_cevir_2_str)"
      ],
      "metadata": {
        "id": "1BQVRmlgA_qz"
      },
      "execution_count": 191,
      "outputs": []
    },
    {
      "cell_type": "code",
      "source": [
        "sutun_listesi_str2float_me2n =[\"Объем заказа\",\"еще поставить (количество)\",\n",
        "                               \"Количество в СЕИ\",\"Цена нетто\",\n",
        "                               \"СтоимЗаказа нетто\",\"Еще для поставки (стоимость)\"\n",
        "]"
      ],
      "metadata": {
        "id": "RgBRYGu7CGp8"
      },
      "execution_count": 192,
      "outputs": []
    },
    {
      "cell_type": "code",
      "source": [
        "for s1 in sutun_listesi_str2float_me2n:\n",
        "    # Apply the robust cleaning and conversion function\n",
        "    df_me2n_2022_2025[s1] = df_me2n_2022_2025[s1].apply(str_to_float)"
      ],
      "metadata": {
        "id": "MAQKJh57Cxcu"
      },
      "execution_count": 193,
      "outputs": []
    },
    {
      "cell_type": "code",
      "source": [
        "sutun_listesi_str2date_me2n =[\"Дата документа\",\"Дата поставки\"]\n"
      ],
      "metadata": {
        "id": "4luU55kaC9Km"
      },
      "execution_count": 194,
      "outputs": []
    },
    {
      "cell_type": "code",
      "source": [
        "for s2 in sutun_listesi_str2date_me2n:\n",
        "    # Apply the robust cleaning and conversion function\n",
        "    df_me2n_2022_2025[s2] = df_me2n_2022_2025[s2].apply(temizle_ve_cevir_2date)"
      ],
      "metadata": {
        "id": "0T9oKl41D4pT"
      },
      "execution_count": 195,
      "outputs": []
    },
    {
      "cell_type": "code",
      "source": [
        "df_me5a_2022_2025.rename(columns={'﻿Заявка': 'Заявка'}, inplace=True)\n",
        "df_me5a_2022_2025.rename(columns={'Заказ на поставку': 'Документ_закупки'}, inplace=True)\n",
        "df_me5a_2022_2025.rename(columns={'Позиция ЗкзНаПостав': 'ЗП_Позиция'}, inplace=True)\n",
        "df_me5a_2022_2025.rename(columns={'Материал': 'Материал_ВЗ'}, inplace=True)"
      ],
      "metadata": {
        "id": "P7cfV_XaEI3i"
      },
      "execution_count": 196,
      "outputs": []
    },
    {
      "cell_type": "code",
      "source": [
        "sutun_listesi_2str_me5a = [\"Документ_закупки\",\"ЗП_Позиция\",\"Заявка\",\"Позиция заявки\",\"Материал_ВЗ\",\"Закуп. организация\"]"
      ],
      "metadata": {
        "id": "wY-sUjN5EyYb"
      },
      "execution_count": 197,
      "outputs": []
    },
    {
      "cell_type": "code",
      "source": [
        "for s3 in sutun_listesi_2str_me5a:\n",
        "    # Apply the robust cleaning and conversion function\n",
        "    df_me5a_2022_2025[s3] = df_me5a_2022_2025[s3].apply(temizle_ve_cevir_2_str)"
      ],
      "metadata": {
        "id": "MBdXknlCFjAN"
      },
      "execution_count": 198,
      "outputs": []
    },
    {
      "cell_type": "code",
      "source": [
        "sutun_listesi_str2float_me5a =[\"ЗатребованКолич\",\"Заказанное к-во\"\n",
        "]"
      ],
      "metadata": {
        "id": "sSK2bpJWFpwk"
      },
      "execution_count": 199,
      "outputs": []
    },
    {
      "cell_type": "code",
      "source": [
        "for s4 in sutun_listesi_str2float_me5a:\n",
        "    # Apply the robust cleaning and conversion function\n",
        "    df_me5a_2022_2025[s4] = df_me5a_2022_2025[s4].apply(str_to_float)"
      ],
      "metadata": {
        "id": "MwHrl5VJGDT-"
      },
      "execution_count": 200,
      "outputs": []
    },
    {
      "cell_type": "code",
      "source": [
        "sutun_listesi_str2date_me5a =[\"Дата заявки\",\"Дата изменения\",\"Дата заказа\",\"Дата поставки\",\"Дата деблокирования\"]"
      ],
      "metadata": {
        "id": "XcEeKuNTGTPv"
      },
      "execution_count": 201,
      "outputs": []
    },
    {
      "cell_type": "code",
      "source": [
        "for s5 in sutun_listesi_str2date_me5a:\n",
        "    # Apply the robust cleaning and conversion function\n",
        "    df_me5a_2022_2025[s5] = df_me5a_2022_2025[s5].apply(temizle_ve_cevir_2date)"
      ],
      "metadata": {
        "id": "QhvnkbY0Gv3l"
      },
      "execution_count": 202,
      "outputs": []
    },
    {
      "cell_type": "code",
      "source": [
        "df_me2n_2022_2025['Заявка'] = df_me2n_2022_2025['Заявка'].replace(['nan', 'NaN', 'None'], np.nan)\n"
      ],
      "metadata": {
        "id": "H_SMmqVjtTnA"
      },
      "execution_count": 203,
      "outputs": []
    },
    {
      "cell_type": "code",
      "source": [
        "df_calisilan[\"Документ_закупки\"] = df_calisilan[\"Документ_закупки\"].apply(temizle_ve_cevir_2_str)"
      ],
      "metadata": {
        "id": "ctUwhkwHwdFb"
      },
      "execution_count": 205,
      "outputs": []
    },
    {
      "cell_type": "code",
      "source": [
        "# 1. dict oluştur: Документ_закупки -> Создал eşleştirmesi\n",
        "doc_to_creator = dict(zip(df_calisilan[\"Документ_закупки\"], df_calisilan[\"Создал\"]))\n",
        "\n",
        "# 2. df_me2n_2022_2025'e yeni bir sütun ekle: Создал\n",
        "df_me2n_2022_2025[\"Создал\"] = df_me2n_2022_2025[\"Документ_закупки\"].map(doc_to_creator)\n"
      ],
      "metadata": {
        "id": "R0gfksDewjGa"
      },
      "execution_count": 206,
      "outputs": []
    },
    {
      "cell_type": "code",
      "source": [
        "#ZP-ZPPOZ BİRLEŞTİRME --ME2N\n",
        "df_me2n_2022_2025[\"ЗП-ЗП_ПОЗ_ME2N\"] = (\n",
        "    df_me2n_2022_2025[\"Документ_закупки\"].astype(str) + \"_\" + df_me2n_2022_2025[\"ЗП_Позиция\"].astype(str)\n",
        ")"
      ],
      "metadata": {
        "id": "AzL6PJn9IAtI"
      },
      "execution_count": 207,
      "outputs": []
    },
    {
      "cell_type": "code",
      "source": [
        "#ZP-ZPPOZ BİRLEŞTİRME -- ME5A\n",
        "df_me5a_2022_2025[\"ЗП-ЗП_ПОЗ_ME5A\"] = (\n",
        "    df_me5a_2022_2025[\"Документ_закупки\"].astype(str) + \"_\" + df_me5a_2022_2025[\"ЗП_Позиция\"].astype(str)\n",
        ")"
      ],
      "metadata": {
        "id": "U6SdkKPcjEj3"
      },
      "execution_count": 208,
      "outputs": []
    },
    {
      "cell_type": "code",
      "source": [
        "#ZP-ZPPOZ BİRLEŞTİRME -- ME5A\n",
        "df_me5a_2022_2025[\"ВЗ-ВЗ_ПОЗ_ME5A\"] = (\n",
        "    df_me5a_2022_2025[\"Заявка\"].astype(str) + \"_\" + df_me5a_2022_2025[\"Позиция заявки\"].astype(str)\n",
        ")"
      ],
      "metadata": {
        "id": "sG9QtYlFx5BU"
      },
      "execution_count": 209,
      "outputs": []
    },
    {
      "cell_type": "code",
      "source": [
        "#B3+MATERİAL -- ME2N\n",
        "df_me2n_2022_2025[\"В3+МАТЕРИАЛ\"] = (\n",
        "    df_me2n_2022_2025[\"Заявка\"].astype(str) + \"_\" + df_me2n_2022_2025[\"Материал_ЗП\"].astype(str)\n",
        ")"
      ],
      "metadata": {
        "id": "ghPDHl_POnpd"
      },
      "execution_count": 210,
      "outputs": []
    },
    {
      "cell_type": "code",
      "source": [
        "#B3+MATERİAL -- ME5A\n",
        "df_me5a_2022_2025[\"В3+МАТЕРИАЛ\"] = (\n",
        "    df_me5a_2022_2025[\"Заявка\"].astype(str) + \"_\" + df_me5a_2022_2025[\"Материал_ВЗ\"].astype(str) )"
      ],
      "metadata": {
        "id": "Yo9szNHqjAh6"
      },
      "execution_count": 211,
      "outputs": []
    },
    {
      "cell_type": "code",
      "source": [
        "# Mapping için bir sözlük oluştur\n",
        "mapping_dict = df_me5a_2022_2025.set_index('ЗП-ЗП_ПОЗ_ME5A')['Позиция заявки'].to_dict()\n",
        "\n",
        "# df_me2n_2022_2025'e yeni sütunu ekle\n",
        "df_me2n_2022_2025['Позиция заявки'] = df_me2n_2022_2025['ЗП-ЗП_ПОЗ_ME2N'].map(mapping_dict)\n"
      ],
      "metadata": {
        "id": "RPPewz-JevHu"
      },
      "execution_count": 212,
      "outputs": []
    },
    {
      "cell_type": "code",
      "source": [
        "# 1. Mapping için sözlük oluştur\n",
        "mapping_dict2 = df_me5a_2022_2025.set_index('ЗП-ЗП_ПОЗ_ME5A')['Заявка'].to_dict()\n",
        "\n",
        "# 2. Sadece boş olanları doldur: df_me2n_2022_2025 içindeki 'Заявка' sütunu boş olanlara map uygula\n",
        "df_me2n_2022_2025['Заявка'] = df_me2n_2022_2025['Заявка'].fillna(\n",
        "    df_me2n_2022_2025['ЗП-ЗП_ПОЗ_ME2N'].map(mapping_dict2)\n",
        ")\n"
      ],
      "metadata": {
        "id": "ERW_9Y7RHyKY"
      },
      "execution_count": 241,
      "outputs": []
    },
    {
      "cell_type": "code",
      "source": [
        "# Mapping sözlüğünü oluştur\n",
        "mapping_dict2 = df_me5a_2022_2025.set_index('В3+МАТЕРИАЛ')['Позиция заявки'].to_dict()\n",
        "\n",
        "# Sadece boş (NaN) olan değerleri güncelle\n",
        "mask = df_me2n_2022_2025['Позиция заявки'].isna()\n",
        "df_me2n_2022_2025.loc[mask, 'Позиция заявки'] = (\n",
        "    df_me2n_2022_2025.loc[mask, 'В3+МАТЕРИАЛ'].map(mapping_dict2)\n",
        ")"
      ],
      "metadata": {
        "id": "2yjrIO8Ijvh2"
      },
      "execution_count": 213,
      "outputs": []
    },
    {
      "cell_type": "code",
      "source": [
        "df_me2n_2022_2025_zp_bez_vz = df_me2n_2022_2025[df_me2n_2022_2025['Заявка'].isna()]"
      ],
      "metadata": {
        "id": "AA5yen1rqwOQ"
      },
      "execution_count": 242,
      "outputs": []
    },
    {
      "cell_type": "code",
      "source": [
        "#ZP-ZPPOZ BİRLEŞTİRME -- ME5A\n",
        "df_me2n_2022_2025[\"ВЗ-ВЗ_ПОЗ_ME2N\"] = (\n",
        "    df_me2n_2022_2025[\"Заявка\"].astype(str) + \"_\" + df_me2n_2022_2025[\"Позиция заявки\"].astype(str)\n",
        ")"
      ],
      "metadata": {
        "id": "yu6zhbgmyKVk"
      },
      "execution_count": 218,
      "outputs": []
    },
    {
      "cell_type": "code",
      "source": [
        "# Sadece 'Индикатор удаления' sütunu boş (NaN) olan satırları tut\n",
        "df_me2n_2022_2025 = df_me2n_2022_2025[df_me2n_2022_2025['Индикатор удаления'].isna()]\n"
      ],
      "metadata": {
        "id": "i9szkCm71akd"
      },
      "execution_count": 219,
      "outputs": []
    },
    {
      "cell_type": "code",
      "source": [
        "df_me5a_2022_2025['Veri_Kaynagi1']=\"ME5A\""
      ],
      "metadata": {
        "id": "XemMMgPCi-At"
      },
      "execution_count": 260,
      "outputs": []
    },
    {
      "cell_type": "code",
      "source": [
        "df_me2n_2022_2025['Veri_Kaynagi2']=\"ME2N\""
      ],
      "metadata": {
        "id": "6yCuqH192Nq_"
      },
      "execution_count": 221,
      "outputs": []
    },
    {
      "cell_type": "code",
      "source": [
        "#df_me2n_2022_2025.info()"
      ],
      "metadata": {
        "id": "Mf0mwYzd0Rxp",
        "outputId": "01c60aeb-3d9b-4d80-f68c-59d961a7db78",
        "colab": {
          "base_uri": "https://localhost:8080/"
        }
      },
      "execution_count": 262,
      "outputs": [
        {
          "output_type": "stream",
          "name": "stdout",
          "text": [
            "<class 'pandas.core.frame.DataFrame'>\n",
            "Index: 275620 entries, 0 to 297714\n",
            "Data columns (total 38 columns):\n",
            " #   Column                                   Non-Null Count   Dtype  \n",
            "---  ------                                   --------------   -----  \n",
            " 0   Год                                      275620 non-null  object \n",
            " 1   Документ_закупки                         275620 non-null  object \n",
            " 2   ЗП_Позиция                               275620 non-null  object \n",
            " 3   Индикатор удаления                       0 non-null       object \n",
            " 4   Дата документа                           275620 non-null  object \n",
            " 5   Наш знак                                 267047 non-null  object \n",
            " 6   Ваш код                                  274817 non-null  object \n",
            " 7   Имя поставщика                           275490 non-null  object \n",
            " 8   Закуп. организация                       275620 non-null  object \n",
            " 9   Заявка                                   262927 non-null  object \n",
            " 10  Материал_ЗП                              275620 non-null  object \n",
            " 11  Инвентарный номер                        228277 non-null  object \n",
            " 12  Наименование RU                          274673 non-null  object \n",
            " 13  Наименование TR                          274635 non-null  object \n",
            " 14  Объем заказа                             275620 non-null  float64\n",
            " 15  еще поставить (количество)               275620 non-null  float64\n",
            " 16  Складская ЕИ                             274674 non-null  object \n",
            " 17  Количество в СЕИ                         275620 non-null  float64\n",
            " 18  Цена нетто                               275620 non-null  float64\n",
            " 19  СтоимЗаказа нетто                        275620 non-null  float64\n",
            " 20  Еще для поставки (стоимость)             275620 non-null  float64\n",
            " 21  Валюта                                   275490 non-null  object \n",
            " 22  Вид докум. закупки                       275620 non-null  object \n",
            " 23  Краткий текст                            275619 non-null  object \n",
            " 24  Единица цены                             275620 non-null  float64\n",
            " 25  Открытая стоимость                       275620 non-null  object \n",
            " 26  Номер потребности                        42 non-null      object \n",
            " 27  Дата поставки                            275619 non-null  object \n",
            " 28  Число позиций                            275620 non-null  int64  \n",
            " 29  История заказа на поставку/ДокумПоОтзыв  0 non-null       float64\n",
            " 30  Склад                                    12532 non-null   object \n",
            " 31  ЕИ заказа на постав.                     275618 non-null  object \n",
            " 32  Создал                                   272360 non-null  object \n",
            " 33  ЗП-ЗП_ПОЗ_ME2N                           275620 non-null  object \n",
            " 34  В3+МАТЕРИАЛ                              275620 non-null  object \n",
            " 35  Позиция заявки                           256914 non-null  object \n",
            " 36  ВЗ-ВЗ_ПОЗ_ME2N                           275620 non-null  object \n",
            " 37  Veri_Kaynagi2                            275620 non-null  object \n",
            "dtypes: float64(8), int64(1), object(29)\n",
            "memory usage: 82.0+ MB\n"
          ]
        }
      ]
    },
    {
      "cell_type": "code",
      "source": [
        "df_me2n_2022_2025_grouped = df_me2n_2022_2025.groupby('ВЗ-ВЗ_ПОЗ_ME2N').agg({\n",
        "    'Veri_Kaynagi2' :'first',\n",
        "    'Год': 'first' ,\n",
        "    'Заявка': 'first',\n",
        "    'Позиция заявки':'first',\n",
        "    'Документ_закупки':'first',\n",
        "    'ЗП_Позиция':'first',\n",
        "    'Создал': 'first',\n",
        "    'Индикатор удаления':'first',\n",
        "    'Дата документа': 'first',\n",
        "    'Наш знак': 'first',\n",
        "    'Ваш код': 'first',\n",
        "    'Имя поставщика': 'first',\n",
        "    'Закуп. организация': 'first',\n",
        "    'Заявка': 'first',\n",
        "    'Позиция заявки': 'first',\n",
        "    'Материал_ЗП': 'first',\n",
        "    'Инвентарный номер': 'first',\n",
        "    'Наименование RU': 'first',\n",
        "    'Наименование TR':'first',\n",
        "    'Объем заказа': 'sum',\n",
        "    'еще поставить (количество)': 'sum',\n",
        "    'Складская ЕИ':'first',\n",
        "    'Еще для поставки (стоимость)': 'sum',\n",
        "    'Валюта':'first',\n",
        "    'Вид докум. закупки': 'first',\n",
        "\n",
        "}).reset_index()\n"
      ],
      "metadata": {
        "id": "p3U0S5m6zHbP"
      },
      "execution_count": 264,
      "outputs": []
    },
    {
      "cell_type": "code",
      "source": [
        "df_me2n_2022_2025_grouped.info()"
      ],
      "metadata": {
        "id": "jyfLVejhLF5X",
        "outputId": "cd1b4d71-62dd-4865-dc08-3c9856916fd3",
        "colab": {
          "base_uri": "https://localhost:8080/"
        }
      },
      "execution_count": 252,
      "outputs": [
        {
          "output_type": "stream",
          "name": "stdout",
          "text": [
            "<class 'pandas.core.frame.DataFrame'>\n",
            "RangeIndex: 238731 entries, 0 to 238730\n",
            "Data columns (total 23 columns):\n",
            " #   Column                        Non-Null Count   Dtype  \n",
            "---  ------                        --------------   -----  \n",
            " 0   ВЗ-ВЗ_ПОЗ_ME2N                238731 non-null  object \n",
            " 1   Veri_Kaynagi2                 238731 non-null  object \n",
            " 2   Год                           238731 non-null  object \n",
            " 3   Заявка                        238730 non-null  object \n",
            " 4   Позиция заявки                238219 non-null  object \n",
            " 5   Документ_закупки              238731 non-null  object \n",
            " 6   ЗП_Позиция                    238731 non-null  object \n",
            " 7   Создал                        238100 non-null  object \n",
            " 8   Дата документа                238731 non-null  object \n",
            " 9   Наш знак                      234597 non-null  object \n",
            " 10  Ваш код                       238646 non-null  object \n",
            " 11  Имя поставщика                238656 non-null  object \n",
            " 12  Закуп. организация            238731 non-null  object \n",
            " 13  Материал_ЗП                   238731 non-null  object \n",
            " 14  Инвентарный номер             211634 non-null  object \n",
            " 15  Наименование RU               238619 non-null  object \n",
            " 16  Наименование TR               238581 non-null  object \n",
            " 17  Объем заказа                  238731 non-null  float64\n",
            " 18  еще поставить (количество)    238731 non-null  float64\n",
            " 19  Складская ЕИ                  238620 non-null  object \n",
            " 20  Еще для поставки (стоимость)  238731 non-null  float64\n",
            " 21  Валюта                        238656 non-null  object \n",
            " 22  Вид докум. закупки            238731 non-null  object \n",
            "dtypes: float64(3), object(20)\n",
            "memory usage: 41.9+ MB\n"
          ]
        }
      ]
    },
    {
      "cell_type": "code",
      "source": [
        "df_me2n_2022_2025_grouped.sample(n=10 , random_state=2)"
      ],
      "metadata": {
        "id": "_m_Y_gHJkl3d",
        "outputId": "331dc96a-a7f9-452c-bd6f-e63d71aeba46",
        "colab": {
          "base_uri": "https://localhost:8080/",
          "height": 621
        }
      },
      "execution_count": 248,
      "outputs": [
        {
          "output_type": "execute_result",
          "data": {
            "text/plain": [
              "          ВЗ-ВЗ_ПОЗ_ME2N Veri_Kaynagi2   Год      Заявка Позиция заявки  \\\n",
              "62935     2200005875_120          ME2N  2024  2200005875            120   \n",
              "186078    9900000867_860          ME2N  2024  9900000867            860   \n",
              "62046     2200005796_240          ME2N  2024  2200005796            240   \n",
              "195945     9900001291_80          ME2N  2024  9900001291             80   \n",
              "112904    2200009890_670          ME2N  2025  2200009890            670   \n",
              "62414      2200005821_40          ME2N  2024  2200005821             40   \n",
              "24550   2200001509_11750          ME2N  2024  2200001509          11750   \n",
              "159260   9900000209_2190          ME2N  2024  9900000209           2190   \n",
              "237206    9900003717_290          ME2N  2025  9900003717            290   \n",
              "168992    9900000553_480          ME2N  2024  9900000553            480   \n",
              "\n",
              "       Документ_закупки ЗП_Позиция      Создал Дата документа   Наш знак  ...  \\\n",
              "62935        3100009795         60  VKUZMICHEV     2024-09-04  90VFA2024  ...   \n",
              "186078       3100009602        780    IKOVALEV     2024-08-28  90VFA2024  ...   \n",
              "62046        3100006789       1760       MAKIF     2024-02-28  ICEND2023  ...   \n",
              "195945       3100009757         80  VKUZMICHEV     2024-09-03  90VFA2024  ...   \n",
              "112904       3100012238        670    ACHARYEV     2025-02-28    AKEM331  ...   \n",
              "62414        3100010094        310  VKUZMICHEV     2024-09-20  90VFA2024  ...   \n",
              "24550        3100006233      11570      VPIROG     2024-01-22        467  ...   \n",
              "159260       3100006446         60     EYILDIZ     2024-02-07     AKC745  ...   \n",
              "237206       3100012885        630  VKUZMICHEV     2025-04-28  90VFA2025  ...   \n",
              "168992       3100008347       2400     ILAMBIN     2024-07-10    IC 2024  ...   \n",
              "\n",
              "       Материал_ЗП                  Инвентарный номер  \\\n",
              "62935   4500249568    AKU.0120.00UKS.0.KZ.LC0040(C01)   \n",
              "186078  4500351157    AKU.0120.10UJA.0.KM.LC0118(C01)   \n",
              "62046   4500249899    AKU.0120.20UJA.0.KZ.LC0239(C02)   \n",
              "195945  4500378749    AKU.1480.21UUA.0.AR.TB0001(C01)   \n",
              "112904  4500394812  AKU.0120.10UJA.KAA.TM.TB0204(C01)   \n",
              "62414   4500250728    AKU.0120.10UBA.0.KZ.LC0027(C03)   \n",
              "24550   4500187957        01-01-03-3081 ОТ 31.01.2023   \n",
              "159260  4500303873    AKU.0120.00USY.0.KM.LC0028(C01)   \n",
              "237206  4500487859    AKU.0120.10UJA.0.KM.LC0043(C02)   \n",
              "168992  4500320114    AKU.0130.10UMA.0.KM.TB0026(C01)   \n",
              "\n",
              "                                Наименование RU  \\\n",
              "62935            AKU.0120.00UKS.0.KZ.LC0040.TA2   \n",
              "186078         AKU.0120.10UJA.0.KM.LC0118.B3-14   \n",
              "62046        AKU.0120.20UJA.0.KZ.LC0239.TA337-8   \n",
              "195945  AKU.1480.21UUA.0.AR.TB0001.24UUA11AB701   \n",
              "112904   22/224 .0120.10UJA.KAA.TM.TB0204 M75-5   \n",
              "62414           AKU.0120.10UBA.0.KZ.LC0027.TD48   \n",
              "24550     КЛАПАН ПОЖАРНЫЙ С МУФТОЙ 10SGA13AA140   \n",
              "159260      AKU.0120.00USY.0.KM.LC0028 CrB1-114   \n",
              "237206           AKU.0120.10UJA.0.KM.LC0043.M-8   \n",
              "168992          AKU.0130.10UMA.0.KM.TB0026.B-48   \n",
              "\n",
              "                                Наименование TR Объем заказа  \\\n",
              "62935            AKU.0120.00UKS.0.KZ.LC0040.TA2         1.00   \n",
              "186078         AKU.0120.10UJA.0.KM.LC0118.B3-14         1.00   \n",
              "62046        AKU.0120.20UJA.0.KZ.LC0239.TA337-8        11.00   \n",
              "195945  AKU.1480.21UUA.0.AR.TB0001.24UUA11AB701         1.00   \n",
              "112904   22/224 .0120.10UJA.KAA.TM.TB0204 M75-5         7.06   \n",
              "62414           AKU.0120.10UBA.0.KZ.LC0027.TD48        16.00   \n",
              "24550        YANGIN VALFİ MANŞONLU 10SGA13AA140         1.00   \n",
              "159260      AKU.0120.00USY.0.KM.LC0028 CRB1-114         1.00   \n",
              "237206           AKU.0120.10UJA.0.KM.LC0043.M-8         1.00   \n",
              "168992          AKU.0130.10UMA.0.KM.TB0026.B-48         1.00   \n",
              "\n",
              "       еще поставить (количество) Складская ЕИ  Еще для поставки (стоимость)  \\\n",
              "62935                         0.0           ШТ                          0.00   \n",
              "186078                        0.0           ШТ                          0.00   \n",
              "62046                         0.0           ШТ                          0.00   \n",
              "195945                        0.0           ШТ                          0.00   \n",
              "112904                        0.0           КГ                          0.00   \n",
              "62414                        16.0           ШТ                        237.44   \n",
              "24550                         0.0           ШТ                          0.00   \n",
              "159260                        0.0           ШТ                          0.00   \n",
              "237206                        0.0           ШТ                          0.00   \n",
              "168992                        0.0           ШТ                          0.00   \n",
              "\n",
              "        Валюта Вид докум. закупки  \n",
              "62935      USD               ZSUP  \n",
              "186078     USD               ZSUP  \n",
              "62046      USD               ZSUP  \n",
              "195945     USD               ZSUP  \n",
              "112904     USD               ZSUP  \n",
              "62414      USD               ZSUP  \n",
              "24550      USD               ZSUP  \n",
              "159260     USD               ZSUP  \n",
              "237206     USD               ZSUP  \n",
              "168992     USD               ZSUP  \n",
              "\n",
              "[10 rows x 23 columns]"
            ],
            "text/html": [
              "\n",
              "  <div id=\"df-ca4091ad-275f-4604-b5f3-0732eb52be12\" class=\"colab-df-container\">\n",
              "    <div>\n",
              "<style scoped>\n",
              "    .dataframe tbody tr th:only-of-type {\n",
              "        vertical-align: middle;\n",
              "    }\n",
              "\n",
              "    .dataframe tbody tr th {\n",
              "        vertical-align: top;\n",
              "    }\n",
              "\n",
              "    .dataframe thead th {\n",
              "        text-align: right;\n",
              "    }\n",
              "</style>\n",
              "<table border=\"1\" class=\"dataframe\">\n",
              "  <thead>\n",
              "    <tr style=\"text-align: right;\">\n",
              "      <th></th>\n",
              "      <th>ВЗ-ВЗ_ПОЗ_ME2N</th>\n",
              "      <th>Veri_Kaynagi2</th>\n",
              "      <th>Год</th>\n",
              "      <th>Заявка</th>\n",
              "      <th>Позиция заявки</th>\n",
              "      <th>Документ_закупки</th>\n",
              "      <th>ЗП_Позиция</th>\n",
              "      <th>Создал</th>\n",
              "      <th>Дата документа</th>\n",
              "      <th>Наш знак</th>\n",
              "      <th>...</th>\n",
              "      <th>Материал_ЗП</th>\n",
              "      <th>Инвентарный номер</th>\n",
              "      <th>Наименование RU</th>\n",
              "      <th>Наименование TR</th>\n",
              "      <th>Объем заказа</th>\n",
              "      <th>еще поставить (количество)</th>\n",
              "      <th>Складская ЕИ</th>\n",
              "      <th>Еще для поставки (стоимость)</th>\n",
              "      <th>Валюта</th>\n",
              "      <th>Вид докум. закупки</th>\n",
              "    </tr>\n",
              "  </thead>\n",
              "  <tbody>\n",
              "    <tr>\n",
              "      <th>62935</th>\n",
              "      <td>2200005875_120</td>\n",
              "      <td>ME2N</td>\n",
              "      <td>2024</td>\n",
              "      <td>2200005875</td>\n",
              "      <td>120</td>\n",
              "      <td>3100009795</td>\n",
              "      <td>60</td>\n",
              "      <td>VKUZMICHEV</td>\n",
              "      <td>2024-09-04</td>\n",
              "      <td>90VFA2024</td>\n",
              "      <td>...</td>\n",
              "      <td>4500249568</td>\n",
              "      <td>AKU.0120.00UKS.0.KZ.LC0040(C01)</td>\n",
              "      <td>AKU.0120.00UKS.0.KZ.LC0040.TA2</td>\n",
              "      <td>AKU.0120.00UKS.0.KZ.LC0040.TA2</td>\n",
              "      <td>1.00</td>\n",
              "      <td>0.0</td>\n",
              "      <td>ШТ</td>\n",
              "      <td>0.00</td>\n",
              "      <td>USD</td>\n",
              "      <td>ZSUP</td>\n",
              "    </tr>\n",
              "    <tr>\n",
              "      <th>186078</th>\n",
              "      <td>9900000867_860</td>\n",
              "      <td>ME2N</td>\n",
              "      <td>2024</td>\n",
              "      <td>9900000867</td>\n",
              "      <td>860</td>\n",
              "      <td>3100009602</td>\n",
              "      <td>780</td>\n",
              "      <td>IKOVALEV</td>\n",
              "      <td>2024-08-28</td>\n",
              "      <td>90VFA2024</td>\n",
              "      <td>...</td>\n",
              "      <td>4500351157</td>\n",
              "      <td>AKU.0120.10UJA.0.KM.LC0118(C01)</td>\n",
              "      <td>AKU.0120.10UJA.0.KM.LC0118.B3-14</td>\n",
              "      <td>AKU.0120.10UJA.0.KM.LC0118.B3-14</td>\n",
              "      <td>1.00</td>\n",
              "      <td>0.0</td>\n",
              "      <td>ШТ</td>\n",
              "      <td>0.00</td>\n",
              "      <td>USD</td>\n",
              "      <td>ZSUP</td>\n",
              "    </tr>\n",
              "    <tr>\n",
              "      <th>62046</th>\n",
              "      <td>2200005796_240</td>\n",
              "      <td>ME2N</td>\n",
              "      <td>2024</td>\n",
              "      <td>2200005796</td>\n",
              "      <td>240</td>\n",
              "      <td>3100006789</td>\n",
              "      <td>1760</td>\n",
              "      <td>MAKIF</td>\n",
              "      <td>2024-02-28</td>\n",
              "      <td>ICEND2023</td>\n",
              "      <td>...</td>\n",
              "      <td>4500249899</td>\n",
              "      <td>AKU.0120.20UJA.0.KZ.LC0239(C02)</td>\n",
              "      <td>AKU.0120.20UJA.0.KZ.LC0239.TA337-8</td>\n",
              "      <td>AKU.0120.20UJA.0.KZ.LC0239.TA337-8</td>\n",
              "      <td>11.00</td>\n",
              "      <td>0.0</td>\n",
              "      <td>ШТ</td>\n",
              "      <td>0.00</td>\n",
              "      <td>USD</td>\n",
              "      <td>ZSUP</td>\n",
              "    </tr>\n",
              "    <tr>\n",
              "      <th>195945</th>\n",
              "      <td>9900001291_80</td>\n",
              "      <td>ME2N</td>\n",
              "      <td>2024</td>\n",
              "      <td>9900001291</td>\n",
              "      <td>80</td>\n",
              "      <td>3100009757</td>\n",
              "      <td>80</td>\n",
              "      <td>VKUZMICHEV</td>\n",
              "      <td>2024-09-03</td>\n",
              "      <td>90VFA2024</td>\n",
              "      <td>...</td>\n",
              "      <td>4500378749</td>\n",
              "      <td>AKU.1480.21UUA.0.AR.TB0001(C01)</td>\n",
              "      <td>AKU.1480.21UUA.0.AR.TB0001.24UUA11AB701</td>\n",
              "      <td>AKU.1480.21UUA.0.AR.TB0001.24UUA11AB701</td>\n",
              "      <td>1.00</td>\n",
              "      <td>0.0</td>\n",
              "      <td>ШТ</td>\n",
              "      <td>0.00</td>\n",
              "      <td>USD</td>\n",
              "      <td>ZSUP</td>\n",
              "    </tr>\n",
              "    <tr>\n",
              "      <th>112904</th>\n",
              "      <td>2200009890_670</td>\n",
              "      <td>ME2N</td>\n",
              "      <td>2025</td>\n",
              "      <td>2200009890</td>\n",
              "      <td>670</td>\n",
              "      <td>3100012238</td>\n",
              "      <td>670</td>\n",
              "      <td>ACHARYEV</td>\n",
              "      <td>2025-02-28</td>\n",
              "      <td>AKEM331</td>\n",
              "      <td>...</td>\n",
              "      <td>4500394812</td>\n",
              "      <td>AKU.0120.10UJA.KAA.TM.TB0204(C01)</td>\n",
              "      <td>22/224 .0120.10UJA.KAA.TM.TB0204 M75-5</td>\n",
              "      <td>22/224 .0120.10UJA.KAA.TM.TB0204 M75-5</td>\n",
              "      <td>7.06</td>\n",
              "      <td>0.0</td>\n",
              "      <td>КГ</td>\n",
              "      <td>0.00</td>\n",
              "      <td>USD</td>\n",
              "      <td>ZSUP</td>\n",
              "    </tr>\n",
              "    <tr>\n",
              "      <th>62414</th>\n",
              "      <td>2200005821_40</td>\n",
              "      <td>ME2N</td>\n",
              "      <td>2024</td>\n",
              "      <td>2200005821</td>\n",
              "      <td>40</td>\n",
              "      <td>3100010094</td>\n",
              "      <td>310</td>\n",
              "      <td>VKUZMICHEV</td>\n",
              "      <td>2024-09-20</td>\n",
              "      <td>90VFA2024</td>\n",
              "      <td>...</td>\n",
              "      <td>4500250728</td>\n",
              "      <td>AKU.0120.10UBA.0.KZ.LC0027(C03)</td>\n",
              "      <td>AKU.0120.10UBA.0.KZ.LC0027.TD48</td>\n",
              "      <td>AKU.0120.10UBA.0.KZ.LC0027.TD48</td>\n",
              "      <td>16.00</td>\n",
              "      <td>16.0</td>\n",
              "      <td>ШТ</td>\n",
              "      <td>237.44</td>\n",
              "      <td>USD</td>\n",
              "      <td>ZSUP</td>\n",
              "    </tr>\n",
              "    <tr>\n",
              "      <th>24550</th>\n",
              "      <td>2200001509_11750</td>\n",
              "      <td>ME2N</td>\n",
              "      <td>2024</td>\n",
              "      <td>2200001509</td>\n",
              "      <td>11750</td>\n",
              "      <td>3100006233</td>\n",
              "      <td>11570</td>\n",
              "      <td>VPIROG</td>\n",
              "      <td>2024-01-22</td>\n",
              "      <td>467</td>\n",
              "      <td>...</td>\n",
              "      <td>4500187957</td>\n",
              "      <td>01-01-03-3081 ОТ 31.01.2023</td>\n",
              "      <td>КЛАПАН ПОЖАРНЫЙ С МУФТОЙ 10SGA13AA140</td>\n",
              "      <td>YANGIN VALFİ MANŞONLU 10SGA13AA140</td>\n",
              "      <td>1.00</td>\n",
              "      <td>0.0</td>\n",
              "      <td>ШТ</td>\n",
              "      <td>0.00</td>\n",
              "      <td>USD</td>\n",
              "      <td>ZSUP</td>\n",
              "    </tr>\n",
              "    <tr>\n",
              "      <th>159260</th>\n",
              "      <td>9900000209_2190</td>\n",
              "      <td>ME2N</td>\n",
              "      <td>2024</td>\n",
              "      <td>9900000209</td>\n",
              "      <td>2190</td>\n",
              "      <td>3100006446</td>\n",
              "      <td>60</td>\n",
              "      <td>EYILDIZ</td>\n",
              "      <td>2024-02-07</td>\n",
              "      <td>AKC745</td>\n",
              "      <td>...</td>\n",
              "      <td>4500303873</td>\n",
              "      <td>AKU.0120.00USY.0.KM.LC0028(C01)</td>\n",
              "      <td>AKU.0120.00USY.0.KM.LC0028 CrB1-114</td>\n",
              "      <td>AKU.0120.00USY.0.KM.LC0028 CRB1-114</td>\n",
              "      <td>1.00</td>\n",
              "      <td>0.0</td>\n",
              "      <td>ШТ</td>\n",
              "      <td>0.00</td>\n",
              "      <td>USD</td>\n",
              "      <td>ZSUP</td>\n",
              "    </tr>\n",
              "    <tr>\n",
              "      <th>237206</th>\n",
              "      <td>9900003717_290</td>\n",
              "      <td>ME2N</td>\n",
              "      <td>2025</td>\n",
              "      <td>9900003717</td>\n",
              "      <td>290</td>\n",
              "      <td>3100012885</td>\n",
              "      <td>630</td>\n",
              "      <td>VKUZMICHEV</td>\n",
              "      <td>2025-04-28</td>\n",
              "      <td>90VFA2025</td>\n",
              "      <td>...</td>\n",
              "      <td>4500487859</td>\n",
              "      <td>AKU.0120.10UJA.0.KM.LC0043(C02)</td>\n",
              "      <td>AKU.0120.10UJA.0.KM.LC0043.M-8</td>\n",
              "      <td>AKU.0120.10UJA.0.KM.LC0043.M-8</td>\n",
              "      <td>1.00</td>\n",
              "      <td>0.0</td>\n",
              "      <td>ШТ</td>\n",
              "      <td>0.00</td>\n",
              "      <td>USD</td>\n",
              "      <td>ZSUP</td>\n",
              "    </tr>\n",
              "    <tr>\n",
              "      <th>168992</th>\n",
              "      <td>9900000553_480</td>\n",
              "      <td>ME2N</td>\n",
              "      <td>2024</td>\n",
              "      <td>9900000553</td>\n",
              "      <td>480</td>\n",
              "      <td>3100008347</td>\n",
              "      <td>2400</td>\n",
              "      <td>ILAMBIN</td>\n",
              "      <td>2024-07-10</td>\n",
              "      <td>IC 2024</td>\n",
              "      <td>...</td>\n",
              "      <td>4500320114</td>\n",
              "      <td>AKU.0130.10UMA.0.KM.TB0026(C01)</td>\n",
              "      <td>AKU.0130.10UMA.0.KM.TB0026.B-48</td>\n",
              "      <td>AKU.0130.10UMA.0.KM.TB0026.B-48</td>\n",
              "      <td>1.00</td>\n",
              "      <td>0.0</td>\n",
              "      <td>ШТ</td>\n",
              "      <td>0.00</td>\n",
              "      <td>USD</td>\n",
              "      <td>ZSUP</td>\n",
              "    </tr>\n",
              "  </tbody>\n",
              "</table>\n",
              "<p>10 rows × 23 columns</p>\n",
              "</div>\n",
              "    <div class=\"colab-df-buttons\">\n",
              "\n",
              "  <div class=\"colab-df-container\">\n",
              "    <button class=\"colab-df-convert\" onclick=\"convertToInteractive('df-ca4091ad-275f-4604-b5f3-0732eb52be12')\"\n",
              "            title=\"Convert this dataframe to an interactive table.\"\n",
              "            style=\"display:none;\">\n",
              "\n",
              "  <svg xmlns=\"http://www.w3.org/2000/svg\" height=\"24px\" viewBox=\"0 -960 960 960\">\n",
              "    <path d=\"M120-120v-720h720v720H120Zm60-500h600v-160H180v160Zm220 220h160v-160H400v160Zm0 220h160v-160H400v160ZM180-400h160v-160H180v160Zm440 0h160v-160H620v160ZM180-180h160v-160H180v160Zm440 0h160v-160H620v160Z\"/>\n",
              "  </svg>\n",
              "    </button>\n",
              "\n",
              "  <style>\n",
              "    .colab-df-container {\n",
              "      display:flex;\n",
              "      gap: 12px;\n",
              "    }\n",
              "\n",
              "    .colab-df-convert {\n",
              "      background-color: #E8F0FE;\n",
              "      border: none;\n",
              "      border-radius: 50%;\n",
              "      cursor: pointer;\n",
              "      display: none;\n",
              "      fill: #1967D2;\n",
              "      height: 32px;\n",
              "      padding: 0 0 0 0;\n",
              "      width: 32px;\n",
              "    }\n",
              "\n",
              "    .colab-df-convert:hover {\n",
              "      background-color: #E2EBFA;\n",
              "      box-shadow: 0px 1px 2px rgba(60, 64, 67, 0.3), 0px 1px 3px 1px rgba(60, 64, 67, 0.15);\n",
              "      fill: #174EA6;\n",
              "    }\n",
              "\n",
              "    .colab-df-buttons div {\n",
              "      margin-bottom: 4px;\n",
              "    }\n",
              "\n",
              "    [theme=dark] .colab-df-convert {\n",
              "      background-color: #3B4455;\n",
              "      fill: #D2E3FC;\n",
              "    }\n",
              "\n",
              "    [theme=dark] .colab-df-convert:hover {\n",
              "      background-color: #434B5C;\n",
              "      box-shadow: 0px 1px 3px 1px rgba(0, 0, 0, 0.15);\n",
              "      filter: drop-shadow(0px 1px 2px rgba(0, 0, 0, 0.3));\n",
              "      fill: #FFFFFF;\n",
              "    }\n",
              "  </style>\n",
              "\n",
              "    <script>\n",
              "      const buttonEl =\n",
              "        document.querySelector('#df-ca4091ad-275f-4604-b5f3-0732eb52be12 button.colab-df-convert');\n",
              "      buttonEl.style.display =\n",
              "        google.colab.kernel.accessAllowed ? 'block' : 'none';\n",
              "\n",
              "      async function convertToInteractive(key) {\n",
              "        const element = document.querySelector('#df-ca4091ad-275f-4604-b5f3-0732eb52be12');\n",
              "        const dataTable =\n",
              "          await google.colab.kernel.invokeFunction('convertToInteractive',\n",
              "                                                    [key], {});\n",
              "        if (!dataTable) return;\n",
              "\n",
              "        const docLinkHtml = 'Like what you see? Visit the ' +\n",
              "          '<a target=\"_blank\" href=https://colab.research.google.com/notebooks/data_table.ipynb>data table notebook</a>'\n",
              "          + ' to learn more about interactive tables.';\n",
              "        element.innerHTML = '';\n",
              "        dataTable['output_type'] = 'display_data';\n",
              "        await google.colab.output.renderOutput(dataTable, element);\n",
              "        const docLink = document.createElement('div');\n",
              "        docLink.innerHTML = docLinkHtml;\n",
              "        element.appendChild(docLink);\n",
              "      }\n",
              "    </script>\n",
              "  </div>\n",
              "\n",
              "\n",
              "    <div id=\"df-781163e1-c6e5-4013-ba5f-0e5a719c0f67\">\n",
              "      <button class=\"colab-df-quickchart\" onclick=\"quickchart('df-781163e1-c6e5-4013-ba5f-0e5a719c0f67')\"\n",
              "                title=\"Suggest charts\"\n",
              "                style=\"display:none;\">\n",
              "\n",
              "<svg xmlns=\"http://www.w3.org/2000/svg\" height=\"24px\"viewBox=\"0 0 24 24\"\n",
              "     width=\"24px\">\n",
              "    <g>\n",
              "        <path d=\"M19 3H5c-1.1 0-2 .9-2 2v14c0 1.1.9 2 2 2h14c1.1 0 2-.9 2-2V5c0-1.1-.9-2-2-2zM9 17H7v-7h2v7zm4 0h-2V7h2v10zm4 0h-2v-4h2v4z\"/>\n",
              "    </g>\n",
              "</svg>\n",
              "      </button>\n",
              "\n",
              "<style>\n",
              "  .colab-df-quickchart {\n",
              "      --bg-color: #E8F0FE;\n",
              "      --fill-color: #1967D2;\n",
              "      --hover-bg-color: #E2EBFA;\n",
              "      --hover-fill-color: #174EA6;\n",
              "      --disabled-fill-color: #AAA;\n",
              "      --disabled-bg-color: #DDD;\n",
              "  }\n",
              "\n",
              "  [theme=dark] .colab-df-quickchart {\n",
              "      --bg-color: #3B4455;\n",
              "      --fill-color: #D2E3FC;\n",
              "      --hover-bg-color: #434B5C;\n",
              "      --hover-fill-color: #FFFFFF;\n",
              "      --disabled-bg-color: #3B4455;\n",
              "      --disabled-fill-color: #666;\n",
              "  }\n",
              "\n",
              "  .colab-df-quickchart {\n",
              "    background-color: var(--bg-color);\n",
              "    border: none;\n",
              "    border-radius: 50%;\n",
              "    cursor: pointer;\n",
              "    display: none;\n",
              "    fill: var(--fill-color);\n",
              "    height: 32px;\n",
              "    padding: 0;\n",
              "    width: 32px;\n",
              "  }\n",
              "\n",
              "  .colab-df-quickchart:hover {\n",
              "    background-color: var(--hover-bg-color);\n",
              "    box-shadow: 0 1px 2px rgba(60, 64, 67, 0.3), 0 1px 3px 1px rgba(60, 64, 67, 0.15);\n",
              "    fill: var(--button-hover-fill-color);\n",
              "  }\n",
              "\n",
              "  .colab-df-quickchart-complete:disabled,\n",
              "  .colab-df-quickchart-complete:disabled:hover {\n",
              "    background-color: var(--disabled-bg-color);\n",
              "    fill: var(--disabled-fill-color);\n",
              "    box-shadow: none;\n",
              "  }\n",
              "\n",
              "  .colab-df-spinner {\n",
              "    border: 2px solid var(--fill-color);\n",
              "    border-color: transparent;\n",
              "    border-bottom-color: var(--fill-color);\n",
              "    animation:\n",
              "      spin 1s steps(1) infinite;\n",
              "  }\n",
              "\n",
              "  @keyframes spin {\n",
              "    0% {\n",
              "      border-color: transparent;\n",
              "      border-bottom-color: var(--fill-color);\n",
              "      border-left-color: var(--fill-color);\n",
              "    }\n",
              "    20% {\n",
              "      border-color: transparent;\n",
              "      border-left-color: var(--fill-color);\n",
              "      border-top-color: var(--fill-color);\n",
              "    }\n",
              "    30% {\n",
              "      border-color: transparent;\n",
              "      border-left-color: var(--fill-color);\n",
              "      border-top-color: var(--fill-color);\n",
              "      border-right-color: var(--fill-color);\n",
              "    }\n",
              "    40% {\n",
              "      border-color: transparent;\n",
              "      border-right-color: var(--fill-color);\n",
              "      border-top-color: var(--fill-color);\n",
              "    }\n",
              "    60% {\n",
              "      border-color: transparent;\n",
              "      border-right-color: var(--fill-color);\n",
              "    }\n",
              "    80% {\n",
              "      border-color: transparent;\n",
              "      border-right-color: var(--fill-color);\n",
              "      border-bottom-color: var(--fill-color);\n",
              "    }\n",
              "    90% {\n",
              "      border-color: transparent;\n",
              "      border-bottom-color: var(--fill-color);\n",
              "    }\n",
              "  }\n",
              "</style>\n",
              "\n",
              "      <script>\n",
              "        async function quickchart(key) {\n",
              "          const quickchartButtonEl =\n",
              "            document.querySelector('#' + key + ' button');\n",
              "          quickchartButtonEl.disabled = true;  // To prevent multiple clicks.\n",
              "          quickchartButtonEl.classList.add('colab-df-spinner');\n",
              "          try {\n",
              "            const charts = await google.colab.kernel.invokeFunction(\n",
              "                'suggestCharts', [key], {});\n",
              "          } catch (error) {\n",
              "            console.error('Error during call to suggestCharts:', error);\n",
              "          }\n",
              "          quickchartButtonEl.classList.remove('colab-df-spinner');\n",
              "          quickchartButtonEl.classList.add('colab-df-quickchart-complete');\n",
              "        }\n",
              "        (() => {\n",
              "          let quickchartButtonEl =\n",
              "            document.querySelector('#df-781163e1-c6e5-4013-ba5f-0e5a719c0f67 button');\n",
              "          quickchartButtonEl.style.display =\n",
              "            google.colab.kernel.accessAllowed ? 'block' : 'none';\n",
              "        })();\n",
              "      </script>\n",
              "    </div>\n",
              "\n",
              "    </div>\n",
              "  </div>\n"
            ],
            "application/vnd.google.colaboratory.intrinsic+json": {
              "type": "dataframe"
            }
          },
          "metadata": {},
          "execution_count": 248
        }
      ]
    },
    {
      "cell_type": "code",
      "source": [
        "df_audit_B3 = df_me5a_2022_2025.merge(\n",
        "    df_me2n_2022_2025_grouped,\n",
        "    left_on=\"ВЗ-ВЗ_ПОЗ_ME5A\",\n",
        "    right_on=\"ВЗ-ВЗ_ПОЗ_ME2N\",\n",
        "    how=\"left\"\n",
        ")"
      ],
      "metadata": {
        "id": "R2olzHtUgITV"
      },
      "execution_count": 276,
      "outputs": []
    },
    {
      "cell_type": "code",
      "source": [
        "df_audit_B3[\"Документ_закупки_x\"] = df_audit_B3[\"Документ_закупки_x\"].replace([\"nan\", \"NaN\", \"NAN\"], np.nan)\n",
        "df_audit_B3[\"ЗП_Позиция_x\"] = df_audit_B3[\"ЗП_Позиция_x\"].replace([\"0\"], np.nan)"
      ],
      "metadata": {
        "id": "PWxGJRaSlVJ0"
      },
      "execution_count": 320,
      "outputs": []
    },
    {
      "cell_type": "code",
      "source": [
        "def belirle_status_po(deger):\n",
        "    if pd.isna(deger):\n",
        "        return \"Нет PO\"\n",
        "    else:\n",
        "        return \"Есть PO\"\n",
        "\n",
        "df_audit_B3[\"статус PO\"] = df_audit_B3[\"Документ_закупки_x\"].apply(belirle_status_po)\n"
      ],
      "metadata": {
        "id": "eHStbcbvl0n1"
      },
      "execution_count": 321,
      "outputs": []
    },
    {
      "cell_type": "code",
      "source": [
        "def hesapla_status_po(row):\n",
        "    # Ön kontrol: birim eşit mi?\n",
        "    if row[\"Складская ЕИ\"] == row[\"Единица измерения\"]:\n",
        "        # Matematiksel karşılaştırmalar:\n",
        "        if row[\"ЗатребованКолич\"] == row[\"Объем заказа\"]:\n",
        "            return \"Полностью заказано\"\n",
        "        elif row[\"ЗатребованКолич\"] < row[\"Объем заказа\"]:\n",
        "            return \"Заказано частично\"\n",
        "        elif row[\"ЗатребованКолич\"] > row[\"Объем заказа\"]:\n",
        "            return \"Заказано с превышением\"\n",
        "    else:\n",
        "        return np.nan  # Birimler eşit değilse\n",
        "\n",
        "# Yeni sütunu ekle\n",
        "df_audit_B3[\"Статус количества заказа\"] = df_audit_B3.apply(hesapla_status_po, axis=1)\n"
      ],
      "metadata": {
        "id": "tXgGe_stmpAs"
      },
      "execution_count": 294,
      "outputs": []
    },
    {
      "cell_type": "code",
      "source": [
        "def hesapla_status_delivery(row):\n",
        "    status = row[\"Статус количества заказа\"]\n",
        "    remaining = row[\"еще поставить (количество)\"]\n",
        "    ordered = row[\"Объем заказа\"]\n",
        "\n",
        "    if status == \"Полностью заказано\":\n",
        "        if remaining == ordered:\n",
        "            return \"Доставка не началась.\"\n",
        "        elif remaining == 0:\n",
        "            return \"все доставлено.закрыто\"\n",
        "        elif remaining > 0 and remaining != ordered:\n",
        "            return \"Поставлено частично\"\n",
        "\n",
        "    elif status == \"Заказано частично\":\n",
        "        if remaining == ordered:\n",
        "            return \"Доставка не началась.\"\n",
        "        elif remaining == 0:\n",
        "            return \"Заказанный объем был доставлен.\"\n",
        "        elif remaining > 0 and remaining != ordered:\n",
        "            return \"Заказанный объем был доставлен частями.\"\n",
        "\n",
        "    return np.nan  # Diğer tüm durumlar için\n",
        "\n",
        "df_audit_B3[\"Статус Доставка\"] = df_audit_B3.apply(hesapla_status_delivery, axis=1)"
      ],
      "metadata": {
        "id": "meukAM81vR3l"
      },
      "execution_count": 297,
      "outputs": []
    },
    {
      "cell_type": "code",
      "source": [
        "def status_analog(row):\n",
        "    # Ön kontrol: Zаявка ve Позиция заявки aynı mı?\n",
        "    if row[\"Заявка_x\"] == row[\"Заявка_y\"] and row[\"Позиция заявки_x\"] == row[\"Позиция заявки_y\"]:\n",
        "        if row[\"Материал_ВЗ\"] == row[\"Материал_ЗП\"]:\n",
        "            return \"Оригинал\"\n",
        "        else:\n",
        "            return \"аналог\"\n",
        "    else:\n",
        "        return np.nan  # Eşleşme yoksa\n",
        "\n",
        "\n",
        "# Yeni sütunu ekle\n",
        "df_audit_B3[\"Оригинал или аналог\"] = df_audit_B3.apply(status_analog, axis=1)"
      ],
      "metadata": {
        "id": "LiC2G2Kr7ZO5"
      },
      "execution_count": 313,
      "outputs": []
    },
    {
      "cell_type": "code",
      "source": [
        "#df_audit_B3[df_audit_B3[\"Оригинал или аналог\"] == Nan]\n",
        "#df_audit_B3[df_audit_B3[\"статус PO\"]== \"Нет PO\"]\n"
      ],
      "metadata": {
        "id": "s0ftPNpK1f4M",
        "outputId": "a973725f-2367-4804-bf63-ca4df46b414e",
        "colab": {
          "base_uri": "https://localhost:8080/",
          "height": 652
        }
      },
      "execution_count": 323,
      "outputs": [
        {
          "output_type": "execute_result",
          "data": {
            "text/plain": [
              "       Год_x    Заявка_x Позиция заявки_x Материал_ВЗ  Индикатор удаления_x  \\\n",
              "2       2022  2200000001               10  4500175400                 False   \n",
              "3       2022  2200000002               10  4500175400                  True   \n",
              "4       2022  2200000003               10  4500125081                 False   \n",
              "5       2022  2200000004               10  4500074739                 False   \n",
              "6       2022  2200000004               70  4500081326                 False   \n",
              "...      ...         ...              ...         ...                   ...   \n",
              "351499  2025  9900000669            11470  4500468247                 False   \n",
              "351500  2025  9900000669            11480  4500468249                 False   \n",
              "351501  2025  9900000669            11490  4500468250                 False   \n",
              "351502  2025  9900000669            11500  4500468251                 False   \n",
              "351503  2025  9900000669            11510  4500468252                 False   \n",
              "\n",
              "       Затребовал Индик. выдачи Дата заявки Группа закупок Дата изменения  \\\n",
              "2           PMC01             2  2022-07-05            C06     2022-07-23   \n",
              "3           PMC01             X  2022-07-06            T01     2022-07-06   \n",
              "4           PMC01             2  2022-07-08            C06     2022-07-23   \n",
              "5           PME01             2  2022-07-13            T01     2023-02-24   \n",
              "6           PME01             2  2022-07-13            T01     2023-02-24   \n",
              "...           ...           ...         ...            ...            ...   \n",
              "351499      DUMMY           NaN  2025-01-02              1     2025-01-02   \n",
              "351500      DUMMY           NaN  2025-01-02              1     2025-01-02   \n",
              "351501      DUMMY           NaN  2025-01-02              1     2025-01-02   \n",
              "351502      DUMMY           NaN  2025-01-02              1     2025-01-02   \n",
              "351503      DUMMY           NaN  2025-01-02              1     2025-01-02   \n",
              "\n",
              "        ... Объем заказа еще поставить (количество) Складская ЕИ  \\\n",
              "2       ...          NaN                        NaN          NaN   \n",
              "3       ...          NaN                        NaN          NaN   \n",
              "4       ...          NaN                        NaN          NaN   \n",
              "5       ...          NaN                        NaN          NaN   \n",
              "6       ...          NaN                        NaN          NaN   \n",
              "...     ...          ...                        ...          ...   \n",
              "351499  ...          NaN                        NaN          NaN   \n",
              "351500  ...          NaN                        NaN          NaN   \n",
              "351501  ...          NaN                        NaN          NaN   \n",
              "351502  ...          NaN                        NaN          NaN   \n",
              "351503  ...          NaN                        NaN          NaN   \n",
              "\n",
              "        Еще для поставки (стоимость)  Валюта  Вид докум. закупки статус PO  \\\n",
              "2                                NaN     NaN                 NaN    Нет PO   \n",
              "3                                NaN     NaN                 NaN    Нет PO   \n",
              "4                                NaN     NaN                 NaN    Нет PO   \n",
              "5                                NaN     NaN                 NaN    Нет PO   \n",
              "6                                NaN     NaN                 NaN    Нет PO   \n",
              "...                              ...     ...                 ...       ...   \n",
              "351499                           NaN     NaN                 NaN    Нет PO   \n",
              "351500                           NaN     NaN                 NaN    Нет PO   \n",
              "351501                           NaN     NaN                 NaN    Нет PO   \n",
              "351502                           NaN     NaN                 NaN    Нет PO   \n",
              "351503                           NaN     NaN                 NaN    Нет PO   \n",
              "\n",
              "       Статус количества заказа Статус Доставка Оригинал или аналог  \n",
              "2                           NaN             NaN                 NaN  \n",
              "3                           NaN             NaN                 NaN  \n",
              "4                           NaN             NaN                 NaN  \n",
              "5                           NaN             NaN                 NaN  \n",
              "6                           NaN             NaN                 NaN  \n",
              "...                         ...             ...                 ...  \n",
              "351499                      NaN             NaN                 NaN  \n",
              "351500                      NaN             NaN                 NaN  \n",
              "351501                      NaN             NaN                 NaN  \n",
              "351502                      NaN             NaN                 NaN  \n",
              "351503                      NaN             NaN                 NaN  \n",
              "\n",
              "[109328 rows x 70 columns]"
            ],
            "text/html": [
              "\n",
              "  <div id=\"df-e7549332-cec9-4f9b-bed6-2cb9f4d786f0\" class=\"colab-df-container\">\n",
              "    <div>\n",
              "<style scoped>\n",
              "    .dataframe tbody tr th:only-of-type {\n",
              "        vertical-align: middle;\n",
              "    }\n",
              "\n",
              "    .dataframe tbody tr th {\n",
              "        vertical-align: top;\n",
              "    }\n",
              "\n",
              "    .dataframe thead th {\n",
              "        text-align: right;\n",
              "    }\n",
              "</style>\n",
              "<table border=\"1\" class=\"dataframe\">\n",
              "  <thead>\n",
              "    <tr style=\"text-align: right;\">\n",
              "      <th></th>\n",
              "      <th>Год_x</th>\n",
              "      <th>Заявка_x</th>\n",
              "      <th>Позиция заявки_x</th>\n",
              "      <th>Материал_ВЗ</th>\n",
              "      <th>Индикатор удаления_x</th>\n",
              "      <th>Затребовал</th>\n",
              "      <th>Индик. выдачи</th>\n",
              "      <th>Дата заявки</th>\n",
              "      <th>Группа закупок</th>\n",
              "      <th>Дата изменения</th>\n",
              "      <th>...</th>\n",
              "      <th>Объем заказа</th>\n",
              "      <th>еще поставить (количество)</th>\n",
              "      <th>Складская ЕИ</th>\n",
              "      <th>Еще для поставки (стоимость)</th>\n",
              "      <th>Валюта</th>\n",
              "      <th>Вид докум. закупки</th>\n",
              "      <th>статус PO</th>\n",
              "      <th>Статус количества заказа</th>\n",
              "      <th>Статус Доставка</th>\n",
              "      <th>Оригинал или аналог</th>\n",
              "    </tr>\n",
              "  </thead>\n",
              "  <tbody>\n",
              "    <tr>\n",
              "      <th>2</th>\n",
              "      <td>2022</td>\n",
              "      <td>2200000001</td>\n",
              "      <td>10</td>\n",
              "      <td>4500175400</td>\n",
              "      <td>False</td>\n",
              "      <td>PMC01</td>\n",
              "      <td>2</td>\n",
              "      <td>2022-07-05</td>\n",
              "      <td>C06</td>\n",
              "      <td>2022-07-23</td>\n",
              "      <td>...</td>\n",
              "      <td>NaN</td>\n",
              "      <td>NaN</td>\n",
              "      <td>NaN</td>\n",
              "      <td>NaN</td>\n",
              "      <td>NaN</td>\n",
              "      <td>NaN</td>\n",
              "      <td>Нет PO</td>\n",
              "      <td>NaN</td>\n",
              "      <td>NaN</td>\n",
              "      <td>NaN</td>\n",
              "    </tr>\n",
              "    <tr>\n",
              "      <th>3</th>\n",
              "      <td>2022</td>\n",
              "      <td>2200000002</td>\n",
              "      <td>10</td>\n",
              "      <td>4500175400</td>\n",
              "      <td>True</td>\n",
              "      <td>PMC01</td>\n",
              "      <td>X</td>\n",
              "      <td>2022-07-06</td>\n",
              "      <td>T01</td>\n",
              "      <td>2022-07-06</td>\n",
              "      <td>...</td>\n",
              "      <td>NaN</td>\n",
              "      <td>NaN</td>\n",
              "      <td>NaN</td>\n",
              "      <td>NaN</td>\n",
              "      <td>NaN</td>\n",
              "      <td>NaN</td>\n",
              "      <td>Нет PO</td>\n",
              "      <td>NaN</td>\n",
              "      <td>NaN</td>\n",
              "      <td>NaN</td>\n",
              "    </tr>\n",
              "    <tr>\n",
              "      <th>4</th>\n",
              "      <td>2022</td>\n",
              "      <td>2200000003</td>\n",
              "      <td>10</td>\n",
              "      <td>4500125081</td>\n",
              "      <td>False</td>\n",
              "      <td>PMC01</td>\n",
              "      <td>2</td>\n",
              "      <td>2022-07-08</td>\n",
              "      <td>C06</td>\n",
              "      <td>2022-07-23</td>\n",
              "      <td>...</td>\n",
              "      <td>NaN</td>\n",
              "      <td>NaN</td>\n",
              "      <td>NaN</td>\n",
              "      <td>NaN</td>\n",
              "      <td>NaN</td>\n",
              "      <td>NaN</td>\n",
              "      <td>Нет PO</td>\n",
              "      <td>NaN</td>\n",
              "      <td>NaN</td>\n",
              "      <td>NaN</td>\n",
              "    </tr>\n",
              "    <tr>\n",
              "      <th>5</th>\n",
              "      <td>2022</td>\n",
              "      <td>2200000004</td>\n",
              "      <td>10</td>\n",
              "      <td>4500074739</td>\n",
              "      <td>False</td>\n",
              "      <td>PME01</td>\n",
              "      <td>2</td>\n",
              "      <td>2022-07-13</td>\n",
              "      <td>T01</td>\n",
              "      <td>2023-02-24</td>\n",
              "      <td>...</td>\n",
              "      <td>NaN</td>\n",
              "      <td>NaN</td>\n",
              "      <td>NaN</td>\n",
              "      <td>NaN</td>\n",
              "      <td>NaN</td>\n",
              "      <td>NaN</td>\n",
              "      <td>Нет PO</td>\n",
              "      <td>NaN</td>\n",
              "      <td>NaN</td>\n",
              "      <td>NaN</td>\n",
              "    </tr>\n",
              "    <tr>\n",
              "      <th>6</th>\n",
              "      <td>2022</td>\n",
              "      <td>2200000004</td>\n",
              "      <td>70</td>\n",
              "      <td>4500081326</td>\n",
              "      <td>False</td>\n",
              "      <td>PME01</td>\n",
              "      <td>2</td>\n",
              "      <td>2022-07-13</td>\n",
              "      <td>T01</td>\n",
              "      <td>2023-02-24</td>\n",
              "      <td>...</td>\n",
              "      <td>NaN</td>\n",
              "      <td>NaN</td>\n",
              "      <td>NaN</td>\n",
              "      <td>NaN</td>\n",
              "      <td>NaN</td>\n",
              "      <td>NaN</td>\n",
              "      <td>Нет PO</td>\n",
              "      <td>NaN</td>\n",
              "      <td>NaN</td>\n",
              "      <td>NaN</td>\n",
              "    </tr>\n",
              "    <tr>\n",
              "      <th>...</th>\n",
              "      <td>...</td>\n",
              "      <td>...</td>\n",
              "      <td>...</td>\n",
              "      <td>...</td>\n",
              "      <td>...</td>\n",
              "      <td>...</td>\n",
              "      <td>...</td>\n",
              "      <td>...</td>\n",
              "      <td>...</td>\n",
              "      <td>...</td>\n",
              "      <td>...</td>\n",
              "      <td>...</td>\n",
              "      <td>...</td>\n",
              "      <td>...</td>\n",
              "      <td>...</td>\n",
              "      <td>...</td>\n",
              "      <td>...</td>\n",
              "      <td>...</td>\n",
              "      <td>...</td>\n",
              "      <td>...</td>\n",
              "      <td>...</td>\n",
              "    </tr>\n",
              "    <tr>\n",
              "      <th>351499</th>\n",
              "      <td>2025</td>\n",
              "      <td>9900000669</td>\n",
              "      <td>11470</td>\n",
              "      <td>4500468247</td>\n",
              "      <td>False</td>\n",
              "      <td>DUMMY</td>\n",
              "      <td>NaN</td>\n",
              "      <td>2025-01-02</td>\n",
              "      <td>1</td>\n",
              "      <td>2025-01-02</td>\n",
              "      <td>...</td>\n",
              "      <td>NaN</td>\n",
              "      <td>NaN</td>\n",
              "      <td>NaN</td>\n",
              "      <td>NaN</td>\n",
              "      <td>NaN</td>\n",
              "      <td>NaN</td>\n",
              "      <td>Нет PO</td>\n",
              "      <td>NaN</td>\n",
              "      <td>NaN</td>\n",
              "      <td>NaN</td>\n",
              "    </tr>\n",
              "    <tr>\n",
              "      <th>351500</th>\n",
              "      <td>2025</td>\n",
              "      <td>9900000669</td>\n",
              "      <td>11480</td>\n",
              "      <td>4500468249</td>\n",
              "      <td>False</td>\n",
              "      <td>DUMMY</td>\n",
              "      <td>NaN</td>\n",
              "      <td>2025-01-02</td>\n",
              "      <td>1</td>\n",
              "      <td>2025-01-02</td>\n",
              "      <td>...</td>\n",
              "      <td>NaN</td>\n",
              "      <td>NaN</td>\n",
              "      <td>NaN</td>\n",
              "      <td>NaN</td>\n",
              "      <td>NaN</td>\n",
              "      <td>NaN</td>\n",
              "      <td>Нет PO</td>\n",
              "      <td>NaN</td>\n",
              "      <td>NaN</td>\n",
              "      <td>NaN</td>\n",
              "    </tr>\n",
              "    <tr>\n",
              "      <th>351501</th>\n",
              "      <td>2025</td>\n",
              "      <td>9900000669</td>\n",
              "      <td>11490</td>\n",
              "      <td>4500468250</td>\n",
              "      <td>False</td>\n",
              "      <td>DUMMY</td>\n",
              "      <td>NaN</td>\n",
              "      <td>2025-01-02</td>\n",
              "      <td>1</td>\n",
              "      <td>2025-01-02</td>\n",
              "      <td>...</td>\n",
              "      <td>NaN</td>\n",
              "      <td>NaN</td>\n",
              "      <td>NaN</td>\n",
              "      <td>NaN</td>\n",
              "      <td>NaN</td>\n",
              "      <td>NaN</td>\n",
              "      <td>Нет PO</td>\n",
              "      <td>NaN</td>\n",
              "      <td>NaN</td>\n",
              "      <td>NaN</td>\n",
              "    </tr>\n",
              "    <tr>\n",
              "      <th>351502</th>\n",
              "      <td>2025</td>\n",
              "      <td>9900000669</td>\n",
              "      <td>11500</td>\n",
              "      <td>4500468251</td>\n",
              "      <td>False</td>\n",
              "      <td>DUMMY</td>\n",
              "      <td>NaN</td>\n",
              "      <td>2025-01-02</td>\n",
              "      <td>1</td>\n",
              "      <td>2025-01-02</td>\n",
              "      <td>...</td>\n",
              "      <td>NaN</td>\n",
              "      <td>NaN</td>\n",
              "      <td>NaN</td>\n",
              "      <td>NaN</td>\n",
              "      <td>NaN</td>\n",
              "      <td>NaN</td>\n",
              "      <td>Нет PO</td>\n",
              "      <td>NaN</td>\n",
              "      <td>NaN</td>\n",
              "      <td>NaN</td>\n",
              "    </tr>\n",
              "    <tr>\n",
              "      <th>351503</th>\n",
              "      <td>2025</td>\n",
              "      <td>9900000669</td>\n",
              "      <td>11510</td>\n",
              "      <td>4500468252</td>\n",
              "      <td>False</td>\n",
              "      <td>DUMMY</td>\n",
              "      <td>NaN</td>\n",
              "      <td>2025-01-02</td>\n",
              "      <td>1</td>\n",
              "      <td>2025-01-02</td>\n",
              "      <td>...</td>\n",
              "      <td>NaN</td>\n",
              "      <td>NaN</td>\n",
              "      <td>NaN</td>\n",
              "      <td>NaN</td>\n",
              "      <td>NaN</td>\n",
              "      <td>NaN</td>\n",
              "      <td>Нет PO</td>\n",
              "      <td>NaN</td>\n",
              "      <td>NaN</td>\n",
              "      <td>NaN</td>\n",
              "    </tr>\n",
              "  </tbody>\n",
              "</table>\n",
              "<p>109328 rows × 70 columns</p>\n",
              "</div>\n",
              "    <div class=\"colab-df-buttons\">\n",
              "\n",
              "  <div class=\"colab-df-container\">\n",
              "    <button class=\"colab-df-convert\" onclick=\"convertToInteractive('df-e7549332-cec9-4f9b-bed6-2cb9f4d786f0')\"\n",
              "            title=\"Convert this dataframe to an interactive table.\"\n",
              "            style=\"display:none;\">\n",
              "\n",
              "  <svg xmlns=\"http://www.w3.org/2000/svg\" height=\"24px\" viewBox=\"0 -960 960 960\">\n",
              "    <path d=\"M120-120v-720h720v720H120Zm60-500h600v-160H180v160Zm220 220h160v-160H400v160Zm0 220h160v-160H400v160ZM180-400h160v-160H180v160Zm440 0h160v-160H620v160ZM180-180h160v-160H180v160Zm440 0h160v-160H620v160Z\"/>\n",
              "  </svg>\n",
              "    </button>\n",
              "\n",
              "  <style>\n",
              "    .colab-df-container {\n",
              "      display:flex;\n",
              "      gap: 12px;\n",
              "    }\n",
              "\n",
              "    .colab-df-convert {\n",
              "      background-color: #E8F0FE;\n",
              "      border: none;\n",
              "      border-radius: 50%;\n",
              "      cursor: pointer;\n",
              "      display: none;\n",
              "      fill: #1967D2;\n",
              "      height: 32px;\n",
              "      padding: 0 0 0 0;\n",
              "      width: 32px;\n",
              "    }\n",
              "\n",
              "    .colab-df-convert:hover {\n",
              "      background-color: #E2EBFA;\n",
              "      box-shadow: 0px 1px 2px rgba(60, 64, 67, 0.3), 0px 1px 3px 1px rgba(60, 64, 67, 0.15);\n",
              "      fill: #174EA6;\n",
              "    }\n",
              "\n",
              "    .colab-df-buttons div {\n",
              "      margin-bottom: 4px;\n",
              "    }\n",
              "\n",
              "    [theme=dark] .colab-df-convert {\n",
              "      background-color: #3B4455;\n",
              "      fill: #D2E3FC;\n",
              "    }\n",
              "\n",
              "    [theme=dark] .colab-df-convert:hover {\n",
              "      background-color: #434B5C;\n",
              "      box-shadow: 0px 1px 3px 1px rgba(0, 0, 0, 0.15);\n",
              "      filter: drop-shadow(0px 1px 2px rgba(0, 0, 0, 0.3));\n",
              "      fill: #FFFFFF;\n",
              "    }\n",
              "  </style>\n",
              "\n",
              "    <script>\n",
              "      const buttonEl =\n",
              "        document.querySelector('#df-e7549332-cec9-4f9b-bed6-2cb9f4d786f0 button.colab-df-convert');\n",
              "      buttonEl.style.display =\n",
              "        google.colab.kernel.accessAllowed ? 'block' : 'none';\n",
              "\n",
              "      async function convertToInteractive(key) {\n",
              "        const element = document.querySelector('#df-e7549332-cec9-4f9b-bed6-2cb9f4d786f0');\n",
              "        const dataTable =\n",
              "          await google.colab.kernel.invokeFunction('convertToInteractive',\n",
              "                                                    [key], {});\n",
              "        if (!dataTable) return;\n",
              "\n",
              "        const docLinkHtml = 'Like what you see? Visit the ' +\n",
              "          '<a target=\"_blank\" href=https://colab.research.google.com/notebooks/data_table.ipynb>data table notebook</a>'\n",
              "          + ' to learn more about interactive tables.';\n",
              "        element.innerHTML = '';\n",
              "        dataTable['output_type'] = 'display_data';\n",
              "        await google.colab.output.renderOutput(dataTable, element);\n",
              "        const docLink = document.createElement('div');\n",
              "        docLink.innerHTML = docLinkHtml;\n",
              "        element.appendChild(docLink);\n",
              "      }\n",
              "    </script>\n",
              "  </div>\n",
              "\n",
              "\n",
              "    <div id=\"df-e39ced96-7f29-4ba5-8ad6-88fbe8ecd28b\">\n",
              "      <button class=\"colab-df-quickchart\" onclick=\"quickchart('df-e39ced96-7f29-4ba5-8ad6-88fbe8ecd28b')\"\n",
              "                title=\"Suggest charts\"\n",
              "                style=\"display:none;\">\n",
              "\n",
              "<svg xmlns=\"http://www.w3.org/2000/svg\" height=\"24px\"viewBox=\"0 0 24 24\"\n",
              "     width=\"24px\">\n",
              "    <g>\n",
              "        <path d=\"M19 3H5c-1.1 0-2 .9-2 2v14c0 1.1.9 2 2 2h14c1.1 0 2-.9 2-2V5c0-1.1-.9-2-2-2zM9 17H7v-7h2v7zm4 0h-2V7h2v10zm4 0h-2v-4h2v4z\"/>\n",
              "    </g>\n",
              "</svg>\n",
              "      </button>\n",
              "\n",
              "<style>\n",
              "  .colab-df-quickchart {\n",
              "      --bg-color: #E8F0FE;\n",
              "      --fill-color: #1967D2;\n",
              "      --hover-bg-color: #E2EBFA;\n",
              "      --hover-fill-color: #174EA6;\n",
              "      --disabled-fill-color: #AAA;\n",
              "      --disabled-bg-color: #DDD;\n",
              "  }\n",
              "\n",
              "  [theme=dark] .colab-df-quickchart {\n",
              "      --bg-color: #3B4455;\n",
              "      --fill-color: #D2E3FC;\n",
              "      --hover-bg-color: #434B5C;\n",
              "      --hover-fill-color: #FFFFFF;\n",
              "      --disabled-bg-color: #3B4455;\n",
              "      --disabled-fill-color: #666;\n",
              "  }\n",
              "\n",
              "  .colab-df-quickchart {\n",
              "    background-color: var(--bg-color);\n",
              "    border: none;\n",
              "    border-radius: 50%;\n",
              "    cursor: pointer;\n",
              "    display: none;\n",
              "    fill: var(--fill-color);\n",
              "    height: 32px;\n",
              "    padding: 0;\n",
              "    width: 32px;\n",
              "  }\n",
              "\n",
              "  .colab-df-quickchart:hover {\n",
              "    background-color: var(--hover-bg-color);\n",
              "    box-shadow: 0 1px 2px rgba(60, 64, 67, 0.3), 0 1px 3px 1px rgba(60, 64, 67, 0.15);\n",
              "    fill: var(--button-hover-fill-color);\n",
              "  }\n",
              "\n",
              "  .colab-df-quickchart-complete:disabled,\n",
              "  .colab-df-quickchart-complete:disabled:hover {\n",
              "    background-color: var(--disabled-bg-color);\n",
              "    fill: var(--disabled-fill-color);\n",
              "    box-shadow: none;\n",
              "  }\n",
              "\n",
              "  .colab-df-spinner {\n",
              "    border: 2px solid var(--fill-color);\n",
              "    border-color: transparent;\n",
              "    border-bottom-color: var(--fill-color);\n",
              "    animation:\n",
              "      spin 1s steps(1) infinite;\n",
              "  }\n",
              "\n",
              "  @keyframes spin {\n",
              "    0% {\n",
              "      border-color: transparent;\n",
              "      border-bottom-color: var(--fill-color);\n",
              "      border-left-color: var(--fill-color);\n",
              "    }\n",
              "    20% {\n",
              "      border-color: transparent;\n",
              "      border-left-color: var(--fill-color);\n",
              "      border-top-color: var(--fill-color);\n",
              "    }\n",
              "    30% {\n",
              "      border-color: transparent;\n",
              "      border-left-color: var(--fill-color);\n",
              "      border-top-color: var(--fill-color);\n",
              "      border-right-color: var(--fill-color);\n",
              "    }\n",
              "    40% {\n",
              "      border-color: transparent;\n",
              "      border-right-color: var(--fill-color);\n",
              "      border-top-color: var(--fill-color);\n",
              "    }\n",
              "    60% {\n",
              "      border-color: transparent;\n",
              "      border-right-color: var(--fill-color);\n",
              "    }\n",
              "    80% {\n",
              "      border-color: transparent;\n",
              "      border-right-color: var(--fill-color);\n",
              "      border-bottom-color: var(--fill-color);\n",
              "    }\n",
              "    90% {\n",
              "      border-color: transparent;\n",
              "      border-bottom-color: var(--fill-color);\n",
              "    }\n",
              "  }\n",
              "</style>\n",
              "\n",
              "      <script>\n",
              "        async function quickchart(key) {\n",
              "          const quickchartButtonEl =\n",
              "            document.querySelector('#' + key + ' button');\n",
              "          quickchartButtonEl.disabled = true;  // To prevent multiple clicks.\n",
              "          quickchartButtonEl.classList.add('colab-df-spinner');\n",
              "          try {\n",
              "            const charts = await google.colab.kernel.invokeFunction(\n",
              "                'suggestCharts', [key], {});\n",
              "          } catch (error) {\n",
              "            console.error('Error during call to suggestCharts:', error);\n",
              "          }\n",
              "          quickchartButtonEl.classList.remove('colab-df-spinner');\n",
              "          quickchartButtonEl.classList.add('colab-df-quickchart-complete');\n",
              "        }\n",
              "        (() => {\n",
              "          let quickchartButtonEl =\n",
              "            document.querySelector('#df-e39ced96-7f29-4ba5-8ad6-88fbe8ecd28b button');\n",
              "          quickchartButtonEl.style.display =\n",
              "            google.colab.kernel.accessAllowed ? 'block' : 'none';\n",
              "        })();\n",
              "      </script>\n",
              "    </div>\n",
              "\n",
              "    </div>\n",
              "  </div>\n"
            ],
            "application/vnd.google.colaboratory.intrinsic+json": {
              "type": "dataframe"
            }
          },
          "metadata": {},
          "execution_count": 323
        }
      ]
    },
    {
      "cell_type": "code",
      "source": [
        "# Almak istediğin sütunları liste olarak tanımla\n",
        "secilecek_sutunlar = [\n",
        "    \"Veri_Kaynagi1\",\n",
        "    \"Год_x\",\n",
        "    \"Заявка_x\",\n",
        "    \"Позиция заявки_x\",\n",
        "    \"Индикатор удаления_x\",\n",
        "    \"Затребовал\",\n",
        "    \"Индик. выдачи\",\n",
        "    \"Дата заявки\",\n",
        "    \"Группа закупок\",\n",
        "    \"RU Наименование\",\n",
        "    \"TR Наименование\",\n",
        "    \"ЗатребованКолич\",\n",
        "    \"Единица измерения\",\n",
        "    \"Инвентарный номер_x\",\n",
        "    \"Закуп. организация_x\",\n",
        "    \"Номер проекта\",\n",
        "    \"Группа материалов\",\n",
        "    \"Вид документа\",\n",
        "    \"Veri_Kaynagi2\",\n",
        "    \"Год_y\",\n",
        "    \"Документ_закупки_y\",\n",
        "    \"ЗП_Позиция_y\",\n",
        "    \"Дата документа\",\n",
        "    \"статус PO\",\n",
        "    \"Статус количества заказа\",\n",
        "    \"Статус Доставка\",\n",
        "    \"Оригинал или аналог\",\n",
        "    \"RU Наименование\",\n",
        "    \"TR Наименование\",\n",
        "    \"Создал_y\",\n",
        "    \"Индикатор удаления_y\",\n",
        "    \"Наш знак\",\n",
        "    \"Ваш код\",\n",
        "    \"Имя поставщика\",\n",
        "    \"Закуп. организация_y\",\n",
        "    \"Объем заказа\",\n",
        "    \"еще поставить (количество)\",\n",
        "    \"Складская ЕИ\",\n",
        "    \"Еще для поставки (стоимость)\",\n",
        "    \"Валюта\",\n",
        "\n",
        "\n",
        "]\n",
        "\n",
        "# 2. Bu sütunları kullanarak yeni DataFrame oluştur\n",
        "df_yazdır_audit_B3 = df_audit_B3[secilecek_sutunlar].copy()\n"
      ],
      "metadata": {
        "id": "eYWZVZKE7BUe"
      },
      "execution_count": 324,
      "outputs": []
    },
    {
      "cell_type": "code",
      "source": [
        "df_audit_B3.to_excel(\"audit_B3_basetable.xlsx\", index=False, engine=\"xlsxwriter\")\n",
        "df_yazdır_audit_B3.to_excel(\"audit_B3.xlsx\", index=False, engine=\"xlsxwriter\")\n",
        "df_me2n_2022_2025_zp_bez_vz.to_excel(\"zp_bez_vz_2022_2025.xlsx\", index=False, engine=\"xlsxwriter\")"
      ],
      "metadata": {
        "id": "ROIcdBJpgYPW"
      },
      "execution_count": 325,
      "outputs": []
    },
    {
      "cell_type": "code",
      "source": [
        "files.download(\"audit_B3_basetable.xlsx\")\n",
        "files.download(\"audit_B3.xlsx\")\n",
        "files.download(\"zp_bez_vz_2022_2025.xlsx\")"
      ],
      "metadata": {
        "id": "wTihC4Z8gYM2",
        "outputId": "068f8f70-b4a0-4e5c-f7c4-4965692145f2",
        "colab": {
          "base_uri": "https://localhost:8080/",
          "height": 17
        }
      },
      "execution_count": 326,
      "outputs": [
        {
          "output_type": "display_data",
          "data": {
            "text/plain": [
              "<IPython.core.display.Javascript object>"
            ],
            "application/javascript": [
              "\n",
              "    async function download(id, filename, size) {\n",
              "      if (!google.colab.kernel.accessAllowed) {\n",
              "        return;\n",
              "      }\n",
              "      const div = document.createElement('div');\n",
              "      const label = document.createElement('label');\n",
              "      label.textContent = `Downloading \"${filename}\": `;\n",
              "      div.appendChild(label);\n",
              "      const progress = document.createElement('progress');\n",
              "      progress.max = size;\n",
              "      div.appendChild(progress);\n",
              "      document.body.appendChild(div);\n",
              "\n",
              "      const buffers = [];\n",
              "      let downloaded = 0;\n",
              "\n",
              "      const channel = await google.colab.kernel.comms.open(id);\n",
              "      // Send a message to notify the kernel that we're ready.\n",
              "      channel.send({})\n",
              "\n",
              "      for await (const message of channel.messages) {\n",
              "        // Send a message to notify the kernel that we're ready.\n",
              "        channel.send({})\n",
              "        if (message.buffers) {\n",
              "          for (const buffer of message.buffers) {\n",
              "            buffers.push(buffer);\n",
              "            downloaded += buffer.byteLength;\n",
              "            progress.value = downloaded;\n",
              "          }\n",
              "        }\n",
              "      }\n",
              "      const blob = new Blob(buffers, {type: 'application/binary'});\n",
              "      const a = document.createElement('a');\n",
              "      a.href = window.URL.createObjectURL(blob);\n",
              "      a.download = filename;\n",
              "      div.appendChild(a);\n",
              "      a.click();\n",
              "      div.remove();\n",
              "    }\n",
              "  "
            ]
          },
          "metadata": {}
        },
        {
          "output_type": "display_data",
          "data": {
            "text/plain": [
              "<IPython.core.display.Javascript object>"
            ],
            "application/javascript": [
              "download(\"download_8d820dca-0ba4-4712-8c6b-5f36b4b3623c\", \"audit_B3_basetable.xlsx\", 83558817)"
            ]
          },
          "metadata": {}
        },
        {
          "output_type": "display_data",
          "data": {
            "text/plain": [
              "<IPython.core.display.Javascript object>"
            ],
            "application/javascript": [
              "\n",
              "    async function download(id, filename, size) {\n",
              "      if (!google.colab.kernel.accessAllowed) {\n",
              "        return;\n",
              "      }\n",
              "      const div = document.createElement('div');\n",
              "      const label = document.createElement('label');\n",
              "      label.textContent = `Downloading \"${filename}\": `;\n",
              "      div.appendChild(label);\n",
              "      const progress = document.createElement('progress');\n",
              "      progress.max = size;\n",
              "      div.appendChild(progress);\n",
              "      document.body.appendChild(div);\n",
              "\n",
              "      const buffers = [];\n",
              "      let downloaded = 0;\n",
              "\n",
              "      const channel = await google.colab.kernel.comms.open(id);\n",
              "      // Send a message to notify the kernel that we're ready.\n",
              "      channel.send({})\n",
              "\n",
              "      for await (const message of channel.messages) {\n",
              "        // Send a message to notify the kernel that we're ready.\n",
              "        channel.send({})\n",
              "        if (message.buffers) {\n",
              "          for (const buffer of message.buffers) {\n",
              "            buffers.push(buffer);\n",
              "            downloaded += buffer.byteLength;\n",
              "            progress.value = downloaded;\n",
              "          }\n",
              "        }\n",
              "      }\n",
              "      const blob = new Blob(buffers, {type: 'application/binary'});\n",
              "      const a = document.createElement('a');\n",
              "      a.href = window.URL.createObjectURL(blob);\n",
              "      a.download = filename;\n",
              "      div.appendChild(a);\n",
              "      a.click();\n",
              "      div.remove();\n",
              "    }\n",
              "  "
            ]
          },
          "metadata": {}
        },
        {
          "output_type": "display_data",
          "data": {
            "text/plain": [
              "<IPython.core.display.Javascript object>"
            ],
            "application/javascript": [
              "download(\"download_f1899476-267f-4caf-bb33-70731acd5371\", \"audit_B3.xlsx\", 46298669)"
            ]
          },
          "metadata": {}
        },
        {
          "output_type": "display_data",
          "data": {
            "text/plain": [
              "<IPython.core.display.Javascript object>"
            ],
            "application/javascript": [
              "\n",
              "    async function download(id, filename, size) {\n",
              "      if (!google.colab.kernel.accessAllowed) {\n",
              "        return;\n",
              "      }\n",
              "      const div = document.createElement('div');\n",
              "      const label = document.createElement('label');\n",
              "      label.textContent = `Downloading \"${filename}\": `;\n",
              "      div.appendChild(label);\n",
              "      const progress = document.createElement('progress');\n",
              "      progress.max = size;\n",
              "      div.appendChild(progress);\n",
              "      document.body.appendChild(div);\n",
              "\n",
              "      const buffers = [];\n",
              "      let downloaded = 0;\n",
              "\n",
              "      const channel = await google.colab.kernel.comms.open(id);\n",
              "      // Send a message to notify the kernel that we're ready.\n",
              "      channel.send({})\n",
              "\n",
              "      for await (const message of channel.messages) {\n",
              "        // Send a message to notify the kernel that we're ready.\n",
              "        channel.send({})\n",
              "        if (message.buffers) {\n",
              "          for (const buffer of message.buffers) {\n",
              "            buffers.push(buffer);\n",
              "            downloaded += buffer.byteLength;\n",
              "            progress.value = downloaded;\n",
              "          }\n",
              "        }\n",
              "      }\n",
              "      const blob = new Blob(buffers, {type: 'application/binary'});\n",
              "      const a = document.createElement('a');\n",
              "      a.href = window.URL.createObjectURL(blob);\n",
              "      a.download = filename;\n",
              "      div.appendChild(a);\n",
              "      a.click();\n",
              "      div.remove();\n",
              "    }\n",
              "  "
            ]
          },
          "metadata": {}
        },
        {
          "output_type": "display_data",
          "data": {
            "text/plain": [
              "<IPython.core.display.Javascript object>"
            ],
            "application/javascript": [
              "download(\"download_0870dbb5-9935-485f-baf8-803e5243f2e8\", \"zp_bez_vz_2022_2025.xlsx\", 1834704)"
            ]
          },
          "metadata": {}
        }
      ]
    },
    {
      "cell_type": "code",
      "source": [],
      "metadata": {
        "id": "eTC0LrpigYEf"
      },
      "execution_count": null,
      "outputs": []
    },
    {
      "cell_type": "code",
      "source": [
        "#df_me2n_2022_2025_zp_bez_vz.to_excel(\"zp_bez_vz_2022_2025.xlsx\", index=False, engine=\"xlsxwriter\")"
      ],
      "metadata": {
        "id": "MQe72mLjra5b"
      },
      "execution_count": 224,
      "outputs": []
    },
    {
      "cell_type": "code",
      "source": [
        "#files.download(\"zp_bez_vz_2022_2025.xlsx\")"
      ],
      "metadata": {
        "id": "R5MonjLozz12",
        "outputId": "82a807ef-a75b-44e3-b372-591fcd44d4f3",
        "colab": {
          "base_uri": "https://localhost:8080/",
          "height": 17
        }
      },
      "execution_count": 225,
      "outputs": [
        {
          "data": {
            "application/javascript": [
              "\n",
              "    async function download(id, filename, size) {\n",
              "      if (!google.colab.kernel.accessAllowed) {\n",
              "        return;\n",
              "      }\n",
              "      const div = document.createElement('div');\n",
              "      const label = document.createElement('label');\n",
              "      label.textContent = `Downloading \"${filename}\": `;\n",
              "      div.appendChild(label);\n",
              "      const progress = document.createElement('progress');\n",
              "      progress.max = size;\n",
              "      div.appendChild(progress);\n",
              "      document.body.appendChild(div);\n",
              "\n",
              "      const buffers = [];\n",
              "      let downloaded = 0;\n",
              "\n",
              "      const channel = await google.colab.kernel.comms.open(id);\n",
              "      // Send a message to notify the kernel that we're ready.\n",
              "      channel.send({})\n",
              "\n",
              "      for await (const message of channel.messages) {\n",
              "        // Send a message to notify the kernel that we're ready.\n",
              "        channel.send({})\n",
              "        if (message.buffers) {\n",
              "          for (const buffer of message.buffers) {\n",
              "            buffers.push(buffer);\n",
              "            downloaded += buffer.byteLength;\n",
              "            progress.value = downloaded;\n",
              "          }\n",
              "        }\n",
              "      }\n",
              "      const blob = new Blob(buffers, {type: 'application/binary'});\n",
              "      const a = document.createElement('a');\n",
              "      a.href = window.URL.createObjectURL(blob);\n",
              "      a.download = filename;\n",
              "      div.appendChild(a);\n",
              "      a.click();\n",
              "      div.remove();\n",
              "    }\n",
              "  "
            ],
            "text/plain": [
              "<IPython.core.display.Javascript object>"
            ]
          },
          "metadata": {},
          "output_type": "display_data"
        },
        {
          "data": {
            "application/javascript": [
              "download(\"download_4220d4a7-444a-43ea-a3c6-c70c6da2d08c\", \"zp_bez_vz_2022_2025.xlsx\", 2007272)"
            ],
            "text/plain": [
              "<IPython.core.display.Javascript object>"
            ]
          },
          "metadata": {},
          "output_type": "display_data"
        }
      ]
    }
  ],
  "metadata": {
    "colab": {
      "name": "Welcome To Colab",
      "provenance": [],
      "include_colab_link": true
    },
    "kernelspec": {
      "display_name": "Python 3",
      "name": "python3"
    }
  },
  "nbformat": 4,
  "nbformat_minor": 0
}