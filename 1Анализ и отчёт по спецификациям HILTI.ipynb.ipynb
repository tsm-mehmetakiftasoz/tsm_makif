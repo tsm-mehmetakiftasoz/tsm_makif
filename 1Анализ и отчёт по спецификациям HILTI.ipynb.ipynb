{
  "cells": [
    {
      "cell_type": "markdown",
      "metadata": {
        "id": "view-in-github",
        "colab_type": "text"
      },
      "source": [
        "<a href=\"https://colab.research.google.com/github/tsm-mehmetakiftasoz/tsm_makif/blob/main/1%D0%90%D0%BD%D0%B0%D0%BB%D0%B8%D0%B7%20%D0%B8%20%D0%BE%D1%82%D1%87%D1%91%D1%82%20%D0%BF%D0%BE%20%D1%81%D0%BF%D0%B5%D1%86%D0%B8%D1%84%D0%B8%D0%BA%D0%B0%D1%86%D0%B8%D1%8F%D0%BC%20HILTI.ipynb.ipynb\" target=\"_parent\"><img src=\"https://colab.research.google.com/assets/colab-badge.svg\" alt=\"Open In Colab\"/></a>"
      ]
    },
    {
      "cell_type": "markdown",
      "source": [
        "HİLTİ Speklerini incelemek için oluşturuldu. Spek excellerini bir dosyada topla program sizden dosyadan excelleri seçmenizi isteyecek sonra her bir speki tek tek bir structured halde excellere kaydecek ayrıca overall bir df oluşturacak sonra bu df i excele çevirip ekleyecek.  hatalar olduğu zaman program içinde görünecektir ayrıca rapor için bir excel dosyası oluşturup bu hataları görmeni sağlayacak. Raporda oluşturulan ve hata alınan specler ayrıca hatalar  gözükecek /\n",
        "Программа была создана для анализа спецификаций HILTI. Соберите Excel-файлы со спецификациями в одной папке — программа попросит вас выбрать эти файлы. Затем она поочерёдно сохранит каждую спецификацию в структурированном виде в Excel, а также сформирует общий DataFrame, который также будет преобразован в Excel и добавлен.\n",
        "Ошибки, возникшие в процессе, будут отображаться внутри программы. Кроме того, будет создан отдельный Excel-файл для отчёта, в котором вы сможете увидеть эти ошибки. В отчёте будут отображены как успешно обработанные спецификации, так и те, в которых возникли ошибки, а также сами ошибки."
      ],
      "metadata": {
        "id": "87xTRgLmQOg7"
      }
    },
    {
      "cell_type": "code",
      "source": [
        "from google.colab import files\n",
        "import pandas as pd\n",
        "import os\n",
        "import re"
      ],
      "metadata": {
        "id": "uLcaCAyWFCIr"
      },
      "execution_count": null,
      "outputs": []
    },
    {
      "cell_type": "code",
      "source": [
        "# Excel dosyalarını yükleyin\n",
        "uploaded = files.upload()"
      ],
      "metadata": {
        "id": "Un7UBVT6E8EZ",
        "outputId": "be224a5a-5d05-4c7b-fb58-92e0ec2a4ff4",
        "colab": {
          "base_uri": "https://localhost:8080/",
          "height": 1000
        }
      },
      "execution_count": null,
      "outputs": [
        {
          "output_type": "display_data",
          "data": {
            "text/plain": [
              "<IPython.core.display.HTML object>"
            ],
            "text/html": [
              "\n",
              "     <input type=\"file\" id=\"files-591e8532-347b-4ae8-829f-b3138f4591db\" name=\"files[]\" multiple disabled\n",
              "        style=\"border:none\" />\n",
              "     <output id=\"result-591e8532-347b-4ae8-829f-b3138f4591db\">\n",
              "      Upload widget is only available when the cell has been executed in the\n",
              "      current browser session. Please rerun this cell to enable.\n",
              "      </output>\n",
              "      <script>// Copyright 2017 Google LLC\n",
              "//\n",
              "// Licensed under the Apache License, Version 2.0 (the \"License\");\n",
              "// you may not use this file except in compliance with the License.\n",
              "// You may obtain a copy of the License at\n",
              "//\n",
              "//      http://www.apache.org/licenses/LICENSE-2.0\n",
              "//\n",
              "// Unless required by applicable law or agreed to in writing, software\n",
              "// distributed under the License is distributed on an \"AS IS\" BASIS,\n",
              "// WITHOUT WARRANTIES OR CONDITIONS OF ANY KIND, either express or implied.\n",
              "// See the License for the specific language governing permissions and\n",
              "// limitations under the License.\n",
              "\n",
              "/**\n",
              " * @fileoverview Helpers for google.colab Python module.\n",
              " */\n",
              "(function(scope) {\n",
              "function span(text, styleAttributes = {}) {\n",
              "  const element = document.createElement('span');\n",
              "  element.textContent = text;\n",
              "  for (const key of Object.keys(styleAttributes)) {\n",
              "    element.style[key] = styleAttributes[key];\n",
              "  }\n",
              "  return element;\n",
              "}\n",
              "\n",
              "// Max number of bytes which will be uploaded at a time.\n",
              "const MAX_PAYLOAD_SIZE = 100 * 1024;\n",
              "\n",
              "function _uploadFiles(inputId, outputId) {\n",
              "  const steps = uploadFilesStep(inputId, outputId);\n",
              "  const outputElement = document.getElementById(outputId);\n",
              "  // Cache steps on the outputElement to make it available for the next call\n",
              "  // to uploadFilesContinue from Python.\n",
              "  outputElement.steps = steps;\n",
              "\n",
              "  return _uploadFilesContinue(outputId);\n",
              "}\n",
              "\n",
              "// This is roughly an async generator (not supported in the browser yet),\n",
              "// where there are multiple asynchronous steps and the Python side is going\n",
              "// to poll for completion of each step.\n",
              "// This uses a Promise to block the python side on completion of each step,\n",
              "// then passes the result of the previous step as the input to the next step.\n",
              "function _uploadFilesContinue(outputId) {\n",
              "  const outputElement = document.getElementById(outputId);\n",
              "  const steps = outputElement.steps;\n",
              "\n",
              "  const next = steps.next(outputElement.lastPromiseValue);\n",
              "  return Promise.resolve(next.value.promise).then((value) => {\n",
              "    // Cache the last promise value to make it available to the next\n",
              "    // step of the generator.\n",
              "    outputElement.lastPromiseValue = value;\n",
              "    return next.value.response;\n",
              "  });\n",
              "}\n",
              "\n",
              "/**\n",
              " * Generator function which is called between each async step of the upload\n",
              " * process.\n",
              " * @param {string} inputId Element ID of the input file picker element.\n",
              " * @param {string} outputId Element ID of the output display.\n",
              " * @return {!Iterable<!Object>} Iterable of next steps.\n",
              " */\n",
              "function* uploadFilesStep(inputId, outputId) {\n",
              "  const inputElement = document.getElementById(inputId);\n",
              "  inputElement.disabled = false;\n",
              "\n",
              "  const outputElement = document.getElementById(outputId);\n",
              "  outputElement.innerHTML = '';\n",
              "\n",
              "  const pickedPromise = new Promise((resolve) => {\n",
              "    inputElement.addEventListener('change', (e) => {\n",
              "      resolve(e.target.files);\n",
              "    });\n",
              "  });\n",
              "\n",
              "  const cancel = document.createElement('button');\n",
              "  inputElement.parentElement.appendChild(cancel);\n",
              "  cancel.textContent = 'Cancel upload';\n",
              "  const cancelPromise = new Promise((resolve) => {\n",
              "    cancel.onclick = () => {\n",
              "      resolve(null);\n",
              "    };\n",
              "  });\n",
              "\n",
              "  // Wait for the user to pick the files.\n",
              "  const files = yield {\n",
              "    promise: Promise.race([pickedPromise, cancelPromise]),\n",
              "    response: {\n",
              "      action: 'starting',\n",
              "    }\n",
              "  };\n",
              "\n",
              "  cancel.remove();\n",
              "\n",
              "  // Disable the input element since further picks are not allowed.\n",
              "  inputElement.disabled = true;\n",
              "\n",
              "  if (!files) {\n",
              "    return {\n",
              "      response: {\n",
              "        action: 'complete',\n",
              "      }\n",
              "    };\n",
              "  }\n",
              "\n",
              "  for (const file of files) {\n",
              "    const li = document.createElement('li');\n",
              "    li.append(span(file.name, {fontWeight: 'bold'}));\n",
              "    li.append(span(\n",
              "        `(${file.type || 'n/a'}) - ${file.size} bytes, ` +\n",
              "        `last modified: ${\n",
              "            file.lastModifiedDate ? file.lastModifiedDate.toLocaleDateString() :\n",
              "                                    'n/a'} - `));\n",
              "    const percent = span('0% done');\n",
              "    li.appendChild(percent);\n",
              "\n",
              "    outputElement.appendChild(li);\n",
              "\n",
              "    const fileDataPromise = new Promise((resolve) => {\n",
              "      const reader = new FileReader();\n",
              "      reader.onload = (e) => {\n",
              "        resolve(e.target.result);\n",
              "      };\n",
              "      reader.readAsArrayBuffer(file);\n",
              "    });\n",
              "    // Wait for the data to be ready.\n",
              "    let fileData = yield {\n",
              "      promise: fileDataPromise,\n",
              "      response: {\n",
              "        action: 'continue',\n",
              "      }\n",
              "    };\n",
              "\n",
              "    // Use a chunked sending to avoid message size limits. See b/62115660.\n",
              "    let position = 0;\n",
              "    do {\n",
              "      const length = Math.min(fileData.byteLength - position, MAX_PAYLOAD_SIZE);\n",
              "      const chunk = new Uint8Array(fileData, position, length);\n",
              "      position += length;\n",
              "\n",
              "      const base64 = btoa(String.fromCharCode.apply(null, chunk));\n",
              "      yield {\n",
              "        response: {\n",
              "          action: 'append',\n",
              "          file: file.name,\n",
              "          data: base64,\n",
              "        },\n",
              "      };\n",
              "\n",
              "      let percentDone = fileData.byteLength === 0 ?\n",
              "          100 :\n",
              "          Math.round((position / fileData.byteLength) * 100);\n",
              "      percent.textContent = `${percentDone}% done`;\n",
              "\n",
              "    } while (position < fileData.byteLength);\n",
              "  }\n",
              "\n",
              "  // All done.\n",
              "  yield {\n",
              "    response: {\n",
              "      action: 'complete',\n",
              "    }\n",
              "  };\n",
              "}\n",
              "\n",
              "scope.google = scope.google || {};\n",
              "scope.google.colab = scope.google.colab || {};\n",
              "scope.google.colab._files = {\n",
              "  _uploadFiles,\n",
              "  _uploadFilesContinue,\n",
              "};\n",
              "})(self);\n",
              "</script> "
            ]
          },
          "metadata": {}
        },
        {
          "output_type": "stream",
          "name": "stdout",
          "text": [
            "Saving _HM-30061.xlsx to _HM-30061 (1).xlsx\n",
            "Saving _HM-30062.xlsx to _HM-30062 (1).xlsx\n",
            "Saving _HM-30065.xlsx to _HM-30065 (1).xlsx\n",
            "Saving _HM-30066 от 04.10.2024.xlsx to _HM-30066 от 04.10.2024 (1).xlsx\n",
            "Saving _HM-30069 измен 03.12.2024.xlsx to _HM-30069 измен 03.12.2024 (1).xlsx\n",
            "Saving _HM-30070 12.11.2024.xlsx to _HM-30070 12.11.2024 (1).xlsx\n",
            "Saving _HM-30071 от 04.12.2024.xlsx to _HM-30071 от 04.12.2024 (1).xlsx\n",
            "Saving _HM-30072.xlsx to _HM-30072 (1).xlsx\n",
            "Saving _HM-30073 05.12.2024.xlsx to _HM-30073 05.12.2024 (1).xlsx\n",
            "Saving _HM-30074.xlsx to _HM-30074 (1).xlsx\n",
            "Saving _HM-30077.xlsx to _HM-30077 (1).xlsx\n",
            "Saving _HM-30078 30.01.2025.xlsx to _HM-30078 30.01.2025 (1).xlsx\n",
            "Saving _HM-30079 от 06.02.2025.xlsx to _HM-30079 от 06.02.2025 (1).xlsx\n",
            "Saving _HM-30080 от 17.02.2025.xlsx to _HM-30080 от 17.02.2025 (1).xlsx\n",
            "Saving _HM-30081 от 13.02.2025.xlsx to _HM-30081 от 13.02.2025 (1).xlsx\n",
            "Saving _HM-30082 от 19.03.2025.xlsx to _HM-30082 от 19.03.2025 (1).xlsx\n",
            "Saving _HM-30083 от 19.03.2025.xlsx to _HM-30083 от 19.03.2025 (1).xlsx\n",
            "Saving _HM-30084 от 18.04.2025.xlsx to _HM-30084 от 18.04.2025 (1).xlsx\n",
            "Saving _HM-30085 от 29.04.2025.xlsx to _HM-30085 от 29.04.2025 (1).xlsx\n",
            "Saving _HM-30086 от 05.05.2025.xlsx to _HM-30086 от 05.05.2025 (1).xlsx\n",
            "Saving _HME-30084 от 21.04.2025.xlsx to _HME-30084 от 21.04.2025 (1).xlsx\n",
            "Saving _HMС-30081 от 04.02.2025.xlsx to _HMС-30081 от 04.02.2025 (1).xlsx\n",
            "Saving _SP HM-30035 to TSM-07-23-337.xlsx to _SP HM-30035 to TSM-07-23-337 (1).xlsx\n",
            "Saving _SP HM-30037 to TSM-07-23-337.xlsx to _SP HM-30037 to TSM-07-23-337 (1).xlsx\n",
            "Saving _SP HM-30040.xlsx to _SP HM-30040 (1).xlsx\n",
            "Saving _SP HM-30045 to TSM-07-23-337.xlsx to _SP HM-30045 to TSM-07-23-337 (1).xlsx\n",
            "Saving _SP HM-30048 to TSM-07-23-337.xlsx to _SP HM-30048 to TSM-07-23-337 (1).xlsx\n",
            "Saving _SP HM-30060 to TSM-07-23-337.xlsx to _SP HM-30060 to TSM-07-23-337 (1).xlsx\n",
            "Saving 0_HCN-230085 to TSM-07-23-337.V1.xlsx to 0_HCN-230085 to TSM-07-23-337.V1 (1).xlsx\n",
            "Saving 0_HCN-230093 to TSM-07-23-337.v1.xlsx to 0_HCN-230093 to TSM-07-23-337.v1 (1).xlsx\n",
            "Saving 0_HCN-230110 to TSM-07-23-337.xlsx to 0_HCN-230110 to TSM-07-23-337 (1).xlsx\n",
            "Saving 0_HCN-230129 to TSM-07-23-337.xlsx to 0_HCN-230129 to TSM-07-23-337 (1).xlsx\n",
            "Saving 0_HM - 30054.xlsx to 0_HM - 30054 (1).xlsx\n",
            "Saving 0_HM-30036.1.xlsx to 0_HM-30036.1 (1).xlsx\n",
            "Saving 0_HM-30038.1.xlsx to 0_HM-30038.1 (1).xlsx\n",
            "Saving 0_HM-30049 son.xlsx to 0_HM-30049 son (1).xlsx\n",
            "Saving 0_HM-30053 22.05.2024.xlsx to 0_HM-30053 22.05.2024 (1).xlsx\n",
            "Saving 0_HM-30056 от 27.09.2024.xlsx to 0_HM-30056 от 27.09.2024 (1).xlsx\n",
            "Saving 0_HM-30063.xlsx to 0_HM-30063 (1).xlsx\n",
            "Saving 0_HM-30064.xlsx to 0_HM-30064 (1).xlsx\n",
            "Saving 0_HM-30067 от 04.10.2024.xlsx to 0_HM-30067 от 04.10.2024 (1).xlsx\n",
            "Saving 0_HM-30076.xlsx to 0_HM-30076 (1).xlsx\n",
            "Saving 0_SP HCN-230038 to TSM-07-23-337.xlsx to 0_SP HCN-230038 to TSM-07-23-337 (1).xlsx\n",
            "Saving 0_SP HCN-230046 to TSM-07-23-337.xlsx to 0_SP HCN-230046 to TSM-07-23-337 (1).xlsx\n",
            "Saving 0_SP HCN-230046.1 to TSM-07-23-337.v1.xlsx to 0_SP HCN-230046.1 to TSM-07-23-337.v1 (1).xlsx\n",
            "Saving 0_SP HCN-230054 to TSM-07-23-337.v2.xlsx to 0_SP HCN-230054 to TSM-07-23-337.v2 (1).xlsx\n",
            "Saving 0_SP HCN-230056 to TSM-07-23-337.v2.xlsx to 0_SP HCN-230056 to TSM-07-23-337.v2 (1).xlsx\n",
            "Saving 0_SP HCN-230057 to TSM-07-23-337.xlsx to 0_SP HCN-230057 to TSM-07-23-337 (1).xlsx\n",
            "Saving 0_SP HCN-230058 to TSM-07-23-337.xlsx to 0_SP HCN-230058 to TSM-07-23-337 (1).xlsx\n",
            "Saving 0_SP HCN-230062 to TSM-07-23-337.xlsx to 0_SP HCN-230062 to TSM-07-23-337 (1).xlsx\n",
            "Saving 0_SP HCN-230063 to TSM-07-23-337.v1.xlsx to 0_SP HCN-230063 to TSM-07-23-337.v1 (1).xlsx\n",
            "Saving 0_SP HCN-230067 to TSM-07-23-337.xlsx to 0_SP HCN-230067 to TSM-07-23-337 (1).xlsx\n",
            "Saving 0_SP HCN-230068 to TSM-07-23-337.v2.xlsx to 0_SP HCN-230068 to TSM-07-23-337.v2 (1).xlsx\n",
            "Saving 0_SP HCN-230069 to TSM-07-23-337.1.xlsx to 0_SP HCN-230069 to TSM-07-23-337.1 (1).xlsx\n",
            "Saving 0_SP HCN-230071 to TSM-07-23-337.xlsx to 0_SP HCN-230071 to TSM-07-23-337 (1).xlsx\n",
            "Saving 0_SP HCN-230072 to TSM-07-23-337.xlsx to 0_SP HCN-230072 to TSM-07-23-337 (1).xlsx\n",
            "Saving 0_SP HCN-230076 to TSM-07-23-337.V1.xlsx to 0_SP HCN-230076 to TSM-07-23-337.V1 (1).xlsx\n",
            "Saving 0_SP HCN-230077 to TSM-07-23-337.xlsx to 0_SP HCN-230077 to TSM-07-23-337 (1).xlsx\n",
            "Saving 0_SP HCN-230078 to TSM-07-23-337.xlsx to 0_SP HCN-230078 to TSM-07-23-337 (1).xlsx\n",
            "Saving 0_SP HCN-230079 to TSM-07-23-337.xlsx to 0_SP HCN-230079 to TSM-07-23-337 (1).xlsx\n",
            "Saving 0_SP HCN-230081 to TSM-07-23-337.v1.xlsx to 0_SP HCN-230081 to TSM-07-23-337.v1 (1).xlsx\n",
            "Saving 0_SP HCN-230084to TSM-07-23-337.v2.xlsx to 0_SP HCN-230084to TSM-07-23-337.v2 (1).xlsx\n",
            "Saving 0_SP HCN-230087 to TSM-07-23-337.xlsx to 0_SP HCN-230087 to TSM-07-23-337 (1).xlsx\n",
            "Saving 0_SP HCN-230088 to TSM-07-23-337.v2.xlsx to 0_SP HCN-230088 to TSM-07-23-337.v2 (1).xlsx\n",
            "Saving 0_SP HCN-230089 to TSM-07-23-337.xlsx to 0_SP HCN-230089 to TSM-07-23-337 (1).xlsx\n",
            "Saving 0_SP HCN-230090to TSM-07-23-337.v2.xlsx to 0_SP HCN-230090to TSM-07-23-337.v2 (1).xlsx\n",
            "Saving 0_SP HCN-230091 to TSM-07-23-337.xlsx to 0_SP HCN-230091 to TSM-07-23-337 (1).xlsx\n",
            "Saving 0_SP HCN-230092 to TSM-07-23-337.xlsx to 0_SP HCN-230092 to TSM-07-23-337 (1).xlsx\n",
            "Saving 0_SP HCN-230094 to TSM-07-23-337.xlsx to 0_SP HCN-230094 to TSM-07-23-337 (1).xlsx\n",
            "Saving 0_SP HCN-230095 to TSM-07-23-337.xlsx to 0_SP HCN-230095 to TSM-07-23-337 (1).xlsx\n",
            "Saving 0_SP HM-30026  to TSM-07-23-337.xlsx to 0_SP HM-30026  to TSM-07-23-337 (1).xlsx\n",
            "Saving 0_SP HM-30028  to TSM-07-23-337.xlsx to 0_SP HM-30028  to TSM-07-23-337 (1).xlsx\n",
            "Saving 0_SP HM-30030  to TSM-07-23-337.xlsx to 0_SP HM-30030  to TSM-07-23-337 (1).xlsx\n",
            "Saving 0_SP HM-30031  to TSM-07-23-337.xlsx to 0_SP HM-30031  to TSM-07-23-337 (1).xlsx\n",
            "Saving 0_SP HM-30032  to TSM-07-23-337.xlsx to 0_SP HM-30032  to TSM-07-23-337 (1).xlsx\n",
            "Saving 0_SP HM-30033 to TSM-07-23-337.xlsx to 0_SP HM-30033 to TSM-07-23-337 (1).xlsx\n",
            "Saving 0_SP HM-30036 to TSM-07-23-337.xlsx to 0_SP HM-30036 to TSM-07-23-337 (1).xlsx\n",
            "Saving 0_SP HM-30039 to TSM-07-23-337.xlsx to 0_SP HM-30039 to TSM-07-23-337 (1).xlsx\n",
            "Saving 0_SP HM-30041.xlsx to 0_SP HM-30041 (1).xlsx\n",
            "Saving 0_SP HM-30044 to TSM-07-23-337.xlsx to 0_SP HM-30044 to TSM-07-23-337 (1).xlsx\n",
            "Saving 0_SP HM-30046 to TSM-07-23-337.xlsx to 0_SP HM-30046 to TSM-07-23-337 (1).xlsx\n",
            "Saving 0_SP HM-30051 to TSM-07-23-337.xlsx to 0_SP HM-30051 to TSM-07-23-337 (1).xlsx\n",
            "Saving 0_SP HM-30052 to TSM-07-23-337.xlsx to 0_SP HM-30052 to TSM-07-23-337 (1).xlsx\n",
            "Saving 0_SP HM-30055 to TSM-07-23-337.xlsx to 0_SP HM-30055 to TSM-07-23-337 (1).xlsx\n",
            "Saving 0_SP HM-30059 to TSM-07-23-337.xlsx to 0_SP HM-30059 to TSM-07-23-337 (1).xlsx\n",
            "Saving 0_SP HM-30068  to TSM-07-23-337.xlsx to 0_SP HM-30068  to TSM-07-23-337 (1).xlsx\n",
            "Saving 0_SP HM-30075  to TSM-07-23-337 (2).xlsx to 0_SP HM-30075  to TSM-07-23-337 (2) (1).xlsx\n",
            "Saving 0_нов_Спецификация-HCN-230031.1.xlsx to 0_нов_Спецификация-HCN-230031.1 (1).xlsx\n",
            "Saving HILTI AK-EM-212.xls to HILTI AK-EM-212 (1).xls\n",
            "Saving HILTI AK-EM-221.xls to HILTI AK-EM-221 (1).xls\n",
            "Saving HILTI AK-EM-255.xls to HILTI AK-EM-255 (1).xls\n",
            "Saving HILTI AK-EM-265.xls to HILTI AK-EM-265 (1).xls\n",
            "Saving HILTI AK-EM-277.xls to HILTI AK-EM-277 (1).xls\n",
            "Saving HILTI AK-NP-ЕМ-1792.xls to HILTI AK-NP-ЕМ-1792 (1).xls\n",
            "Saving HM 30058 21.08.2024.xlsx to HM 30058 21.08.2024 (1).xlsx\n",
            "Saving HM-30006 (направлено 15.03.2023).xlsx to HM-30006 (направлено 15.03.2023) (1).xlsx\n",
            "Saving HM-30007.xlsx to HM-30007 (1).xlsx\n",
            "Saving HM-30008.xlsx to HM-30008 (1).xlsx\n",
            "Saving HM-30013.xlsx to HM-30013 (1).xlsx\n",
            "Saving HM-30019.xlsx to HM-30019 (1).xlsx\n",
            "Saving HM-30020.xlsx to HM-30020 (1).xlsx\n",
            "Saving HM-30022..xlsx to HM-30022. (1).xlsx\n",
            "Saving HM-30023..xlsx to HM-30023. (1).xlsx\n",
            "Saving HM-30025.xlsx to HM-30025 (1).xlsx\n",
            "Saving HM-30034.xlsx to HM-30034 (1).xlsx\n",
            "Saving HM-30047 new.xlsx to HM-30047 new (1).xlsx\n",
            "Saving HM-30057 12.08.2024.xlsx to HM-30057 12.08.2024 (1).xlsx\n",
            "Saving Kopya _HCN-230150 от 18.03.2025.xlsx to Kopya _HCN-230150 от 18.03.2025 (1).xlsx\n",
            "Saving Kopya _HCN-230152 от 19.02.2025.xlsx to Kopya _HCN-230152 от 19.02.2025 (1).xlsx\n",
            "Saving Kopya _HCN-230153 от 17.04.2025.xlsx to Kopya _HCN-230153 от 17.04.2025 (1).xlsx\n",
            "Saving Kopya _HCN-230154 от 21.04.2025.xlsx to Kopya _HCN-230154 от 21.04.2025 (1).xlsx\n",
            "Saving Kopya _HCN-230155 от 25.04.2025.xlsx to Kopya _HCN-230155 от 25.04.2025 (1).xlsx\n",
            "Saving Kopya _HCN-230156 от 12.05.2025.xlsx to Kopya _HCN-230156 от 12.05.2025 (1).xlsx\n",
            "Saving Kopya _HЕ-20064 от 10.02.2025.xlsx to Kopya _HЕ-20064 от 10.02.2025 (1).xlsx\n",
            "Saving Kopya _HЕ-20069 от 27.02.2025.xlsx to Kopya _HЕ-20069 от 27.02.2025 (1).xlsx\n",
            "Saving Kopya _HЕ-20071 17.04.25.xlsx to Kopya _HЕ-20071 17.04.25 (1).xlsx\n",
            "Saving Kopya _HЕ-20072 от 21.04.2025.xlsx to Kopya _HЕ-20072 от 21.04.2025 (1).xlsx\n",
            "Saving Kopya _HЕ-20073 от 28.04.2025.xlsx to Kopya _HЕ-20073 от 28.04.2025 (1).xlsx\n",
            "Saving Kopya _HЕ-20074 от 29.04.2025.xlsx to Kopya _HЕ-20074 от 29.04.2025 (1).xlsx\n",
            "Saving Kopya 0_Copy of HE-Notification - 20032.xlsx to Kopya 0_Copy of HE-Notification - 20032 (1).xlsx\n",
            "Saving Kopya 0_HCN-230130 to TSM-07-23-337.xlsx to Kopya 0_HCN-230130 to TSM-07-23-337 (1).xlsx\n",
            "Saving Kopya 0_HCN-230131 to TSM-07-23-337.xlsx to Kopya 0_HCN-230131 to TSM-07-23-337 (1).xlsx\n",
            "Saving Kopya 0_HCN-230133 to TSM-07-23-337 REVİZE (2).xlsx to Kopya 0_HCN-230133 to TSM-07-23-337 REVİZE (2) (1).xlsx\n",
            "Saving Kopya 0_HCN-230139 to TSM-07-23-337 Printable Version.xlsx to Kopya 0_HCN-230139 to TSM-07-23-337 Printable Version (1).xlsx\n",
            "Saving Kopya 0_HCN-230140 to TSM-07-23-337 часть из наличия.xlsx to Kopya 0_HCN-230140 to TSM-07-23-337 часть из наличия (1).xlsx\n",
            "Saving Kopya 0_HCN-230142 to TSM-07-23-337.xlsx to Kopya 0_HCN-230142 to TSM-07-23-337 (1).xlsx\n",
            "Saving Kopya 0_HE-20026.xlsx to Kopya 0_HE-20026 (1).xlsx\n",
            "Saving Kopya 0_HE-20038.1.xlsx to Kopya 0_HE-20038.1 (1).xlsx\n",
            "Saving Kopya 0_HE-20038.2.xlsx to Kopya 0_HE-20038.2 (1).xlsx\n",
            "Saving Kopya 0_HE-20039 (002).xlsx to Kopya 0_HE-20039 (002) (1).xlsx\n",
            "Saving Kopya 0_New version_HCN-230145 to TSM-07-23-337 (3).xlsx to Kopya 0_New version_HCN-230145 to TSM-07-23-337 (3) (1).xlsx\n",
            "Saving Kopya 0_New_HCN-230149 to TSM-07-23-337.xlsx to Kopya 0_New_HCN-230149 to TSM-07-23-337 (1).xlsx\n",
            "Saving Kopya 0_SP HE-20025.1 to TSM-07-23-337.xlsx to Kopya 0_SP HE-20025.1 to TSM-07-23-337 (1).xlsx\n",
            "Saving Kopya 0_SP HE-20027 to TSM-07-23-337.xlsx to Kopya 0_SP HE-20027 to TSM-07-23-337 (1).xlsx\n",
            "Saving Kopya 0_SP HE-20029.1 to TSM-07-23-337.xlsx to Kopya 0_SP HE-20029.1 to TSM-07-23-337 (1).xlsx\n",
            "Saving Kopya 0_SP HE-20031.1 to TSM-07-23-337.xlsx to Kopya 0_SP HE-20031.1 to TSM-07-23-337 (1).xlsx\n",
            "Saving Kopya 0_SP HE-20034 to TSM-07-23-337.xlsx to Kopya 0_SP HE-20034 to TSM-07-23-337 (1).xlsx\n",
            "Saving Kopya 0_SP HE-20036  to TSM-07-23-337.xlsx to Kopya 0_SP HE-20036  to TSM-07-23-337 (1).xlsx\n",
            "Saving Kopya 0_SP HE-20041.2 to TSM-07-23-337.xlsx to Kopya 0_SP HE-20041.2 to TSM-07-23-337 (1).xlsx\n",
            "Saving Kopya 0_SP HE-20042.1 to TSM-07-23-337.xlsx to Kopya 0_SP HE-20042.1 to TSM-07-23-337 (1).xlsx\n",
            "Saving Kopya 0_SP HE-20043 to TSM-07-23-337.xlsx to Kopya 0_SP HE-20043 to TSM-07-23-337 (1).xlsx\n",
            "Saving Kopya 0_SP HE-20044 to TSM-07-23-337.xlsx to Kopya 0_SP HE-20044 to TSM-07-23-337 (1).xlsx\n",
            "Saving Kopya 0_SP HE-20047 to TSM-07-23-337.xlsx to Kopya 0_SP HE-20047 to TSM-07-23-337 (1).xlsx\n",
            "Saving Kopya 0_SP HE-20048 to TSM-07-23-337.xlsx to Kopya 0_SP HE-20048 to TSM-07-23-337 (1).xlsx\n",
            "Saving Kopya 0_SP HE-20051 to TSM-07-23-337.xlsx to Kopya 0_SP HE-20051 to TSM-07-23-337 (1).xlsx\n",
            "Saving Kopya 0_SP HE-20052 to TSM-07-23-337.xlsx to Kopya 0_SP HE-20052 to TSM-07-23-337 (1).xlsx\n",
            "Saving Kopya 0_SP HE-20054 to TSM-07-23-337.xlsx to Kopya 0_SP HE-20054 to TSM-07-23-337 (1).xlsx\n",
            "Saving Kopya 0_SP HE-20055 to TSM-07-23-337.xlsx to Kopya 0_SP HE-20055 to TSM-07-23-337 (1).xlsx\n",
            "Saving Kopya 0_SP HE-20057 to TSM-07-23-337.xlsx to Kopya 0_SP HE-20057 to TSM-07-23-337 (1).xlsx\n",
            "Saving Kopya 0_SP HE-20058 to TSM-07-23-337.xlsx to Kopya 0_SP HE-20058 to TSM-07-23-337 (1).xlsx\n",
            "Saving Kopya 0_SP HE-20060 to TSM-07-23-337.xlsx to Kopya 0_SP HE-20060 to TSM-07-23-337 (1).xlsx\n",
            "Saving Kopya 0_SP HE-20061 to TSM-07-23-337.xlsx to Kopya 0_SP HE-20061 to TSM-07-23-337 (1).xlsx\n",
            "Saving Kopya 0_SP HE-20062 to TSM-07-23-337.xlsx to Kopya 0_SP HE-20062 to TSM-07-23-337 (1).xlsx\n",
            "Saving Kopya 0_SP HE-20063 to TSM-07-23-337.xlsx to Kopya 0_SP HE-20063 to TSM-07-23-337 (1).xlsx\n",
            "Saving Kopya 0_SP HE-20065 to TSM-07-23-337.xlsx to Kopya 0_SP HE-20065 to TSM-07-23-337 (1).xlsx\n",
            "Saving Kopya 0_SP HE-20066 to TSM-07-23-337.xlsx to Kopya 0_SP HE-20066 to TSM-07-23-337 (1).xlsx\n",
            "Saving Kopya 0_Specification HE-20053.xlsx to Kopya 0_Specification HE-20053 (1).xlsx\n",
            "Saving Kopya 0_Спецификация SP HE-20035.xlsx to Kopya 0_Спецификация SP HE-20035 (1).xlsx\n",
            "Saving Kopya HE-20012.xlsx to Kopya HE-20012 (1).xlsx\n",
            "Saving Kopya HE-20013.xlsx to Kopya HE-20013 (1).xlsx\n",
            "Saving Kopya HE-20014.xlsx to Kopya HE-20014 (1).xlsx\n",
            "Saving Kopya HE-20015.xlsx to Kopya HE-20015 (1).xlsx\n",
            "Saving Kopya HE-20017.xlsx to Kopya HE-20017 (1).xlsx\n",
            "Saving Kopya HE-20022.1.xlsx to Kopya HE-20022.1 (1).xlsx\n",
            "Saving Kopya HE-20022.2.xlsx to Kopya HE-20022.2 (1).xlsx\n",
            "Saving Kopya HE-20023.xlsx to Kopya HE-20023 (1).xlsx\n",
            "Saving Kopya HE-20024.xlsx to Kopya HE-20024 (1).xlsx\n",
            "Saving Kopya HE-20025.2.xlsx to Kopya HE-20025.2 (1).xlsx\n",
            "Saving Kopya HE-21007.xlsx to Kopya HE-21007 (1).xlsx\n",
            "Saving Kopya HE-21008.xlsx to Kopya HE-21008 (1).xlsx\n",
            "Saving Kopya HE-21009.xlsx to Kopya HE-21009 (1).xlsx\n",
            "Saving Kopya New_SP HE-20046 to TSM-07-23-337нов.xlsx to Kopya New_SP HE-20046 to TSM-07-23-337нов (1).xlsx\n",
            "Saving Kopya New_SP HE-20049 to TSM-07-23-337 Измененная.xlsx to Kopya New_SP HE-20049 to TSM-07-23-337 Измененная (1).xlsx\n",
            "Saving Kopya New_SP HE-20050 to TSM-07-23-337 - Copy.xlsx to Kopya New_SP HE-20050 to TSM-07-23-337 - Copy (1).xlsx\n",
            "Saving Kopya New_SP HE-20059 to TSM-07-23-337.xlsx to Kopya New_SP HE-20059 to TSM-07-23-337 (1).xlsx\n",
            "Saving Kopya SP HE-20007  to TSM-07-22-898.xlsx to Kopya SP HE-20007  to TSM-07-22-898 (1).xlsx\n",
            "Saving Kopya SP HE-20009.xlsx to Kopya SP HE-20009 (1).xlsx\n",
            "Saving Kopya SP HE-20010.xlsx to Kopya SP HE-20010 (1).xlsx\n",
            "Saving Kopya SP HE-20016 to TSM-07-23-337.xlsx to Kopya SP HE-20016 to TSM-07-23-337 (1).xlsx\n",
            "Saving Kopya SP HE-20018 to TSM-07-23-337.xlsx to Kopya SP HE-20018 to TSM-07-23-337 (1).xlsx\n",
            "Saving Kopya SP HE-20019.2 to TSM-07-23-337.xlsx to Kopya SP HE-20019.2 to TSM-07-23-337 (1).xlsx\n",
            "Saving Kopya SP HE-20020 to TSM-07-23-337.xlsx to Kopya SP HE-20020 to TSM-07-23-337 (1).xlsx\n",
            "Saving Kopya SP HE-20021 to TSM-07-23-337.xlsx to Kopya SP HE-20021 to TSM-07-23-337 (1).xlsx\n",
            "Saving Kopya SP HE-20045 to TSM-07-23-337.xlsx to Kopya SP HE-20045 to TSM-07-23-337 (1).xlsx\n",
            "Saving Kopya SP HE-21001 to TSM-07-23-337.xlsx to Kopya SP HE-21001 to TSM-07-23-337 (1).xlsx\n",
            "Saving Kopya SP HE-21002 to TSM-07-23-337.xlsx to Kopya SP HE-21002 to TSM-07-23-337 (1).xlsx\n",
            "Saving Kopya SP HE-21010 to TSM-07-23-337.xlsx to Kopya SP HE-21010 to TSM-07-23-337 (1).xlsx\n",
            "Saving Kopya SP HE-21011 to TSM-07-23-337.xlsx to Kopya SP HE-21011 to TSM-07-23-337 (1).xlsx\n",
            "Saving Kopya Спецификация  № HM-30001.xlsx to Kopya Спецификация  № HM-30001 (1).xlsx\n",
            "Saving PO AK-69.xls to PO AK-69 (1).xls\n",
            "Saving PO AK-117.xls to PO AK-117 (1).xls\n",
            "Saving PO AK-147.xls to PO AK-147 (1).xls\n",
            "Saving PO AK-C-969.xls to PO AK-C-969 (1).xls\n",
            "Saving PO AK-EM-344.xls to PO AK-EM-344 (1).xls\n",
            "Saving PO AK-EM-627 HİLTİ.xls to PO AK-EM-627 HİLTİ (1).xls\n",
            "Saving PO AK-EM-656 HİLTİ.xls to PO AK-EM-656 HİLTİ (1).xls\n",
            "Saving PO AK-EM-687 HİLTİ.xls to PO AK-EM-687 HİLTİ (1).xls\n",
            "Saving PO AK-MM-373.xls to PO AK-MM-373 (1).xls\n",
            "Saving PO AK-MM-396.xls to PO AK-MM-396 (1).xls\n",
            "Saving PO AK-MM-444.xls to PO AK-MM-444 (1).xls\n",
            "Saving PO AK-MM-477.xls to PO AK-MM-477 (1).xls\n",
            "Saving PO AK-MM-659.xls to PO AK-MM-659 (1).xls\n",
            "Saving PO AK-MM-716.xls to PO AK-MM-716 (1).xls\n",
            "Saving PO AK-MM-729.xls to PO AK-MM-729 (1).xls\n",
            "Saving PO AK-MM-741.xls to PO AK-MM-741 (1).xls\n",
            "Saving PO AK-NP-MM-2582.xls to PO AK-NP-MM-2582 (1).xls\n",
            "Saving PO AK-NP-MM-2858.xls to PO AK-NP-MM-2858 (1).xls\n",
            "Saving PO AK-NP-MM-2925.xls to PO AK-NP-MM-2925 (1).xls\n",
            "Saving PO AK-NP-MM-2997.xls to PO AK-NP-MM-2997 (1).xls\n",
            "Saving PO AK-NP-ЕМ-1791.xls to PO AK-NP-ЕМ-1791 (1).xls\n",
            "Saving PO AK-P-135.xls to PO AK-P-135 (1).xls\n",
            "Saving PO HILTI AK-EM- 371.xls to PO HILTI AK-EM- 371 (1).xls\n",
            "Saving PO HILTI AK-EM- 406.xls to PO HILTI AK-EM- 406 (1).xls\n",
            "Saving PO HILTI AK-EM- 475.xls to PO HILTI AK-EM- 475 (1).xls\n",
            "Saving PO HILTI AK-EM- 485.xls to PO HILTI AK-EM- 485 (1).xls\n",
            "Saving PO HILTI AK-EM-336.xls to PO HILTI AK-EM-336 (1).xls\n",
            "Saving PO HILTI AK-EM-353.xls to PO HILTI AK-EM-353 (1).xls\n",
            "Saving PO HILTI AK-EM-364.xls to PO HILTI AK-EM-364 (1).xls\n",
            "Saving PO HILTI AK-EM-537.xls to PO HILTI AK-EM-537 (1).xls\n",
            "Saving PO HILTI AK-NP-EM- 2238.xls to PO HILTI AK-NP-EM- 2238 (1).xls\n",
            "Saving PO HILTI AK-NP-EM-1782.xls to PO HILTI AK-NP-EM-1782 (1).xls\n",
            "Saving PO HILTI AK-NP-EM-2632.xls to PO HILTI AK-NP-EM-2632 (1).xls\n",
            "Saving PO(SOZLESME) AK-EM-809 HILTI.xls to PO(SOZLESME) AK-EM-809 HILTI (1).xls\n",
            "Saving PO(SOZLESME) AK-EM-835 HILTI.xls to PO(SOZLESME) AK-EM-835 HILTI (1).xls\n",
            "Saving PO_AK-NP-1910.xls to PO_AK-NP-1910 (1).xls\n",
            "Saving PO_AK-NP-1935.xls to PO_AK-NP-1935 (1).xls\n",
            "Saving SP HC-10009 to TSM-07-22-898.xlsx to SP HC-10009 to TSM-07-22-898 (1).xlsx\n",
            "Saving SP HC-10010 to TSM-07-22-898.xlsx to SP HC-10010 to TSM-07-22-898 (1).xlsx\n",
            "Saving SP HCN-230027 to TSM-07-23-337.xlsx to SP HCN-230027 to TSM-07-23-337 (1).xlsx\n",
            "Saving SP HCN-230028 to TSM-07-23-337.xlsx to SP HCN-230028 to TSM-07-23-337 (1).xlsx\n",
            "Saving SP HCN-230032 to TSM-07-23-337.xlsx to SP HCN-230032 to TSM-07-23-337 (1).xlsx\n",
            "Saving SP HCN-230037 to TSM-07-23-337.xlsx to SP HCN-230037 to TSM-07-23-337 (1).xlsx\n",
            "Saving SP HCN-230039 to TSM-07-23-337.xlsx to SP HCN-230039 to TSM-07-23-337 (1).xlsx\n",
            "Saving SP HCN-230040 to TSM-07-23-337.xlsx to SP HCN-230040 to TSM-07-23-337 (1).xlsx\n",
            "Saving SP HCN-230041 to TSM-07-23-337.xlsx to SP HCN-230041 to TSM-07-23-337 (1).xlsx\n",
            "Saving SP HCN-230042 to TSM-07-23-337.xlsx to SP HCN-230042 to TSM-07-23-337 (1).xlsx\n",
            "Saving SP HCN-230043 to TSM-07-23-337.xlsx to SP HCN-230043 to TSM-07-23-337 (1).xlsx\n",
            "Saving SP HCN-230047 to TSM-07-23-337.xlsx to SP HCN-230047 to TSM-07-23-337 (1).xlsx\n",
            "Saving SP HCN-230048 to TSM-07-23-337.v1.xlsx to SP HCN-230048 to TSM-07-23-337.v1 (1).xlsx\n",
            "Saving SP HCN-230049 to TSM-07-23-337.v3.xlsx to SP HCN-230049 to TSM-07-23-337.v3 (1).xlsx\n",
            "Saving SP HCN-230050 to TSM-07-23-337.xlsx to SP HCN-230050 to TSM-07-23-337 (1).xlsx\n",
            "Saving SP HCN-230052 to TSM-07-23-337.V3.xlsx to SP HCN-230052 to TSM-07-23-337.V3 (1).xlsx\n",
            "Saving SP HCN-230053 to TSM-07-23-337.xlsx to SP HCN-230053 to TSM-07-23-337 (1).xlsx\n",
            "Saving SP HCN-230059 to TSM-07-23-337.xlsx to SP HCN-230059 to TSM-07-23-337 (1).xlsx\n",
            "Saving SP HCN-230065 to TSM-07-23-337.2.xlsx to SP HCN-230065 to TSM-07-23-337.2 (1).xlsx\n",
            "Saving SP HCN-230066 to TSM-07-23-337.v3.xlsx to SP HCN-230066 to TSM-07-23-337.v3 (1).xlsx\n",
            "Saving SP HCN-230070 to TSM-07-23-337.xlsx to SP HCN-230070 to TSM-07-23-337 (1).xlsx\n",
            "Saving SP HCN-230074 to TSM-07-23-337.v3.xlsx to SP HCN-230074 to TSM-07-23-337.v3 (1).xlsx\n",
            "Saving SP HCN-230075 to TSM-07-23-337.xlsx to SP HCN-230075 to TSM-07-23-337 (1).xlsx\n",
            "Saving SP HCN-230082 to TSM-07-23-337.v1.xlsx to SP HCN-230082 to TSM-07-23-337.v1 (1).xlsx\n",
            "Saving SP HM-30009 to TSM-07-23-337.xlsx to SP HM-30009 to TSM-07-23-337 (1).xlsx\n",
            "Saving SP HM-30010.xlsx to SP HM-30010 (1).xlsx\n",
            "Saving SP HM-30014 to TSM-07-23-337.xlsx to SP HM-30014 to TSM-07-23-337 (1).xlsx\n",
            "Saving SP HM-30015 to TSM-07-23-337.xlsx to SP HM-30015 to TSM-07-23-337 (1).xlsx\n",
            "Saving SP HM-30016 от 25.07.2023.xlsx to SP HM-30016 от 25.07.2023 (1).xlsx\n",
            "Saving SP HM-30017  to TSM-07-23-337.xlsx to SP HM-30017  to TSM-07-23-337 (1).xlsx\n",
            "Saving SP HM-30027.xlsx to SP HM-30027 (1).xlsx\n",
            "Saving SP № HM-30012 от 23.05.2023.xlsx to SP № HM-30012 от 23.05.2023.xlsx\n",
            "Saving Копия HM-30024 новая.xlsx to Копия HM-30024 новая (1).xlsx\n",
            "Saving Спецификация HC-10002.xlsx to Спецификация HC-10002 (1).xlsx\n",
            "Saving Спецификация HC-10008 ВЕРНО.xlsx to Спецификация HC-10008 ВЕРНО (1).xlsx\n",
            "Saving Спецификация HC-10014.xlsx to Спецификация HC-10014 (1).xlsx\n",
            "Saving Спецификация -HCN-230015.xlsx to Спецификация -HCN-230015 (1).xlsx\n",
            "Saving Спецификация № HM-30003.xlsx to Спецификация № HM-30003 (1).xlsx\n",
            "Saving Спецификация-HCN-230002.xlsx to Спецификация-HCN-230002 (1).xlsx\n",
            "Saving Спецификация-HCN-230003.xlsx to Спецификация-HCN-230003 (1).xlsx\n",
            "Saving Спецификация-HCN-230005_09-03-2023.xlsx to Спецификация-HCN-230005_09-03-2023 (1).xlsx\n",
            "Saving Спецификация-HCN-230006_09-03-2023.xlsx to Спецификация-HCN-230006_09-03-2023 (1).xlsx\n",
            "Saving Спецификация-HCN-230007_10-03-2023.xlsx to Спецификация-HCN-230007_10-03-2023 (1).xlsx\n",
            "Saving Спецификация-HCN-230008.xlsx to Спецификация-HCN-230008 (1).xlsx\n",
            "Saving Спецификация-HCN-230010.xlsx to Спецификация-HCN-230010.xlsx\n",
            "Saving Спецификация-HCN-230011.xlsx to Спецификация-HCN-230011.xlsx\n",
            "Saving Спецификация-HCN-230012_v1.xlsx to Спецификация-HCN-230012_v1.xlsx\n",
            "Saving Спецификация-HCN-230013 (2).xlsx to Спецификация-HCN-230013 (2).xlsx\n",
            "Saving Спецификация-HCN-230014_v2.xlsx to Спецификация-HCN-230014_v2.xlsx\n",
            "Saving Спецификация-HCN-230016.xlsx to Спецификация-HCN-230016.xlsx\n",
            "Saving Спецификация-HCN-230017_v1.xlsx to Спецификация-HCN-230017_v1 (1).xlsx\n",
            "Saving Спецификация-HCN-230018_L1.xlsx to Спецификация-HCN-230018_L1 (1).xlsx\n",
            "Saving Спецификация-HCN-230019.xlsx to Спецификация-HCN-230019 (1).xlsx\n",
            "Saving Спецификация-HCN-230020.xlsx to Спецификация-HCN-230020 (1).xlsx\n",
            "Saving Спецификация-HCN-230021.xlsx to Спецификация-HCN-230021 (1).xlsx\n",
            "Saving Спецификация-HCN-230022.xlsx to Спецификация-HCN-230022 (1).xlsx\n",
            "Saving Спецификация-HCN-230023_V2.xlsx to Спецификация-HCN-230023_V2 (1).xlsx\n",
            "Saving Спецификация-HCN-230024 Не проект.xlsx to Спецификация-HCN-230024 Не проект (1).xlsx\n",
            "Saving Спецификация-HCN-230025.xlsx to Спецификация-HCN-230025 (1).xlsx\n",
            "Saving Спецификация-HCN-230026-Не проект.xlsx to Спецификация-HCN-230026-Не проект (1).xlsx\n",
            "Saving Спецификация-HCN-230033-Проект.xlsx to Спецификация-HCN-230033-Проект (1).xlsx\n",
            "Saving Спецификация-HCN-230034.xlsx to Спецификация-HCN-230034 (1).xlsx\n",
            "Saving Спецификация-HCN-230035.xlsx to Спецификация-HCN-230035 (1).xlsx\n",
            "Saving Спецификация-HCN-230036.v1.xlsx to Спецификация-HCN-230036.v1 (1).xlsx\n",
            "Saving Спецификация-HCN-20230004_v3.xlsx to Спецификация-HCN-20230004_v3 (1).xlsx\n",
            "Saving ъ_old_rev_HMС-30082 от 21.04.2025.xlsx to ъ_old_rev_HMС-30082 от 21.04.2025 (1).xlsx\n"
          ]
        }
      ]
    },
    {
      "cell_type": "code",
      "source": [
        "# Tüm temiz veriler burada birikecek\n",
        "master_df = pd.DataFrame()"
      ],
      "metadata": {
        "id": "5WhCE_18LLP_"
      },
      "execution_count": null,
      "outputs": []
    },
    {
      "cell_type": "code",
      "source": [
        "# Durum raporu için tablo\n",
        "rapor_kayitlari = []"
      ],
      "metadata": {
        "id": "QqXF9hc9Om30"
      },
      "execution_count": null,
      "outputs": []
    },
    {
      "cell_type": "code",
      "source": [
        "# Her dosyayı sırayla işle\n",
        "for filename in uploaded.keys():\n",
        "    print(f\"\\n🔄 İşleniyor: {filename}\")\n",
        "\n",
        "    try:\n",
        "        xls = pd.ExcelFile(filename)\n",
        "\n",
        "        # Başlangıç verisi ilk sayfadan\n",
        "        df_start = pd.read_excel(xls, sheet_name=0, header=None, dtype=str)\n",
        "        start_idx = df_start[df_start.apply(lambda row: row.astype(str).str.contains(r\"Спецификация\\s+№\", regex=True).any(), axis=1)].index\n",
        "\n",
        "        if len(start_idx) == 0:\n",
        "            mesaj = \"Спецификация № bulunamadı/не найдено ❌\"\n",
        "            print(mesaj)\n",
        "            rapor_kayitlari.append({\n",
        "                \"Dosya\": filename,\n",
        "                \"Спецификация №\": \"Yok\",\n",
        "                \"Tarih\": \"Yok\",\n",
        "                \"Durum\": mesaj\n",
        "            })\n",
        "            continue\n",
        "\n",
        "        # Spesifikasyon bilgisi\n",
        "        spec_row = df_start.iloc[start_idx[0]].astype(str).tolist()\n",
        "        spec_text = ' '.join(spec_row)\n",
        "\n",
        "        match_spec = re.search(r'Спецификация №\\s+(\\S+)', spec_text)\n",
        "        spec_number = match_spec.group(1) if match_spec else 'Bilinmiyor/Неизвестный'\n",
        "\n",
        "        match_date = re.search(r'от\\s+(\\d{2}\\.\\d{2}\\.\\d{4})', spec_text)\n",
        "        spec_date = match_date.group(1) if match_date else 'Bilinmiyor/Неизвестный'\n",
        "\n",
        "        # \"Цена без НДС\" araması tüm sayfalarda\n",
        "        end_found = False\n",
        "        for sheet in xls.sheet_names:\n",
        "            df_check = pd.read_excel(xls, sheet_name=sheet, header=None, dtype=str)\n",
        "            end_idx = df_check[df_check.apply(lambda row: row.astype(str).str.contains(\"Цена без НДС\").any(), axis=1)].index\n",
        "            if len(end_idx) > 0:\n",
        "                end_sheet = sheet\n",
        "                end_index = end_idx[0]\n",
        "                end_found = True\n",
        "                break\n",
        "\n",
        "        if not end_found:\n",
        "            mesaj = \"'Цена без НДС' bulunamadı/не найдено ❌\"\n",
        "            print(mesaj)\n",
        "            rapor_kayitlari.append({\n",
        "                \"Dosya/Файл\": filename,\n",
        "                \"Спецификация №\": spec_number,\n",
        "                \"Tarih/дата\": spec_date,\n",
        "                \"Durum/Ситуация\": mesaj\n",
        "            })\n",
        "            continue\n",
        "\n",
        "        # Structured tabloyu oluştur\n",
        "        if end_sheet == xls.sheet_names[0]:\n",
        "            df_table = df_start.iloc[start_idx[0]+1:end_index].copy()\n",
        "        else:\n",
        "            df1 = df_start.iloc[start_idx[0]+1:].copy()\n",
        "            df2 = pd.read_excel(xls, sheet_name=end_sheet, header=None, dtype=str).iloc[:end_index].copy()\n",
        "            df_table = pd.concat([df1, df2], ignore_index=True)\n",
        "\n",
        "        # Temizle\n",
        "        df_table = df_table.dropna(how='all')\n",
        "        df_table.columns = df_table.iloc[0]\n",
        "        df_table = df_table[1:]\n",
        "\n",
        "        # Bilgileri ekle\n",
        "        df_table[\"номер спецификации\"] = spec_number\n",
        "        df_table[\"дата\"] = spec_date\n",
        "\n",
        "        # Kaydet\n",
        "        out_filename = f\"cleaned_{filename}\"\n",
        "        df_table.to_excel(out_filename, index=False)\n",
        "        print(f\"✅ {out_filename} oluşturuldu./был создан.\")\n",
        "\n",
        "        # Ana tabloya ekle\n",
        "        master_df = pd.concat([master_df, df_table], axis=0, ignore_index=True, sort=False)\n",
        "\n",
        "        # Rapor tablosuna kayıt\n",
        "        rapor_kayitlari.append({\n",
        "            \"Dosya/Файл\": filename,\n",
        "            \"Спецификация №\": spec_number,\n",
        "            \"Tarih/дата\": spec_date,\n",
        "            \"Durum/Ситуация\": \"Oluşturuldu/был создан. ✅\"\n",
        "        })\n",
        "\n",
        "    except Exception as e:\n",
        "        hata_mesaji = f\"Hata/Ошибка: {str(e)}\"\n",
        "        print(f\"⚠️ {hata_mesaji}\")\n",
        "        rapor_kayitlari.append({\n",
        "            \"Dosya/Файл\": filename,\n",
        "            \"Спецификация №\": \"Bilinmiyor/не найдено\",\n",
        "            \"Tarih/дата\": \"Bilinmiyor/не найдено\",\n",
        "            \"Durum/Ситуация\": hata_mesaji\n",
        "        })"
      ],
      "metadata": {
        "id": "-Nkn59XFOz-C",
        "outputId": "552b60f7-1236-449b-9fe7-e6b36becaafa",
        "colab": {
          "base_uri": "https://localhost:8080/"
        }
      },
      "execution_count": null,
      "outputs": [
        {
          "output_type": "stream",
          "name": "stdout",
          "text": [
            "\n",
            "🔄 İşleniyor: _HM-30061 (1).xlsx\n",
            "✅ cleaned__HM-30061 (1).xlsx oluşturuldu./был создан.\n",
            "\n",
            "🔄 İşleniyor: _HM-30062 (1).xlsx\n"
          ]
        },
        {
          "output_type": "stream",
          "name": "stderr",
          "text": [
            "/usr/local/lib/python3.11/dist-packages/openpyxl/worksheet/header_footer.py:48: UserWarning: Cannot parse header or footer so it will be ignored\n",
            "  warn(\"\"\"Cannot parse header or footer so it will be ignored\"\"\")\n",
            "/usr/local/lib/python3.11/dist-packages/openpyxl/worksheet/header_footer.py:48: UserWarning: Cannot parse header or footer so it will be ignored\n",
            "  warn(\"\"\"Cannot parse header or footer so it will be ignored\"\"\")\n",
            "/usr/local/lib/python3.11/dist-packages/openpyxl/worksheet/header_footer.py:48: UserWarning: Cannot parse header or footer so it will be ignored\n",
            "  warn(\"\"\"Cannot parse header or footer so it will be ignored\"\"\")\n",
            "/usr/local/lib/python3.11/dist-packages/openpyxl/worksheet/header_footer.py:48: UserWarning: Cannot parse header or footer so it will be ignored\n",
            "  warn(\"\"\"Cannot parse header or footer so it will be ignored\"\"\")\n"
          ]
        },
        {
          "output_type": "stream",
          "name": "stdout",
          "text": [
            "✅ cleaned__HM-30062 (1).xlsx oluşturuldu./был создан.\n",
            "\n",
            "🔄 İşleniyor: _HM-30065 (1).xlsx\n",
            "✅ cleaned__HM-30065 (1).xlsx oluşturuldu./был создан.\n",
            "\n",
            "🔄 İşleniyor: _HM-30066 от 04.10.2024 (1).xlsx\n"
          ]
        },
        {
          "output_type": "stream",
          "name": "stderr",
          "text": [
            "/usr/local/lib/python3.11/dist-packages/openpyxl/worksheet/header_footer.py:48: UserWarning: Cannot parse header or footer so it will be ignored\n",
            "  warn(\"\"\"Cannot parse header or footer so it will be ignored\"\"\")\n",
            "/usr/local/lib/python3.11/dist-packages/openpyxl/worksheet/header_footer.py:48: UserWarning: Cannot parse header or footer so it will be ignored\n",
            "  warn(\"\"\"Cannot parse header or footer so it will be ignored\"\"\")\n",
            "/usr/local/lib/python3.11/dist-packages/openpyxl/worksheet/header_footer.py:48: UserWarning: Cannot parse header or footer so it will be ignored\n",
            "  warn(\"\"\"Cannot parse header or footer so it will be ignored\"\"\")\n",
            "/usr/local/lib/python3.11/dist-packages/openpyxl/worksheet/header_footer.py:48: UserWarning: Cannot parse header or footer so it will be ignored\n",
            "  warn(\"\"\"Cannot parse header or footer so it will be ignored\"\"\")\n"
          ]
        },
        {
          "output_type": "stream",
          "name": "stdout",
          "text": [
            "✅ cleaned__HM-30066 от 04.10.2024 (1).xlsx oluşturuldu./был создан.\n",
            "\n",
            "🔄 İşleniyor: _HM-30069 измен 03.12.2024 (1).xlsx\n",
            "✅ cleaned__HM-30069 измен 03.12.2024 (1).xlsx oluşturuldu./был создан.\n",
            "\n",
            "🔄 İşleniyor: _HM-30070 12.11.2024 (1).xlsx\n"
          ]
        },
        {
          "output_type": "stream",
          "name": "stderr",
          "text": [
            "/usr/local/lib/python3.11/dist-packages/openpyxl/worksheet/header_footer.py:48: UserWarning: Cannot parse header or footer so it will be ignored\n",
            "  warn(\"\"\"Cannot parse header or footer so it will be ignored\"\"\")\n",
            "/usr/local/lib/python3.11/dist-packages/openpyxl/worksheet/header_footer.py:48: UserWarning: Cannot parse header or footer so it will be ignored\n",
            "  warn(\"\"\"Cannot parse header or footer so it will be ignored\"\"\")\n",
            "/usr/local/lib/python3.11/dist-packages/openpyxl/worksheet/header_footer.py:48: UserWarning: Cannot parse header or footer so it will be ignored\n",
            "  warn(\"\"\"Cannot parse header or footer so it will be ignored\"\"\")\n",
            "/usr/local/lib/python3.11/dist-packages/openpyxl/worksheet/header_footer.py:48: UserWarning: Cannot parse header or footer so it will be ignored\n",
            "  warn(\"\"\"Cannot parse header or footer so it will be ignored\"\"\")\n"
          ]
        },
        {
          "output_type": "stream",
          "name": "stdout",
          "text": [
            "✅ cleaned__HM-30070 12.11.2024 (1).xlsx oluşturuldu./был создан.\n",
            "⚠️ Hata/Ошибка: Reindexing only valid with uniquely valued Index objects\n",
            "\n",
            "🔄 İşleniyor: _HM-30071 от 04.12.2024 (1).xlsx\n",
            "✅ cleaned__HM-30071 от 04.12.2024 (1).xlsx oluşturuldu./был создан.\n",
            "⚠️ Hata/Ошибка: Reindexing only valid with uniquely valued Index objects\n",
            "\n",
            "🔄 İşleniyor: _HM-30072 (1).xlsx\n",
            "✅ cleaned__HM-30072 (1).xlsx oluşturuldu./был создан.\n",
            "⚠️ Hata/Ошибка: Reindexing only valid with uniquely valued Index objects\n",
            "\n",
            "🔄 İşleniyor: _HM-30073 05.12.2024 (1).xlsx\n"
          ]
        },
        {
          "output_type": "stream",
          "name": "stderr",
          "text": [
            "/usr/local/lib/python3.11/dist-packages/openpyxl/worksheet/header_footer.py:48: UserWarning: Cannot parse header or footer so it will be ignored\n",
            "  warn(\"\"\"Cannot parse header or footer so it will be ignored\"\"\")\n",
            "/usr/local/lib/python3.11/dist-packages/openpyxl/worksheet/header_footer.py:48: UserWarning: Cannot parse header or footer so it will be ignored\n",
            "  warn(\"\"\"Cannot parse header or footer so it will be ignored\"\"\")\n",
            "/usr/local/lib/python3.11/dist-packages/openpyxl/worksheet/header_footer.py:48: UserWarning: Cannot parse header or footer so it will be ignored\n",
            "  warn(\"\"\"Cannot parse header or footer so it will be ignored\"\"\")\n",
            "/usr/local/lib/python3.11/dist-packages/openpyxl/worksheet/header_footer.py:48: UserWarning: Cannot parse header or footer so it will be ignored\n",
            "  warn(\"\"\"Cannot parse header or footer so it will be ignored\"\"\")\n",
            "/usr/local/lib/python3.11/dist-packages/openpyxl/worksheet/header_footer.py:48: UserWarning: Cannot parse header or footer so it will be ignored\n",
            "  warn(\"\"\"Cannot parse header or footer so it will be ignored\"\"\")\n",
            "/usr/local/lib/python3.11/dist-packages/openpyxl/worksheet/header_footer.py:48: UserWarning: Cannot parse header or footer so it will be ignored\n",
            "  warn(\"\"\"Cannot parse header or footer so it will be ignored\"\"\")\n",
            "/usr/local/lib/python3.11/dist-packages/openpyxl/worksheet/header_footer.py:48: UserWarning: Cannot parse header or footer so it will be ignored\n",
            "  warn(\"\"\"Cannot parse header or footer so it will be ignored\"\"\")\n",
            "/usr/local/lib/python3.11/dist-packages/openpyxl/worksheet/header_footer.py:48: UserWarning: Cannot parse header or footer so it will be ignored\n",
            "  warn(\"\"\"Cannot parse header or footer so it will be ignored\"\"\")\n"
          ]
        },
        {
          "output_type": "stream",
          "name": "stdout",
          "text": [
            "✅ cleaned__HM-30073 05.12.2024 (1).xlsx oluşturuldu./был создан.\n",
            "⚠️ Hata/Ошибка: Reindexing only valid with uniquely valued Index objects\n",
            "\n",
            "🔄 İşleniyor: _HM-30074 (1).xlsx\n",
            "✅ cleaned__HM-30074 (1).xlsx oluşturuldu./был создан.\n",
            "⚠️ Hata/Ошибка: Reindexing only valid with uniquely valued Index objects\n",
            "\n",
            "🔄 İşleniyor: _HM-30077 (1).xlsx\n"
          ]
        },
        {
          "output_type": "stream",
          "name": "stderr",
          "text": [
            "/usr/local/lib/python3.11/dist-packages/openpyxl/worksheet/header_footer.py:48: UserWarning: Cannot parse header or footer so it will be ignored\n",
            "  warn(\"\"\"Cannot parse header or footer so it will be ignored\"\"\")\n",
            "/usr/local/lib/python3.11/dist-packages/openpyxl/worksheet/header_footer.py:48: UserWarning: Cannot parse header or footer so it will be ignored\n",
            "  warn(\"\"\"Cannot parse header or footer so it will be ignored\"\"\")\n",
            "/usr/local/lib/python3.11/dist-packages/openpyxl/worksheet/header_footer.py:48: UserWarning: Cannot parse header or footer so it will be ignored\n",
            "  warn(\"\"\"Cannot parse header or footer so it will be ignored\"\"\")\n",
            "/usr/local/lib/python3.11/dist-packages/openpyxl/worksheet/header_footer.py:48: UserWarning: Cannot parse header or footer so it will be ignored\n",
            "  warn(\"\"\"Cannot parse header or footer so it will be ignored\"\"\")\n",
            "/usr/local/lib/python3.11/dist-packages/openpyxl/worksheet/header_footer.py:48: UserWarning: Cannot parse header or footer so it will be ignored\n",
            "  warn(\"\"\"Cannot parse header or footer so it will be ignored\"\"\")\n"
          ]
        },
        {
          "output_type": "stream",
          "name": "stdout",
          "text": [
            "✅ cleaned__HM-30077 (1).xlsx oluşturuldu./был создан.\n",
            "⚠️ Hata/Ошибка: Reindexing only valid with uniquely valued Index objects\n",
            "\n",
            "🔄 İşleniyor: _HM-30078 30.01.2025 (1).xlsx\n",
            "✅ cleaned__HM-30078 30.01.2025 (1).xlsx oluşturuldu./был создан.\n",
            "⚠️ Hata/Ошибка: Reindexing only valid with uniquely valued Index objects\n",
            "\n",
            "🔄 İşleniyor: _HM-30079 от 06.02.2025 (1).xlsx\n"
          ]
        },
        {
          "output_type": "stream",
          "name": "stderr",
          "text": [
            "/usr/local/lib/python3.11/dist-packages/openpyxl/worksheet/header_footer.py:48: UserWarning: Cannot parse header or footer so it will be ignored\n",
            "  warn(\"\"\"Cannot parse header or footer so it will be ignored\"\"\")\n",
            "/usr/local/lib/python3.11/dist-packages/openpyxl/worksheet/header_footer.py:48: UserWarning: Cannot parse header or footer so it will be ignored\n",
            "  warn(\"\"\"Cannot parse header or footer so it will be ignored\"\"\")\n",
            "/usr/local/lib/python3.11/dist-packages/openpyxl/worksheet/header_footer.py:48: UserWarning: Cannot parse header or footer so it will be ignored\n",
            "  warn(\"\"\"Cannot parse header or footer so it will be ignored\"\"\")\n",
            "/usr/local/lib/python3.11/dist-packages/openpyxl/worksheet/header_footer.py:48: UserWarning: Cannot parse header or footer so it will be ignored\n",
            "  warn(\"\"\"Cannot parse header or footer so it will be ignored\"\"\")\n",
            "/usr/local/lib/python3.11/dist-packages/openpyxl/worksheet/header_footer.py:48: UserWarning: Cannot parse header or footer so it will be ignored\n",
            "  warn(\"\"\"Cannot parse header or footer so it will be ignored\"\"\")\n"
          ]
        },
        {
          "output_type": "stream",
          "name": "stdout",
          "text": [
            "✅ cleaned__HM-30079 от 06.02.2025 (1).xlsx oluşturuldu./был создан.\n",
            "\n",
            "🔄 İşleniyor: _HM-30080 от 17.02.2025 (1).xlsx\n",
            "✅ cleaned__HM-30080 от 17.02.2025 (1).xlsx oluşturuldu./был создан.\n",
            "⚠️ Hata/Ошибка: Reindexing only valid with uniquely valued Index objects\n",
            "\n",
            "🔄 İşleniyor: _HM-30081 от 13.02.2025 (1).xlsx\n",
            "✅ cleaned__HM-30081 от 13.02.2025 (1).xlsx oluşturuldu./был создан.\n",
            "\n",
            "🔄 İşleniyor: _HM-30082 от 19.03.2025 (1).xlsx\n",
            "✅ cleaned__HM-30082 от 19.03.2025 (1).xlsx oluşturuldu./был создан.\n",
            "\n",
            "🔄 İşleniyor: _HM-30083 от 19.03.2025 (1).xlsx\n",
            "✅ cleaned__HM-30083 от 19.03.2025 (1).xlsx oluşturuldu./был создан.\n",
            "\n",
            "🔄 İşleniyor: _HM-30084 от 18.04.2025 (1).xlsx\n"
          ]
        },
        {
          "output_type": "stream",
          "name": "stderr",
          "text": [
            "/usr/local/lib/python3.11/dist-packages/openpyxl/worksheet/header_footer.py:48: UserWarning: Cannot parse header or footer so it will be ignored\n",
            "  warn(\"\"\"Cannot parse header or footer so it will be ignored\"\"\")\n",
            "/usr/local/lib/python3.11/dist-packages/openpyxl/worksheet/header_footer.py:48: UserWarning: Cannot parse header or footer so it will be ignored\n",
            "  warn(\"\"\"Cannot parse header or footer so it will be ignored\"\"\")\n",
            "/usr/local/lib/python3.11/dist-packages/openpyxl/worksheet/header_footer.py:48: UserWarning: Cannot parse header or footer so it will be ignored\n",
            "  warn(\"\"\"Cannot parse header or footer so it will be ignored\"\"\")\n",
            "/usr/local/lib/python3.11/dist-packages/openpyxl/worksheet/header_footer.py:48: UserWarning: Cannot parse header or footer so it will be ignored\n",
            "  warn(\"\"\"Cannot parse header or footer so it will be ignored\"\"\")\n",
            "/usr/local/lib/python3.11/dist-packages/openpyxl/worksheet/header_footer.py:48: UserWarning: Cannot parse header or footer so it will be ignored\n",
            "  warn(\"\"\"Cannot parse header or footer so it will be ignored\"\"\")\n",
            "/usr/local/lib/python3.11/dist-packages/openpyxl/worksheet/header_footer.py:48: UserWarning: Cannot parse header or footer so it will be ignored\n",
            "  warn(\"\"\"Cannot parse header or footer so it will be ignored\"\"\")\n",
            "/usr/local/lib/python3.11/dist-packages/openpyxl/worksheet/header_footer.py:48: UserWarning: Cannot parse header or footer so it will be ignored\n",
            "  warn(\"\"\"Cannot parse header or footer so it will be ignored\"\"\")\n"
          ]
        },
        {
          "output_type": "stream",
          "name": "stdout",
          "text": [
            "✅ cleaned__HM-30084 от 18.04.2025 (1).xlsx oluşturuldu./был создан.\n",
            "\n",
            "🔄 İşleniyor: _HM-30085 от 29.04.2025 (1).xlsx\n",
            "✅ cleaned__HM-30085 от 29.04.2025 (1).xlsx oluşturuldu./был создан.\n"
          ]
        },
        {
          "output_type": "stream",
          "name": "stderr",
          "text": [
            "/usr/local/lib/python3.11/dist-packages/openpyxl/worksheet/header_footer.py:48: UserWarning: Cannot parse header or footer so it will be ignored\n",
            "  warn(\"\"\"Cannot parse header or footer so it will be ignored\"\"\")\n",
            "/usr/local/lib/python3.11/dist-packages/openpyxl/worksheet/header_footer.py:48: UserWarning: Cannot parse header or footer so it will be ignored\n",
            "  warn(\"\"\"Cannot parse header or footer so it will be ignored\"\"\")\n",
            "/usr/local/lib/python3.11/dist-packages/openpyxl/worksheet/header_footer.py:48: UserWarning: Cannot parse header or footer so it will be ignored\n",
            "  warn(\"\"\"Cannot parse header or footer so it will be ignored\"\"\")\n"
          ]
        },
        {
          "output_type": "stream",
          "name": "stdout",
          "text": [
            "\n",
            "🔄 İşleniyor: _HM-30086 от 05.05.2025 (1).xlsx\n",
            "✅ cleaned__HM-30086 от 05.05.2025 (1).xlsx oluşturuldu./был создан.\n",
            "⚠️ Hata/Ошибка: Reindexing only valid with uniquely valued Index objects\n",
            "\n",
            "🔄 İşleniyor: _HME-30084 от 21.04.2025 (1).xlsx\n"
          ]
        },
        {
          "output_type": "stream",
          "name": "stderr",
          "text": [
            "/usr/local/lib/python3.11/dist-packages/openpyxl/worksheet/header_footer.py:48: UserWarning: Cannot parse header or footer so it will be ignored\n",
            "  warn(\"\"\"Cannot parse header or footer so it will be ignored\"\"\")\n",
            "/usr/local/lib/python3.11/dist-packages/openpyxl/worksheet/header_footer.py:48: UserWarning: Cannot parse header or footer so it will be ignored\n",
            "  warn(\"\"\"Cannot parse header or footer so it will be ignored\"\"\")\n",
            "/usr/local/lib/python3.11/dist-packages/openpyxl/worksheet/header_footer.py:48: UserWarning: Cannot parse header or footer so it will be ignored\n",
            "  warn(\"\"\"Cannot parse header or footer so it will be ignored\"\"\")\n",
            "/usr/local/lib/python3.11/dist-packages/openpyxl/worksheet/header_footer.py:48: UserWarning: Cannot parse header or footer so it will be ignored\n",
            "  warn(\"\"\"Cannot parse header or footer so it will be ignored\"\"\")\n"
          ]
        },
        {
          "output_type": "stream",
          "name": "stdout",
          "text": [
            "✅ cleaned__HME-30084 от 21.04.2025 (1).xlsx oluşturuldu./был создан.\n",
            "\n",
            "🔄 İşleniyor: _HMС-30081 от 04.02.2025 (1).xlsx\n",
            "✅ cleaned__HMС-30081 от 04.02.2025 (1).xlsx oluşturuldu./был создан.\n",
            "⚠️ Hata/Ошибка: Reindexing only valid with uniquely valued Index objects\n",
            "\n",
            "🔄 İşleniyor: _SP HM-30035 to TSM-07-23-337 (1).xlsx\n"
          ]
        },
        {
          "output_type": "stream",
          "name": "stderr",
          "text": [
            "/usr/local/lib/python3.11/dist-packages/openpyxl/worksheet/header_footer.py:48: UserWarning: Cannot parse header or footer so it will be ignored\n",
            "  warn(\"\"\"Cannot parse header or footer so it will be ignored\"\"\")\n",
            "/usr/local/lib/python3.11/dist-packages/openpyxl/worksheet/header_footer.py:48: UserWarning: Cannot parse header or footer so it will be ignored\n",
            "  warn(\"\"\"Cannot parse header or footer so it will be ignored\"\"\")\n"
          ]
        },
        {
          "output_type": "stream",
          "name": "stdout",
          "text": [
            "✅ cleaned__SP HM-30035 to TSM-07-23-337 (1).xlsx oluşturuldu./был создан.\n",
            "\n",
            "🔄 İşleniyor: _SP HM-30037 to TSM-07-23-337 (1).xlsx\n"
          ]
        },
        {
          "output_type": "stream",
          "name": "stderr",
          "text": [
            "/usr/local/lib/python3.11/dist-packages/openpyxl/worksheet/header_footer.py:48: UserWarning: Cannot parse header or footer so it will be ignored\n",
            "  warn(\"\"\"Cannot parse header or footer so it will be ignored\"\"\")\n",
            "/usr/local/lib/python3.11/dist-packages/openpyxl/worksheet/header_footer.py:48: UserWarning: Cannot parse header or footer so it will be ignored\n",
            "  warn(\"\"\"Cannot parse header or footer so it will be ignored\"\"\")\n",
            "/usr/local/lib/python3.11/dist-packages/openpyxl/worksheet/header_footer.py:48: UserWarning: Cannot parse header or footer so it will be ignored\n",
            "  warn(\"\"\"Cannot parse header or footer so it will be ignored\"\"\")\n",
            "/usr/local/lib/python3.11/dist-packages/openpyxl/worksheet/header_footer.py:48: UserWarning: Cannot parse header or footer so it will be ignored\n",
            "  warn(\"\"\"Cannot parse header or footer so it will be ignored\"\"\")\n"
          ]
        },
        {
          "output_type": "stream",
          "name": "stdout",
          "text": [
            "✅ cleaned__SP HM-30037 to TSM-07-23-337 (1).xlsx oluşturuldu./был создан.\n",
            "\n",
            "🔄 İşleniyor: _SP HM-30040 (1).xlsx\n",
            "✅ cleaned__SP HM-30040 (1).xlsx oluşturuldu./был создан.\n",
            "\n",
            "🔄 İşleniyor: _SP HM-30045 to TSM-07-23-337 (1).xlsx\n"
          ]
        },
        {
          "output_type": "stream",
          "name": "stderr",
          "text": [
            "/usr/local/lib/python3.11/dist-packages/openpyxl/worksheet/header_footer.py:48: UserWarning: Cannot parse header or footer so it will be ignored\n",
            "  warn(\"\"\"Cannot parse header or footer so it will be ignored\"\"\")\n",
            "/usr/local/lib/python3.11/dist-packages/openpyxl/worksheet/header_footer.py:48: UserWarning: Cannot parse header or footer so it will be ignored\n",
            "  warn(\"\"\"Cannot parse header or footer so it will be ignored\"\"\")\n",
            "/usr/local/lib/python3.11/dist-packages/openpyxl/worksheet/header_footer.py:48: UserWarning: Cannot parse header or footer so it will be ignored\n",
            "  warn(\"\"\"Cannot parse header or footer so it will be ignored\"\"\")\n",
            "/usr/local/lib/python3.11/dist-packages/openpyxl/worksheet/header_footer.py:48: UserWarning: Cannot parse header or footer so it will be ignored\n",
            "  warn(\"\"\"Cannot parse header or footer so it will be ignored\"\"\")\n"
          ]
        },
        {
          "output_type": "stream",
          "name": "stdout",
          "text": [
            "✅ cleaned__SP HM-30045 to TSM-07-23-337 (1).xlsx oluşturuldu./был создан.\n",
            "\n",
            "🔄 İşleniyor: _SP HM-30048 to TSM-07-23-337 (1).xlsx\n",
            "✅ cleaned__SP HM-30048 to TSM-07-23-337 (1).xlsx oluşturuldu./был создан.\n",
            "\n",
            "🔄 İşleniyor: _SP HM-30060 to TSM-07-23-337 (1).xlsx\n"
          ]
        },
        {
          "output_type": "stream",
          "name": "stderr",
          "text": [
            "/usr/local/lib/python3.11/dist-packages/openpyxl/worksheet/header_footer.py:48: UserWarning: Cannot parse header or footer so it will be ignored\n",
            "  warn(\"\"\"Cannot parse header or footer so it will be ignored\"\"\")\n",
            "/usr/local/lib/python3.11/dist-packages/openpyxl/worksheet/header_footer.py:48: UserWarning: Cannot parse header or footer so it will be ignored\n",
            "  warn(\"\"\"Cannot parse header or footer so it will be ignored\"\"\")\n",
            "/usr/local/lib/python3.11/dist-packages/openpyxl/worksheet/header_footer.py:48: UserWarning: Cannot parse header or footer so it will be ignored\n",
            "  warn(\"\"\"Cannot parse header or footer so it will be ignored\"\"\")\n",
            "/usr/local/lib/python3.11/dist-packages/openpyxl/worksheet/header_footer.py:48: UserWarning: Cannot parse header or footer so it will be ignored\n",
            "  warn(\"\"\"Cannot parse header or footer so it will be ignored\"\"\")\n"
          ]
        },
        {
          "output_type": "stream",
          "name": "stdout",
          "text": [
            "✅ cleaned__SP HM-30060 to TSM-07-23-337 (1).xlsx oluşturuldu./был создан.\n",
            "\n",
            "🔄 İşleniyor: 0_HCN-230085 to TSM-07-23-337.V1 (1).xlsx\n",
            "⚠️ Hata/Ошибка: single positional indexer is out-of-bounds\n",
            "\n",
            "🔄 İşleniyor: 0_HCN-230093 to TSM-07-23-337.v1 (1).xlsx\n"
          ]
        },
        {
          "output_type": "stream",
          "name": "stderr",
          "text": [
            "/usr/local/lib/python3.11/dist-packages/openpyxl/worksheet/header_footer.py:48: UserWarning: Cannot parse header or footer so it will be ignored\n",
            "  warn(\"\"\"Cannot parse header or footer so it will be ignored\"\"\")\n",
            "/usr/local/lib/python3.11/dist-packages/openpyxl/worksheet/header_footer.py:48: UserWarning: Cannot parse header or footer so it will be ignored\n",
            "  warn(\"\"\"Cannot parse header or footer so it will be ignored\"\"\")\n",
            "/usr/local/lib/python3.11/dist-packages/openpyxl/worksheet/header_footer.py:48: UserWarning: Cannot parse header or footer so it will be ignored\n",
            "  warn(\"\"\"Cannot parse header or footer so it will be ignored\"\"\")\n",
            "/usr/local/lib/python3.11/dist-packages/openpyxl/worksheet/header_footer.py:48: UserWarning: Cannot parse header or footer so it will be ignored\n",
            "  warn(\"\"\"Cannot parse header or footer so it will be ignored\"\"\")\n",
            "/usr/local/lib/python3.11/dist-packages/openpyxl/worksheet/header_footer.py:48: UserWarning: Cannot parse header or footer so it will be ignored\n",
            "  warn(\"\"\"Cannot parse header or footer so it will be ignored\"\"\")\n",
            "/usr/local/lib/python3.11/dist-packages/openpyxl/worksheet/header_footer.py:48: UserWarning: Cannot parse header or footer so it will be ignored\n",
            "  warn(\"\"\"Cannot parse header or footer so it will be ignored\"\"\")\n"
          ]
        },
        {
          "output_type": "stream",
          "name": "stdout",
          "text": [
            "⚠️ Hata/Ошибка: single positional indexer is out-of-bounds\n",
            "\n",
            "🔄 İşleniyor: 0_HCN-230110 to TSM-07-23-337 (1).xlsx\n",
            "⚠️ Hata/Ошибка: single positional indexer is out-of-bounds\n",
            "\n",
            "🔄 İşleniyor: 0_HCN-230129 to TSM-07-23-337 (1).xlsx\n",
            "⚠️ Hata/Ошибка: single positional indexer is out-of-bounds\n",
            "\n",
            "🔄 İşleniyor: 0_HM - 30054 (1).xlsx\n"
          ]
        },
        {
          "output_type": "stream",
          "name": "stderr",
          "text": [
            "/usr/local/lib/python3.11/dist-packages/openpyxl/worksheet/header_footer.py:48: UserWarning: Cannot parse header or footer so it will be ignored\n",
            "  warn(\"\"\"Cannot parse header or footer so it will be ignored\"\"\")\n",
            "/usr/local/lib/python3.11/dist-packages/openpyxl/worksheet/header_footer.py:48: UserWarning: Cannot parse header or footer so it will be ignored\n",
            "  warn(\"\"\"Cannot parse header or footer so it will be ignored\"\"\")\n"
          ]
        },
        {
          "output_type": "stream",
          "name": "stdout",
          "text": [
            "✅ cleaned_0_HM - 30054 (1).xlsx oluşturuldu./был создан.\n",
            "\n",
            "🔄 İşleniyor: 0_HM-30036.1 (1).xlsx\n"
          ]
        },
        {
          "output_type": "stream",
          "name": "stderr",
          "text": [
            "/usr/local/lib/python3.11/dist-packages/openpyxl/worksheet/header_footer.py:48: UserWarning: Cannot parse header or footer so it will be ignored\n",
            "  warn(\"\"\"Cannot parse header or footer so it will be ignored\"\"\")\n",
            "/usr/local/lib/python3.11/dist-packages/openpyxl/worksheet/header_footer.py:48: UserWarning: Cannot parse header or footer so it will be ignored\n",
            "  warn(\"\"\"Cannot parse header or footer so it will be ignored\"\"\")\n",
            "/usr/local/lib/python3.11/dist-packages/openpyxl/worksheet/header_footer.py:48: UserWarning: Cannot parse header or footer so it will be ignored\n",
            "  warn(\"\"\"Cannot parse header or footer so it will be ignored\"\"\")\n",
            "/usr/local/lib/python3.11/dist-packages/openpyxl/worksheet/header_footer.py:48: UserWarning: Cannot parse header or footer so it will be ignored\n",
            "  warn(\"\"\"Cannot parse header or footer so it will be ignored\"\"\")\n",
            "/usr/local/lib/python3.11/dist-packages/openpyxl/worksheet/header_footer.py:48: UserWarning: Cannot parse header or footer so it will be ignored\n",
            "  warn(\"\"\"Cannot parse header or footer so it will be ignored\"\"\")\n"
          ]
        },
        {
          "output_type": "stream",
          "name": "stdout",
          "text": [
            "✅ cleaned_0_HM-30036.1 (1).xlsx oluşturuldu./был создан.\n",
            "\n",
            "🔄 İşleniyor: 0_HM-30038.1 (1).xlsx\n",
            "✅ cleaned_0_HM-30038.1 (1).xlsx oluşturuldu./был создан.\n",
            "\n",
            "🔄 İşleniyor: 0_HM-30049 son (1).xlsx\n"
          ]
        },
        {
          "output_type": "stream",
          "name": "stderr",
          "text": [
            "/usr/local/lib/python3.11/dist-packages/openpyxl/worksheet/header_footer.py:48: UserWarning: Cannot parse header or footer so it will be ignored\n",
            "  warn(\"\"\"Cannot parse header or footer so it will be ignored\"\"\")\n",
            "/usr/local/lib/python3.11/dist-packages/openpyxl/worksheet/header_footer.py:48: UserWarning: Cannot parse header or footer so it will be ignored\n",
            "  warn(\"\"\"Cannot parse header or footer so it will be ignored\"\"\")\n",
            "/usr/local/lib/python3.11/dist-packages/openpyxl/worksheet/header_footer.py:48: UserWarning: Cannot parse header or footer so it will be ignored\n",
            "  warn(\"\"\"Cannot parse header or footer so it will be ignored\"\"\")\n"
          ]
        },
        {
          "output_type": "stream",
          "name": "stdout",
          "text": [
            "✅ cleaned_0_HM-30049 son (1).xlsx oluşturuldu./был создан.\n",
            "\n",
            "🔄 İşleniyor: 0_HM-30053 22.05.2024 (1).xlsx\n",
            "✅ cleaned_0_HM-30053 22.05.2024 (1).xlsx oluşturuldu./был создан.\n",
            "\n",
            "🔄 İşleniyor: 0_HM-30056 от 27.09.2024 (1).xlsx\n"
          ]
        },
        {
          "output_type": "stream",
          "name": "stderr",
          "text": [
            "/usr/local/lib/python3.11/dist-packages/openpyxl/worksheet/header_footer.py:48: UserWarning: Cannot parse header or footer so it will be ignored\n",
            "  warn(\"\"\"Cannot parse header or footer so it will be ignored\"\"\")\n",
            "/usr/local/lib/python3.11/dist-packages/openpyxl/worksheet/header_footer.py:48: UserWarning: Cannot parse header or footer so it will be ignored\n",
            "  warn(\"\"\"Cannot parse header or footer so it will be ignored\"\"\")\n",
            "/usr/local/lib/python3.11/dist-packages/openpyxl/worksheet/header_footer.py:48: UserWarning: Cannot parse header or footer so it will be ignored\n",
            "  warn(\"\"\"Cannot parse header or footer so it will be ignored\"\"\")\n",
            "/usr/local/lib/python3.11/dist-packages/openpyxl/worksheet/header_footer.py:48: UserWarning: Cannot parse header or footer so it will be ignored\n",
            "  warn(\"\"\"Cannot parse header or footer so it will be ignored\"\"\")\n",
            "/usr/local/lib/python3.11/dist-packages/openpyxl/worksheet/header_footer.py:48: UserWarning: Cannot parse header or footer so it will be ignored\n",
            "  warn(\"\"\"Cannot parse header or footer so it will be ignored\"\"\")\n"
          ]
        },
        {
          "output_type": "stream",
          "name": "stdout",
          "text": [
            "✅ cleaned_0_HM-30056 от 27.09.2024 (1).xlsx oluşturuldu./был создан.\n",
            "\n",
            "🔄 İşleniyor: 0_HM-30063 (1).xlsx\n",
            "✅ cleaned_0_HM-30063 (1).xlsx oluşturuldu./был создан.\n",
            "\n",
            "🔄 İşleniyor: 0_HM-30064 (1).xlsx\n"
          ]
        },
        {
          "output_type": "stream",
          "name": "stderr",
          "text": [
            "/usr/local/lib/python3.11/dist-packages/openpyxl/worksheet/header_footer.py:48: UserWarning: Cannot parse header or footer so it will be ignored\n",
            "  warn(\"\"\"Cannot parse header or footer so it will be ignored\"\"\")\n",
            "/usr/local/lib/python3.11/dist-packages/openpyxl/worksheet/header_footer.py:48: UserWarning: Cannot parse header or footer so it will be ignored\n",
            "  warn(\"\"\"Cannot parse header or footer so it will be ignored\"\"\")\n",
            "/usr/local/lib/python3.11/dist-packages/openpyxl/worksheet/header_footer.py:48: UserWarning: Cannot parse header or footer so it will be ignored\n",
            "  warn(\"\"\"Cannot parse header or footer so it will be ignored\"\"\")\n",
            "/usr/local/lib/python3.11/dist-packages/openpyxl/worksheet/header_footer.py:48: UserWarning: Cannot parse header or footer so it will be ignored\n",
            "  warn(\"\"\"Cannot parse header or footer so it will be ignored\"\"\")\n"
          ]
        },
        {
          "output_type": "stream",
          "name": "stdout",
          "text": [
            "✅ cleaned_0_HM-30064 (1).xlsx oluşturuldu./был создан.\n",
            "\n",
            "🔄 İşleniyor: 0_HM-30067 от 04.10.2024 (1).xlsx\n",
            "✅ cleaned_0_HM-30067 от 04.10.2024 (1).xlsx oluşturuldu./был создан.\n",
            "\n",
            "🔄 İşleniyor: 0_HM-30076 (1).xlsx\n"
          ]
        },
        {
          "output_type": "stream",
          "name": "stderr",
          "text": [
            "/usr/local/lib/python3.11/dist-packages/openpyxl/worksheet/header_footer.py:48: UserWarning: Cannot parse header or footer so it will be ignored\n",
            "  warn(\"\"\"Cannot parse header or footer so it will be ignored\"\"\")\n",
            "/usr/local/lib/python3.11/dist-packages/openpyxl/worksheet/header_footer.py:48: UserWarning: Cannot parse header or footer so it will be ignored\n",
            "  warn(\"\"\"Cannot parse header or footer so it will be ignored\"\"\")\n",
            "/usr/local/lib/python3.11/dist-packages/openpyxl/worksheet/header_footer.py:48: UserWarning: Cannot parse header or footer so it will be ignored\n",
            "  warn(\"\"\"Cannot parse header or footer so it will be ignored\"\"\")\n",
            "/usr/local/lib/python3.11/dist-packages/openpyxl/worksheet/header_footer.py:48: UserWarning: Cannot parse header or footer so it will be ignored\n",
            "  warn(\"\"\"Cannot parse header or footer so it will be ignored\"\"\")\n",
            "/usr/local/lib/python3.11/dist-packages/openpyxl/worksheet/header_footer.py:48: UserWarning: Cannot parse header or footer so it will be ignored\n",
            "  warn(\"\"\"Cannot parse header or footer so it will be ignored\"\"\")\n",
            "/usr/local/lib/python3.11/dist-packages/openpyxl/worksheet/header_footer.py:48: UserWarning: Cannot parse header or footer so it will be ignored\n",
            "  warn(\"\"\"Cannot parse header or footer so it will be ignored\"\"\")\n",
            "/usr/local/lib/python3.11/dist-packages/openpyxl/worksheet/header_footer.py:48: UserWarning: Cannot parse header or footer so it will be ignored\n",
            "  warn(\"\"\"Cannot parse header or footer so it will be ignored\"\"\")\n"
          ]
        },
        {
          "output_type": "stream",
          "name": "stdout",
          "text": [
            "✅ cleaned_0_HM-30076 (1).xlsx oluşturuldu./был создан.\n",
            "⚠️ Hata/Ошибка: Reindexing only valid with uniquely valued Index objects\n",
            "\n",
            "🔄 İşleniyor: 0_SP HCN-230038 to TSM-07-23-337 (1).xlsx\n",
            "⚠️ Hata/Ошибка: single positional indexer is out-of-bounds\n",
            "\n",
            "🔄 İşleniyor: 0_SP HCN-230046 to TSM-07-23-337 (1).xlsx\n",
            "⚠️ Hata/Ошибка: single positional indexer is out-of-bounds\n",
            "\n",
            "🔄 İşleniyor: 0_SP HCN-230046.1 to TSM-07-23-337.v1 (1).xlsx\n",
            "⚠️ Hata/Ошибка: single positional indexer is out-of-bounds\n",
            "\n",
            "🔄 İşleniyor: 0_SP HCN-230054 to TSM-07-23-337.v2 (1).xlsx\n"
          ]
        },
        {
          "output_type": "stream",
          "name": "stderr",
          "text": [
            "/usr/local/lib/python3.11/dist-packages/openpyxl/worksheet/header_footer.py:48: UserWarning: Cannot parse header or footer so it will be ignored\n",
            "  warn(\"\"\"Cannot parse header or footer so it will be ignored\"\"\")\n",
            "/usr/local/lib/python3.11/dist-packages/openpyxl/worksheet/header_footer.py:48: UserWarning: Cannot parse header or footer so it will be ignored\n",
            "  warn(\"\"\"Cannot parse header or footer so it will be ignored\"\"\")\n",
            "/usr/local/lib/python3.11/dist-packages/openpyxl/worksheet/header_footer.py:48: UserWarning: Cannot parse header or footer so it will be ignored\n",
            "  warn(\"\"\"Cannot parse header or footer so it will be ignored\"\"\")\n",
            "/usr/local/lib/python3.11/dist-packages/openpyxl/worksheet/header_footer.py:48: UserWarning: Cannot parse header or footer so it will be ignored\n",
            "  warn(\"\"\"Cannot parse header or footer so it will be ignored\"\"\")\n",
            "/usr/local/lib/python3.11/dist-packages/openpyxl/worksheet/header_footer.py:48: UserWarning: Cannot parse header or footer so it will be ignored\n",
            "  warn(\"\"\"Cannot parse header or footer so it will be ignored\"\"\")\n",
            "/usr/local/lib/python3.11/dist-packages/openpyxl/worksheet/header_footer.py:48: UserWarning: Cannot parse header or footer so it will be ignored\n",
            "  warn(\"\"\"Cannot parse header or footer so it will be ignored\"\"\")\n"
          ]
        },
        {
          "output_type": "stream",
          "name": "stdout",
          "text": [
            "⚠️ Hata/Ошибка: single positional indexer is out-of-bounds\n",
            "\n",
            "🔄 İşleniyor: 0_SP HCN-230056 to TSM-07-23-337.v2 (1).xlsx\n",
            "⚠️ Hata/Ошибка: single positional indexer is out-of-bounds\n",
            "\n",
            "🔄 İşleniyor: 0_SP HCN-230057 to TSM-07-23-337 (1).xlsx\n",
            "⚠️ Hata/Ошибка: single positional indexer is out-of-bounds\n",
            "\n",
            "🔄 İşleniyor: 0_SP HCN-230058 to TSM-07-23-337 (1).xlsx\n"
          ]
        },
        {
          "output_type": "stream",
          "name": "stderr",
          "text": [
            "/usr/local/lib/python3.11/dist-packages/openpyxl/worksheet/header_footer.py:48: UserWarning: Cannot parse header or footer so it will be ignored\n",
            "  warn(\"\"\"Cannot parse header or footer so it will be ignored\"\"\")\n",
            "/usr/local/lib/python3.11/dist-packages/openpyxl/worksheet/header_footer.py:48: UserWarning: Cannot parse header or footer so it will be ignored\n",
            "  warn(\"\"\"Cannot parse header or footer so it will be ignored\"\"\")\n",
            "/usr/local/lib/python3.11/dist-packages/openpyxl/worksheet/header_footer.py:48: UserWarning: Cannot parse header or footer so it will be ignored\n",
            "  warn(\"\"\"Cannot parse header or footer so it will be ignored\"\"\")\n",
            "/usr/local/lib/python3.11/dist-packages/openpyxl/worksheet/header_footer.py:48: UserWarning: Cannot parse header or footer so it will be ignored\n",
            "  warn(\"\"\"Cannot parse header or footer so it will be ignored\"\"\")\n",
            "/usr/local/lib/python3.11/dist-packages/openpyxl/worksheet/header_footer.py:48: UserWarning: Cannot parse header or footer so it will be ignored\n",
            "  warn(\"\"\"Cannot parse header or footer so it will be ignored\"\"\")\n",
            "/usr/local/lib/python3.11/dist-packages/openpyxl/worksheet/header_footer.py:48: UserWarning: Cannot parse header or footer so it will be ignored\n",
            "  warn(\"\"\"Cannot parse header or footer so it will be ignored\"\"\")\n"
          ]
        },
        {
          "output_type": "stream",
          "name": "stdout",
          "text": [
            "⚠️ Hata/Ошибка: single positional indexer is out-of-bounds\n",
            "\n",
            "🔄 İşleniyor: 0_SP HCN-230062 to TSM-07-23-337 (1).xlsx\n",
            "⚠️ Hata/Ошибка: single positional indexer is out-of-bounds\n",
            "\n",
            "🔄 İşleniyor: 0_SP HCN-230063 to TSM-07-23-337.v1 (1).xlsx\n",
            "⚠️ Hata/Ошибка: single positional indexer is out-of-bounds\n",
            "\n",
            "🔄 İşleniyor: 0_SP HCN-230067 to TSM-07-23-337 (1).xlsx\n"
          ]
        },
        {
          "output_type": "stream",
          "name": "stderr",
          "text": [
            "/usr/local/lib/python3.11/dist-packages/openpyxl/worksheet/header_footer.py:48: UserWarning: Cannot parse header or footer so it will be ignored\n",
            "  warn(\"\"\"Cannot parse header or footer so it will be ignored\"\"\")\n",
            "/usr/local/lib/python3.11/dist-packages/openpyxl/worksheet/header_footer.py:48: UserWarning: Cannot parse header or footer so it will be ignored\n",
            "  warn(\"\"\"Cannot parse header or footer so it will be ignored\"\"\")\n",
            "/usr/local/lib/python3.11/dist-packages/openpyxl/worksheet/header_footer.py:48: UserWarning: Cannot parse header or footer so it will be ignored\n",
            "  warn(\"\"\"Cannot parse header or footer so it will be ignored\"\"\")\n",
            "/usr/local/lib/python3.11/dist-packages/openpyxl/worksheet/header_footer.py:48: UserWarning: Cannot parse header or footer so it will be ignored\n",
            "  warn(\"\"\"Cannot parse header or footer so it will be ignored\"\"\")\n",
            "/usr/local/lib/python3.11/dist-packages/openpyxl/worksheet/header_footer.py:48: UserWarning: Cannot parse header or footer so it will be ignored\n",
            "  warn(\"\"\"Cannot parse header or footer so it will be ignored\"\"\")\n",
            "/usr/local/lib/python3.11/dist-packages/openpyxl/worksheet/header_footer.py:48: UserWarning: Cannot parse header or footer so it will be ignored\n",
            "  warn(\"\"\"Cannot parse header or footer so it will be ignored\"\"\")\n",
            "/usr/local/lib/python3.11/dist-packages/openpyxl/worksheet/header_footer.py:48: UserWarning: Cannot parse header or footer so it will be ignored\n",
            "  warn(\"\"\"Cannot parse header or footer so it will be ignored\"\"\")\n"
          ]
        },
        {
          "output_type": "stream",
          "name": "stdout",
          "text": [
            "⚠️ Hata/Ошибка: single positional indexer is out-of-bounds\n",
            "\n",
            "🔄 İşleniyor: 0_SP HCN-230068 to TSM-07-23-337.v2 (1).xlsx\n",
            "⚠️ Hata/Ошибка: single positional indexer is out-of-bounds\n",
            "\n",
            "🔄 İşleniyor: 0_SP HCN-230069 to TSM-07-23-337.1 (1).xlsx\n",
            "⚠️ Hata/Ошибка: single positional indexer is out-of-bounds\n",
            "\n",
            "🔄 İşleniyor: 0_SP HCN-230071 to TSM-07-23-337 (1).xlsx\n",
            "⚠️ Hata/Ошибка: single positional indexer is out-of-bounds\n",
            "\n",
            "🔄 İşleniyor: 0_SP HCN-230072 to TSM-07-23-337 (1).xlsx\n"
          ]
        },
        {
          "output_type": "stream",
          "name": "stderr",
          "text": [
            "/usr/local/lib/python3.11/dist-packages/openpyxl/worksheet/header_footer.py:48: UserWarning: Cannot parse header or footer so it will be ignored\n",
            "  warn(\"\"\"Cannot parse header or footer so it will be ignored\"\"\")\n",
            "/usr/local/lib/python3.11/dist-packages/openpyxl/worksheet/header_footer.py:48: UserWarning: Cannot parse header or footer so it will be ignored\n",
            "  warn(\"\"\"Cannot parse header or footer so it will be ignored\"\"\")\n",
            "/usr/local/lib/python3.11/dist-packages/openpyxl/worksheet/header_footer.py:48: UserWarning: Cannot parse header or footer so it will be ignored\n",
            "  warn(\"\"\"Cannot parse header or footer so it will be ignored\"\"\")\n",
            "/usr/local/lib/python3.11/dist-packages/openpyxl/worksheet/header_footer.py:48: UserWarning: Cannot parse header or footer so it will be ignored\n",
            "  warn(\"\"\"Cannot parse header or footer so it will be ignored\"\"\")\n"
          ]
        },
        {
          "output_type": "stream",
          "name": "stdout",
          "text": [
            "⚠️ Hata/Ошибка: single positional indexer is out-of-bounds\n",
            "\n",
            "🔄 İşleniyor: 0_SP HCN-230076 to TSM-07-23-337.V1 (1).xlsx\n",
            "⚠️ Hata/Ошибка: single positional indexer is out-of-bounds\n",
            "\n",
            "🔄 İşleniyor: 0_SP HCN-230077 to TSM-07-23-337 (1).xlsx\n"
          ]
        },
        {
          "output_type": "stream",
          "name": "stderr",
          "text": [
            "/usr/local/lib/python3.11/dist-packages/openpyxl/worksheet/header_footer.py:48: UserWarning: Cannot parse header or footer so it will be ignored\n",
            "  warn(\"\"\"Cannot parse header or footer so it will be ignored\"\"\")\n",
            "/usr/local/lib/python3.11/dist-packages/openpyxl/worksheet/header_footer.py:48: UserWarning: Cannot parse header or footer so it will be ignored\n",
            "  warn(\"\"\"Cannot parse header or footer so it will be ignored\"\"\")\n",
            "/usr/local/lib/python3.11/dist-packages/openpyxl/worksheet/header_footer.py:48: UserWarning: Cannot parse header or footer so it will be ignored\n",
            "  warn(\"\"\"Cannot parse header or footer so it will be ignored\"\"\")\n",
            "/usr/local/lib/python3.11/dist-packages/openpyxl/worksheet/header_footer.py:48: UserWarning: Cannot parse header or footer so it will be ignored\n",
            "  warn(\"\"\"Cannot parse header or footer so it will be ignored\"\"\")\n",
            "/usr/local/lib/python3.11/dist-packages/openpyxl/worksheet/header_footer.py:48: UserWarning: Cannot parse header or footer so it will be ignored\n",
            "  warn(\"\"\"Cannot parse header or footer so it will be ignored\"\"\")\n"
          ]
        },
        {
          "output_type": "stream",
          "name": "stdout",
          "text": [
            "⚠️ Hata/Ошибка: single positional indexer is out-of-bounds\n",
            "\n",
            "🔄 İşleniyor: 0_SP HCN-230078 to TSM-07-23-337 (1).xlsx\n",
            "⚠️ Hata/Ошибка: single positional indexer is out-of-bounds\n",
            "\n",
            "🔄 İşleniyor: 0_SP HCN-230079 to TSM-07-23-337 (1).xlsx\n",
            "⚠️ Hata/Ошибка: single positional indexer is out-of-bounds\n",
            "\n",
            "🔄 İşleniyor: 0_SP HCN-230081 to TSM-07-23-337.v1 (1).xlsx\n"
          ]
        },
        {
          "output_type": "stream",
          "name": "stderr",
          "text": [
            "/usr/local/lib/python3.11/dist-packages/openpyxl/worksheet/header_footer.py:48: UserWarning: Cannot parse header or footer so it will be ignored\n",
            "  warn(\"\"\"Cannot parse header or footer so it will be ignored\"\"\")\n",
            "/usr/local/lib/python3.11/dist-packages/openpyxl/worksheet/header_footer.py:48: UserWarning: Cannot parse header or footer so it will be ignored\n",
            "  warn(\"\"\"Cannot parse header or footer so it will be ignored\"\"\")\n",
            "/usr/local/lib/python3.11/dist-packages/openpyxl/worksheet/header_footer.py:48: UserWarning: Cannot parse header or footer so it will be ignored\n",
            "  warn(\"\"\"Cannot parse header or footer so it will be ignored\"\"\")\n",
            "/usr/local/lib/python3.11/dist-packages/openpyxl/worksheet/header_footer.py:48: UserWarning: Cannot parse header or footer so it will be ignored\n",
            "  warn(\"\"\"Cannot parse header or footer so it will be ignored\"\"\")\n",
            "/usr/local/lib/python3.11/dist-packages/openpyxl/worksheet/header_footer.py:48: UserWarning: Cannot parse header or footer so it will be ignored\n",
            "  warn(\"\"\"Cannot parse header or footer so it will be ignored\"\"\")\n",
            "/usr/local/lib/python3.11/dist-packages/openpyxl/worksheet/header_footer.py:48: UserWarning: Cannot parse header or footer so it will be ignored\n",
            "  warn(\"\"\"Cannot parse header or footer so it will be ignored\"\"\")\n"
          ]
        },
        {
          "output_type": "stream",
          "name": "stdout",
          "text": [
            "⚠️ Hata/Ошибка: single positional indexer is out-of-bounds\n",
            "\n",
            "🔄 İşleniyor: 0_SP HCN-230084to TSM-07-23-337.v2 (1).xlsx\n",
            "⚠️ Hata/Ошибка: single positional indexer is out-of-bounds\n",
            "\n",
            "🔄 İşleniyor: 0_SP HCN-230087 to TSM-07-23-337 (1).xlsx\n",
            "⚠️ Hata/Ошибка: single positional indexer is out-of-bounds\n",
            "\n",
            "🔄 İşleniyor: 0_SP HCN-230088 to TSM-07-23-337.v2 (1).xlsx\n"
          ]
        },
        {
          "output_type": "stream",
          "name": "stderr",
          "text": [
            "/usr/local/lib/python3.11/dist-packages/openpyxl/worksheet/header_footer.py:48: UserWarning: Cannot parse header or footer so it will be ignored\n",
            "  warn(\"\"\"Cannot parse header or footer so it will be ignored\"\"\")\n",
            "/usr/local/lib/python3.11/dist-packages/openpyxl/worksheet/header_footer.py:48: UserWarning: Cannot parse header or footer so it will be ignored\n",
            "  warn(\"\"\"Cannot parse header or footer so it will be ignored\"\"\")\n",
            "/usr/local/lib/python3.11/dist-packages/openpyxl/worksheet/header_footer.py:48: UserWarning: Cannot parse header or footer so it will be ignored\n",
            "  warn(\"\"\"Cannot parse header or footer so it will be ignored\"\"\")\n",
            "/usr/local/lib/python3.11/dist-packages/openpyxl/worksheet/header_footer.py:48: UserWarning: Cannot parse header or footer so it will be ignored\n",
            "  warn(\"\"\"Cannot parse header or footer so it will be ignored\"\"\")\n",
            "/usr/local/lib/python3.11/dist-packages/openpyxl/worksheet/header_footer.py:48: UserWarning: Cannot parse header or footer so it will be ignored\n",
            "  warn(\"\"\"Cannot parse header or footer so it will be ignored\"\"\")\n",
            "/usr/local/lib/python3.11/dist-packages/openpyxl/worksheet/header_footer.py:48: UserWarning: Cannot parse header or footer so it will be ignored\n",
            "  warn(\"\"\"Cannot parse header or footer so it will be ignored\"\"\")\n"
          ]
        },
        {
          "output_type": "stream",
          "name": "stdout",
          "text": [
            "⚠️ Hata/Ошибка: single positional indexer is out-of-bounds\n",
            "\n",
            "🔄 İşleniyor: 0_SP HCN-230089 to TSM-07-23-337 (1).xlsx\n",
            "⚠️ Hata/Ошибка: single positional indexer is out-of-bounds\n",
            "\n",
            "🔄 İşleniyor: 0_SP HCN-230090to TSM-07-23-337.v2 (1).xlsx\n",
            "⚠️ Hata/Ошибка: single positional indexer is out-of-bounds\n",
            "\n",
            "🔄 İşleniyor: 0_SP HCN-230091 to TSM-07-23-337 (1).xlsx\n"
          ]
        },
        {
          "output_type": "stream",
          "name": "stderr",
          "text": [
            "/usr/local/lib/python3.11/dist-packages/openpyxl/worksheet/header_footer.py:48: UserWarning: Cannot parse header or footer so it will be ignored\n",
            "  warn(\"\"\"Cannot parse header or footer so it will be ignored\"\"\")\n",
            "/usr/local/lib/python3.11/dist-packages/openpyxl/worksheet/header_footer.py:48: UserWarning: Cannot parse header or footer so it will be ignored\n",
            "  warn(\"\"\"Cannot parse header or footer so it will be ignored\"\"\")\n",
            "/usr/local/lib/python3.11/dist-packages/openpyxl/worksheet/header_footer.py:48: UserWarning: Cannot parse header or footer so it will be ignored\n",
            "  warn(\"\"\"Cannot parse header or footer so it will be ignored\"\"\")\n",
            "/usr/local/lib/python3.11/dist-packages/openpyxl/worksheet/header_footer.py:48: UserWarning: Cannot parse header or footer so it will be ignored\n",
            "  warn(\"\"\"Cannot parse header or footer so it will be ignored\"\"\")\n",
            "/usr/local/lib/python3.11/dist-packages/openpyxl/worksheet/header_footer.py:48: UserWarning: Cannot parse header or footer so it will be ignored\n",
            "  warn(\"\"\"Cannot parse header or footer so it will be ignored\"\"\")\n",
            "/usr/local/lib/python3.11/dist-packages/openpyxl/worksheet/header_footer.py:48: UserWarning: Cannot parse header or footer so it will be ignored\n",
            "  warn(\"\"\"Cannot parse header or footer so it will be ignored\"\"\")\n"
          ]
        },
        {
          "output_type": "stream",
          "name": "stdout",
          "text": [
            "⚠️ Hata/Ошибка: single positional indexer is out-of-bounds\n",
            "\n",
            "🔄 İşleniyor: 0_SP HCN-230092 to TSM-07-23-337 (1).xlsx\n",
            "⚠️ Hata/Ошибка: single positional indexer is out-of-bounds\n",
            "\n",
            "🔄 İşleniyor: 0_SP HCN-230094 to TSM-07-23-337 (1).xlsx\n",
            "⚠️ Hata/Ошибка: single positional indexer is out-of-bounds\n",
            "\n",
            "🔄 İşleniyor: 0_SP HCN-230095 to TSM-07-23-337 (1).xlsx\n"
          ]
        },
        {
          "output_type": "stream",
          "name": "stderr",
          "text": [
            "/usr/local/lib/python3.11/dist-packages/openpyxl/worksheet/header_footer.py:48: UserWarning: Cannot parse header or footer so it will be ignored\n",
            "  warn(\"\"\"Cannot parse header or footer so it will be ignored\"\"\")\n",
            "/usr/local/lib/python3.11/dist-packages/openpyxl/worksheet/header_footer.py:48: UserWarning: Cannot parse header or footer so it will be ignored\n",
            "  warn(\"\"\"Cannot parse header or footer so it will be ignored\"\"\")\n",
            "/usr/local/lib/python3.11/dist-packages/openpyxl/worksheet/header_footer.py:48: UserWarning: Cannot parse header or footer so it will be ignored\n",
            "  warn(\"\"\"Cannot parse header or footer so it will be ignored\"\"\")\n",
            "/usr/local/lib/python3.11/dist-packages/openpyxl/worksheet/header_footer.py:48: UserWarning: Cannot parse header or footer so it will be ignored\n",
            "  warn(\"\"\"Cannot parse header or footer so it will be ignored\"\"\")\n",
            "/usr/local/lib/python3.11/dist-packages/openpyxl/worksheet/header_footer.py:48: UserWarning: Cannot parse header or footer so it will be ignored\n",
            "  warn(\"\"\"Cannot parse header or footer so it will be ignored\"\"\")\n",
            "/usr/local/lib/python3.11/dist-packages/openpyxl/worksheet/header_footer.py:48: UserWarning: Cannot parse header or footer so it will be ignored\n",
            "  warn(\"\"\"Cannot parse header or footer so it will be ignored\"\"\")\n"
          ]
        },
        {
          "output_type": "stream",
          "name": "stdout",
          "text": [
            "⚠️ Hata/Ошибка: single positional indexer is out-of-bounds\n",
            "\n",
            "🔄 İşleniyor: 0_SP HM-30026  to TSM-07-23-337 (1).xlsx\n",
            "✅ cleaned_0_SP HM-30026  to TSM-07-23-337 (1).xlsx oluşturuldu./был создан.\n",
            "\n",
            "🔄 İşleniyor: 0_SP HM-30028  to TSM-07-23-337 (1).xlsx\n"
          ]
        },
        {
          "output_type": "stream",
          "name": "stderr",
          "text": [
            "/usr/local/lib/python3.11/dist-packages/openpyxl/worksheet/header_footer.py:48: UserWarning: Cannot parse header or footer so it will be ignored\n",
            "  warn(\"\"\"Cannot parse header or footer so it will be ignored\"\"\")\n",
            "/usr/local/lib/python3.11/dist-packages/openpyxl/worksheet/header_footer.py:48: UserWarning: Cannot parse header or footer so it will be ignored\n",
            "  warn(\"\"\"Cannot parse header or footer so it will be ignored\"\"\")\n",
            "/usr/local/lib/python3.11/dist-packages/openpyxl/worksheet/header_footer.py:48: UserWarning: Cannot parse header or footer so it will be ignored\n",
            "  warn(\"\"\"Cannot parse header or footer so it will be ignored\"\"\")\n",
            "/usr/local/lib/python3.11/dist-packages/openpyxl/worksheet/header_footer.py:48: UserWarning: Cannot parse header or footer so it will be ignored\n",
            "  warn(\"\"\"Cannot parse header or footer so it will be ignored\"\"\")\n",
            "/usr/local/lib/python3.11/dist-packages/openpyxl/worksheet/header_footer.py:48: UserWarning: Cannot parse header or footer so it will be ignored\n",
            "  warn(\"\"\"Cannot parse header or footer so it will be ignored\"\"\")\n",
            "/usr/local/lib/python3.11/dist-packages/openpyxl/worksheet/header_footer.py:48: UserWarning: Cannot parse header or footer so it will be ignored\n",
            "  warn(\"\"\"Cannot parse header or footer so it will be ignored\"\"\")\n"
          ]
        },
        {
          "output_type": "stream",
          "name": "stdout",
          "text": [
            "✅ cleaned_0_SP HM-30028  to TSM-07-23-337 (1).xlsx oluşturuldu./был создан.\n",
            "\n",
            "🔄 İşleniyor: 0_SP HM-30030  to TSM-07-23-337 (1).xlsx\n",
            "✅ cleaned_0_SP HM-30030  to TSM-07-23-337 (1).xlsx oluşturuldu./был создан.\n",
            "\n",
            "🔄 İşleniyor: 0_SP HM-30031  to TSM-07-23-337 (1).xlsx\n",
            "✅ cleaned_0_SP HM-30031  to TSM-07-23-337 (1).xlsx oluşturuldu./был создан.\n",
            "\n",
            "🔄 İşleniyor: 0_SP HM-30032  to TSM-07-23-337 (1).xlsx\n"
          ]
        },
        {
          "output_type": "stream",
          "name": "stderr",
          "text": [
            "/usr/local/lib/python3.11/dist-packages/openpyxl/worksheet/header_footer.py:48: UserWarning: Cannot parse header or footer so it will be ignored\n",
            "  warn(\"\"\"Cannot parse header or footer so it will be ignored\"\"\")\n",
            "/usr/local/lib/python3.11/dist-packages/openpyxl/worksheet/header_footer.py:48: UserWarning: Cannot parse header or footer so it will be ignored\n",
            "  warn(\"\"\"Cannot parse header or footer so it will be ignored\"\"\")\n",
            "/usr/local/lib/python3.11/dist-packages/openpyxl/worksheet/header_footer.py:48: UserWarning: Cannot parse header or footer so it will be ignored\n",
            "  warn(\"\"\"Cannot parse header or footer so it will be ignored\"\"\")\n",
            "/usr/local/lib/python3.11/dist-packages/openpyxl/worksheet/header_footer.py:48: UserWarning: Cannot parse header or footer so it will be ignored\n",
            "  warn(\"\"\"Cannot parse header or footer so it will be ignored\"\"\")\n"
          ]
        },
        {
          "output_type": "stream",
          "name": "stdout",
          "text": [
            "✅ cleaned_0_SP HM-30032  to TSM-07-23-337 (1).xlsx oluşturuldu./был создан.\n",
            "\n",
            "🔄 İşleniyor: 0_SP HM-30033 to TSM-07-23-337 (1).xlsx\n",
            "✅ cleaned_0_SP HM-30033 to TSM-07-23-337 (1).xlsx oluşturuldu./был создан.\n",
            "\n",
            "🔄 İşleniyor: 0_SP HM-30036 to TSM-07-23-337 (1).xlsx\n"
          ]
        },
        {
          "output_type": "stream",
          "name": "stderr",
          "text": [
            "/usr/local/lib/python3.11/dist-packages/openpyxl/worksheet/header_footer.py:48: UserWarning: Cannot parse header or footer so it will be ignored\n",
            "  warn(\"\"\"Cannot parse header or footer so it will be ignored\"\"\")\n",
            "/usr/local/lib/python3.11/dist-packages/openpyxl/worksheet/header_footer.py:48: UserWarning: Cannot parse header or footer so it will be ignored\n",
            "  warn(\"\"\"Cannot parse header or footer so it will be ignored\"\"\")\n",
            "/usr/local/lib/python3.11/dist-packages/openpyxl/worksheet/header_footer.py:48: UserWarning: Cannot parse header or footer so it will be ignored\n",
            "  warn(\"\"\"Cannot parse header or footer so it will be ignored\"\"\")\n",
            "/usr/local/lib/python3.11/dist-packages/openpyxl/worksheet/header_footer.py:48: UserWarning: Cannot parse header or footer so it will be ignored\n",
            "  warn(\"\"\"Cannot parse header or footer so it will be ignored\"\"\")\n",
            "/usr/local/lib/python3.11/dist-packages/openpyxl/worksheet/header_footer.py:48: UserWarning: Cannot parse header or footer so it will be ignored\n",
            "  warn(\"\"\"Cannot parse header or footer so it will be ignored\"\"\")\n"
          ]
        },
        {
          "output_type": "stream",
          "name": "stdout",
          "text": [
            "✅ cleaned_0_SP HM-30036 to TSM-07-23-337 (1).xlsx oluşturuldu./был создан.\n",
            "\n",
            "🔄 İşleniyor: 0_SP HM-30039 to TSM-07-23-337 (1).xlsx\n",
            "✅ cleaned_0_SP HM-30039 to TSM-07-23-337 (1).xlsx oluşturuldu./был создан.\n",
            "\n",
            "🔄 İşleniyor: 0_SP HM-30041 (1).xlsx\n"
          ]
        },
        {
          "output_type": "stream",
          "name": "stderr",
          "text": [
            "/usr/local/lib/python3.11/dist-packages/openpyxl/worksheet/header_footer.py:48: UserWarning: Cannot parse header or footer so it will be ignored\n",
            "  warn(\"\"\"Cannot parse header or footer so it will be ignored\"\"\")\n"
          ]
        },
        {
          "output_type": "stream",
          "name": "stdout",
          "text": [
            "'Цена без НДС' bulunamadı/не найдено ❌\n",
            "\n",
            "🔄 İşleniyor: 0_SP HM-30044 to TSM-07-23-337 (1).xlsx\n",
            "✅ cleaned_0_SP HM-30044 to TSM-07-23-337 (1).xlsx oluşturuldu./был создан.\n",
            "\n",
            "🔄 İşleniyor: 0_SP HM-30046 to TSM-07-23-337 (1).xlsx\n"
          ]
        },
        {
          "output_type": "stream",
          "name": "stderr",
          "text": [
            "/usr/local/lib/python3.11/dist-packages/openpyxl/worksheet/header_footer.py:48: UserWarning: Cannot parse header or footer so it will be ignored\n",
            "  warn(\"\"\"Cannot parse header or footer so it will be ignored\"\"\")\n",
            "/usr/local/lib/python3.11/dist-packages/openpyxl/worksheet/header_footer.py:48: UserWarning: Cannot parse header or footer so it will be ignored\n",
            "  warn(\"\"\"Cannot parse header or footer so it will be ignored\"\"\")\n",
            "/usr/local/lib/python3.11/dist-packages/openpyxl/worksheet/header_footer.py:48: UserWarning: Cannot parse header or footer so it will be ignored\n",
            "  warn(\"\"\"Cannot parse header or footer so it will be ignored\"\"\")\n",
            "/usr/local/lib/python3.11/dist-packages/openpyxl/worksheet/header_footer.py:48: UserWarning: Cannot parse header or footer so it will be ignored\n",
            "  warn(\"\"\"Cannot parse header or footer so it will be ignored\"\"\")\n",
            "/usr/local/lib/python3.11/dist-packages/openpyxl/worksheet/header_footer.py:48: UserWarning: Cannot parse header or footer so it will be ignored\n",
            "  warn(\"\"\"Cannot parse header or footer so it will be ignored\"\"\")\n"
          ]
        },
        {
          "output_type": "stream",
          "name": "stdout",
          "text": [
            "✅ cleaned_0_SP HM-30046 to TSM-07-23-337 (1).xlsx oluşturuldu./был создан.\n",
            "\n",
            "🔄 İşleniyor: 0_SP HM-30051 to TSM-07-23-337 (1).xlsx\n",
            "✅ cleaned_0_SP HM-30051 to TSM-07-23-337 (1).xlsx oluşturuldu./был создан.\n",
            "\n",
            "🔄 İşleniyor: 0_SP HM-30052 to TSM-07-23-337 (1).xlsx\n"
          ]
        },
        {
          "output_type": "stream",
          "name": "stderr",
          "text": [
            "/usr/local/lib/python3.11/dist-packages/openpyxl/worksheet/header_footer.py:48: UserWarning: Cannot parse header or footer so it will be ignored\n",
            "  warn(\"\"\"Cannot parse header or footer so it will be ignored\"\"\")\n",
            "/usr/local/lib/python3.11/dist-packages/openpyxl/worksheet/header_footer.py:48: UserWarning: Cannot parse header or footer so it will be ignored\n",
            "  warn(\"\"\"Cannot parse header or footer so it will be ignored\"\"\")\n",
            "/usr/local/lib/python3.11/dist-packages/openpyxl/worksheet/header_footer.py:48: UserWarning: Cannot parse header or footer so it will be ignored\n",
            "  warn(\"\"\"Cannot parse header or footer so it will be ignored\"\"\")\n",
            "/usr/local/lib/python3.11/dist-packages/openpyxl/worksheet/header_footer.py:48: UserWarning: Cannot parse header or footer so it will be ignored\n",
            "  warn(\"\"\"Cannot parse header or footer so it will be ignored\"\"\")\n"
          ]
        },
        {
          "output_type": "stream",
          "name": "stdout",
          "text": [
            "✅ cleaned_0_SP HM-30052 to TSM-07-23-337 (1).xlsx oluşturuldu./был создан.\n",
            "\n",
            "🔄 İşleniyor: 0_SP HM-30055 to TSM-07-23-337 (1).xlsx\n",
            "✅ cleaned_0_SP HM-30055 to TSM-07-23-337 (1).xlsx oluşturuldu./был создан.\n",
            "\n",
            "🔄 İşleniyor: 0_SP HM-30059 to TSM-07-23-337 (1).xlsx\n"
          ]
        },
        {
          "output_type": "stream",
          "name": "stderr",
          "text": [
            "/usr/local/lib/python3.11/dist-packages/openpyxl/worksheet/header_footer.py:48: UserWarning: Cannot parse header or footer so it will be ignored\n",
            "  warn(\"\"\"Cannot parse header or footer so it will be ignored\"\"\")\n",
            "/usr/local/lib/python3.11/dist-packages/openpyxl/worksheet/header_footer.py:48: UserWarning: Cannot parse header or footer so it will be ignored\n",
            "  warn(\"\"\"Cannot parse header or footer so it will be ignored\"\"\")\n",
            "/usr/local/lib/python3.11/dist-packages/openpyxl/worksheet/header_footer.py:48: UserWarning: Cannot parse header or footer so it will be ignored\n",
            "  warn(\"\"\"Cannot parse header or footer so it will be ignored\"\"\")\n",
            "/usr/local/lib/python3.11/dist-packages/openpyxl/worksheet/header_footer.py:48: UserWarning: Cannot parse header or footer so it will be ignored\n",
            "  warn(\"\"\"Cannot parse header or footer so it will be ignored\"\"\")\n"
          ]
        },
        {
          "output_type": "stream",
          "name": "stdout",
          "text": [
            "✅ cleaned_0_SP HM-30059 to TSM-07-23-337 (1).xlsx oluşturuldu./был создан.\n",
            "\n",
            "🔄 İşleniyor: 0_SP HM-30068  to TSM-07-23-337 (1).xlsx\n",
            "✅ cleaned_0_SP HM-30068  to TSM-07-23-337 (1).xlsx oluşturuldu./был создан.\n",
            "\n",
            "🔄 İşleniyor: 0_SP HM-30075  to TSM-07-23-337 (2) (1).xlsx\n"
          ]
        },
        {
          "output_type": "stream",
          "name": "stderr",
          "text": [
            "/usr/local/lib/python3.11/dist-packages/openpyxl/worksheet/header_footer.py:48: UserWarning: Cannot parse header or footer so it will be ignored\n",
            "  warn(\"\"\"Cannot parse header or footer so it will be ignored\"\"\")\n",
            "/usr/local/lib/python3.11/dist-packages/openpyxl/worksheet/header_footer.py:48: UserWarning: Cannot parse header or footer so it will be ignored\n",
            "  warn(\"\"\"Cannot parse header or footer so it will be ignored\"\"\")\n",
            "/usr/local/lib/python3.11/dist-packages/openpyxl/worksheet/header_footer.py:48: UserWarning: Cannot parse header or footer so it will be ignored\n",
            "  warn(\"\"\"Cannot parse header or footer so it will be ignored\"\"\")\n"
          ]
        },
        {
          "output_type": "stream",
          "name": "stdout",
          "text": [
            "✅ cleaned_0_SP HM-30075  to TSM-07-23-337 (2) (1).xlsx oluşturuldu./был создан.\n",
            "⚠️ Hata/Ошибка: Reindexing only valid with uniquely valued Index objects\n",
            "\n",
            "🔄 İşleniyor: 0_нов_Спецификация-HCN-230031.1 (1).xlsx\n",
            "⚠️ Hata/Ошибка: single positional indexer is out-of-bounds\n",
            "\n",
            "🔄 İşleniyor: HILTI AK-EM-212 (1).xls\n",
            "Спецификация № bulunamadı/не найдено ❌\n",
            "\n",
            "🔄 İşleniyor: HILTI AK-EM-221 (1).xls\n",
            "Спецификация № bulunamadı/не найдено ❌\n",
            "\n",
            "🔄 İşleniyor: HILTI AK-EM-255 (1).xls\n",
            "Спецификация № bulunamadı/не найдено ❌\n",
            "\n",
            "🔄 İşleniyor: HILTI AK-EM-265 (1).xls\n",
            "Спецификация № bulunamadı/не найдено ❌\n",
            "\n",
            "🔄 İşleniyor: HILTI AK-EM-277 (1).xls\n",
            "Спецификация № bulunamadı/не найдено ❌\n",
            "\n",
            "🔄 İşleniyor: HILTI AK-NP-ЕМ-1792 (1).xls\n",
            "Спецификация № bulunamadı/не найдено ❌\n",
            "\n",
            "🔄 İşleniyor: HM 30058 21.08.2024 (1).xlsx\n",
            "✅ cleaned_HM 30058 21.08.2024 (1).xlsx oluşturuldu./был создан.\n",
            "\n",
            "🔄 İşleniyor: HM-30006 (направлено 15.03.2023) (1).xlsx\n"
          ]
        },
        {
          "output_type": "stream",
          "name": "stderr",
          "text": [
            "/usr/local/lib/python3.11/dist-packages/openpyxl/worksheet/header_footer.py:48: UserWarning: Cannot parse header or footer so it will be ignored\n",
            "  warn(\"\"\"Cannot parse header or footer so it will be ignored\"\"\")\n",
            "/usr/local/lib/python3.11/dist-packages/openpyxl/worksheet/header_footer.py:48: UserWarning: Cannot parse header or footer so it will be ignored\n",
            "  warn(\"\"\"Cannot parse header or footer so it will be ignored\"\"\")\n"
          ]
        },
        {
          "output_type": "stream",
          "name": "stdout",
          "text": [
            "✅ cleaned_HM-30006 (направлено 15.03.2023) (1).xlsx oluşturuldu./был создан.\n",
            "\n",
            "🔄 İşleniyor: HM-30007 (1).xlsx\n",
            "✅ cleaned_HM-30007 (1).xlsx oluşturuldu./был создан.\n",
            "\n",
            "🔄 İşleniyor: HM-30008 (1).xlsx\n",
            "✅ cleaned_HM-30008 (1).xlsx oluşturuldu./был создан.\n",
            "\n",
            "🔄 İşleniyor: HM-30013 (1).xlsx\n",
            "✅ cleaned_HM-30013 (1).xlsx oluşturuldu./был создан.\n",
            "\n",
            "🔄 İşleniyor: HM-30019 (1).xlsx\n"
          ]
        },
        {
          "output_type": "stream",
          "name": "stderr",
          "text": [
            "/usr/local/lib/python3.11/dist-packages/openpyxl/worksheet/header_footer.py:48: UserWarning: Cannot parse header or footer so it will be ignored\n",
            "  warn(\"\"\"Cannot parse header or footer so it will be ignored\"\"\")\n",
            "/usr/local/lib/python3.11/dist-packages/openpyxl/worksheet/header_footer.py:48: UserWarning: Cannot parse header or footer so it will be ignored\n",
            "  warn(\"\"\"Cannot parse header or footer so it will be ignored\"\"\")\n",
            "/usr/local/lib/python3.11/dist-packages/openpyxl/worksheet/header_footer.py:48: UserWarning: Cannot parse header or footer so it will be ignored\n",
            "  warn(\"\"\"Cannot parse header or footer so it will be ignored\"\"\")\n",
            "/usr/local/lib/python3.11/dist-packages/openpyxl/worksheet/header_footer.py:48: UserWarning: Cannot parse header or footer so it will be ignored\n",
            "  warn(\"\"\"Cannot parse header or footer so it will be ignored\"\"\")\n"
          ]
        },
        {
          "output_type": "stream",
          "name": "stdout",
          "text": [
            "✅ cleaned_HM-30019 (1).xlsx oluşturuldu./был создан.\n",
            "\n",
            "🔄 İşleniyor: HM-30020 (1).xlsx\n",
            "✅ cleaned_HM-30020 (1).xlsx oluşturuldu./был создан.\n",
            "\n",
            "🔄 İşleniyor: HM-30022. (1).xlsx\n"
          ]
        },
        {
          "output_type": "stream",
          "name": "stderr",
          "text": [
            "/usr/local/lib/python3.11/dist-packages/openpyxl/worksheet/header_footer.py:48: UserWarning: Cannot parse header or footer so it will be ignored\n",
            "  warn(\"\"\"Cannot parse header or footer so it will be ignored\"\"\")\n",
            "/usr/local/lib/python3.11/dist-packages/openpyxl/worksheet/header_footer.py:48: UserWarning: Cannot parse header or footer so it will be ignored\n",
            "  warn(\"\"\"Cannot parse header or footer so it will be ignored\"\"\")\n"
          ]
        },
        {
          "output_type": "stream",
          "name": "stdout",
          "text": [
            "✅ cleaned_HM-30022. (1).xlsx oluşturuldu./был создан.\n",
            "\n",
            "🔄 İşleniyor: HM-30023. (1).xlsx\n",
            "✅ cleaned_HM-30023. (1).xlsx oluşturuldu./был создан.\n",
            "\n",
            "🔄 İşleniyor: HM-30025 (1).xlsx\n"
          ]
        },
        {
          "output_type": "stream",
          "name": "stderr",
          "text": [
            "/usr/local/lib/python3.11/dist-packages/openpyxl/worksheet/header_footer.py:48: UserWarning: Cannot parse header or footer so it will be ignored\n",
            "  warn(\"\"\"Cannot parse header or footer so it will be ignored\"\"\")\n",
            "/usr/local/lib/python3.11/dist-packages/openpyxl/worksheet/header_footer.py:48: UserWarning: Cannot parse header or footer so it will be ignored\n",
            "  warn(\"\"\"Cannot parse header or footer so it will be ignored\"\"\")\n",
            "/usr/local/lib/python3.11/dist-packages/openpyxl/worksheet/header_footer.py:48: UserWarning: Cannot parse header or footer so it will be ignored\n",
            "  warn(\"\"\"Cannot parse header or footer so it will be ignored\"\"\")\n",
            "/usr/local/lib/python3.11/dist-packages/openpyxl/worksheet/header_footer.py:48: UserWarning: Cannot parse header or footer so it will be ignored\n",
            "  warn(\"\"\"Cannot parse header or footer so it will be ignored\"\"\")\n"
          ]
        },
        {
          "output_type": "stream",
          "name": "stdout",
          "text": [
            "✅ cleaned_HM-30025 (1).xlsx oluşturuldu./был создан.\n",
            "\n",
            "🔄 İşleniyor: HM-30034 (1).xlsx\n",
            "✅ cleaned_HM-30034 (1).xlsx oluşturuldu./был создан.\n",
            "\n",
            "🔄 İşleniyor: HM-30047 new (1).xlsx\n"
          ]
        },
        {
          "output_type": "stream",
          "name": "stderr",
          "text": [
            "/usr/local/lib/python3.11/dist-packages/openpyxl/worksheet/header_footer.py:48: UserWarning: Cannot parse header or footer so it will be ignored\n",
            "  warn(\"\"\"Cannot parse header or footer so it will be ignored\"\"\")\n",
            "/usr/local/lib/python3.11/dist-packages/openpyxl/worksheet/header_footer.py:48: UserWarning: Cannot parse header or footer so it will be ignored\n",
            "  warn(\"\"\"Cannot parse header or footer so it will be ignored\"\"\")\n",
            "/usr/local/lib/python3.11/dist-packages/openpyxl/worksheet/header_footer.py:48: UserWarning: Cannot parse header or footer so it will be ignored\n",
            "  warn(\"\"\"Cannot parse header or footer so it will be ignored\"\"\")\n",
            "/usr/local/lib/python3.11/dist-packages/openpyxl/worksheet/header_footer.py:48: UserWarning: Cannot parse header or footer so it will be ignored\n",
            "  warn(\"\"\"Cannot parse header or footer so it will be ignored\"\"\")\n",
            "/usr/local/lib/python3.11/dist-packages/openpyxl/worksheet/header_footer.py:48: UserWarning: Cannot parse header or footer so it will be ignored\n",
            "  warn(\"\"\"Cannot parse header or footer so it will be ignored\"\"\")\n",
            "/usr/local/lib/python3.11/dist-packages/openpyxl/worksheet/header_footer.py:48: UserWarning: Cannot parse header or footer so it will be ignored\n",
            "  warn(\"\"\"Cannot parse header or footer so it will be ignored\"\"\")\n",
            "/usr/local/lib/python3.11/dist-packages/openpyxl/worksheet/header_footer.py:48: UserWarning: Cannot parse header or footer so it will be ignored\n",
            "  warn(\"\"\"Cannot parse header or footer so it will be ignored\"\"\")\n"
          ]
        },
        {
          "output_type": "stream",
          "name": "stdout",
          "text": [
            "✅ cleaned_HM-30047 new (1).xlsx oluşturuldu./был создан.\n",
            "\n",
            "🔄 İşleniyor: HM-30057 12.08.2024 (1).xlsx\n",
            "✅ cleaned_HM-30057 12.08.2024 (1).xlsx oluşturuldu./был создан.\n",
            "\n",
            "🔄 İşleniyor: Kopya _HCN-230150 от 18.03.2025 (1).xlsx\n"
          ]
        },
        {
          "output_type": "stream",
          "name": "stderr",
          "text": [
            "/usr/local/lib/python3.11/dist-packages/openpyxl/worksheet/header_footer.py:48: UserWarning: Cannot parse header or footer so it will be ignored\n",
            "  warn(\"\"\"Cannot parse header or footer so it will be ignored\"\"\")\n",
            "/usr/local/lib/python3.11/dist-packages/openpyxl/worksheet/header_footer.py:48: UserWarning: Cannot parse header or footer so it will be ignored\n",
            "  warn(\"\"\"Cannot parse header or footer so it will be ignored\"\"\")\n",
            "/usr/local/lib/python3.11/dist-packages/openpyxl/worksheet/header_footer.py:48: UserWarning: Cannot parse header or footer so it will be ignored\n",
            "  warn(\"\"\"Cannot parse header or footer so it will be ignored\"\"\")\n"
          ]
        },
        {
          "output_type": "stream",
          "name": "stdout",
          "text": [
            "✅ cleaned_Kopya _HCN-230150 от 18.03.2025 (1).xlsx oluşturuldu./был создан.\n",
            "⚠️ Hata/Ошибка: Reindexing only valid with uniquely valued Index objects\n",
            "\n",
            "🔄 İşleniyor: Kopya _HCN-230152 от 19.02.2025 (1).xlsx\n",
            "✅ cleaned_Kopya _HCN-230152 от 19.02.2025 (1).xlsx oluşturuldu./был создан.\n",
            "⚠️ Hata/Ошибка: Reindexing only valid with uniquely valued Index objects\n",
            "\n",
            "🔄 İşleniyor: Kopya _HCN-230153 от 17.04.2025 (1).xlsx\n"
          ]
        },
        {
          "output_type": "stream",
          "name": "stderr",
          "text": [
            "/usr/local/lib/python3.11/dist-packages/openpyxl/worksheet/header_footer.py:48: UserWarning: Cannot parse header or footer so it will be ignored\n",
            "  warn(\"\"\"Cannot parse header or footer so it will be ignored\"\"\")\n",
            "/usr/local/lib/python3.11/dist-packages/openpyxl/worksheet/header_footer.py:48: UserWarning: Cannot parse header or footer so it will be ignored\n",
            "  warn(\"\"\"Cannot parse header or footer so it will be ignored\"\"\")\n",
            "/usr/local/lib/python3.11/dist-packages/openpyxl/worksheet/header_footer.py:48: UserWarning: Cannot parse header or footer so it will be ignored\n",
            "  warn(\"\"\"Cannot parse header or footer so it will be ignored\"\"\")\n",
            "/usr/local/lib/python3.11/dist-packages/openpyxl/worksheet/header_footer.py:48: UserWarning: Cannot parse header or footer so it will be ignored\n",
            "  warn(\"\"\"Cannot parse header or footer so it will be ignored\"\"\")\n"
          ]
        },
        {
          "output_type": "stream",
          "name": "stdout",
          "text": [
            "✅ cleaned_Kopya _HCN-230153 от 17.04.2025 (1).xlsx oluşturuldu./был создан.\n",
            "\n",
            "🔄 İşleniyor: Kopya _HCN-230154 от 21.04.2025 (1).xlsx\n",
            "✅ cleaned_Kopya _HCN-230154 от 21.04.2025 (1).xlsx oluşturuldu./был создан.\n",
            "\n",
            "🔄 İşleniyor: Kopya _HCN-230155 от 25.04.2025 (1).xlsx\n"
          ]
        },
        {
          "output_type": "stream",
          "name": "stderr",
          "text": [
            "/usr/local/lib/python3.11/dist-packages/openpyxl/worksheet/header_footer.py:48: UserWarning: Cannot parse header or footer so it will be ignored\n",
            "  warn(\"\"\"Cannot parse header or footer so it will be ignored\"\"\")\n",
            "/usr/local/lib/python3.11/dist-packages/openpyxl/worksheet/header_footer.py:48: UserWarning: Cannot parse header or footer so it will be ignored\n",
            "  warn(\"\"\"Cannot parse header or footer so it will be ignored\"\"\")\n",
            "/usr/local/lib/python3.11/dist-packages/openpyxl/worksheet/header_footer.py:48: UserWarning: Cannot parse header or footer so it will be ignored\n",
            "  warn(\"\"\"Cannot parse header or footer so it will be ignored\"\"\")\n",
            "/usr/local/lib/python3.11/dist-packages/openpyxl/worksheet/header_footer.py:48: UserWarning: Cannot parse header or footer so it will be ignored\n",
            "  warn(\"\"\"Cannot parse header or footer so it will be ignored\"\"\")\n"
          ]
        },
        {
          "output_type": "stream",
          "name": "stdout",
          "text": [
            "✅ cleaned_Kopya _HCN-230155 от 25.04.2025 (1).xlsx oluşturuldu./был создан.\n",
            "⚠️ Hata/Ошибка: Reindexing only valid with uniquely valued Index objects\n",
            "\n",
            "🔄 İşleniyor: Kopya _HCN-230156 от 12.05.2025 (1).xlsx\n",
            "✅ cleaned_Kopya _HCN-230156 от 12.05.2025 (1).xlsx oluşturuldu./был создан.\n",
            "\n",
            "🔄 İşleniyor: Kopya _HЕ-20064 от 10.02.2025 (1).xlsx\n"
          ]
        },
        {
          "output_type": "stream",
          "name": "stderr",
          "text": [
            "/usr/local/lib/python3.11/dist-packages/openpyxl/worksheet/header_footer.py:48: UserWarning: Cannot parse header or footer so it will be ignored\n",
            "  warn(\"\"\"Cannot parse header or footer so it will be ignored\"\"\")\n",
            "/usr/local/lib/python3.11/dist-packages/openpyxl/worksheet/header_footer.py:48: UserWarning: Cannot parse header or footer so it will be ignored\n",
            "  warn(\"\"\"Cannot parse header or footer so it will be ignored\"\"\")\n",
            "/usr/local/lib/python3.11/dist-packages/openpyxl/worksheet/header_footer.py:48: UserWarning: Cannot parse header or footer so it will be ignored\n",
            "  warn(\"\"\"Cannot parse header or footer so it will be ignored\"\"\")\n",
            "/usr/local/lib/python3.11/dist-packages/openpyxl/worksheet/header_footer.py:48: UserWarning: Cannot parse header or footer so it will be ignored\n",
            "  warn(\"\"\"Cannot parse header or footer so it will be ignored\"\"\")\n",
            "/usr/local/lib/python3.11/dist-packages/openpyxl/worksheet/header_footer.py:48: UserWarning: Cannot parse header or footer so it will be ignored\n",
            "  warn(\"\"\"Cannot parse header or footer so it will be ignored\"\"\")\n",
            "/usr/local/lib/python3.11/dist-packages/openpyxl/worksheet/header_footer.py:48: UserWarning: Cannot parse header or footer so it will be ignored\n",
            "  warn(\"\"\"Cannot parse header or footer so it will be ignored\"\"\")\n"
          ]
        },
        {
          "output_type": "stream",
          "name": "stdout",
          "text": [
            "✅ cleaned_Kopya _HЕ-20064 от 10.02.2025 (1).xlsx oluşturuldu./был создан.\n",
            "\n",
            "🔄 İşleniyor: Kopya _HЕ-20069 от 27.02.2025 (1).xlsx\n",
            "✅ cleaned_Kopya _HЕ-20069 от 27.02.2025 (1).xlsx oluşturuldu./был создан.\n",
            "⚠️ Hata/Ошибка: Reindexing only valid with uniquely valued Index objects\n",
            "\n",
            "🔄 İşleniyor: Kopya _HЕ-20071 17.04.25 (1).xlsx\n",
            "✅ cleaned_Kopya _HЕ-20071 17.04.25 (1).xlsx oluşturuldu./был создан.\n",
            "⚠️ Hata/Ошибка: Reindexing only valid with uniquely valued Index objects\n",
            "\n",
            "🔄 İşleniyor: Kopya _HЕ-20072 от 21.04.2025 (1).xlsx\n"
          ]
        },
        {
          "output_type": "stream",
          "name": "stderr",
          "text": [
            "/usr/local/lib/python3.11/dist-packages/openpyxl/worksheet/header_footer.py:48: UserWarning: Cannot parse header or footer so it will be ignored\n",
            "  warn(\"\"\"Cannot parse header or footer so it will be ignored\"\"\")\n",
            "/usr/local/lib/python3.11/dist-packages/openpyxl/worksheet/header_footer.py:48: UserWarning: Cannot parse header or footer so it will be ignored\n",
            "  warn(\"\"\"Cannot parse header or footer so it will be ignored\"\"\")\n",
            "/usr/local/lib/python3.11/dist-packages/openpyxl/worksheet/header_footer.py:48: UserWarning: Cannot parse header or footer so it will be ignored\n",
            "  warn(\"\"\"Cannot parse header or footer so it will be ignored\"\"\")\n",
            "/usr/local/lib/python3.11/dist-packages/openpyxl/worksheet/header_footer.py:48: UserWarning: Cannot parse header or footer so it will be ignored\n",
            "  warn(\"\"\"Cannot parse header or footer so it will be ignored\"\"\")\n",
            "/usr/local/lib/python3.11/dist-packages/openpyxl/worksheet/header_footer.py:48: UserWarning: Cannot parse header or footer so it will be ignored\n",
            "  warn(\"\"\"Cannot parse header or footer so it will be ignored\"\"\")\n"
          ]
        },
        {
          "output_type": "stream",
          "name": "stdout",
          "text": [
            "✅ cleaned_Kopya _HЕ-20072 от 21.04.2025 (1).xlsx oluşturuldu./был создан.\n",
            "⚠️ Hata/Ошибка: Reindexing only valid with uniquely valued Index objects\n",
            "\n",
            "🔄 İşleniyor: Kopya _HЕ-20073 от 28.04.2025 (1).xlsx\n",
            "✅ cleaned_Kopya _HЕ-20073 от 28.04.2025 (1).xlsx oluşturuldu./был создан.\n",
            "\n",
            "🔄 İşleniyor: Kopya _HЕ-20074 от 29.04.2025 (1).xlsx\n"
          ]
        },
        {
          "output_type": "stream",
          "name": "stderr",
          "text": [
            "/usr/local/lib/python3.11/dist-packages/openpyxl/worksheet/header_footer.py:48: UserWarning: Cannot parse header or footer so it will be ignored\n",
            "  warn(\"\"\"Cannot parse header or footer so it will be ignored\"\"\")\n"
          ]
        },
        {
          "output_type": "stream",
          "name": "stdout",
          "text": [
            "✅ cleaned_Kopya _HЕ-20074 от 29.04.2025 (1).xlsx oluşturuldu./был создан.\n",
            "\n",
            "🔄 İşleniyor: Kopya 0_Copy of HE-Notification - 20032 (1).xlsx\n",
            "✅ cleaned_Kopya 0_Copy of HE-Notification - 20032 (1).xlsx oluşturuldu./был создан.\n",
            "\n",
            "🔄 İşleniyor: Kopya 0_HCN-230130 to TSM-07-23-337 (1).xlsx\n",
            "⚠️ Hata/Ошибка: single positional indexer is out-of-bounds\n",
            "\n",
            "🔄 İşleniyor: Kopya 0_HCN-230131 to TSM-07-23-337 (1).xlsx\n",
            "⚠️ Hata/Ошибка: single positional indexer is out-of-bounds\n",
            "\n",
            "🔄 İşleniyor: Kopya 0_HCN-230133 to TSM-07-23-337 REVİZE (2) (1).xlsx\n"
          ]
        },
        {
          "output_type": "stream",
          "name": "stderr",
          "text": [
            "/usr/local/lib/python3.11/dist-packages/openpyxl/worksheet/header_footer.py:48: UserWarning: Cannot parse header or footer so it will be ignored\n",
            "  warn(\"\"\"Cannot parse header or footer so it will be ignored\"\"\")\n",
            "/usr/local/lib/python3.11/dist-packages/openpyxl/worksheet/header_footer.py:48: UserWarning: Cannot parse header or footer so it will be ignored\n",
            "  warn(\"\"\"Cannot parse header or footer so it will be ignored\"\"\")\n",
            "/usr/local/lib/python3.11/dist-packages/openpyxl/worksheet/header_footer.py:48: UserWarning: Cannot parse header or footer so it will be ignored\n",
            "  warn(\"\"\"Cannot parse header or footer so it will be ignored\"\"\")\n",
            "/usr/local/lib/python3.11/dist-packages/openpyxl/worksheet/header_footer.py:48: UserWarning: Cannot parse header or footer so it will be ignored\n",
            "  warn(\"\"\"Cannot parse header or footer so it will be ignored\"\"\")\n",
            "/usr/local/lib/python3.11/dist-packages/openpyxl/worksheet/header_footer.py:48: UserWarning: Cannot parse header or footer so it will be ignored\n",
            "  warn(\"\"\"Cannot parse header or footer so it will be ignored\"\"\")\n",
            "/usr/local/lib/python3.11/dist-packages/openpyxl/worksheet/header_footer.py:48: UserWarning: Cannot parse header or footer so it will be ignored\n",
            "  warn(\"\"\"Cannot parse header or footer so it will be ignored\"\"\")\n"
          ]
        },
        {
          "output_type": "stream",
          "name": "stdout",
          "text": [
            "⚠️ Hata/Ошибка: single positional indexer is out-of-bounds\n",
            "\n",
            "🔄 İşleniyor: Kopya 0_HCN-230139 to TSM-07-23-337 Printable Version (1).xlsx\n",
            "⚠️ Hata/Ошибка: single positional indexer is out-of-bounds\n",
            "\n",
            "🔄 İşleniyor: Kopya 0_HCN-230140 to TSM-07-23-337 часть из наличия (1).xlsx\n",
            "⚠️ Hata/Ошибка: single positional indexer is out-of-bounds\n",
            "\n",
            "🔄 İşleniyor: Kopya 0_HCN-230142 to TSM-07-23-337 (1).xlsx\n"
          ]
        },
        {
          "output_type": "stream",
          "name": "stderr",
          "text": [
            "/usr/local/lib/python3.11/dist-packages/openpyxl/worksheet/header_footer.py:48: UserWarning: Cannot parse header or footer so it will be ignored\n",
            "  warn(\"\"\"Cannot parse header or footer so it will be ignored\"\"\")\n",
            "/usr/local/lib/python3.11/dist-packages/openpyxl/worksheet/header_footer.py:48: UserWarning: Cannot parse header or footer so it will be ignored\n",
            "  warn(\"\"\"Cannot parse header or footer so it will be ignored\"\"\")\n",
            "/usr/local/lib/python3.11/dist-packages/openpyxl/worksheet/header_footer.py:48: UserWarning: Cannot parse header or footer so it will be ignored\n",
            "  warn(\"\"\"Cannot parse header or footer so it will be ignored\"\"\")\n",
            "/usr/local/lib/python3.11/dist-packages/openpyxl/worksheet/header_footer.py:48: UserWarning: Cannot parse header or footer so it will be ignored\n",
            "  warn(\"\"\"Cannot parse header or footer so it will be ignored\"\"\")\n",
            "/usr/local/lib/python3.11/dist-packages/openpyxl/worksheet/header_footer.py:48: UserWarning: Cannot parse header or footer so it will be ignored\n",
            "  warn(\"\"\"Cannot parse header or footer so it will be ignored\"\"\")\n",
            "/usr/local/lib/python3.11/dist-packages/openpyxl/worksheet/header_footer.py:48: UserWarning: Cannot parse header or footer so it will be ignored\n",
            "  warn(\"\"\"Cannot parse header or footer so it will be ignored\"\"\")\n"
          ]
        },
        {
          "output_type": "stream",
          "name": "stdout",
          "text": [
            "⚠️ Hata/Ошибка: single positional indexer is out-of-bounds\n",
            "\n",
            "🔄 İşleniyor: Kopya 0_HE-20026 (1).xlsx\n",
            "✅ cleaned_Kopya 0_HE-20026 (1).xlsx oluşturuldu./был создан.\n",
            "\n",
            "🔄 İşleniyor: Kopya 0_HE-20038.1 (1).xlsx\n",
            "✅ cleaned_Kopya 0_HE-20038.1 (1).xlsx oluşturuldu./был создан.\n",
            "\n",
            "🔄 İşleniyor: Kopya 0_HE-20038.2 (1).xlsx\n",
            "✅ cleaned_Kopya 0_HE-20038.2 (1).xlsx oluşturuldu./был создан.\n",
            "\n",
            "🔄 İşleniyor: Kopya 0_HE-20039 (002) (1).xlsx\n",
            "✅ cleaned_Kopya 0_HE-20039 (002) (1).xlsx oluşturuldu./был создан.\n",
            "\n",
            "🔄 İşleniyor: Kopya 0_New version_HCN-230145 to TSM-07-23-337 (3) (1).xlsx\n",
            "⚠️ Hata/Ошибка: single positional indexer is out-of-bounds\n",
            "\n",
            "🔄 İşleniyor: Kopya 0_New_HCN-230149 to TSM-07-23-337 (1).xlsx\n"
          ]
        },
        {
          "output_type": "stream",
          "name": "stderr",
          "text": [
            "/usr/local/lib/python3.11/dist-packages/openpyxl/worksheet/header_footer.py:48: UserWarning: Cannot parse header or footer so it will be ignored\n",
            "  warn(\"\"\"Cannot parse header or footer so it will be ignored\"\"\")\n",
            "/usr/local/lib/python3.11/dist-packages/openpyxl/worksheet/header_footer.py:48: UserWarning: Cannot parse header or footer so it will be ignored\n",
            "  warn(\"\"\"Cannot parse header or footer so it will be ignored\"\"\")\n",
            "/usr/local/lib/python3.11/dist-packages/openpyxl/worksheet/header_footer.py:48: UserWarning: Cannot parse header or footer so it will be ignored\n",
            "  warn(\"\"\"Cannot parse header or footer so it will be ignored\"\"\")\n",
            "/usr/local/lib/python3.11/dist-packages/openpyxl/worksheet/header_footer.py:48: UserWarning: Cannot parse header or footer so it will be ignored\n",
            "  warn(\"\"\"Cannot parse header or footer so it will be ignored\"\"\")\n"
          ]
        },
        {
          "output_type": "stream",
          "name": "stdout",
          "text": [
            "⚠️ Hata/Ошибка: single positional indexer is out-of-bounds\n",
            "\n",
            "🔄 İşleniyor: Kopya 0_SP HE-20025.1 to TSM-07-23-337 (1).xlsx\n"
          ]
        },
        {
          "output_type": "stream",
          "name": "stderr",
          "text": [
            "/usr/local/lib/python3.11/dist-packages/openpyxl/worksheet/header_footer.py:48: UserWarning: Cannot parse header or footer so it will be ignored\n",
            "  warn(\"\"\"Cannot parse header or footer so it will be ignored\"\"\")\n",
            "/usr/local/lib/python3.11/dist-packages/openpyxl/worksheet/header_footer.py:48: UserWarning: Cannot parse header or footer so it will be ignored\n",
            "  warn(\"\"\"Cannot parse header or footer so it will be ignored\"\"\")\n"
          ]
        },
        {
          "output_type": "stream",
          "name": "stdout",
          "text": [
            "✅ cleaned_Kopya 0_SP HE-20025.1 to TSM-07-23-337 (1).xlsx oluşturuldu./был создан.\n",
            "\n",
            "🔄 İşleniyor: Kopya 0_SP HE-20027 to TSM-07-23-337 (1).xlsx\n",
            "✅ cleaned_Kopya 0_SP HE-20027 to TSM-07-23-337 (1).xlsx oluşturuldu./был создан.\n",
            "\n",
            "🔄 İşleniyor: Kopya 0_SP HE-20029.1 to TSM-07-23-337 (1).xlsx\n",
            "✅ cleaned_Kopya 0_SP HE-20029.1 to TSM-07-23-337 (1).xlsx oluşturuldu./был создан.\n",
            "\n",
            "🔄 İşleniyor: Kopya 0_SP HE-20031.1 to TSM-07-23-337 (1).xlsx\n",
            "✅ cleaned_Kopya 0_SP HE-20031.1 to TSM-07-23-337 (1).xlsx oluşturuldu./был создан.\n",
            "\n",
            "🔄 İşleniyor: Kopya 0_SP HE-20034 to TSM-07-23-337 (1).xlsx\n",
            "✅ cleaned_Kopya 0_SP HE-20034 to TSM-07-23-337 (1).xlsx oluşturuldu./был создан.\n",
            "\n",
            "🔄 İşleniyor: Kopya 0_SP HE-20036  to TSM-07-23-337 (1).xlsx\n",
            "✅ cleaned_Kopya 0_SP HE-20036  to TSM-07-23-337 (1).xlsx oluşturuldu./был создан.\n",
            "\n",
            "🔄 İşleniyor: Kopya 0_SP HE-20041.2 to TSM-07-23-337 (1).xlsx\n",
            "✅ cleaned_Kopya 0_SP HE-20041.2 to TSM-07-23-337 (1).xlsx oluşturuldu./был создан.\n",
            "\n",
            "🔄 İşleniyor: Kopya 0_SP HE-20042.1 to TSM-07-23-337 (1).xlsx\n",
            "✅ cleaned_Kopya 0_SP HE-20042.1 to TSM-07-23-337 (1).xlsx oluşturuldu./был создан.\n",
            "\n",
            "🔄 İşleniyor: Kopya 0_SP HE-20043 to TSM-07-23-337 (1).xlsx\n",
            "✅ cleaned_Kopya 0_SP HE-20043 to TSM-07-23-337 (1).xlsx oluşturuldu./был создан.\n",
            "\n",
            "🔄 İşleniyor: Kopya 0_SP HE-20044 to TSM-07-23-337 (1).xlsx\n",
            "✅ cleaned_Kopya 0_SP HE-20044 to TSM-07-23-337 (1).xlsx oluşturuldu./был создан.\n",
            "\n",
            "🔄 İşleniyor: Kopya 0_SP HE-20047 to TSM-07-23-337 (1).xlsx\n",
            "✅ cleaned_Kopya 0_SP HE-20047 to TSM-07-23-337 (1).xlsx oluşturuldu./был создан.\n",
            "\n",
            "🔄 İşleniyor: Kopya 0_SP HE-20048 to TSM-07-23-337 (1).xlsx\n",
            "✅ cleaned_Kopya 0_SP HE-20048 to TSM-07-23-337 (1).xlsx oluşturuldu./был создан.\n",
            "\n",
            "🔄 İşleniyor: Kopya 0_SP HE-20051 to TSM-07-23-337 (1).xlsx\n",
            "✅ cleaned_Kopya 0_SP HE-20051 to TSM-07-23-337 (1).xlsx oluşturuldu./был создан.\n",
            "\n",
            "🔄 İşleniyor: Kopya 0_SP HE-20052 to TSM-07-23-337 (1).xlsx\n",
            "✅ cleaned_Kopya 0_SP HE-20052 to TSM-07-23-337 (1).xlsx oluşturuldu./был создан.\n",
            "\n",
            "🔄 İşleniyor: Kopya 0_SP HE-20054 to TSM-07-23-337 (1).xlsx\n",
            "✅ cleaned_Kopya 0_SP HE-20054 to TSM-07-23-337 (1).xlsx oluşturuldu./был создан.\n",
            "\n",
            "🔄 İşleniyor: Kopya 0_SP HE-20055 to TSM-07-23-337 (1).xlsx\n",
            "✅ cleaned_Kopya 0_SP HE-20055 to TSM-07-23-337 (1).xlsx oluşturuldu./был создан.\n",
            "\n",
            "🔄 İşleniyor: Kopya 0_SP HE-20057 to TSM-07-23-337 (1).xlsx\n",
            "✅ cleaned_Kopya 0_SP HE-20057 to TSM-07-23-337 (1).xlsx oluşturuldu./был создан.\n",
            "\n",
            "🔄 İşleniyor: Kopya 0_SP HE-20058 to TSM-07-23-337 (1).xlsx\n",
            "✅ cleaned_Kopya 0_SP HE-20058 to TSM-07-23-337 (1).xlsx oluşturuldu./был создан.\n",
            "\n",
            "🔄 İşleniyor: Kopya 0_SP HE-20060 to TSM-07-23-337 (1).xlsx\n",
            "✅ cleaned_Kopya 0_SP HE-20060 to TSM-07-23-337 (1).xlsx oluşturuldu./был создан.\n",
            "\n",
            "🔄 İşleniyor: Kopya 0_SP HE-20061 to TSM-07-23-337 (1).xlsx\n",
            "✅ cleaned_Kopya 0_SP HE-20061 to TSM-07-23-337 (1).xlsx oluşturuldu./был создан.\n",
            "\n",
            "🔄 İşleniyor: Kopya 0_SP HE-20062 to TSM-07-23-337 (1).xlsx\n",
            "✅ cleaned_Kopya 0_SP HE-20062 to TSM-07-23-337 (1).xlsx oluşturuldu./был создан.\n",
            "\n",
            "🔄 İşleniyor: Kopya 0_SP HE-20063 to TSM-07-23-337 (1).xlsx\n",
            "✅ cleaned_Kopya 0_SP HE-20063 to TSM-07-23-337 (1).xlsx oluşturuldu./был создан.\n",
            "\n",
            "🔄 İşleniyor: Kopya 0_SP HE-20065 to TSM-07-23-337 (1).xlsx\n",
            "✅ cleaned_Kopya 0_SP HE-20065 to TSM-07-23-337 (1).xlsx oluşturuldu./был создан.\n",
            "\n",
            "🔄 İşleniyor: Kopya 0_SP HE-20066 to TSM-07-23-337 (1).xlsx\n",
            "✅ cleaned_Kopya 0_SP HE-20066 to TSM-07-23-337 (1).xlsx oluşturuldu./был создан.\n",
            "\n",
            "🔄 İşleniyor: Kopya 0_Specification HE-20053 (1).xlsx\n",
            "✅ cleaned_Kopya 0_Specification HE-20053 (1).xlsx oluşturuldu./был создан.\n",
            "\n",
            "🔄 İşleniyor: Kopya 0_Спецификация SP HE-20035 (1).xlsx\n",
            "✅ cleaned_Kopya 0_Спецификация SP HE-20035 (1).xlsx oluşturuldu./был создан.\n",
            "\n",
            "🔄 İşleniyor: Kopya HE-20012 (1).xlsx\n",
            "✅ cleaned_Kopya HE-20012 (1).xlsx oluşturuldu./был создан.\n",
            "\n",
            "🔄 İşleniyor: Kopya HE-20013 (1).xlsx\n",
            "✅ cleaned_Kopya HE-20013 (1).xlsx oluşturuldu./был создан.\n",
            "\n",
            "🔄 İşleniyor: Kopya HE-20014 (1).xlsx\n",
            "✅ cleaned_Kopya HE-20014 (1).xlsx oluşturuldu./был создан.\n",
            "\n",
            "🔄 İşleniyor: Kopya HE-20015 (1).xlsx\n",
            "✅ cleaned_Kopya HE-20015 (1).xlsx oluşturuldu./был создан.\n",
            "\n",
            "🔄 İşleniyor: Kopya HE-20017 (1).xlsx\n",
            "✅ cleaned_Kopya HE-20017 (1).xlsx oluşturuldu./был создан.\n",
            "\n",
            "🔄 İşleniyor: Kopya HE-20022.1 (1).xlsx\n"
          ]
        },
        {
          "output_type": "stream",
          "name": "stderr",
          "text": [
            "/usr/local/lib/python3.11/dist-packages/openpyxl/worksheet/header_footer.py:48: UserWarning: Cannot parse header or footer so it will be ignored\n",
            "  warn(\"\"\"Cannot parse header or footer so it will be ignored\"\"\")\n",
            "/usr/local/lib/python3.11/dist-packages/openpyxl/worksheet/header_footer.py:48: UserWarning: Cannot parse header or footer so it will be ignored\n",
            "  warn(\"\"\"Cannot parse header or footer so it will be ignored\"\"\")\n",
            "/usr/local/lib/python3.11/dist-packages/openpyxl/worksheet/header_footer.py:48: UserWarning: Cannot parse header or footer so it will be ignored\n",
            "  warn(\"\"\"Cannot parse header or footer so it will be ignored\"\"\")\n",
            "/usr/local/lib/python3.11/dist-packages/openpyxl/worksheet/header_footer.py:48: UserWarning: Cannot parse header or footer so it will be ignored\n",
            "  warn(\"\"\"Cannot parse header or footer so it will be ignored\"\"\")\n",
            "/usr/local/lib/python3.11/dist-packages/openpyxl/worksheet/header_footer.py:48: UserWarning: Cannot parse header or footer so it will be ignored\n",
            "  warn(\"\"\"Cannot parse header or footer so it will be ignored\"\"\")\n",
            "/usr/local/lib/python3.11/dist-packages/openpyxl/worksheet/header_footer.py:48: UserWarning: Cannot parse header or footer so it will be ignored\n",
            "  warn(\"\"\"Cannot parse header or footer so it will be ignored\"\"\")\n",
            "/usr/local/lib/python3.11/dist-packages/openpyxl/worksheet/header_footer.py:48: UserWarning: Cannot parse header or footer so it will be ignored\n",
            "  warn(\"\"\"Cannot parse header or footer so it will be ignored\"\"\")\n",
            "/usr/local/lib/python3.11/dist-packages/openpyxl/worksheet/header_footer.py:48: UserWarning: Cannot parse header or footer so it will be ignored\n",
            "  warn(\"\"\"Cannot parse header or footer so it will be ignored\"\"\")\n"
          ]
        },
        {
          "output_type": "stream",
          "name": "stdout",
          "text": [
            "✅ cleaned_Kopya HE-20022.1 (1).xlsx oluşturuldu./был создан.\n",
            "\n",
            "🔄 İşleniyor: Kopya HE-20022.2 (1).xlsx\n",
            "✅ cleaned_Kopya HE-20022.2 (1).xlsx oluşturuldu./был создан.\n",
            "\n",
            "🔄 İşleniyor: Kopya HE-20023 (1).xlsx\n",
            "✅ cleaned_Kopya HE-20023 (1).xlsx oluşturuldu./был создан.\n",
            "\n",
            "🔄 İşleniyor: Kopya HE-20024 (1).xlsx\n",
            "✅ cleaned_Kopya HE-20024 (1).xlsx oluşturuldu./был создан.\n",
            "\n",
            "🔄 İşleniyor: Kopya HE-20025.2 (1).xlsx\n"
          ]
        },
        {
          "output_type": "stream",
          "name": "stderr",
          "text": [
            "/usr/local/lib/python3.11/dist-packages/openpyxl/worksheet/header_footer.py:48: UserWarning: Cannot parse header or footer so it will be ignored\n",
            "  warn(\"\"\"Cannot parse header or footer so it will be ignored\"\"\")\n",
            "/usr/local/lib/python3.11/dist-packages/openpyxl/worksheet/header_footer.py:48: UserWarning: Cannot parse header or footer so it will be ignored\n",
            "  warn(\"\"\"Cannot parse header or footer so it will be ignored\"\"\")\n"
          ]
        },
        {
          "output_type": "stream",
          "name": "stdout",
          "text": [
            "✅ cleaned_Kopya HE-20025.2 (1).xlsx oluşturuldu./был создан.\n",
            "\n",
            "🔄 İşleniyor: Kopya HE-21007 (1).xlsx\n",
            "✅ cleaned_Kopya HE-21007 (1).xlsx oluşturuldu./был создан.\n",
            "\n",
            "🔄 İşleniyor: Kopya HE-21008 (1).xlsx\n",
            "✅ cleaned_Kopya HE-21008 (1).xlsx oluşturuldu./был создан.\n",
            "\n",
            "🔄 İşleniyor: Kopya HE-21009 (1).xlsx\n",
            "✅ cleaned_Kopya HE-21009 (1).xlsx oluşturuldu./был создан.\n",
            "\n",
            "🔄 İşleniyor: Kopya New_SP HE-20046 to TSM-07-23-337нов (1).xlsx\n",
            "✅ cleaned_Kopya New_SP HE-20046 to TSM-07-23-337нов (1).xlsx oluşturuldu./был создан.\n",
            "\n",
            "🔄 İşleniyor: Kopya New_SP HE-20049 to TSM-07-23-337 Измененная (1).xlsx\n",
            "✅ cleaned_Kopya New_SP HE-20049 to TSM-07-23-337 Измененная (1).xlsx oluşturuldu./был создан.\n",
            "\n",
            "🔄 İşleniyor: Kopya New_SP HE-20050 to TSM-07-23-337 - Copy (1).xlsx\n",
            "✅ cleaned_Kopya New_SP HE-20050 to TSM-07-23-337 - Copy (1).xlsx oluşturuldu./был создан.\n",
            "\n",
            "🔄 İşleniyor: Kopya New_SP HE-20059 to TSM-07-23-337 (1).xlsx\n",
            "✅ cleaned_Kopya New_SP HE-20059 to TSM-07-23-337 (1).xlsx oluşturuldu./был создан.\n",
            "\n",
            "🔄 İşleniyor: Kopya SP HE-20007  to TSM-07-22-898 (1).xlsx\n",
            "⚠️ Hata/Ошибка: single positional indexer is out-of-bounds\n",
            "\n",
            "🔄 İşleniyor: Kopya SP HE-20009 (1).xlsx\n",
            "⚠️ Hata/Ошибка: single positional indexer is out-of-bounds\n",
            "\n",
            "🔄 İşleniyor: Kopya SP HE-20010 (1).xlsx\n",
            "⚠️ Hata/Ошибка: single positional indexer is out-of-bounds\n",
            "\n",
            "🔄 İşleniyor: Kopya SP HE-20016 to TSM-07-23-337 (1).xlsx\n",
            "✅ cleaned_Kopya SP HE-20016 to TSM-07-23-337 (1).xlsx oluşturuldu./был создан.\n",
            "\n",
            "🔄 İşleniyor: Kopya SP HE-20018 to TSM-07-23-337 (1).xlsx\n"
          ]
        },
        {
          "output_type": "stream",
          "name": "stderr",
          "text": [
            "/usr/local/lib/python3.11/dist-packages/openpyxl/worksheet/header_footer.py:48: UserWarning: Cannot parse header or footer so it will be ignored\n",
            "  warn(\"\"\"Cannot parse header or footer so it will be ignored\"\"\")\n",
            "/usr/local/lib/python3.11/dist-packages/openpyxl/worksheet/header_footer.py:48: UserWarning: Cannot parse header or footer so it will be ignored\n",
            "  warn(\"\"\"Cannot parse header or footer so it will be ignored\"\"\")\n",
            "/usr/local/lib/python3.11/dist-packages/openpyxl/worksheet/header_footer.py:48: UserWarning: Cannot parse header or footer so it will be ignored\n",
            "  warn(\"\"\"Cannot parse header or footer so it will be ignored\"\"\")\n",
            "/usr/local/lib/python3.11/dist-packages/openpyxl/worksheet/header_footer.py:48: UserWarning: Cannot parse header or footer so it will be ignored\n",
            "  warn(\"\"\"Cannot parse header or footer so it will be ignored\"\"\")\n"
          ]
        },
        {
          "output_type": "stream",
          "name": "stdout",
          "text": [
            "✅ cleaned_Kopya SP HE-20018 to TSM-07-23-337 (1).xlsx oluşturuldu./был создан.\n",
            "\n",
            "🔄 İşleniyor: Kopya SP HE-20019.2 to TSM-07-23-337 (1).xlsx\n",
            "✅ cleaned_Kopya SP HE-20019.2 to TSM-07-23-337 (1).xlsx oluşturuldu./был создан.\n",
            "\n",
            "🔄 İşleniyor: Kopya SP HE-20020 to TSM-07-23-337 (1).xlsx\n"
          ]
        },
        {
          "output_type": "stream",
          "name": "stderr",
          "text": [
            "/usr/local/lib/python3.11/dist-packages/openpyxl/worksheet/header_footer.py:48: UserWarning: Cannot parse header or footer so it will be ignored\n",
            "  warn(\"\"\"Cannot parse header or footer so it will be ignored\"\"\")\n",
            "/usr/local/lib/python3.11/dist-packages/openpyxl/worksheet/header_footer.py:48: UserWarning: Cannot parse header or footer so it will be ignored\n",
            "  warn(\"\"\"Cannot parse header or footer so it will be ignored\"\"\")\n",
            "/usr/local/lib/python3.11/dist-packages/openpyxl/worksheet/header_footer.py:48: UserWarning: Cannot parse header or footer so it will be ignored\n",
            "  warn(\"\"\"Cannot parse header or footer so it will be ignored\"\"\")\n",
            "/usr/local/lib/python3.11/dist-packages/openpyxl/worksheet/header_footer.py:48: UserWarning: Cannot parse header or footer so it will be ignored\n",
            "  warn(\"\"\"Cannot parse header or footer so it will be ignored\"\"\")\n"
          ]
        },
        {
          "output_type": "stream",
          "name": "stdout",
          "text": [
            "✅ cleaned_Kopya SP HE-20020 to TSM-07-23-337 (1).xlsx oluşturuldu./был создан.\n",
            "\n",
            "🔄 İşleniyor: Kopya SP HE-20021 to TSM-07-23-337 (1).xlsx\n",
            "✅ cleaned_Kopya SP HE-20021 to TSM-07-23-337 (1).xlsx oluşturuldu./был создан.\n",
            "\n",
            "🔄 İşleniyor: Kopya SP HE-20045 to TSM-07-23-337 (1).xlsx\n",
            "✅ cleaned_Kopya SP HE-20045 to TSM-07-23-337 (1).xlsx oluşturuldu./был создан.\n",
            "\n",
            "🔄 İşleniyor: Kopya SP HE-21001 to TSM-07-23-337 (1).xlsx\n",
            "✅ cleaned_Kopya SP HE-21001 to TSM-07-23-337 (1).xlsx oluşturuldu./был создан.\n",
            "\n",
            "🔄 İşleniyor: Kopya SP HE-21002 to TSM-07-23-337 (1).xlsx\n"
          ]
        },
        {
          "output_type": "stream",
          "name": "stderr",
          "text": [
            "/usr/local/lib/python3.11/dist-packages/openpyxl/worksheet/header_footer.py:48: UserWarning: Cannot parse header or footer so it will be ignored\n",
            "  warn(\"\"\"Cannot parse header or footer so it will be ignored\"\"\")\n",
            "/usr/local/lib/python3.11/dist-packages/openpyxl/worksheet/header_footer.py:48: UserWarning: Cannot parse header or footer so it will be ignored\n",
            "  warn(\"\"\"Cannot parse header or footer so it will be ignored\"\"\")\n",
            "/usr/local/lib/python3.11/dist-packages/openpyxl/worksheet/header_footer.py:48: UserWarning: Cannot parse header or footer so it will be ignored\n",
            "  warn(\"\"\"Cannot parse header or footer so it will be ignored\"\"\")\n",
            "/usr/local/lib/python3.11/dist-packages/openpyxl/worksheet/header_footer.py:48: UserWarning: Cannot parse header or footer so it will be ignored\n",
            "  warn(\"\"\"Cannot parse header or footer so it will be ignored\"\"\")\n",
            "/usr/local/lib/python3.11/dist-packages/openpyxl/worksheet/header_footer.py:48: UserWarning: Cannot parse header or footer so it will be ignored\n",
            "  warn(\"\"\"Cannot parse header or footer so it will be ignored\"\"\")\n"
          ]
        },
        {
          "output_type": "stream",
          "name": "stdout",
          "text": [
            "✅ cleaned_Kopya SP HE-21002 to TSM-07-23-337 (1).xlsx oluşturuldu./был создан.\n",
            "\n",
            "🔄 İşleniyor: Kopya SP HE-21010 to TSM-07-23-337 (1).xlsx\n",
            "✅ cleaned_Kopya SP HE-21010 to TSM-07-23-337 (1).xlsx oluşturuldu./был создан.\n",
            "\n",
            "🔄 İşleniyor: Kopya SP HE-21011 to TSM-07-23-337 (1).xlsx\n",
            "✅ cleaned_Kopya SP HE-21011 to TSM-07-23-337 (1).xlsx oluşturuldu./был создан.\n"
          ]
        },
        {
          "output_type": "stream",
          "name": "stderr",
          "text": [
            "/usr/local/lib/python3.11/dist-packages/openpyxl/worksheet/header_footer.py:48: UserWarning: Cannot parse header or footer so it will be ignored\n",
            "  warn(\"\"\"Cannot parse header or footer so it will be ignored\"\"\")\n",
            "/usr/local/lib/python3.11/dist-packages/openpyxl/worksheet/header_footer.py:48: UserWarning: Cannot parse header or footer so it will be ignored\n",
            "  warn(\"\"\"Cannot parse header or footer so it will be ignored\"\"\")\n",
            "/usr/local/lib/python3.11/dist-packages/openpyxl/worksheet/header_footer.py:48: UserWarning: Cannot parse header or footer so it will be ignored\n",
            "  warn(\"\"\"Cannot parse header or footer so it will be ignored\"\"\")\n"
          ]
        },
        {
          "output_type": "stream",
          "name": "stdout",
          "text": [
            "\n",
            "🔄 İşleniyor: Kopya Спецификация  № HM-30001 (1).xlsx\n",
            "✅ cleaned_Kopya Спецификация  № HM-30001 (1).xlsx oluşturuldu./был создан.\n",
            "\n",
            "🔄 İşleniyor: PO AK-69 (1).xls\n",
            "Спецификация № bulunamadı/не найдено ❌\n",
            "\n",
            "🔄 İşleniyor: PO AK-117 (1).xls\n",
            "Спецификация № bulunamadı/не найдено ❌\n",
            "\n",
            "🔄 İşleniyor: PO AK-147 (1).xls\n",
            "Спецификация № bulunamadı/не найдено ❌\n",
            "\n",
            "🔄 İşleniyor: PO AK-C-969 (1).xls\n",
            "Спецификация № bulunamadı/не найдено ❌\n",
            "\n",
            "🔄 İşleniyor: PO AK-EM-344 (1).xls\n",
            "Спецификация № bulunamadı/не найдено ❌\n",
            "\n",
            "🔄 İşleniyor: PO AK-EM-627 HİLTİ (1).xls\n",
            "Спецификация № bulunamadı/не найдено ❌\n",
            "\n",
            "🔄 İşleniyor: PO AK-EM-656 HİLTİ (1).xls\n",
            "Спецификация № bulunamadı/не найдено ❌\n",
            "\n",
            "🔄 İşleniyor: PO AK-EM-687 HİLTİ (1).xls\n",
            "Спецификация № bulunamadı/не найдено ❌\n",
            "\n",
            "🔄 İşleniyor: PO AK-MM-373 (1).xls\n",
            "Спецификация № bulunamadı/не найдено ❌\n",
            "\n",
            "🔄 İşleniyor: PO AK-MM-396 (1).xls\n",
            "Спецификация № bulunamadı/не найдено ❌\n",
            "\n",
            "🔄 İşleniyor: PO AK-MM-444 (1).xls\n",
            "Спецификация № bulunamadı/не найдено ❌\n",
            "\n",
            "🔄 İşleniyor: PO AK-MM-477 (1).xls\n",
            "Спецификация № bulunamadı/не найдено ❌\n",
            "\n",
            "🔄 İşleniyor: PO AK-MM-659 (1).xls\n",
            "Спецификация № bulunamadı/не найдено ❌\n",
            "\n",
            "🔄 İşleniyor: PO AK-MM-716 (1).xls\n",
            "Спецификация № bulunamadı/не найдено ❌\n",
            "\n",
            "🔄 İşleniyor: PO AK-MM-729 (1).xls\n",
            "Спецификация № bulunamadı/не найдено ❌\n",
            "\n",
            "🔄 İşleniyor: PO AK-MM-741 (1).xls\n",
            "Спецификация № bulunamadı/не найдено ❌\n",
            "\n",
            "🔄 İşleniyor: PO AK-NP-MM-2582 (1).xls\n",
            "Спецификация № bulunamadı/не найдено ❌\n",
            "\n",
            "🔄 İşleniyor: PO AK-NP-MM-2858 (1).xls\n",
            "Спецификация № bulunamadı/не найдено ❌\n",
            "\n",
            "🔄 İşleniyor: PO AK-NP-MM-2925 (1).xls\n",
            "Спецификация № bulunamadı/не найдено ❌\n",
            "\n",
            "🔄 İşleniyor: PO AK-NP-MM-2997 (1).xls\n",
            "Спецификация № bulunamadı/не найдено ❌\n",
            "\n",
            "🔄 İşleniyor: PO AK-NP-ЕМ-1791 (1).xls\n",
            "Спецификация № bulunamadı/не найдено ❌\n",
            "\n",
            "🔄 İşleniyor: PO AK-P-135 (1).xls\n",
            "Спецификация № bulunamadı/не найдено ❌\n",
            "\n",
            "🔄 İşleniyor: PO HILTI AK-EM- 371 (1).xls\n",
            "Спецификация № bulunamadı/не найдено ❌\n",
            "\n",
            "🔄 İşleniyor: PO HILTI AK-EM- 406 (1).xls\n",
            "Спецификация № bulunamadı/не найдено ❌\n",
            "\n",
            "🔄 İşleniyor: PO HILTI AK-EM- 475 (1).xls\n",
            "Спецификация № bulunamadı/не найдено ❌\n",
            "\n",
            "🔄 İşleniyor: PO HILTI AK-EM- 485 (1).xls\n",
            "Спецификация № bulunamadı/не найдено ❌\n",
            "\n",
            "🔄 İşleniyor: PO HILTI AK-EM-336 (1).xls\n",
            "Спецификация № bulunamadı/не найдено ❌\n",
            "\n",
            "🔄 İşleniyor: PO HILTI AK-EM-353 (1).xls\n",
            "Спецификация № bulunamadı/не найдено ❌\n",
            "\n",
            "🔄 İşleniyor: PO HILTI AK-EM-364 (1).xls\n",
            "Спецификация № bulunamadı/не найдено ❌\n",
            "\n",
            "🔄 İşleniyor: PO HILTI AK-EM-537 (1).xls\n",
            "Спецификация № bulunamadı/не найдено ❌\n",
            "\n",
            "🔄 İşleniyor: PO HILTI AK-NP-EM- 2238 (1).xls\n",
            "Спецификация № bulunamadı/не найдено ❌\n",
            "\n",
            "🔄 İşleniyor: PO HILTI AK-NP-EM-1782 (1).xls\n",
            "Спецификация № bulunamadı/не найдено ❌\n",
            "\n",
            "🔄 İşleniyor: PO HILTI AK-NP-EM-2632 (1).xls\n",
            "Спецификация № bulunamadı/не найдено ❌\n",
            "\n",
            "🔄 İşleniyor: PO(SOZLESME) AK-EM-809 HILTI (1).xls\n",
            "Спецификация № bulunamadı/не найдено ❌\n",
            "\n",
            "🔄 İşleniyor: PO(SOZLESME) AK-EM-835 HILTI (1).xls\n",
            "Спецификация № bulunamadı/не найдено ❌\n",
            "\n",
            "🔄 İşleniyor: PO_AK-NP-1910 (1).xls\n",
            "Спецификация № bulunamadı/не найдено ❌\n",
            "\n",
            "🔄 İşleniyor: PO_AK-NP-1935 (1).xls\n",
            "Спецификация № bulunamadı/не найдено ❌\n",
            "\n",
            "🔄 İşleniyor: SP HC-10009 to TSM-07-22-898 (1).xlsx\n",
            "⚠️ Hata/Ошибка: single positional indexer is out-of-bounds\n",
            "\n",
            "🔄 İşleniyor: SP HC-10010 to TSM-07-22-898 (1).xlsx\n",
            "⚠️ Hata/Ошибка: single positional indexer is out-of-bounds\n",
            "\n",
            "🔄 İşleniyor: SP HCN-230027 to TSM-07-23-337 (1).xlsx\n",
            "⚠️ Hata/Ошибка: single positional indexer is out-of-bounds\n",
            "\n",
            "🔄 İşleniyor: SP HCN-230028 to TSM-07-23-337 (1).xlsx\n",
            "⚠️ Hata/Ошибка: single positional indexer is out-of-bounds\n",
            "\n",
            "🔄 İşleniyor: SP HCN-230032 to TSM-07-23-337 (1).xlsx\n"
          ]
        },
        {
          "output_type": "stream",
          "name": "stderr",
          "text": [
            "/usr/local/lib/python3.11/dist-packages/openpyxl/worksheet/header_footer.py:48: UserWarning: Cannot parse header or footer so it will be ignored\n",
            "  warn(\"\"\"Cannot parse header or footer so it will be ignored\"\"\")\n",
            "/usr/local/lib/python3.11/dist-packages/openpyxl/worksheet/header_footer.py:48: UserWarning: Cannot parse header or footer so it will be ignored\n",
            "  warn(\"\"\"Cannot parse header or footer so it will be ignored\"\"\")\n",
            "/usr/local/lib/python3.11/dist-packages/openpyxl/worksheet/header_footer.py:48: UserWarning: Cannot parse header or footer so it will be ignored\n",
            "  warn(\"\"\"Cannot parse header or footer so it will be ignored\"\"\")\n",
            "/usr/local/lib/python3.11/dist-packages/openpyxl/worksheet/header_footer.py:48: UserWarning: Cannot parse header or footer so it will be ignored\n",
            "  warn(\"\"\"Cannot parse header or footer so it will be ignored\"\"\")\n",
            "/usr/local/lib/python3.11/dist-packages/openpyxl/worksheet/header_footer.py:48: UserWarning: Cannot parse header or footer so it will be ignored\n",
            "  warn(\"\"\"Cannot parse header or footer so it will be ignored\"\"\")\n",
            "/usr/local/lib/python3.11/dist-packages/openpyxl/worksheet/header_footer.py:48: UserWarning: Cannot parse header or footer so it will be ignored\n",
            "  warn(\"\"\"Cannot parse header or footer so it will be ignored\"\"\")\n"
          ]
        },
        {
          "output_type": "stream",
          "name": "stdout",
          "text": [
            "⚠️ Hata/Ошибка: single positional indexer is out-of-bounds\n",
            "\n",
            "🔄 İşleniyor: SP HCN-230037 to TSM-07-23-337 (1).xlsx\n",
            "⚠️ Hata/Ошибка: single positional indexer is out-of-bounds\n",
            "\n",
            "🔄 İşleniyor: SP HCN-230039 to TSM-07-23-337 (1).xlsx\n",
            "⚠️ Hata/Ошибка: single positional indexer is out-of-bounds\n",
            "\n",
            "🔄 İşleniyor: SP HCN-230040 to TSM-07-23-337 (1).xlsx\n"
          ]
        },
        {
          "output_type": "stream",
          "name": "stderr",
          "text": [
            "/usr/local/lib/python3.11/dist-packages/openpyxl/worksheet/header_footer.py:48: UserWarning: Cannot parse header or footer so it will be ignored\n",
            "  warn(\"\"\"Cannot parse header or footer so it will be ignored\"\"\")\n",
            "/usr/local/lib/python3.11/dist-packages/openpyxl/worksheet/header_footer.py:48: UserWarning: Cannot parse header or footer so it will be ignored\n",
            "  warn(\"\"\"Cannot parse header or footer so it will be ignored\"\"\")\n",
            "/usr/local/lib/python3.11/dist-packages/openpyxl/worksheet/header_footer.py:48: UserWarning: Cannot parse header or footer so it will be ignored\n",
            "  warn(\"\"\"Cannot parse header or footer so it will be ignored\"\"\")\n",
            "/usr/local/lib/python3.11/dist-packages/openpyxl/worksheet/header_footer.py:48: UserWarning: Cannot parse header or footer so it will be ignored\n",
            "  warn(\"\"\"Cannot parse header or footer so it will be ignored\"\"\")\n",
            "/usr/local/lib/python3.11/dist-packages/openpyxl/worksheet/header_footer.py:48: UserWarning: Cannot parse header or footer so it will be ignored\n",
            "  warn(\"\"\"Cannot parse header or footer so it will be ignored\"\"\")\n",
            "/usr/local/lib/python3.11/dist-packages/openpyxl/worksheet/header_footer.py:48: UserWarning: Cannot parse header or footer so it will be ignored\n",
            "  warn(\"\"\"Cannot parse header or footer so it will be ignored\"\"\")\n"
          ]
        },
        {
          "output_type": "stream",
          "name": "stdout",
          "text": [
            "⚠️ Hata/Ошибка: single positional indexer is out-of-bounds\n",
            "\n",
            "🔄 İşleniyor: SP HCN-230041 to TSM-07-23-337 (1).xlsx\n",
            "⚠️ Hata/Ошибка: single positional indexer is out-of-bounds\n",
            "\n",
            "🔄 İşleniyor: SP HCN-230042 to TSM-07-23-337 (1).xlsx\n"
          ]
        },
        {
          "output_type": "stream",
          "name": "stderr",
          "text": [
            "/usr/local/lib/python3.11/dist-packages/openpyxl/worksheet/header_footer.py:48: UserWarning: Cannot parse header or footer so it will be ignored\n",
            "  warn(\"\"\"Cannot parse header or footer so it will be ignored\"\"\")\n",
            "/usr/local/lib/python3.11/dist-packages/openpyxl/worksheet/header_footer.py:48: UserWarning: Cannot parse header or footer so it will be ignored\n",
            "  warn(\"\"\"Cannot parse header or footer so it will be ignored\"\"\")\n",
            "/usr/local/lib/python3.11/dist-packages/openpyxl/worksheet/header_footer.py:48: UserWarning: Cannot parse header or footer so it will be ignored\n",
            "  warn(\"\"\"Cannot parse header or footer so it will be ignored\"\"\")\n",
            "/usr/local/lib/python3.11/dist-packages/openpyxl/worksheet/header_footer.py:48: UserWarning: Cannot parse header or footer so it will be ignored\n",
            "  warn(\"\"\"Cannot parse header or footer so it will be ignored\"\"\")\n",
            "/usr/local/lib/python3.11/dist-packages/openpyxl/worksheet/header_footer.py:48: UserWarning: Cannot parse header or footer so it will be ignored\n",
            "  warn(\"\"\"Cannot parse header or footer so it will be ignored\"\"\")\n",
            "/usr/local/lib/python3.11/dist-packages/openpyxl/worksheet/header_footer.py:48: UserWarning: Cannot parse header or footer so it will be ignored\n",
            "  warn(\"\"\"Cannot parse header or footer so it will be ignored\"\"\")\n"
          ]
        },
        {
          "output_type": "stream",
          "name": "stdout",
          "text": [
            "⚠️ Hata/Ошибка: single positional indexer is out-of-bounds\n",
            "\n",
            "🔄 İşleniyor: SP HCN-230043 to TSM-07-23-337 (1).xlsx\n",
            "⚠️ Hata/Ошибка: single positional indexer is out-of-bounds\n",
            "\n",
            "🔄 İşleniyor: SP HCN-230047 to TSM-07-23-337 (1).xlsx\n"
          ]
        },
        {
          "output_type": "stream",
          "name": "stderr",
          "text": [
            "/usr/local/lib/python3.11/dist-packages/openpyxl/worksheet/header_footer.py:48: UserWarning: Cannot parse header or footer so it will be ignored\n",
            "  warn(\"\"\"Cannot parse header or footer so it will be ignored\"\"\")\n",
            "/usr/local/lib/python3.11/dist-packages/openpyxl/worksheet/header_footer.py:48: UserWarning: Cannot parse header or footer so it will be ignored\n",
            "  warn(\"\"\"Cannot parse header or footer so it will be ignored\"\"\")\n",
            "/usr/local/lib/python3.11/dist-packages/openpyxl/worksheet/header_footer.py:48: UserWarning: Cannot parse header or footer so it will be ignored\n",
            "  warn(\"\"\"Cannot parse header or footer so it will be ignored\"\"\")\n",
            "/usr/local/lib/python3.11/dist-packages/openpyxl/worksheet/header_footer.py:48: UserWarning: Cannot parse header or footer so it will be ignored\n",
            "  warn(\"\"\"Cannot parse header or footer so it will be ignored\"\"\")\n"
          ]
        },
        {
          "output_type": "stream",
          "name": "stdout",
          "text": [
            "⚠️ Hata/Ошибка: single positional indexer is out-of-bounds\n",
            "\n",
            "🔄 İşleniyor: SP HCN-230048 to TSM-07-23-337.v1 (1).xlsx\n",
            "⚠️ Hata/Ошибка: single positional indexer is out-of-bounds\n",
            "\n",
            "🔄 İşleniyor: SP HCN-230049 to TSM-07-23-337.v3 (1).xlsx\n"
          ]
        },
        {
          "output_type": "stream",
          "name": "stderr",
          "text": [
            "/usr/local/lib/python3.11/dist-packages/openpyxl/worksheet/header_footer.py:48: UserWarning: Cannot parse header or footer so it will be ignored\n",
            "  warn(\"\"\"Cannot parse header or footer so it will be ignored\"\"\")\n",
            "/usr/local/lib/python3.11/dist-packages/openpyxl/worksheet/header_footer.py:48: UserWarning: Cannot parse header or footer so it will be ignored\n",
            "  warn(\"\"\"Cannot parse header or footer so it will be ignored\"\"\")\n",
            "/usr/local/lib/python3.11/dist-packages/openpyxl/worksheet/header_footer.py:48: UserWarning: Cannot parse header or footer so it will be ignored\n",
            "  warn(\"\"\"Cannot parse header or footer so it will be ignored\"\"\")\n",
            "/usr/local/lib/python3.11/dist-packages/openpyxl/worksheet/header_footer.py:48: UserWarning: Cannot parse header or footer so it will be ignored\n",
            "  warn(\"\"\"Cannot parse header or footer so it will be ignored\"\"\")\n",
            "/usr/local/lib/python3.11/dist-packages/openpyxl/worksheet/header_footer.py:48: UserWarning: Cannot parse header or footer so it will be ignored\n",
            "  warn(\"\"\"Cannot parse header or footer so it will be ignored\"\"\")\n",
            "/usr/local/lib/python3.11/dist-packages/openpyxl/worksheet/header_footer.py:48: UserWarning: Cannot parse header or footer so it will be ignored\n",
            "  warn(\"\"\"Cannot parse header or footer so it will be ignored\"\"\")\n"
          ]
        },
        {
          "output_type": "stream",
          "name": "stdout",
          "text": [
            "⚠️ Hata/Ошибка: single positional indexer is out-of-bounds\n",
            "\n",
            "🔄 İşleniyor: SP HCN-230050 to TSM-07-23-337 (1).xlsx\n",
            "⚠️ Hata/Ошибка: single positional indexer is out-of-bounds\n",
            "\n",
            "🔄 İşleniyor: SP HCN-230052 to TSM-07-23-337.V3 (1).xlsx\n",
            "⚠️ Hata/Ошибка: single positional indexer is out-of-bounds\n",
            "\n",
            "🔄 İşleniyor: SP HCN-230053 to TSM-07-23-337 (1).xlsx\n"
          ]
        },
        {
          "output_type": "stream",
          "name": "stderr",
          "text": [
            "/usr/local/lib/python3.11/dist-packages/openpyxl/worksheet/header_footer.py:48: UserWarning: Cannot parse header or footer so it will be ignored\n",
            "  warn(\"\"\"Cannot parse header or footer so it will be ignored\"\"\")\n",
            "/usr/local/lib/python3.11/dist-packages/openpyxl/worksheet/header_footer.py:48: UserWarning: Cannot parse header or footer so it will be ignored\n",
            "  warn(\"\"\"Cannot parse header or footer so it will be ignored\"\"\")\n",
            "/usr/local/lib/python3.11/dist-packages/openpyxl/worksheet/header_footer.py:48: UserWarning: Cannot parse header or footer so it will be ignored\n",
            "  warn(\"\"\"Cannot parse header or footer so it will be ignored\"\"\")\n",
            "/usr/local/lib/python3.11/dist-packages/openpyxl/worksheet/header_footer.py:48: UserWarning: Cannot parse header or footer so it will be ignored\n",
            "  warn(\"\"\"Cannot parse header or footer so it will be ignored\"\"\")\n",
            "/usr/local/lib/python3.11/dist-packages/openpyxl/worksheet/header_footer.py:48: UserWarning: Cannot parse header or footer so it will be ignored\n",
            "  warn(\"\"\"Cannot parse header or footer so it will be ignored\"\"\")\n",
            "/usr/local/lib/python3.11/dist-packages/openpyxl/worksheet/header_footer.py:48: UserWarning: Cannot parse header or footer so it will be ignored\n",
            "  warn(\"\"\"Cannot parse header or footer so it will be ignored\"\"\")\n"
          ]
        },
        {
          "output_type": "stream",
          "name": "stdout",
          "text": [
            "⚠️ Hata/Ошибка: single positional indexer is out-of-bounds\n",
            "\n",
            "🔄 İşleniyor: SP HCN-230059 to TSM-07-23-337 (1).xlsx\n",
            "⚠️ Hata/Ошибка: single positional indexer is out-of-bounds\n",
            "\n",
            "🔄 İşleniyor: SP HCN-230065 to TSM-07-23-337.2 (1).xlsx\n",
            "⚠️ Hata/Ошибка: single positional indexer is out-of-bounds\n",
            "\n",
            "🔄 İşleniyor: SP HCN-230066 to TSM-07-23-337.v3 (1).xlsx\n"
          ]
        },
        {
          "output_type": "stream",
          "name": "stderr",
          "text": [
            "/usr/local/lib/python3.11/dist-packages/openpyxl/worksheet/header_footer.py:48: UserWarning: Cannot parse header or footer so it will be ignored\n",
            "  warn(\"\"\"Cannot parse header or footer so it will be ignored\"\"\")\n",
            "/usr/local/lib/python3.11/dist-packages/openpyxl/worksheet/header_footer.py:48: UserWarning: Cannot parse header or footer so it will be ignored\n",
            "  warn(\"\"\"Cannot parse header or footer so it will be ignored\"\"\")\n",
            "/usr/local/lib/python3.11/dist-packages/openpyxl/worksheet/header_footer.py:48: UserWarning: Cannot parse header or footer so it will be ignored\n",
            "  warn(\"\"\"Cannot parse header or footer so it will be ignored\"\"\")\n",
            "/usr/local/lib/python3.11/dist-packages/openpyxl/worksheet/header_footer.py:48: UserWarning: Cannot parse header or footer so it will be ignored\n",
            "  warn(\"\"\"Cannot parse header or footer so it will be ignored\"\"\")\n",
            "/usr/local/lib/python3.11/dist-packages/openpyxl/worksheet/header_footer.py:48: UserWarning: Cannot parse header or footer so it will be ignored\n",
            "  warn(\"\"\"Cannot parse header or footer so it will be ignored\"\"\")\n",
            "/usr/local/lib/python3.11/dist-packages/openpyxl/worksheet/header_footer.py:48: UserWarning: Cannot parse header or footer so it will be ignored\n",
            "  warn(\"\"\"Cannot parse header or footer so it will be ignored\"\"\")\n"
          ]
        },
        {
          "output_type": "stream",
          "name": "stdout",
          "text": [
            "⚠️ Hata/Ошибка: single positional indexer is out-of-bounds\n",
            "\n",
            "🔄 İşleniyor: SP HCN-230070 to TSM-07-23-337 (1).xlsx\n",
            "⚠️ Hata/Ошибка: single positional indexer is out-of-bounds\n",
            "\n",
            "🔄 İşleniyor: SP HCN-230074 to TSM-07-23-337.v3 (1).xlsx\n",
            "⚠️ Hata/Ошибка: single positional indexer is out-of-bounds\n",
            "\n",
            "🔄 İşleniyor: SP HCN-230075 to TSM-07-23-337 (1).xlsx\n"
          ]
        },
        {
          "output_type": "stream",
          "name": "stderr",
          "text": [
            "/usr/local/lib/python3.11/dist-packages/openpyxl/worksheet/header_footer.py:48: UserWarning: Cannot parse header or footer so it will be ignored\n",
            "  warn(\"\"\"Cannot parse header or footer so it will be ignored\"\"\")\n",
            "/usr/local/lib/python3.11/dist-packages/openpyxl/worksheet/header_footer.py:48: UserWarning: Cannot parse header or footer so it will be ignored\n",
            "  warn(\"\"\"Cannot parse header or footer so it will be ignored\"\"\")\n",
            "/usr/local/lib/python3.11/dist-packages/openpyxl/worksheet/header_footer.py:48: UserWarning: Cannot parse header or footer so it will be ignored\n",
            "  warn(\"\"\"Cannot parse header or footer so it will be ignored\"\"\")\n",
            "/usr/local/lib/python3.11/dist-packages/openpyxl/worksheet/header_footer.py:48: UserWarning: Cannot parse header or footer so it will be ignored\n",
            "  warn(\"\"\"Cannot parse header or footer so it will be ignored\"\"\")\n"
          ]
        },
        {
          "output_type": "stream",
          "name": "stdout",
          "text": [
            "⚠️ Hata/Ошибка: single positional indexer is out-of-bounds\n",
            "\n",
            "🔄 İşleniyor: SP HCN-230082 to TSM-07-23-337.v1 (1).xlsx\n",
            "⚠️ Hata/Ошибка: single positional indexer is out-of-bounds\n",
            "\n",
            "🔄 İşleniyor: SP HM-30009 to TSM-07-23-337 (1).xlsx\n",
            "✅ cleaned_SP HM-30009 to TSM-07-23-337 (1).xlsx oluşturuldu./был создан.\n",
            "\n",
            "🔄 İşleniyor: SP HM-30010 (1).xlsx\n",
            "✅ cleaned_SP HM-30010 (1).xlsx oluşturuldu./был создан.\n",
            "\n",
            "🔄 İşleniyor: SP HM-30014 to TSM-07-23-337 (1).xlsx\n"
          ]
        },
        {
          "output_type": "stream",
          "name": "stderr",
          "text": [
            "/usr/local/lib/python3.11/dist-packages/openpyxl/worksheet/header_footer.py:48: UserWarning: Cannot parse header or footer so it will be ignored\n",
            "  warn(\"\"\"Cannot parse header or footer so it will be ignored\"\"\")\n",
            "/usr/local/lib/python3.11/dist-packages/openpyxl/worksheet/header_footer.py:48: UserWarning: Cannot parse header or footer so it will be ignored\n",
            "  warn(\"\"\"Cannot parse header or footer so it will be ignored\"\"\")\n",
            "/usr/local/lib/python3.11/dist-packages/openpyxl/worksheet/header_footer.py:48: UserWarning: Cannot parse header or footer so it will be ignored\n",
            "  warn(\"\"\"Cannot parse header or footer so it will be ignored\"\"\")\n",
            "/usr/local/lib/python3.11/dist-packages/openpyxl/worksheet/header_footer.py:48: UserWarning: Cannot parse header or footer so it will be ignored\n",
            "  warn(\"\"\"Cannot parse header or footer so it will be ignored\"\"\")\n"
          ]
        },
        {
          "output_type": "stream",
          "name": "stdout",
          "text": [
            "✅ cleaned_SP HM-30014 to TSM-07-23-337 (1).xlsx oluşturuldu./был создан.\n",
            "\n",
            "🔄 İşleniyor: SP HM-30015 to TSM-07-23-337 (1).xlsx\n",
            "✅ cleaned_SP HM-30015 to TSM-07-23-337 (1).xlsx oluşturuldu./был создан.\n",
            "\n",
            "🔄 İşleniyor: SP HM-30016 от 25.07.2023 (1).xlsx\n"
          ]
        },
        {
          "output_type": "stream",
          "name": "stderr",
          "text": [
            "/usr/local/lib/python3.11/dist-packages/openpyxl/worksheet/header_footer.py:48: UserWarning: Cannot parse header or footer so it will be ignored\n",
            "  warn(\"\"\"Cannot parse header or footer so it will be ignored\"\"\")\n",
            "/usr/local/lib/python3.11/dist-packages/openpyxl/worksheet/header_footer.py:48: UserWarning: Cannot parse header or footer so it will be ignored\n",
            "  warn(\"\"\"Cannot parse header or footer so it will be ignored\"\"\")\n",
            "/usr/local/lib/python3.11/dist-packages/openpyxl/worksheet/header_footer.py:48: UserWarning: Cannot parse header or footer so it will be ignored\n",
            "  warn(\"\"\"Cannot parse header or footer so it will be ignored\"\"\")\n",
            "/usr/local/lib/python3.11/dist-packages/openpyxl/worksheet/header_footer.py:48: UserWarning: Cannot parse header or footer so it will be ignored\n",
            "  warn(\"\"\"Cannot parse header or footer so it will be ignored\"\"\")\n"
          ]
        },
        {
          "output_type": "stream",
          "name": "stdout",
          "text": [
            "✅ cleaned_SP HM-30016 от 25.07.2023 (1).xlsx oluşturuldu./был создан.\n",
            "\n",
            "🔄 İşleniyor: SP HM-30017  to TSM-07-23-337 (1).xlsx\n",
            "✅ cleaned_SP HM-30017  to TSM-07-23-337 (1).xlsx oluşturuldu./был создан.\n",
            "⚠️ Hata/Ошибка: Reindexing only valid with uniquely valued Index objects\n",
            "\n",
            "🔄 İşleniyor: SP HM-30027 (1).xlsx\n"
          ]
        },
        {
          "output_type": "stream",
          "name": "stderr",
          "text": [
            "/usr/local/lib/python3.11/dist-packages/openpyxl/worksheet/header_footer.py:48: UserWarning: Cannot parse header or footer so it will be ignored\n",
            "  warn(\"\"\"Cannot parse header or footer so it will be ignored\"\"\")\n",
            "/usr/local/lib/python3.11/dist-packages/openpyxl/worksheet/header_footer.py:48: UserWarning: Cannot parse header or footer so it will be ignored\n",
            "  warn(\"\"\"Cannot parse header or footer so it will be ignored\"\"\")\n",
            "/usr/local/lib/python3.11/dist-packages/openpyxl/worksheet/header_footer.py:48: UserWarning: Cannot parse header or footer so it will be ignored\n",
            "  warn(\"\"\"Cannot parse header or footer so it will be ignored\"\"\")\n",
            "/usr/local/lib/python3.11/dist-packages/openpyxl/worksheet/header_footer.py:48: UserWarning: Cannot parse header or footer so it will be ignored\n",
            "  warn(\"\"\"Cannot parse header or footer so it will be ignored\"\"\")\n",
            "/usr/local/lib/python3.11/dist-packages/openpyxl/worksheet/header_footer.py:48: UserWarning: Cannot parse header or footer so it will be ignored\n",
            "  warn(\"\"\"Cannot parse header or footer so it will be ignored\"\"\")\n"
          ]
        },
        {
          "output_type": "stream",
          "name": "stdout",
          "text": [
            "✅ cleaned_SP HM-30027 (1).xlsx oluşturuldu./был создан.\n",
            "\n",
            "🔄 İşleniyor: SP № HM-30012 от 23.05.2023.xlsx\n",
            "✅ cleaned_SP № HM-30012 от 23.05.2023.xlsx oluşturuldu./был создан.\n",
            "\n",
            "🔄 İşleniyor: Копия HM-30024 новая (1).xlsx\n"
          ]
        },
        {
          "output_type": "stream",
          "name": "stderr",
          "text": [
            "/usr/local/lib/python3.11/dist-packages/openpyxl/worksheet/header_footer.py:48: UserWarning: Cannot parse header or footer so it will be ignored\n",
            "  warn(\"\"\"Cannot parse header or footer so it will be ignored\"\"\")\n"
          ]
        },
        {
          "output_type": "stream",
          "name": "stdout",
          "text": [
            "✅ cleaned_Копия HM-30024 новая (1).xlsx oluşturuldu./был создан.\n",
            "\n",
            "🔄 İşleniyor: Спецификация HC-10002 (1).xlsx\n",
            "⚠️ Hata/Ошибка: single positional indexer is out-of-bounds\n",
            "\n",
            "🔄 İşleniyor: Спецификация HC-10008 ВЕРНО (1).xlsx\n",
            "⚠️ Hata/Ошибка: single positional indexer is out-of-bounds\n",
            "\n",
            "🔄 İşleniyor: Спецификация HC-10014 (1).xlsx\n",
            "⚠️ Hata/Ошибка: single positional indexer is out-of-bounds\n",
            "\n",
            "🔄 İşleniyor: Спецификация -HCN-230015 (1).xlsx\n",
            "⚠️ Hata/Ошибка: single positional indexer is out-of-bounds\n",
            "\n",
            "🔄 İşleniyor: Спецификация № HM-30003 (1).xlsx\n",
            "✅ cleaned_Спецификация № HM-30003 (1).xlsx oluşturuldu./был создан.\n",
            "\n",
            "🔄 İşleniyor: Спецификация-HCN-230002 (1).xlsx\n",
            "⚠️ Hata/Ошибка: single positional indexer is out-of-bounds\n",
            "\n",
            "🔄 İşleniyor: Спецификация-HCN-230003 (1).xlsx\n",
            "⚠️ Hata/Ошибка: single positional indexer is out-of-bounds\n",
            "\n",
            "🔄 İşleniyor: Спецификация-HCN-230005_09-03-2023 (1).xlsx\n",
            "⚠️ Hata/Ошибка: single positional indexer is out-of-bounds\n",
            "\n",
            "🔄 İşleniyor: Спецификация-HCN-230006_09-03-2023 (1).xlsx\n",
            "⚠️ Hata/Ошибка: single positional indexer is out-of-bounds\n",
            "\n",
            "🔄 İşleniyor: Спецификация-HCN-230007_10-03-2023 (1).xlsx\n",
            "⚠️ Hata/Ошибка: single positional indexer is out-of-bounds\n",
            "\n",
            "🔄 İşleniyor: Спецификация-HCN-230008 (1).xlsx\n",
            "⚠️ Hata/Ошибка: single positional indexer is out-of-bounds\n",
            "\n",
            "🔄 İşleniyor: Спецификация-HCN-230010.xlsx\n",
            "⚠️ Hata/Ошибка: single positional indexer is out-of-bounds\n",
            "\n",
            "🔄 İşleniyor: Спецификация-HCN-230011.xlsx\n",
            "⚠️ Hata/Ошибка: single positional indexer is out-of-bounds\n",
            "\n",
            "🔄 İşleniyor: Спецификация-HCN-230012_v1.xlsx\n",
            "⚠️ Hata/Ошибка: single positional indexer is out-of-bounds\n",
            "\n",
            "🔄 İşleniyor: Спецификация-HCN-230013 (2).xlsx\n",
            "⚠️ Hata/Ошибка: single positional indexer is out-of-bounds\n",
            "\n",
            "🔄 İşleniyor: Спецификация-HCN-230014_v2.xlsx\n",
            "⚠️ Hata/Ошибка: single positional indexer is out-of-bounds\n",
            "\n",
            "🔄 İşleniyor: Спецификация-HCN-230016.xlsx\n",
            "⚠️ Hata/Ошибка: single positional indexer is out-of-bounds\n",
            "\n",
            "🔄 İşleniyor: Спецификация-HCN-230017_v1 (1).xlsx\n",
            "⚠️ Hata/Ошибка: single positional indexer is out-of-bounds\n",
            "\n",
            "🔄 İşleniyor: Спецификация-HCN-230018_L1 (1).xlsx\n",
            "⚠️ Hata/Ошибка: single positional indexer is out-of-bounds\n",
            "\n",
            "🔄 İşleniyor: Спецификация-HCN-230019 (1).xlsx\n",
            "⚠️ Hata/Ошибка: single positional indexer is out-of-bounds\n",
            "\n",
            "🔄 İşleniyor: Спецификация-HCN-230020 (1).xlsx\n",
            "⚠️ Hata/Ошибка: single positional indexer is out-of-bounds\n",
            "\n",
            "🔄 İşleniyor: Спецификация-HCN-230021 (1).xlsx\n",
            "⚠️ Hata/Ошибка: single positional indexer is out-of-bounds\n",
            "\n",
            "🔄 İşleniyor: Спецификация-HCN-230022 (1).xlsx\n",
            "⚠️ Hata/Ошибка: single positional indexer is out-of-bounds\n",
            "\n",
            "🔄 İşleniyor: Спецификация-HCN-230023_V2 (1).xlsx\n",
            "⚠️ Hata/Ошибка: single positional indexer is out-of-bounds\n",
            "\n",
            "🔄 İşleniyor: Спецификация-HCN-230024 Не проект (1).xlsx\n",
            "⚠️ Hata/Ошибка: single positional indexer is out-of-bounds\n",
            "\n",
            "🔄 İşleniyor: Спецификация-HCN-230025 (1).xlsx\n"
          ]
        },
        {
          "output_type": "stream",
          "name": "stderr",
          "text": [
            "/usr/local/lib/python3.11/dist-packages/openpyxl/worksheet/header_footer.py:48: UserWarning: Cannot parse header or footer so it will be ignored\n",
            "  warn(\"\"\"Cannot parse header or footer so it will be ignored\"\"\")\n",
            "/usr/local/lib/python3.11/dist-packages/openpyxl/worksheet/header_footer.py:48: UserWarning: Cannot parse header or footer so it will be ignored\n",
            "  warn(\"\"\"Cannot parse header or footer so it will be ignored\"\"\")\n",
            "/usr/local/lib/python3.11/dist-packages/openpyxl/worksheet/header_footer.py:48: UserWarning: Cannot parse header or footer so it will be ignored\n",
            "  warn(\"\"\"Cannot parse header or footer so it will be ignored\"\"\")\n",
            "/usr/local/lib/python3.11/dist-packages/openpyxl/worksheet/header_footer.py:48: UserWarning: Cannot parse header or footer so it will be ignored\n",
            "  warn(\"\"\"Cannot parse header or footer so it will be ignored\"\"\")\n",
            "/usr/local/lib/python3.11/dist-packages/openpyxl/worksheet/header_footer.py:48: UserWarning: Cannot parse header or footer so it will be ignored\n",
            "  warn(\"\"\"Cannot parse header or footer so it will be ignored\"\"\")\n",
            "/usr/local/lib/python3.11/dist-packages/openpyxl/worksheet/header_footer.py:48: UserWarning: Cannot parse header or footer so it will be ignored\n",
            "  warn(\"\"\"Cannot parse header or footer so it will be ignored\"\"\")\n"
          ]
        },
        {
          "output_type": "stream",
          "name": "stdout",
          "text": [
            "⚠️ Hata/Ошибка: single positional indexer is out-of-bounds\n",
            "\n",
            "🔄 İşleniyor: Спецификация-HCN-230026-Не проект (1).xlsx\n",
            "⚠️ Hata/Ошибка: single positional indexer is out-of-bounds\n",
            "\n",
            "🔄 İşleniyor: Спецификация-HCN-230033-Проект (1).xlsx\n",
            "⚠️ Hata/Ошибка: single positional indexer is out-of-bounds\n",
            "\n",
            "🔄 İşleniyor: Спецификация-HCN-230034 (1).xlsx\n"
          ]
        },
        {
          "output_type": "stream",
          "name": "stderr",
          "text": [
            "/usr/local/lib/python3.11/dist-packages/openpyxl/worksheet/header_footer.py:48: UserWarning: Cannot parse header or footer so it will be ignored\n",
            "  warn(\"\"\"Cannot parse header or footer so it will be ignored\"\"\")\n",
            "/usr/local/lib/python3.11/dist-packages/openpyxl/worksheet/header_footer.py:48: UserWarning: Cannot parse header or footer so it will be ignored\n",
            "  warn(\"\"\"Cannot parse header or footer so it will be ignored\"\"\")\n",
            "/usr/local/lib/python3.11/dist-packages/openpyxl/worksheet/header_footer.py:48: UserWarning: Cannot parse header or footer so it will be ignored\n",
            "  warn(\"\"\"Cannot parse header or footer so it will be ignored\"\"\")\n",
            "/usr/local/lib/python3.11/dist-packages/openpyxl/worksheet/header_footer.py:48: UserWarning: Cannot parse header or footer so it will be ignored\n",
            "  warn(\"\"\"Cannot parse header or footer so it will be ignored\"\"\")\n"
          ]
        },
        {
          "output_type": "stream",
          "name": "stdout",
          "text": [
            "⚠️ Hata/Ошибка: single positional indexer is out-of-bounds\n",
            "\n",
            "🔄 İşleniyor: Спецификация-HCN-230035 (1).xlsx\n",
            "⚠️ Hata/Ошибка: single positional indexer is out-of-bounds\n",
            "\n",
            "🔄 İşleniyor: Спецификация-HCN-230036.v1 (1).xlsx\n"
          ]
        },
        {
          "output_type": "stream",
          "name": "stderr",
          "text": [
            "/usr/local/lib/python3.11/dist-packages/openpyxl/worksheet/header_footer.py:48: UserWarning: Cannot parse header or footer so it will be ignored\n",
            "  warn(\"\"\"Cannot parse header or footer so it will be ignored\"\"\")\n",
            "/usr/local/lib/python3.11/dist-packages/openpyxl/worksheet/header_footer.py:48: UserWarning: Cannot parse header or footer so it will be ignored\n",
            "  warn(\"\"\"Cannot parse header or footer so it will be ignored\"\"\")\n"
          ]
        },
        {
          "output_type": "stream",
          "name": "stdout",
          "text": [
            "⚠️ Hata/Ошибка: single positional indexer is out-of-bounds\n",
            "\n",
            "🔄 İşleniyor: Спецификация-HCN-20230004_v3 (1).xlsx\n",
            "⚠️ Hata/Ошибка: single positional indexer is out-of-bounds\n",
            "\n",
            "🔄 İşleniyor: ъ_old_rev_HMС-30082 от 21.04.2025 (1).xlsx\n",
            "✅ cleaned_ъ_old_rev_HMС-30082 от 21.04.2025 (1).xlsx oluşturuldu./был создан.\n"
          ]
        },
        {
          "output_type": "stream",
          "name": "stderr",
          "text": [
            "/usr/local/lib/python3.11/dist-packages/openpyxl/worksheet/header_footer.py:48: UserWarning: Cannot parse header or footer so it will be ignored\n",
            "  warn(\"\"\"Cannot parse header or footer so it will be ignored\"\"\")\n",
            "/usr/local/lib/python3.11/dist-packages/openpyxl/worksheet/header_footer.py:48: UserWarning: Cannot parse header or footer so it will be ignored\n",
            "  warn(\"\"\"Cannot parse header or footer so it will be ignored\"\"\")\n"
          ]
        }
      ]
    },
    {
      "cell_type": "code",
      "source": [
        "# Her dosyayı sırayla işle\n",
        "for filename in uploaded.keys():\n",
        "    print(f\"\\n🔄 İşleniyor: {filename}\")\n",
        "\n",
        "    try:\n",
        "        xls = pd.ExcelFile(filename)\n",
        "\n",
        "        # Başlangıç verisi ilk sayfadan\n",
        "        df_start = pd.read_excel(xls, sheet_name=0, header=None, dtype=str)\n",
        "        start_idx = df_start[df_start.apply(\n",
        "            lambda row: row.astype(str).str.contains(r\"Спецификация\\s+№\", regex=True).any(), axis=1)].index\n",
        "\n",
        "        if len(start_idx) == 0:\n",
        "            mesaj = \"Спецификация № bulunamadı/не найдено ❌\"\n",
        "            print(mesaj)\n",
        "            rapor_kayitlari.append({\n",
        "                \"Dosya\": filename,\n",
        "                \"Спецификация №\": \"Yok\",\n",
        "                \"Tarih\": \"Yok\",\n",
        "                \"Durum\": mesaj\n",
        "            })\n",
        "            continue\n",
        "\n",
        "        # Spesifikasyon bilgisi\n",
        "        spec_row = df_start.iloc[start_idx[0]].astype(str).tolist()\n",
        "        spec_text = ' '.join(spec_row)\n",
        "\n",
        "        match_spec = re.search(r'Спецификация\\s+№\\s*(\\S+)', spec_text)\n",
        "        spec_number = match_spec.group(1) if match_spec else 'Bilinmiyor/Неизвестный'\n",
        "\n",
        "        match_date = re.search(r'от\\s+(\\d{2}\\.\\d{2}\\.\\d{4})', spec_text)\n",
        "        spec_date = match_date.group(1) if match_date else 'Bilinmiyor/Неизвестный'\n",
        "\n",
        "        # \"Цена без НДС\" araması tüm sayfalarda\n",
        "        end_found = False\n",
        "        for sheet in xls.sheet_names:\n",
        "            df_check = pd.read_excel(xls, sheet_name=sheet, header=None, dtype=str)\n",
        "            end_idx = df_check[df_check.apply(\n",
        "                lambda row: row.astype(str).str.contains(\"Цена без НДС\").any(), axis=1)].index\n",
        "            if len(end_idx) > 0:\n",
        "                end_sheet = sheet\n",
        "                end_index = end_idx[0]\n",
        "                end_found = True\n",
        "                break\n",
        "\n",
        "        if not end_found:\n",
        "            mesaj = \"'Цена без НДС' bulunamadı/не найдено ❌\"\n",
        "            print(mesaj)\n",
        "            rapor_kayitlari.append({\n",
        "                \"Dosya/Файл\": filename,\n",
        "                \"Спецификация №\": spec_number,\n",
        "                \"Tarih/дата\": spec_date,\n",
        "                \"Durum/Ситуация\": mesaj\n",
        "            })\n",
        "            continue\n",
        "\n",
        "        # Structured tabloyu oluştur\n",
        "        if end_sheet == xls.sheet_names[0]:\n",
        "            df_table = df_start.iloc[start_idx[0]+1:end_index].copy()\n",
        "        else:\n",
        "            df1 = df_start.iloc[start_idx[0]+1:].copy()\n",
        "            df2 = pd.read_excel(xls, sheet_name=end_sheet, header=None, dtype=str).iloc[:end_index].copy()\n",
        "            df_table = pd.concat([df1, df2], ignore_index=True)\n",
        "\n",
        "        # Temizle\n",
        "        df_table = df_table.dropna(how='all')\n",
        "        df_table.columns = df_table.iloc[0]\n",
        "        df_table = df_table[1:]\n",
        "\n",
        "        # Bilgileri ekle\n",
        "        df_table[\"номер спецификации\"] = spec_number\n",
        "        df_table[\"дата\"] = spec_date\n",
        "\n",
        "        # Kaydet\n",
        "        out_filename = f\"cleaned_{filename}\"\n",
        "        df_table.to_excel(out_filename, index=False)\n",
        "        print(f\"✅ {out_filename} oluşturuldu./был создан.\")\n",
        "\n",
        "        # Ana tabloya ekle\n",
        "        master_df = pd.concat([master_df, df_table], axis=0, ignore_index=True, sort=False)\n",
        "\n",
        "        # Rapor tablosuna kayıt\n",
        "        rapor_kayitlari.append({\n",
        "            \"Dosya/Файл\": filename,\n",
        "            \"Спецификация №\": spec_number,\n",
        "            \"Tarih/дата\": spec_date,\n",
        "            \"Durum/Ситуация\": \"Oluşturuldu/был создан. ✅\"\n",
        "        })\n",
        "\n",
        "    except Exception as e:\n",
        "        hata_mesaji = f\"Hata/Ошибка: {str(e)}\"\n",
        "        print(f\"⚠️ {hata_mesaji}\")\n",
        "        rapor_kayitlari.append({\n",
        "            \"Dosya/Файл\": filename,\n",
        "            \"Спецификация №\": \"Bilinmiyor/не найдено\",\n",
        "            \"Tarih/дата\": \"Bilinmiyor/не найдено\",\n",
        "            \"Durum/Ситуация\": hata_mesaji\n",
        "        })"
      ],
      "metadata": {
        "colab": {
          "base_uri": "https://localhost:8080/"
        },
        "id": "G4CL0aOdsoG7",
        "outputId": "7475bb64-82d5-41a8-a489-0608bcb0c706"
      },
      "execution_count": null,
      "outputs": [
        {
          "output_type": "stream",
          "name": "stdout",
          "text": [
            "\n",
            "🔄 İşleniyor: _HM-30061 (1).xlsx\n",
            "✅ cleaned__HM-30061 (1).xlsx oluşturuldu./был создан.\n",
            "\n",
            "🔄 İşleniyor: _HM-30062 (1).xlsx\n"
          ]
        },
        {
          "output_type": "stream",
          "name": "stderr",
          "text": [
            "/usr/local/lib/python3.11/dist-packages/openpyxl/worksheet/header_footer.py:48: UserWarning: Cannot parse header or footer so it will be ignored\n",
            "  warn(\"\"\"Cannot parse header or footer so it will be ignored\"\"\")\n",
            "/usr/local/lib/python3.11/dist-packages/openpyxl/worksheet/header_footer.py:48: UserWarning: Cannot parse header or footer so it will be ignored\n",
            "  warn(\"\"\"Cannot parse header or footer so it will be ignored\"\"\")\n",
            "/usr/local/lib/python3.11/dist-packages/openpyxl/worksheet/header_footer.py:48: UserWarning: Cannot parse header or footer so it will be ignored\n",
            "  warn(\"\"\"Cannot parse header or footer so it will be ignored\"\"\")\n",
            "/usr/local/lib/python3.11/dist-packages/openpyxl/worksheet/header_footer.py:48: UserWarning: Cannot parse header or footer so it will be ignored\n",
            "  warn(\"\"\"Cannot parse header or footer so it will be ignored\"\"\")\n"
          ]
        },
        {
          "output_type": "stream",
          "name": "stdout",
          "text": [
            "✅ cleaned__HM-30062 (1).xlsx oluşturuldu./был создан.\n",
            "\n",
            "🔄 İşleniyor: _HM-30065 (1).xlsx\n",
            "✅ cleaned__HM-30065 (1).xlsx oluşturuldu./был создан.\n",
            "\n",
            "🔄 İşleniyor: _HM-30066 от 04.10.2024 (1).xlsx\n"
          ]
        },
        {
          "output_type": "stream",
          "name": "stderr",
          "text": [
            "/usr/local/lib/python3.11/dist-packages/openpyxl/worksheet/header_footer.py:48: UserWarning: Cannot parse header or footer so it will be ignored\n",
            "  warn(\"\"\"Cannot parse header or footer so it will be ignored\"\"\")\n",
            "/usr/local/lib/python3.11/dist-packages/openpyxl/worksheet/header_footer.py:48: UserWarning: Cannot parse header or footer so it will be ignored\n",
            "  warn(\"\"\"Cannot parse header or footer so it will be ignored\"\"\")\n",
            "/usr/local/lib/python3.11/dist-packages/openpyxl/worksheet/header_footer.py:48: UserWarning: Cannot parse header or footer so it will be ignored\n",
            "  warn(\"\"\"Cannot parse header or footer so it will be ignored\"\"\")\n",
            "/usr/local/lib/python3.11/dist-packages/openpyxl/worksheet/header_footer.py:48: UserWarning: Cannot parse header or footer so it will be ignored\n",
            "  warn(\"\"\"Cannot parse header or footer so it will be ignored\"\"\")\n"
          ]
        },
        {
          "output_type": "stream",
          "name": "stdout",
          "text": [
            "✅ cleaned__HM-30066 от 04.10.2024 (1).xlsx oluşturuldu./был создан.\n",
            "\n",
            "🔄 İşleniyor: _HM-30069 измен 03.12.2024 (1).xlsx\n",
            "✅ cleaned__HM-30069 измен 03.12.2024 (1).xlsx oluşturuldu./был создан.\n",
            "\n",
            "🔄 İşleniyor: _HM-30070 12.11.2024 (1).xlsx\n"
          ]
        },
        {
          "output_type": "stream",
          "name": "stderr",
          "text": [
            "/usr/local/lib/python3.11/dist-packages/openpyxl/worksheet/header_footer.py:48: UserWarning: Cannot parse header or footer so it will be ignored\n",
            "  warn(\"\"\"Cannot parse header or footer so it will be ignored\"\"\")\n",
            "/usr/local/lib/python3.11/dist-packages/openpyxl/worksheet/header_footer.py:48: UserWarning: Cannot parse header or footer so it will be ignored\n",
            "  warn(\"\"\"Cannot parse header or footer so it will be ignored\"\"\")\n",
            "/usr/local/lib/python3.11/dist-packages/openpyxl/worksheet/header_footer.py:48: UserWarning: Cannot parse header or footer so it will be ignored\n",
            "  warn(\"\"\"Cannot parse header or footer so it will be ignored\"\"\")\n",
            "/usr/local/lib/python3.11/dist-packages/openpyxl/worksheet/header_footer.py:48: UserWarning: Cannot parse header or footer so it will be ignored\n",
            "  warn(\"\"\"Cannot parse header or footer so it will be ignored\"\"\")\n"
          ]
        },
        {
          "output_type": "stream",
          "name": "stdout",
          "text": [
            "✅ cleaned__HM-30070 12.11.2024 (1).xlsx oluşturuldu./был создан.\n",
            "⚠️ Hata/Ошибка: Reindexing only valid with uniquely valued Index objects\n",
            "\n",
            "🔄 İşleniyor: _HM-30071 от 04.12.2024 (1).xlsx\n",
            "✅ cleaned__HM-30071 от 04.12.2024 (1).xlsx oluşturuldu./был создан.\n",
            "⚠️ Hata/Ошибка: Reindexing only valid with uniquely valued Index objects\n",
            "\n",
            "🔄 İşleniyor: _HM-30072 (1).xlsx\n"
          ]
        },
        {
          "output_type": "stream",
          "name": "stderr",
          "text": [
            "/usr/local/lib/python3.11/dist-packages/openpyxl/worksheet/header_footer.py:48: UserWarning: Cannot parse header or footer so it will be ignored\n",
            "  warn(\"\"\"Cannot parse header or footer so it will be ignored\"\"\")\n",
            "/usr/local/lib/python3.11/dist-packages/openpyxl/worksheet/header_footer.py:48: UserWarning: Cannot parse header or footer so it will be ignored\n",
            "  warn(\"\"\"Cannot parse header or footer so it will be ignored\"\"\")\n",
            "/usr/local/lib/python3.11/dist-packages/openpyxl/worksheet/header_footer.py:48: UserWarning: Cannot parse header or footer so it will be ignored\n",
            "  warn(\"\"\"Cannot parse header or footer so it will be ignored\"\"\")\n",
            "/usr/local/lib/python3.11/dist-packages/openpyxl/worksheet/header_footer.py:48: UserWarning: Cannot parse header or footer so it will be ignored\n",
            "  warn(\"\"\"Cannot parse header or footer so it will be ignored\"\"\")\n"
          ]
        },
        {
          "output_type": "stream",
          "name": "stdout",
          "text": [
            "✅ cleaned__HM-30072 (1).xlsx oluşturuldu./был создан.\n",
            "⚠️ Hata/Ошибка: Reindexing only valid with uniquely valued Index objects\n",
            "\n",
            "🔄 İşleniyor: _HM-30073 05.12.2024 (1).xlsx\n",
            "✅ cleaned__HM-30073 05.12.2024 (1).xlsx oluşturuldu./был создан.\n",
            "⚠️ Hata/Ошибка: Reindexing only valid with uniquely valued Index objects\n",
            "\n",
            "🔄 İşleniyor: _HM-30074 (1).xlsx\n"
          ]
        },
        {
          "output_type": "stream",
          "name": "stderr",
          "text": [
            "/usr/local/lib/python3.11/dist-packages/openpyxl/worksheet/header_footer.py:48: UserWarning: Cannot parse header or footer so it will be ignored\n",
            "  warn(\"\"\"Cannot parse header or footer so it will be ignored\"\"\")\n",
            "/usr/local/lib/python3.11/dist-packages/openpyxl/worksheet/header_footer.py:48: UserWarning: Cannot parse header or footer so it will be ignored\n",
            "  warn(\"\"\"Cannot parse header or footer so it will be ignored\"\"\")\n",
            "/usr/local/lib/python3.11/dist-packages/openpyxl/worksheet/header_footer.py:48: UserWarning: Cannot parse header or footer so it will be ignored\n",
            "  warn(\"\"\"Cannot parse header or footer so it will be ignored\"\"\")\n",
            "/usr/local/lib/python3.11/dist-packages/openpyxl/worksheet/header_footer.py:48: UserWarning: Cannot parse header or footer so it will be ignored\n",
            "  warn(\"\"\"Cannot parse header or footer so it will be ignored\"\"\")\n"
          ]
        },
        {
          "output_type": "stream",
          "name": "stdout",
          "text": [
            "✅ cleaned__HM-30074 (1).xlsx oluşturuldu./был создан.\n",
            "⚠️ Hata/Ошибка: Reindexing only valid with uniquely valued Index objects\n",
            "\n",
            "🔄 İşleniyor: _HM-30077 (1).xlsx\n",
            "✅ cleaned__HM-30077 (1).xlsx oluşturuldu./был создан.\n",
            "⚠️ Hata/Ошибка: Reindexing only valid with uniquely valued Index objects\n",
            "\n",
            "🔄 İşleniyor: _HM-30078 30.01.2025 (1).xlsx\n"
          ]
        },
        {
          "output_type": "stream",
          "name": "stderr",
          "text": [
            "/usr/local/lib/python3.11/dist-packages/openpyxl/worksheet/header_footer.py:48: UserWarning: Cannot parse header or footer so it will be ignored\n",
            "  warn(\"\"\"Cannot parse header or footer so it will be ignored\"\"\")\n",
            "/usr/local/lib/python3.11/dist-packages/openpyxl/worksheet/header_footer.py:48: UserWarning: Cannot parse header or footer so it will be ignored\n",
            "  warn(\"\"\"Cannot parse header or footer so it will be ignored\"\"\")\n",
            "/usr/local/lib/python3.11/dist-packages/openpyxl/worksheet/header_footer.py:48: UserWarning: Cannot parse header or footer so it will be ignored\n",
            "  warn(\"\"\"Cannot parse header or footer so it will be ignored\"\"\")\n",
            "/usr/local/lib/python3.11/dist-packages/openpyxl/worksheet/header_footer.py:48: UserWarning: Cannot parse header or footer so it will be ignored\n",
            "  warn(\"\"\"Cannot parse header or footer so it will be ignored\"\"\")\n"
          ]
        },
        {
          "output_type": "stream",
          "name": "stdout",
          "text": [
            "✅ cleaned__HM-30078 30.01.2025 (1).xlsx oluşturuldu./был создан.\n",
            "⚠️ Hata/Ошибка: Reindexing only valid with uniquely valued Index objects\n",
            "\n",
            "🔄 İşleniyor: _HM-30079 от 06.02.2025 (1).xlsx\n",
            "✅ cleaned__HM-30079 от 06.02.2025 (1).xlsx oluşturuldu./был создан.\n",
            "\n",
            "🔄 İşleniyor: _HM-30080 от 17.02.2025 (1).xlsx\n"
          ]
        },
        {
          "output_type": "stream",
          "name": "stderr",
          "text": [
            "/usr/local/lib/python3.11/dist-packages/openpyxl/worksheet/header_footer.py:48: UserWarning: Cannot parse header or footer so it will be ignored\n",
            "  warn(\"\"\"Cannot parse header or footer so it will be ignored\"\"\")\n",
            "/usr/local/lib/python3.11/dist-packages/openpyxl/worksheet/header_footer.py:48: UserWarning: Cannot parse header or footer so it will be ignored\n",
            "  warn(\"\"\"Cannot parse header or footer so it will be ignored\"\"\")\n",
            "/usr/local/lib/python3.11/dist-packages/openpyxl/worksheet/header_footer.py:48: UserWarning: Cannot parse header or footer so it will be ignored\n",
            "  warn(\"\"\"Cannot parse header or footer so it will be ignored\"\"\")\n",
            "/usr/local/lib/python3.11/dist-packages/openpyxl/worksheet/header_footer.py:48: UserWarning: Cannot parse header or footer so it will be ignored\n",
            "  warn(\"\"\"Cannot parse header or footer so it will be ignored\"\"\")\n"
          ]
        },
        {
          "output_type": "stream",
          "name": "stdout",
          "text": [
            "✅ cleaned__HM-30080 от 17.02.2025 (1).xlsx oluşturuldu./был создан.\n",
            "⚠️ Hata/Ошибка: Reindexing only valid with uniquely valued Index objects\n",
            "\n",
            "🔄 İşleniyor: _HM-30081 от 13.02.2025 (1).xlsx\n",
            "✅ cleaned__HM-30081 от 13.02.2025 (1).xlsx oluşturuldu./был создан.\n",
            "\n",
            "🔄 İşleniyor: _HM-30082 от 19.03.2025 (1).xlsx\n"
          ]
        },
        {
          "output_type": "stream",
          "name": "stderr",
          "text": [
            "/usr/local/lib/python3.11/dist-packages/openpyxl/worksheet/header_footer.py:48: UserWarning: Cannot parse header or footer so it will be ignored\n",
            "  warn(\"\"\"Cannot parse header or footer so it will be ignored\"\"\")\n",
            "/usr/local/lib/python3.11/dist-packages/openpyxl/worksheet/header_footer.py:48: UserWarning: Cannot parse header or footer so it will be ignored\n",
            "  warn(\"\"\"Cannot parse header or footer so it will be ignored\"\"\")\n",
            "/usr/local/lib/python3.11/dist-packages/openpyxl/worksheet/header_footer.py:48: UserWarning: Cannot parse header or footer so it will be ignored\n",
            "  warn(\"\"\"Cannot parse header or footer so it will be ignored\"\"\")\n",
            "/usr/local/lib/python3.11/dist-packages/openpyxl/worksheet/header_footer.py:48: UserWarning: Cannot parse header or footer so it will be ignored\n",
            "  warn(\"\"\"Cannot parse header or footer so it will be ignored\"\"\")\n"
          ]
        },
        {
          "output_type": "stream",
          "name": "stdout",
          "text": [
            "✅ cleaned__HM-30082 от 19.03.2025 (1).xlsx oluşturuldu./был создан.\n",
            "\n",
            "🔄 İşleniyor: _HM-30083 от 19.03.2025 (1).xlsx\n",
            "✅ cleaned__HM-30083 от 19.03.2025 (1).xlsx oluşturuldu./был создан.\n",
            "\n",
            "🔄 İşleniyor: _HM-30084 от 18.04.2025 (1).xlsx\n"
          ]
        },
        {
          "output_type": "stream",
          "name": "stderr",
          "text": [
            "/usr/local/lib/python3.11/dist-packages/openpyxl/worksheet/header_footer.py:48: UserWarning: Cannot parse header or footer so it will be ignored\n",
            "  warn(\"\"\"Cannot parse header or footer so it will be ignored\"\"\")\n",
            "/usr/local/lib/python3.11/dist-packages/openpyxl/worksheet/header_footer.py:48: UserWarning: Cannot parse header or footer so it will be ignored\n",
            "  warn(\"\"\"Cannot parse header or footer so it will be ignored\"\"\")\n",
            "/usr/local/lib/python3.11/dist-packages/openpyxl/worksheet/header_footer.py:48: UserWarning: Cannot parse header or footer so it will be ignored\n",
            "  warn(\"\"\"Cannot parse header or footer so it will be ignored\"\"\")\n",
            "/usr/local/lib/python3.11/dist-packages/openpyxl/worksheet/header_footer.py:48: UserWarning: Cannot parse header or footer so it will be ignored\n",
            "  warn(\"\"\"Cannot parse header or footer so it will be ignored\"\"\")\n"
          ]
        },
        {
          "output_type": "stream",
          "name": "stdout",
          "text": [
            "✅ cleaned__HM-30084 от 18.04.2025 (1).xlsx oluşturuldu./был создан.\n",
            "\n",
            "🔄 İşleniyor: _HM-30085 от 29.04.2025 (1).xlsx\n",
            "✅ cleaned__HM-30085 от 29.04.2025 (1).xlsx oluşturuldu./был создан.\n",
            "\n",
            "🔄 İşleniyor: _HM-30086 от 05.05.2025 (1).xlsx\n"
          ]
        },
        {
          "output_type": "stream",
          "name": "stderr",
          "text": [
            "/usr/local/lib/python3.11/dist-packages/openpyxl/worksheet/header_footer.py:48: UserWarning: Cannot parse header or footer so it will be ignored\n",
            "  warn(\"\"\"Cannot parse header or footer so it will be ignored\"\"\")\n",
            "/usr/local/lib/python3.11/dist-packages/openpyxl/worksheet/header_footer.py:48: UserWarning: Cannot parse header or footer so it will be ignored\n",
            "  warn(\"\"\"Cannot parse header or footer so it will be ignored\"\"\")\n",
            "/usr/local/lib/python3.11/dist-packages/openpyxl/worksheet/header_footer.py:48: UserWarning: Cannot parse header or footer so it will be ignored\n",
            "  warn(\"\"\"Cannot parse header or footer so it will be ignored\"\"\")\n",
            "/usr/local/lib/python3.11/dist-packages/openpyxl/worksheet/header_footer.py:48: UserWarning: Cannot parse header or footer so it will be ignored\n",
            "  warn(\"\"\"Cannot parse header or footer so it will be ignored\"\"\")\n"
          ]
        },
        {
          "output_type": "stream",
          "name": "stdout",
          "text": [
            "✅ cleaned__HM-30086 от 05.05.2025 (1).xlsx oluşturuldu./был создан.\n",
            "⚠️ Hata/Ошибка: Reindexing only valid with uniquely valued Index objects\n",
            "\n",
            "🔄 İşleniyor: _HME-30084 от 21.04.2025 (1).xlsx\n",
            "✅ cleaned__HME-30084 от 21.04.2025 (1).xlsx oluşturuldu./был создан.\n",
            "\n",
            "🔄 İşleniyor: _HMС-30081 от 04.02.2025 (1).xlsx\n",
            "✅ cleaned__HMС-30081 от 04.02.2025 (1).xlsx oluşturuldu./был создан.\n",
            "⚠️ Hata/Ошибка: Reindexing only valid with uniquely valued Index objects\n",
            "\n",
            "🔄 İşleniyor: _SP HM-30035 to TSM-07-23-337 (1).xlsx\n"
          ]
        },
        {
          "output_type": "stream",
          "name": "stderr",
          "text": [
            "/usr/local/lib/python3.11/dist-packages/openpyxl/worksheet/header_footer.py:48: UserWarning: Cannot parse header or footer so it will be ignored\n",
            "  warn(\"\"\"Cannot parse header or footer so it will be ignored\"\"\")\n",
            "/usr/local/lib/python3.11/dist-packages/openpyxl/worksheet/header_footer.py:48: UserWarning: Cannot parse header or footer so it will be ignored\n",
            "  warn(\"\"\"Cannot parse header or footer so it will be ignored\"\"\")\n",
            "/usr/local/lib/python3.11/dist-packages/openpyxl/worksheet/header_footer.py:48: UserWarning: Cannot parse header or footer so it will be ignored\n",
            "  warn(\"\"\"Cannot parse header or footer so it will be ignored\"\"\")\n",
            "/usr/local/lib/python3.11/dist-packages/openpyxl/worksheet/header_footer.py:48: UserWarning: Cannot parse header or footer so it will be ignored\n",
            "  warn(\"\"\"Cannot parse header or footer so it will be ignored\"\"\")\n",
            "/usr/local/lib/python3.11/dist-packages/openpyxl/worksheet/header_footer.py:48: UserWarning: Cannot parse header or footer so it will be ignored\n",
            "  warn(\"\"\"Cannot parse header or footer so it will be ignored\"\"\")\n",
            "/usr/local/lib/python3.11/dist-packages/openpyxl/worksheet/header_footer.py:48: UserWarning: Cannot parse header or footer so it will be ignored\n",
            "  warn(\"\"\"Cannot parse header or footer so it will be ignored\"\"\")\n"
          ]
        },
        {
          "output_type": "stream",
          "name": "stdout",
          "text": [
            "✅ cleaned__SP HM-30035 to TSM-07-23-337 (1).xlsx oluşturuldu./был создан.\n",
            "\n",
            "🔄 İşleniyor: _SP HM-30037 to TSM-07-23-337 (1).xlsx\n"
          ]
        },
        {
          "output_type": "stream",
          "name": "stderr",
          "text": [
            "/usr/local/lib/python3.11/dist-packages/openpyxl/worksheet/header_footer.py:48: UserWarning: Cannot parse header or footer so it will be ignored\n",
            "  warn(\"\"\"Cannot parse header or footer so it will be ignored\"\"\")\n",
            "/usr/local/lib/python3.11/dist-packages/openpyxl/worksheet/header_footer.py:48: UserWarning: Cannot parse header or footer so it will be ignored\n",
            "  warn(\"\"\"Cannot parse header or footer so it will be ignored\"\"\")\n",
            "/usr/local/lib/python3.11/dist-packages/openpyxl/worksheet/header_footer.py:48: UserWarning: Cannot parse header or footer so it will be ignored\n",
            "  warn(\"\"\"Cannot parse header or footer so it will be ignored\"\"\")\n",
            "/usr/local/lib/python3.11/dist-packages/openpyxl/worksheet/header_footer.py:48: UserWarning: Cannot parse header or footer so it will be ignored\n",
            "  warn(\"\"\"Cannot parse header or footer so it will be ignored\"\"\")\n"
          ]
        },
        {
          "output_type": "stream",
          "name": "stdout",
          "text": [
            "✅ cleaned__SP HM-30037 to TSM-07-23-337 (1).xlsx oluşturuldu./был создан.\n",
            "\n",
            "🔄 İşleniyor: _SP HM-30040 (1).xlsx\n",
            "✅ cleaned__SP HM-30040 (1).xlsx oluşturuldu./был создан.\n",
            "\n",
            "🔄 İşleniyor: _SP HM-30045 to TSM-07-23-337 (1).xlsx\n"
          ]
        },
        {
          "output_type": "stream",
          "name": "stderr",
          "text": [
            "/usr/local/lib/python3.11/dist-packages/openpyxl/worksheet/header_footer.py:48: UserWarning: Cannot parse header or footer so it will be ignored\n",
            "  warn(\"\"\"Cannot parse header or footer so it will be ignored\"\"\")\n",
            "/usr/local/lib/python3.11/dist-packages/openpyxl/worksheet/header_footer.py:48: UserWarning: Cannot parse header or footer so it will be ignored\n",
            "  warn(\"\"\"Cannot parse header or footer so it will be ignored\"\"\")\n",
            "/usr/local/lib/python3.11/dist-packages/openpyxl/worksheet/header_footer.py:48: UserWarning: Cannot parse header or footer so it will be ignored\n",
            "  warn(\"\"\"Cannot parse header or footer so it will be ignored\"\"\")\n",
            "/usr/local/lib/python3.11/dist-packages/openpyxl/worksheet/header_footer.py:48: UserWarning: Cannot parse header or footer so it will be ignored\n",
            "  warn(\"\"\"Cannot parse header or footer so it will be ignored\"\"\")\n"
          ]
        },
        {
          "output_type": "stream",
          "name": "stdout",
          "text": [
            "✅ cleaned__SP HM-30045 to TSM-07-23-337 (1).xlsx oluşturuldu./был создан.\n",
            "\n",
            "🔄 İşleniyor: _SP HM-30048 to TSM-07-23-337 (1).xlsx\n",
            "✅ cleaned__SP HM-30048 to TSM-07-23-337 (1).xlsx oluşturuldu./был создан.\n",
            "\n",
            "🔄 İşleniyor: _SP HM-30060 to TSM-07-23-337 (1).xlsx\n"
          ]
        },
        {
          "output_type": "stream",
          "name": "stderr",
          "text": [
            "/usr/local/lib/python3.11/dist-packages/openpyxl/worksheet/header_footer.py:48: UserWarning: Cannot parse header or footer so it will be ignored\n",
            "  warn(\"\"\"Cannot parse header or footer so it will be ignored\"\"\")\n",
            "/usr/local/lib/python3.11/dist-packages/openpyxl/worksheet/header_footer.py:48: UserWarning: Cannot parse header or footer so it will be ignored\n",
            "  warn(\"\"\"Cannot parse header or footer so it will be ignored\"\"\")\n",
            "/usr/local/lib/python3.11/dist-packages/openpyxl/worksheet/header_footer.py:48: UserWarning: Cannot parse header or footer so it will be ignored\n",
            "  warn(\"\"\"Cannot parse header or footer so it will be ignored\"\"\")\n",
            "/usr/local/lib/python3.11/dist-packages/openpyxl/worksheet/header_footer.py:48: UserWarning: Cannot parse header or footer so it will be ignored\n",
            "  warn(\"\"\"Cannot parse header or footer so it will be ignored\"\"\")\n"
          ]
        },
        {
          "output_type": "stream",
          "name": "stdout",
          "text": [
            "✅ cleaned__SP HM-30060 to TSM-07-23-337 (1).xlsx oluşturuldu./был создан.\n",
            "\n",
            "🔄 İşleniyor: 0_HCN-230085 to TSM-07-23-337.V1 (1).xlsx\n",
            "⚠️ Hata/Ошибка: single positional indexer is out-of-bounds\n",
            "\n",
            "🔄 İşleniyor: 0_HCN-230093 to TSM-07-23-337.v1 (1).xlsx\n"
          ]
        },
        {
          "output_type": "stream",
          "name": "stderr",
          "text": [
            "/usr/local/lib/python3.11/dist-packages/openpyxl/worksheet/header_footer.py:48: UserWarning: Cannot parse header or footer so it will be ignored\n",
            "  warn(\"\"\"Cannot parse header or footer so it will be ignored\"\"\")\n",
            "/usr/local/lib/python3.11/dist-packages/openpyxl/worksheet/header_footer.py:48: UserWarning: Cannot parse header or footer so it will be ignored\n",
            "  warn(\"\"\"Cannot parse header or footer so it will be ignored\"\"\")\n",
            "/usr/local/lib/python3.11/dist-packages/openpyxl/worksheet/header_footer.py:48: UserWarning: Cannot parse header or footer so it will be ignored\n",
            "  warn(\"\"\"Cannot parse header or footer so it will be ignored\"\"\")\n",
            "/usr/local/lib/python3.11/dist-packages/openpyxl/worksheet/header_footer.py:48: UserWarning: Cannot parse header or footer so it will be ignored\n",
            "  warn(\"\"\"Cannot parse header or footer so it will be ignored\"\"\")\n",
            "/usr/local/lib/python3.11/dist-packages/openpyxl/worksheet/header_footer.py:48: UserWarning: Cannot parse header or footer so it will be ignored\n",
            "  warn(\"\"\"Cannot parse header or footer so it will be ignored\"\"\")\n",
            "/usr/local/lib/python3.11/dist-packages/openpyxl/worksheet/header_footer.py:48: UserWarning: Cannot parse header or footer so it will be ignored\n",
            "  warn(\"\"\"Cannot parse header or footer so it will be ignored\"\"\")\n"
          ]
        },
        {
          "output_type": "stream",
          "name": "stdout",
          "text": [
            "⚠️ Hata/Ошибка: single positional indexer is out-of-bounds\n",
            "\n",
            "🔄 İşleniyor: 0_HCN-230110 to TSM-07-23-337 (1).xlsx\n",
            "⚠️ Hata/Ошибка: single positional indexer is out-of-bounds\n",
            "\n",
            "🔄 İşleniyor: 0_HCN-230129 to TSM-07-23-337 (1).xlsx\n",
            "⚠️ Hata/Ошибка: single positional indexer is out-of-bounds\n",
            "\n",
            "🔄 İşleniyor: 0_HM - 30054 (1).xlsx\n"
          ]
        },
        {
          "output_type": "stream",
          "name": "stderr",
          "text": [
            "/usr/local/lib/python3.11/dist-packages/openpyxl/worksheet/header_footer.py:48: UserWarning: Cannot parse header or footer so it will be ignored\n",
            "  warn(\"\"\"Cannot parse header or footer so it will be ignored\"\"\")\n",
            "/usr/local/lib/python3.11/dist-packages/openpyxl/worksheet/header_footer.py:48: UserWarning: Cannot parse header or footer so it will be ignored\n",
            "  warn(\"\"\"Cannot parse header or footer so it will be ignored\"\"\")\n"
          ]
        },
        {
          "output_type": "stream",
          "name": "stdout",
          "text": [
            "✅ cleaned_0_HM - 30054 (1).xlsx oluşturuldu./был создан.\n",
            "\n",
            "🔄 İşleniyor: 0_HM-30036.1 (1).xlsx\n"
          ]
        },
        {
          "output_type": "stream",
          "name": "stderr",
          "text": [
            "/usr/local/lib/python3.11/dist-packages/openpyxl/worksheet/header_footer.py:48: UserWarning: Cannot parse header or footer so it will be ignored\n",
            "  warn(\"\"\"Cannot parse header or footer so it will be ignored\"\"\")\n",
            "/usr/local/lib/python3.11/dist-packages/openpyxl/worksheet/header_footer.py:48: UserWarning: Cannot parse header or footer so it will be ignored\n",
            "  warn(\"\"\"Cannot parse header or footer so it will be ignored\"\"\")\n",
            "/usr/local/lib/python3.11/dist-packages/openpyxl/worksheet/header_footer.py:48: UserWarning: Cannot parse header or footer so it will be ignored\n",
            "  warn(\"\"\"Cannot parse header or footer so it will be ignored\"\"\")\n",
            "/usr/local/lib/python3.11/dist-packages/openpyxl/worksheet/header_footer.py:48: UserWarning: Cannot parse header or footer so it will be ignored\n",
            "  warn(\"\"\"Cannot parse header or footer so it will be ignored\"\"\")\n"
          ]
        },
        {
          "output_type": "stream",
          "name": "stdout",
          "text": [
            "✅ cleaned_0_HM-30036.1 (1).xlsx oluşturuldu./был создан.\n",
            "\n",
            "🔄 İşleniyor: 0_HM-30038.1 (1).xlsx\n",
            "✅ cleaned_0_HM-30038.1 (1).xlsx oluşturuldu./был создан.\n",
            "\n",
            "🔄 İşleniyor: 0_HM-30049 son (1).xlsx\n"
          ]
        },
        {
          "output_type": "stream",
          "name": "stderr",
          "text": [
            "/usr/local/lib/python3.11/dist-packages/openpyxl/worksheet/header_footer.py:48: UserWarning: Cannot parse header or footer so it will be ignored\n",
            "  warn(\"\"\"Cannot parse header or footer so it will be ignored\"\"\")\n",
            "/usr/local/lib/python3.11/dist-packages/openpyxl/worksheet/header_footer.py:48: UserWarning: Cannot parse header or footer so it will be ignored\n",
            "  warn(\"\"\"Cannot parse header or footer so it will be ignored\"\"\")\n",
            "/usr/local/lib/python3.11/dist-packages/openpyxl/worksheet/header_footer.py:48: UserWarning: Cannot parse header or footer so it will be ignored\n",
            "  warn(\"\"\"Cannot parse header or footer so it will be ignored\"\"\")\n",
            "/usr/local/lib/python3.11/dist-packages/openpyxl/worksheet/header_footer.py:48: UserWarning: Cannot parse header or footer so it will be ignored\n",
            "  warn(\"\"\"Cannot parse header or footer so it will be ignored\"\"\")\n",
            "/usr/local/lib/python3.11/dist-packages/openpyxl/worksheet/header_footer.py:48: UserWarning: Cannot parse header or footer so it will be ignored\n",
            "  warn(\"\"\"Cannot parse header or footer so it will be ignored\"\"\")\n"
          ]
        },
        {
          "output_type": "stream",
          "name": "stdout",
          "text": [
            "✅ cleaned_0_HM-30049 son (1).xlsx oluşturuldu./был создан.\n",
            "\n",
            "🔄 İşleniyor: 0_HM-30053 22.05.2024 (1).xlsx\n",
            "✅ cleaned_0_HM-30053 22.05.2024 (1).xlsx oluşturuldu./был создан.\n",
            "\n",
            "🔄 İşleniyor: 0_HM-30056 от 27.09.2024 (1).xlsx\n"
          ]
        },
        {
          "output_type": "stream",
          "name": "stderr",
          "text": [
            "/usr/local/lib/python3.11/dist-packages/openpyxl/worksheet/header_footer.py:48: UserWarning: Cannot parse header or footer so it will be ignored\n",
            "  warn(\"\"\"Cannot parse header or footer so it will be ignored\"\"\")\n",
            "/usr/local/lib/python3.11/dist-packages/openpyxl/worksheet/header_footer.py:48: UserWarning: Cannot parse header or footer so it will be ignored\n",
            "  warn(\"\"\"Cannot parse header or footer so it will be ignored\"\"\")\n",
            "/usr/local/lib/python3.11/dist-packages/openpyxl/worksheet/header_footer.py:48: UserWarning: Cannot parse header or footer so it will be ignored\n",
            "  warn(\"\"\"Cannot parse header or footer so it will be ignored\"\"\")\n"
          ]
        },
        {
          "output_type": "stream",
          "name": "stdout",
          "text": [
            "✅ cleaned_0_HM-30056 от 27.09.2024 (1).xlsx oluşturuldu./был создан.\n",
            "\n",
            "🔄 İşleniyor: 0_HM-30063 (1).xlsx\n",
            "✅ cleaned_0_HM-30063 (1).xlsx oluşturuldu./был создан.\n",
            "\n",
            "🔄 İşleniyor: 0_HM-30064 (1).xlsx\n"
          ]
        },
        {
          "output_type": "stream",
          "name": "stderr",
          "text": [
            "/usr/local/lib/python3.11/dist-packages/openpyxl/worksheet/header_footer.py:48: UserWarning: Cannot parse header or footer so it will be ignored\n",
            "  warn(\"\"\"Cannot parse header or footer so it will be ignored\"\"\")\n",
            "/usr/local/lib/python3.11/dist-packages/openpyxl/worksheet/header_footer.py:48: UserWarning: Cannot parse header or footer so it will be ignored\n",
            "  warn(\"\"\"Cannot parse header or footer so it will be ignored\"\"\")\n",
            "/usr/local/lib/python3.11/dist-packages/openpyxl/worksheet/header_footer.py:48: UserWarning: Cannot parse header or footer so it will be ignored\n",
            "  warn(\"\"\"Cannot parse header or footer so it will be ignored\"\"\")\n",
            "/usr/local/lib/python3.11/dist-packages/openpyxl/worksheet/header_footer.py:48: UserWarning: Cannot parse header or footer so it will be ignored\n",
            "  warn(\"\"\"Cannot parse header or footer so it will be ignored\"\"\")\n"
          ]
        },
        {
          "output_type": "stream",
          "name": "stdout",
          "text": [
            "✅ cleaned_0_HM-30064 (1).xlsx oluşturuldu./был создан.\n",
            "\n",
            "🔄 İşleniyor: 0_HM-30067 от 04.10.2024 (1).xlsx\n",
            "✅ cleaned_0_HM-30067 от 04.10.2024 (1).xlsx oluşturuldu./был создан.\n",
            "\n",
            "🔄 İşleniyor: 0_HM-30076 (1).xlsx\n"
          ]
        },
        {
          "output_type": "stream",
          "name": "stderr",
          "text": [
            "/usr/local/lib/python3.11/dist-packages/openpyxl/worksheet/header_footer.py:48: UserWarning: Cannot parse header or footer so it will be ignored\n",
            "  warn(\"\"\"Cannot parse header or footer so it will be ignored\"\"\")\n",
            "/usr/local/lib/python3.11/dist-packages/openpyxl/worksheet/header_footer.py:48: UserWarning: Cannot parse header or footer so it will be ignored\n",
            "  warn(\"\"\"Cannot parse header or footer so it will be ignored\"\"\")\n",
            "/usr/local/lib/python3.11/dist-packages/openpyxl/worksheet/header_footer.py:48: UserWarning: Cannot parse header or footer so it will be ignored\n",
            "  warn(\"\"\"Cannot parse header or footer so it will be ignored\"\"\")\n",
            "/usr/local/lib/python3.11/dist-packages/openpyxl/worksheet/header_footer.py:48: UserWarning: Cannot parse header or footer so it will be ignored\n",
            "  warn(\"\"\"Cannot parse header or footer so it will be ignored\"\"\")\n"
          ]
        },
        {
          "output_type": "stream",
          "name": "stdout",
          "text": [
            "✅ cleaned_0_HM-30076 (1).xlsx oluşturuldu./был создан.\n",
            "⚠️ Hata/Ошибка: Reindexing only valid with uniquely valued Index objects\n",
            "\n",
            "🔄 İşleniyor: 0_SP HCN-230038 to TSM-07-23-337 (1).xlsx\n",
            "⚠️ Hata/Ошибка: single positional indexer is out-of-bounds\n",
            "\n",
            "🔄 İşleniyor: 0_SP HCN-230046 to TSM-07-23-337 (1).xlsx\n"
          ]
        },
        {
          "output_type": "stream",
          "name": "stderr",
          "text": [
            "/usr/local/lib/python3.11/dist-packages/openpyxl/worksheet/header_footer.py:48: UserWarning: Cannot parse header or footer so it will be ignored\n",
            "  warn(\"\"\"Cannot parse header or footer so it will be ignored\"\"\")\n",
            "/usr/local/lib/python3.11/dist-packages/openpyxl/worksheet/header_footer.py:48: UserWarning: Cannot parse header or footer so it will be ignored\n",
            "  warn(\"\"\"Cannot parse header or footer so it will be ignored\"\"\")\n",
            "/usr/local/lib/python3.11/dist-packages/openpyxl/worksheet/header_footer.py:48: UserWarning: Cannot parse header or footer so it will be ignored\n",
            "  warn(\"\"\"Cannot parse header or footer so it will be ignored\"\"\")\n",
            "/usr/local/lib/python3.11/dist-packages/openpyxl/worksheet/header_footer.py:48: UserWarning: Cannot parse header or footer so it will be ignored\n",
            "  warn(\"\"\"Cannot parse header or footer so it will be ignored\"\"\")\n"
          ]
        },
        {
          "output_type": "stream",
          "name": "stdout",
          "text": [
            "⚠️ Hata/Ошибка: single positional indexer is out-of-bounds\n",
            "\n",
            "🔄 İşleniyor: 0_SP HCN-230046.1 to TSM-07-23-337.v1 (1).xlsx\n",
            "⚠️ Hata/Ошибка: single positional indexer is out-of-bounds\n",
            "\n",
            "🔄 İşleniyor: 0_SP HCN-230054 to TSM-07-23-337.v2 (1).xlsx\n"
          ]
        },
        {
          "output_type": "stream",
          "name": "stderr",
          "text": [
            "/usr/local/lib/python3.11/dist-packages/openpyxl/worksheet/header_footer.py:48: UserWarning: Cannot parse header or footer so it will be ignored\n",
            "  warn(\"\"\"Cannot parse header or footer so it will be ignored\"\"\")\n",
            "/usr/local/lib/python3.11/dist-packages/openpyxl/worksheet/header_footer.py:48: UserWarning: Cannot parse header or footer so it will be ignored\n",
            "  warn(\"\"\"Cannot parse header or footer so it will be ignored\"\"\")\n",
            "/usr/local/lib/python3.11/dist-packages/openpyxl/worksheet/header_footer.py:48: UserWarning: Cannot parse header or footer so it will be ignored\n",
            "  warn(\"\"\"Cannot parse header or footer so it will be ignored\"\"\")\n",
            "/usr/local/lib/python3.11/dist-packages/openpyxl/worksheet/header_footer.py:48: UserWarning: Cannot parse header or footer so it will be ignored\n",
            "  warn(\"\"\"Cannot parse header or footer so it will be ignored\"\"\")\n"
          ]
        },
        {
          "output_type": "stream",
          "name": "stdout",
          "text": [
            "⚠️ Hata/Ошибка: single positional indexer is out-of-bounds\n",
            "\n",
            "🔄 İşleniyor: 0_SP HCN-230056 to TSM-07-23-337.v2 (1).xlsx\n",
            "⚠️ Hata/Ошибка: single positional indexer is out-of-bounds\n",
            "\n",
            "🔄 İşleniyor: 0_SP HCN-230057 to TSM-07-23-337 (1).xlsx\n"
          ]
        },
        {
          "output_type": "stream",
          "name": "stderr",
          "text": [
            "/usr/local/lib/python3.11/dist-packages/openpyxl/worksheet/header_footer.py:48: UserWarning: Cannot parse header or footer so it will be ignored\n",
            "  warn(\"\"\"Cannot parse header or footer so it will be ignored\"\"\")\n",
            "/usr/local/lib/python3.11/dist-packages/openpyxl/worksheet/header_footer.py:48: UserWarning: Cannot parse header or footer so it will be ignored\n",
            "  warn(\"\"\"Cannot parse header or footer so it will be ignored\"\"\")\n",
            "/usr/local/lib/python3.11/dist-packages/openpyxl/worksheet/header_footer.py:48: UserWarning: Cannot parse header or footer so it will be ignored\n",
            "  warn(\"\"\"Cannot parse header or footer so it will be ignored\"\"\")\n",
            "/usr/local/lib/python3.11/dist-packages/openpyxl/worksheet/header_footer.py:48: UserWarning: Cannot parse header or footer so it will be ignored\n",
            "  warn(\"\"\"Cannot parse header or footer so it will be ignored\"\"\")\n"
          ]
        },
        {
          "output_type": "stream",
          "name": "stdout",
          "text": [
            "⚠️ Hata/Ошибка: single positional indexer is out-of-bounds\n",
            "\n",
            "🔄 İşleniyor: 0_SP HCN-230058 to TSM-07-23-337 (1).xlsx\n",
            "⚠️ Hata/Ошибка: single positional indexer is out-of-bounds\n",
            "\n",
            "🔄 İşleniyor: 0_SP HCN-230062 to TSM-07-23-337 (1).xlsx\n"
          ]
        },
        {
          "output_type": "stream",
          "name": "stderr",
          "text": [
            "/usr/local/lib/python3.11/dist-packages/openpyxl/worksheet/header_footer.py:48: UserWarning: Cannot parse header or footer so it will be ignored\n",
            "  warn(\"\"\"Cannot parse header or footer so it will be ignored\"\"\")\n",
            "/usr/local/lib/python3.11/dist-packages/openpyxl/worksheet/header_footer.py:48: UserWarning: Cannot parse header or footer so it will be ignored\n",
            "  warn(\"\"\"Cannot parse header or footer so it will be ignored\"\"\")\n",
            "/usr/local/lib/python3.11/dist-packages/openpyxl/worksheet/header_footer.py:48: UserWarning: Cannot parse header or footer so it will be ignored\n",
            "  warn(\"\"\"Cannot parse header or footer so it will be ignored\"\"\")\n",
            "/usr/local/lib/python3.11/dist-packages/openpyxl/worksheet/header_footer.py:48: UserWarning: Cannot parse header or footer so it will be ignored\n",
            "  warn(\"\"\"Cannot parse header or footer so it will be ignored\"\"\")\n"
          ]
        },
        {
          "output_type": "stream",
          "name": "stdout",
          "text": [
            "⚠️ Hata/Ошибка: single positional indexer is out-of-bounds\n",
            "\n",
            "🔄 İşleniyor: 0_SP HCN-230063 to TSM-07-23-337.v1 (1).xlsx\n",
            "⚠️ Hata/Ошибка: single positional indexer is out-of-bounds\n",
            "\n",
            "🔄 İşleniyor: 0_SP HCN-230067 to TSM-07-23-337 (1).xlsx\n"
          ]
        },
        {
          "output_type": "stream",
          "name": "stderr",
          "text": [
            "/usr/local/lib/python3.11/dist-packages/openpyxl/worksheet/header_footer.py:48: UserWarning: Cannot parse header or footer so it will be ignored\n",
            "  warn(\"\"\"Cannot parse header or footer so it will be ignored\"\"\")\n",
            "/usr/local/lib/python3.11/dist-packages/openpyxl/worksheet/header_footer.py:48: UserWarning: Cannot parse header or footer so it will be ignored\n",
            "  warn(\"\"\"Cannot parse header or footer so it will be ignored\"\"\")\n",
            "/usr/local/lib/python3.11/dist-packages/openpyxl/worksheet/header_footer.py:48: UserWarning: Cannot parse header or footer so it will be ignored\n",
            "  warn(\"\"\"Cannot parse header or footer so it will be ignored\"\"\")\n",
            "/usr/local/lib/python3.11/dist-packages/openpyxl/worksheet/header_footer.py:48: UserWarning: Cannot parse header or footer so it will be ignored\n",
            "  warn(\"\"\"Cannot parse header or footer so it will be ignored\"\"\")\n"
          ]
        },
        {
          "output_type": "stream",
          "name": "stdout",
          "text": [
            "⚠️ Hata/Ошибка: single positional indexer is out-of-bounds\n",
            "\n",
            "🔄 İşleniyor: 0_SP HCN-230068 to TSM-07-23-337.v2 (1).xlsx\n",
            "⚠️ Hata/Ошибка: single positional indexer is out-of-bounds\n",
            "\n",
            "🔄 İşleniyor: 0_SP HCN-230069 to TSM-07-23-337.1 (1).xlsx\n"
          ]
        },
        {
          "output_type": "stream",
          "name": "stderr",
          "text": [
            "/usr/local/lib/python3.11/dist-packages/openpyxl/worksheet/header_footer.py:48: UserWarning: Cannot parse header or footer so it will be ignored\n",
            "  warn(\"\"\"Cannot parse header or footer so it will be ignored\"\"\")\n",
            "/usr/local/lib/python3.11/dist-packages/openpyxl/worksheet/header_footer.py:48: UserWarning: Cannot parse header or footer so it will be ignored\n",
            "  warn(\"\"\"Cannot parse header or footer so it will be ignored\"\"\")\n",
            "/usr/local/lib/python3.11/dist-packages/openpyxl/worksheet/header_footer.py:48: UserWarning: Cannot parse header or footer so it will be ignored\n",
            "  warn(\"\"\"Cannot parse header or footer so it will be ignored\"\"\")\n",
            "/usr/local/lib/python3.11/dist-packages/openpyxl/worksheet/header_footer.py:48: UserWarning: Cannot parse header or footer so it will be ignored\n",
            "  warn(\"\"\"Cannot parse header or footer so it will be ignored\"\"\")\n"
          ]
        },
        {
          "output_type": "stream",
          "name": "stdout",
          "text": [
            "⚠️ Hata/Ошибка: single positional indexer is out-of-bounds\n",
            "\n",
            "🔄 İşleniyor: 0_SP HCN-230071 to TSM-07-23-337 (1).xlsx\n",
            "⚠️ Hata/Ошибка: single positional indexer is out-of-bounds\n",
            "\n",
            "🔄 İşleniyor: 0_SP HCN-230072 to TSM-07-23-337 (1).xlsx\n"
          ]
        },
        {
          "output_type": "stream",
          "name": "stderr",
          "text": [
            "/usr/local/lib/python3.11/dist-packages/openpyxl/worksheet/header_footer.py:48: UserWarning: Cannot parse header or footer so it will be ignored\n",
            "  warn(\"\"\"Cannot parse header or footer so it will be ignored\"\"\")\n",
            "/usr/local/lib/python3.11/dist-packages/openpyxl/worksheet/header_footer.py:48: UserWarning: Cannot parse header or footer so it will be ignored\n",
            "  warn(\"\"\"Cannot parse header or footer so it will be ignored\"\"\")\n",
            "/usr/local/lib/python3.11/dist-packages/openpyxl/worksheet/header_footer.py:48: UserWarning: Cannot parse header or footer so it will be ignored\n",
            "  warn(\"\"\"Cannot parse header or footer so it will be ignored\"\"\")\n",
            "/usr/local/lib/python3.11/dist-packages/openpyxl/worksheet/header_footer.py:48: UserWarning: Cannot parse header or footer so it will be ignored\n",
            "  warn(\"\"\"Cannot parse header or footer so it will be ignored\"\"\")\n"
          ]
        },
        {
          "output_type": "stream",
          "name": "stdout",
          "text": [
            "⚠️ Hata/Ошибка: single positional indexer is out-of-bounds\n",
            "\n",
            "🔄 İşleniyor: 0_SP HCN-230076 to TSM-07-23-337.V1 (1).xlsx\n",
            "⚠️ Hata/Ошибка: single positional indexer is out-of-bounds\n",
            "\n",
            "🔄 İşleniyor: 0_SP HCN-230077 to TSM-07-23-337 (1).xlsx\n"
          ]
        },
        {
          "output_type": "stream",
          "name": "stderr",
          "text": [
            "/usr/local/lib/python3.11/dist-packages/openpyxl/worksheet/header_footer.py:48: UserWarning: Cannot parse header or footer so it will be ignored\n",
            "  warn(\"\"\"Cannot parse header or footer so it will be ignored\"\"\")\n",
            "/usr/local/lib/python3.11/dist-packages/openpyxl/worksheet/header_footer.py:48: UserWarning: Cannot parse header or footer so it will be ignored\n",
            "  warn(\"\"\"Cannot parse header or footer so it will be ignored\"\"\")\n",
            "/usr/local/lib/python3.11/dist-packages/openpyxl/worksheet/header_footer.py:48: UserWarning: Cannot parse header or footer so it will be ignored\n",
            "  warn(\"\"\"Cannot parse header or footer so it will be ignored\"\"\")\n",
            "/usr/local/lib/python3.11/dist-packages/openpyxl/worksheet/header_footer.py:48: UserWarning: Cannot parse header or footer so it will be ignored\n",
            "  warn(\"\"\"Cannot parse header or footer so it will be ignored\"\"\")\n",
            "/usr/local/lib/python3.11/dist-packages/openpyxl/worksheet/header_footer.py:48: UserWarning: Cannot parse header or footer so it will be ignored\n",
            "  warn(\"\"\"Cannot parse header or footer so it will be ignored\"\"\")\n",
            "/usr/local/lib/python3.11/dist-packages/openpyxl/worksheet/header_footer.py:48: UserWarning: Cannot parse header or footer so it will be ignored\n",
            "  warn(\"\"\"Cannot parse header or footer so it will be ignored\"\"\")\n"
          ]
        },
        {
          "output_type": "stream",
          "name": "stdout",
          "text": [
            "⚠️ Hata/Ошибка: single positional indexer is out-of-bounds\n",
            "\n",
            "🔄 İşleniyor: 0_SP HCN-230078 to TSM-07-23-337 (1).xlsx\n",
            "⚠️ Hata/Ошибка: single positional indexer is out-of-bounds\n",
            "\n",
            "🔄 İşleniyor: 0_SP HCN-230079 to TSM-07-23-337 (1).xlsx\n",
            "⚠️ Hata/Ошибка: single positional indexer is out-of-bounds\n",
            "\n",
            "🔄 İşleniyor: 0_SP HCN-230081 to TSM-07-23-337.v1 (1).xlsx\n"
          ]
        },
        {
          "output_type": "stream",
          "name": "stderr",
          "text": [
            "/usr/local/lib/python3.11/dist-packages/openpyxl/worksheet/header_footer.py:48: UserWarning: Cannot parse header or footer so it will be ignored\n",
            "  warn(\"\"\"Cannot parse header or footer so it will be ignored\"\"\")\n",
            "/usr/local/lib/python3.11/dist-packages/openpyxl/worksheet/header_footer.py:48: UserWarning: Cannot parse header or footer so it will be ignored\n",
            "  warn(\"\"\"Cannot parse header or footer so it will be ignored\"\"\")\n",
            "/usr/local/lib/python3.11/dist-packages/openpyxl/worksheet/header_footer.py:48: UserWarning: Cannot parse header or footer so it will be ignored\n",
            "  warn(\"\"\"Cannot parse header or footer so it will be ignored\"\"\")\n",
            "/usr/local/lib/python3.11/dist-packages/openpyxl/worksheet/header_footer.py:48: UserWarning: Cannot parse header or footer so it will be ignored\n",
            "  warn(\"\"\"Cannot parse header or footer so it will be ignored\"\"\")\n",
            "/usr/local/lib/python3.11/dist-packages/openpyxl/worksheet/header_footer.py:48: UserWarning: Cannot parse header or footer so it will be ignored\n",
            "  warn(\"\"\"Cannot parse header or footer so it will be ignored\"\"\")\n",
            "/usr/local/lib/python3.11/dist-packages/openpyxl/worksheet/header_footer.py:48: UserWarning: Cannot parse header or footer so it will be ignored\n",
            "  warn(\"\"\"Cannot parse header or footer so it will be ignored\"\"\")\n"
          ]
        },
        {
          "output_type": "stream",
          "name": "stdout",
          "text": [
            "⚠️ Hata/Ошибка: single positional indexer is out-of-bounds\n",
            "\n",
            "🔄 İşleniyor: 0_SP HCN-230084to TSM-07-23-337.v2 (1).xlsx\n",
            "⚠️ Hata/Ошибка: single positional indexer is out-of-bounds\n",
            "\n",
            "🔄 İşleniyor: 0_SP HCN-230087 to TSM-07-23-337 (1).xlsx\n",
            "⚠️ Hata/Ошибка: single positional indexer is out-of-bounds\n",
            "\n",
            "🔄 İşleniyor: 0_SP HCN-230088 to TSM-07-23-337.v2 (1).xlsx\n"
          ]
        },
        {
          "output_type": "stream",
          "name": "stderr",
          "text": [
            "/usr/local/lib/python3.11/dist-packages/openpyxl/worksheet/header_footer.py:48: UserWarning: Cannot parse header or footer so it will be ignored\n",
            "  warn(\"\"\"Cannot parse header or footer so it will be ignored\"\"\")\n",
            "/usr/local/lib/python3.11/dist-packages/openpyxl/worksheet/header_footer.py:48: UserWarning: Cannot parse header or footer so it will be ignored\n",
            "  warn(\"\"\"Cannot parse header or footer so it will be ignored\"\"\")\n",
            "/usr/local/lib/python3.11/dist-packages/openpyxl/worksheet/header_footer.py:48: UserWarning: Cannot parse header or footer so it will be ignored\n",
            "  warn(\"\"\"Cannot parse header or footer so it will be ignored\"\"\")\n",
            "/usr/local/lib/python3.11/dist-packages/openpyxl/worksheet/header_footer.py:48: UserWarning: Cannot parse header or footer so it will be ignored\n",
            "  warn(\"\"\"Cannot parse header or footer so it will be ignored\"\"\")\n",
            "/usr/local/lib/python3.11/dist-packages/openpyxl/worksheet/header_footer.py:48: UserWarning: Cannot parse header or footer so it will be ignored\n",
            "  warn(\"\"\"Cannot parse header or footer so it will be ignored\"\"\")\n",
            "/usr/local/lib/python3.11/dist-packages/openpyxl/worksheet/header_footer.py:48: UserWarning: Cannot parse header or footer so it will be ignored\n",
            "  warn(\"\"\"Cannot parse header or footer so it will be ignored\"\"\")\n"
          ]
        },
        {
          "output_type": "stream",
          "name": "stdout",
          "text": [
            "⚠️ Hata/Ошибка: single positional indexer is out-of-bounds\n",
            "\n",
            "🔄 İşleniyor: 0_SP HCN-230089 to TSM-07-23-337 (1).xlsx\n",
            "⚠️ Hata/Ошибка: single positional indexer is out-of-bounds\n",
            "\n",
            "🔄 İşleniyor: 0_SP HCN-230090to TSM-07-23-337.v2 (1).xlsx\n",
            "⚠️ Hata/Ошибка: single positional indexer is out-of-bounds\n",
            "\n",
            "🔄 İşleniyor: 0_SP HCN-230091 to TSM-07-23-337 (1).xlsx\n"
          ]
        },
        {
          "output_type": "stream",
          "name": "stderr",
          "text": [
            "/usr/local/lib/python3.11/dist-packages/openpyxl/worksheet/header_footer.py:48: UserWarning: Cannot parse header or footer so it will be ignored\n",
            "  warn(\"\"\"Cannot parse header or footer so it will be ignored\"\"\")\n",
            "/usr/local/lib/python3.11/dist-packages/openpyxl/worksheet/header_footer.py:48: UserWarning: Cannot parse header or footer so it will be ignored\n",
            "  warn(\"\"\"Cannot parse header or footer so it will be ignored\"\"\")\n",
            "/usr/local/lib/python3.11/dist-packages/openpyxl/worksheet/header_footer.py:48: UserWarning: Cannot parse header or footer so it will be ignored\n",
            "  warn(\"\"\"Cannot parse header or footer so it will be ignored\"\"\")\n",
            "/usr/local/lib/python3.11/dist-packages/openpyxl/worksheet/header_footer.py:48: UserWarning: Cannot parse header or footer so it will be ignored\n",
            "  warn(\"\"\"Cannot parse header or footer so it will be ignored\"\"\")\n",
            "/usr/local/lib/python3.11/dist-packages/openpyxl/worksheet/header_footer.py:48: UserWarning: Cannot parse header or footer so it will be ignored\n",
            "  warn(\"\"\"Cannot parse header or footer so it will be ignored\"\"\")\n",
            "/usr/local/lib/python3.11/dist-packages/openpyxl/worksheet/header_footer.py:48: UserWarning: Cannot parse header or footer so it will be ignored\n",
            "  warn(\"\"\"Cannot parse header or footer so it will be ignored\"\"\")\n"
          ]
        },
        {
          "output_type": "stream",
          "name": "stdout",
          "text": [
            "⚠️ Hata/Ошибка: single positional indexer is out-of-bounds\n",
            "\n",
            "🔄 İşleniyor: 0_SP HCN-230092 to TSM-07-23-337 (1).xlsx\n",
            "⚠️ Hata/Ошибка: single positional indexer is out-of-bounds\n",
            "\n",
            "🔄 İşleniyor: 0_SP HCN-230094 to TSM-07-23-337 (1).xlsx\n",
            "⚠️ Hata/Ошибка: single positional indexer is out-of-bounds\n",
            "\n",
            "🔄 İşleniyor: 0_SP HCN-230095 to TSM-07-23-337 (1).xlsx\n"
          ]
        },
        {
          "output_type": "stream",
          "name": "stderr",
          "text": [
            "/usr/local/lib/python3.11/dist-packages/openpyxl/worksheet/header_footer.py:48: UserWarning: Cannot parse header or footer so it will be ignored\n",
            "  warn(\"\"\"Cannot parse header or footer so it will be ignored\"\"\")\n",
            "/usr/local/lib/python3.11/dist-packages/openpyxl/worksheet/header_footer.py:48: UserWarning: Cannot parse header or footer so it will be ignored\n",
            "  warn(\"\"\"Cannot parse header or footer so it will be ignored\"\"\")\n",
            "/usr/local/lib/python3.11/dist-packages/openpyxl/worksheet/header_footer.py:48: UserWarning: Cannot parse header or footer so it will be ignored\n",
            "  warn(\"\"\"Cannot parse header or footer so it will be ignored\"\"\")\n",
            "/usr/local/lib/python3.11/dist-packages/openpyxl/worksheet/header_footer.py:48: UserWarning: Cannot parse header or footer so it will be ignored\n",
            "  warn(\"\"\"Cannot parse header or footer so it will be ignored\"\"\")\n",
            "/usr/local/lib/python3.11/dist-packages/openpyxl/worksheet/header_footer.py:48: UserWarning: Cannot parse header or footer so it will be ignored\n",
            "  warn(\"\"\"Cannot parse header or footer so it will be ignored\"\"\")\n"
          ]
        },
        {
          "output_type": "stream",
          "name": "stdout",
          "text": [
            "⚠️ Hata/Ошибка: single positional indexer is out-of-bounds\n",
            "\n",
            "🔄 İşleniyor: 0_SP HM-30026  to TSM-07-23-337 (1).xlsx\n",
            "✅ cleaned_0_SP HM-30026  to TSM-07-23-337 (1).xlsx oluşturuldu./был создан.\n",
            "\n",
            "🔄 İşleniyor: 0_SP HM-30028  to TSM-07-23-337 (1).xlsx\n"
          ]
        },
        {
          "output_type": "stream",
          "name": "stderr",
          "text": [
            "/usr/local/lib/python3.11/dist-packages/openpyxl/worksheet/header_footer.py:48: UserWarning: Cannot parse header or footer so it will be ignored\n",
            "  warn(\"\"\"Cannot parse header or footer so it will be ignored\"\"\")\n",
            "/usr/local/lib/python3.11/dist-packages/openpyxl/worksheet/header_footer.py:48: UserWarning: Cannot parse header or footer so it will be ignored\n",
            "  warn(\"\"\"Cannot parse header or footer so it will be ignored\"\"\")\n",
            "/usr/local/lib/python3.11/dist-packages/openpyxl/worksheet/header_footer.py:48: UserWarning: Cannot parse header or footer so it will be ignored\n",
            "  warn(\"\"\"Cannot parse header or footer so it will be ignored\"\"\")\n",
            "/usr/local/lib/python3.11/dist-packages/openpyxl/worksheet/header_footer.py:48: UserWarning: Cannot parse header or footer so it will be ignored\n",
            "  warn(\"\"\"Cannot parse header or footer so it will be ignored\"\"\")\n",
            "/usr/local/lib/python3.11/dist-packages/openpyxl/worksheet/header_footer.py:48: UserWarning: Cannot parse header or footer so it will be ignored\n",
            "  warn(\"\"\"Cannot parse header or footer so it will be ignored\"\"\")\n"
          ]
        },
        {
          "output_type": "stream",
          "name": "stdout",
          "text": [
            "✅ cleaned_0_SP HM-30028  to TSM-07-23-337 (1).xlsx oluşturuldu./был создан.\n",
            "\n",
            "🔄 İşleniyor: 0_SP HM-30030  to TSM-07-23-337 (1).xlsx\n",
            "✅ cleaned_0_SP HM-30030  to TSM-07-23-337 (1).xlsx oluşturuldu./был создан.\n",
            "\n",
            "🔄 İşleniyor: 0_SP HM-30031  to TSM-07-23-337 (1).xlsx\n",
            "✅ cleaned_0_SP HM-30031  to TSM-07-23-337 (1).xlsx oluşturuldu./был создан.\n",
            "\n",
            "🔄 İşleniyor: 0_SP HM-30032  to TSM-07-23-337 (1).xlsx\n"
          ]
        },
        {
          "output_type": "stream",
          "name": "stderr",
          "text": [
            "/usr/local/lib/python3.11/dist-packages/openpyxl/worksheet/header_footer.py:48: UserWarning: Cannot parse header or footer so it will be ignored\n",
            "  warn(\"\"\"Cannot parse header or footer so it will be ignored\"\"\")\n",
            "/usr/local/lib/python3.11/dist-packages/openpyxl/worksheet/header_footer.py:48: UserWarning: Cannot parse header or footer so it will be ignored\n",
            "  warn(\"\"\"Cannot parse header or footer so it will be ignored\"\"\")\n",
            "/usr/local/lib/python3.11/dist-packages/openpyxl/worksheet/header_footer.py:48: UserWarning: Cannot parse header or footer so it will be ignored\n",
            "  warn(\"\"\"Cannot parse header or footer so it will be ignored\"\"\")\n",
            "/usr/local/lib/python3.11/dist-packages/openpyxl/worksheet/header_footer.py:48: UserWarning: Cannot parse header or footer so it will be ignored\n",
            "  warn(\"\"\"Cannot parse header or footer so it will be ignored\"\"\")\n"
          ]
        },
        {
          "output_type": "stream",
          "name": "stdout",
          "text": [
            "✅ cleaned_0_SP HM-30032  to TSM-07-23-337 (1).xlsx oluşturuldu./был создан.\n",
            "\n",
            "🔄 İşleniyor: 0_SP HM-30033 to TSM-07-23-337 (1).xlsx\n",
            "✅ cleaned_0_SP HM-30033 to TSM-07-23-337 (1).xlsx oluşturuldu./был создан.\n",
            "\n",
            "🔄 İşleniyor: 0_SP HM-30036 to TSM-07-23-337 (1).xlsx\n"
          ]
        },
        {
          "output_type": "stream",
          "name": "stderr",
          "text": [
            "/usr/local/lib/python3.11/dist-packages/openpyxl/worksheet/header_footer.py:48: UserWarning: Cannot parse header or footer so it will be ignored\n",
            "  warn(\"\"\"Cannot parse header or footer so it will be ignored\"\"\")\n",
            "/usr/local/lib/python3.11/dist-packages/openpyxl/worksheet/header_footer.py:48: UserWarning: Cannot parse header or footer so it will be ignored\n",
            "  warn(\"\"\"Cannot parse header or footer so it will be ignored\"\"\")\n",
            "/usr/local/lib/python3.11/dist-packages/openpyxl/worksheet/header_footer.py:48: UserWarning: Cannot parse header or footer so it will be ignored\n",
            "  warn(\"\"\"Cannot parse header or footer so it will be ignored\"\"\")\n",
            "/usr/local/lib/python3.11/dist-packages/openpyxl/worksheet/header_footer.py:48: UserWarning: Cannot parse header or footer so it will be ignored\n",
            "  warn(\"\"\"Cannot parse header or footer so it will be ignored\"\"\")\n"
          ]
        },
        {
          "output_type": "stream",
          "name": "stdout",
          "text": [
            "✅ cleaned_0_SP HM-30036 to TSM-07-23-337 (1).xlsx oluşturuldu./был создан.\n",
            "\n",
            "🔄 İşleniyor: 0_SP HM-30039 to TSM-07-23-337 (1).xlsx\n",
            "✅ cleaned_0_SP HM-30039 to TSM-07-23-337 (1).xlsx oluşturuldu./был создан.\n",
            "\n",
            "🔄 İşleniyor: 0_SP HM-30041 (1).xlsx\n"
          ]
        },
        {
          "output_type": "stream",
          "name": "stderr",
          "text": [
            "/usr/local/lib/python3.11/dist-packages/openpyxl/worksheet/header_footer.py:48: UserWarning: Cannot parse header or footer so it will be ignored\n",
            "  warn(\"\"\"Cannot parse header or footer so it will be ignored\"\"\")\n",
            "/usr/local/lib/python3.11/dist-packages/openpyxl/worksheet/header_footer.py:48: UserWarning: Cannot parse header or footer so it will be ignored\n",
            "  warn(\"\"\"Cannot parse header or footer so it will be ignored\"\"\")\n"
          ]
        },
        {
          "output_type": "stream",
          "name": "stdout",
          "text": [
            "'Цена без НДС' bulunamadı/не найдено ❌\n",
            "\n",
            "🔄 İşleniyor: 0_SP HM-30044 to TSM-07-23-337 (1).xlsx\n",
            "✅ cleaned_0_SP HM-30044 to TSM-07-23-337 (1).xlsx oluşturuldu./был создан.\n",
            "\n",
            "🔄 İşleniyor: 0_SP HM-30046 to TSM-07-23-337 (1).xlsx\n"
          ]
        },
        {
          "output_type": "stream",
          "name": "stderr",
          "text": [
            "/usr/local/lib/python3.11/dist-packages/openpyxl/worksheet/header_footer.py:48: UserWarning: Cannot parse header or footer so it will be ignored\n",
            "  warn(\"\"\"Cannot parse header or footer so it will be ignored\"\"\")\n",
            "/usr/local/lib/python3.11/dist-packages/openpyxl/worksheet/header_footer.py:48: UserWarning: Cannot parse header or footer so it will be ignored\n",
            "  warn(\"\"\"Cannot parse header or footer so it will be ignored\"\"\")\n",
            "/usr/local/lib/python3.11/dist-packages/openpyxl/worksheet/header_footer.py:48: UserWarning: Cannot parse header or footer so it will be ignored\n",
            "  warn(\"\"\"Cannot parse header or footer so it will be ignored\"\"\")\n",
            "/usr/local/lib/python3.11/dist-packages/openpyxl/worksheet/header_footer.py:48: UserWarning: Cannot parse header or footer so it will be ignored\n",
            "  warn(\"\"\"Cannot parse header or footer so it will be ignored\"\"\")\n"
          ]
        },
        {
          "output_type": "stream",
          "name": "stdout",
          "text": [
            "✅ cleaned_0_SP HM-30046 to TSM-07-23-337 (1).xlsx oluşturuldu./был создан.\n",
            "\n",
            "🔄 İşleniyor: 0_SP HM-30051 to TSM-07-23-337 (1).xlsx\n",
            "✅ cleaned_0_SP HM-30051 to TSM-07-23-337 (1).xlsx oluşturuldu./был создан.\n",
            "\n",
            "🔄 İşleniyor: 0_SP HM-30052 to TSM-07-23-337 (1).xlsx\n"
          ]
        },
        {
          "output_type": "stream",
          "name": "stderr",
          "text": [
            "/usr/local/lib/python3.11/dist-packages/openpyxl/worksheet/header_footer.py:48: UserWarning: Cannot parse header or footer so it will be ignored\n",
            "  warn(\"\"\"Cannot parse header or footer so it will be ignored\"\"\")\n",
            "/usr/local/lib/python3.11/dist-packages/openpyxl/worksheet/header_footer.py:48: UserWarning: Cannot parse header or footer so it will be ignored\n",
            "  warn(\"\"\"Cannot parse header or footer so it will be ignored\"\"\")\n",
            "/usr/local/lib/python3.11/dist-packages/openpyxl/worksheet/header_footer.py:48: UserWarning: Cannot parse header or footer so it will be ignored\n",
            "  warn(\"\"\"Cannot parse header or footer so it will be ignored\"\"\")\n",
            "/usr/local/lib/python3.11/dist-packages/openpyxl/worksheet/header_footer.py:48: UserWarning: Cannot parse header or footer so it will be ignored\n",
            "  warn(\"\"\"Cannot parse header or footer so it will be ignored\"\"\")\n"
          ]
        },
        {
          "output_type": "stream",
          "name": "stdout",
          "text": [
            "✅ cleaned_0_SP HM-30052 to TSM-07-23-337 (1).xlsx oluşturuldu./был создан.\n",
            "\n",
            "🔄 İşleniyor: 0_SP HM-30055 to TSM-07-23-337 (1).xlsx\n",
            "✅ cleaned_0_SP HM-30055 to TSM-07-23-337 (1).xlsx oluşturuldu./был создан.\n",
            "\n",
            "🔄 İşleniyor: 0_SP HM-30059 to TSM-07-23-337 (1).xlsx\n"
          ]
        },
        {
          "output_type": "stream",
          "name": "stderr",
          "text": [
            "/usr/local/lib/python3.11/dist-packages/openpyxl/worksheet/header_footer.py:48: UserWarning: Cannot parse header or footer so it will be ignored\n",
            "  warn(\"\"\"Cannot parse header or footer so it will be ignored\"\"\")\n",
            "/usr/local/lib/python3.11/dist-packages/openpyxl/worksheet/header_footer.py:48: UserWarning: Cannot parse header or footer so it will be ignored\n",
            "  warn(\"\"\"Cannot parse header or footer so it will be ignored\"\"\")\n",
            "/usr/local/lib/python3.11/dist-packages/openpyxl/worksheet/header_footer.py:48: UserWarning: Cannot parse header or footer so it will be ignored\n",
            "  warn(\"\"\"Cannot parse header or footer so it will be ignored\"\"\")\n",
            "/usr/local/lib/python3.11/dist-packages/openpyxl/worksheet/header_footer.py:48: UserWarning: Cannot parse header or footer so it will be ignored\n",
            "  warn(\"\"\"Cannot parse header or footer so it will be ignored\"\"\")\n"
          ]
        },
        {
          "output_type": "stream",
          "name": "stdout",
          "text": [
            "✅ cleaned_0_SP HM-30059 to TSM-07-23-337 (1).xlsx oluşturuldu./был создан.\n",
            "\n",
            "🔄 İşleniyor: 0_SP HM-30068  to TSM-07-23-337 (1).xlsx\n",
            "✅ cleaned_0_SP HM-30068  to TSM-07-23-337 (1).xlsx oluşturuldu./был создан.\n",
            "\n",
            "🔄 İşleniyor: 0_SP HM-30075  to TSM-07-23-337 (2) (1).xlsx\n"
          ]
        },
        {
          "output_type": "stream",
          "name": "stderr",
          "text": [
            "/usr/local/lib/python3.11/dist-packages/openpyxl/worksheet/header_footer.py:48: UserWarning: Cannot parse header or footer so it will be ignored\n",
            "  warn(\"\"\"Cannot parse header or footer so it will be ignored\"\"\")\n",
            "/usr/local/lib/python3.11/dist-packages/openpyxl/worksheet/header_footer.py:48: UserWarning: Cannot parse header or footer so it will be ignored\n",
            "  warn(\"\"\"Cannot parse header or footer so it will be ignored\"\"\")\n",
            "/usr/local/lib/python3.11/dist-packages/openpyxl/worksheet/header_footer.py:48: UserWarning: Cannot parse header or footer so it will be ignored\n",
            "  warn(\"\"\"Cannot parse header or footer so it will be ignored\"\"\")\n",
            "/usr/local/lib/python3.11/dist-packages/openpyxl/worksheet/header_footer.py:48: UserWarning: Cannot parse header or footer so it will be ignored\n",
            "  warn(\"\"\"Cannot parse header or footer so it will be ignored\"\"\")\n"
          ]
        },
        {
          "output_type": "stream",
          "name": "stdout",
          "text": [
            "✅ cleaned_0_SP HM-30075  to TSM-07-23-337 (2) (1).xlsx oluşturuldu./был создан.\n",
            "⚠️ Hata/Ошибка: Reindexing only valid with uniquely valued Index objects\n",
            "\n",
            "🔄 İşleniyor: 0_нов_Спецификация-HCN-230031.1 (1).xlsx\n",
            "⚠️ Hata/Ошибка: single positional indexer is out-of-bounds\n",
            "\n",
            "🔄 İşleniyor: HILTI AK-EM-212 (1).xls\n",
            "Спецификация № bulunamadı/не найдено ❌\n",
            "\n",
            "🔄 İşleniyor: HILTI AK-EM-221 (1).xls\n",
            "Спецификация № bulunamadı/не найдено ❌\n",
            "\n",
            "🔄 İşleniyor: HILTI AK-EM-255 (1).xls\n",
            "Спецификация № bulunamadı/не найдено ❌\n",
            "\n",
            "🔄 İşleniyor: HILTI AK-EM-265 (1).xls\n",
            "Спецификация № bulunamadı/не найдено ❌\n",
            "\n",
            "🔄 İşleniyor: HILTI AK-EM-277 (1).xls\n",
            "Спецификация № bulunamadı/не найдено ❌\n",
            "\n",
            "🔄 İşleniyor: HILTI AK-NP-ЕМ-1792 (1).xls\n",
            "Спецификация № bulunamadı/не найдено ❌\n",
            "\n",
            "🔄 İşleniyor: HM 30058 21.08.2024 (1).xlsx\n"
          ]
        },
        {
          "output_type": "stream",
          "name": "stderr",
          "text": [
            "/usr/local/lib/python3.11/dist-packages/openpyxl/worksheet/header_footer.py:48: UserWarning: Cannot parse header or footer so it will be ignored\n",
            "  warn(\"\"\"Cannot parse header or footer so it will be ignored\"\"\")\n",
            "/usr/local/lib/python3.11/dist-packages/openpyxl/worksheet/header_footer.py:48: UserWarning: Cannot parse header or footer so it will be ignored\n",
            "  warn(\"\"\"Cannot parse header or footer so it will be ignored\"\"\")\n"
          ]
        },
        {
          "output_type": "stream",
          "name": "stdout",
          "text": [
            "✅ cleaned_HM 30058 21.08.2024 (1).xlsx oluşturuldu./был создан.\n",
            "\n",
            "🔄 İşleniyor: HM-30006 (направлено 15.03.2023) (1).xlsx\n",
            "✅ cleaned_HM-30006 (направлено 15.03.2023) (1).xlsx oluşturuldu./был создан.\n",
            "\n",
            "🔄 İşleniyor: HM-30007 (1).xlsx\n",
            "✅ cleaned_HM-30007 (1).xlsx oluşturuldu./был создан.\n",
            "\n",
            "🔄 İşleniyor: HM-30008 (1).xlsx\n",
            "✅ cleaned_HM-30008 (1).xlsx oluşturuldu./был создан.\n",
            "\n",
            "🔄 İşleniyor: HM-30013 (1).xlsx\n",
            "✅ cleaned_HM-30013 (1).xlsx oluşturuldu./был создан.\n"
          ]
        },
        {
          "output_type": "stream",
          "name": "stderr",
          "text": [
            "/usr/local/lib/python3.11/dist-packages/openpyxl/worksheet/header_footer.py:48: UserWarning: Cannot parse header or footer so it will be ignored\n",
            "  warn(\"\"\"Cannot parse header or footer so it will be ignored\"\"\")\n",
            "/usr/local/lib/python3.11/dist-packages/openpyxl/worksheet/header_footer.py:48: UserWarning: Cannot parse header or footer so it will be ignored\n",
            "  warn(\"\"\"Cannot parse header or footer so it will be ignored\"\"\")\n",
            "/usr/local/lib/python3.11/dist-packages/openpyxl/worksheet/header_footer.py:48: UserWarning: Cannot parse header or footer so it will be ignored\n",
            "  warn(\"\"\"Cannot parse header or footer so it will be ignored\"\"\")\n",
            "/usr/local/lib/python3.11/dist-packages/openpyxl/worksheet/header_footer.py:48: UserWarning: Cannot parse header or footer so it will be ignored\n",
            "  warn(\"\"\"Cannot parse header or footer so it will be ignored\"\"\")\n"
          ]
        },
        {
          "output_type": "stream",
          "name": "stdout",
          "text": [
            "\n",
            "🔄 İşleniyor: HM-30019 (1).xlsx\n",
            "✅ cleaned_HM-30019 (1).xlsx oluşturuldu./был создан.\n",
            "\n",
            "🔄 İşleniyor: HM-30020 (1).xlsx\n"
          ]
        },
        {
          "output_type": "stream",
          "name": "stderr",
          "text": [
            "/usr/local/lib/python3.11/dist-packages/openpyxl/worksheet/header_footer.py:48: UserWarning: Cannot parse header or footer so it will be ignored\n",
            "  warn(\"\"\"Cannot parse header or footer so it will be ignored\"\"\")\n",
            "/usr/local/lib/python3.11/dist-packages/openpyxl/worksheet/header_footer.py:48: UserWarning: Cannot parse header or footer so it will be ignored\n",
            "  warn(\"\"\"Cannot parse header or footer so it will be ignored\"\"\")\n"
          ]
        },
        {
          "output_type": "stream",
          "name": "stdout",
          "text": [
            "✅ cleaned_HM-30020 (1).xlsx oluşturuldu./был создан.\n",
            "\n",
            "🔄 İşleniyor: HM-30022. (1).xlsx\n",
            "✅ cleaned_HM-30022. (1).xlsx oluşturuldu./был создан.\n",
            "\n",
            "🔄 İşleniyor: HM-30023. (1).xlsx\n"
          ]
        },
        {
          "output_type": "stream",
          "name": "stderr",
          "text": [
            "/usr/local/lib/python3.11/dist-packages/openpyxl/worksheet/header_footer.py:48: UserWarning: Cannot parse header or footer so it will be ignored\n",
            "  warn(\"\"\"Cannot parse header or footer so it will be ignored\"\"\")\n",
            "/usr/local/lib/python3.11/dist-packages/openpyxl/worksheet/header_footer.py:48: UserWarning: Cannot parse header or footer so it will be ignored\n",
            "  warn(\"\"\"Cannot parse header or footer so it will be ignored\"\"\")\n",
            "/usr/local/lib/python3.11/dist-packages/openpyxl/worksheet/header_footer.py:48: UserWarning: Cannot parse header or footer so it will be ignored\n",
            "  warn(\"\"\"Cannot parse header or footer so it will be ignored\"\"\")\n",
            "/usr/local/lib/python3.11/dist-packages/openpyxl/worksheet/header_footer.py:48: UserWarning: Cannot parse header or footer so it will be ignored\n",
            "  warn(\"\"\"Cannot parse header or footer so it will be ignored\"\"\")\n"
          ]
        },
        {
          "output_type": "stream",
          "name": "stdout",
          "text": [
            "✅ cleaned_HM-30023. (1).xlsx oluşturuldu./был создан.\n",
            "\n",
            "🔄 İşleniyor: HM-30025 (1).xlsx\n",
            "✅ cleaned_HM-30025 (1).xlsx oluşturuldu./был создан.\n",
            "\n",
            "🔄 İşleniyor: HM-30034 (1).xlsx\n"
          ]
        },
        {
          "output_type": "stream",
          "name": "stderr",
          "text": [
            "/usr/local/lib/python3.11/dist-packages/openpyxl/worksheet/header_footer.py:48: UserWarning: Cannot parse header or footer so it will be ignored\n",
            "  warn(\"\"\"Cannot parse header or footer so it will be ignored\"\"\")\n",
            "/usr/local/lib/python3.11/dist-packages/openpyxl/worksheet/header_footer.py:48: UserWarning: Cannot parse header or footer so it will be ignored\n",
            "  warn(\"\"\"Cannot parse header or footer so it will be ignored\"\"\")\n",
            "/usr/local/lib/python3.11/dist-packages/openpyxl/worksheet/header_footer.py:48: UserWarning: Cannot parse header or footer so it will be ignored\n",
            "  warn(\"\"\"Cannot parse header or footer so it will be ignored\"\"\")\n",
            "/usr/local/lib/python3.11/dist-packages/openpyxl/worksheet/header_footer.py:48: UserWarning: Cannot parse header or footer so it will be ignored\n",
            "  warn(\"\"\"Cannot parse header or footer so it will be ignored\"\"\")\n"
          ]
        },
        {
          "output_type": "stream",
          "name": "stdout",
          "text": [
            "✅ cleaned_HM-30034 (1).xlsx oluşturuldu./был создан.\n",
            "\n",
            "🔄 İşleniyor: HM-30047 new (1).xlsx\n",
            "✅ cleaned_HM-30047 new (1).xlsx oluşturuldu./был создан.\n",
            "\n",
            "🔄 İşleniyor: HM-30057 12.08.2024 (1).xlsx\n"
          ]
        },
        {
          "output_type": "stream",
          "name": "stderr",
          "text": [
            "/usr/local/lib/python3.11/dist-packages/openpyxl/worksheet/header_footer.py:48: UserWarning: Cannot parse header or footer so it will be ignored\n",
            "  warn(\"\"\"Cannot parse header or footer so it will be ignored\"\"\")\n",
            "/usr/local/lib/python3.11/dist-packages/openpyxl/worksheet/header_footer.py:48: UserWarning: Cannot parse header or footer so it will be ignored\n",
            "  warn(\"\"\"Cannot parse header or footer so it will be ignored\"\"\")\n",
            "/usr/local/lib/python3.11/dist-packages/openpyxl/worksheet/header_footer.py:48: UserWarning: Cannot parse header or footer so it will be ignored\n",
            "  warn(\"\"\"Cannot parse header or footer so it will be ignored\"\"\")\n"
          ]
        },
        {
          "output_type": "stream",
          "name": "stdout",
          "text": [
            "✅ cleaned_HM-30057 12.08.2024 (1).xlsx oluşturuldu./был создан.\n",
            "\n",
            "🔄 İşleniyor: Kopya _HCN-230150 от 18.03.2025 (1).xlsx\n"
          ]
        },
        {
          "output_type": "stream",
          "name": "stderr",
          "text": [
            "/usr/local/lib/python3.11/dist-packages/openpyxl/worksheet/header_footer.py:48: UserWarning: Cannot parse header or footer so it will be ignored\n",
            "  warn(\"\"\"Cannot parse header or footer so it will be ignored\"\"\")\n",
            "/usr/local/lib/python3.11/dist-packages/openpyxl/worksheet/header_footer.py:48: UserWarning: Cannot parse header or footer so it will be ignored\n",
            "  warn(\"\"\"Cannot parse header or footer so it will be ignored\"\"\")\n",
            "/usr/local/lib/python3.11/dist-packages/openpyxl/worksheet/header_footer.py:48: UserWarning: Cannot parse header or footer so it will be ignored\n",
            "  warn(\"\"\"Cannot parse header or footer so it will be ignored\"\"\")\n"
          ]
        },
        {
          "output_type": "stream",
          "name": "stdout",
          "text": [
            "✅ cleaned_Kopya _HCN-230150 от 18.03.2025 (1).xlsx oluşturuldu./был создан.\n",
            "⚠️ Hata/Ошибка: Reindexing only valid with uniquely valued Index objects\n",
            "\n",
            "🔄 İşleniyor: Kopya _HCN-230152 от 19.02.2025 (1).xlsx\n",
            "✅ cleaned_Kopya _HCN-230152 от 19.02.2025 (1).xlsx oluşturuldu./был создан.\n",
            "⚠️ Hata/Ошибка: Reindexing only valid with uniquely valued Index objects\n",
            "\n",
            "🔄 İşleniyor: Kopya _HCN-230153 от 17.04.2025 (1).xlsx\n"
          ]
        },
        {
          "output_type": "stream",
          "name": "stderr",
          "text": [
            "/usr/local/lib/python3.11/dist-packages/openpyxl/worksheet/header_footer.py:48: UserWarning: Cannot parse header or footer so it will be ignored\n",
            "  warn(\"\"\"Cannot parse header or footer so it will be ignored\"\"\")\n",
            "/usr/local/lib/python3.11/dist-packages/openpyxl/worksheet/header_footer.py:48: UserWarning: Cannot parse header or footer so it will be ignored\n",
            "  warn(\"\"\"Cannot parse header or footer so it will be ignored\"\"\")\n",
            "/usr/local/lib/python3.11/dist-packages/openpyxl/worksheet/header_footer.py:48: UserWarning: Cannot parse header or footer so it will be ignored\n",
            "  warn(\"\"\"Cannot parse header or footer so it will be ignored\"\"\")\n",
            "/usr/local/lib/python3.11/dist-packages/openpyxl/worksheet/header_footer.py:48: UserWarning: Cannot parse header or footer so it will be ignored\n",
            "  warn(\"\"\"Cannot parse header or footer so it will be ignored\"\"\")\n"
          ]
        },
        {
          "output_type": "stream",
          "name": "stdout",
          "text": [
            "✅ cleaned_Kopya _HCN-230153 от 17.04.2025 (1).xlsx oluşturuldu./был создан.\n",
            "\n",
            "🔄 İşleniyor: Kopya _HCN-230154 от 21.04.2025 (1).xlsx\n",
            "✅ cleaned_Kopya _HCN-230154 от 21.04.2025 (1).xlsx oluşturuldu./был создан.\n",
            "\n",
            "🔄 İşleniyor: Kopya _HCN-230155 от 25.04.2025 (1).xlsx\n"
          ]
        },
        {
          "output_type": "stream",
          "name": "stderr",
          "text": [
            "/usr/local/lib/python3.11/dist-packages/openpyxl/worksheet/header_footer.py:48: UserWarning: Cannot parse header or footer so it will be ignored\n",
            "  warn(\"\"\"Cannot parse header or footer so it will be ignored\"\"\")\n",
            "/usr/local/lib/python3.11/dist-packages/openpyxl/worksheet/header_footer.py:48: UserWarning: Cannot parse header or footer so it will be ignored\n",
            "  warn(\"\"\"Cannot parse header or footer so it will be ignored\"\"\")\n",
            "/usr/local/lib/python3.11/dist-packages/openpyxl/worksheet/header_footer.py:48: UserWarning: Cannot parse header or footer so it will be ignored\n",
            "  warn(\"\"\"Cannot parse header or footer so it will be ignored\"\"\")\n",
            "/usr/local/lib/python3.11/dist-packages/openpyxl/worksheet/header_footer.py:48: UserWarning: Cannot parse header or footer so it will be ignored\n",
            "  warn(\"\"\"Cannot parse header or footer so it will be ignored\"\"\")\n"
          ]
        },
        {
          "output_type": "stream",
          "name": "stdout",
          "text": [
            "✅ cleaned_Kopya _HCN-230155 от 25.04.2025 (1).xlsx oluşturuldu./был создан.\n",
            "⚠️ Hata/Ошибка: Reindexing only valid with uniquely valued Index objects\n",
            "\n",
            "🔄 İşleniyor: Kopya _HCN-230156 от 12.05.2025 (1).xlsx\n",
            "✅ cleaned_Kopya _HCN-230156 от 12.05.2025 (1).xlsx oluşturuldu./был создан.\n",
            "\n",
            "🔄 İşleniyor: Kopya _HЕ-20064 от 10.02.2025 (1).xlsx\n"
          ]
        },
        {
          "output_type": "stream",
          "name": "stderr",
          "text": [
            "/usr/local/lib/python3.11/dist-packages/openpyxl/worksheet/header_footer.py:48: UserWarning: Cannot parse header or footer so it will be ignored\n",
            "  warn(\"\"\"Cannot parse header or footer so it will be ignored\"\"\")\n",
            "/usr/local/lib/python3.11/dist-packages/openpyxl/worksheet/header_footer.py:48: UserWarning: Cannot parse header or footer so it will be ignored\n",
            "  warn(\"\"\"Cannot parse header or footer so it will be ignored\"\"\")\n",
            "/usr/local/lib/python3.11/dist-packages/openpyxl/worksheet/header_footer.py:48: UserWarning: Cannot parse header or footer so it will be ignored\n",
            "  warn(\"\"\"Cannot parse header or footer so it will be ignored\"\"\")\n",
            "/usr/local/lib/python3.11/dist-packages/openpyxl/worksheet/header_footer.py:48: UserWarning: Cannot parse header or footer so it will be ignored\n",
            "  warn(\"\"\"Cannot parse header or footer so it will be ignored\"\"\")\n",
            "/usr/local/lib/python3.11/dist-packages/openpyxl/worksheet/header_footer.py:48: UserWarning: Cannot parse header or footer so it will be ignored\n",
            "  warn(\"\"\"Cannot parse header or footer so it will be ignored\"\"\")\n"
          ]
        },
        {
          "output_type": "stream",
          "name": "stdout",
          "text": [
            "✅ cleaned_Kopya _HЕ-20064 от 10.02.2025 (1).xlsx oluşturuldu./был создан.\n",
            "\n",
            "🔄 İşleniyor: Kopya _HЕ-20069 от 27.02.2025 (1).xlsx\n",
            "✅ cleaned_Kopya _HЕ-20069 от 27.02.2025 (1).xlsx oluşturuldu./был создан.\n",
            "⚠️ Hata/Ошибка: Reindexing only valid with uniquely valued Index objects\n",
            "\n",
            "🔄 İşleniyor: Kopya _HЕ-20071 17.04.25 (1).xlsx\n"
          ]
        },
        {
          "output_type": "stream",
          "name": "stderr",
          "text": [
            "/usr/local/lib/python3.11/dist-packages/openpyxl/worksheet/header_footer.py:48: UserWarning: Cannot parse header or footer so it will be ignored\n",
            "  warn(\"\"\"Cannot parse header or footer so it will be ignored\"\"\")\n",
            "/usr/local/lib/python3.11/dist-packages/openpyxl/worksheet/header_footer.py:48: UserWarning: Cannot parse header or footer so it will be ignored\n",
            "  warn(\"\"\"Cannot parse header or footer so it will be ignored\"\"\")\n",
            "/usr/local/lib/python3.11/dist-packages/openpyxl/worksheet/header_footer.py:48: UserWarning: Cannot parse header or footer so it will be ignored\n",
            "  warn(\"\"\"Cannot parse header or footer so it will be ignored\"\"\")\n"
          ]
        },
        {
          "output_type": "stream",
          "name": "stdout",
          "text": [
            "✅ cleaned_Kopya _HЕ-20071 17.04.25 (1).xlsx oluşturuldu./был создан.\n",
            "⚠️ Hata/Ошибка: Reindexing only valid with uniquely valued Index objects\n",
            "\n",
            "🔄 İşleniyor: Kopya _HЕ-20072 от 21.04.2025 (1).xlsx\n",
            "✅ cleaned_Kopya _HЕ-20072 от 21.04.2025 (1).xlsx oluşturuldu./был создан.\n",
            "⚠️ Hata/Ошибка: Reindexing only valid with uniquely valued Index objects\n",
            "\n",
            "🔄 İşleniyor: Kopya _HЕ-20073 от 28.04.2025 (1).xlsx\n"
          ]
        },
        {
          "output_type": "stream",
          "name": "stderr",
          "text": [
            "/usr/local/lib/python3.11/dist-packages/openpyxl/worksheet/header_footer.py:48: UserWarning: Cannot parse header or footer so it will be ignored\n",
            "  warn(\"\"\"Cannot parse header or footer so it will be ignored\"\"\")\n",
            "/usr/local/lib/python3.11/dist-packages/openpyxl/worksheet/header_footer.py:48: UserWarning: Cannot parse header or footer so it will be ignored\n",
            "  warn(\"\"\"Cannot parse header or footer so it will be ignored\"\"\")\n",
            "/usr/local/lib/python3.11/dist-packages/openpyxl/worksheet/header_footer.py:48: UserWarning: Cannot parse header or footer so it will be ignored\n",
            "  warn(\"\"\"Cannot parse header or footer so it will be ignored\"\"\")\n",
            "/usr/local/lib/python3.11/dist-packages/openpyxl/worksheet/header_footer.py:48: UserWarning: Cannot parse header or footer so it will be ignored\n",
            "  warn(\"\"\"Cannot parse header or footer so it will be ignored\"\"\")\n"
          ]
        },
        {
          "output_type": "stream",
          "name": "stdout",
          "text": [
            "✅ cleaned_Kopya _HЕ-20073 от 28.04.2025 (1).xlsx oluşturuldu./был создан.\n",
            "\n",
            "🔄 İşleniyor: Kopya _HЕ-20074 от 29.04.2025 (1).xlsx\n",
            "✅ cleaned_Kopya _HЕ-20074 от 29.04.2025 (1).xlsx oluşturuldu./был создан.\n",
            "\n",
            "🔄 İşleniyor: Kopya 0_Copy of HE-Notification - 20032 (1).xlsx\n",
            "✅ cleaned_Kopya 0_Copy of HE-Notification - 20032 (1).xlsx oluşturuldu./был создан.\n",
            "\n",
            "🔄 İşleniyor: Kopya 0_HCN-230130 to TSM-07-23-337 (1).xlsx\n",
            "⚠️ Hata/Ошибка: single positional indexer is out-of-bounds\n",
            "\n",
            "🔄 İşleniyor: Kopya 0_HCN-230131 to TSM-07-23-337 (1).xlsx\n"
          ]
        },
        {
          "output_type": "stream",
          "name": "stderr",
          "text": [
            "/usr/local/lib/python3.11/dist-packages/openpyxl/worksheet/header_footer.py:48: UserWarning: Cannot parse header or footer so it will be ignored\n",
            "  warn(\"\"\"Cannot parse header or footer so it will be ignored\"\"\")\n",
            "/usr/local/lib/python3.11/dist-packages/openpyxl/worksheet/header_footer.py:48: UserWarning: Cannot parse header or footer so it will be ignored\n",
            "  warn(\"\"\"Cannot parse header or footer so it will be ignored\"\"\")\n",
            "/usr/local/lib/python3.11/dist-packages/openpyxl/worksheet/header_footer.py:48: UserWarning: Cannot parse header or footer so it will be ignored\n",
            "  warn(\"\"\"Cannot parse header or footer so it will be ignored\"\"\")\n",
            "/usr/local/lib/python3.11/dist-packages/openpyxl/worksheet/header_footer.py:48: UserWarning: Cannot parse header or footer so it will be ignored\n",
            "  warn(\"\"\"Cannot parse header or footer so it will be ignored\"\"\")\n",
            "/usr/local/lib/python3.11/dist-packages/openpyxl/worksheet/header_footer.py:48: UserWarning: Cannot parse header or footer so it will be ignored\n",
            "  warn(\"\"\"Cannot parse header or footer so it will be ignored\"\"\")\n",
            "/usr/local/lib/python3.11/dist-packages/openpyxl/worksheet/header_footer.py:48: UserWarning: Cannot parse header or footer so it will be ignored\n",
            "  warn(\"\"\"Cannot parse header or footer so it will be ignored\"\"\")\n"
          ]
        },
        {
          "output_type": "stream",
          "name": "stdout",
          "text": [
            "⚠️ Hata/Ошибка: single positional indexer is out-of-bounds\n",
            "\n",
            "🔄 İşleniyor: Kopya 0_HCN-230133 to TSM-07-23-337 REVİZE (2) (1).xlsx\n",
            "⚠️ Hata/Ошибка: single positional indexer is out-of-bounds\n",
            "\n",
            "🔄 İşleniyor: Kopya 0_HCN-230139 to TSM-07-23-337 Printable Version (1).xlsx\n",
            "⚠️ Hata/Ошибка: single positional indexer is out-of-bounds\n",
            "\n",
            "🔄 İşleniyor: Kopya 0_HCN-230140 to TSM-07-23-337 часть из наличия (1).xlsx\n"
          ]
        },
        {
          "output_type": "stream",
          "name": "stderr",
          "text": [
            "/usr/local/lib/python3.11/dist-packages/openpyxl/worksheet/header_footer.py:48: UserWarning: Cannot parse header or footer so it will be ignored\n",
            "  warn(\"\"\"Cannot parse header or footer so it will be ignored\"\"\")\n",
            "/usr/local/lib/python3.11/dist-packages/openpyxl/worksheet/header_footer.py:48: UserWarning: Cannot parse header or footer so it will be ignored\n",
            "  warn(\"\"\"Cannot parse header or footer so it will be ignored\"\"\")\n",
            "/usr/local/lib/python3.11/dist-packages/openpyxl/worksheet/header_footer.py:48: UserWarning: Cannot parse header or footer so it will be ignored\n",
            "  warn(\"\"\"Cannot parse header or footer so it will be ignored\"\"\")\n",
            "/usr/local/lib/python3.11/dist-packages/openpyxl/worksheet/header_footer.py:48: UserWarning: Cannot parse header or footer so it will be ignored\n",
            "  warn(\"\"\"Cannot parse header or footer so it will be ignored\"\"\")\n",
            "/usr/local/lib/python3.11/dist-packages/openpyxl/worksheet/header_footer.py:48: UserWarning: Cannot parse header or footer so it will be ignored\n",
            "  warn(\"\"\"Cannot parse header or footer so it will be ignored\"\"\")\n",
            "/usr/local/lib/python3.11/dist-packages/openpyxl/worksheet/header_footer.py:48: UserWarning: Cannot parse header or footer so it will be ignored\n",
            "  warn(\"\"\"Cannot parse header or footer so it will be ignored\"\"\")\n"
          ]
        },
        {
          "output_type": "stream",
          "name": "stdout",
          "text": [
            "⚠️ Hata/Ошибка: single positional indexer is out-of-bounds\n",
            "\n",
            "🔄 İşleniyor: Kopya 0_HCN-230142 to TSM-07-23-337 (1).xlsx\n",
            "⚠️ Hata/Ошибка: single positional indexer is out-of-bounds\n",
            "\n",
            "🔄 İşleniyor: Kopya 0_HE-20026 (1).xlsx\n",
            "✅ cleaned_Kopya 0_HE-20026 (1).xlsx oluşturuldu./был создан.\n",
            "\n",
            "🔄 İşleniyor: Kopya 0_HE-20038.1 (1).xlsx\n",
            "✅ cleaned_Kopya 0_HE-20038.1 (1).xlsx oluşturuldu./был создан.\n",
            "\n",
            "🔄 İşleniyor: Kopya 0_HE-20038.2 (1).xlsx\n",
            "✅ cleaned_Kopya 0_HE-20038.2 (1).xlsx oluşturuldu./был создан.\n",
            "\n",
            "🔄 İşleniyor: Kopya 0_HE-20039 (002) (1).xlsx\n",
            "✅ cleaned_Kopya 0_HE-20039 (002) (1).xlsx oluşturuldu./был создан.\n",
            "\n",
            "🔄 İşleniyor: Kopya 0_New version_HCN-230145 to TSM-07-23-337 (3) (1).xlsx\n",
            "⚠️ Hata/Ошибка: single positional indexer is out-of-bounds\n",
            "\n",
            "🔄 İşleniyor: Kopya 0_New_HCN-230149 to TSM-07-23-337 (1).xlsx\n"
          ]
        },
        {
          "output_type": "stream",
          "name": "stderr",
          "text": [
            "/usr/local/lib/python3.11/dist-packages/openpyxl/worksheet/header_footer.py:48: UserWarning: Cannot parse header or footer so it will be ignored\n",
            "  warn(\"\"\"Cannot parse header or footer so it will be ignored\"\"\")\n",
            "/usr/local/lib/python3.11/dist-packages/openpyxl/worksheet/header_footer.py:48: UserWarning: Cannot parse header or footer so it will be ignored\n",
            "  warn(\"\"\"Cannot parse header or footer so it will be ignored\"\"\")\n",
            "/usr/local/lib/python3.11/dist-packages/openpyxl/worksheet/header_footer.py:48: UserWarning: Cannot parse header or footer so it will be ignored\n",
            "  warn(\"\"\"Cannot parse header or footer so it will be ignored\"\"\")\n",
            "/usr/local/lib/python3.11/dist-packages/openpyxl/worksheet/header_footer.py:48: UserWarning: Cannot parse header or footer so it will be ignored\n",
            "  warn(\"\"\"Cannot parse header or footer so it will be ignored\"\"\")\n"
          ]
        },
        {
          "output_type": "stream",
          "name": "stdout",
          "text": [
            "⚠️ Hata/Ошибка: single positional indexer is out-of-bounds\n",
            "\n",
            "🔄 İşleniyor: Kopya 0_SP HE-20025.1 to TSM-07-23-337 (1).xlsx\n"
          ]
        },
        {
          "output_type": "stream",
          "name": "stderr",
          "text": [
            "/usr/local/lib/python3.11/dist-packages/openpyxl/worksheet/header_footer.py:48: UserWarning: Cannot parse header or footer so it will be ignored\n",
            "  warn(\"\"\"Cannot parse header or footer so it will be ignored\"\"\")\n",
            "/usr/local/lib/python3.11/dist-packages/openpyxl/worksheet/header_footer.py:48: UserWarning: Cannot parse header or footer so it will be ignored\n",
            "  warn(\"\"\"Cannot parse header or footer so it will be ignored\"\"\")\n"
          ]
        },
        {
          "output_type": "stream",
          "name": "stdout",
          "text": [
            "✅ cleaned_Kopya 0_SP HE-20025.1 to TSM-07-23-337 (1).xlsx oluşturuldu./был создан.\n",
            "\n",
            "🔄 İşleniyor: Kopya 0_SP HE-20027 to TSM-07-23-337 (1).xlsx\n",
            "✅ cleaned_Kopya 0_SP HE-20027 to TSM-07-23-337 (1).xlsx oluşturuldu./был создан.\n",
            "\n",
            "🔄 İşleniyor: Kopya 0_SP HE-20029.1 to TSM-07-23-337 (1).xlsx\n",
            "✅ cleaned_Kopya 0_SP HE-20029.1 to TSM-07-23-337 (1).xlsx oluşturuldu./был создан.\n",
            "\n",
            "🔄 İşleniyor: Kopya 0_SP HE-20031.1 to TSM-07-23-337 (1).xlsx\n",
            "✅ cleaned_Kopya 0_SP HE-20031.1 to TSM-07-23-337 (1).xlsx oluşturuldu./был создан.\n",
            "\n",
            "🔄 İşleniyor: Kopya 0_SP HE-20034 to TSM-07-23-337 (1).xlsx\n",
            "✅ cleaned_Kopya 0_SP HE-20034 to TSM-07-23-337 (1).xlsx oluşturuldu./был создан.\n",
            "\n",
            "🔄 İşleniyor: Kopya 0_SP HE-20036  to TSM-07-23-337 (1).xlsx\n",
            "✅ cleaned_Kopya 0_SP HE-20036  to TSM-07-23-337 (1).xlsx oluşturuldu./был создан.\n",
            "\n",
            "🔄 İşleniyor: Kopya 0_SP HE-20041.2 to TSM-07-23-337 (1).xlsx\n",
            "✅ cleaned_Kopya 0_SP HE-20041.2 to TSM-07-23-337 (1).xlsx oluşturuldu./был создан.\n",
            "\n",
            "🔄 İşleniyor: Kopya 0_SP HE-20042.1 to TSM-07-23-337 (1).xlsx\n",
            "✅ cleaned_Kopya 0_SP HE-20042.1 to TSM-07-23-337 (1).xlsx oluşturuldu./был создан.\n",
            "\n",
            "🔄 İşleniyor: Kopya 0_SP HE-20043 to TSM-07-23-337 (1).xlsx\n",
            "✅ cleaned_Kopya 0_SP HE-20043 to TSM-07-23-337 (1).xlsx oluşturuldu./был создан.\n",
            "\n",
            "🔄 İşleniyor: Kopya 0_SP HE-20044 to TSM-07-23-337 (1).xlsx\n",
            "✅ cleaned_Kopya 0_SP HE-20044 to TSM-07-23-337 (1).xlsx oluşturuldu./был создан.\n",
            "\n",
            "🔄 İşleniyor: Kopya 0_SP HE-20047 to TSM-07-23-337 (1).xlsx\n",
            "✅ cleaned_Kopya 0_SP HE-20047 to TSM-07-23-337 (1).xlsx oluşturuldu./был создан.\n",
            "\n",
            "🔄 İşleniyor: Kopya 0_SP HE-20048 to TSM-07-23-337 (1).xlsx\n",
            "✅ cleaned_Kopya 0_SP HE-20048 to TSM-07-23-337 (1).xlsx oluşturuldu./был создан.\n",
            "\n",
            "🔄 İşleniyor: Kopya 0_SP HE-20051 to TSM-07-23-337 (1).xlsx\n",
            "✅ cleaned_Kopya 0_SP HE-20051 to TSM-07-23-337 (1).xlsx oluşturuldu./был создан.\n",
            "\n",
            "🔄 İşleniyor: Kopya 0_SP HE-20052 to TSM-07-23-337 (1).xlsx\n",
            "✅ cleaned_Kopya 0_SP HE-20052 to TSM-07-23-337 (1).xlsx oluşturuldu./был создан.\n",
            "\n",
            "🔄 İşleniyor: Kopya 0_SP HE-20054 to TSM-07-23-337 (1).xlsx\n",
            "✅ cleaned_Kopya 0_SP HE-20054 to TSM-07-23-337 (1).xlsx oluşturuldu./был создан.\n",
            "\n",
            "🔄 İşleniyor: Kopya 0_SP HE-20055 to TSM-07-23-337 (1).xlsx\n",
            "✅ cleaned_Kopya 0_SP HE-20055 to TSM-07-23-337 (1).xlsx oluşturuldu./был создан.\n",
            "\n",
            "🔄 İşleniyor: Kopya 0_SP HE-20057 to TSM-07-23-337 (1).xlsx\n",
            "✅ cleaned_Kopya 0_SP HE-20057 to TSM-07-23-337 (1).xlsx oluşturuldu./был создан.\n",
            "\n",
            "🔄 İşleniyor: Kopya 0_SP HE-20058 to TSM-07-23-337 (1).xlsx\n",
            "✅ cleaned_Kopya 0_SP HE-20058 to TSM-07-23-337 (1).xlsx oluşturuldu./был создан.\n",
            "\n",
            "🔄 İşleniyor: Kopya 0_SP HE-20060 to TSM-07-23-337 (1).xlsx\n",
            "✅ cleaned_Kopya 0_SP HE-20060 to TSM-07-23-337 (1).xlsx oluşturuldu./был создан.\n",
            "\n",
            "🔄 İşleniyor: Kopya 0_SP HE-20061 to TSM-07-23-337 (1).xlsx\n",
            "✅ cleaned_Kopya 0_SP HE-20061 to TSM-07-23-337 (1).xlsx oluşturuldu./был создан.\n",
            "\n",
            "🔄 İşleniyor: Kopya 0_SP HE-20062 to TSM-07-23-337 (1).xlsx\n",
            "✅ cleaned_Kopya 0_SP HE-20062 to TSM-07-23-337 (1).xlsx oluşturuldu./был создан.\n",
            "\n",
            "🔄 İşleniyor: Kopya 0_SP HE-20063 to TSM-07-23-337 (1).xlsx\n",
            "✅ cleaned_Kopya 0_SP HE-20063 to TSM-07-23-337 (1).xlsx oluşturuldu./был создан.\n",
            "\n",
            "🔄 İşleniyor: Kopya 0_SP HE-20065 to TSM-07-23-337 (1).xlsx\n",
            "✅ cleaned_Kopya 0_SP HE-20065 to TSM-07-23-337 (1).xlsx oluşturuldu./был создан.\n",
            "\n",
            "🔄 İşleniyor: Kopya 0_SP HE-20066 to TSM-07-23-337 (1).xlsx\n",
            "✅ cleaned_Kopya 0_SP HE-20066 to TSM-07-23-337 (1).xlsx oluşturuldu./был создан.\n",
            "\n",
            "🔄 İşleniyor: Kopya 0_Specification HE-20053 (1).xlsx\n",
            "✅ cleaned_Kopya 0_Specification HE-20053 (1).xlsx oluşturuldu./был создан.\n",
            "\n",
            "🔄 İşleniyor: Kopya 0_Спецификация SP HE-20035 (1).xlsx\n",
            "✅ cleaned_Kopya 0_Спецификация SP HE-20035 (1).xlsx oluşturuldu./был создан.\n",
            "\n",
            "🔄 İşleniyor: Kopya HE-20012 (1).xlsx\n",
            "✅ cleaned_Kopya HE-20012 (1).xlsx oluşturuldu./был создан.\n",
            "\n",
            "🔄 İşleniyor: Kopya HE-20013 (1).xlsx\n",
            "✅ cleaned_Kopya HE-20013 (1).xlsx oluşturuldu./был создан.\n",
            "\n",
            "🔄 İşleniyor: Kopya HE-20014 (1).xlsx\n",
            "✅ cleaned_Kopya HE-20014 (1).xlsx oluşturuldu./был создан.\n",
            "\n",
            "🔄 İşleniyor: Kopya HE-20015 (1).xlsx\n",
            "✅ cleaned_Kopya HE-20015 (1).xlsx oluşturuldu./был создан.\n",
            "\n",
            "🔄 İşleniyor: Kopya HE-20017 (1).xlsx\n",
            "✅ cleaned_Kopya HE-20017 (1).xlsx oluşturuldu./был создан.\n",
            "\n",
            "🔄 İşleniyor: Kopya HE-20022.1 (1).xlsx\n"
          ]
        },
        {
          "output_type": "stream",
          "name": "stderr",
          "text": [
            "/usr/local/lib/python3.11/dist-packages/openpyxl/worksheet/header_footer.py:48: UserWarning: Cannot parse header or footer so it will be ignored\n",
            "  warn(\"\"\"Cannot parse header or footer so it will be ignored\"\"\")\n",
            "/usr/local/lib/python3.11/dist-packages/openpyxl/worksheet/header_footer.py:48: UserWarning: Cannot parse header or footer so it will be ignored\n",
            "  warn(\"\"\"Cannot parse header or footer so it will be ignored\"\"\")\n",
            "/usr/local/lib/python3.11/dist-packages/openpyxl/worksheet/header_footer.py:48: UserWarning: Cannot parse header or footer so it will be ignored\n",
            "  warn(\"\"\"Cannot parse header or footer so it will be ignored\"\"\")\n",
            "/usr/local/lib/python3.11/dist-packages/openpyxl/worksheet/header_footer.py:48: UserWarning: Cannot parse header or footer so it will be ignored\n",
            "  warn(\"\"\"Cannot parse header or footer so it will be ignored\"\"\")\n"
          ]
        },
        {
          "output_type": "stream",
          "name": "stdout",
          "text": [
            "✅ cleaned_Kopya HE-20022.1 (1).xlsx oluşturuldu./был создан.\n",
            "\n",
            "🔄 İşleniyor: Kopya HE-20022.2 (1).xlsx\n",
            "✅ cleaned_Kopya HE-20022.2 (1).xlsx oluşturuldu./был создан.\n",
            "\n",
            "🔄 İşleniyor: Kopya HE-20023 (1).xlsx\n"
          ]
        },
        {
          "output_type": "stream",
          "name": "stderr",
          "text": [
            "/usr/local/lib/python3.11/dist-packages/openpyxl/worksheet/header_footer.py:48: UserWarning: Cannot parse header or footer so it will be ignored\n",
            "  warn(\"\"\"Cannot parse header or footer so it will be ignored\"\"\")\n",
            "/usr/local/lib/python3.11/dist-packages/openpyxl/worksheet/header_footer.py:48: UserWarning: Cannot parse header or footer so it will be ignored\n",
            "  warn(\"\"\"Cannot parse header or footer so it will be ignored\"\"\")\n",
            "/usr/local/lib/python3.11/dist-packages/openpyxl/worksheet/header_footer.py:48: UserWarning: Cannot parse header or footer so it will be ignored\n",
            "  warn(\"\"\"Cannot parse header or footer so it will be ignored\"\"\")\n",
            "/usr/local/lib/python3.11/dist-packages/openpyxl/worksheet/header_footer.py:48: UserWarning: Cannot parse header or footer so it will be ignored\n",
            "  warn(\"\"\"Cannot parse header or footer so it will be ignored\"\"\")\n"
          ]
        },
        {
          "output_type": "stream",
          "name": "stdout",
          "text": [
            "✅ cleaned_Kopya HE-20023 (1).xlsx oluşturuldu./был создан.\n",
            "\n",
            "🔄 İşleniyor: Kopya HE-20024 (1).xlsx\n",
            "✅ cleaned_Kopya HE-20024 (1).xlsx oluşturuldu./был создан.\n",
            "\n",
            "🔄 İşleniyor: Kopya HE-20025.2 (1).xlsx\n"
          ]
        },
        {
          "output_type": "stream",
          "name": "stderr",
          "text": [
            "/usr/local/lib/python3.11/dist-packages/openpyxl/worksheet/header_footer.py:48: UserWarning: Cannot parse header or footer so it will be ignored\n",
            "  warn(\"\"\"Cannot parse header or footer so it will be ignored\"\"\")\n",
            "/usr/local/lib/python3.11/dist-packages/openpyxl/worksheet/header_footer.py:48: UserWarning: Cannot parse header or footer so it will be ignored\n",
            "  warn(\"\"\"Cannot parse header or footer so it will be ignored\"\"\")\n"
          ]
        },
        {
          "output_type": "stream",
          "name": "stdout",
          "text": [
            "✅ cleaned_Kopya HE-20025.2 (1).xlsx oluşturuldu./был создан.\n",
            "\n",
            "🔄 İşleniyor: Kopya HE-21007 (1).xlsx\n",
            "✅ cleaned_Kopya HE-21007 (1).xlsx oluşturuldu./был создан.\n",
            "\n",
            "🔄 İşleniyor: Kopya HE-21008 (1).xlsx\n",
            "✅ cleaned_Kopya HE-21008 (1).xlsx oluşturuldu./был создан.\n",
            "\n",
            "🔄 İşleniyor: Kopya HE-21009 (1).xlsx\n",
            "✅ cleaned_Kopya HE-21009 (1).xlsx oluşturuldu./был создан.\n",
            "\n",
            "🔄 İşleniyor: Kopya New_SP HE-20046 to TSM-07-23-337нов (1).xlsx\n",
            "✅ cleaned_Kopya New_SP HE-20046 to TSM-07-23-337нов (1).xlsx oluşturuldu./был создан.\n",
            "\n",
            "🔄 İşleniyor: Kopya New_SP HE-20049 to TSM-07-23-337 Измененная (1).xlsx\n",
            "✅ cleaned_Kopya New_SP HE-20049 to TSM-07-23-337 Измененная (1).xlsx oluşturuldu./был создан.\n",
            "\n",
            "🔄 İşleniyor: Kopya New_SP HE-20050 to TSM-07-23-337 - Copy (1).xlsx\n",
            "✅ cleaned_Kopya New_SP HE-20050 to TSM-07-23-337 - Copy (1).xlsx oluşturuldu./был создан.\n",
            "\n",
            "🔄 İşleniyor: Kopya New_SP HE-20059 to TSM-07-23-337 (1).xlsx\n",
            "✅ cleaned_Kopya New_SP HE-20059 to TSM-07-23-337 (1).xlsx oluşturuldu./был создан.\n",
            "\n",
            "🔄 İşleniyor: Kopya SP HE-20007  to TSM-07-22-898 (1).xlsx\n",
            "⚠️ Hata/Ошибка: single positional indexer is out-of-bounds\n",
            "\n",
            "🔄 İşleniyor: Kopya SP HE-20009 (1).xlsx\n",
            "⚠️ Hata/Ошибка: single positional indexer is out-of-bounds\n",
            "\n",
            "🔄 İşleniyor: Kopya SP HE-20010 (1).xlsx\n",
            "⚠️ Hata/Ошибка: single positional indexer is out-of-bounds\n",
            "\n",
            "🔄 İşleniyor: Kopya SP HE-20016 to TSM-07-23-337 (1).xlsx\n",
            "✅ cleaned_Kopya SP HE-20016 to TSM-07-23-337 (1).xlsx oluşturuldu./был создан.\n",
            "\n",
            "🔄 İşleniyor: Kopya SP HE-20018 to TSM-07-23-337 (1).xlsx\n"
          ]
        },
        {
          "output_type": "stream",
          "name": "stderr",
          "text": [
            "/usr/local/lib/python3.11/dist-packages/openpyxl/worksheet/header_footer.py:48: UserWarning: Cannot parse header or footer so it will be ignored\n",
            "  warn(\"\"\"Cannot parse header or footer so it will be ignored\"\"\")\n",
            "/usr/local/lib/python3.11/dist-packages/openpyxl/worksheet/header_footer.py:48: UserWarning: Cannot parse header or footer so it will be ignored\n",
            "  warn(\"\"\"Cannot parse header or footer so it will be ignored\"\"\")\n",
            "/usr/local/lib/python3.11/dist-packages/openpyxl/worksheet/header_footer.py:48: UserWarning: Cannot parse header or footer so it will be ignored\n",
            "  warn(\"\"\"Cannot parse header or footer so it will be ignored\"\"\")\n",
            "/usr/local/lib/python3.11/dist-packages/openpyxl/worksheet/header_footer.py:48: UserWarning: Cannot parse header or footer so it will be ignored\n",
            "  warn(\"\"\"Cannot parse header or footer so it will be ignored\"\"\")\n"
          ]
        },
        {
          "output_type": "stream",
          "name": "stdout",
          "text": [
            "✅ cleaned_Kopya SP HE-20018 to TSM-07-23-337 (1).xlsx oluşturuldu./был создан.\n",
            "\n",
            "🔄 İşleniyor: Kopya SP HE-20019.2 to TSM-07-23-337 (1).xlsx\n",
            "✅ cleaned_Kopya SP HE-20019.2 to TSM-07-23-337 (1).xlsx oluşturuldu./был создан.\n",
            "\n",
            "🔄 İşleniyor: Kopya SP HE-20020 to TSM-07-23-337 (1).xlsx\n"
          ]
        },
        {
          "output_type": "stream",
          "name": "stderr",
          "text": [
            "/usr/local/lib/python3.11/dist-packages/openpyxl/worksheet/header_footer.py:48: UserWarning: Cannot parse header or footer so it will be ignored\n",
            "  warn(\"\"\"Cannot parse header or footer so it will be ignored\"\"\")\n",
            "/usr/local/lib/python3.11/dist-packages/openpyxl/worksheet/header_footer.py:48: UserWarning: Cannot parse header or footer so it will be ignored\n",
            "  warn(\"\"\"Cannot parse header or footer so it will be ignored\"\"\")\n",
            "/usr/local/lib/python3.11/dist-packages/openpyxl/worksheet/header_footer.py:48: UserWarning: Cannot parse header or footer so it will be ignored\n",
            "  warn(\"\"\"Cannot parse header or footer so it will be ignored\"\"\")\n",
            "/usr/local/lib/python3.11/dist-packages/openpyxl/worksheet/header_footer.py:48: UserWarning: Cannot parse header or footer so it will be ignored\n",
            "  warn(\"\"\"Cannot parse header or footer so it will be ignored\"\"\")\n"
          ]
        },
        {
          "output_type": "stream",
          "name": "stdout",
          "text": [
            "✅ cleaned_Kopya SP HE-20020 to TSM-07-23-337 (1).xlsx oluşturuldu./был создан.\n",
            "\n",
            "🔄 İşleniyor: Kopya SP HE-20021 to TSM-07-23-337 (1).xlsx\n",
            "✅ cleaned_Kopya SP HE-20021 to TSM-07-23-337 (1).xlsx oluşturuldu./был создан.\n",
            "\n",
            "🔄 İşleniyor: Kopya SP HE-20045 to TSM-07-23-337 (1).xlsx\n",
            "✅ cleaned_Kopya SP HE-20045 to TSM-07-23-337 (1).xlsx oluşturuldu./был создан.\n",
            "\n",
            "🔄 İşleniyor: Kopya SP HE-21001 to TSM-07-23-337 (1).xlsx\n",
            "✅ cleaned_Kopya SP HE-21001 to TSM-07-23-337 (1).xlsx oluşturuldu./был создан.\n",
            "\n",
            "🔄 İşleniyor: Kopya SP HE-21002 to TSM-07-23-337 (1).xlsx\n"
          ]
        },
        {
          "output_type": "stream",
          "name": "stderr",
          "text": [
            "/usr/local/lib/python3.11/dist-packages/openpyxl/worksheet/header_footer.py:48: UserWarning: Cannot parse header or footer so it will be ignored\n",
            "  warn(\"\"\"Cannot parse header or footer so it will be ignored\"\"\")\n",
            "/usr/local/lib/python3.11/dist-packages/openpyxl/worksheet/header_footer.py:48: UserWarning: Cannot parse header or footer so it will be ignored\n",
            "  warn(\"\"\"Cannot parse header or footer so it will be ignored\"\"\")\n",
            "/usr/local/lib/python3.11/dist-packages/openpyxl/worksheet/header_footer.py:48: UserWarning: Cannot parse header or footer so it will be ignored\n",
            "  warn(\"\"\"Cannot parse header or footer so it will be ignored\"\"\")\n",
            "/usr/local/lib/python3.11/dist-packages/openpyxl/worksheet/header_footer.py:48: UserWarning: Cannot parse header or footer so it will be ignored\n",
            "  warn(\"\"\"Cannot parse header or footer so it will be ignored\"\"\")\n"
          ]
        },
        {
          "output_type": "stream",
          "name": "stdout",
          "text": [
            "✅ cleaned_Kopya SP HE-21002 to TSM-07-23-337 (1).xlsx oluşturuldu./был создан.\n",
            "\n",
            "🔄 İşleniyor: Kopya SP HE-21010 to TSM-07-23-337 (1).xlsx\n",
            "✅ cleaned_Kopya SP HE-21010 to TSM-07-23-337 (1).xlsx oluşturuldu./был создан.\n",
            "\n",
            "🔄 İşleniyor: Kopya SP HE-21011 to TSM-07-23-337 (1).xlsx\n"
          ]
        },
        {
          "output_type": "stream",
          "name": "stderr",
          "text": [
            "/usr/local/lib/python3.11/dist-packages/openpyxl/worksheet/header_footer.py:48: UserWarning: Cannot parse header or footer so it will be ignored\n",
            "  warn(\"\"\"Cannot parse header or footer so it will be ignored\"\"\")\n",
            "/usr/local/lib/python3.11/dist-packages/openpyxl/worksheet/header_footer.py:48: UserWarning: Cannot parse header or footer so it will be ignored\n",
            "  warn(\"\"\"Cannot parse header or footer so it will be ignored\"\"\")\n",
            "/usr/local/lib/python3.11/dist-packages/openpyxl/worksheet/header_footer.py:48: UserWarning: Cannot parse header or footer so it will be ignored\n",
            "  warn(\"\"\"Cannot parse header or footer so it will be ignored\"\"\")\n",
            "/usr/local/lib/python3.11/dist-packages/openpyxl/worksheet/header_footer.py:48: UserWarning: Cannot parse header or footer so it will be ignored\n",
            "  warn(\"\"\"Cannot parse header or footer so it will be ignored\"\"\")\n"
          ]
        },
        {
          "output_type": "stream",
          "name": "stdout",
          "text": [
            "✅ cleaned_Kopya SP HE-21011 to TSM-07-23-337 (1).xlsx oluşturuldu./был создан.\n",
            "\n",
            "🔄 İşleniyor: Kopya Спецификация  № HM-30001 (1).xlsx\n",
            "✅ cleaned_Kopya Спецификация  № HM-30001 (1).xlsx oluşturuldu./был создан.\n",
            "\n",
            "🔄 İşleniyor: PO AK-69 (1).xls\n",
            "Спецификация № bulunamadı/не найдено ❌\n",
            "\n",
            "🔄 İşleniyor: PO AK-117 (1).xls\n",
            "Спецификация № bulunamadı/не найдено ❌\n",
            "\n",
            "🔄 İşleniyor: PO AK-147 (1).xls\n",
            "Спецификация № bulunamadı/не найдено ❌\n",
            "\n",
            "🔄 İşleniyor: PO AK-C-969 (1).xls\n",
            "Спецификация № bulunamadı/не найдено ❌\n",
            "\n",
            "🔄 İşleniyor: PO AK-EM-344 (1).xls\n",
            "Спецификация № bulunamadı/не найдено ❌\n",
            "\n",
            "🔄 İşleniyor: PO AK-EM-627 HİLTİ (1).xls\n",
            "Спецификация № bulunamadı/не найдено ❌\n",
            "\n",
            "🔄 İşleniyor: PO AK-EM-656 HİLTİ (1).xls\n",
            "Спецификация № bulunamadı/не найдено ❌\n",
            "\n",
            "🔄 İşleniyor: PO AK-EM-687 HİLTİ (1).xls\n",
            "Спецификация № bulunamadı/не найдено ❌\n",
            "\n",
            "🔄 İşleniyor: PO AK-MM-373 (1).xls\n",
            "Спецификация № bulunamadı/не найдено ❌\n",
            "\n",
            "🔄 İşleniyor: PO AK-MM-396 (1).xls\n",
            "Спецификация № bulunamadı/не найдено ❌\n",
            "\n",
            "🔄 İşleniyor: PO AK-MM-444 (1).xls\n",
            "Спецификация № bulunamadı/не найдено ❌\n",
            "\n",
            "🔄 İşleniyor: PO AK-MM-477 (1).xls\n",
            "Спецификация № bulunamadı/не найдено ❌\n",
            "\n",
            "🔄 İşleniyor: PO AK-MM-659 (1).xls\n",
            "Спецификация № bulunamadı/не найдено ❌\n",
            "\n",
            "🔄 İşleniyor: PO AK-MM-716 (1).xls\n",
            "Спецификация № bulunamadı/не найдено ❌\n",
            "\n",
            "🔄 İşleniyor: PO AK-MM-729 (1).xls\n",
            "Спецификация № bulunamadı/не найдено ❌\n",
            "\n",
            "🔄 İşleniyor: PO AK-MM-741 (1).xls\n",
            "Спецификация № bulunamadı/не найдено ❌\n",
            "\n",
            "🔄 İşleniyor: PO AK-NP-MM-2582 (1).xls\n",
            "Спецификация № bulunamadı/не найдено ❌\n",
            "\n",
            "🔄 İşleniyor: PO AK-NP-MM-2858 (1).xls\n",
            "Спецификация № bulunamadı/не найдено ❌\n",
            "\n",
            "🔄 İşleniyor: PO AK-NP-MM-2925 (1).xls\n",
            "Спецификация № bulunamadı/не найдено ❌\n",
            "\n",
            "🔄 İşleniyor: PO AK-NP-MM-2997 (1).xls\n",
            "Спецификация № bulunamadı/не найдено ❌\n",
            "\n",
            "🔄 İşleniyor: PO AK-NP-ЕМ-1791 (1).xls\n",
            "Спецификация № bulunamadı/не найдено ❌\n",
            "\n",
            "🔄 İşleniyor: PO AK-P-135 (1).xls\n",
            "Спецификация № bulunamadı/не найдено ❌\n",
            "\n",
            "🔄 İşleniyor: PO HILTI AK-EM- 371 (1).xls\n",
            "Спецификация № bulunamadı/не найдено ❌\n",
            "\n",
            "🔄 İşleniyor: PO HILTI AK-EM- 406 (1).xls\n",
            "Спецификация № bulunamadı/не найдено ❌\n",
            "\n",
            "🔄 İşleniyor: PO HILTI AK-EM- 475 (1).xls\n",
            "Спецификация № bulunamadı/не найдено ❌\n",
            "\n",
            "🔄 İşleniyor: PO HILTI AK-EM- 485 (1).xls\n",
            "Спецификация № bulunamadı/не найдено ❌\n",
            "\n",
            "🔄 İşleniyor: PO HILTI AK-EM-336 (1).xls\n",
            "Спецификация № bulunamadı/не найдено ❌\n",
            "\n",
            "🔄 İşleniyor: PO HILTI AK-EM-353 (1).xls\n",
            "Спецификация № bulunamadı/не найдено ❌\n",
            "\n",
            "🔄 İşleniyor: PO HILTI AK-EM-364 (1).xls\n",
            "Спецификация № bulunamadı/не найдено ❌\n",
            "\n",
            "🔄 İşleniyor: PO HILTI AK-EM-537 (1).xls\n",
            "Спецификация № bulunamadı/не найдено ❌\n",
            "\n",
            "🔄 İşleniyor: PO HILTI AK-NP-EM- 2238 (1).xls\n",
            "Спецификация № bulunamadı/не найдено ❌\n",
            "\n",
            "🔄 İşleniyor: PO HILTI AK-NP-EM-1782 (1).xls\n",
            "Спецификация № bulunamadı/не найдено ❌\n",
            "\n",
            "🔄 İşleniyor: PO HILTI AK-NP-EM-2632 (1).xls\n",
            "Спецификация № bulunamadı/не найдено ❌\n",
            "\n",
            "🔄 İşleniyor: PO(SOZLESME) AK-EM-809 HILTI (1).xls\n",
            "Спецификация № bulunamadı/не найдено ❌\n",
            "\n",
            "🔄 İşleniyor: PO(SOZLESME) AK-EM-835 HILTI (1).xls\n",
            "Спецификация № bulunamadı/не найдено ❌\n",
            "\n",
            "🔄 İşleniyor: PO_AK-NP-1910 (1).xls\n",
            "Спецификация № bulunamadı/не найдено ❌\n",
            "\n",
            "🔄 İşleniyor: PO_AK-NP-1935 (1).xls\n",
            "Спецификация № bulunamadı/не найдено ❌\n",
            "\n",
            "🔄 İşleniyor: SP HC-10009 to TSM-07-22-898 (1).xlsx\n",
            "⚠️ Hata/Ошибка: single positional indexer is out-of-bounds\n",
            "\n",
            "🔄 İşleniyor: SP HC-10010 to TSM-07-22-898 (1).xlsx\n",
            "⚠️ Hata/Ошибка: single positional indexer is out-of-bounds\n",
            "\n",
            "🔄 İşleniyor: SP HCN-230027 to TSM-07-23-337 (1).xlsx\n"
          ]
        },
        {
          "output_type": "stream",
          "name": "stderr",
          "text": [
            "/usr/local/lib/python3.11/dist-packages/openpyxl/worksheet/header_footer.py:48: UserWarning: Cannot parse header or footer so it will be ignored\n",
            "  warn(\"\"\"Cannot parse header or footer so it will be ignored\"\"\")\n",
            "/usr/local/lib/python3.11/dist-packages/openpyxl/worksheet/header_footer.py:48: UserWarning: Cannot parse header or footer so it will be ignored\n",
            "  warn(\"\"\"Cannot parse header or footer so it will be ignored\"\"\")\n",
            "/usr/local/lib/python3.11/dist-packages/openpyxl/worksheet/header_footer.py:48: UserWarning: Cannot parse header or footer so it will be ignored\n",
            "  warn(\"\"\"Cannot parse header or footer so it will be ignored\"\"\")\n",
            "/usr/local/lib/python3.11/dist-packages/openpyxl/worksheet/header_footer.py:48: UserWarning: Cannot parse header or footer so it will be ignored\n",
            "  warn(\"\"\"Cannot parse header or footer so it will be ignored\"\"\")\n",
            "/usr/local/lib/python3.11/dist-packages/openpyxl/worksheet/header_footer.py:48: UserWarning: Cannot parse header or footer so it will be ignored\n",
            "  warn(\"\"\"Cannot parse header or footer so it will be ignored\"\"\")\n",
            "/usr/local/lib/python3.11/dist-packages/openpyxl/worksheet/header_footer.py:48: UserWarning: Cannot parse header or footer so it will be ignored\n",
            "  warn(\"\"\"Cannot parse header or footer so it will be ignored\"\"\")\n"
          ]
        },
        {
          "output_type": "stream",
          "name": "stdout",
          "text": [
            "⚠️ Hata/Ошибка: single positional indexer is out-of-bounds\n",
            "\n",
            "🔄 İşleniyor: SP HCN-230028 to TSM-07-23-337 (1).xlsx\n",
            "⚠️ Hata/Ошибка: single positional indexer is out-of-bounds\n",
            "\n",
            "🔄 İşleniyor: SP HCN-230032 to TSM-07-23-337 (1).xlsx\n",
            "⚠️ Hata/Ошибка: single positional indexer is out-of-bounds\n",
            "\n",
            "🔄 İşleniyor: SP HCN-230037 to TSM-07-23-337 (1).xlsx\n"
          ]
        },
        {
          "output_type": "stream",
          "name": "stderr",
          "text": [
            "/usr/local/lib/python3.11/dist-packages/openpyxl/worksheet/header_footer.py:48: UserWarning: Cannot parse header or footer so it will be ignored\n",
            "  warn(\"\"\"Cannot parse header or footer so it will be ignored\"\"\")\n",
            "/usr/local/lib/python3.11/dist-packages/openpyxl/worksheet/header_footer.py:48: UserWarning: Cannot parse header or footer so it will be ignored\n",
            "  warn(\"\"\"Cannot parse header or footer so it will be ignored\"\"\")\n",
            "/usr/local/lib/python3.11/dist-packages/openpyxl/worksheet/header_footer.py:48: UserWarning: Cannot parse header or footer so it will be ignored\n",
            "  warn(\"\"\"Cannot parse header or footer so it will be ignored\"\"\")\n",
            "/usr/local/lib/python3.11/dist-packages/openpyxl/worksheet/header_footer.py:48: UserWarning: Cannot parse header or footer so it will be ignored\n",
            "  warn(\"\"\"Cannot parse header or footer so it will be ignored\"\"\")\n",
            "/usr/local/lib/python3.11/dist-packages/openpyxl/worksheet/header_footer.py:48: UserWarning: Cannot parse header or footer so it will be ignored\n",
            "  warn(\"\"\"Cannot parse header or footer so it will be ignored\"\"\")\n",
            "/usr/local/lib/python3.11/dist-packages/openpyxl/worksheet/header_footer.py:48: UserWarning: Cannot parse header or footer so it will be ignored\n",
            "  warn(\"\"\"Cannot parse header or footer so it will be ignored\"\"\")\n"
          ]
        },
        {
          "output_type": "stream",
          "name": "stdout",
          "text": [
            "⚠️ Hata/Ошибка: single positional indexer is out-of-bounds\n",
            "\n",
            "🔄 İşleniyor: SP HCN-230039 to TSM-07-23-337 (1).xlsx\n",
            "⚠️ Hata/Ошибка: single positional indexer is out-of-bounds\n",
            "\n",
            "🔄 İşleniyor: SP HCN-230040 to TSM-07-23-337 (1).xlsx\n",
            "⚠️ Hata/Ошибка: single positional indexer is out-of-bounds\n",
            "\n",
            "🔄 İşleniyor: SP HCN-230041 to TSM-07-23-337 (1).xlsx\n"
          ]
        },
        {
          "output_type": "stream",
          "name": "stderr",
          "text": [
            "/usr/local/lib/python3.11/dist-packages/openpyxl/worksheet/header_footer.py:48: UserWarning: Cannot parse header or footer so it will be ignored\n",
            "  warn(\"\"\"Cannot parse header or footer so it will be ignored\"\"\")\n",
            "/usr/local/lib/python3.11/dist-packages/openpyxl/worksheet/header_footer.py:48: UserWarning: Cannot parse header or footer so it will be ignored\n",
            "  warn(\"\"\"Cannot parse header or footer so it will be ignored\"\"\")\n",
            "/usr/local/lib/python3.11/dist-packages/openpyxl/worksheet/header_footer.py:48: UserWarning: Cannot parse header or footer so it will be ignored\n",
            "  warn(\"\"\"Cannot parse header or footer so it will be ignored\"\"\")\n",
            "/usr/local/lib/python3.11/dist-packages/openpyxl/worksheet/header_footer.py:48: UserWarning: Cannot parse header or footer so it will be ignored\n",
            "  warn(\"\"\"Cannot parse header or footer so it will be ignored\"\"\")\n",
            "/usr/local/lib/python3.11/dist-packages/openpyxl/worksheet/header_footer.py:48: UserWarning: Cannot parse header or footer so it will be ignored\n",
            "  warn(\"\"\"Cannot parse header or footer so it will be ignored\"\"\")\n",
            "/usr/local/lib/python3.11/dist-packages/openpyxl/worksheet/header_footer.py:48: UserWarning: Cannot parse header or footer so it will be ignored\n",
            "  warn(\"\"\"Cannot parse header or footer so it will be ignored\"\"\")\n"
          ]
        },
        {
          "output_type": "stream",
          "name": "stdout",
          "text": [
            "⚠️ Hata/Ошибка: single positional indexer is out-of-bounds\n",
            "\n",
            "🔄 İşleniyor: SP HCN-230042 to TSM-07-23-337 (1).xlsx\n",
            "⚠️ Hata/Ошибка: single positional indexer is out-of-bounds\n",
            "\n",
            "🔄 İşleniyor: SP HCN-230043 to TSM-07-23-337 (1).xlsx\n",
            "⚠️ Hata/Ошибка: single positional indexer is out-of-bounds\n",
            "\n",
            "🔄 İşleniyor: SP HCN-230047 to TSM-07-23-337 (1).xlsx\n"
          ]
        },
        {
          "output_type": "stream",
          "name": "stderr",
          "text": [
            "/usr/local/lib/python3.11/dist-packages/openpyxl/worksheet/header_footer.py:48: UserWarning: Cannot parse header or footer so it will be ignored\n",
            "  warn(\"\"\"Cannot parse header or footer so it will be ignored\"\"\")\n",
            "/usr/local/lib/python3.11/dist-packages/openpyxl/worksheet/header_footer.py:48: UserWarning: Cannot parse header or footer so it will be ignored\n",
            "  warn(\"\"\"Cannot parse header or footer so it will be ignored\"\"\")\n",
            "/usr/local/lib/python3.11/dist-packages/openpyxl/worksheet/header_footer.py:48: UserWarning: Cannot parse header or footer so it will be ignored\n",
            "  warn(\"\"\"Cannot parse header or footer so it will be ignored\"\"\")\n",
            "/usr/local/lib/python3.11/dist-packages/openpyxl/worksheet/header_footer.py:48: UserWarning: Cannot parse header or footer so it will be ignored\n",
            "  warn(\"\"\"Cannot parse header or footer so it will be ignored\"\"\")\n"
          ]
        },
        {
          "output_type": "stream",
          "name": "stdout",
          "text": [
            "⚠️ Hata/Ошибка: single positional indexer is out-of-bounds\n",
            "\n",
            "🔄 İşleniyor: SP HCN-230048 to TSM-07-23-337.v1 (1).xlsx\n",
            "⚠️ Hata/Ошибка: single positional indexer is out-of-bounds\n",
            "\n",
            "🔄 İşleniyor: SP HCN-230049 to TSM-07-23-337.v3 (1).xlsx\n"
          ]
        },
        {
          "output_type": "stream",
          "name": "stderr",
          "text": [
            "/usr/local/lib/python3.11/dist-packages/openpyxl/worksheet/header_footer.py:48: UserWarning: Cannot parse header or footer so it will be ignored\n",
            "  warn(\"\"\"Cannot parse header or footer so it will be ignored\"\"\")\n",
            "/usr/local/lib/python3.11/dist-packages/openpyxl/worksheet/header_footer.py:48: UserWarning: Cannot parse header or footer so it will be ignored\n",
            "  warn(\"\"\"Cannot parse header or footer so it will be ignored\"\"\")\n",
            "/usr/local/lib/python3.11/dist-packages/openpyxl/worksheet/header_footer.py:48: UserWarning: Cannot parse header or footer so it will be ignored\n",
            "  warn(\"\"\"Cannot parse header or footer so it will be ignored\"\"\")\n",
            "/usr/local/lib/python3.11/dist-packages/openpyxl/worksheet/header_footer.py:48: UserWarning: Cannot parse header or footer so it will be ignored\n",
            "  warn(\"\"\"Cannot parse header or footer so it will be ignored\"\"\")\n",
            "/usr/local/lib/python3.11/dist-packages/openpyxl/worksheet/header_footer.py:48: UserWarning: Cannot parse header or footer so it will be ignored\n",
            "  warn(\"\"\"Cannot parse header or footer so it will be ignored\"\"\")\n",
            "/usr/local/lib/python3.11/dist-packages/openpyxl/worksheet/header_footer.py:48: UserWarning: Cannot parse header or footer so it will be ignored\n",
            "  warn(\"\"\"Cannot parse header or footer so it will be ignored\"\"\")\n"
          ]
        },
        {
          "output_type": "stream",
          "name": "stdout",
          "text": [
            "⚠️ Hata/Ошибка: single positional indexer is out-of-bounds\n",
            "\n",
            "🔄 İşleniyor: SP HCN-230050 to TSM-07-23-337 (1).xlsx\n",
            "⚠️ Hata/Ошибка: single positional indexer is out-of-bounds\n",
            "\n",
            "🔄 İşleniyor: SP HCN-230052 to TSM-07-23-337.V3 (1).xlsx\n",
            "⚠️ Hata/Ошибка: single positional indexer is out-of-bounds\n",
            "\n",
            "🔄 İşleniyor: SP HCN-230053 to TSM-07-23-337 (1).xlsx\n"
          ]
        },
        {
          "output_type": "stream",
          "name": "stderr",
          "text": [
            "/usr/local/lib/python3.11/dist-packages/openpyxl/worksheet/header_footer.py:48: UserWarning: Cannot parse header or footer so it will be ignored\n",
            "  warn(\"\"\"Cannot parse header or footer so it will be ignored\"\"\")\n",
            "/usr/local/lib/python3.11/dist-packages/openpyxl/worksheet/header_footer.py:48: UserWarning: Cannot parse header or footer so it will be ignored\n",
            "  warn(\"\"\"Cannot parse header or footer so it will be ignored\"\"\")\n",
            "/usr/local/lib/python3.11/dist-packages/openpyxl/worksheet/header_footer.py:48: UserWarning: Cannot parse header or footer so it will be ignored\n",
            "  warn(\"\"\"Cannot parse header or footer so it will be ignored\"\"\")\n",
            "/usr/local/lib/python3.11/dist-packages/openpyxl/worksheet/header_footer.py:48: UserWarning: Cannot parse header or footer so it will be ignored\n",
            "  warn(\"\"\"Cannot parse header or footer so it will be ignored\"\"\")\n",
            "/usr/local/lib/python3.11/dist-packages/openpyxl/worksheet/header_footer.py:48: UserWarning: Cannot parse header or footer so it will be ignored\n",
            "  warn(\"\"\"Cannot parse header or footer so it will be ignored\"\"\")\n",
            "/usr/local/lib/python3.11/dist-packages/openpyxl/worksheet/header_footer.py:48: UserWarning: Cannot parse header or footer so it will be ignored\n",
            "  warn(\"\"\"Cannot parse header or footer so it will be ignored\"\"\")\n"
          ]
        },
        {
          "output_type": "stream",
          "name": "stdout",
          "text": [
            "⚠️ Hata/Ошибка: single positional indexer is out-of-bounds\n",
            "\n",
            "🔄 İşleniyor: SP HCN-230059 to TSM-07-23-337 (1).xlsx\n",
            "⚠️ Hata/Ошибка: single positional indexer is out-of-bounds\n",
            "\n",
            "🔄 İşleniyor: SP HCN-230065 to TSM-07-23-337.2 (1).xlsx\n",
            "⚠️ Hata/Ошибка: single positional indexer is out-of-bounds\n",
            "\n",
            "🔄 İşleniyor: SP HCN-230066 to TSM-07-23-337.v3 (1).xlsx\n"
          ]
        },
        {
          "output_type": "stream",
          "name": "stderr",
          "text": [
            "/usr/local/lib/python3.11/dist-packages/openpyxl/worksheet/header_footer.py:48: UserWarning: Cannot parse header or footer so it will be ignored\n",
            "  warn(\"\"\"Cannot parse header or footer so it will be ignored\"\"\")\n",
            "/usr/local/lib/python3.11/dist-packages/openpyxl/worksheet/header_footer.py:48: UserWarning: Cannot parse header or footer so it will be ignored\n",
            "  warn(\"\"\"Cannot parse header or footer so it will be ignored\"\"\")\n",
            "/usr/local/lib/python3.11/dist-packages/openpyxl/worksheet/header_footer.py:48: UserWarning: Cannot parse header or footer so it will be ignored\n",
            "  warn(\"\"\"Cannot parse header or footer so it will be ignored\"\"\")\n",
            "/usr/local/lib/python3.11/dist-packages/openpyxl/worksheet/header_footer.py:48: UserWarning: Cannot parse header or footer so it will be ignored\n",
            "  warn(\"\"\"Cannot parse header or footer so it will be ignored\"\"\")\n",
            "/usr/local/lib/python3.11/dist-packages/openpyxl/worksheet/header_footer.py:48: UserWarning: Cannot parse header or footer so it will be ignored\n",
            "  warn(\"\"\"Cannot parse header or footer so it will be ignored\"\"\")\n",
            "/usr/local/lib/python3.11/dist-packages/openpyxl/worksheet/header_footer.py:48: UserWarning: Cannot parse header or footer so it will be ignored\n",
            "  warn(\"\"\"Cannot parse header or footer so it will be ignored\"\"\")\n"
          ]
        },
        {
          "output_type": "stream",
          "name": "stdout",
          "text": [
            "⚠️ Hata/Ошибка: single positional indexer is out-of-bounds\n",
            "\n",
            "🔄 İşleniyor: SP HCN-230070 to TSM-07-23-337 (1).xlsx\n",
            "⚠️ Hata/Ошибка: single positional indexer is out-of-bounds\n",
            "\n",
            "🔄 İşleniyor: SP HCN-230074 to TSM-07-23-337.v3 (1).xlsx\n",
            "⚠️ Hata/Ошибка: single positional indexer is out-of-bounds\n",
            "\n",
            "🔄 İşleniyor: SP HCN-230075 to TSM-07-23-337 (1).xlsx\n"
          ]
        },
        {
          "output_type": "stream",
          "name": "stderr",
          "text": [
            "/usr/local/lib/python3.11/dist-packages/openpyxl/worksheet/header_footer.py:48: UserWarning: Cannot parse header or footer so it will be ignored\n",
            "  warn(\"\"\"Cannot parse header or footer so it will be ignored\"\"\")\n",
            "/usr/local/lib/python3.11/dist-packages/openpyxl/worksheet/header_footer.py:48: UserWarning: Cannot parse header or footer so it will be ignored\n",
            "  warn(\"\"\"Cannot parse header or footer so it will be ignored\"\"\")\n",
            "/usr/local/lib/python3.11/dist-packages/openpyxl/worksheet/header_footer.py:48: UserWarning: Cannot parse header or footer so it will be ignored\n",
            "  warn(\"\"\"Cannot parse header or footer so it will be ignored\"\"\")\n",
            "/usr/local/lib/python3.11/dist-packages/openpyxl/worksheet/header_footer.py:48: UserWarning: Cannot parse header or footer so it will be ignored\n",
            "  warn(\"\"\"Cannot parse header or footer so it will be ignored\"\"\")\n"
          ]
        },
        {
          "output_type": "stream",
          "name": "stdout",
          "text": [
            "⚠️ Hata/Ошибка: single positional indexer is out-of-bounds\n",
            "\n",
            "🔄 İşleniyor: SP HCN-230082 to TSM-07-23-337.v1 (1).xlsx\n",
            "⚠️ Hata/Ошибка: single positional indexer is out-of-bounds\n",
            "\n",
            "🔄 İşleniyor: SP HM-30009 to TSM-07-23-337 (1).xlsx\n",
            "✅ cleaned_SP HM-30009 to TSM-07-23-337 (1).xlsx oluşturuldu./был создан.\n",
            "\n",
            "🔄 İşleniyor: SP HM-30010 (1).xlsx\n",
            "✅ cleaned_SP HM-30010 (1).xlsx oluşturuldu./был создан.\n",
            "\n",
            "🔄 İşleniyor: SP HM-30014 to TSM-07-23-337 (1).xlsx\n"
          ]
        },
        {
          "output_type": "stream",
          "name": "stderr",
          "text": [
            "/usr/local/lib/python3.11/dist-packages/openpyxl/worksheet/header_footer.py:48: UserWarning: Cannot parse header or footer so it will be ignored\n",
            "  warn(\"\"\"Cannot parse header or footer so it will be ignored\"\"\")\n",
            "/usr/local/lib/python3.11/dist-packages/openpyxl/worksheet/header_footer.py:48: UserWarning: Cannot parse header or footer so it will be ignored\n",
            "  warn(\"\"\"Cannot parse header or footer so it will be ignored\"\"\")\n",
            "/usr/local/lib/python3.11/dist-packages/openpyxl/worksheet/header_footer.py:48: UserWarning: Cannot parse header or footer so it will be ignored\n",
            "  warn(\"\"\"Cannot parse header or footer so it will be ignored\"\"\")\n",
            "/usr/local/lib/python3.11/dist-packages/openpyxl/worksheet/header_footer.py:48: UserWarning: Cannot parse header or footer so it will be ignored\n",
            "  warn(\"\"\"Cannot parse header or footer so it will be ignored\"\"\")\n"
          ]
        },
        {
          "output_type": "stream",
          "name": "stdout",
          "text": [
            "✅ cleaned_SP HM-30014 to TSM-07-23-337 (1).xlsx oluşturuldu./был создан.\n",
            "\n",
            "🔄 İşleniyor: SP HM-30015 to TSM-07-23-337 (1).xlsx\n",
            "✅ cleaned_SP HM-30015 to TSM-07-23-337 (1).xlsx oluşturuldu./был создан.\n",
            "\n",
            "🔄 İşleniyor: SP HM-30016 от 25.07.2023 (1).xlsx\n"
          ]
        },
        {
          "output_type": "stream",
          "name": "stderr",
          "text": [
            "/usr/local/lib/python3.11/dist-packages/openpyxl/worksheet/header_footer.py:48: UserWarning: Cannot parse header or footer so it will be ignored\n",
            "  warn(\"\"\"Cannot parse header or footer so it will be ignored\"\"\")\n",
            "/usr/local/lib/python3.11/dist-packages/openpyxl/worksheet/header_footer.py:48: UserWarning: Cannot parse header or footer so it will be ignored\n",
            "  warn(\"\"\"Cannot parse header or footer so it will be ignored\"\"\")\n",
            "/usr/local/lib/python3.11/dist-packages/openpyxl/worksheet/header_footer.py:48: UserWarning: Cannot parse header or footer so it will be ignored\n",
            "  warn(\"\"\"Cannot parse header or footer so it will be ignored\"\"\")\n",
            "/usr/local/lib/python3.11/dist-packages/openpyxl/worksheet/header_footer.py:48: UserWarning: Cannot parse header or footer so it will be ignored\n",
            "  warn(\"\"\"Cannot parse header or footer so it will be ignored\"\"\")\n",
            "/usr/local/lib/python3.11/dist-packages/openpyxl/worksheet/header_footer.py:48: UserWarning: Cannot parse header or footer so it will be ignored\n",
            "  warn(\"\"\"Cannot parse header or footer so it will be ignored\"\"\")\n",
            "/usr/local/lib/python3.11/dist-packages/openpyxl/worksheet/header_footer.py:48: UserWarning: Cannot parse header or footer so it will be ignored\n",
            "  warn(\"\"\"Cannot parse header or footer so it will be ignored\"\"\")\n"
          ]
        },
        {
          "output_type": "stream",
          "name": "stdout",
          "text": [
            "✅ cleaned_SP HM-30016 от 25.07.2023 (1).xlsx oluşturuldu./был создан.\n",
            "\n",
            "🔄 İşleniyor: SP HM-30017  to TSM-07-23-337 (1).xlsx\n",
            "✅ cleaned_SP HM-30017  to TSM-07-23-337 (1).xlsx oluşturuldu./был создан.\n",
            "⚠️ Hata/Ошибка: Reindexing only valid with uniquely valued Index objects\n",
            "\n",
            "🔄 İşleniyor: SP HM-30027 (1).xlsx\n",
            "✅ cleaned_SP HM-30027 (1).xlsx oluşturuldu./был создан.\n",
            "\n",
            "🔄 İşleniyor: SP № HM-30012 от 23.05.2023.xlsx\n",
            "✅ cleaned_SP № HM-30012 от 23.05.2023.xlsx oluşturuldu./был создан.\n",
            "\n",
            "🔄 İşleniyor: Копия HM-30024 новая (1).xlsx\n"
          ]
        },
        {
          "output_type": "stream",
          "name": "stderr",
          "text": [
            "/usr/local/lib/python3.11/dist-packages/openpyxl/worksheet/header_footer.py:48: UserWarning: Cannot parse header or footer so it will be ignored\n",
            "  warn(\"\"\"Cannot parse header or footer so it will be ignored\"\"\")\n",
            "/usr/local/lib/python3.11/dist-packages/openpyxl/worksheet/header_footer.py:48: UserWarning: Cannot parse header or footer so it will be ignored\n",
            "  warn(\"\"\"Cannot parse header or footer so it will be ignored\"\"\")\n",
            "/usr/local/lib/python3.11/dist-packages/openpyxl/worksheet/header_footer.py:48: UserWarning: Cannot parse header or footer so it will be ignored\n",
            "  warn(\"\"\"Cannot parse header or footer so it will be ignored\"\"\")\n",
            "/usr/local/lib/python3.11/dist-packages/openpyxl/worksheet/header_footer.py:48: UserWarning: Cannot parse header or footer so it will be ignored\n",
            "  warn(\"\"\"Cannot parse header or footer so it will be ignored\"\"\")\n"
          ]
        },
        {
          "output_type": "stream",
          "name": "stdout",
          "text": [
            "✅ cleaned_Копия HM-30024 новая (1).xlsx oluşturuldu./был создан.\n",
            "\n",
            "🔄 İşleniyor: Спецификация HC-10002 (1).xlsx\n",
            "⚠️ Hata/Ошибка: single positional indexer is out-of-bounds\n",
            "\n",
            "🔄 İşleniyor: Спецификация HC-10008 ВЕРНО (1).xlsx\n",
            "⚠️ Hata/Ошибка: single positional indexer is out-of-bounds\n",
            "\n",
            "🔄 İşleniyor: Спецификация HC-10014 (1).xlsx\n",
            "⚠️ Hata/Ошибка: single positional indexer is out-of-bounds\n",
            "\n",
            "🔄 İşleniyor: Спецификация -HCN-230015 (1).xlsx\n",
            "⚠️ Hata/Ошибка: single positional indexer is out-of-bounds\n",
            "\n",
            "🔄 İşleniyor: Спецификация № HM-30003 (1).xlsx\n",
            "✅ cleaned_Спецификация № HM-30003 (1).xlsx oluşturuldu./был создан.\n",
            "\n",
            "🔄 İşleniyor: Спецификация-HCN-230002 (1).xlsx\n",
            "⚠️ Hata/Ошибка: single positional indexer is out-of-bounds\n",
            "\n",
            "🔄 İşleniyor: Спецификация-HCN-230003 (1).xlsx\n",
            "⚠️ Hata/Ошибка: single positional indexer is out-of-bounds\n",
            "\n",
            "🔄 İşleniyor: Спецификация-HCN-230005_09-03-2023 (1).xlsx\n",
            "⚠️ Hata/Ошибка: single positional indexer is out-of-bounds\n",
            "\n",
            "🔄 İşleniyor: Спецификация-HCN-230006_09-03-2023 (1).xlsx\n",
            "⚠️ Hata/Ошибка: single positional indexer is out-of-bounds\n",
            "\n",
            "🔄 İşleniyor: Спецификация-HCN-230007_10-03-2023 (1).xlsx\n",
            "⚠️ Hata/Ошибка: single positional indexer is out-of-bounds\n",
            "\n",
            "🔄 İşleniyor: Спецификация-HCN-230008 (1).xlsx\n",
            "⚠️ Hata/Ошибка: single positional indexer is out-of-bounds\n",
            "\n",
            "🔄 İşleniyor: Спецификация-HCN-230010.xlsx\n",
            "⚠️ Hata/Ошибка: single positional indexer is out-of-bounds\n",
            "\n",
            "🔄 İşleniyor: Спецификация-HCN-230011.xlsx\n",
            "⚠️ Hata/Ошибка: single positional indexer is out-of-bounds\n",
            "\n",
            "🔄 İşleniyor: Спецификация-HCN-230012_v1.xlsx\n",
            "⚠️ Hata/Ошибка: single positional indexer is out-of-bounds\n",
            "\n",
            "🔄 İşleniyor: Спецификация-HCN-230013 (2).xlsx\n",
            "⚠️ Hata/Ошибка: single positional indexer is out-of-bounds\n",
            "\n",
            "🔄 İşleniyor: Спецификация-HCN-230014_v2.xlsx\n",
            "⚠️ Hata/Ошибка: single positional indexer is out-of-bounds\n",
            "\n",
            "🔄 İşleniyor: Спецификация-HCN-230016.xlsx\n",
            "⚠️ Hata/Ошибка: single positional indexer is out-of-bounds\n",
            "\n",
            "🔄 İşleniyor: Спецификация-HCN-230017_v1 (1).xlsx\n",
            "⚠️ Hata/Ошибка: single positional indexer is out-of-bounds\n",
            "\n",
            "🔄 İşleniyor: Спецификация-HCN-230018_L1 (1).xlsx\n",
            "⚠️ Hata/Ошибка: single positional indexer is out-of-bounds\n",
            "\n",
            "🔄 İşleniyor: Спецификация-HCN-230019 (1).xlsx\n",
            "⚠️ Hata/Ошибка: single positional indexer is out-of-bounds\n",
            "\n",
            "🔄 İşleniyor: Спецификация-HCN-230020 (1).xlsx\n",
            "⚠️ Hata/Ошибка: single positional indexer is out-of-bounds\n",
            "\n",
            "🔄 İşleniyor: Спецификация-HCN-230021 (1).xlsx\n",
            "⚠️ Hata/Ошибка: single positional indexer is out-of-bounds\n",
            "\n",
            "🔄 İşleniyor: Спецификация-HCN-230022 (1).xlsx\n",
            "⚠️ Hata/Ошибка: single positional indexer is out-of-bounds\n",
            "\n",
            "🔄 İşleniyor: Спецификация-HCN-230023_V2 (1).xlsx\n",
            "⚠️ Hata/Ошибка: single positional indexer is out-of-bounds\n",
            "\n",
            "🔄 İşleniyor: Спецификация-HCN-230024 Не проект (1).xlsx\n",
            "⚠️ Hata/Ошибка: single positional indexer is out-of-bounds\n",
            "\n",
            "🔄 İşleniyor: Спецификация-HCN-230025 (1).xlsx\n",
            "⚠️ Hata/Ошибка: single positional indexer is out-of-bounds\n",
            "\n",
            "🔄 İşleniyor: Спецификация-HCN-230026-Не проект (1).xlsx\n",
            "⚠️ Hata/Ошибка: single positional indexer is out-of-bounds\n",
            "\n",
            "🔄 İşleniyor: Спецификация-HCN-230033-Проект (1).xlsx\n"
          ]
        },
        {
          "output_type": "stream",
          "name": "stderr",
          "text": [
            "/usr/local/lib/python3.11/dist-packages/openpyxl/worksheet/header_footer.py:48: UserWarning: Cannot parse header or footer so it will be ignored\n",
            "  warn(\"\"\"Cannot parse header or footer so it will be ignored\"\"\")\n",
            "/usr/local/lib/python3.11/dist-packages/openpyxl/worksheet/header_footer.py:48: UserWarning: Cannot parse header or footer so it will be ignored\n",
            "  warn(\"\"\"Cannot parse header or footer so it will be ignored\"\"\")\n",
            "/usr/local/lib/python3.11/dist-packages/openpyxl/worksheet/header_footer.py:48: UserWarning: Cannot parse header or footer so it will be ignored\n",
            "  warn(\"\"\"Cannot parse header or footer so it will be ignored\"\"\")\n",
            "/usr/local/lib/python3.11/dist-packages/openpyxl/worksheet/header_footer.py:48: UserWarning: Cannot parse header or footer so it will be ignored\n",
            "  warn(\"\"\"Cannot parse header or footer so it will be ignored\"\"\")\n",
            "/usr/local/lib/python3.11/dist-packages/openpyxl/worksheet/header_footer.py:48: UserWarning: Cannot parse header or footer so it will be ignored\n",
            "  warn(\"\"\"Cannot parse header or footer so it will be ignored\"\"\")\n",
            "/usr/local/lib/python3.11/dist-packages/openpyxl/worksheet/header_footer.py:48: UserWarning: Cannot parse header or footer so it will be ignored\n",
            "  warn(\"\"\"Cannot parse header or footer so it will be ignored\"\"\")\n"
          ]
        },
        {
          "output_type": "stream",
          "name": "stdout",
          "text": [
            "⚠️ Hata/Ошибка: single positional indexer is out-of-bounds\n",
            "\n",
            "🔄 İşleniyor: Спецификация-HCN-230034 (1).xlsx\n",
            "⚠️ Hata/Ошибка: single positional indexer is out-of-bounds\n",
            "\n",
            "🔄 İşleniyor: Спецификация-HCN-230035 (1).xlsx\n",
            "⚠️ Hata/Ошибка: single positional indexer is out-of-bounds\n",
            "\n",
            "🔄 İşleniyor: Спецификация-HCN-230036.v1 (1).xlsx\n"
          ]
        },
        {
          "output_type": "stream",
          "name": "stderr",
          "text": [
            "/usr/local/lib/python3.11/dist-packages/openpyxl/worksheet/header_footer.py:48: UserWarning: Cannot parse header or footer so it will be ignored\n",
            "  warn(\"\"\"Cannot parse header or footer so it will be ignored\"\"\")\n",
            "/usr/local/lib/python3.11/dist-packages/openpyxl/worksheet/header_footer.py:48: UserWarning: Cannot parse header or footer so it will be ignored\n",
            "  warn(\"\"\"Cannot parse header or footer so it will be ignored\"\"\")\n",
            "/usr/local/lib/python3.11/dist-packages/openpyxl/worksheet/header_footer.py:48: UserWarning: Cannot parse header or footer so it will be ignored\n",
            "  warn(\"\"\"Cannot parse header or footer so it will be ignored\"\"\")\n",
            "/usr/local/lib/python3.11/dist-packages/openpyxl/worksheet/header_footer.py:48: UserWarning: Cannot parse header or footer so it will be ignored\n",
            "  warn(\"\"\"Cannot parse header or footer so it will be ignored\"\"\")\n",
            "/usr/local/lib/python3.11/dist-packages/openpyxl/worksheet/header_footer.py:48: UserWarning: Cannot parse header or footer so it will be ignored\n",
            "  warn(\"\"\"Cannot parse header or footer so it will be ignored\"\"\")\n",
            "/usr/local/lib/python3.11/dist-packages/openpyxl/worksheet/header_footer.py:48: UserWarning: Cannot parse header or footer so it will be ignored\n",
            "  warn(\"\"\"Cannot parse header or footer so it will be ignored\"\"\")\n"
          ]
        },
        {
          "output_type": "stream",
          "name": "stdout",
          "text": [
            "⚠️ Hata/Ошибка: single positional indexer is out-of-bounds\n",
            "\n",
            "🔄 İşleniyor: Спецификация-HCN-20230004_v3 (1).xlsx\n",
            "⚠️ Hata/Ошибка: single positional indexer is out-of-bounds\n",
            "\n",
            "🔄 İşleniyor: ъ_old_rev_HMС-30082 от 21.04.2025 (1).xlsx\n",
            "✅ cleaned_ъ_old_rev_HMС-30082 от 21.04.2025 (1).xlsx oluşturuldu./был создан.\n"
          ]
        },
        {
          "output_type": "stream",
          "name": "stderr",
          "text": [
            "/usr/local/lib/python3.11/dist-packages/openpyxl/worksheet/header_footer.py:48: UserWarning: Cannot parse header or footer so it will be ignored\n",
            "  warn(\"\"\"Cannot parse header or footer so it will be ignored\"\"\")\n",
            "/usr/local/lib/python3.11/dist-packages/openpyxl/worksheet/header_footer.py:48: UserWarning: Cannot parse header or footer so it will be ignored\n",
            "  warn(\"\"\"Cannot parse header or footer so it will be ignored\"\"\")\n"
          ]
        }
      ]
    },
    {
      "cell_type": "code",
      "source": [
        "# Tüm verileri kaydet\n",
        "master_out = \"merged_all_cleaned.xlsx\"\n",
        "master_df.to_excel(master_out, index=False)\n",
        "print(f\"\\n📁 Tüm veriler {master_out} dosyasında toplandı.\")\n",
        "files.download(master_out)"
      ],
      "metadata": {
        "id": "XSpofjIlO8n6",
        "outputId": "67425694-2667-4639-c2ba-d7ab77d755ab",
        "colab": {
          "base_uri": "https://localhost:8080/",
          "height": 52
        }
      },
      "execution_count": null,
      "outputs": [
        {
          "output_type": "stream",
          "name": "stdout",
          "text": [
            "\n",
            "📁 Tüm veriler merged_all_cleaned.xlsx dosyasında toplandı.\n"
          ]
        },
        {
          "output_type": "display_data",
          "data": {
            "text/plain": [
              "<IPython.core.display.Javascript object>"
            ],
            "application/javascript": [
              "\n",
              "    async function download(id, filename, size) {\n",
              "      if (!google.colab.kernel.accessAllowed) {\n",
              "        return;\n",
              "      }\n",
              "      const div = document.createElement('div');\n",
              "      const label = document.createElement('label');\n",
              "      label.textContent = `Downloading \"${filename}\": `;\n",
              "      div.appendChild(label);\n",
              "      const progress = document.createElement('progress');\n",
              "      progress.max = size;\n",
              "      div.appendChild(progress);\n",
              "      document.body.appendChild(div);\n",
              "\n",
              "      const buffers = [];\n",
              "      let downloaded = 0;\n",
              "\n",
              "      const channel = await google.colab.kernel.comms.open(id);\n",
              "      // Send a message to notify the kernel that we're ready.\n",
              "      channel.send({})\n",
              "\n",
              "      for await (const message of channel.messages) {\n",
              "        // Send a message to notify the kernel that we're ready.\n",
              "        channel.send({})\n",
              "        if (message.buffers) {\n",
              "          for (const buffer of message.buffers) {\n",
              "            buffers.push(buffer);\n",
              "            downloaded += buffer.byteLength;\n",
              "            progress.value = downloaded;\n",
              "          }\n",
              "        }\n",
              "      }\n",
              "      const blob = new Blob(buffers, {type: 'application/binary'});\n",
              "      const a = document.createElement('a');\n",
              "      a.href = window.URL.createObjectURL(blob);\n",
              "      a.download = filename;\n",
              "      div.appendChild(a);\n",
              "      a.click();\n",
              "      div.remove();\n",
              "    }\n",
              "  "
            ]
          },
          "metadata": {}
        },
        {
          "output_type": "display_data",
          "data": {
            "text/plain": [
              "<IPython.core.display.Javascript object>"
            ],
            "application/javascript": [
              "download(\"download_5c2b4ee7-4621-40c3-987a-6d5c3465fc87\", \"merged_all_cleaned.xlsx\", 919681)"
            ]
          },
          "metadata": {}
        }
      ]
    },
    {
      "cell_type": "code",
      "source": [
        "# Rapor dosyasını oluştur\n",
        "rapor_df = pd.DataFrame(rapor_kayitlari)\n",
        "rapor_out = \"rapor_durum.xlsx\"\n",
        "rapor_df.to_excel(rapor_out, index=False)\n",
        "print(f\"📋 Rapor {rapor_out} dosyasına kaydedildi.\")\n",
        "files.download(rapor_out)"
      ],
      "metadata": {
        "id": "FmBaH348PBSj",
        "outputId": "59c53ab9-0fc2-4af2-da4a-ca5cb1a9233a",
        "colab": {
          "base_uri": "https://localhost:8080/",
          "height": 34
        }
      },
      "execution_count": null,
      "outputs": [
        {
          "output_type": "stream",
          "name": "stdout",
          "text": [
            "📋 Rapor rapor_durum.xlsx dosyasına kaydedildi.\n"
          ]
        },
        {
          "output_type": "display_data",
          "data": {
            "text/plain": [
              "<IPython.core.display.Javascript object>"
            ],
            "application/javascript": [
              "\n",
              "    async function download(id, filename, size) {\n",
              "      if (!google.colab.kernel.accessAllowed) {\n",
              "        return;\n",
              "      }\n",
              "      const div = document.createElement('div');\n",
              "      const label = document.createElement('label');\n",
              "      label.textContent = `Downloading \"${filename}\": `;\n",
              "      div.appendChild(label);\n",
              "      const progress = document.createElement('progress');\n",
              "      progress.max = size;\n",
              "      div.appendChild(progress);\n",
              "      document.body.appendChild(div);\n",
              "\n",
              "      const buffers = [];\n",
              "      let downloaded = 0;\n",
              "\n",
              "      const channel = await google.colab.kernel.comms.open(id);\n",
              "      // Send a message to notify the kernel that we're ready.\n",
              "      channel.send({})\n",
              "\n",
              "      for await (const message of channel.messages) {\n",
              "        // Send a message to notify the kernel that we're ready.\n",
              "        channel.send({})\n",
              "        if (message.buffers) {\n",
              "          for (const buffer of message.buffers) {\n",
              "            buffers.push(buffer);\n",
              "            downloaded += buffer.byteLength;\n",
              "            progress.value = downloaded;\n",
              "          }\n",
              "        }\n",
              "      }\n",
              "      const blob = new Blob(buffers, {type: 'application/binary'});\n",
              "      const a = document.createElement('a');\n",
              "      a.href = window.URL.createObjectURL(blob);\n",
              "      a.download = filename;\n",
              "      div.appendChild(a);\n",
              "      a.click();\n",
              "      div.remove();\n",
              "    }\n",
              "  "
            ]
          },
          "metadata": {}
        },
        {
          "output_type": "display_data",
          "data": {
            "text/plain": [
              "<IPython.core.display.Javascript object>"
            ],
            "application/javascript": [
              "download(\"download_9545f162-2449-4775-9c26-d2a4fdc7e108\", \"rapor_durum.xlsx\", 36697)"
            ]
          },
          "metadata": {}
        }
      ]
    },
    {
      "cell_type": "code",
      "source": [
        "for file in os.listdir():\n",
        "    if file.startswith(\"structured_\") and file.endswith(\".xlsx\"):\n",
        "        print(f\"İndiriliyor/Загрузка: {file}\")\n",
        "        files.download(file)"
      ],
      "metadata": {
        "id": "n-j5KQHDLjla"
      },
      "execution_count": null,
      "outputs": []
    }
  ],
  "metadata": {
    "colab": {
      "name": "Welcome To Colab",
      "provenance": [],
      "include_colab_link": true
    },
    "kernelspec": {
      "display_name": "Python 3",
      "name": "python3"
    }
  },
  "nbformat": 4,
  "nbformat_minor": 0
}