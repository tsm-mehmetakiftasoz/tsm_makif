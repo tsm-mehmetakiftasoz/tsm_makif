{
  "cells": [
    {
      "cell_type": "markdown",
      "metadata": {
        "id": "view-in-github",
        "colab_type": "text"
      },
      "source": [
        "<a href=\"https://colab.research.google.com/github/tsm-mehmetakiftasoz/tsm_makif/blob/main/%D0%B3%D0%BE%D1%82%D0%BE%D0%B2%D0%BE_ME5A_%D0%A1%D0%BB%D0%B8%D1%8F%D0%BD%D0%B8%D0%B5.ipynb\" target=\"_parent\"><img src=\"https://colab.research.google.com/assets/colab-badge.svg\" alt=\"Open In Colab\"/></a>"
      ]
    },
    {
      "cell_type": "markdown",
      "source": [
        "ME5A RAPORLARINI BİRLEŞTİRMEK İÇİN OLUŞTURULDU . SAPDAN YILLARA GÖRE ME5A RAPORLARI ÇEKİP DEVAM EDİLEBİLİR. SAPDAN RAPORLARI ÇEKERKEN MAKIF3 VARYANT AYARLARINDA ÇEK YOKSA BİRLEŞTİRİRKEN ÇÖKER ayrıca buraya aktarmadan önce excelleri csv formatında kaydet. dosya isimleri aşağıdaki gibi olmalı ve solda gördüğün yere kaydedilmeli /content/...\n",
        "СОЗДАН ДЛЯ ОБЪЕДИНЕНИЯ ОТЧЕТОВ ME5A. ОТЧЕТЫ ME5A МОЖНО ПОЛУЧАТЬ ИЗ SAP ПО ГОДУ И ПРОДОЛЖАТЬ. ПРИ ПОЛУЧЕНИИ ОТЧЕТОВ ИЗ SAP ПРОВЕРЬТЕ НАСТРОЙКИ ВАРИАНТА MAKIF3, ИНАЧЕ ПРОИЗОЙДЕТ СБОЙ ПРИ ОБЪЕДИНЕНИИ. Также сохраните файлы Excel в формате CSV перед тем, как переносить их сюда. Имена файлов должны быть следующими, и их следует сохранять в местоположении, которое вы видите слева.\n",
        "ME5A_2022.csv\n",
        "ME5A_2023.csv\n",
        "ME5A_2024.csv\n",
        "ME5A_2025.csv"
      ],
      "metadata": {
        "id": "X3NsiFbJmQ6k"
      }
    },
    {
      "cell_type": "code",
      "source": [
        "import pandas as pd\n",
        "import numpy as np\n",
        "from google.colab import files"
      ],
      "metadata": {
        "id": "Z-CZsbNjmP9c"
      },
      "execution_count": null,
      "outputs": []
    },
    {
      "cell_type": "code",
      "source": [
        "df_me5a_2022 = pd.read_csv('/content/ME5A_2022.csv', sep=None, engine='python')\n",
        "df_me5a_2023 = pd.read_csv('/content/ME5A_2023.csv', sep=None, engine='python')\n",
        "df_me5a_2024 = pd.read_csv('/content/ME5A_2024.csv', sep=None, engine='python')\n",
        "df_me5a_2025 = pd.read_csv('/content/ME5A_2022.csv', sep=None, engine='python')\n",
        "# sep=None will automatically detect the delimiter\n",
        "# engine='python' is slower but more robust for complex cases\n"
      ],
      "metadata": {
        "id": "OFAfl2NEmuQN"
      },
      "execution_count": null,
      "outputs": []
    },
    {
      "cell_type": "code",
      "source": [
        "#ilk sutuna yıl yazdırma\n",
        "df_me5a_2022[\"ГОД\"] = \"2022\"\n",
        "cols = [\"ГОД\"] + [col for col in df_me5a_2022.columns if col != \"ГОД\"]\n",
        "df_me5a_2022 = df_me5a_2022[cols]\n",
        "#\n",
        "df_me5a_2023[\"ГОД\"] = \"2023\"\n",
        "cols = [\"ГОД\"] + [col for col in df_me5a_2023.columns if col != \"ГОД\"]\n",
        "df_me5a_2023 = df_me5a_2023[cols]\n",
        "#\n",
        "df_me5a_2024[\"ГОД\"] = \"2024\"\n",
        "cols = [\"ГОД\"] + [col for col in df_me5a_2024.columns if col != \"ГОД\"]\n",
        "df_me5a_2024 = df_me5a_2024[cols]\n",
        "#\n",
        "df_me5a_2025[\"ГОД\"] = \"2025\"\n",
        "cols = [\"ГОД\"] + [col for col in df_me5a_2025.columns if col != \"ГОД\"]\n",
        "df_me5a_2025 = df_me5a_2025[cols]"
      ],
      "metadata": {
        "id": "5s5qMAVmmxAu"
      },
      "execution_count": null,
      "outputs": []
    },
    {
      "cell_type": "code",
      "source": [
        "df_listesi = [df_me5a_2022, df_me5a_2023, df_me5a_2024,df_me5a_2025]"
      ],
      "metadata": {
        "id": "m0iFkMJVmyre"
      },
      "execution_count": null,
      "outputs": []
    },
    {
      "cell_type": "code",
      "source": [
        "birlesik_df = pd.concat(df_listesi, ignore_index=True)\n"
      ],
      "metadata": {
        "id": "PGtscVWHmz0W"
      },
      "execution_count": null,
      "outputs": []
    },
    {
      "cell_type": "code",
      "source": [
        "birlesik_df.head()"
      ],
      "metadata": {
        "id": "ewdctOt6m0-2"
      },
      "execution_count": null,
      "outputs": []
    },
    {
      "cell_type": "code",
      "source": [
        "len(birlesik_df)"
      ],
      "metadata": {
        "id": "2eMGtJGhm2yO"
      },
      "execution_count": null,
      "outputs": []
    },
    {
      "cell_type": "code",
      "source": [
        "birlesik_df.to_excel(\"me5a_2022_2025.xlsx\", index=False)"
      ],
      "metadata": {
        "id": "DbZ-72gum32W"
      },
      "execution_count": null,
      "outputs": []
    },
    {
      "cell_type": "code",
      "source": [
        "files.download(\"me5a_2022_2025.xlsx\")"
      ],
      "metadata": {
        "id": "_YS14OPZm5dG"
      },
      "execution_count": null,
      "outputs": []
    },
    {
      "cell_type": "markdown",
      "source": [
        "\n",
        "Eğer csv kaydetmek istersen aşağıdaki kodları yorumdan çıkart\n",
        "Если вы хотите сохранить как CSV, закомментируйте коды ниже."
      ],
      "metadata": {
        "id": "CzNIzkXIm6r2"
      }
    },
    {
      "cell_type": "code",
      "source": [
        "#birlesik_df.to_csv(\"me5a_2022_2025.csv\", index=False)"
      ],
      "metadata": {
        "id": "4tR20gdKm-jG"
      },
      "execution_count": null,
      "outputs": []
    },
    {
      "cell_type": "code",
      "source": [
        "#files.download(\"me5a_2022_2025.csv\")"
      ],
      "metadata": {
        "id": "yeXoXtc_nBwn"
      },
      "execution_count": null,
      "outputs": []
    }
  ],
  "metadata": {
    "colab": {
      "name": "Welcome To Colab",
      "provenance": [],
      "include_colab_link": true
    },
    "kernelspec": {
      "display_name": "Python 3",
      "name": "python3"
    }
  },
  "nbformat": 4,
  "nbformat_minor": 0
}