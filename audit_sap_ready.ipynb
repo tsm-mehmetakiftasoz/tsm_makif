{
  "cells": [
    {
      "cell_type": "markdown",
      "metadata": {
        "id": "view-in-github",
        "colab_type": "text"
      },
      "source": [
        "<a href=\"https://colab.research.google.com/github/tsm-mehmetakiftasoz/tsm_makif/blob/main/audit_sap_ready.ipynb\" target=\"_parent\"><img src=\"https://colab.research.google.com/assets/colab-badge.svg\" alt=\"Open In Colab\"/></a>"
      ]
    },
    {
      "cell_type": "markdown",
      "source": [
        "ME2N Raporları yıllara göre (ME2N_2022,ME2N_2023,ME2N_2024,ME2N_2025) şeklinde alınmalı .Variant MAKIF rapor olmalı\n",
        "ME5A Raporları yıllara göre (ME5A_2022,ME5A_2023,ME5A_2024,ME5A_2025). Variant MAKIF rapor olmalı\n",
        "MM60 material_list bilgileri makif_report variantında alınmalı\n",
        "ZMM059 raporları yıllara göre alınmalı ancak 2024 de çok fazla veri olduğu için 2024 4 parçaya bölünmeli isimler ve tarihler şöyle olmalı\n",
        "\"ZMM059 2022\" 01.01.2022-31.12.2022\n",
        "\"ZMM059 2023\" 01.01.2023-31.12.2023\n"
      ],
      "metadata": {
        "id": "Xgh-iCOtlWAW"
      }
    },
    {
      "cell_type": "code",
      "source": [
        "!pip install pandas\n",
        "!pip install xlsxwriter"
      ],
      "metadata": {
        "colab": {
          "base_uri": "https://localhost:8080/"
        },
        "id": "beq5UMfF9Ve9",
        "outputId": "066eeb14-3137-409a-e3dd-6f8684a50ee7"
      },
      "execution_count": 36,
      "outputs": [
        {
          "output_type": "stream",
          "name": "stdout",
          "text": [
            "Requirement already satisfied: pandas in /usr/local/lib/python3.11/dist-packages (2.2.2)\n",
            "Requirement already satisfied: numpy>=1.23.2 in /usr/local/lib/python3.11/dist-packages (from pandas) (2.0.2)\n",
            "Requirement already satisfied: python-dateutil>=2.8.2 in /usr/local/lib/python3.11/dist-packages (from pandas) (2.9.0.post0)\n",
            "Requirement already satisfied: pytz>=2020.1 in /usr/local/lib/python3.11/dist-packages (from pandas) (2025.2)\n",
            "Requirement already satisfied: tzdata>=2022.7 in /usr/local/lib/python3.11/dist-packages (from pandas) (2025.2)\n",
            "Requirement already satisfied: six>=1.5 in /usr/local/lib/python3.11/dist-packages (from python-dateutil>=2.8.2->pandas) (1.17.0)\n",
            "Requirement already satisfied: xlsxwriter in /usr/local/lib/python3.11/dist-packages (3.2.3)\n"
          ]
        }
      ]
    },
    {
      "cell_type": "code",
      "source": [
        "import pandas as pd\n",
        "import numpy as np\n",
        "from google.colab import files"
      ],
      "metadata": {
        "id": "8v4T7G2Z9bvr"
      },
      "execution_count": 37,
      "outputs": []
    },
    {
      "cell_type": "code",
      "source": [
        "def temizle_ve_cevir(x):\n",
        "    try:\n",
        "        return str(int(float(x)))\n",
        "    except:\n",
        "        return str(x)\n"
      ],
      "metadata": {
        "id": "9O2SlTgQGRuz"
      },
      "execution_count": 38,
      "outputs": []
    },
    {
      "cell_type": "code",
      "source": [
        "#ZMM059 Dosyalarını yüklemek\n",
        "df_zmm059_2022 = pd.read_csv('/content/ZMM059 2022.csv', sep=None, engine='python')\n",
        "df_zmm059_2023 = pd.read_csv('/content/ZMM059 2023.csv', sep=None, engine='python')\n",
        "df_zmm059_2024_1 = pd.read_csv('/content/ZMM059 2024-1.csv', sep=None, engine='python')\n",
        "df_zmm059_2024_2 = pd.read_csv('/content/ZMM059 2024-2.csv', sep=None, engine='python')\n",
        "df_zmm059_2024_3 = pd.read_csv('/content/ZMM059 2024-3.csv', sep=None, engine='python')\n",
        "df_zmm059_2024_4 = pd.read_csv('/content/ZMM059 2024-4.csv', sep=None, engine='python')\n",
        "df_zmm059_2025 = pd.read_csv('/content/ZMM059 2025.csv', sep=None, engine='python')\n",
        "\n",
        "\n",
        "# sep=None will automatically detect the delimiter\n",
        "# engine='python' is slower but more robust for complex cases"
      ],
      "metadata": {
        "id": "2yaQ1vxA9mkV"
      },
      "execution_count": 39,
      "outputs": []
    },
    {
      "cell_type": "code",
      "source": [
        "#ilk sutuna yıl yazdırma zmm059\n",
        "df_zmm059_2022[\"YIL\"] = \"2022\"\n",
        "cols = [\"YIL\"] + [col for col in df_zmm059_2022.columns if col != \"YIL\"]\n",
        "df_zmm059_2022 = df_zmm059_2022[cols]\n",
        "#\n",
        "df_zmm059_2023[\"YIL\"] = \"2023\"\n",
        "cols = [\"YIL\"] + [col for col in df_zmm059_2023.columns if col != \"YIL\"]\n",
        "df_zmm059_2023 = df_zmm059_2023[cols]\n",
        "#\n",
        "df_zmm059_2025[\"YIL\"] = \"2025\"\n",
        "cols = [\"YIL\"] + [col for col in df_zmm059_2025.columns if col != \"YIL\"]\n",
        "df_zmm059_2025 = df_zmm059_2025[cols]\n",
        "#\n",
        "df_zmm059_2024_1[\"YIL\"] = \"2024\"\n",
        "cols = [\"YIL\"] + [col for col in df_zmm059_2024_1.columns if col != \"YIL\"]\n",
        "df_zmm059_2024_1 = df_zmm059_2024_1[cols]\n",
        "#\n",
        "df_zmm059_2024_2[\"YIL\"] = \"2024\"\n",
        "cols = [\"YIL\"] + [col for col in df_zmm059_2024_2.columns if col != \"YIL\"]\n",
        "df_zmm059_2024_2 = df_zmm059_2024_2[cols]\n",
        "#\n",
        "df_zmm059_2024_3[\"YIL\"] = \"2024\"\n",
        "cols = [\"YIL\"] + [col for col in df_zmm059_2024_3.columns if col != \"YIL\"]\n",
        "df_zmm059_2024_3 = df_zmm059_2024_3[cols]\n",
        "#\n",
        "df_zmm059_2024_4[\"YIL\"] = \"2024\"\n",
        "cols = [\"YIL\"] + [col for col in df_zmm059_2024_4.columns if col != \"YIL\"]\n",
        "df_zmm059_2024_4 = df_zmm059_2024_4[cols]"
      ],
      "metadata": {
        "id": "Tz2mCC7D-zag"
      },
      "execution_count": 40,
      "outputs": []
    },
    {
      "cell_type": "code",
      "source": [
        " #ZMM059 DataFrame'leri bir listeye topla\n",
        "dfs = [df_zmm059_2022, df_zmm059_2023, df_zmm059_2024_1, df_zmm059_2024_2, df_zmm059_2024_3, df_zmm059_2024_4, df_zmm059_2025]\n",
        "\n",
        "# Hepsini birleştir\n",
        "df_zmm059_2022_2025 = pd.concat(dfs, ignore_index=True)\n",
        "#df_zmm059_2022_2025_ = pd.concat(dfs, ignore_index=True)\n",
        "# Kontrol için ilk satırlara bak\n",
        "#print(df_zmm059_2022_2025.tail(5))"
      ],
      "metadata": {
        "id": "GguzSjLk-21A"
      },
      "execution_count": 41,
      "outputs": []
    },
    {
      "cell_type": "code",
      "source": [
        "df_zmm059_2022_2025.rename(columns={'﻿Документ закупки': 'Документ_закупки'}, inplace=True)\n",
        "df_zmm059_2022_2025.columns.values[2] = \"Зп_Поз\""
      ],
      "metadata": {
        "id": "yP4A68V6IVvs"
      },
      "execution_count": 42,
      "outputs": []
    },
    {
      "cell_type": "code",
      "source": [
        "df_zmm059_2022_2025[\"ZP-ZPPOZ_zmm059\"] = (\n",
        "    df_zmm059_2022_2025[\"Документ_закупки\"].astype(str) + \"_\" + df_zmm059_2022_2025[\"Зп_Поз\"].astype(str)\n",
        ")"
      ],
      "metadata": {
        "id": "uHX6IyfIA_8j"
      },
      "execution_count": 43,
      "outputs": []
    },
    {
      "cell_type": "code",
      "source": [
        "#ME2N Raporlarını Yüklemek\n",
        "df_me2n_2022 = pd.read_csv('/content/ME2N_2022.csv', sep=None, engine='python')\n",
        "df_me2n_2023 = pd.read_csv('/content/ME2N_2023.csv', sep=None, engine='python')\n",
        "df_me2n_2024 = pd.read_csv('/content/ME2N_2024.csv', sep=None, engine='python')\n",
        "df_me2n_2025 = pd.read_csv('/content/ME2N_2025.csv', sep=None, engine='python')\n"
      ],
      "metadata": {
        "id": "o7Q3JK66-0WI"
      },
      "execution_count": 44,
      "outputs": []
    },
    {
      "cell_type": "code",
      "source": [
        "#ilk sutuna yıl yazdırma me2n\n",
        "df_me2n_2022[\"Год\"] = \"2022\"\n",
        "cols = [\"Год\"] + [col for col in df_me2n_2022.columns if col != \"Год\"]\n",
        "df_me2n_2022 = df_me2n_2022[cols]\n",
        "#\n",
        "df_me2n_2023[\"Год\"] = \"2023\"\n",
        "cols = [\"Год\"] + [col for col in df_me2n_2023.columns if col != \"Год\"]\n",
        "df_me2n_2023 = df_me2n_2023[cols]\n",
        "#\n",
        "df_me2n_2024[\"Год\"] = \"2024\"\n",
        "cols = [\"Год\"] + [col for col in df_me2n_2024.columns if col != \"Год\"]\n",
        "#\n",
        "df_me2n_2025[\"Год\"] = \"2025\"\n",
        "cols = [\"Год\"] + [col for col in df_me2n_2025.columns if col != \"Год\"]\n",
        "#"
      ],
      "metadata": {
        "id": "nVIh6W1eFZh8"
      },
      "execution_count": 45,
      "outputs": []
    },
    {
      "cell_type": "code",
      "source": [
        "#ME2N DataFrame'leri bir listeye topla\n",
        "dfs2 = [df_me2n_2022, df_me2n_2023, df_me2n_2024, df_me2n_2025]\n",
        "\n",
        "# Hepsini birleştir\n",
        "df_me2n_2022_2025 = pd.concat(dfs2, ignore_index=True)\n",
        "#df_me2n_2022_2025_ = pd.concat(dfs2, ignore_index=True)\n",
        "# Kontrol için ilk satırlara bak\n",
        "#print(df_me2n_2022_2025.tail(5))"
      ],
      "metadata": {
        "id": "kQNH_k1NFdm9"
      },
      "execution_count": 46,
      "outputs": []
    },
    {
      "cell_type": "code",
      "source": [
        "df_me2n_2022_2025.rename(columns={'﻿Документ закупки': 'Документ_закупки'}, inplace=True)\n",
        "df_me2n_2022_2025.columns.values[2] = \"Зп_Поз\""
      ],
      "metadata": {
        "id": "4M8wtWB9F5Uj"
      },
      "execution_count": 47,
      "outputs": []
    },
    {
      "cell_type": "code",
      "source": [
        "df_me2n_2022_2025[\"ZP-ZPPOZ_me2n\"] = (\n",
        "    df_me2n_2022_2025[\"Документ_закупки\"].astype(str) + \"_\" + df_me2n_2022_2025[\"Зп_Поз\"].astype(str)\n",
        ")"
      ],
      "metadata": {
        "id": "oaj7wngbGBbT"
      },
      "execution_count": 48,
      "outputs": []
    },
    {
      "cell_type": "code",
      "source": [
        "#me5a raporunu yüklemek\n",
        "df_me5a_2022 = pd.read_csv('/content/ME5A_2022.csv', sep=None, engine='python')\n",
        "df_me5a_2023 = pd.read_csv('/content/ME5A_2023.csv', sep=None, engine='python')\n",
        "df_me5a_2024 = pd.read_csv('/content/ME5A_2024.csv', sep=None, engine='python')\n",
        "df_me5a_2025 = pd.read_csv('/content/ME5A_2025.csv', sep=None, engine='python')\n",
        "\n",
        "\n",
        "# sep=None will automatically detect the delimiter\n",
        "# engine='python' is slower but more robust for complex cases"
      ],
      "metadata": {
        "id": "_Qo5YnJQ-2cg"
      },
      "execution_count": 49,
      "outputs": []
    },
    {
      "cell_type": "code",
      "source": [
        "#ME2N DataFrame'leri bir listeye topla\n",
        "dfs3 = [df_me5a_2022, df_me5a_2023, df_me5a_2024, df_me5a_2025]\n",
        "\n",
        "# Hepsini birleştir\n",
        "df_me5a_2022_2025 = pd.concat(dfs3, ignore_index=True)\n",
        "#df_me2n_2022_2025_ = pd.concat(dfs2, ignore_index=True)\n",
        "# Kontrol için ilk satırlara bak\n",
        "#print(df_me2n_2022_2025.tail(5))"
      ],
      "metadata": {
        "id": "fdocEJ-EFkVK"
      },
      "execution_count": 50,
      "outputs": []
    },
    {
      "cell_type": "code",
      "source": [
        "#tedarikçi isim dosyasını yüklemek\n",
        "df_tedarikci_listesi = pd.read_csv('/content/tedarikci_isim.csv', sep=None, engine='python')"
      ],
      "metadata": {
        "id": "lwVA7WKkHK75"
      },
      "execution_count": 51,
      "outputs": []
    },
    {
      "cell_type": "code",
      "source": [
        "#material listesini yüklemek\n",
        "df_material_list = pd.read_csv('/content/material_list.csv', sep=None, engine='python')"
      ],
      "metadata": {
        "id": "2D5IDc20Hzq2"
      },
      "execution_count": 52,
      "outputs": []
    },
    {
      "cell_type": "code",
      "source": [
        "df_calisilan = df_zmm059_2022_2025.copy()"
      ],
      "metadata": {
        "id": "E8ABFbTdE_p0"
      },
      "execution_count": 53,
      "outputs": []
    },
    {
      "cell_type": "code",
      "source": [
        "df_calisilan.columns"
      ],
      "metadata": {
        "id": "ijckSf_kuObf",
        "outputId": "ebfa64e5-4cc8-4bab-b3fb-87ff261edab5",
        "colab": {
          "base_uri": "https://localhost:8080/"
        }
      },
      "execution_count": 54,
      "outputs": [
        {
          "output_type": "execute_result",
          "data": {
            "text/plain": [
              "Index(['YIL', 'Документ_закупки', 'Зп_Поз', 'Индикатор удаления', 'неполн.',\n",
              "       'Материал', 'Заявка', 'Позиция заявки', 'Материалы тур.',\n",
              "       'Материалы анг.', 'Инвентарный номер в SAS', 'Количество ЗП',\n",
              "       'Минимальная цена ЗП', 'Минимальная цена ЗП.1', 'Минимальная цена ЗП.2',\n",
              "       'Единица ЗП', 'Цена нетто ЗП', 'Итого цена нетто', 'Валюта ЗП',\n",
              "       'Вид докум. закупки', 'Дата создания', 'Дата поставки',\n",
              "       'Дата доставки, одобренная Поставщиком', 'Группа закупок',\n",
              "       'Название ГрЗакупок', 'БЕ', 'Название фирмы', 'Закуп. организация',\n",
              "       'Название ЗакупОрг', 'Завод', 'Имя 1', 'Поставщик', 'Группа материалов',\n",
              "       'Название группы', 'Краткий текст', 'Создал', 'Вид докум. закупки.1',\n",
              "       'Обозначение ВидДокум', 'Дата создания.1', 'Создал.1',\n",
              "       'Группа закупок.1', 'Название ГрЗакупок.1', 'ЕИ заказа на постав.',\n",
              "       'Единица цены', 'Цена заказа нетто', 'Стоимость брутто', 'Валюта',\n",
              "       'Недопоставленное количество', 'Количество поставки', 'Сумма брутто',\n",
              "       'Валюта.1', 'Количество по счету', 'Дата проводки',\n",
              "       'Количество по счету.1', 'Валюта.2', 'Остаток количества по счету',\n",
              "       'Остаток суммы по счету', 'Автор Внутреннего заказа',\n",
              "       'Количество по счету.2', 'Значок \"поставка завершена\"',\n",
              "       'Дата контракта', 'Дата вступления в силу контракта',\n",
              "       'Дата окончания действия договора', 'Склад', '№ комиссии',\n",
              "       'ZP-ZPPOZ_zmm059'],\n",
              "      dtype='object')"
            ]
          },
          "metadata": {},
          "execution_count": 54
        }
      ]
    },
    {
      "cell_type": "code",
      "source": [
        "sutun_listesi_str_calisilan = [\"Документ_закупки\",\"Зп_Поз\",\"Материал\",\"Заявка\",\"Позиция заявки\",\n",
        "                 \"Создал\"\n",
        "                 ]"
      ],
      "metadata": {
        "id": "9b5JhWDhW2eA"
      },
      "execution_count": 55,
      "outputs": []
    },
    {
      "cell_type": "code",
      "source": [
        "for s in sutun_listesi_str_calisilan:\n",
        "    # Apply the robust cleaning and conversion function\n",
        "    df_calisilan[s] = df_calisilan[s].apply(temizle_ve_cevir)"
      ],
      "metadata": {
        "id": "yJSb2XcUWzdk"
      },
      "execution_count": 56,
      "outputs": []
    },
    {
      "cell_type": "code",
      "source": [
        "sutun_listesi_str_me2n = [\"Документ_закупки\",\"Зп_Поз\",\"Материал\",\"Заявка\",\"Материал\"\n",
        "                 ]"
      ],
      "metadata": {
        "id": "-tQZG5blahB-"
      },
      "execution_count": 57,
      "outputs": []
    },
    {
      "cell_type": "code",
      "source": [
        "for s in sutun_listesi_str_me2n:\n",
        "    # Apply the robust cleaning and conversion function\n",
        "    df_me2n_2022_2025[s] = df_me2n_2022_2025[s].apply(temizle_ve_cevir)"
      ],
      "metadata": {
        "id": "skZsFusLaaPb"
      },
      "execution_count": 58,
      "outputs": []
    },
    {
      "cell_type": "code",
      "source": [
        "#df_calisilan.tail(2)"
      ],
      "metadata": {
        "id": "tFoJfgGzWfdF"
      },
      "execution_count": 59,
      "outputs": []
    },
    {
      "cell_type": "code",
      "source": [
        "df_calisilan[\"ZP-ZPPOZ_zmm059\"] = (\n",
        "    df_calisilan[\"Документ_закупки\"].astype(str) + \"_\" + df_calisilan[\"Зп_Поз\"].astype(str)\n",
        ")"
      ],
      "metadata": {
        "id": "6UgwfL28HzAo"
      },
      "execution_count": 60,
      "outputs": []
    },
    {
      "cell_type": "code",
      "source": [
        "df_calisilan[\"B3-B3POZ\"] = (\n",
        "    df_calisilan[\"Заявка\"].astype(str) + \"_\" + df_calisilan[\"Позиция заявки\"].astype(str)\n",
        ")"
      ],
      "metadata": {
        "id": "hV345n2cIDy_"
      },
      "execution_count": 61,
      "outputs": []
    },
    {
      "cell_type": "code",
      "source": [
        "df_me5a_2022_2025[\"B3-B3POZ\"] = (\n",
        "    df_me5a_2022_2025[\"﻿Заявка\"].astype(str) + \"_\" + df_me5a_2022_2025[\"Позиция заявки\"].astype(str)\n",
        ")"
      ],
      "metadata": {
        "id": "dURPQxh2JtvJ"
      },
      "execution_count": 62,
      "outputs": []
    },
    {
      "cell_type": "code",
      "source": [
        "df_calisilan[\"ZP-ZPPOZ_zmm059\"] = (\n",
        "    df_calisilan[\"Документ_закупки\"].astype(str) + \"_\" + df_calisilan[\"Зп_Поз\"].astype(str)\n",
        ")"
      ],
      "metadata": {
        "id": "ByBwSmm4Jw8x"
      },
      "execution_count": 63,
      "outputs": []
    },
    {
      "cell_type": "code",
      "source": [
        "df_calisilan.tail(2)"
      ],
      "metadata": {
        "colab": {
          "base_uri": "https://localhost:8080/",
          "height": 335
        },
        "id": "fTIP97WWKDHj",
        "outputId": "6daffb28-5d67-4e55-af9c-ff3cd3ea3a9d"
      },
      "execution_count": 64,
      "outputs": [
        {
          "output_type": "execute_result",
          "data": {
            "text/plain": [
              "         YIL Документ_закупки Зп_Поз Индикатор удаления неполн.    Материал  \\\n",
              "689710  2025       4500000025     10                  L     NaN  4500415852   \n",
              "689711  2025       4500000025     20                  L     NaN  4500415855   \n",
              "\n",
              "            Заявка Позиция заявки                           Материалы тур.  \\\n",
              "689710  2100003682             10  KURŞUNSUZ BENZİN 95 V/MAX  PETROL OFISI   \n",
              "689711  2100003682             20               DİZEL  V/MAX  PETROL OFISI   \n",
              "\n",
              "                         Материалы анг.  ... Автор Внутреннего заказа  \\\n",
              "689710  GASOLINE 95 V/MAX  PETROL OFISI  ...                      NaN   \n",
              "689711       DIESEL V/MAX  PETROL OFISI  ...                      NaN   \n",
              "\n",
              "       Количество по счету.2 Значок \"поставка завершена\" Дата контракта  \\\n",
              "689710                   NaN                         NaN            NaN   \n",
              "689711                   NaN                         NaN            NaN   \n",
              "\n",
              "       Дата вступления в силу контракта  Дата окончания действия договора  \\\n",
              "689710                              NaN                               NaN   \n",
              "689711                              NaN                               NaN   \n",
              "\n",
              "       Склад  № комиссии ZP-ZPPOZ_zmm059       B3-B3POZ  \n",
              "689710  FUEL  2100003654   4500000025_10  2100003682_10  \n",
              "689711  FUEL  2100003654   4500000025_20  2100003682_20  \n",
              "\n",
              "[2 rows x 67 columns]"
            ],
            "text/html": [
              "\n",
              "  <div id=\"df-8a179cb9-b36b-485e-b7b9-e3a74ae0ecc4\" class=\"colab-df-container\">\n",
              "    <div>\n",
              "<style scoped>\n",
              "    .dataframe tbody tr th:only-of-type {\n",
              "        vertical-align: middle;\n",
              "    }\n",
              "\n",
              "    .dataframe tbody tr th {\n",
              "        vertical-align: top;\n",
              "    }\n",
              "\n",
              "    .dataframe thead th {\n",
              "        text-align: right;\n",
              "    }\n",
              "</style>\n",
              "<table border=\"1\" class=\"dataframe\">\n",
              "  <thead>\n",
              "    <tr style=\"text-align: right;\">\n",
              "      <th></th>\n",
              "      <th>YIL</th>\n",
              "      <th>Документ_закупки</th>\n",
              "      <th>Зп_Поз</th>\n",
              "      <th>Индикатор удаления</th>\n",
              "      <th>неполн.</th>\n",
              "      <th>Материал</th>\n",
              "      <th>Заявка</th>\n",
              "      <th>Позиция заявки</th>\n",
              "      <th>Материалы тур.</th>\n",
              "      <th>Материалы анг.</th>\n",
              "      <th>...</th>\n",
              "      <th>Автор Внутреннего заказа</th>\n",
              "      <th>Количество по счету.2</th>\n",
              "      <th>Значок \"поставка завершена\"</th>\n",
              "      <th>Дата контракта</th>\n",
              "      <th>Дата вступления в силу контракта</th>\n",
              "      <th>Дата окончания действия договора</th>\n",
              "      <th>Склад</th>\n",
              "      <th>№ комиссии</th>\n",
              "      <th>ZP-ZPPOZ_zmm059</th>\n",
              "      <th>B3-B3POZ</th>\n",
              "    </tr>\n",
              "  </thead>\n",
              "  <tbody>\n",
              "    <tr>\n",
              "      <th>689710</th>\n",
              "      <td>2025</td>\n",
              "      <td>4500000025</td>\n",
              "      <td>10</td>\n",
              "      <td>L</td>\n",
              "      <td>NaN</td>\n",
              "      <td>4500415852</td>\n",
              "      <td>2100003682</td>\n",
              "      <td>10</td>\n",
              "      <td>KURŞUNSUZ BENZİN 95 V/MAX  PETROL OFISI</td>\n",
              "      <td>GASOLINE 95 V/MAX  PETROL OFISI</td>\n",
              "      <td>...</td>\n",
              "      <td>NaN</td>\n",
              "      <td>NaN</td>\n",
              "      <td>NaN</td>\n",
              "      <td>NaN</td>\n",
              "      <td>NaN</td>\n",
              "      <td>NaN</td>\n",
              "      <td>FUEL</td>\n",
              "      <td>2100003654</td>\n",
              "      <td>4500000025_10</td>\n",
              "      <td>2100003682_10</td>\n",
              "    </tr>\n",
              "    <tr>\n",
              "      <th>689711</th>\n",
              "      <td>2025</td>\n",
              "      <td>4500000025</td>\n",
              "      <td>20</td>\n",
              "      <td>L</td>\n",
              "      <td>NaN</td>\n",
              "      <td>4500415855</td>\n",
              "      <td>2100003682</td>\n",
              "      <td>20</td>\n",
              "      <td>DİZEL  V/MAX  PETROL OFISI</td>\n",
              "      <td>DIESEL V/MAX  PETROL OFISI</td>\n",
              "      <td>...</td>\n",
              "      <td>NaN</td>\n",
              "      <td>NaN</td>\n",
              "      <td>NaN</td>\n",
              "      <td>NaN</td>\n",
              "      <td>NaN</td>\n",
              "      <td>NaN</td>\n",
              "      <td>FUEL</td>\n",
              "      <td>2100003654</td>\n",
              "      <td>4500000025_20</td>\n",
              "      <td>2100003682_20</td>\n",
              "    </tr>\n",
              "  </tbody>\n",
              "</table>\n",
              "<p>2 rows × 67 columns</p>\n",
              "</div>\n",
              "    <div class=\"colab-df-buttons\">\n",
              "\n",
              "  <div class=\"colab-df-container\">\n",
              "    <button class=\"colab-df-convert\" onclick=\"convertToInteractive('df-8a179cb9-b36b-485e-b7b9-e3a74ae0ecc4')\"\n",
              "            title=\"Convert this dataframe to an interactive table.\"\n",
              "            style=\"display:none;\">\n",
              "\n",
              "  <svg xmlns=\"http://www.w3.org/2000/svg\" height=\"24px\" viewBox=\"0 -960 960 960\">\n",
              "    <path d=\"M120-120v-720h720v720H120Zm60-500h600v-160H180v160Zm220 220h160v-160H400v160Zm0 220h160v-160H400v160ZM180-400h160v-160H180v160Zm440 0h160v-160H620v160ZM180-180h160v-160H180v160Zm440 0h160v-160H620v160Z\"/>\n",
              "  </svg>\n",
              "    </button>\n",
              "\n",
              "  <style>\n",
              "    .colab-df-container {\n",
              "      display:flex;\n",
              "      gap: 12px;\n",
              "    }\n",
              "\n",
              "    .colab-df-convert {\n",
              "      background-color: #E8F0FE;\n",
              "      border: none;\n",
              "      border-radius: 50%;\n",
              "      cursor: pointer;\n",
              "      display: none;\n",
              "      fill: #1967D2;\n",
              "      height: 32px;\n",
              "      padding: 0 0 0 0;\n",
              "      width: 32px;\n",
              "    }\n",
              "\n",
              "    .colab-df-convert:hover {\n",
              "      background-color: #E2EBFA;\n",
              "      box-shadow: 0px 1px 2px rgba(60, 64, 67, 0.3), 0px 1px 3px 1px rgba(60, 64, 67, 0.15);\n",
              "      fill: #174EA6;\n",
              "    }\n",
              "\n",
              "    .colab-df-buttons div {\n",
              "      margin-bottom: 4px;\n",
              "    }\n",
              "\n",
              "    [theme=dark] .colab-df-convert {\n",
              "      background-color: #3B4455;\n",
              "      fill: #D2E3FC;\n",
              "    }\n",
              "\n",
              "    [theme=dark] .colab-df-convert:hover {\n",
              "      background-color: #434B5C;\n",
              "      box-shadow: 0px 1px 3px 1px rgba(0, 0, 0, 0.15);\n",
              "      filter: drop-shadow(0px 1px 2px rgba(0, 0, 0, 0.3));\n",
              "      fill: #FFFFFF;\n",
              "    }\n",
              "  </style>\n",
              "\n",
              "    <script>\n",
              "      const buttonEl =\n",
              "        document.querySelector('#df-8a179cb9-b36b-485e-b7b9-e3a74ae0ecc4 button.colab-df-convert');\n",
              "      buttonEl.style.display =\n",
              "        google.colab.kernel.accessAllowed ? 'block' : 'none';\n",
              "\n",
              "      async function convertToInteractive(key) {\n",
              "        const element = document.querySelector('#df-8a179cb9-b36b-485e-b7b9-e3a74ae0ecc4');\n",
              "        const dataTable =\n",
              "          await google.colab.kernel.invokeFunction('convertToInteractive',\n",
              "                                                    [key], {});\n",
              "        if (!dataTable) return;\n",
              "\n",
              "        const docLinkHtml = 'Like what you see? Visit the ' +\n",
              "          '<a target=\"_blank\" href=https://colab.research.google.com/notebooks/data_table.ipynb>data table notebook</a>'\n",
              "          + ' to learn more about interactive tables.';\n",
              "        element.innerHTML = '';\n",
              "        dataTable['output_type'] = 'display_data';\n",
              "        await google.colab.output.renderOutput(dataTable, element);\n",
              "        const docLink = document.createElement('div');\n",
              "        docLink.innerHTML = docLinkHtml;\n",
              "        element.appendChild(docLink);\n",
              "      }\n",
              "    </script>\n",
              "  </div>\n",
              "\n",
              "\n",
              "    <div id=\"df-b578b79f-b25c-4791-8da4-5c2edb7e23f5\">\n",
              "      <button class=\"colab-df-quickchart\" onclick=\"quickchart('df-b578b79f-b25c-4791-8da4-5c2edb7e23f5')\"\n",
              "                title=\"Suggest charts\"\n",
              "                style=\"display:none;\">\n",
              "\n",
              "<svg xmlns=\"http://www.w3.org/2000/svg\" height=\"24px\"viewBox=\"0 0 24 24\"\n",
              "     width=\"24px\">\n",
              "    <g>\n",
              "        <path d=\"M19 3H5c-1.1 0-2 .9-2 2v14c0 1.1.9 2 2 2h14c1.1 0 2-.9 2-2V5c0-1.1-.9-2-2-2zM9 17H7v-7h2v7zm4 0h-2V7h2v10zm4 0h-2v-4h2v4z\"/>\n",
              "    </g>\n",
              "</svg>\n",
              "      </button>\n",
              "\n",
              "<style>\n",
              "  .colab-df-quickchart {\n",
              "      --bg-color: #E8F0FE;\n",
              "      --fill-color: #1967D2;\n",
              "      --hover-bg-color: #E2EBFA;\n",
              "      --hover-fill-color: #174EA6;\n",
              "      --disabled-fill-color: #AAA;\n",
              "      --disabled-bg-color: #DDD;\n",
              "  }\n",
              "\n",
              "  [theme=dark] .colab-df-quickchart {\n",
              "      --bg-color: #3B4455;\n",
              "      --fill-color: #D2E3FC;\n",
              "      --hover-bg-color: #434B5C;\n",
              "      --hover-fill-color: #FFFFFF;\n",
              "      --disabled-bg-color: #3B4455;\n",
              "      --disabled-fill-color: #666;\n",
              "  }\n",
              "\n",
              "  .colab-df-quickchart {\n",
              "    background-color: var(--bg-color);\n",
              "    border: none;\n",
              "    border-radius: 50%;\n",
              "    cursor: pointer;\n",
              "    display: none;\n",
              "    fill: var(--fill-color);\n",
              "    height: 32px;\n",
              "    padding: 0;\n",
              "    width: 32px;\n",
              "  }\n",
              "\n",
              "  .colab-df-quickchart:hover {\n",
              "    background-color: var(--hover-bg-color);\n",
              "    box-shadow: 0 1px 2px rgba(60, 64, 67, 0.3), 0 1px 3px 1px rgba(60, 64, 67, 0.15);\n",
              "    fill: var(--button-hover-fill-color);\n",
              "  }\n",
              "\n",
              "  .colab-df-quickchart-complete:disabled,\n",
              "  .colab-df-quickchart-complete:disabled:hover {\n",
              "    background-color: var(--disabled-bg-color);\n",
              "    fill: var(--disabled-fill-color);\n",
              "    box-shadow: none;\n",
              "  }\n",
              "\n",
              "  .colab-df-spinner {\n",
              "    border: 2px solid var(--fill-color);\n",
              "    border-color: transparent;\n",
              "    border-bottom-color: var(--fill-color);\n",
              "    animation:\n",
              "      spin 1s steps(1) infinite;\n",
              "  }\n",
              "\n",
              "  @keyframes spin {\n",
              "    0% {\n",
              "      border-color: transparent;\n",
              "      border-bottom-color: var(--fill-color);\n",
              "      border-left-color: var(--fill-color);\n",
              "    }\n",
              "    20% {\n",
              "      border-color: transparent;\n",
              "      border-left-color: var(--fill-color);\n",
              "      border-top-color: var(--fill-color);\n",
              "    }\n",
              "    30% {\n",
              "      border-color: transparent;\n",
              "      border-left-color: var(--fill-color);\n",
              "      border-top-color: var(--fill-color);\n",
              "      border-right-color: var(--fill-color);\n",
              "    }\n",
              "    40% {\n",
              "      border-color: transparent;\n",
              "      border-right-color: var(--fill-color);\n",
              "      border-top-color: var(--fill-color);\n",
              "    }\n",
              "    60% {\n",
              "      border-color: transparent;\n",
              "      border-right-color: var(--fill-color);\n",
              "    }\n",
              "    80% {\n",
              "      border-color: transparent;\n",
              "      border-right-color: var(--fill-color);\n",
              "      border-bottom-color: var(--fill-color);\n",
              "    }\n",
              "    90% {\n",
              "      border-color: transparent;\n",
              "      border-bottom-color: var(--fill-color);\n",
              "    }\n",
              "  }\n",
              "</style>\n",
              "\n",
              "      <script>\n",
              "        async function quickchart(key) {\n",
              "          const quickchartButtonEl =\n",
              "            document.querySelector('#' + key + ' button');\n",
              "          quickchartButtonEl.disabled = true;  // To prevent multiple clicks.\n",
              "          quickchartButtonEl.classList.add('colab-df-spinner');\n",
              "          try {\n",
              "            const charts = await google.colab.kernel.invokeFunction(\n",
              "                'suggestCharts', [key], {});\n",
              "          } catch (error) {\n",
              "            console.error('Error during call to suggestCharts:', error);\n",
              "          }\n",
              "          quickchartButtonEl.classList.remove('colab-df-spinner');\n",
              "          quickchartButtonEl.classList.add('colab-df-quickchart-complete');\n",
              "        }\n",
              "        (() => {\n",
              "          let quickchartButtonEl =\n",
              "            document.querySelector('#df-b578b79f-b25c-4791-8da4-5c2edb7e23f5 button');\n",
              "          quickchartButtonEl.style.display =\n",
              "            google.colab.kernel.accessAllowed ? 'block' : 'none';\n",
              "        })();\n",
              "      </script>\n",
              "    </div>\n",
              "\n",
              "    </div>\n",
              "  </div>\n"
            ],
            "application/vnd.google.colaboratory.intrinsic+json": {
              "type": "dataframe"
            }
          },
          "metadata": {},
          "execution_count": 64
        }
      ]
    },
    {
      "cell_type": "code",
      "source": [
        "df_calisilan.rename(columns={'YIL': 'ГОД'}, inplace=True)\n",
        "df_tedarikci_listesi.rename(columns={'kod': 'Поставщик'}, inplace=True)"
      ],
      "metadata": {
        "id": "sYRrM-hmKHf7"
      },
      "execution_count": 65,
      "outputs": []
    },
    {
      "cell_type": "code",
      "source": [
        "adetler = df_calisilan[\"B3-B3POZ\"].value_counts()"
      ],
      "metadata": {
        "id": "9NbCuXGTKVYm"
      },
      "execution_count": 66,
      "outputs": []
    },
    {
      "cell_type": "code",
      "source": [
        "mukerrer_kodlar = adetler[adetler > 1].index"
      ],
      "metadata": {
        "id": "h3hyTL6uKX1v"
      },
      "execution_count": 67,
      "outputs": []
    },
    {
      "cell_type": "code",
      "source": [
        "silinmesi_gerekenler = df_calisilan[\n",
        "    (df_calisilan[\"B3-B3POZ\"].isin(mukerrer_kodlar)) &\n",
        "    (df_calisilan[\"Документ_закупки\"].isna())\n",
        "\n",
        "]"
      ],
      "metadata": {
        "id": "7sbgKSmcKZD4"
      },
      "execution_count": 68,
      "outputs": []
    },
    {
      "cell_type": "code",
      "source": [
        "df_calisilan = df_calisilan.drop(silinmesi_gerekenler.index)"
      ],
      "metadata": {
        "id": "Zxtswj6XKaPQ"
      },
      "execution_count": 69,
      "outputs": []
    },
    {
      "cell_type": "code",
      "source": [
        "#print(f\"Kalan satır sayısı df_calısılan : {len(df_calisilan)}\")\n",
        "#print(f\"Kalan satır sayısı df_zmm059_2022_2025: {len(df_zmm059_2022_2025)}\") #burada df i değşitirmek gerek"
      ],
      "metadata": {
        "id": "2BQ7B5EQKctY"
      },
      "execution_count": 70,
      "outputs": []
    },
    {
      "cell_type": "code",
      "source": [
        "# Silmek istediğin sütunların index (pozisyon) numaraları\n",
        "#sil_indexler = [8,9,10,11,12,13,17,27,28,29,33,43,44,55,73,74,79,80,81,82,\n",
        "#                83,84,85,86,87,88,89,90,91,93,94,95,96,97,98,99,100,101,102\n",
        "#                ]  # 0'dan başlar, örneğin 2., 4. ve 6. sütun\n",
        "\n",
        "# Yeni DataFrame'i bu sütunlar hariç oluştur\n",
        "#df_calisilan = df_calisilan.drop(df_calisilan.columns[sil_indexler], axis=1)"
      ],
      "metadata": {
        "id": "PFY-PPSXKkS6"
      },
      "execution_count": 71,
      "outputs": []
    },
    {
      "cell_type": "code",
      "source": [
        "df_calisilan[\"ГОД\"] = df_calisilan[\"ГОД\"].astype(str)  # string'e çevirmek istersen\n",
        "\n",
        "# Replace NaN values with a placeholder integer (e.g., 0) before converting to int\n",
        "#df_calisilan[\"Документ_закупки\"] = df_calisilan[\"Документ_закупки\"].fillna(0).astype(int).astype(str)\n",
        "\n"
      ],
      "metadata": {
        "id": "b_wB3JauKr1b"
      },
      "execution_count": 72,
      "outputs": []
    },
    {
      "cell_type": "code",
      "source": [
        "df_calisilan[\"Поставщик\"] = df_calisilan[\"Поставщик\"].apply(temizle_ve_cevir)"
      ],
      "metadata": {
        "id": "BexDMl0YKsRy"
      },
      "execution_count": 73,
      "outputs": []
    },
    {
      "cell_type": "code",
      "source": [
        "# Tedarikçi sözlüğünü yine string anahtarlara göre oluştur\n",
        "tedarikci_dict = dict(zip(df_tedarikci_listesi.iloc[:, 0].astype(str), df_tedarikci_listesi.iloc[:, 1]))\n",
        "\n",
        "# Eşleştirme\n",
        "df_calisilan[\"имя_поставщика\"] = df_calisilan[\"Поставщик\"].map(tedarikci_dict)"
      ],
      "metadata": {
        "id": "U4yYXbzGKvH6"
      },
      "execution_count": 74,
      "outputs": []
    },
    {
      "cell_type": "code",
      "source": [
        "df_me5a_2022_2025[\"Материал\"] = df_me5a_2022_2025[\"Материал\"].apply(temizle_ve_cevir)"
      ],
      "metadata": {
        "id": "IxgonLH6Kw16"
      },
      "execution_count": 75,
      "outputs": []
    },
    {
      "cell_type": "code",
      "source": [
        "df_calisilan[\"Материал_B3\"] = df_calisilan[\"Материал\"].apply(temizle_ve_cevir)"
      ],
      "metadata": {
        "id": "3B87KIUHKyBi"
      },
      "execution_count": 76,
      "outputs": []
    },
    {
      "cell_type": "code",
      "source": [
        " # Sözlük oluştur (anahtar: B3-B3POZ, değer: Материал)\n",
        "b3_to_material_dict = dict(zip(df_me5a_2022_2025[\"B3-B3POZ\"].astype(str), df_me5a_2022_2025[\"Материал\"]))\n"
      ],
      "metadata": {
        "id": "f-t5iOi5K065"
      },
      "execution_count": 77,
      "outputs": []
    },
    {
      "cell_type": "code",
      "source": [
        "# B3-B3POZ'e göre eşleşen Материал'ları getir (yeni bir sütun olarak)\n",
        "df_calisilan[\"Материал_yeni\"] = df_calisilan[\"B3-B3POZ\"].astype(str).map(b3_to_material_dict)"
      ],
      "metadata": {
        "id": "ZBKr9r8BK5OU"
      },
      "execution_count": 78,
      "outputs": []
    },
    {
      "cell_type": "code",
      "source": [
        "# Sadece boş olan Материал hücrelerini, eşleşen değerle doldur\n",
        "df_calisilan[\"Материал_B3\"] = df_calisilan[\"Материал_B3\"].fillna(df_calisilan[\"Материал_yeni\"])\n",
        "# Geçici sütunu silelim\n",
        "df_calisilan.drop(columns=[\"Материал_yeni\"], inplace=True)"
      ],
      "metadata": {
        "id": "gt64jscbK857"
      },
      "execution_count": 79,
      "outputs": []
    },
    {
      "cell_type": "code",
      "source": [
        "# Sözlükleri oluştur\n",
        "ru_dict = dict(zip(df_material_list.iloc[:, 0].astype(str), df_material_list.iloc[:, 1]))\n",
        "tr_dict = dict(zip(df_material_list.iloc[:, 0].astype(str), df_material_list.iloc[:, 2]))\n",
        "\n",
        "# Eşleştir\n",
        "df_calisilan[\"RU Наименование\"] = df_calisilan[\"Материал_B3\"].astype(str).map(ru_dict)\n",
        "df_calisilan[\"TR Наименование\"] = df_calisilan[\"Материал_B3\"].astype(str).map(tr_dict)\n"
      ],
      "metadata": {
        "id": "5gnv5bEpK-jr"
      },
      "execution_count": 80,
      "outputs": []
    },
    {
      "cell_type": "code",
      "source": [
        "df_calisilan[\"Документ_закупки\"] = df_calisilan[\"Документ_закупки\"].replace(\"\", pd.NA)\n",
        "df_calisilan[\"Зп_Поз\"] = df_calisilan[\"Зп_Поз\"].replace(\"\", pd.NA)\n",
        "df_calisilan[\"Зп_Поз\"] = df_calisilan[\"Зп_Поз\"].replace(\" \", pd.NA)\n",
        "df_calisilan[\"Зп_Поз\"] = df_calisilan[\"Зп_Поз\"].replace(0, pd.NA)"
      ],
      "metadata": {
        "id": "eUcvQl9cLAXD"
      },
      "execution_count": 81,
      "outputs": []
    },
    {
      "cell_type": "code",
      "source": [
        "df_yazdir = df_me2n_2022_2025[[\"ZP-ZPPOZ_me2n\"]].copy()"
      ],
      "metadata": {
        "id": "orvcG2tyLc1k"
      },
      "execution_count": 82,
      "outputs": []
    },
    {
      "cell_type": "code",
      "source": [
        "me2n_sutunlar = [\n",
        "    \"Год\",\"Дата документа\",\"Документ_закупки\",\"Зп_Поз\",\"Индикатор удаления\",\n",
        "    \"Наш знак\",\"Ваш код\",\n",
        "    \"Заявка\",\"Материал\",\"Наименование RU\",\"Наименование TR\",\n",
        "    \"Объем заказа\",\"еще поставить (количество)\",\"Складская ЕИ\",\"Еще для поставки (стоимость)\",\"Валюта\",\n",
        "    \"Инвентарный номер\",\"Имя поставщика\"\n",
        "]\n"
      ],
      "metadata": {
        "id": "ER4-9zstLDCj"
      },
      "execution_count": 83,
      "outputs": []
    },
    {
      "cell_type": "code",
      "source": [
        "# 1. ME2N'den doğrudan aktarma\n",
        "def aktar_me2n(df_me2n, df_yazdir, secilen_sutunlar):\n",
        "    for sutun in secilen_sutunlar:\n",
        "        if sutun in df_me2n.columns:\n",
        "            df_yazdir[sutun] = df_me2n[sutun]\n",
        "        else:\n",
        "            print(f\"Uyarı: '{sutun}' df_me2n_2022_2025 içinde bulunamadı.\")\n",
        "    return df_yazdir"
      ],
      "metadata": {
        "id": "vT1Lfe5BLNte"
      },
      "execution_count": 84,
      "outputs": []
    },
    {
      "cell_type": "code",
      "source": [
        "df_yazdir = aktar_me2n(df_me2n_2022_2025, df_yazdir, me2n_sutunlar)"
      ],
      "metadata": {
        "id": "6gISsdaVLO0F"
      },
      "execution_count": 85,
      "outputs": []
    },
    {
      "cell_type": "code",
      "source": [
        "df_calisilan = df_calisilan.rename(columns={'Значок \"поставка завершена\"': 'Значок -поставка завершена-'})\n"
      ],
      "metadata": {
        "id": "hUHKlxbaLRW2"
      },
      "execution_count": 86,
      "outputs": []
    },
    {
      "cell_type": "code",
      "source": [
        "calisilan_sutunlar = [\n",
        "    \"B3-B3POZ\",\"Позиция заявки\",\"неполн.\",\"Создал\",\n",
        "    \"Группа закупок\",\"Название ГрЗакупок\" ,\"БЕ\",\"Название фирмы\",\"Группа материалов\",\"Название группы\",\n",
        "    \"Автор Внутреннего заказа\",\"Закуп. организация\", \"Завод\",\n",
        "    \"Значок -поставка завершена-\" ,\"Склад\"\n",
        "]\n"
      ],
      "metadata": {
        "id": "GC2FRNR-LpDB"
      },
      "execution_count": 87,
      "outputs": []
    },
    {
      "cell_type": "code",
      "source": [
        "#df_calisilan.tail(2)"
      ],
      "metadata": {
        "id": "L_oy9d2WMFQs"
      },
      "execution_count": 88,
      "outputs": []
    },
    {
      "cell_type": "code",
      "source": [
        "def aktar_calisilan(df_calisilan, df_yazdir, secilen_sutunlar):\n",
        "    ortak_anahtar_calisilan = \"ZP-ZPPOZ_zmm059\"\n",
        "    ortak_anahtar_yazdir = \"ZP-ZPPOZ_me2n\"\n",
        "\n",
        "    for sutun in secilen_sutunlar:\n",
        "        if sutun in df_calisilan.columns:\n",
        "            # Mapping için dictionary oluştur\n",
        "            dict_sutun = df_calisilan.set_index(ortak_anahtar_calisilan)[sutun].to_dict()\n",
        "            # df_yazdir’a map ile aktar\n",
        "            df_yazdir[sutun] = df_yazdir[ortak_anahtar_yazdir].map(dict_sutun)\n",
        "        else:\n",
        "            print(f\"Uyarı: '{sutun}' df_calisilan içinde bulunamadı.\")\n",
        "\n",
        "    return df_yazdir\n"
      ],
      "metadata": {
        "id": "Ickdrhz5Lq3I"
      },
      "execution_count": 89,
      "outputs": []
    },
    {
      "cell_type": "code",
      "source": [
        "#df_yazdir.head(2)"
      ],
      "metadata": {
        "id": "41gfQHbiM-8E"
      },
      "execution_count": 90,
      "outputs": []
    },
    {
      "cell_type": "code",
      "source": [
        "df_yazdir = aktar_calisilan(df_calisilan, df_yazdir, calisilan_sutunlar)"
      ],
      "metadata": {
        "id": "kV8xN6hjLr6R"
      },
      "execution_count": 91,
      "outputs": []
    },
    {
      "cell_type": "markdown",
      "source": [
        "excelleri kaydetmek için kullan"
      ],
      "metadata": {
        "id": "XZOlprzn-6bU"
      }
    },
    {
      "cell_type": "code",
      "source": [
        "df_yazdir.tail(2)"
      ],
      "metadata": {
        "colab": {
          "base_uri": "https://localhost:8080/",
          "height": 266
        },
        "id": "1SbGP-XdbuXs",
        "outputId": "12b3e4ab-8a9e-47f9-efad-fc5099e4d838"
      },
      "execution_count": 92,
      "outputs": [
        {
          "output_type": "execute_result",
          "data": {
            "text/plain": [
              "        ZP-ZPPOZ_me2n   Год Дата документа Документ_закупки Зп_Поз  \\\n",
              "294344  4500000025_10  2025     17.04.2025       4500000025     10   \n",
              "294345  4500000025_20  2025     17.04.2025       4500000025     20   \n",
              "\n",
              "       Индикатор удаления Наш знак     Ваш код      Заявка    Материал  ...  \\\n",
              "294344                  L        .  2100003654  2100003682  4500415852  ...   \n",
              "294345                  L        .  2100003654  2100003682  4500415855  ...   \n",
              "\n",
              "       Название ГрЗакупок      БЕ          Название фирмы Группа материалов  \\\n",
              "294344        Makineleşme  2990.0  TSM IS Limited Sirketi           MZ-3073   \n",
              "294345        Makineleşme  2990.0  TSM IS Limited Sirketi           MZ-3076   \n",
              "\n",
              "          Название группы Автор Внутреннего заказа Закуп. организация Завод  \\\n",
              "294344  РАЗЛИЧНОЕ ТОПЛИВО                      NaN             2994.0  29A2   \n",
              "294345  РАЗЛИЧНАЯ СОЛЯРКА                      NaN             2994.0  29A2   \n",
              "\n",
              "       Значок -поставка завершена- Склад  \n",
              "294344                         NaN  FUEL  \n",
              "294345                         NaN  FUEL  \n",
              "\n",
              "[2 rows x 34 columns]"
            ],
            "text/html": [
              "\n",
              "  <div id=\"df-5827c19a-8815-45e7-9395-636c15f19c0d\" class=\"colab-df-container\">\n",
              "    <div>\n",
              "<style scoped>\n",
              "    .dataframe tbody tr th:only-of-type {\n",
              "        vertical-align: middle;\n",
              "    }\n",
              "\n",
              "    .dataframe tbody tr th {\n",
              "        vertical-align: top;\n",
              "    }\n",
              "\n",
              "    .dataframe thead th {\n",
              "        text-align: right;\n",
              "    }\n",
              "</style>\n",
              "<table border=\"1\" class=\"dataframe\">\n",
              "  <thead>\n",
              "    <tr style=\"text-align: right;\">\n",
              "      <th></th>\n",
              "      <th>ZP-ZPPOZ_me2n</th>\n",
              "      <th>Год</th>\n",
              "      <th>Дата документа</th>\n",
              "      <th>Документ_закупки</th>\n",
              "      <th>Зп_Поз</th>\n",
              "      <th>Индикатор удаления</th>\n",
              "      <th>Наш знак</th>\n",
              "      <th>Ваш код</th>\n",
              "      <th>Заявка</th>\n",
              "      <th>Материал</th>\n",
              "      <th>...</th>\n",
              "      <th>Название ГрЗакупок</th>\n",
              "      <th>БЕ</th>\n",
              "      <th>Название фирмы</th>\n",
              "      <th>Группа материалов</th>\n",
              "      <th>Название группы</th>\n",
              "      <th>Автор Внутреннего заказа</th>\n",
              "      <th>Закуп. организация</th>\n",
              "      <th>Завод</th>\n",
              "      <th>Значок -поставка завершена-</th>\n",
              "      <th>Склад</th>\n",
              "    </tr>\n",
              "  </thead>\n",
              "  <tbody>\n",
              "    <tr>\n",
              "      <th>294344</th>\n",
              "      <td>4500000025_10</td>\n",
              "      <td>2025</td>\n",
              "      <td>17.04.2025</td>\n",
              "      <td>4500000025</td>\n",
              "      <td>10</td>\n",
              "      <td>L</td>\n",
              "      <td>.</td>\n",
              "      <td>2100003654</td>\n",
              "      <td>2100003682</td>\n",
              "      <td>4500415852</td>\n",
              "      <td>...</td>\n",
              "      <td>Makineleşme</td>\n",
              "      <td>2990.0</td>\n",
              "      <td>TSM IS Limited Sirketi</td>\n",
              "      <td>MZ-3073</td>\n",
              "      <td>РАЗЛИЧНОЕ ТОПЛИВО</td>\n",
              "      <td>NaN</td>\n",
              "      <td>2994.0</td>\n",
              "      <td>29A2</td>\n",
              "      <td>NaN</td>\n",
              "      <td>FUEL</td>\n",
              "    </tr>\n",
              "    <tr>\n",
              "      <th>294345</th>\n",
              "      <td>4500000025_20</td>\n",
              "      <td>2025</td>\n",
              "      <td>17.04.2025</td>\n",
              "      <td>4500000025</td>\n",
              "      <td>20</td>\n",
              "      <td>L</td>\n",
              "      <td>.</td>\n",
              "      <td>2100003654</td>\n",
              "      <td>2100003682</td>\n",
              "      <td>4500415855</td>\n",
              "      <td>...</td>\n",
              "      <td>Makineleşme</td>\n",
              "      <td>2990.0</td>\n",
              "      <td>TSM IS Limited Sirketi</td>\n",
              "      <td>MZ-3076</td>\n",
              "      <td>РАЗЛИЧНАЯ СОЛЯРКА</td>\n",
              "      <td>NaN</td>\n",
              "      <td>2994.0</td>\n",
              "      <td>29A2</td>\n",
              "      <td>NaN</td>\n",
              "      <td>FUEL</td>\n",
              "    </tr>\n",
              "  </tbody>\n",
              "</table>\n",
              "<p>2 rows × 34 columns</p>\n",
              "</div>\n",
              "    <div class=\"colab-df-buttons\">\n",
              "\n",
              "  <div class=\"colab-df-container\">\n",
              "    <button class=\"colab-df-convert\" onclick=\"convertToInteractive('df-5827c19a-8815-45e7-9395-636c15f19c0d')\"\n",
              "            title=\"Convert this dataframe to an interactive table.\"\n",
              "            style=\"display:none;\">\n",
              "\n",
              "  <svg xmlns=\"http://www.w3.org/2000/svg\" height=\"24px\" viewBox=\"0 -960 960 960\">\n",
              "    <path d=\"M120-120v-720h720v720H120Zm60-500h600v-160H180v160Zm220 220h160v-160H400v160Zm0 220h160v-160H400v160ZM180-400h160v-160H180v160Zm440 0h160v-160H620v160ZM180-180h160v-160H180v160Zm440 0h160v-160H620v160Z\"/>\n",
              "  </svg>\n",
              "    </button>\n",
              "\n",
              "  <style>\n",
              "    .colab-df-container {\n",
              "      display:flex;\n",
              "      gap: 12px;\n",
              "    }\n",
              "\n",
              "    .colab-df-convert {\n",
              "      background-color: #E8F0FE;\n",
              "      border: none;\n",
              "      border-radius: 50%;\n",
              "      cursor: pointer;\n",
              "      display: none;\n",
              "      fill: #1967D2;\n",
              "      height: 32px;\n",
              "      padding: 0 0 0 0;\n",
              "      width: 32px;\n",
              "    }\n",
              "\n",
              "    .colab-df-convert:hover {\n",
              "      background-color: #E2EBFA;\n",
              "      box-shadow: 0px 1px 2px rgba(60, 64, 67, 0.3), 0px 1px 3px 1px rgba(60, 64, 67, 0.15);\n",
              "      fill: #174EA6;\n",
              "    }\n",
              "\n",
              "    .colab-df-buttons div {\n",
              "      margin-bottom: 4px;\n",
              "    }\n",
              "\n",
              "    [theme=dark] .colab-df-convert {\n",
              "      background-color: #3B4455;\n",
              "      fill: #D2E3FC;\n",
              "    }\n",
              "\n",
              "    [theme=dark] .colab-df-convert:hover {\n",
              "      background-color: #434B5C;\n",
              "      box-shadow: 0px 1px 3px 1px rgba(0, 0, 0, 0.15);\n",
              "      filter: drop-shadow(0px 1px 2px rgba(0, 0, 0, 0.3));\n",
              "      fill: #FFFFFF;\n",
              "    }\n",
              "  </style>\n",
              "\n",
              "    <script>\n",
              "      const buttonEl =\n",
              "        document.querySelector('#df-5827c19a-8815-45e7-9395-636c15f19c0d button.colab-df-convert');\n",
              "      buttonEl.style.display =\n",
              "        google.colab.kernel.accessAllowed ? 'block' : 'none';\n",
              "\n",
              "      async function convertToInteractive(key) {\n",
              "        const element = document.querySelector('#df-5827c19a-8815-45e7-9395-636c15f19c0d');\n",
              "        const dataTable =\n",
              "          await google.colab.kernel.invokeFunction('convertToInteractive',\n",
              "                                                    [key], {});\n",
              "        if (!dataTable) return;\n",
              "\n",
              "        const docLinkHtml = 'Like what you see? Visit the ' +\n",
              "          '<a target=\"_blank\" href=https://colab.research.google.com/notebooks/data_table.ipynb>data table notebook</a>'\n",
              "          + ' to learn more about interactive tables.';\n",
              "        element.innerHTML = '';\n",
              "        dataTable['output_type'] = 'display_data';\n",
              "        await google.colab.output.renderOutput(dataTable, element);\n",
              "        const docLink = document.createElement('div');\n",
              "        docLink.innerHTML = docLinkHtml;\n",
              "        element.appendChild(docLink);\n",
              "      }\n",
              "    </script>\n",
              "  </div>\n",
              "\n",
              "\n",
              "    <div id=\"df-953ae20e-e442-403c-80d2-4bc0227bdc69\">\n",
              "      <button class=\"colab-df-quickchart\" onclick=\"quickchart('df-953ae20e-e442-403c-80d2-4bc0227bdc69')\"\n",
              "                title=\"Suggest charts\"\n",
              "                style=\"display:none;\">\n",
              "\n",
              "<svg xmlns=\"http://www.w3.org/2000/svg\" height=\"24px\"viewBox=\"0 0 24 24\"\n",
              "     width=\"24px\">\n",
              "    <g>\n",
              "        <path d=\"M19 3H5c-1.1 0-2 .9-2 2v14c0 1.1.9 2 2 2h14c1.1 0 2-.9 2-2V5c0-1.1-.9-2-2-2zM9 17H7v-7h2v7zm4 0h-2V7h2v10zm4 0h-2v-4h2v4z\"/>\n",
              "    </g>\n",
              "</svg>\n",
              "      </button>\n",
              "\n",
              "<style>\n",
              "  .colab-df-quickchart {\n",
              "      --bg-color: #E8F0FE;\n",
              "      --fill-color: #1967D2;\n",
              "      --hover-bg-color: #E2EBFA;\n",
              "      --hover-fill-color: #174EA6;\n",
              "      --disabled-fill-color: #AAA;\n",
              "      --disabled-bg-color: #DDD;\n",
              "  }\n",
              "\n",
              "  [theme=dark] .colab-df-quickchart {\n",
              "      --bg-color: #3B4455;\n",
              "      --fill-color: #D2E3FC;\n",
              "      --hover-bg-color: #434B5C;\n",
              "      --hover-fill-color: #FFFFFF;\n",
              "      --disabled-bg-color: #3B4455;\n",
              "      --disabled-fill-color: #666;\n",
              "  }\n",
              "\n",
              "  .colab-df-quickchart {\n",
              "    background-color: var(--bg-color);\n",
              "    border: none;\n",
              "    border-radius: 50%;\n",
              "    cursor: pointer;\n",
              "    display: none;\n",
              "    fill: var(--fill-color);\n",
              "    height: 32px;\n",
              "    padding: 0;\n",
              "    width: 32px;\n",
              "  }\n",
              "\n",
              "  .colab-df-quickchart:hover {\n",
              "    background-color: var(--hover-bg-color);\n",
              "    box-shadow: 0 1px 2px rgba(60, 64, 67, 0.3), 0 1px 3px 1px rgba(60, 64, 67, 0.15);\n",
              "    fill: var(--button-hover-fill-color);\n",
              "  }\n",
              "\n",
              "  .colab-df-quickchart-complete:disabled,\n",
              "  .colab-df-quickchart-complete:disabled:hover {\n",
              "    background-color: var(--disabled-bg-color);\n",
              "    fill: var(--disabled-fill-color);\n",
              "    box-shadow: none;\n",
              "  }\n",
              "\n",
              "  .colab-df-spinner {\n",
              "    border: 2px solid var(--fill-color);\n",
              "    border-color: transparent;\n",
              "    border-bottom-color: var(--fill-color);\n",
              "    animation:\n",
              "      spin 1s steps(1) infinite;\n",
              "  }\n",
              "\n",
              "  @keyframes spin {\n",
              "    0% {\n",
              "      border-color: transparent;\n",
              "      border-bottom-color: var(--fill-color);\n",
              "      border-left-color: var(--fill-color);\n",
              "    }\n",
              "    20% {\n",
              "      border-color: transparent;\n",
              "      border-left-color: var(--fill-color);\n",
              "      border-top-color: var(--fill-color);\n",
              "    }\n",
              "    30% {\n",
              "      border-color: transparent;\n",
              "      border-left-color: var(--fill-color);\n",
              "      border-top-color: var(--fill-color);\n",
              "      border-right-color: var(--fill-color);\n",
              "    }\n",
              "    40% {\n",
              "      border-color: transparent;\n",
              "      border-right-color: var(--fill-color);\n",
              "      border-top-color: var(--fill-color);\n",
              "    }\n",
              "    60% {\n",
              "      border-color: transparent;\n",
              "      border-right-color: var(--fill-color);\n",
              "    }\n",
              "    80% {\n",
              "      border-color: transparent;\n",
              "      border-right-color: var(--fill-color);\n",
              "      border-bottom-color: var(--fill-color);\n",
              "    }\n",
              "    90% {\n",
              "      border-color: transparent;\n",
              "      border-bottom-color: var(--fill-color);\n",
              "    }\n",
              "  }\n",
              "</style>\n",
              "\n",
              "      <script>\n",
              "        async function quickchart(key) {\n",
              "          const quickchartButtonEl =\n",
              "            document.querySelector('#' + key + ' button');\n",
              "          quickchartButtonEl.disabled = true;  // To prevent multiple clicks.\n",
              "          quickchartButtonEl.classList.add('colab-df-spinner');\n",
              "          try {\n",
              "            const charts = await google.colab.kernel.invokeFunction(\n",
              "                'suggestCharts', [key], {});\n",
              "          } catch (error) {\n",
              "            console.error('Error during call to suggestCharts:', error);\n",
              "          }\n",
              "          quickchartButtonEl.classList.remove('colab-df-spinner');\n",
              "          quickchartButtonEl.classList.add('colab-df-quickchart-complete');\n",
              "        }\n",
              "        (() => {\n",
              "          let quickchartButtonEl =\n",
              "            document.querySelector('#df-953ae20e-e442-403c-80d2-4bc0227bdc69 button');\n",
              "          quickchartButtonEl.style.display =\n",
              "            google.colab.kernel.accessAllowed ? 'block' : 'none';\n",
              "        })();\n",
              "      </script>\n",
              "    </div>\n",
              "\n",
              "    </div>\n",
              "  </div>\n"
            ],
            "application/vnd.google.colaboratory.intrinsic+json": {
              "type": "dataframe"
            }
          },
          "metadata": {},
          "execution_count": 92
        }
      ]
    },
    {
      "cell_type": "code",
      "source": [
        "df_me2n_2022_2025.tail(2)"
      ],
      "metadata": {
        "id": "DQ-XCBj4v-7C",
        "outputId": "69031f4d-7505-4bec-c41d-2dbf412ef132",
        "colab": {
          "base_uri": "https://localhost:8080/",
          "height": 318
        }
      },
      "execution_count": 95,
      "outputs": [
        {
          "output_type": "execute_result",
          "data": {
            "text/plain": [
              "         Год Документ_закупки Зп_Поз Индикатор удаления Дата документа  \\\n",
              "294344  2025       4500000025     10                  L     17.04.2025   \n",
              "294345  2025       4500000025     20                  L     17.04.2025   \n",
              "\n",
              "       Наш знак     Ваш код                Имя поставщика  Закуп. организация  \\\n",
              "294344        .  2100003654  1000006423 PETROL OFİSİ A.Ş.                2994   \n",
              "294345        .  2100003654  1000006423 PETROL OFİSİ A.Ş.                2994   \n",
              "\n",
              "            Заявка  ...                            Краткий текст Единица цены  \\\n",
              "294344  2100003682  ...  KURŞUNSUZ BENZİN 95 V/MAX  PETROL OFISI        100.0   \n",
              "294345  2100003682  ...               DİZEL  V/MAX  PETROL OFISI        100.0   \n",
              "\n",
              "       Открытая стоимость Номер потребности Дата поставки Число позиций  \\\n",
              "294344               0,00               NaN     1.06.2025             1   \n",
              "294345               0,00               NaN     1.06.2025             1   \n",
              "\n",
              "       История заказа на поставку/ДокумПоОтзыв Склад ЕИ заказа на постав.  \\\n",
              "294344                                     NaN  FUEL                    Л   \n",
              "294345                                     NaN  FUEL                    Л   \n",
              "\n",
              "        ZP-ZPPOZ_me2n  \n",
              "294344  4500000025_10  \n",
              "294345  4500000025_20  \n",
              "\n",
              "[2 rows x 33 columns]"
            ],
            "text/html": [
              "\n",
              "  <div id=\"df-22c9b584-6f3b-49b3-ac05-6c5dc1829fe5\" class=\"colab-df-container\">\n",
              "    <div>\n",
              "<style scoped>\n",
              "    .dataframe tbody tr th:only-of-type {\n",
              "        vertical-align: middle;\n",
              "    }\n",
              "\n",
              "    .dataframe tbody tr th {\n",
              "        vertical-align: top;\n",
              "    }\n",
              "\n",
              "    .dataframe thead th {\n",
              "        text-align: right;\n",
              "    }\n",
              "</style>\n",
              "<table border=\"1\" class=\"dataframe\">\n",
              "  <thead>\n",
              "    <tr style=\"text-align: right;\">\n",
              "      <th></th>\n",
              "      <th>Год</th>\n",
              "      <th>Документ_закупки</th>\n",
              "      <th>Зп_Поз</th>\n",
              "      <th>Индикатор удаления</th>\n",
              "      <th>Дата документа</th>\n",
              "      <th>Наш знак</th>\n",
              "      <th>Ваш код</th>\n",
              "      <th>Имя поставщика</th>\n",
              "      <th>Закуп. организация</th>\n",
              "      <th>Заявка</th>\n",
              "      <th>...</th>\n",
              "      <th>Краткий текст</th>\n",
              "      <th>Единица цены</th>\n",
              "      <th>Открытая стоимость</th>\n",
              "      <th>Номер потребности</th>\n",
              "      <th>Дата поставки</th>\n",
              "      <th>Число позиций</th>\n",
              "      <th>История заказа на поставку/ДокумПоОтзыв</th>\n",
              "      <th>Склад</th>\n",
              "      <th>ЕИ заказа на постав.</th>\n",
              "      <th>ZP-ZPPOZ_me2n</th>\n",
              "    </tr>\n",
              "  </thead>\n",
              "  <tbody>\n",
              "    <tr>\n",
              "      <th>294344</th>\n",
              "      <td>2025</td>\n",
              "      <td>4500000025</td>\n",
              "      <td>10</td>\n",
              "      <td>L</td>\n",
              "      <td>17.04.2025</td>\n",
              "      <td>.</td>\n",
              "      <td>2100003654</td>\n",
              "      <td>1000006423 PETROL OFİSİ A.Ş.</td>\n",
              "      <td>2994</td>\n",
              "      <td>2100003682</td>\n",
              "      <td>...</td>\n",
              "      <td>KURŞUNSUZ BENZİN 95 V/MAX  PETROL OFISI</td>\n",
              "      <td>100.0</td>\n",
              "      <td>0,00</td>\n",
              "      <td>NaN</td>\n",
              "      <td>1.06.2025</td>\n",
              "      <td>1</td>\n",
              "      <td>NaN</td>\n",
              "      <td>FUEL</td>\n",
              "      <td>Л</td>\n",
              "      <td>4500000025_10</td>\n",
              "    </tr>\n",
              "    <tr>\n",
              "      <th>294345</th>\n",
              "      <td>2025</td>\n",
              "      <td>4500000025</td>\n",
              "      <td>20</td>\n",
              "      <td>L</td>\n",
              "      <td>17.04.2025</td>\n",
              "      <td>.</td>\n",
              "      <td>2100003654</td>\n",
              "      <td>1000006423 PETROL OFİSİ A.Ş.</td>\n",
              "      <td>2994</td>\n",
              "      <td>2100003682</td>\n",
              "      <td>...</td>\n",
              "      <td>DİZEL  V/MAX  PETROL OFISI</td>\n",
              "      <td>100.0</td>\n",
              "      <td>0,00</td>\n",
              "      <td>NaN</td>\n",
              "      <td>1.06.2025</td>\n",
              "      <td>1</td>\n",
              "      <td>NaN</td>\n",
              "      <td>FUEL</td>\n",
              "      <td>Л</td>\n",
              "      <td>4500000025_20</td>\n",
              "    </tr>\n",
              "  </tbody>\n",
              "</table>\n",
              "<p>2 rows × 33 columns</p>\n",
              "</div>\n",
              "    <div class=\"colab-df-buttons\">\n",
              "\n",
              "  <div class=\"colab-df-container\">\n",
              "    <button class=\"colab-df-convert\" onclick=\"convertToInteractive('df-22c9b584-6f3b-49b3-ac05-6c5dc1829fe5')\"\n",
              "            title=\"Convert this dataframe to an interactive table.\"\n",
              "            style=\"display:none;\">\n",
              "\n",
              "  <svg xmlns=\"http://www.w3.org/2000/svg\" height=\"24px\" viewBox=\"0 -960 960 960\">\n",
              "    <path d=\"M120-120v-720h720v720H120Zm60-500h600v-160H180v160Zm220 220h160v-160H400v160Zm0 220h160v-160H400v160ZM180-400h160v-160H180v160Zm440 0h160v-160H620v160ZM180-180h160v-160H180v160Zm440 0h160v-160H620v160Z\"/>\n",
              "  </svg>\n",
              "    </button>\n",
              "\n",
              "  <style>\n",
              "    .colab-df-container {\n",
              "      display:flex;\n",
              "      gap: 12px;\n",
              "    }\n",
              "\n",
              "    .colab-df-convert {\n",
              "      background-color: #E8F0FE;\n",
              "      border: none;\n",
              "      border-radius: 50%;\n",
              "      cursor: pointer;\n",
              "      display: none;\n",
              "      fill: #1967D2;\n",
              "      height: 32px;\n",
              "      padding: 0 0 0 0;\n",
              "      width: 32px;\n",
              "    }\n",
              "\n",
              "    .colab-df-convert:hover {\n",
              "      background-color: #E2EBFA;\n",
              "      box-shadow: 0px 1px 2px rgba(60, 64, 67, 0.3), 0px 1px 3px 1px rgba(60, 64, 67, 0.15);\n",
              "      fill: #174EA6;\n",
              "    }\n",
              "\n",
              "    .colab-df-buttons div {\n",
              "      margin-bottom: 4px;\n",
              "    }\n",
              "\n",
              "    [theme=dark] .colab-df-convert {\n",
              "      background-color: #3B4455;\n",
              "      fill: #D2E3FC;\n",
              "    }\n",
              "\n",
              "    [theme=dark] .colab-df-convert:hover {\n",
              "      background-color: #434B5C;\n",
              "      box-shadow: 0px 1px 3px 1px rgba(0, 0, 0, 0.15);\n",
              "      filter: drop-shadow(0px 1px 2px rgba(0, 0, 0, 0.3));\n",
              "      fill: #FFFFFF;\n",
              "    }\n",
              "  </style>\n",
              "\n",
              "    <script>\n",
              "      const buttonEl =\n",
              "        document.querySelector('#df-22c9b584-6f3b-49b3-ac05-6c5dc1829fe5 button.colab-df-convert');\n",
              "      buttonEl.style.display =\n",
              "        google.colab.kernel.accessAllowed ? 'block' : 'none';\n",
              "\n",
              "      async function convertToInteractive(key) {\n",
              "        const element = document.querySelector('#df-22c9b584-6f3b-49b3-ac05-6c5dc1829fe5');\n",
              "        const dataTable =\n",
              "          await google.colab.kernel.invokeFunction('convertToInteractive',\n",
              "                                                    [key], {});\n",
              "        if (!dataTable) return;\n",
              "\n",
              "        const docLinkHtml = 'Like what you see? Visit the ' +\n",
              "          '<a target=\"_blank\" href=https://colab.research.google.com/notebooks/data_table.ipynb>data table notebook</a>'\n",
              "          + ' to learn more about interactive tables.';\n",
              "        element.innerHTML = '';\n",
              "        dataTable['output_type'] = 'display_data';\n",
              "        await google.colab.output.renderOutput(dataTable, element);\n",
              "        const docLink = document.createElement('div');\n",
              "        docLink.innerHTML = docLinkHtml;\n",
              "        element.appendChild(docLink);\n",
              "      }\n",
              "    </script>\n",
              "  </div>\n",
              "\n",
              "\n",
              "    <div id=\"df-99b46488-45a7-4a0a-9d2e-33cd33878fb2\">\n",
              "      <button class=\"colab-df-quickchart\" onclick=\"quickchart('df-99b46488-45a7-4a0a-9d2e-33cd33878fb2')\"\n",
              "                title=\"Suggest charts\"\n",
              "                style=\"display:none;\">\n",
              "\n",
              "<svg xmlns=\"http://www.w3.org/2000/svg\" height=\"24px\"viewBox=\"0 0 24 24\"\n",
              "     width=\"24px\">\n",
              "    <g>\n",
              "        <path d=\"M19 3H5c-1.1 0-2 .9-2 2v14c0 1.1.9 2 2 2h14c1.1 0 2-.9 2-2V5c0-1.1-.9-2-2-2zM9 17H7v-7h2v7zm4 0h-2V7h2v10zm4 0h-2v-4h2v4z\"/>\n",
              "    </g>\n",
              "</svg>\n",
              "      </button>\n",
              "\n",
              "<style>\n",
              "  .colab-df-quickchart {\n",
              "      --bg-color: #E8F0FE;\n",
              "      --fill-color: #1967D2;\n",
              "      --hover-bg-color: #E2EBFA;\n",
              "      --hover-fill-color: #174EA6;\n",
              "      --disabled-fill-color: #AAA;\n",
              "      --disabled-bg-color: #DDD;\n",
              "  }\n",
              "\n",
              "  [theme=dark] .colab-df-quickchart {\n",
              "      --bg-color: #3B4455;\n",
              "      --fill-color: #D2E3FC;\n",
              "      --hover-bg-color: #434B5C;\n",
              "      --hover-fill-color: #FFFFFF;\n",
              "      --disabled-bg-color: #3B4455;\n",
              "      --disabled-fill-color: #666;\n",
              "  }\n",
              "\n",
              "  .colab-df-quickchart {\n",
              "    background-color: var(--bg-color);\n",
              "    border: none;\n",
              "    border-radius: 50%;\n",
              "    cursor: pointer;\n",
              "    display: none;\n",
              "    fill: var(--fill-color);\n",
              "    height: 32px;\n",
              "    padding: 0;\n",
              "    width: 32px;\n",
              "  }\n",
              "\n",
              "  .colab-df-quickchart:hover {\n",
              "    background-color: var(--hover-bg-color);\n",
              "    box-shadow: 0 1px 2px rgba(60, 64, 67, 0.3), 0 1px 3px 1px rgba(60, 64, 67, 0.15);\n",
              "    fill: var(--button-hover-fill-color);\n",
              "  }\n",
              "\n",
              "  .colab-df-quickchart-complete:disabled,\n",
              "  .colab-df-quickchart-complete:disabled:hover {\n",
              "    background-color: var(--disabled-bg-color);\n",
              "    fill: var(--disabled-fill-color);\n",
              "    box-shadow: none;\n",
              "  }\n",
              "\n",
              "  .colab-df-spinner {\n",
              "    border: 2px solid var(--fill-color);\n",
              "    border-color: transparent;\n",
              "    border-bottom-color: var(--fill-color);\n",
              "    animation:\n",
              "      spin 1s steps(1) infinite;\n",
              "  }\n",
              "\n",
              "  @keyframes spin {\n",
              "    0% {\n",
              "      border-color: transparent;\n",
              "      border-bottom-color: var(--fill-color);\n",
              "      border-left-color: var(--fill-color);\n",
              "    }\n",
              "    20% {\n",
              "      border-color: transparent;\n",
              "      border-left-color: var(--fill-color);\n",
              "      border-top-color: var(--fill-color);\n",
              "    }\n",
              "    30% {\n",
              "      border-color: transparent;\n",
              "      border-left-color: var(--fill-color);\n",
              "      border-top-color: var(--fill-color);\n",
              "      border-right-color: var(--fill-color);\n",
              "    }\n",
              "    40% {\n",
              "      border-color: transparent;\n",
              "      border-right-color: var(--fill-color);\n",
              "      border-top-color: var(--fill-color);\n",
              "    }\n",
              "    60% {\n",
              "      border-color: transparent;\n",
              "      border-right-color: var(--fill-color);\n",
              "    }\n",
              "    80% {\n",
              "      border-color: transparent;\n",
              "      border-right-color: var(--fill-color);\n",
              "      border-bottom-color: var(--fill-color);\n",
              "    }\n",
              "    90% {\n",
              "      border-color: transparent;\n",
              "      border-bottom-color: var(--fill-color);\n",
              "    }\n",
              "  }\n",
              "</style>\n",
              "\n",
              "      <script>\n",
              "        async function quickchart(key) {\n",
              "          const quickchartButtonEl =\n",
              "            document.querySelector('#' + key + ' button');\n",
              "          quickchartButtonEl.disabled = true;  // To prevent multiple clicks.\n",
              "          quickchartButtonEl.classList.add('colab-df-spinner');\n",
              "          try {\n",
              "            const charts = await google.colab.kernel.invokeFunction(\n",
              "                'suggestCharts', [key], {});\n",
              "          } catch (error) {\n",
              "            console.error('Error during call to suggestCharts:', error);\n",
              "          }\n",
              "          quickchartButtonEl.classList.remove('colab-df-spinner');\n",
              "          quickchartButtonEl.classList.add('colab-df-quickchart-complete');\n",
              "        }\n",
              "        (() => {\n",
              "          let quickchartButtonEl =\n",
              "            document.querySelector('#df-99b46488-45a7-4a0a-9d2e-33cd33878fb2 button');\n",
              "          quickchartButtonEl.style.display =\n",
              "            google.colab.kernel.accessAllowed ? 'block' : 'none';\n",
              "        })();\n",
              "      </script>\n",
              "    </div>\n",
              "\n",
              "    </div>\n",
              "  </div>\n"
            ],
            "application/vnd.google.colaboratory.intrinsic+json": {
              "type": "dataframe"
            }
          },
          "metadata": {},
          "execution_count": 95
        }
      ]
    },
    {
      "cell_type": "code",
      "source": [
        "#XLSX formatında kaydetme\n",
        "df_yazdir.to_excel(\"sonuc.xlsx\", index=False, engine=\"xlsxwriter\")\n",
        "#df_calisilan.to_excel(\"zmm059_2022_2025_temiz.xlsx\", index=False, engine=\"xlsxwriter\")\n",
        "#df_calisilan.to_excel(\"zmm059_2022_2025_temiz.xlsx\",index=False)\n",
        "#df_zmm059_2022_temiz.to_excel(\"zmm059_2022_temiz.xlsx\", index=False)\n",
        "#df_zmm059_2023_temiz.to_excel(\"zmm059_2023_temiz.xlsx\", index=False)\n",
        "#df_zmm059_2024_temiz.to_excel(\"zmm059_2024_temiz.xlsx\", index=False)\n",
        "#df_zmm059_2025_temiz.to_excel(\"zmm059_2025_temiz.xlsx\", index=False)"
      ],
      "metadata": {
        "id": "ipZdM6BKLs5B"
      },
      "execution_count": 93,
      "outputs": []
    },
    {
      "cell_type": "markdown",
      "source": [
        "excelleri indirmek için kullan"
      ],
      "metadata": {
        "id": "OGEMqtKt-9SO"
      }
    },
    {
      "cell_type": "code",
      "source": [
        "# Dosyayı indir\n",
        "files.download(\"sonuc.xlsx\")\n",
        "#files.download(\"zmm059_2022_2025_temiz.xlsx\")\n",
        "#files.download(\"zmm059_2022_temiz.xlsx\")\n",
        "#files.download(\"zmm059_2023_temiz.xlsx\")\n",
        "#files.download(\"zmm059_2024_temiz.xlsx\")\n",
        "#files.download(\"zmm059_2025_temiz.xlsx\")\n",
        "#files.download(\"zmm059_2022_2025_temizsutunsuz.csv\")"
      ],
      "metadata": {
        "colab": {
          "base_uri": "https://localhost:8080/",
          "height": 17
        },
        "id": "ZNtGv3o--33H",
        "outputId": "8e633e68-4300-4a3b-fc56-b5c73122de32"
      },
      "execution_count": 94,
      "outputs": [
        {
          "output_type": "display_data",
          "data": {
            "text/plain": [
              "<IPython.core.display.Javascript object>"
            ],
            "application/javascript": [
              "\n",
              "    async function download(id, filename, size) {\n",
              "      if (!google.colab.kernel.accessAllowed) {\n",
              "        return;\n",
              "      }\n",
              "      const div = document.createElement('div');\n",
              "      const label = document.createElement('label');\n",
              "      label.textContent = `Downloading \"${filename}\": `;\n",
              "      div.appendChild(label);\n",
              "      const progress = document.createElement('progress');\n",
              "      progress.max = size;\n",
              "      div.appendChild(progress);\n",
              "      document.body.appendChild(div);\n",
              "\n",
              "      const buffers = [];\n",
              "      let downloaded = 0;\n",
              "\n",
              "      const channel = await google.colab.kernel.comms.open(id);\n",
              "      // Send a message to notify the kernel that we're ready.\n",
              "      channel.send({})\n",
              "\n",
              "      for await (const message of channel.messages) {\n",
              "        // Send a message to notify the kernel that we're ready.\n",
              "        channel.send({})\n",
              "        if (message.buffers) {\n",
              "          for (const buffer of message.buffers) {\n",
              "            buffers.push(buffer);\n",
              "            downloaded += buffer.byteLength;\n",
              "            progress.value = downloaded;\n",
              "          }\n",
              "        }\n",
              "      }\n",
              "      const blob = new Blob(buffers, {type: 'application/binary'});\n",
              "      const a = document.createElement('a');\n",
              "      a.href = window.URL.createObjectURL(blob);\n",
              "      a.download = filename;\n",
              "      div.appendChild(a);\n",
              "      a.click();\n",
              "      div.remove();\n",
              "    }\n",
              "  "
            ]
          },
          "metadata": {}
        },
        {
          "output_type": "display_data",
          "data": {
            "text/plain": [
              "<IPython.core.display.Javascript object>"
            ],
            "application/javascript": [
              "download(\"download_a70e4a91-907f-4ada-b4d1-afc9867af671\", \"sonuc.xlsx\", 38930888)"
            ]
          },
          "metadata": {}
        }
      ]
    },
    {
      "cell_type": "code",
      "source": [],
      "metadata": {
        "id": "sMAAIQwH_nXq"
      },
      "execution_count": 94,
      "outputs": []
    }
  ],
  "metadata": {
    "colab": {
      "name": "Welcome To Colab",
      "provenance": [],
      "include_colab_link": true
    },
    "kernelspec": {
      "display_name": "Python 3",
      "name": "python3"
    }
  },
  "nbformat": 4,
  "nbformat_minor": 0
}